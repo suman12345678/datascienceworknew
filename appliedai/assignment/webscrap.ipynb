{
 "cells": [
  {
   "cell_type": "code",
   "execution_count": 14,
   "metadata": {},
   "outputs": [],
   "source": [
    "from bs4 import BeautifulSoup \n",
    "import requests\n",
    "import lxml\n",
    "import urllib\n",
    "url='https://www.newegg.com/Product/ProductList.aspx?Submit=ENE&N=-1&IsNodeId=1&Description=graphic&page=4&bop=And&PageSize=36&order=BESTMATCH'\n",
    "\n",
    "import requests\n",
    "username = 'suman.ju06@gmail.com'\n",
    "password = '******'\n",
    "#page=requests.get(url, auth=(username, password)).content\n",
    "page=urllib.request.urlopen(url)\n",
    "page_html=page.read()\n",
    "page.close()"
   ]
  },
  {
   "cell_type": "code",
   "execution_count": 15,
   "metadata": {},
   "outputs": [
    {
     "data": {
      "text/plain": [
       "<h1 class=\"page-title-text\">\"graphic\"</h1>"
      ]
     },
     "execution_count": 15,
     "metadata": {},
     "output_type": "execute_result"
    }
   ],
   "source": [
    "#https://www.youtube.com/watch?v=ng2o98k983k\n",
    "page_soup=BeautifulSoup(page_html,'html.parser')\n",
    "page_soup.h1        "
   ]
  },
  {
   "cell_type": "code",
   "execution_count": 17,
   "metadata": {},
   "outputs": [
    {
     "data": {
      "text/plain": [
       "<div class=\"item-container \">\n",
       "<!--product image-->\n",
       "<a class=\"item-img\" href=\"https://www.newegg.com/Product/Product.aspx?Item=9SIAE8D88J9356&amp;cm_re=graphic-_-9SIAE8D88J9356-_-Product\">\n",
       "<img alt='EVGA GeForce GTX TITAN X 12G-P4-1999-KR 12GB HYBRID GAMING, \"All in One\" No Hassle Water Cooling, Just Plug and Play Graphics Card' src=\"//c1.neweggimages.com/NeweggImage/ProductImageCompressAll300/14-487-143-09.jpg\" title='EVGA GeForce GTX TITAN X 12G-P4-1999-KR 12GB HYBRID GAMING, \"All in One\" No Hassle Water Cooling, Just Plug and Play Graphics Card'/>\n",
       "</a>\n",
       "<div class=\"item-info\">\n",
       "<!--brand info-->\n",
       "<div class=\"item-branding\">\n",
       "<a class=\"item-brand\" href=\"https://www.newegg.com/EVGA/BrandStore/ID-1402\">\n",
       "<img alt=\"EVGA\" src=\"//c1.neweggimages.com/Brandimage_70x28//Brand1402.gif\" title=\"EVGA\"/>\n",
       "</a>\n",
       "<!--rating info-->\n",
       "<a class=\"item-rating\" href=\"https://www.newegg.com/Product/Product.aspx?Item=9SIAE8D88J9356&amp;SortField=0&amp;SummaryType=0&amp;PageSize=36&amp;SelectedRating=-1&amp;VideoOnlyMark=False&amp;ignorebbr=1&amp;IsFeedbackTab=true#scrollFullInfo\" title=\"Rating + 5\"><i class=\"rating rating-5\"></i><span class=\"item-rating-num\">(12)</span></a>\n",
       "</div>\n",
       "<!--description info-->\n",
       "<a class=\"item-title\" href=\"https://www.newegg.com/Product/Product.aspx?Item=9SIAE8D88J9356&amp;cm_re=graphic-_-9SIAE8D88J9356-_-Product\" title=\"View Details\">EVGA GeForce GTX TITAN X 12G-P4-1999-KR 12GB HYBRID GAMING, \"All in One\" No Hassle Water Cooling, Just Plug and Play Graphics Card</a>\n",
       "<!--promption info-->\n",
       "<p class=\"item-promo\"></p>\n",
       "<!--feature-->\n",
       "<ul class=\"item-features\">\n",
       "<li><strong>Core Clock:</strong> 1152 MHz</li><li><strong>Max Resolution:</strong> Analog: 2048 x 1536\n",
       "Digital: 4096 x 2160</li><li><strong>DisplayPort:</strong> 3 x DisplayPort</li><li><strong>DVI:</strong> 1 x DVI-I</li>\n",
       "<li><strong>Model #: </strong>12G-P4-1999-KR</li>\n",
       "<li><strong>Item #: </strong>9SIAE8D88J9356</li>\n",
       "<li><strong>Return Policy: </strong><a href=\"https://www.newegg.com/Mktplace/SellerProfile.aspx?SellerID=AE8D#policy\" target=\"_blank\" title=\"View Return Policy(new window)\">View Return Policy</a></li>\n",
       "</ul>\n",
       "<div class=\"item-action\">\n",
       "<!--price-->\n",
       "<ul class=\"price \">\n",
       "<li class=\"price-was\">\n",
       "</li>\n",
       "<li class=\"price-map\">\n",
       "</li>\n",
       "<li class=\"price-current\">\n",
       "<span class=\"price-current-label\">\n",
       "</span>$<strong>1,150</strong><sup>.00</sup> \n",
       "            <span class=\"price-current-range\">\n",
       "<abbr title=\"to\">–</abbr>\n",
       "</span>\n",
       "</li>\n",
       "<li class=\"price-save \">\n",
       "<span class=\"price-save-endtime price-save-endtime-current\"></span>\n",
       "<span class=\"price-save-endtime price-save-endtime-another\" style=\"display:none;\"></span>\n",
       "</li>\n",
       "<li class=\"price-note\">\n",
       "</li>\n",
       "<li class=\"price-ship\">\n",
       "        Free Shipping\n",
       "    </li>\n",
       "</ul>\n",
       "<!--egg point-->\n",
       "<!--financing-->\n",
       "<!--button-->\n",
       "<div class=\"item-operate \">\n",
       "<div class=\"item-button-area\">\n",
       "<button class=\"btn btn-mini btn-primary\" onclick=\"Biz.Product.video.conversion('','9SIAE8D88J9356','1');Javascript:Biz.ProductList.Item.add('https://secure.newegg.com/Shopping/AddToCart.aspx?Submit=ADD&amp;ItemList=9SIAE8D88J9356');\" title='Add EVGA GeForce GTX TITAN X 12G-P4-1999-KR 12GB HYBRID GAMING, \"All in One\" No Hassle Water Cooling, Just Plug and Play Graphics Card to cart' type=\"button\">Add To Cart <i class=\"fa fa-caret-right\"></i></button>\n",
       "</div>\n",
       "<!--compare-->\n",
       "<div class=\"item-compare-box\">\n",
       "<label class=\"form-checkbox\">\n",
       "<input aria-labelledby=\"checkbox_compare\" autocomplete=\"off\" id=\"CompareItem_9SIAE8D88J9356\" name=\"CompareItem\" neg-itemnumber=\"9SIAE8D88J9356\" type=\"checkbox\" value=\"CompareItem_9SIAE8D88J9356\"/>\n",
       "<span class=\"form-checkbox-title\">Compare</span>\n",
       "</label>\n",
       "</div>\n",
       "<script type=\"text/javascript\">\n",
       "                        Biz.Product.CompareConfig.compareItems.push(\"9SIAE8D88J9356\");\n",
       "                        var itemThumbs = new Object();\n",
       "                        itemThumbs.itemNumber = \"9SIAE8D88J9356\";\n",
       "                        itemThumbs.imageUrl = \"//c1.neweggimages.com/ProductImageCompressAll35/14-487-143-09.jpg\";\n",
       "                        Biz.Product.CompareConfig.Thumbs.push(itemThumbs);\n",
       "                    </script>\n",
       "</div>\n",
       "</div>\n",
       "</div>\n",
       "</div>"
      ]
     },
     "execution_count": 17,
     "metadata": {},
     "output_type": "execute_result"
    }
   ],
   "source": [
    "# see one item inspect\n",
    "# title of item is under <a> that is under div class=\"item-branding\" that is under div class=\"item-info\" that us under div class \"item-container\"\n",
    "#item-container contains all items. once done with one item-containers loop through all\n",
    "#find all div where class =item-container. from ispect: div class =\"item-container\"\n",
    "containers=page_soup.findAll(\"div\",{\"class\":\"item-container\"})\n",
    "len(containers) # this is 36 that is 4th page items no\n",
    "#check 1st item\n",
    "containers[0]"
   ]
  },
  {
   "cell_type": "code",
   "execution_count": 24,
   "metadata": {},
   "outputs": [
    {
     "data": {
      "text/plain": [
       "<img alt=\"EVGA\" src=\"//c1.neweggimages.com/Brandimage_70x28//Brand1402.gif\" title=\"EVGA\"/>"
      ]
     },
     "execution_count": 24,
     "metadata": {},
     "output_type": "execute_result"
    }
   ],
   "source": [
    "# Now there are a lot of item so we need to filter \n",
    "container=containers[0]\n",
    "#we can type container.a to get tag of a. we can also do container.div.a...... to get subsections\n",
    "#below will give lowest tag i.e. img\n",
    "container.div.div.a.img\n"
   ]
  },
  {
   "cell_type": "code",
   "execution_count": 25,
   "metadata": {},
   "outputs": [
    {
     "data": {
      "text/plain": [
       "'EVGA'"
      ]
     },
     "execution_count": 25,
     "metadata": {},
     "output_type": "execute_result"
    }
   ],
   "source": [
    "#from above we need to find the title\n",
    "# the above is given as dictionary\n",
    "title=container.div.div.a.img[\"title\"]"
   ]
  },
  {
   "cell_type": "code",
   "execution_count": 35,
   "metadata": {},
   "outputs": [
    {
     "data": {
      "text/plain": [
       "[<a class=\"item-title\" href=\"https://www.newegg.com/Product/Product.aspx?Item=9SIAE8D88J9356&amp;cm_re=graphic-_-9SIAE8D88J9356-_-Product\" title=\"View Details\">EVGA GeForce GTX TITAN X 12G-P4-1999-KR 12GB HYBRID GAMING, \"All in One\" No Hassle Water Cooling, Just Plug and Play Graphics Card</a>]"
      ]
     },
     "execution_count": 35,
     "metadata": {},
     "output_type": "execute_result"
    }
   ],
   "source": [
    "#lets find item title\n",
    "item_title=container.findAll(\"a\",{\"class\":\"item-title\"})\n",
    "item_title"
   ]
  },
  {
   "cell_type": "code",
   "execution_count": 36,
   "metadata": {},
   "outputs": [
    {
     "data": {
      "text/plain": [
       "<a class=\"item-title\" href=\"https://www.newegg.com/Product/Product.aspx?Item=9SIAE8D88J9356&amp;cm_re=graphic-_-9SIAE8D88J9356-_-Product\" title=\"View Details\">EVGA GeForce GTX TITAN X 12G-P4-1999-KR 12GB HYBRID GAMING, \"All in One\" No Hassle Water Cooling, Just Plug and Play Graphics Card</a>"
      ]
     },
     "execution_count": 36,
     "metadata": {},
     "output_type": "execute_result"
    }
   ],
   "source": [
    "#the above is inside list get 1st elelment\n",
    "item_title[0]"
   ]
  },
  {
   "cell_type": "code",
   "execution_count": 38,
   "metadata": {},
   "outputs": [
    {
     "data": {
      "text/plain": [
       "'EVGA GeForce GTX TITAN X 12G-P4-1999-KR 12GB HYBRID GAMING, \"All in One\" No Hassle Water Cooling, Just Plug and Play Graphics Card'"
      ]
     },
     "execution_count": 38,
     "metadata": {},
     "output_type": "execute_result"
    }
   ],
   "source": [
    "#the title is a text inside a\n",
    "item_title=item_title[0].text"
   ]
  },
  {
   "cell_type": "code",
   "execution_count": 39,
   "metadata": {},
   "outputs": [
    {
     "data": {
      "text/plain": [
       "[<li class=\"price-ship\">\n",
       "         Free Shipping\n",
       "     </li>]"
      ]
     },
     "execution_count": 39,
     "metadata": {},
     "output_type": "execute_result"
    }
   ],
   "source": [
    "#find shipping by clicking inspect on shipping i.e. under li class=\"price-ship\", so grab all\n",
    "container.findAll(\"li\",{\"class\":\"price-ship\"})"
   ]
  },
  {
   "cell_type": "code",
   "execution_count": 42,
   "metadata": {},
   "outputs": [
    {
     "data": {
      "text/plain": [
       "'Free Shipping'"
      ]
     },
     "execution_count": 42,
     "metadata": {},
     "output_type": "execute_result"
    }
   ],
   "source": [
    "#now get the text form the list\n",
    "ship_cost=container.findAll(\"li\",{\"class\":\"price-ship\"})[0].text.strip()\n",
    "ship_cost"
   ]
  },
  {
   "cell_type": "code",
   "execution_count": 46,
   "metadata": {},
   "outputs": [],
   "source": [
    "#So lets do this for all container and all page\n",
    "def processpage(url,f):\n",
    "  page=urllib.request.urlopen(url)\n",
    "  page_html=page.read()\n",
    "  page.close()\n",
    "  page_soup=BeautifulSoup(page_html,'html.parser')\n",
    "  containers=page_soup.findAll(\"div\",{\"class\":\"item-container\"})\n",
    "  for container in containers:\n",
    "    try:    \n",
    "      title=container.div.div.a.img[\"title\"]\n",
    "    except:\n",
    "      title=\"\" \n",
    "    try:\n",
    "      item_title=container.findAll(\"a\",{\"class\":\"item-title\"})\n",
    "      item_title=item_title[0].text\n",
    "    except:\n",
    "      item_title=\"\"\n",
    "    try:\n",
    "      ship_cost=container.findAll(\"li\",{\"class\":\"price-ship\"})[0].text.strip()    \n",
    "    except:\n",
    "      ship_cost=\"\"  \n",
    "    #write to a csv\n",
    "    f.write(title+\",\"+item_title.replace(\",\",\"|\")+\",\"+ship_cost+\"\\n\")  "
   ]
  },
  {
   "cell_type": "code",
   "execution_count": 48,
   "metadata": {},
   "outputs": [],
   "source": [
    "filename=\"product1.csv\"\n",
    "f=open(filename,\"w\")\n",
    "f.write(\"title,item_title,ship_cost\\n\")\n",
    "#there are 70 pages\n",
    "for i in range(70):\n",
    "  url='https://www.newegg.com/Product/ProductList.aspx?Submit=ENE&N=-1&IsNodeId=1&Description=graphic&page='+str(i)+'&bop=And&PageSize=36&order=BESTMATCH'\n",
    "  #process each url\n",
    "  processpage(url,f)\n",
    "\n",
    "f.close()"
   ]
  },
  {
   "cell_type": "code",
   "execution_count": null,
   "metadata": {},
   "outputs": [],
   "source": []
  }
 ],
 "metadata": {
  "kernelspec": {
   "display_name": "Python 3",
   "language": "python",
   "name": "python3"
  },
  "language_info": {
   "codemirror_mode": {
    "name": "ipython",
    "version": 3
   },
   "file_extension": ".py",
   "mimetype": "text/x-python",
   "name": "python",
   "nbconvert_exporter": "python",
   "pygments_lexer": "ipython3",
   "version": "3.5.5"
  }
 },
 "nbformat": 4,
 "nbformat_minor": 2
}
