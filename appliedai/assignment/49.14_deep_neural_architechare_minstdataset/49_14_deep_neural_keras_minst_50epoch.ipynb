{
  "nbformat": 4,
  "nbformat_minor": 0,
  "metadata": {
    "colab": {
      "name": "49.14_deep_neural_keras_minst_15epoch.ipynb",
      "version": "0.3.2",
      "provenance": [],
      "collapsed_sections": []
    },
    "kernelspec": {
      "display_name": "Python 3",
      "language": "python",
      "name": "python3"
    },
    "accelerator": "GPU"
  },
  "cells": [
    {
      "metadata": {
        "id": "UTJmsXnXQKbG",
        "colab_type": "text"
      },
      "cell_type": "markdown",
      "source": [
        "# Keras -- MLPs on MNIST\n",
        "## Objective\n",
        "-Try with 2,3,5 hidden layer\n",
        "\n",
        "-for each cases try dropout batch normalize use RELU activation and adam optimizer for all\n",
        "\n",
        "-For every model plot train/test against epoch"
      ]
    },
    {
      "metadata": {
        "id": "2UILABPAQKbH",
        "colab_type": "code",
        "colab": {}
      },
      "cell_type": "code",
      "source": [
        "# if you keras is not using tensorflow as backend set \"KERAS_BACKEND=tensorflow\" use this command\n",
        "from keras.utils import np_utils \n",
        "from keras.datasets import mnist \n",
        "import seaborn as sns\n",
        "from keras.initializers import RandomNormal"
      ],
      "execution_count": 0,
      "outputs": []
    },
    {
      "metadata": {
        "id": "lOO-TM_7QKbM",
        "colab_type": "code",
        "colab": {}
      },
      "cell_type": "code",
      "source": [
        "%matplotlib inline\n",
        "import matplotlib.pyplot as plt\n",
        "import numpy as np\n",
        "import time\n",
        "# https://gist.github.com/greydanus/f6eee59eaf1d90fcb3b534a25362cea4\n",
        "# https://stackoverflow.com/a/14434334\n",
        "# this function is used to update the plots for each epoch and error\n",
        "def plt_dynamic(x, vy, ty, ax, colors=['b']):\n",
        "    ax.plot(x, vy, 'b', label=\"Validation Loss\")\n",
        "    ax.plot(x, ty, 'r', label=\"Train Loss\")\n",
        "    plt.legend()\n",
        "    plt.grid()\n",
        "    fig.canvas.draw()"
      ],
      "execution_count": 0,
      "outputs": []
    },
    {
      "metadata": {
        "id": "TKmYKnibQKbQ",
        "colab_type": "code",
        "colab": {}
      },
      "cell_type": "code",
      "source": [
        "# the data, shuffled and split between train and test sets \n",
        "(X_train, y_train), (X_test, y_test) = mnist.load_data()\n"
      ],
      "execution_count": 0,
      "outputs": []
    },
    {
      "metadata": {
        "id": "CCwnZae-QKbT",
        "colab_type": "code",
        "colab": {
          "base_uri": "https://localhost:8080/",
          "height": 55
        },
        "outputId": "c2213480-fe70-4bc6-8bb6-017f0ff2e242"
      },
      "cell_type": "code",
      "source": [
        "#smuk take sample\n",
        "#X_train=X_train[0:500]\n",
        "#y_train=y_train[0:500]\n",
        "#X_test=X_test[501:600]\n",
        "#y_test=y_test[501:600]\n",
        "nb_epoch = 50\n",
        "print(\"Number of training examples :\", X_train.shape[0], \"and each image is of shape (%d, %d)\"%(X_train.shape[1], X_train.shape[2]))\n",
        "print(\"Number of training examples :\", X_test.shape[0], \"and each image is of shape (%d, %d)\"%(X_test.shape[1], X_test.shape[2]))\n"
      ],
      "execution_count": 32,
      "outputs": [
        {
          "output_type": "stream",
          "text": [
            "Number of training examples : 60000 and each image is of shape (28, 28)\n",
            "Number of training examples : 10000 and each image is of shape (28, 28)\n"
          ],
          "name": "stdout"
        }
      ]
    },
    {
      "metadata": {
        "id": "BlotuCmoQKbW",
        "colab_type": "code",
        "colab": {}
      },
      "cell_type": "code",
      "source": [
        "# if you observe the input shape its 3 dimensional vector\n",
        "# for each image we have a (28*28) vector\n",
        "# we will convert the (28*28) vector into single dimensional vector of 1 * 784 \n",
        "\n",
        "X_train = X_train.reshape(X_train.shape[0], X_train.shape[1]*X_train.shape[2]) \n",
        "X_test = X_test.reshape(X_test.shape[0], X_test.shape[1]*X_test.shape[2]) "
      ],
      "execution_count": 0,
      "outputs": []
    },
    {
      "metadata": {
        "id": "8JvpNJy4QKbY",
        "colab_type": "code",
        "colab": {
          "base_uri": "https://localhost:8080/",
          "height": 55
        },
        "outputId": "ce144310-6a13-4b94-ac63-0654aef77cd9"
      },
      "cell_type": "code",
      "source": [
        "# after converting the input images from 3d to 2d vectors\n",
        "\n",
        "print(\"Number of training examples :\", X_train.shape[0], \"and each image is of shape (%d)\"%(X_train.shape[1]))\n",
        "print(\"Number of training examples :\", X_test.shape[0], \"and each image is of shape (%d)\"%(X_test.shape[1]))"
      ],
      "execution_count": 34,
      "outputs": [
        {
          "output_type": "stream",
          "text": [
            "Number of training examples : 60000 and each image is of shape (784)\n",
            "Number of training examples : 10000 and each image is of shape (784)\n"
          ],
          "name": "stdout"
        }
      ]
    },
    {
      "metadata": {
        "id": "qvuaHDk0QKbb",
        "colab_type": "code",
        "colab": {
          "base_uri": "https://localhost:8080/",
          "height": 847
        },
        "outputId": "e261ec5d-c3f9-4911-eadd-77b16f6b8d2f"
      },
      "cell_type": "code",
      "source": [
        "# An example data point\n",
        "print(X_train[0])"
      ],
      "execution_count": 35,
      "outputs": [
        {
          "output_type": "stream",
          "text": [
            "[  0   0   0   0   0   0   0   0   0   0   0   0   0   0   0   0   0   0\n",
            "   0   0   0   0   0   0   0   0   0   0   0   0   0   0   0   0   0   0\n",
            "   0   0   0   0   0   0   0   0   0   0   0   0   0   0   0   0   0   0\n",
            "   0   0   0   0   0   0   0   0   0   0   0   0   0   0   0   0   0   0\n",
            "   0   0   0   0   0   0   0   0   0   0   0   0   0   0   0   0   0   0\n",
            "   0   0   0   0   0   0   0   0   0   0   0   0   0   0   0   0   0   0\n",
            "   0   0   0   0   0   0   0   0   0   0   0   0   0   0   0   0   0   0\n",
            "   0   0   0   0   0   0   0   0   0   0   0   0   0   0   0   0   0   0\n",
            "   0   0   0   0   0   0   0   0   3  18  18  18 126 136 175  26 166 255\n",
            " 247 127   0   0   0   0   0   0   0   0   0   0   0   0  30  36  94 154\n",
            " 170 253 253 253 253 253 225 172 253 242 195  64   0   0   0   0   0   0\n",
            "   0   0   0   0   0  49 238 253 253 253 253 253 253 253 253 251  93  82\n",
            "  82  56  39   0   0   0   0   0   0   0   0   0   0   0   0  18 219 253\n",
            " 253 253 253 253 198 182 247 241   0   0   0   0   0   0   0   0   0   0\n",
            "   0   0   0   0   0   0   0   0  80 156 107 253 253 205  11   0  43 154\n",
            "   0   0   0   0   0   0   0   0   0   0   0   0   0   0   0   0   0   0\n",
            "   0  14   1 154 253  90   0   0   0   0   0   0   0   0   0   0   0   0\n",
            "   0   0   0   0   0   0   0   0   0   0   0   0   0 139 253 190   2   0\n",
            "   0   0   0   0   0   0   0   0   0   0   0   0   0   0   0   0   0   0\n",
            "   0   0   0   0   0  11 190 253  70   0   0   0   0   0   0   0   0   0\n",
            "   0   0   0   0   0   0   0   0   0   0   0   0   0   0   0   0  35 241\n",
            " 225 160 108   1   0   0   0   0   0   0   0   0   0   0   0   0   0   0\n",
            "   0   0   0   0   0   0   0   0   0  81 240 253 253 119  25   0   0   0\n",
            "   0   0   0   0   0   0   0   0   0   0   0   0   0   0   0   0   0   0\n",
            "   0   0  45 186 253 253 150  27   0   0   0   0   0   0   0   0   0   0\n",
            "   0   0   0   0   0   0   0   0   0   0   0   0   0  16  93 252 253 187\n",
            "   0   0   0   0   0   0   0   0   0   0   0   0   0   0   0   0   0   0\n",
            "   0   0   0   0   0   0   0 249 253 249  64   0   0   0   0   0   0   0\n",
            "   0   0   0   0   0   0   0   0   0   0   0   0   0   0  46 130 183 253\n",
            " 253 207   2   0   0   0   0   0   0   0   0   0   0   0   0   0   0   0\n",
            "   0   0   0   0  39 148 229 253 253 253 250 182   0   0   0   0   0   0\n",
            "   0   0   0   0   0   0   0   0   0   0   0   0  24 114 221 253 253 253\n",
            " 253 201  78   0   0   0   0   0   0   0   0   0   0   0   0   0   0   0\n",
            "   0   0  23  66 213 253 253 253 253 198  81   2   0   0   0   0   0   0\n",
            "   0   0   0   0   0   0   0   0   0   0  18 171 219 253 253 253 253 195\n",
            "  80   9   0   0   0   0   0   0   0   0   0   0   0   0   0   0   0   0\n",
            "  55 172 226 253 253 253 253 244 133  11   0   0   0   0   0   0   0   0\n",
            "   0   0   0   0   0   0   0   0   0   0 136 253 253 253 212 135 132  16\n",
            "   0   0   0   0   0   0   0   0   0   0   0   0   0   0   0   0   0   0\n",
            "   0   0   0   0   0   0   0   0   0   0   0   0   0   0   0   0   0   0\n",
            "   0   0   0   0   0   0   0   0   0   0   0   0   0   0   0   0   0   0\n",
            "   0   0   0   0   0   0   0   0   0   0   0   0   0   0   0   0   0   0\n",
            "   0   0   0   0   0   0   0   0   0   0   0   0   0   0   0   0   0   0\n",
            "   0   0   0   0   0   0   0   0   0   0]\n"
          ],
          "name": "stdout"
        }
      ]
    },
    {
      "metadata": {
        "id": "lfohtdKPQKbd",
        "colab_type": "code",
        "colab": {}
      },
      "cell_type": "code",
      "source": [
        "# if we observe the above matrix each cell is having a value between 0-255\n",
        "# before we move to apply machine learning algorithms lets try to normalize the data\n",
        "# X => (X - Xmin)/(Xmax-Xmin) = X/255\n",
        "\n",
        "X_train = X_train/255\n",
        "X_test = X_test/255"
      ],
      "execution_count": 0,
      "outputs": []
    },
    {
      "metadata": {
        "id": "4C-dmsXJQKbf",
        "colab_type": "code",
        "colab": {
          "base_uri": "https://localhost:8080/",
          "height": 2489
        },
        "outputId": "847715b9-417e-4e5a-90f2-46cd3b5aa07e"
      },
      "cell_type": "code",
      "source": [
        "# example data point after normlizing\n",
        "print(X_train[0])"
      ],
      "execution_count": 37,
      "outputs": [
        {
          "output_type": "stream",
          "text": [
            "[0.         0.         0.         0.         0.         0.\n",
            " 0.         0.         0.         0.         0.         0.\n",
            " 0.         0.         0.         0.         0.         0.\n",
            " 0.         0.         0.         0.         0.         0.\n",
            " 0.         0.         0.         0.         0.         0.\n",
            " 0.         0.         0.         0.         0.         0.\n",
            " 0.         0.         0.         0.         0.         0.\n",
            " 0.         0.         0.         0.         0.         0.\n",
            " 0.         0.         0.         0.         0.         0.\n",
            " 0.         0.         0.         0.         0.         0.\n",
            " 0.         0.         0.         0.         0.         0.\n",
            " 0.         0.         0.         0.         0.         0.\n",
            " 0.         0.         0.         0.         0.         0.\n",
            " 0.         0.         0.         0.         0.         0.\n",
            " 0.         0.         0.         0.         0.         0.\n",
            " 0.         0.         0.         0.         0.         0.\n",
            " 0.         0.         0.         0.         0.         0.\n",
            " 0.         0.         0.         0.         0.         0.\n",
            " 0.         0.         0.         0.         0.         0.\n",
            " 0.         0.         0.         0.         0.         0.\n",
            " 0.         0.         0.         0.         0.         0.\n",
            " 0.         0.         0.         0.         0.         0.\n",
            " 0.         0.         0.         0.         0.         0.\n",
            " 0.         0.         0.         0.         0.         0.\n",
            " 0.         0.         0.         0.         0.         0.\n",
            " 0.         0.         0.01176471 0.07058824 0.07058824 0.07058824\n",
            " 0.49411765 0.53333333 0.68627451 0.10196078 0.65098039 1.\n",
            " 0.96862745 0.49803922 0.         0.         0.         0.\n",
            " 0.         0.         0.         0.         0.         0.\n",
            " 0.         0.         0.11764706 0.14117647 0.36862745 0.60392157\n",
            " 0.66666667 0.99215686 0.99215686 0.99215686 0.99215686 0.99215686\n",
            " 0.88235294 0.6745098  0.99215686 0.94901961 0.76470588 0.25098039\n",
            " 0.         0.         0.         0.         0.         0.\n",
            " 0.         0.         0.         0.         0.         0.19215686\n",
            " 0.93333333 0.99215686 0.99215686 0.99215686 0.99215686 0.99215686\n",
            " 0.99215686 0.99215686 0.99215686 0.98431373 0.36470588 0.32156863\n",
            " 0.32156863 0.21960784 0.15294118 0.         0.         0.\n",
            " 0.         0.         0.         0.         0.         0.\n",
            " 0.         0.         0.         0.07058824 0.85882353 0.99215686\n",
            " 0.99215686 0.99215686 0.99215686 0.99215686 0.77647059 0.71372549\n",
            " 0.96862745 0.94509804 0.         0.         0.         0.\n",
            " 0.         0.         0.         0.         0.         0.\n",
            " 0.         0.         0.         0.         0.         0.\n",
            " 0.         0.         0.31372549 0.61176471 0.41960784 0.99215686\n",
            " 0.99215686 0.80392157 0.04313725 0.         0.16862745 0.60392157\n",
            " 0.         0.         0.         0.         0.         0.\n",
            " 0.         0.         0.         0.         0.         0.\n",
            " 0.         0.         0.         0.         0.         0.\n",
            " 0.         0.05490196 0.00392157 0.60392157 0.99215686 0.35294118\n",
            " 0.         0.         0.         0.         0.         0.\n",
            " 0.         0.         0.         0.         0.         0.\n",
            " 0.         0.         0.         0.         0.         0.\n",
            " 0.         0.         0.         0.         0.         0.\n",
            " 0.         0.54509804 0.99215686 0.74509804 0.00784314 0.\n",
            " 0.         0.         0.         0.         0.         0.\n",
            " 0.         0.         0.         0.         0.         0.\n",
            " 0.         0.         0.         0.         0.         0.\n",
            " 0.         0.         0.         0.         0.         0.04313725\n",
            " 0.74509804 0.99215686 0.2745098  0.         0.         0.\n",
            " 0.         0.         0.         0.         0.         0.\n",
            " 0.         0.         0.         0.         0.         0.\n",
            " 0.         0.         0.         0.         0.         0.\n",
            " 0.         0.         0.         0.         0.1372549  0.94509804\n",
            " 0.88235294 0.62745098 0.42352941 0.00392157 0.         0.\n",
            " 0.         0.         0.         0.         0.         0.\n",
            " 0.         0.         0.         0.         0.         0.\n",
            " 0.         0.         0.         0.         0.         0.\n",
            " 0.         0.         0.         0.31764706 0.94117647 0.99215686\n",
            " 0.99215686 0.46666667 0.09803922 0.         0.         0.\n",
            " 0.         0.         0.         0.         0.         0.\n",
            " 0.         0.         0.         0.         0.         0.\n",
            " 0.         0.         0.         0.         0.         0.\n",
            " 0.         0.         0.17647059 0.72941176 0.99215686 0.99215686\n",
            " 0.58823529 0.10588235 0.         0.         0.         0.\n",
            " 0.         0.         0.         0.         0.         0.\n",
            " 0.         0.         0.         0.         0.         0.\n",
            " 0.         0.         0.         0.         0.         0.\n",
            " 0.         0.0627451  0.36470588 0.98823529 0.99215686 0.73333333\n",
            " 0.         0.         0.         0.         0.         0.\n",
            " 0.         0.         0.         0.         0.         0.\n",
            " 0.         0.         0.         0.         0.         0.\n",
            " 0.         0.         0.         0.         0.         0.\n",
            " 0.         0.97647059 0.99215686 0.97647059 0.25098039 0.\n",
            " 0.         0.         0.         0.         0.         0.\n",
            " 0.         0.         0.         0.         0.         0.\n",
            " 0.         0.         0.         0.         0.         0.\n",
            " 0.         0.         0.18039216 0.50980392 0.71764706 0.99215686\n",
            " 0.99215686 0.81176471 0.00784314 0.         0.         0.\n",
            " 0.         0.         0.         0.         0.         0.\n",
            " 0.         0.         0.         0.         0.         0.\n",
            " 0.         0.         0.         0.         0.15294118 0.58039216\n",
            " 0.89803922 0.99215686 0.99215686 0.99215686 0.98039216 0.71372549\n",
            " 0.         0.         0.         0.         0.         0.\n",
            " 0.         0.         0.         0.         0.         0.\n",
            " 0.         0.         0.         0.         0.         0.\n",
            " 0.09411765 0.44705882 0.86666667 0.99215686 0.99215686 0.99215686\n",
            " 0.99215686 0.78823529 0.30588235 0.         0.         0.\n",
            " 0.         0.         0.         0.         0.         0.\n",
            " 0.         0.         0.         0.         0.         0.\n",
            " 0.         0.         0.09019608 0.25882353 0.83529412 0.99215686\n",
            " 0.99215686 0.99215686 0.99215686 0.77647059 0.31764706 0.00784314\n",
            " 0.         0.         0.         0.         0.         0.\n",
            " 0.         0.         0.         0.         0.         0.\n",
            " 0.         0.         0.         0.         0.07058824 0.67058824\n",
            " 0.85882353 0.99215686 0.99215686 0.99215686 0.99215686 0.76470588\n",
            " 0.31372549 0.03529412 0.         0.         0.         0.\n",
            " 0.         0.         0.         0.         0.         0.\n",
            " 0.         0.         0.         0.         0.         0.\n",
            " 0.21568627 0.6745098  0.88627451 0.99215686 0.99215686 0.99215686\n",
            " 0.99215686 0.95686275 0.52156863 0.04313725 0.         0.\n",
            " 0.         0.         0.         0.         0.         0.\n",
            " 0.         0.         0.         0.         0.         0.\n",
            " 0.         0.         0.         0.         0.53333333 0.99215686\n",
            " 0.99215686 0.99215686 0.83137255 0.52941176 0.51764706 0.0627451\n",
            " 0.         0.         0.         0.         0.         0.\n",
            " 0.         0.         0.         0.         0.         0.\n",
            " 0.         0.         0.         0.         0.         0.\n",
            " 0.         0.         0.         0.         0.         0.\n",
            " 0.         0.         0.         0.         0.         0.\n",
            " 0.         0.         0.         0.         0.         0.\n",
            " 0.         0.         0.         0.         0.         0.\n",
            " 0.         0.         0.         0.         0.         0.\n",
            " 0.         0.         0.         0.         0.         0.\n",
            " 0.         0.         0.         0.         0.         0.\n",
            " 0.         0.         0.         0.         0.         0.\n",
            " 0.         0.         0.         0.         0.         0.\n",
            " 0.         0.         0.         0.         0.         0.\n",
            " 0.         0.         0.         0.         0.         0.\n",
            " 0.         0.         0.         0.         0.         0.\n",
            " 0.         0.         0.         0.         0.         0.\n",
            " 0.         0.         0.         0.        ]\n"
          ],
          "name": "stdout"
        }
      ]
    },
    {
      "metadata": {
        "id": "3Ruu-vXzQKbi",
        "colab_type": "code",
        "colab": {
          "base_uri": "https://localhost:8080/",
          "height": 55
        },
        "outputId": "4aa46fd7-c94f-45ba-d549-201ee84e571f"
      },
      "cell_type": "code",
      "source": [
        "# here we are having a class number for each image\n",
        "print(\"Class label of first image :\", y_train[0])\n",
        "\n",
        "# lets convert this into a 10 dimensional vector\n",
        "# ex: consider an image is 5 convert it into 5 => [0, 0, 0, 0, 0, 1, 0, 0, 0, 0]\n",
        "# this conversion needed for MLPs \n",
        "\n",
        "Y_train = np_utils.to_categorical(y_train, 10) \n",
        "Y_test = np_utils.to_categorical(y_test, 10)\n",
        "\n",
        "print(\"After converting the output into a vector : \",Y_train[0])"
      ],
      "execution_count": 38,
      "outputs": [
        {
          "output_type": "stream",
          "text": [
            "Class label of first image : 5\n",
            "After converting the output into a vector :  [0. 0. 0. 0. 0. 1. 0. 0. 0. 0.]\n"
          ],
          "name": "stdout"
        }
      ]
    },
    {
      "metadata": {
        "id": "u0pWB6UyQKbk",
        "colab_type": "text"
      },
      "cell_type": "markdown",
      "source": [
        "<h2>  Softmax classifier  </h2>"
      ]
    },
    {
      "metadata": {
        "id": "tLAGMubCQKbm",
        "colab_type": "code",
        "colab": {}
      },
      "cell_type": "code",
      "source": [
        "# https://keras.io/getting-started/sequential-model-guide/\n",
        "\n",
        "# The Sequential model is a linear stack of layers.\n",
        "# you can create a Sequential model by passing a list of layer instances to the constructor:\n",
        "\n",
        "# model = Sequential([\n",
        "#     Dense(32, input_shape=(784,)),\n",
        "#     Activation('relu'),\n",
        "#     Dense(10),\n",
        "#     Activation('softmax'),\n",
        "# ])\n",
        "\n",
        "# You can also simply add layers via the .add() method:\n",
        "\n",
        "# model = Sequential()\n",
        "# model.add(Dense(32, input_dim=784))\n",
        "# model.add(Activation('relu'))\n",
        "\n",
        "###\n",
        "\n",
        "# https://keras.io/layers/core/\n",
        "\n",
        "# keras.layers.Dense(units, activation=None, use_bias=True, kernel_initializer='glorot_uniform', \n",
        "# bias_initializer='zeros', kernel_regularizer=None, bias_regularizer=None, activity_regularizer=None, \n",
        "# kernel_constraint=None, bias_constraint=None)\n",
        "\n",
        "# Dense implements the operation: output = activation(dot(input, kernel) + bias) where\n",
        "# activation is the element-wise activation function passed as the activation argument, \n",
        "# kernel is a weights matrix created by the layer, and \n",
        "# bias is a bias vector created by the layer (only applicable if use_bias is True).\n",
        "\n",
        "# output = activation(dot(input, kernel) + bias)  => y = activation(WT. X + b)\n",
        "\n",
        "####\n",
        "\n",
        "# https://keras.io/activations/\n",
        "\n",
        "# Activations can either be used through an Activation layer, or through the activation argument supported by all forward layers:\n",
        "\n",
        "# from keras.layers import Activation, Dense\n",
        "\n",
        "# model.add(Dense(64))\n",
        "# model.add(Activation('tanh'))\n",
        "\n",
        "# This is equivalent to:\n",
        "# model.add(Dense(64, activation='tanh'))\n",
        "\n",
        "# there are many activation functions ar available ex: tanh, relu, softmax\n",
        "\n",
        "\n",
        "from keras.models import Sequential \n",
        "from keras.layers import Dense, Activation \n"
      ],
      "execution_count": 0,
      "outputs": []
    },
    {
      "metadata": {
        "id": "I0s7jzhVQKbn",
        "colab_type": "code",
        "colab": {}
      },
      "cell_type": "code",
      "source": [
        "# some model parameters\n",
        "\n",
        "output_dim = 10\n",
        "input_dim = X_train.shape[1]\n",
        "\n",
        "batch_size = 128 \n"
      ],
      "execution_count": 0,
      "outputs": []
    },
    {
      "metadata": {
        "id": "HdQg5wGDQKbr",
        "colab_type": "code",
        "colab": {}
      },
      "cell_type": "code",
      "source": [
        ""
      ],
      "execution_count": 0,
      "outputs": []
    },
    {
      "metadata": {
        "id": "EVA11VpmQKbt",
        "colab_type": "code",
        "colab": {}
      },
      "cell_type": "code",
      "source": [
        ""
      ],
      "execution_count": 0,
      "outputs": []
    },
    {
      "metadata": {
        "id": "HNpwTMHcQKbw",
        "colab_type": "code",
        "colab": {}
      },
      "cell_type": "code",
      "source": [
        ""
      ],
      "execution_count": 0,
      "outputs": []
    },
    {
      "metadata": {
        "id": "eh4VWYrHQKbz",
        "colab_type": "text"
      },
      "cell_type": "markdown",
      "source": [
        ""
      ]
    },
    {
      "metadata": {
        "id": "7rzbngqHQKbz",
        "colab_type": "code",
        "colab": {}
      },
      "cell_type": "code",
      "source": [
        ""
      ],
      "execution_count": 0,
      "outputs": []
    },
    {
      "metadata": {
        "id": "48vVImSpQKb5",
        "colab_type": "code",
        "colab": {}
      },
      "cell_type": "code",
      "source": [
        ""
      ],
      "execution_count": 0,
      "outputs": []
    },
    {
      "metadata": {
        "id": "6ffjzr8hQKb8",
        "colab_type": "code",
        "colab": {}
      },
      "cell_type": "code",
      "source": [
        ""
      ],
      "execution_count": 0,
      "outputs": []
    },
    {
      "metadata": {
        "id": "Ejn01XXdQKb-",
        "colab_type": "code",
        "colab": {}
      },
      "cell_type": "code",
      "source": [
        ""
      ],
      "execution_count": 0,
      "outputs": []
    },
    {
      "metadata": {
        "id": "ExLv_CAeQKcA",
        "colab_type": "text"
      },
      "cell_type": "markdown",
      "source": [
        ""
      ]
    },
    {
      "metadata": {
        "id": "w9BtnNGaQKcD",
        "colab_type": "code",
        "colab": {}
      },
      "cell_type": "code",
      "source": [
        ""
      ],
      "execution_count": 0,
      "outputs": []
    },
    {
      "metadata": {
        "id": "AslSnqQ2QKcF",
        "colab_type": "code",
        "colab": {}
      },
      "cell_type": "code",
      "source": [
        ""
      ],
      "execution_count": 0,
      "outputs": []
    },
    {
      "metadata": {
        "id": "HEp-AZCSQKcI",
        "colab_type": "code",
        "colab": {}
      },
      "cell_type": "code",
      "source": [
        ""
      ],
      "execution_count": 0,
      "outputs": []
    },
    {
      "metadata": {
        "id": "bRVrzqvSQKcL",
        "colab_type": "text"
      },
      "cell_type": "markdown",
      "source": [
        ""
      ]
    },
    {
      "metadata": {
        "id": "O8lG2jzmQKcM",
        "colab_type": "code",
        "colab": {}
      },
      "cell_type": "code",
      "source": [
        ""
      ],
      "execution_count": 0,
      "outputs": []
    },
    {
      "metadata": {
        "id": "QhtoviFKQKcP",
        "colab_type": "code",
        "colab": {}
      },
      "cell_type": "code",
      "source": [
        ""
      ],
      "execution_count": 0,
      "outputs": []
    },
    {
      "metadata": {
        "id": "0rKzoKxgQKcS",
        "colab_type": "code",
        "colab": {}
      },
      "cell_type": "code",
      "source": [
        ""
      ],
      "execution_count": 0,
      "outputs": []
    },
    {
      "metadata": {
        "id": "z386BnBlQKcV",
        "colab_type": "code",
        "colab": {}
      },
      "cell_type": "code",
      "source": [
        ""
      ],
      "execution_count": 0,
      "outputs": []
    },
    {
      "metadata": {
        "id": "9ccmfiVGQKcc",
        "colab_type": "text"
      },
      "cell_type": "markdown",
      "source": [
        "<h2> MLP + ReLU + ADAM </h2>"
      ]
    },
    {
      "metadata": {
        "id": "-CtwrinkQKcc",
        "colab_type": "code",
        "colab": {
          "base_uri": "https://localhost:8080/",
          "height": 2187
        },
        "outputId": "e35255d5-5959-4e4b-8e98-5592ee16febe"
      },
      "cell_type": "code",
      "source": [
        "model_relu = Sequential()\n",
        "model_relu.add(Dense(512, activation='relu', input_shape=(input_dim,), kernel_initializer=RandomNormal(mean=0.0, stddev=0.062, seed=None)))\n",
        "model_relu.add(Dense(128, activation='relu', kernel_initializer=RandomNormal(mean=0.0, stddev=0.125, seed=None)) )\n",
        "model_relu.add(Dense(output_dim, activation='softmax'))\n",
        "\n",
        "print(model_relu.summary())\n",
        "\n",
        "model_relu.compile(optimizer='adam', loss='categorical_crossentropy', metrics=['accuracy'])\n",
        "\n",
        "history = model_relu.fit(X_train, Y_train, batch_size=batch_size, epochs=nb_epoch, verbose=1, validation_data=(X_test, Y_test))"
      ],
      "execution_count": 41,
      "outputs": [
        {
          "output_type": "stream",
          "text": [
            "_________________________________________________________________\n",
            "Layer (type)                 Output Shape              Param #   \n",
            "=================================================================\n",
            "dense_14 (Dense)             (None, 512)               401920    \n",
            "_________________________________________________________________\n",
            "dense_15 (Dense)             (None, 128)               65664     \n",
            "_________________________________________________________________\n",
            "dense_16 (Dense)             (None, 10)                1290      \n",
            "=================================================================\n",
            "Total params: 468,874\n",
            "Trainable params: 468,874\n",
            "Non-trainable params: 0\n",
            "_________________________________________________________________\n",
            "None\n",
            "Train on 60000 samples, validate on 10000 samples\n",
            "Epoch 1/50\n",
            "60000/60000 [==============================] - 4s 73us/step - loss: 0.2321 - acc: 0.9305 - val_loss: 0.1108 - val_acc: 0.9658\n",
            "Epoch 2/50\n",
            "60000/60000 [==============================] - 4s 61us/step - loss: 0.0855 - acc: 0.9740 - val_loss: 0.0826 - val_acc: 0.9739\n",
            "Epoch 3/50\n",
            "60000/60000 [==============================] - 4s 62us/step - loss: 0.0559 - acc: 0.9824 - val_loss: 0.0754 - val_acc: 0.9770\n",
            "Epoch 4/50\n",
            "60000/60000 [==============================] - 4s 61us/step - loss: 0.0357 - acc: 0.9892 - val_loss: 0.0737 - val_acc: 0.9772\n",
            "Epoch 5/50\n",
            "60000/60000 [==============================] - 4s 64us/step - loss: 0.0293 - acc: 0.9906 - val_loss: 0.0714 - val_acc: 0.9773\n",
            "Epoch 6/50\n",
            "60000/60000 [==============================] - 4s 61us/step - loss: 0.0226 - acc: 0.9931 - val_loss: 0.0710 - val_acc: 0.9788\n",
            "Epoch 7/50\n",
            "60000/60000 [==============================] - 4s 61us/step - loss: 0.0163 - acc: 0.9945 - val_loss: 0.0737 - val_acc: 0.9802\n",
            "Epoch 8/50\n",
            "60000/60000 [==============================] - 4s 63us/step - loss: 0.0149 - acc: 0.9952 - val_loss: 0.0698 - val_acc: 0.9807\n",
            "Epoch 9/50\n",
            "60000/60000 [==============================] - 4s 64us/step - loss: 0.0118 - acc: 0.9959 - val_loss: 0.0765 - val_acc: 0.9799\n",
            "Epoch 10/50\n",
            "60000/60000 [==============================] - 4s 65us/step - loss: 0.0122 - acc: 0.9960 - val_loss: 0.0785 - val_acc: 0.9795\n",
            "Epoch 11/50\n",
            "60000/60000 [==============================] - 4s 65us/step - loss: 0.0128 - acc: 0.9958 - val_loss: 0.0916 - val_acc: 0.9782\n",
            "Epoch 12/50\n",
            "60000/60000 [==============================] - 4s 64us/step - loss: 0.0111 - acc: 0.9961 - val_loss: 0.0687 - val_acc: 0.9840\n",
            "Epoch 13/50\n",
            "60000/60000 [==============================] - 4s 61us/step - loss: 0.0070 - acc: 0.9978 - val_loss: 0.0848 - val_acc: 0.9790\n",
            "Epoch 14/50\n",
            "60000/60000 [==============================] - 4s 63us/step - loss: 0.0069 - acc: 0.9977 - val_loss: 0.0869 - val_acc: 0.9808\n",
            "Epoch 15/50\n",
            "60000/60000 [==============================] - 4s 62us/step - loss: 0.0098 - acc: 0.9967 - val_loss: 0.1040 - val_acc: 0.9761\n",
            "Epoch 16/50\n",
            "60000/60000 [==============================] - 4s 59us/step - loss: 0.0100 - acc: 0.9968 - val_loss: 0.0829 - val_acc: 0.9810\n",
            "Epoch 17/50\n",
            "60000/60000 [==============================] - 4s 59us/step - loss: 0.0093 - acc: 0.9966 - val_loss: 0.0869 - val_acc: 0.9814\n",
            "Epoch 18/50\n",
            "60000/60000 [==============================] - 4s 60us/step - loss: 0.0065 - acc: 0.9978 - val_loss: 0.1053 - val_acc: 0.9773\n",
            "Epoch 19/50\n",
            "60000/60000 [==============================] - 4s 60us/step - loss: 0.0080 - acc: 0.9972 - val_loss: 0.1124 - val_acc: 0.9772\n",
            "Epoch 20/50\n",
            "60000/60000 [==============================] - 4s 60us/step - loss: 0.0064 - acc: 0.9980 - val_loss: 0.0797 - val_acc: 0.9820\n",
            "Epoch 21/50\n",
            "60000/60000 [==============================] - 4s 60us/step - loss: 0.0066 - acc: 0.9979 - val_loss: 0.0892 - val_acc: 0.9808\n",
            "Epoch 22/50\n",
            "60000/60000 [==============================] - 4s 62us/step - loss: 0.0065 - acc: 0.9980 - val_loss: 0.0858 - val_acc: 0.9820\n",
            "Epoch 23/50\n",
            "60000/60000 [==============================] - 4s 61us/step - loss: 0.0062 - acc: 0.9982 - val_loss: 0.1031 - val_acc: 0.9796\n",
            "Epoch 24/50\n",
            "60000/60000 [==============================] - 4s 63us/step - loss: 0.0073 - acc: 0.9978 - val_loss: 0.0960 - val_acc: 0.9799\n",
            "Epoch 25/50\n",
            "60000/60000 [==============================] - 4s 63us/step - loss: 0.0044 - acc: 0.9985 - val_loss: 0.1167 - val_acc: 0.9783\n",
            "Epoch 26/50\n",
            "60000/60000 [==============================] - 4s 60us/step - loss: 0.0072 - acc: 0.9977 - val_loss: 0.0988 - val_acc: 0.9815\n",
            "Epoch 27/50\n",
            "60000/60000 [==============================] - 4s 61us/step - loss: 0.0056 - acc: 0.9983 - val_loss: 0.0899 - val_acc: 0.9828\n",
            "Epoch 28/50\n",
            "60000/60000 [==============================] - 4s 62us/step - loss: 0.0047 - acc: 0.9985 - val_loss: 0.0919 - val_acc: 0.9818\n",
            "Epoch 29/50\n",
            "60000/60000 [==============================] - 4s 63us/step - loss: 0.0028 - acc: 0.9991 - val_loss: 0.0867 - val_acc: 0.9828\n",
            "Epoch 30/50\n",
            "60000/60000 [==============================] - 4s 63us/step - loss: 0.0062 - acc: 0.9981 - val_loss: 0.0998 - val_acc: 0.9819\n",
            "Epoch 31/50\n",
            "60000/60000 [==============================] - 4s 62us/step - loss: 0.0075 - acc: 0.9977 - val_loss: 0.1183 - val_acc: 0.9798\n",
            "Epoch 32/50\n",
            "60000/60000 [==============================] - 4s 59us/step - loss: 0.0042 - acc: 0.9988 - val_loss: 0.0951 - val_acc: 0.9809\n",
            "Epoch 33/50\n",
            "60000/60000 [==============================] - 4s 59us/step - loss: 0.0042 - acc: 0.9987 - val_loss: 0.1200 - val_acc: 0.9803\n",
            "Epoch 34/50\n",
            "60000/60000 [==============================] - 3s 58us/step - loss: 0.0064 - acc: 0.9981 - val_loss: 0.1130 - val_acc: 0.9809\n",
            "Epoch 35/50\n",
            "60000/60000 [==============================] - 3s 58us/step - loss: 0.0066 - acc: 0.9978 - val_loss: 0.1290 - val_acc: 0.9788\n",
            "Epoch 36/50\n",
            "60000/60000 [==============================] - 4s 60us/step - loss: 0.0019 - acc: 0.9993 - val_loss: 0.1005 - val_acc: 0.9823\n",
            "Epoch 37/50\n",
            "60000/60000 [==============================] - 4s 63us/step - loss: 5.6054e-04 - acc: 0.9999 - val_loss: 0.0983 - val_acc: 0.9834\n",
            "Epoch 38/50\n",
            "60000/60000 [==============================] - 4s 62us/step - loss: 0.0046 - acc: 0.9987 - val_loss: 0.1326 - val_acc: 0.9789\n",
            "Epoch 39/50\n",
            "60000/60000 [==============================] - 4s 59us/step - loss: 0.0076 - acc: 0.9979 - val_loss: 0.1115 - val_acc: 0.9819\n",
            "Epoch 40/50\n",
            "60000/60000 [==============================] - 4s 61us/step - loss: 0.0075 - acc: 0.9978 - val_loss: 0.1084 - val_acc: 0.9811\n",
            "Epoch 41/50\n",
            "60000/60000 [==============================] - 4s 63us/step - loss: 0.0028 - acc: 0.9991 - val_loss: 0.0997 - val_acc: 0.9826\n",
            "Epoch 42/50\n",
            "60000/60000 [==============================] - 4s 64us/step - loss: 0.0027 - acc: 0.9992 - val_loss: 0.1110 - val_acc: 0.9809\n",
            "Epoch 43/50\n",
            "60000/60000 [==============================] - 4s 62us/step - loss: 0.0043 - acc: 0.9986 - val_loss: 0.1178 - val_acc: 0.9794\n",
            "Epoch 44/50\n",
            "60000/60000 [==============================] - 4s 63us/step - loss: 0.0065 - acc: 0.9982 - val_loss: 0.1333 - val_acc: 0.9789\n",
            "Epoch 45/50\n",
            "60000/60000 [==============================] - 4s 60us/step - loss: 0.0061 - acc: 0.9981 - val_loss: 0.1061 - val_acc: 0.9824\n",
            "Epoch 46/50\n",
            "60000/60000 [==============================] - 4s 59us/step - loss: 0.0035 - acc: 0.9991 - val_loss: 0.1085 - val_acc: 0.9830\n",
            "Epoch 47/50\n",
            "60000/60000 [==============================] - 4s 59us/step - loss: 0.0015 - acc: 0.9995 - val_loss: 0.1005 - val_acc: 0.9840\n",
            "Epoch 48/50\n",
            "60000/60000 [==============================] - 4s 59us/step - loss: 0.0023 - acc: 0.9994 - val_loss: 0.1094 - val_acc: 0.9839\n",
            "Epoch 49/50\n",
            "60000/60000 [==============================] - 4s 60us/step - loss: 0.0046 - acc: 0.9987 - val_loss: 0.1095 - val_acc: 0.9832\n",
            "Epoch 50/50\n",
            "60000/60000 [==============================] - 4s 64us/step - loss: 0.0038 - acc: 0.9989 - val_loss: 0.1072 - val_acc: 0.9826\n"
          ],
          "name": "stdout"
        }
      ]
    },
    {
      "metadata": {
        "id": "niCdh2TUQKce",
        "colab_type": "code",
        "colab": {
          "base_uri": "https://localhost:8080/",
          "height": 354
        },
        "outputId": "83d1b600-6b13-447a-bdc5-4363a627a0c0"
      },
      "cell_type": "code",
      "source": [
        "score = model_relu.evaluate(X_test, Y_test, verbose=0) \n",
        "print('Test score:', score[0]) \n",
        "print('Test accuracy:', score[1])\n",
        "\n",
        "import pandas as pd\n",
        "scoretrain = model_relu.evaluate(X_train, Y_train, verbose=0) \n",
        "aa=pd.DataFrame()\n",
        "bb=pd.DataFrame({'type':['3 Layer '],'Test Score':[score[0]],'Test Accuracy':[score[1]], \\\n",
        "                   'Train Score':[scoretrain[0]],'Train Accuracy':[scoretrain[1]]})\n",
        "print('Score',bb)\n",
        "aa=aa.append(bb)\n",
        "\n",
        "fig,ax = plt.subplots(1,1)\n",
        "ax.set_xlabel('epoch') ; ax.set_ylabel('Categorical Crossentropy Loss')\n",
        "\n",
        "# list of epoch numbers\n",
        "x = list(range(1,nb_epoch+1))\n",
        "\n",
        "# print(history.history.keys())\n",
        "# dict_keys(['val_loss', 'val_acc', 'loss', 'acc'])\n",
        "# history = model_drop.fit(X_train, Y_train, batch_size=batch_size, epochs=nb_epoch, verbose=1, validation_data=(X_test, Y_test))\n",
        "\n",
        "# we will get val_loss and val_acc only when you pass the paramter validation_data\n",
        "# val_loss : validation loss\n",
        "# val_acc : validation accuracy\n",
        "\n",
        "# loss : training loss\n",
        "# acc : train accuracy\n",
        "# for each key in histrory.histrory we will have a list of length equal to number of epochs\n",
        "\n",
        "\n",
        "vy = history.history['val_loss']\n",
        "ty = history.history['loss']\n",
        "plt_dynamic(x, vy, ty, ax)"
      ],
      "execution_count": 42,
      "outputs": [
        {
          "output_type": "stream",
          "text": [
            "Test score: 0.107209661454717\n",
            "Test accuracy: 0.9826\n",
            "Score    Test Accuracy  Test Score  Train Accuracy  Train Score      type\n",
            "0         0.9826     0.10721        0.999683     0.000822  3 Layer \n"
          ],
          "name": "stdout"
        },
        {
          "output_type": "display_data",
          "data": {
            "image/png": "[encoded data removed]",
            "text/plain": [
              "<matplotlib.figure.Figure at 0x7f1f5ece3748>"
            ]
          },
          "metadata": {
            "tags": []
          }
        }
      ]
    },
    {
      "metadata": {
        "id": "PDtptoSnQKcf",
        "colab_type": "code",
        "colab": {
          "base_uri": "https://localhost:8080/",
          "height": 397
        },
        "outputId": "60ca8604-aa19-4752-9d1e-3f12ae2e648d"
      },
      "cell_type": "code",
      "source": [
        "print(aa)\n",
        "w_after = model_relu.get_weights()\n",
        "\n",
        "h1_w = w_after[0].flatten().reshape(-1,1)\n",
        "h2_w = w_after[2].flatten().reshape(-1,1)\n",
        "out_w = w_after[4].flatten().reshape(-1,1)\n",
        "\n",
        "\n",
        "fig = plt.figure()\n",
        "plt.title(\"Weight matrices after model trained\")\n",
        "plt.subplot(1, 3, 1)\n",
        "plt.title(\"Trained model Weights\")\n",
        "ax = sns.violinplot(y=h1_w,color='b')\n",
        "plt.xlabel('Hidden Layer 1')\n",
        "\n",
        "plt.subplot(1, 3, 2)\n",
        "plt.title(\"Trained model Weights\")\n",
        "ax = sns.violinplot(y=h2_w, color='r')\n",
        "plt.xlabel('Hidden Layer 2 ')\n",
        "\n",
        "plt.subplot(1, 3, 3)\n",
        "plt.title(\"Trained model Weights\")\n",
        "ax = sns.violinplot(y=out_w,color='y')\n",
        "plt.xlabel('Output Layer ')\n",
        "plt.show()"
      ],
      "execution_count": 43,
      "outputs": [
        {
          "output_type": "stream",
          "text": [
            "   Test Accuracy  Test Score  Train Accuracy  Train Score      type\n",
            "0         0.9826     0.10721        0.999683     0.000822  3 Layer \n"
          ],
          "name": "stdout"
        },
        {
          "output_type": "stream",
          "text": [
            "/usr/local/lib/python3.6/dist-packages/seaborn/categorical.py:588: FutureWarning: remove_na is deprecated and is a private function. Do not use.\n",
            "  kde_data = remove_na(group_data)\n",
            "/usr/local/lib/python3.6/dist-packages/seaborn/categorical.py:816: FutureWarning: remove_na is deprecated and is a private function. Do not use.\n",
            "  violin_data = remove_na(group_data)\n"
          ],
          "name": "stderr"
        },
        {
          "output_type": "display_data",
          "data": {
            "image/png": "[encoded data removed]",
            "text/plain": [
              "<matplotlib.figure.Figure at 0x7f1f5c176b70>"
            ]
          },
          "metadata": {
            "tags": []
          }
        }
      ]
    },
    {
      "metadata": {
        "id": "TjduBU7hQKch",
        "colab_type": "text"
      },
      "cell_type": "markdown",
      "source": [
        "<h2> MLP + Batch-Norm on hidden Layers + AdamOptimizer </2>"
      ]
    },
    {
      "metadata": {
        "id": "KGHnPnoTQKci",
        "colab_type": "code",
        "colab": {
          "base_uri": "https://localhost:8080/",
          "height": 338
        },
        "outputId": "5fa31119-3e39-41ac-b6b1-f63ac95f6502"
      },
      "cell_type": "code",
      "source": [
        "# Multilayer perceptron\n",
        "\n",
        "# https://intoli.com/blog/neural-network-initialization/ \n",
        "# If we sample weights from a normal distribution N(0,σ) we satisfy this condition with σ=√(2/(ni+ni+1). \n",
        "# h1 =>  σ=√(2/(ni+ni+1) = 0.039  => N(0,σ) = N(0,0.039)\n",
        "# h2 =>  σ=√(2/(ni+ni+1) = 0.055  => N(0,σ) = N(0,0.055)\n",
        "# h1 =>  σ=√(2/(ni+ni+1) = 0.120  => N(0,σ) = N(0,0.120)\n",
        "\n",
        "from keras.layers.normalization import BatchNormalization\n",
        "\n",
        "model_batch = Sequential()\n",
        "\n",
        "model_batch.add(Dense(512, activation='relu', input_shape=(input_dim,), kernel_initializer=RandomNormal(mean=0.0, stddev=0.039, seed=None)))\n",
        "model_batch.add(BatchNormalization())\n",
        "\n",
        "model_batch.add(Dense(128, activation='relu', kernel_initializer=RandomNormal(mean=0.0, stddev=0.55, seed=None)) )\n",
        "model_batch.add(BatchNormalization())\n",
        "\n",
        "model_batch.add(Dense(output_dim, activation='softmax'))\n",
        "\n",
        "\n",
        "model_batch.summary()"
      ],
      "execution_count": 44,
      "outputs": [
        {
          "output_type": "stream",
          "text": [
            "_________________________________________________________________\n",
            "Layer (type)                 Output Shape              Param #   \n",
            "=================================================================\n",
            "dense_17 (Dense)             (None, 512)               401920    \n",
            "_________________________________________________________________\n",
            "batch_normalization_5 (Batch (None, 512)               2048      \n",
            "_________________________________________________________________\n",
            "dense_18 (Dense)             (None, 128)               65664     \n",
            "_________________________________________________________________\n",
            "batch_normalization_6 (Batch (None, 128)               512       \n",
            "_________________________________________________________________\n",
            "dense_19 (Dense)             (None, 10)                1290      \n",
            "=================================================================\n",
            "Total params: 471,434\n",
            "Trainable params: 470,154\n",
            "Non-trainable params: 1,280\n",
            "_________________________________________________________________\n"
          ],
          "name": "stdout"
        }
      ]
    },
    {
      "metadata": {
        "id": "yMPo5fcUQKcm",
        "colab_type": "code",
        "colab": {
          "base_uri": "https://localhost:8080/",
          "height": 1923
        },
        "outputId": "3a088d94-0c36-443d-c742-daf932d2868a"
      },
      "cell_type": "code",
      "source": [
        "model_batch.compile(optimizer='adam', loss='categorical_crossentropy', metrics=['accuracy'])\n",
        "\n",
        "history = model_batch.fit(X_train, Y_train, batch_size=batch_size, epochs=nb_epoch, verbose=1, validation_data=(X_test, Y_test))"
      ],
      "execution_count": 45,
      "outputs": [
        {
          "output_type": "stream",
          "text": [
            "Train on 60000 samples, validate on 10000 samples\n",
            "Epoch 1/50\n",
            "60000/60000 [==============================] - 8s 132us/step - loss: 0.1909 - acc: 0.9435 - val_loss: 0.1018 - val_acc: 0.9687\n",
            "Epoch 2/50\n",
            "60000/60000 [==============================] - 7s 112us/step - loss: 0.0707 - acc: 0.9794 - val_loss: 0.0921 - val_acc: 0.9720\n",
            "Epoch 3/50\n",
            "60000/60000 [==============================] - 7s 109us/step - loss: 0.0473 - acc: 0.9859 - val_loss: 0.0771 - val_acc: 0.9761\n",
            "Epoch 4/50\n",
            "60000/60000 [==============================] - 7s 111us/step - loss: 0.0335 - acc: 0.9899 - val_loss: 0.0790 - val_acc: 0.9773\n",
            "Epoch 5/50\n",
            "60000/60000 [==============================] - 7s 108us/step - loss: 0.0230 - acc: 0.9931 - val_loss: 0.0851 - val_acc: 0.9763\n",
            "Epoch 6/50\n",
            "60000/60000 [==============================] - 6s 107us/step - loss: 0.0190 - acc: 0.9944 - val_loss: 0.0957 - val_acc: 0.9712\n",
            "Epoch 7/50\n",
            "60000/60000 [==============================] - 6s 102us/step - loss: 0.0179 - acc: 0.9944 - val_loss: 0.0881 - val_acc: 0.9753\n",
            "Epoch 8/50\n",
            "60000/60000 [==============================] - 6s 100us/step - loss: 0.0164 - acc: 0.9951 - val_loss: 0.0758 - val_acc: 0.9791\n",
            "Epoch 9/50\n",
            "60000/60000 [==============================] - 6s 101us/step - loss: 0.0136 - acc: 0.9959 - val_loss: 0.0853 - val_acc: 0.9766\n",
            "Epoch 10/50\n",
            "60000/60000 [==============================] - 6s 108us/step - loss: 0.0112 - acc: 0.9965 - val_loss: 0.0747 - val_acc: 0.9801\n",
            "Epoch 11/50\n",
            "60000/60000 [==============================] - 6s 107us/step - loss: 0.0117 - acc: 0.9964 - val_loss: 0.0782 - val_acc: 0.9787\n",
            "Epoch 12/50\n",
            "60000/60000 [==============================] - 6s 103us/step - loss: 0.0101 - acc: 0.9968 - val_loss: 0.0874 - val_acc: 0.9782\n",
            "Epoch 13/50\n",
            "60000/60000 [==============================] - 7s 112us/step - loss: 0.0098 - acc: 0.9967 - val_loss: 0.0842 - val_acc: 0.9782\n",
            "Epoch 14/50\n",
            "60000/60000 [==============================] - 6s 107us/step - loss: 0.0101 - acc: 0.9966 - val_loss: 0.0739 - val_acc: 0.9808\n",
            "Epoch 15/50\n",
            "60000/60000 [==============================] - 7s 108us/step - loss: 0.0093 - acc: 0.9970 - val_loss: 0.0779 - val_acc: 0.9811\n",
            "Epoch 16/50\n",
            "60000/60000 [==============================] - 6s 105us/step - loss: 0.0073 - acc: 0.9980 - val_loss: 0.0738 - val_acc: 0.9811\n",
            "Epoch 17/50\n",
            "60000/60000 [==============================] - 6s 102us/step - loss: 0.0082 - acc: 0.9972 - val_loss: 0.0815 - val_acc: 0.9808\n",
            "Epoch 18/50\n",
            "60000/60000 [==============================] - 6s 100us/step - loss: 0.0062 - acc: 0.9981 - val_loss: 0.0824 - val_acc: 0.9807\n",
            "Epoch 19/50\n",
            "60000/60000 [==============================] - 6s 101us/step - loss: 0.0061 - acc: 0.9979 - val_loss: 0.0848 - val_acc: 0.9808\n",
            "Epoch 20/50\n",
            "60000/60000 [==============================] - 6s 100us/step - loss: 0.0060 - acc: 0.9979 - val_loss: 0.0729 - val_acc: 0.9828\n",
            "Epoch 21/50\n",
            "60000/60000 [==============================] - 6s 100us/step - loss: 0.0052 - acc: 0.9983 - val_loss: 0.0836 - val_acc: 0.9804\n",
            "Epoch 22/50\n",
            "60000/60000 [==============================] - 6s 105us/step - loss: 0.0062 - acc: 0.9980 - val_loss: 0.0852 - val_acc: 0.9806\n",
            "Epoch 23/50\n",
            "60000/60000 [==============================] - 7s 109us/step - loss: 0.0056 - acc: 0.9982 - val_loss: 0.0798 - val_acc: 0.9820\n",
            "Epoch 24/50\n",
            "60000/60000 [==============================] - 6s 103us/step - loss: 0.0051 - acc: 0.9984 - val_loss: 0.0777 - val_acc: 0.9808\n",
            "Epoch 25/50\n",
            "60000/60000 [==============================] - 6s 102us/step - loss: 0.0036 - acc: 0.9990 - val_loss: 0.0799 - val_acc: 0.9835\n",
            "Epoch 26/50\n",
            "60000/60000 [==============================] - 6s 104us/step - loss: 0.0047 - acc: 0.9986 - val_loss: 0.0834 - val_acc: 0.9805\n",
            "Epoch 27/50\n",
            "60000/60000 [==============================] - 6s 105us/step - loss: 0.0061 - acc: 0.9981 - val_loss: 0.1035 - val_acc: 0.9785\n",
            "Epoch 28/50\n",
            "60000/60000 [==============================] - 6s 103us/step - loss: 0.0060 - acc: 0.9979 - val_loss: 0.0869 - val_acc: 0.9803\n",
            "Epoch 29/50\n",
            "60000/60000 [==============================] - 6s 106us/step - loss: 0.0047 - acc: 0.9982 - val_loss: 0.0867 - val_acc: 0.9802\n",
            "Epoch 30/50\n",
            "60000/60000 [==============================] - 6s 102us/step - loss: 0.0029 - acc: 0.9991 - val_loss: 0.0752 - val_acc: 0.9839\n",
            "Epoch 31/50\n",
            "60000/60000 [==============================] - 6s 105us/step - loss: 0.0027 - acc: 0.9992 - val_loss: 0.0932 - val_acc: 0.9794\n",
            "Epoch 32/50\n",
            "60000/60000 [==============================] - 6s 105us/step - loss: 0.0037 - acc: 0.9988 - val_loss: 0.1029 - val_acc: 0.9764\n",
            "Epoch 33/50\n",
            "60000/60000 [==============================] - 6s 104us/step - loss: 0.0044 - acc: 0.9985 - val_loss: 0.0920 - val_acc: 0.9797\n",
            "Epoch 34/50\n",
            "60000/60000 [==============================] - 6s 104us/step - loss: 0.0066 - acc: 0.9977 - val_loss: 0.0865 - val_acc: 0.9806\n",
            "Epoch 35/50\n",
            "60000/60000 [==============================] - 6s 101us/step - loss: 0.0037 - acc: 0.9988 - val_loss: 0.0817 - val_acc: 0.9832\n",
            "Epoch 36/50\n",
            "60000/60000 [==============================] - 6s 104us/step - loss: 0.0036 - acc: 0.9989 - val_loss: 0.0784 - val_acc: 0.9828\n",
            "Epoch 37/50\n",
            "60000/60000 [==============================] - 6s 102us/step - loss: 0.0016 - acc: 0.9995 - val_loss: 0.0809 - val_acc: 0.9833\n",
            "Epoch 38/50\n",
            "60000/60000 [==============================] - 6s 101us/step - loss: 0.0013 - acc: 0.9997 - val_loss: 0.0740 - val_acc: 0.9845\n",
            "Epoch 39/50\n",
            "60000/60000 [==============================] - 6s 104us/step - loss: 9.6881e-04 - acc: 0.9998 - val_loss: 0.0765 - val_acc: 0.9837\n",
            "Epoch 40/50\n",
            "60000/60000 [==============================] - 6s 104us/step - loss: 0.0022 - acc: 0.9994 - val_loss: 0.0987 - val_acc: 0.9779\n",
            "Epoch 41/50\n",
            "60000/60000 [==============================] - 6s 106us/step - loss: 0.0059 - acc: 0.9979 - val_loss: 0.1242 - val_acc: 0.9768\n",
            "Epoch 42/50\n",
            "60000/60000 [==============================] - 6s 108us/step - loss: 0.0063 - acc: 0.9979 - val_loss: 0.0949 - val_acc: 0.9792\n",
            "Epoch 43/50\n",
            "60000/60000 [==============================] - 6s 106us/step - loss: 0.0036 - acc: 0.9987 - val_loss: 0.0845 - val_acc: 0.9822\n",
            "Epoch 44/50\n",
            "60000/60000 [==============================] - 6s 106us/step - loss: 0.0029 - acc: 0.9991 - val_loss: 0.0905 - val_acc: 0.9818\n",
            "Epoch 45/50\n",
            "60000/60000 [==============================] - 6s 104us/step - loss: 0.0016 - acc: 0.9995 - val_loss: 0.1069 - val_acc: 0.9790\n",
            "Epoch 46/50\n",
            "60000/60000 [==============================] - 6s 103us/step - loss: 0.0028 - acc: 0.9990 - val_loss: 0.0996 - val_acc: 0.9801\n",
            "Epoch 47/50\n",
            "60000/60000 [==============================] - 6s 102us/step - loss: 0.0030 - acc: 0.9992 - val_loss: 0.0952 - val_acc: 0.9819\n",
            "Epoch 48/50\n",
            "60000/60000 [==============================] - 6s 102us/step - loss: 0.0032 - acc: 0.9989 - val_loss: 0.0960 - val_acc: 0.9810\n",
            "Epoch 49/50\n",
            "60000/60000 [==============================] - 6s 104us/step - loss: 0.0021 - acc: 0.9993 - val_loss: 0.0838 - val_acc: 0.9833\n",
            "Epoch 50/50\n",
            "60000/60000 [==============================] - 6s 104us/step - loss: 0.0018 - acc: 0.9994 - val_loss: 0.0853 - val_acc: 0.9826\n"
          ],
          "name": "stdout"
        }
      ]
    },
    {
      "metadata": {
        "id": "HThyBcHUQKcn",
        "colab_type": "code",
        "colab": {
          "base_uri": "https://localhost:8080/",
          "height": 321
        },
        "outputId": "ea758da8-4a20-47ab-f6bf-06dca0fc4e25"
      },
      "cell_type": "code",
      "source": [
        "score = model_batch.evaluate(X_test, Y_test, verbose=0) \n",
        "print('Test score:', score[0]) \n",
        "print('Test accuracy:', score[1])\n",
        "\n",
        "\n",
        "scoretrain = model_batch.evaluate(X_train, Y_train, verbose=0) \n",
        "bb=pd.DataFrame({'type':['3 Layer batch norm'],'Test Score':[score[0]],'Test Accuracy':[score[1]], \\\n",
        "                   'Train Score':[scoretrain[0]],'Train Accuracy':[scoretrain[1]]})\n",
        "aa=aa.append(bb)\n",
        "\n",
        "fig,ax = plt.subplots(1,1)\n",
        "ax.set_xlabel('epoch') ; ax.set_ylabel('Categorical Crossentropy Loss')\n",
        "\n",
        "# list of epoch numbers\n",
        "x = list(range(1,nb_epoch+1))\n",
        "\n",
        "# print(history.history.keys())\n",
        "# dict_keys(['val_loss', 'val_acc', 'loss', 'acc'])\n",
        "# history = model_drop.fit(X_train, Y_train, batch_size=batch_size, epochs=nb_epoch, verbose=1, validation_data=(X_test, Y_test))\n",
        "\n",
        "# we will get val_loss and val_acc only when you pass the paramter validation_data\n",
        "# val_loss : validation loss\n",
        "# val_acc : validation accuracy\n",
        "\n",
        "# loss : training loss\n",
        "# acc : train accuracy\n",
        "# for each key in histrory.histrory we will have a list of length equal to number of epochs\n",
        "\n",
        "vy = history.history['val_loss']\n",
        "ty = history.history['loss']\n",
        "plt_dynamic(x, vy, ty, ax)"
      ],
      "execution_count": 46,
      "outputs": [
        {
          "output_type": "stream",
          "text": [
            "Test score: 0.08531817659379323\n",
            "Test accuracy: 0.9826\n"
          ],
          "name": "stdout"
        },
        {
          "output_type": "display_data",
          "data": {
            "image/png": "[encoded data removed]",
            "text/plain": [
              "<matplotlib.figure.Figure at 0x7f1f5eb23630>"
            ]
          },
          "metadata": {
            "tags": []
          }
        }
      ]
    },
    {
      "metadata": {
        "id": "Ilj0es2yQKcp",
        "colab_type": "code",
        "colab": {
          "base_uri": "https://localhost:8080/",
          "height": 359
        },
        "outputId": "d22747c8-978b-4da5-af0f-7bc968dc8820"
      },
      "cell_type": "code",
      "source": [
        "w_after = model_batch.get_weights()\n",
        "\n",
        "h1_w = w_after[0].flatten().reshape(-1,1)\n",
        "h2_w = w_after[2].flatten().reshape(-1,1)\n",
        "out_w = w_after[4].flatten().reshape(-1,1)\n",
        "\n",
        "\n",
        "fig = plt.figure()\n",
        "plt.title(\"Weight matrices after model trained\")\n",
        "plt.subplot(1, 3, 1)\n",
        "plt.title(\"Trained model Weights\")\n",
        "ax = sns.violinplot(y=h1_w,color='b')\n",
        "plt.xlabel('Hidden Layer 1')\n",
        "\n",
        "plt.subplot(1, 3, 2)\n",
        "plt.title(\"Trained model Weights\")\n",
        "ax = sns.violinplot(y=h2_w, color='r')\n",
        "plt.xlabel('Hidden Layer 2 ')\n",
        "\n",
        "plt.subplot(1, 3, 3)\n",
        "plt.title(\"Trained model Weights\")\n",
        "ax = sns.violinplot(y=out_w,color='y')\n",
        "plt.xlabel('Output Layer ')\n",
        "plt.show()"
      ],
      "execution_count": 47,
      "outputs": [
        {
          "output_type": "stream",
          "text": [
            "/usr/local/lib/python3.6/dist-packages/seaborn/categorical.py:588: FutureWarning: remove_na is deprecated and is a private function. Do not use.\n",
            "  kde_data = remove_na(group_data)\n",
            "/usr/local/lib/python3.6/dist-packages/seaborn/categorical.py:816: FutureWarning: remove_na is deprecated and is a private function. Do not use.\n",
            "  violin_data = remove_na(group_data)\n"
          ],
          "name": "stderr"
        },
        {
          "output_type": "display_data",
          "data": {
            "image/png": "[encoded data removed]",
            "text/plain": [
              "<matplotlib.figure.Figure at 0x7f1f3e4c2e48>"
            ]
          },
          "metadata": {
            "tags": []
          }
        }
      ]
    },
    {
      "metadata": {
        "id": "IWYP8-3pQKct",
        "colab_type": "text"
      },
      "cell_type": "markdown",
      "source": [
        "<h2> 5. MLP + Dropout + AdamOptimizer </h2>"
      ]
    },
    {
      "metadata": {
        "id": "DJj0hu0-QKct",
        "colab_type": "code",
        "colab": {
          "base_uri": "https://localhost:8080/",
          "height": 413
        },
        "outputId": "adb4a7c0-7aa9-4ad2-c1ed-f152d4e88263"
      },
      "cell_type": "code",
      "source": [
        "# https://stackoverflow.com/questions/34716454/where-do-i-call-the-batchnormalization-function-in-keras\n",
        "\n",
        "from keras.layers import Dropout\n",
        "\n",
        "model_drop = Sequential()\n",
        "\n",
        "model_drop.add(Dense(512, activation='relu', input_shape=(input_dim,), kernel_initializer=RandomNormal(mean=0.0, stddev=0.039, seed=None)))\n",
        "model_drop.add(BatchNormalization())\n",
        "model_drop.add(Dropout(0.5))\n",
        "\n",
        "model_drop.add(Dense(128, activation='relu', kernel_initializer=RandomNormal(mean=0.0, stddev=0.55, seed=None)) )\n",
        "model_drop.add(BatchNormalization())\n",
        "model_drop.add(Dropout(0.5))\n",
        "\n",
        "model_drop.add(Dense(output_dim, activation='softmax'))\n",
        "\n",
        "\n",
        "model_drop.summary()"
      ],
      "execution_count": 48,
      "outputs": [
        {
          "output_type": "stream",
          "text": [
            "_________________________________________________________________\n",
            "Layer (type)                 Output Shape              Param #   \n",
            "=================================================================\n",
            "dense_20 (Dense)             (None, 512)               401920    \n",
            "_________________________________________________________________\n",
            "batch_normalization_7 (Batch (None, 512)               2048      \n",
            "_________________________________________________________________\n",
            "dropout_3 (Dropout)          (None, 512)               0         \n",
            "_________________________________________________________________\n",
            "dense_21 (Dense)             (None, 128)               65664     \n",
            "_________________________________________________________________\n",
            "batch_normalization_8 (Batch (None, 128)               512       \n",
            "_________________________________________________________________\n",
            "dropout_4 (Dropout)          (None, 128)               0         \n",
            "_________________________________________________________________\n",
            "dense_22 (Dense)             (None, 10)                1290      \n",
            "=================================================================\n",
            "Total params: 471,434\n",
            "Trainable params: 470,154\n",
            "Non-trainable params: 1,280\n",
            "_________________________________________________________________\n"
          ],
          "name": "stdout"
        }
      ]
    },
    {
      "metadata": {
        "id": "J5pc4W_9QKcw",
        "colab_type": "code",
        "colab": {
          "base_uri": "https://localhost:8080/",
          "height": 1923
        },
        "outputId": "85b118a2-50df-41f1-ad97-c0fc376f863d"
      },
      "cell_type": "code",
      "source": [
        "model_drop.compile(optimizer='adam', loss='categorical_crossentropy', metrics=['accuracy'])\n",
        "\n",
        "history = model_drop.fit(X_train, Y_train, batch_size=batch_size, epochs=nb_epoch, verbose=1, validation_data=(X_test, Y_test))"
      ],
      "execution_count": 49,
      "outputs": [
        {
          "output_type": "stream",
          "text": [
            "Train on 60000 samples, validate on 10000 samples\n",
            "Epoch 1/50\n",
            "60000/60000 [==============================] - 8s 126us/step - loss: 0.4800 - acc: 0.8543 - val_loss: 0.1561 - val_acc: 0.9528\n",
            "Epoch 2/50\n",
            "60000/60000 [==============================] - 7s 109us/step - loss: 0.2490 - acc: 0.9253 - val_loss: 0.1226 - val_acc: 0.9602\n",
            "Epoch 3/50\n",
            "60000/60000 [==============================] - 6s 106us/step - loss: 0.2043 - acc: 0.9382 - val_loss: 0.1042 - val_acc: 0.9671\n",
            "Epoch 4/50\n",
            "60000/60000 [==============================] - 7s 108us/step - loss: 0.1756 - acc: 0.9467 - val_loss: 0.0961 - val_acc: 0.9698\n",
            "Epoch 5/50\n",
            "60000/60000 [==============================] - 6s 108us/step - loss: 0.1578 - acc: 0.9524 - val_loss: 0.0918 - val_acc: 0.9715\n",
            "Epoch 6/50\n",
            "60000/60000 [==============================] - 6s 106us/step - loss: 0.1441 - acc: 0.9567 - val_loss: 0.0824 - val_acc: 0.9747\n",
            "Epoch 7/50\n",
            "60000/60000 [==============================] - 6s 107us/step - loss: 0.1309 - acc: 0.9603 - val_loss: 0.0783 - val_acc: 0.9755\n",
            "Epoch 8/50\n",
            "60000/60000 [==============================] - 7s 110us/step - loss: 0.1232 - acc: 0.9635 - val_loss: 0.0747 - val_acc: 0.9760\n",
            "Epoch 9/50\n",
            "60000/60000 [==============================] - 7s 111us/step - loss: 0.1145 - acc: 0.9646 - val_loss: 0.0741 - val_acc: 0.9769\n",
            "Epoch 10/50\n",
            "60000/60000 [==============================] - 7s 114us/step - loss: 0.1109 - acc: 0.9659 - val_loss: 0.0719 - val_acc: 0.9786\n",
            "Epoch 11/50\n",
            "60000/60000 [==============================] - 6s 105us/step - loss: 0.1022 - acc: 0.9685 - val_loss: 0.0675 - val_acc: 0.9789\n",
            "Epoch 12/50\n",
            "60000/60000 [==============================] - 6s 106us/step - loss: 0.0968 - acc: 0.9695 - val_loss: 0.0697 - val_acc: 0.9787\n",
            "Epoch 13/50\n",
            "60000/60000 [==============================] - 7s 109us/step - loss: 0.0909 - acc: 0.9724 - val_loss: 0.0669 - val_acc: 0.9793\n",
            "Epoch 14/50\n",
            "60000/60000 [==============================] - 6s 104us/step - loss: 0.0884 - acc: 0.9726 - val_loss: 0.0694 - val_acc: 0.9801\n",
            "Epoch 15/50\n",
            "60000/60000 [==============================] - 6s 106us/step - loss: 0.0835 - acc: 0.9739 - val_loss: 0.0671 - val_acc: 0.9824\n",
            "Epoch 16/50\n",
            "60000/60000 [==============================] - 7s 111us/step - loss: 0.0783 - acc: 0.9754 - val_loss: 0.0614 - val_acc: 0.9830\n",
            "Epoch 17/50\n",
            "60000/60000 [==============================] - 6s 105us/step - loss: 0.0733 - acc: 0.9770 - val_loss: 0.0591 - val_acc: 0.9828\n",
            "Epoch 18/50\n",
            "60000/60000 [==============================] - 7s 116us/step - loss: 0.0739 - acc: 0.9765 - val_loss: 0.0650 - val_acc: 0.9816\n",
            "Epoch 19/50\n",
            "60000/60000 [==============================] - 6s 108us/step - loss: 0.0712 - acc: 0.9778 - val_loss: 0.0600 - val_acc: 0.9819\n",
            "Epoch 20/50\n",
            "60000/60000 [==============================] - 6s 107us/step - loss: 0.0691 - acc: 0.9780 - val_loss: 0.0604 - val_acc: 0.9822\n",
            "Epoch 21/50\n",
            "60000/60000 [==============================] - 6s 108us/step - loss: 0.0666 - acc: 0.9786 - val_loss: 0.0585 - val_acc: 0.9831\n",
            "Epoch 22/50\n",
            "60000/60000 [==============================] - 6s 105us/step - loss: 0.0659 - acc: 0.9785 - val_loss: 0.0608 - val_acc: 0.9834\n",
            "Epoch 23/50\n",
            "60000/60000 [==============================] - 6s 106us/step - loss: 0.0643 - acc: 0.9797 - val_loss: 0.0647 - val_acc: 0.9827\n",
            "Epoch 24/50\n",
            "60000/60000 [==============================] - 6s 107us/step - loss: 0.0631 - acc: 0.9795 - val_loss: 0.0564 - val_acc: 0.9846\n",
            "Epoch 25/50\n",
            "60000/60000 [==============================] - 7s 110us/step - loss: 0.0582 - acc: 0.9818 - val_loss: 0.0611 - val_acc: 0.9824\n",
            "Epoch 26/50\n",
            "60000/60000 [==============================] - 6s 108us/step - loss: 0.0587 - acc: 0.9810 - val_loss: 0.0610 - val_acc: 0.9831\n",
            "Epoch 27/50\n",
            "60000/60000 [==============================] - 7s 109us/step - loss: 0.0570 - acc: 0.9815 - val_loss: 0.0579 - val_acc: 0.9830\n",
            "Epoch 28/50\n",
            "60000/60000 [==============================] - 6s 107us/step - loss: 0.0544 - acc: 0.9826 - val_loss: 0.0604 - val_acc: 0.9841\n",
            "Epoch 29/50\n",
            "60000/60000 [==============================] - 7s 110us/step - loss: 0.0524 - acc: 0.9836 - val_loss: 0.0607 - val_acc: 0.9836\n",
            "Epoch 30/50\n",
            "60000/60000 [==============================] - 6s 107us/step - loss: 0.0508 - acc: 0.9836 - val_loss: 0.0609 - val_acc: 0.9834\n",
            "Epoch 31/50\n",
            "60000/60000 [==============================] - 6s 104us/step - loss: 0.0506 - acc: 0.9840 - val_loss: 0.0581 - val_acc: 0.9845\n",
            "Epoch 32/50\n",
            "60000/60000 [==============================] - 6s 106us/step - loss: 0.0497 - acc: 0.9838 - val_loss: 0.0584 - val_acc: 0.9839\n",
            "Epoch 33/50\n",
            "60000/60000 [==============================] - 6s 105us/step - loss: 0.0464 - acc: 0.9851 - val_loss: 0.0580 - val_acc: 0.9838\n",
            "Epoch 34/50\n",
            "60000/60000 [==============================] - 6s 106us/step - loss: 0.0463 - acc: 0.9849 - val_loss: 0.0601 - val_acc: 0.9843\n",
            "Epoch 35/50\n",
            "60000/60000 [==============================] - 6s 108us/step - loss: 0.0462 - acc: 0.9851 - val_loss: 0.0599 - val_acc: 0.9832\n",
            "Epoch 36/50\n",
            "60000/60000 [==============================] - 6s 104us/step - loss: 0.0448 - acc: 0.9856 - val_loss: 0.0599 - val_acc: 0.9847\n",
            "Epoch 37/50\n",
            "60000/60000 [==============================] - 6s 108us/step - loss: 0.0421 - acc: 0.9862 - val_loss: 0.0610 - val_acc: 0.9847\n",
            "Epoch 38/50\n",
            "60000/60000 [==============================] - 7s 109us/step - loss: 0.0417 - acc: 0.9861 - val_loss: 0.0617 - val_acc: 0.9836\n",
            "Epoch 39/50\n",
            "60000/60000 [==============================] - 6s 106us/step - loss: 0.0411 - acc: 0.9867 - val_loss: 0.0593 - val_acc: 0.9839\n",
            "Epoch 40/50\n",
            "60000/60000 [==============================] - 6s 108us/step - loss: 0.0399 - acc: 0.9871 - val_loss: 0.0607 - val_acc: 0.9837\n",
            "Epoch 41/50\n",
            "60000/60000 [==============================] - 6s 104us/step - loss: 0.0397 - acc: 0.9871 - val_loss: 0.0605 - val_acc: 0.9851\n",
            "Epoch 42/50\n",
            "60000/60000 [==============================] - 6s 105us/step - loss: 0.0380 - acc: 0.9874 - val_loss: 0.0590 - val_acc: 0.9843\n",
            "Epoch 43/50\n",
            "60000/60000 [==============================] - 6s 106us/step - loss: 0.0384 - acc: 0.9881 - val_loss: 0.0647 - val_acc: 0.9839\n",
            "Epoch 44/50\n",
            "60000/60000 [==============================] - 6s 105us/step - loss: 0.0357 - acc: 0.9883 - val_loss: 0.0596 - val_acc: 0.9846\n",
            "Epoch 45/50\n",
            "60000/60000 [==============================] - 6s 105us/step - loss: 0.0334 - acc: 0.9888 - val_loss: 0.0594 - val_acc: 0.9841\n",
            "Epoch 46/50\n",
            "60000/60000 [==============================] - 6s 105us/step - loss: 0.0354 - acc: 0.9886 - val_loss: 0.0617 - val_acc: 0.9842\n",
            "Epoch 47/50\n",
            "60000/60000 [==============================] - 6s 107us/step - loss: 0.0361 - acc: 0.9884 - val_loss: 0.0611 - val_acc: 0.9845\n",
            "Epoch 48/50\n",
            "60000/60000 [==============================] - 7s 110us/step - loss: 0.0326 - acc: 0.9889 - val_loss: 0.0597 - val_acc: 0.9847\n",
            "Epoch 49/50\n",
            "60000/60000 [==============================] - 6s 103us/step - loss: 0.0340 - acc: 0.9891 - val_loss: 0.0610 - val_acc: 0.9843\n",
            "Epoch 50/50\n",
            "60000/60000 [==============================] - 6s 105us/step - loss: 0.0334 - acc: 0.9893 - val_loss: 0.0594 - val_acc: 0.9851\n"
          ],
          "name": "stdout"
        }
      ]
    },
    {
      "metadata": {
        "id": "i5WcfQRFQKc0",
        "colab_type": "code",
        "colab": {
          "base_uri": "https://localhost:8080/",
          "height": 320
        },
        "outputId": "e724c14c-9c6b-4532-f794-f6855d26834d"
      },
      "cell_type": "code",
      "source": [
        "score = model_drop.evaluate(X_test, Y_test, verbose=0) \n",
        "print('Test score:', score[0]) \n",
        "print('Test accuracy:', score[1])\n",
        "scoretrain = model_drop.evaluate(X_train, Y_train, verbose=0) \n",
        "bb=pd.DataFrame({'type':['3 Layer batch norm dropout'],'Test Score':[score[0]],'Test Accuracy':[score[1]], \\\n",
        "                   'Train Score':[scoretrain[0]],'Train Accuracy':[scoretrain[1]]})\n",
        "aa=aa.append(bb)\n",
        "fig,ax = plt.subplots(1,1)\n",
        "ax.set_xlabel('epoch') ; ax.set_ylabel('Categorical Crossentropy Loss')\n",
        "\n",
        "# list of epoch numbers\n",
        "x = list(range(1,nb_epoch+1))\n",
        "\n",
        "# print(history.history.keys())\n",
        "# dict_keys(['val_loss', 'val_acc', 'loss', 'acc'])\n",
        "# history = model_drop.fit(X_train, Y_train, batch_size=batch_size, epochs=nb_epoch, verbose=1, validation_data=(X_test, Y_test))\n",
        "\n",
        "# we will get val_loss and val_acc only when you pass the paramter validation_data\n",
        "# val_loss : validation loss\n",
        "# val_acc : validation accuracy\n",
        "\n",
        "# loss : training loss\n",
        "# acc : train accuracy\n",
        "# for each key in histrory.histrory we will have a list of length equal to number of epochs\n",
        "\n",
        "vy = history.history['val_loss']\n",
        "ty = history.history['loss']\n",
        "plt_dynamic(x, vy, ty, ax)"
      ],
      "execution_count": 50,
      "outputs": [
        {
          "output_type": "stream",
          "text": [
            "Test score: 0.05944320905764616\n",
            "Test accuracy: 0.9851\n"
          ],
          "name": "stdout"
        },
        {
          "output_type": "display_data",
          "data": {
            "image/png": "[encoded data removed]",
            "text/plain": [
              "<matplotlib.figure.Figure at 0x7f1f5bfdfba8>"
            ]
          },
          "metadata": {
            "tags": []
          }
        }
      ]
    },
    {
      "metadata": {
        "id": "U2N2u7xoQKc2",
        "colab_type": "code",
        "colab": {
          "base_uri": "https://localhost:8080/",
          "height": 359
        },
        "outputId": "63e266ce-1f9a-466f-b600-f1d8ac9050ac"
      },
      "cell_type": "code",
      "source": [
        "w_after = model_drop.get_weights()\n",
        "\n",
        "h1_w = w_after[0].flatten().reshape(-1,1)\n",
        "h2_w = w_after[2].flatten().reshape(-1,1)\n",
        "out_w = w_after[4].flatten().reshape(-1,1)\n",
        "\n",
        "\n",
        "fig = plt.figure()\n",
        "plt.title(\"Weight matrices after model trained\")\n",
        "plt.subplot(1, 3, 1)\n",
        "plt.title(\"Trained model Weights\")\n",
        "ax = sns.violinplot(y=h1_w,color='b')\n",
        "plt.xlabel('Hidden Layer 1')\n",
        "\n",
        "plt.subplot(1, 3, 2)\n",
        "plt.title(\"Trained model Weights\")\n",
        "ax = sns.violinplot(y=h2_w, color='r')\n",
        "plt.xlabel('Hidden Layer 2 ')\n",
        "\n",
        "plt.subplot(1, 3, 3)\n",
        "plt.title(\"Trained model Weights\")\n",
        "ax = sns.violinplot(y=out_w,color='y')\n",
        "plt.xlabel('Output Layer ')\n",
        "plt.show()"
      ],
      "execution_count": 51,
      "outputs": [
        {
          "output_type": "stream",
          "text": [
            "/usr/local/lib/python3.6/dist-packages/seaborn/categorical.py:588: FutureWarning: remove_na is deprecated and is a private function. Do not use.\n",
            "  kde_data = remove_na(group_data)\n",
            "/usr/local/lib/python3.6/dist-packages/seaborn/categorical.py:816: FutureWarning: remove_na is deprecated and is a private function. Do not use.\n",
            "  violin_data = remove_na(group_data)\n"
          ],
          "name": "stderr"
        },
        {
          "output_type": "display_data",
          "data": {
            "image/png": "[encoded data removed]",
            "text/plain": [
              "<matplotlib.figure.Figure at 0x7f1f5eb6fd68>"
            ]
          },
          "metadata": {
            "tags": []
          }
        }
      ]
    },
    {
      "metadata": {
        "id": "ayBTjaZGQKc6",
        "colab_type": "text"
      },
      "cell_type": "markdown",
      "source": [
        "Hyper-parameter tuning of Keras models using Sklearn "
      ]
    },
    {
      "metadata": {
        "id": "8k1L9fZcQKc6",
        "colab_type": "code",
        "colab": {}
      },
      "cell_type": "code",
      "source": [
        "#SMUK last\n",
        "from keras.optimizers import Adam,RMSprop,SGD\n",
        "def best_hyperparameters(activ,drop,norm):\n",
        "    \n",
        "    \n",
        "    model = Sequential()\n",
        "    model.add(Dense(512, activation=activ, input_shape=(input_dim,), kernel_initializer=RandomNormal(mean=0.0, stddev=0.062, seed=None)))\n",
        "    if norm=='True':\n",
        "        model.add(BatchNormalization())\n",
        "    model.add(Dropout(drop))\n",
        "    \n",
        "    model.add(Dense(128, activation=activ, kernel_initializer=RandomNormal(mean=0.0, stddev=0.125, seed=None)) )\n",
        "    if norm=='True':\n",
        "        model.add(BatchNormalization())\n",
        "    model.add(Dropout(drop))\n",
        "    \n",
        "    model.add(Dense(output_dim, activation='softmax'))\n",
        "\n",
        "    model.compile(loss='categorical_crossentropy', metrics=['accuracy'], optimizer='adam')\n",
        "    \n",
        "    return model"
      ],
      "execution_count": 0,
      "outputs": []
    },
    {
      "metadata": {
        "id": "Mj1klnwWQKc7",
        "colab_type": "code",
        "colab": {}
      },
      "cell_type": "code",
      "source": [
        "#SMUK at last\n",
        "# https://machinelearningmastery.com/grid-search-hyperparameters-deep-learning-models-python-keras/\n",
        "\n",
        "activ = ['sigmoid','relu']\n",
        "drop=[.5,1]\n",
        "norm=['True','False']\n",
        "\n",
        "from keras.wrappers.scikit_learn import KerasClassifier\n",
        "from sklearn.model_selection import GridSearchCV\n",
        "\n",
        "#model = KerasClassifier(build_fn=best_hyperparameters, epochs=nb_epoch, batch_size=batch_size, verbose=0)\n",
        "param_grid = dict(activ=activ,drop=drop,norm=norm)\n",
        "\n",
        "# if you are using CPU\n",
        "# grid = GridSearchCV(estimator=model, param_grid=param_grid, n_jobs=-1)\n",
        "# if you are using GPU dont use the n_jobs parameter\n",
        "\n",
        "#grid = GridSearchCV(estimator=model, param_grid=param_grid)\n",
        "#grid_result = grid.fit(X_train, Y_train)"
      ],
      "execution_count": 0,
      "outputs": []
    },
    {
      "metadata": {
        "id": "9UiW9qkmQKc8",
        "colab_type": "code",
        "colab": {}
      },
      "cell_type": "code",
      "source": [
        "#print(\"Best: %f using %s\" % (grid_result.best_score_, grid_result.best_params_))\n",
        "#means = grid_result.cv_results_['mean_test_score']\n",
        "#stds = grid_result.cv_results_['std_test_score']\n",
        "#params = grid_result.cv_results_['params']\n",
        "#for mean, stdev, param in zip(means, stds, params):\n",
        "#    print(\"%f (%f) with: %r\" % (mean, stdev, param))\n",
        "    \n",
        "\n"
      ],
      "execution_count": 0,
      "outputs": []
    },
    {
      "metadata": {
        "id": "JapvhsGuH8Um",
        "colab_type": "code",
        "colab": {
          "base_uri": "https://localhost:8080/",
          "height": 55
        },
        "outputId": "b5b9b8d0-c1fa-4cae-b8f2-6d831662d3a7"
      },
      "cell_type": "code",
      "source": [
        "#model with best parameter\n",
        "#score = model_drop.evaluate(X_test, Y_test, verbose=0) \n",
        "print('Test score:', score[0]) \n",
        "print('Test accuracy:', score[1])\n",
        "#scoretrain = model_drop.evaluate(X_train, Y_train, verbose=0) \n",
        "#bb=pd.DataFrame({'type':['3 Layer batch norm dropout'],'Test Score':[score[0]],'Test Accuracy':[score[1]], \\\n",
        "#                   'Train Score':[scoretrain[0]],'Train Accuracy':[scoretrain[1]]})\n",
        "#aa=aa.append(bb)"
      ],
      "execution_count": 54,
      "outputs": [
        {
          "output_type": "stream",
          "text": [
            "Test score: 0.05944320905764616\n",
            "Test accuracy: 0.9851\n"
          ],
          "name": "stdout"
        }
      ]
    },
    {
      "metadata": {
        "id": "DaFpvNQ1H8Uw",
        "colab_type": "code",
        "colab": {}
      },
      "cell_type": "code",
      "source": [
        ""
      ],
      "execution_count": 0,
      "outputs": []
    },
    {
      "metadata": {
        "id": "5YNbzFtSH8U5",
        "colab_type": "code",
        "colab": {}
      },
      "cell_type": "code",
      "source": [
        ""
      ],
      "execution_count": 0,
      "outputs": []
    },
    {
      "metadata": {
        "id": "5Q5wF51dH8U-",
        "colab_type": "code",
        "colab": {}
      },
      "cell_type": "code",
      "source": [
        ""
      ],
      "execution_count": 0,
      "outputs": []
    },
    {
      "metadata": {
        "id": "nXKRkcJuH8VJ",
        "colab_type": "text"
      },
      "cell_type": "markdown",
      "source": [
        "# Try with 3 hidden layer"
      ]
    },
    {
      "metadata": {
        "id": "Gd476WoqH8VL",
        "colab_type": "code",
        "colab": {
          "base_uri": "https://localhost:8080/",
          "height": 8962
        },
        "outputId": "53baed8c-b897-40b2-e17a-c55812d5360e"
      },
      "cell_type": "code",
      "source": [
        "model_relu = Sequential()\n",
        "model_relu.add(Dense(512, activation='relu', input_shape=(input_dim,), kernel_initializer=RandomNormal(mean=0.0, stddev=0.062, seed=None)))\n",
        "#smuk\n",
        "model_relu.add(Dense(256, activation='relu', kernel_initializer=RandomNormal(mean=0.0, stddev=0.088, seed=None)))  #sqrt(2/356)\n",
        "model_relu.add(Dense(128, activation='relu', kernel_initializer=RandomNormal(mean=0.0, stddev=0.125, seed=None)) )\n",
        "model_relu.add(Dense(output_dim, activation='softmax'))\n",
        "\n",
        "print(model_relu.summary())\n",
        "\n",
        "model_relu.compile(optimizer='adam', loss='categorical_crossentropy', metrics=['accuracy'])\n",
        "\n",
        "history = model_relu.fit(X_train, Y_train, batch_size=batch_size, epochs=nb_epoch, verbose=1, validation_data=(X_test, Y_test))\n",
        "\n",
        "\n",
        "\n",
        "score = model_relu.evaluate(X_test, Y_test, verbose=0) \n",
        "print('Test score:', score[0]) \n",
        "print('Test accuracy:', score[1])\n",
        "\n",
        "import pandas as pd\n",
        "scoretrain = model_relu.evaluate(X_train, Y_train, verbose=0) \n",
        "bb=pd.DataFrame({'type':['4 Layer '],'Test Score':[score[0]],'Test Accuracy':[score[1]], \\\n",
        "                   'Train Score':[scoretrain[0]],'Train Accuracy':[scoretrain[1]]})\n",
        "print('Score',bb)\n",
        "aa=aa.append(bb)\n",
        "\n",
        "fig,ax = plt.subplots(1,1)\n",
        "ax.set_xlabel('epoch') ; ax.set_ylabel('Categorical Crossentropy Loss')\n",
        "\n",
        "# list of epoch numbers\n",
        "x = list(range(1,nb_epoch+1))\n",
        "\n",
        "vy = history.history['val_loss']\n",
        "ty = history.history['loss']\n",
        "plt_dynamic(x, vy, ty, ax)\n",
        "\n",
        "\n",
        "print(aa)\n",
        "w_after = model_relu.get_weights()\n",
        "\n",
        "h1_w = w_after[0].flatten().reshape(-1,1)\n",
        "h2_w = w_after[2].flatten().reshape(-1,1)\n",
        "h3_w = w_after[4].flatten().reshape(-1,1)\n",
        "out_w = w_after[6].flatten().reshape(-1,1)\n",
        "\n",
        "\n",
        "fig = plt.figure()\n",
        "plt.title(\"Weight matrices after model trained\")\n",
        "plt.subplot(1, 4, 1)\n",
        "plt.title(\"Trained model Weights\")\n",
        "ax = sns.violinplot(y=h1_w,color='b')\n",
        "plt.xlabel('Hidden Layer 1')\n",
        "\n",
        "plt.subplot(1, 4, 2)\n",
        "plt.title(\"Trained model Weights\")\n",
        "ax = sns.violinplot(y=h2_w, color='r')\n",
        "plt.xlabel('Hidden Layer 2 ')\n",
        "\n",
        "plt.subplot(1, 4, 3)\n",
        "plt.title(\"Trained model Weights\")\n",
        "ax = sns.violinplot(y=h3_w, color='r')\n",
        "plt.xlabel('Hidden Layer 3 ')\n",
        "\n",
        "\n",
        "plt.subplot(1, 4, 4)\n",
        "plt.title(\"Trained model Weights\")\n",
        "ax = sns.violinplot(y=out_w,color='y')\n",
        "plt.xlabel('Output Layer ')\n",
        "plt.show()\n",
        "\n",
        "\n",
        "from keras.layers.normalization import BatchNormalization\n",
        "# h1 =>  σ=√(2/(ni+ni+1) = 0.039  => N(0,σ) = N(0,0.039)\n",
        "# h2 =>  σ=√(2/(ni+ni+1) = 0.055  => N(0,σ) = N(0,0.055)\n",
        "# h1 =>  σ=√(2/(ni+ni+1) = 0.120  => N(0,σ) = N(0,0.120)\n",
        "\n",
        "model_batch = Sequential()\n",
        "\n",
        "model_batch.add(Dense(512, activation='relu', input_shape=(input_dim,), kernel_initializer=RandomNormal(mean=0.0, stddev=0.039, seed=None)))\n",
        "model_batch.add(BatchNormalization())\n",
        "\n",
        "#smuk\n",
        "model_batch.add(Dense(256, activation='relu', kernel_initializer=RandomNormal(mean=0.0, stddev=0.05, seed=None)))\n",
        "model_batch.add(BatchNormalization())\n",
        "#smuk\n",
        "model_batch.add(Dense(128, activation='relu', kernel_initializer=RandomNormal(mean=0.0, stddev=0.072, seed=None)) )\n",
        "model_batch.add(BatchNormalization())\n",
        "\n",
        "model_batch.add(Dense(output_dim, activation='softmax'))\n",
        "\n",
        "\n",
        "model_batch.summary()\n",
        "\n",
        "model_batch.compile(optimizer='adam', loss='categorical_crossentropy', metrics=['accuracy'])\n",
        "\n",
        "history = model_batch.fit(X_train, Y_train, batch_size=batch_size, epochs=nb_epoch, verbose=1, validation_data=(X_test, Y_test))\n",
        "\n",
        "\n",
        "score = model_batch.evaluate(X_test, Y_test, verbose=0) \n",
        "print('Test score:', score[0]) \n",
        "print('Test accuracy:', score[1])\n",
        "\n",
        "\n",
        "scoretrain = model_batch.evaluate(X_train, Y_train, verbose=0) \n",
        "bb=pd.DataFrame({'type':['4 Layer batch norm'],'Test Score':[score[0]],'Test Accuracy':[score[1]], \\\n",
        "                   'Train Score':[scoretrain[0]],'Train Accuracy':[scoretrain[1]]})\n",
        "\n",
        "aa=aa.append(bb)\n",
        "fig,ax = plt.subplots(1,1)\n",
        "ax.set_xlabel('epoch') ; ax.set_ylabel('Categorical Crossentropy Loss')\n",
        "\n",
        "# list of epoch numbers\n",
        "x = list(range(1,nb_epoch+1))\n",
        "\n",
        "# print(history.history.keys())\n",
        "# dict_keys(['val_loss', 'val_acc', 'loss', 'acc'])\n",
        "# history = model_drop.fit(X_train, Y_train, batch_size=batch_size, epochs=nb_epoch, verbose=1, validation_data=(X_test, Y_test))\n",
        "\n",
        "# we will get val_loss and val_acc only when you pass the paramter validation_data\n",
        "# val_loss : validation loss\n",
        "# val_acc : validation accuracy\n",
        "\n",
        "# loss : training loss\n",
        "# acc : train accuracy\n",
        "# for each key in histrory.histrory we will have a list of length equal to number of epochs\n",
        "\n",
        "vy = history.history['val_loss']\n",
        "ty = history.history['loss']\n",
        "plt_dynamic(x, vy, ty, ax)\n",
        "\n",
        "\n",
        "w_after = model_batch.get_weights()\n",
        "\n",
        "h1_w = w_after[0].flatten().reshape(-1,1)\n",
        "h2_w = w_after[2].flatten().reshape(-1,1)\n",
        "h3_w = w_after[4].flatten().reshape(-1,1)\n",
        "out_w = w_after[6].flatten().reshape(-1,1)\n",
        "\n",
        "\n",
        "fig = plt.figure()\n",
        "plt.title(\"Weight matrices after model trained batch norm\")\n",
        "plt.subplot(1, 4, 1)\n",
        "plt.title(\"Trained model Weights\")\n",
        "ax = sns.violinplot(y=h1_w,color='b')\n",
        "plt.xlabel('Hidden Layer 1')\n",
        "\n",
        "plt.subplot(1, 4, 2)\n",
        "plt.title(\"Trained model Weights\")\n",
        "ax = sns.violinplot(y=h2_w, color='r')\n",
        "plt.xlabel('Hidden Layer 2 ')\n",
        "\n",
        "plt.subplot(1, 4, 3)\n",
        "plt.title(\"Trained model Weights\")\n",
        "ax = sns.violinplot(y=h3_w, color='r')\n",
        "plt.xlabel('Hidden Layer 3 ')\n",
        "\n",
        "plt.subplot(1, 4, 4)\n",
        "plt.title(\"Trained model Weights\")\n",
        "ax = sns.violinplot(y=out_w,color='y')\n",
        "plt.xlabel('Output Layer ')\n",
        "plt.show()\n",
        "\n",
        "#\n",
        "\n",
        "# https://stackoverflow.com/questions/34716454/where-do-i-call-the-batchnormalization-function-in-keras\n",
        "\n",
        "from keras.layers import Dropout\n",
        "\n",
        "model_drop = Sequential()\n",
        "\n",
        "model_drop.add(Dense(512, activation='relu', input_shape=(input_dim,), kernel_initializer=RandomNormal(mean=0.0, stddev=0.039, seed=None)))\n",
        "model_drop.add(BatchNormalization())\n",
        "model_drop.add(Dropout(0.5))\n",
        "\n",
        "model_drop.add(Dense(256, activation='relu', input_shape=(input_dim,), kernel_initializer=RandomNormal(mean=0.0, stddev=0.5, seed=None)))\n",
        "model_drop.add(BatchNormalization())\n",
        "model_drop.add(Dropout(0.5))\n",
        "\n",
        "model_drop.add(Dense(128, activation='relu', kernel_initializer=RandomNormal(mean=0.0, stddev=0.072, seed=None)) )\n",
        "model_drop.add(BatchNormalization())\n",
        "model_drop.add(Dropout(0.5))\n",
        "\n",
        "model_drop.add(Dense(output_dim, activation='softmax'))\n",
        "\n",
        "\n",
        "model_drop.summary()\n",
        "\n",
        "model_drop.compile(optimizer='adam', loss='categorical_crossentropy', metrics=['accuracy'])\n",
        "\n",
        "history = model_drop.fit(X_train, Y_train, batch_size=batch_size, epochs=nb_epoch, verbose=1, validation_data=(X_test, Y_test))\n",
        "\n",
        "\n",
        "score = model_drop.evaluate(X_test, Y_test, verbose=0) \n",
        "print('Test score:', score[0]) \n",
        "print('Test accuracy:', score[1])\n",
        "scoretrain = model_drop.evaluate(X_train, Y_train, verbose=0) \n",
        "bb=pd.DataFrame({'type':['4 Layer batch norm dropout'],'Test Score':[score[0]],'Test Accuracy':[score[1]], \\\n",
        "                   'Train Score':[scoretrain[0]],'Train Accuracy':[scoretrain[1]]})\n",
        "aa=aa.append(bb)\n",
        "fig,ax = plt.subplots(1,1)\n",
        "ax.set_xlabel('epoch') ; ax.set_ylabel('Categorical Crossentropy Loss')\n",
        "\n",
        "# list of epoch numbers\n",
        "x = list(range(1,nb_epoch+1))\n",
        "\n",
        "# print(history.history.keys())\n",
        "# dict_keys(['val_loss', 'val_acc', 'loss', 'acc'])\n",
        "# history = model_drop.fit(X_train, Y_train, batch_size=batch_size, epochs=nb_epoch, verbose=1, validation_data=(X_test, Y_test))\n",
        "\n",
        "# we will get val_loss and val_acc only when you pass the paramter validation_data\n",
        "# val_loss : validation loss\n",
        "# val_acc : validation accuracy\n",
        "\n",
        "# loss : training loss\n",
        "# acc : train accuracy\n",
        "# for each key in histrory.histrory we will have a list of length equal to number of epochs\n",
        "\n",
        "vy = history.history['val_loss']\n",
        "ty = history.history['loss']\n",
        "plt_dynamic(x, vy, ty, ax)\n",
        "\n",
        "\n",
        "w_after = model_drop.get_weights()\n",
        "\n",
        "h1_w = w_after[0].flatten().reshape(-1,1)\n",
        "h2_w = w_after[2].flatten().reshape(-1,1)\n",
        "h3_w = w_after[4].flatten().reshape(-1,1)\n",
        "out_w = w_after[6].flatten().reshape(-1,1)\n",
        "\n",
        "\n",
        "fig = plt.figure()\n",
        "plt.title(\"Weight matrices after model trained batch norm and dropout\")\n",
        "plt.subplot(1, 4, 1)\n",
        "plt.title(\"Trained model Weights\")\n",
        "ax = sns.violinplot(y=h1_w,color='b')\n",
        "plt.xlabel('Hidden Layer 1')\n",
        "\n",
        "plt.subplot(1, 4, 2)\n",
        "plt.title(\"Trained model Weights\")\n",
        "ax = sns.violinplot(y=h2_w, color='r')\n",
        "plt.xlabel('Hidden Layer 2 ')\n",
        "\n",
        "plt.subplot(1, 4, 3)\n",
        "plt.title(\"Trained model Weights\")\n",
        "ax = sns.violinplot(y=h3_w, color='r')\n",
        "plt.xlabel('Hidden Layer 3 ')\n",
        "\n",
        "plt.subplot(1, 4, 4)\n",
        "plt.title(\"Trained model Weights\")\n",
        "ax = sns.violinplot(y=out_w,color='y')\n",
        "plt.xlabel('Output Layer ')\n",
        "plt.show()\n",
        "\n",
        "\n",
        "\n"
      ],
      "execution_count": 55,
      "outputs": [
        {
          "output_type": "stream",
          "text": [
            "_________________________________________________________________\n",
            "Layer (type)                 Output Shape              Param #   \n",
            "=================================================================\n",
            "dense_23 (Dense)             (None, 512)               401920    \n",
            "_________________________________________________________________\n",
            "dense_24 (Dense)             (None, 256)               131328    \n",
            "_________________________________________________________________\n",
            "dense_25 (Dense)             (None, 128)               32896     \n",
            "_________________________________________________________________\n",
            "dense_26 (Dense)             (None, 10)                1290      \n",
            "=================================================================\n",
            "Total params: 567,434\n",
            "Trainable params: 567,434\n",
            "Non-trainable params: 0\n",
            "_________________________________________________________________\n",
            "None\n",
            "Train on 60000 samples, validate on 10000 samples\n",
            "Epoch 1/50\n",
            "60000/60000 [==============================] - 5s 83us/step - loss: 0.2178 - acc: 0.9335 - val_loss: 0.1116 - val_acc: 0.9638\n",
            "Epoch 2/50\n",
            "60000/60000 [==============================] - 4s 68us/step - loss: 0.0813 - acc: 0.9753 - val_loss: 0.0945 - val_acc: 0.9691\n",
            "Epoch 3/50\n",
            "60000/60000 [==============================] - 4s 69us/step - loss: 0.0521 - acc: 0.9835 - val_loss: 0.0783 - val_acc: 0.9762\n",
            "Epoch 4/50\n",
            "60000/60000 [==============================] - 4s 67us/step - loss: 0.0373 - acc: 0.9881 - val_loss: 0.0767 - val_acc: 0.9774\n",
            "Epoch 5/50\n",
            "60000/60000 [==============================] - 4s 68us/step - loss: 0.0307 - acc: 0.9899 - val_loss: 0.0757 - val_acc: 0.9791\n",
            "Epoch 6/50\n",
            "60000/60000 [==============================] - 4s 66us/step - loss: 0.0256 - acc: 0.9919 - val_loss: 0.0818 - val_acc: 0.9793\n",
            "Epoch 7/50\n",
            "60000/60000 [==============================] - 4s 64us/step - loss: 0.0236 - acc: 0.9920 - val_loss: 0.0845 - val_acc: 0.9768\n",
            "Epoch 8/50\n",
            "60000/60000 [==============================] - 4s 67us/step - loss: 0.0200 - acc: 0.9934 - val_loss: 0.0867 - val_acc: 0.9768\n",
            "Epoch 9/50\n",
            "60000/60000 [==============================] - 4s 64us/step - loss: 0.0165 - acc: 0.9945 - val_loss: 0.0979 - val_acc: 0.9753\n",
            "Epoch 10/50\n",
            "60000/60000 [==============================] - 4s 64us/step - loss: 0.0105 - acc: 0.9964 - val_loss: 0.1002 - val_acc: 0.9761\n",
            "Epoch 11/50\n",
            "60000/60000 [==============================] - 4s 66us/step - loss: 0.0185 - acc: 0.9940 - val_loss: 0.0955 - val_acc: 0.9773\n",
            "Epoch 12/50\n",
            "60000/60000 [==============================] - 4s 65us/step - loss: 0.0143 - acc: 0.9952 - val_loss: 0.0957 - val_acc: 0.9797\n",
            "Epoch 13/50\n",
            "60000/60000 [==============================] - 4s 65us/step - loss: 0.0127 - acc: 0.9960 - val_loss: 0.0822 - val_acc: 0.9815\n",
            "Epoch 14/50\n",
            "60000/60000 [==============================] - 4s 65us/step - loss: 0.0085 - acc: 0.9973 - val_loss: 0.0790 - val_acc: 0.9822\n",
            "Epoch 15/50\n",
            "60000/60000 [==============================] - 4s 65us/step - loss: 0.0120 - acc: 0.9962 - val_loss: 0.0959 - val_acc: 0.9787\n",
            "Epoch 16/50\n",
            "60000/60000 [==============================] - 4s 73us/step - loss: 0.0143 - acc: 0.9956 - val_loss: 0.1144 - val_acc: 0.9763\n",
            "Epoch 17/50\n",
            "60000/60000 [==============================] - 4s 68us/step - loss: 0.0112 - acc: 0.9964 - val_loss: 0.0830 - val_acc: 0.9816\n",
            "Epoch 18/50\n",
            "60000/60000 [==============================] - 4s 67us/step - loss: 0.0059 - acc: 0.9980 - val_loss: 0.0899 - val_acc: 0.9823\n",
            "Epoch 19/50\n",
            "60000/60000 [==============================] - 4s 68us/step - loss: 0.0080 - acc: 0.9977 - val_loss: 0.1131 - val_acc: 0.9795\n",
            "Epoch 20/50\n",
            "60000/60000 [==============================] - 4s 64us/step - loss: 0.0099 - acc: 0.9967 - val_loss: 0.1044 - val_acc: 0.9787\n",
            "Epoch 21/50\n",
            "60000/60000 [==============================] - 4s 64us/step - loss: 0.0107 - acc: 0.9965 - val_loss: 0.0841 - val_acc: 0.9814\n",
            "Epoch 22/50\n",
            "60000/60000 [==============================] - 4s 64us/step - loss: 0.0079 - acc: 0.9979 - val_loss: 0.0910 - val_acc: 0.9819\n",
            "Epoch 23/50\n",
            "60000/60000 [==============================] - 4s 64us/step - loss: 0.0069 - acc: 0.9980 - val_loss: 0.1050 - val_acc: 0.9797\n",
            "Epoch 24/50\n",
            "60000/60000 [==============================] - 4s 66us/step - loss: 0.0098 - acc: 0.9970 - val_loss: 0.0787 - val_acc: 0.9830\n",
            "Epoch 25/50\n",
            "60000/60000 [==============================] - 4s 63us/step - loss: 0.0057 - acc: 0.9983 - val_loss: 0.1023 - val_acc: 0.9789\n",
            "Epoch 26/50\n",
            "60000/60000 [==============================] - 4s 64us/step - loss: 0.0101 - acc: 0.9969 - val_loss: 0.1063 - val_acc: 0.9800\n",
            "Epoch 27/50\n",
            "60000/60000 [==============================] - 4s 64us/step - loss: 0.0071 - acc: 0.9977 - val_loss: 0.0876 - val_acc: 0.9816\n",
            "Epoch 28/50\n",
            "60000/60000 [==============================] - 4s 65us/step - loss: 0.0037 - acc: 0.9989 - val_loss: 0.1092 - val_acc: 0.9817\n",
            "Epoch 29/50\n",
            "60000/60000 [==============================] - 4s 65us/step - loss: 0.0077 - acc: 0.9978 - val_loss: 0.0953 - val_acc: 0.9823\n",
            "Epoch 30/50\n",
            "60000/60000 [==============================] - 4s 64us/step - loss: 0.0058 - acc: 0.9984 - val_loss: 0.0975 - val_acc: 0.9802\n",
            "Epoch 31/50\n",
            "60000/60000 [==============================] - 4s 66us/step - loss: 0.0102 - acc: 0.9968 - val_loss: 0.1026 - val_acc: 0.9811\n",
            "Epoch 32/50\n",
            "60000/60000 [==============================] - 4s 69us/step - loss: 0.0046 - acc: 0.9987 - val_loss: 0.0955 - val_acc: 0.9827\n",
            "Epoch 33/50\n",
            "60000/60000 [==============================] - 4s 66us/step - loss: 0.0044 - acc: 0.9987 - val_loss: 0.1111 - val_acc: 0.9816\n",
            "Epoch 34/50\n",
            "60000/60000 [==============================] - 4s 68us/step - loss: 0.0084 - acc: 0.9977 - val_loss: 0.1298 - val_acc: 0.9778\n",
            "Epoch 35/50\n",
            "60000/60000 [==============================] - 4s 66us/step - loss: 0.0067 - acc: 0.9983 - val_loss: 0.0973 - val_acc: 0.9808\n",
            "Epoch 36/50\n",
            "60000/60000 [==============================] - 4s 67us/step - loss: 0.0059 - acc: 0.9984 - val_loss: 0.1059 - val_acc: 0.9811\n",
            "Epoch 37/50\n",
            "60000/60000 [==============================] - 4s 67us/step - loss: 0.0070 - acc: 0.9980 - val_loss: 0.1178 - val_acc: 0.9798\n",
            "Epoch 38/50\n",
            "60000/60000 [==============================] - 4s 64us/step - loss: 0.0040 - acc: 0.9988 - val_loss: 0.0959 - val_acc: 0.9835\n",
            "Epoch 39/50\n",
            "60000/60000 [==============================] - 4s 66us/step - loss: 0.0016 - acc: 0.9995 - val_loss: 0.1021 - val_acc: 0.9827\n",
            "Epoch 40/50\n",
            "60000/60000 [==============================] - 4s 64us/step - loss: 0.0058 - acc: 0.9984 - val_loss: 0.1212 - val_acc: 0.9825\n",
            "Epoch 41/50\n",
            "60000/60000 [==============================] - 4s 64us/step - loss: 0.0110 - acc: 0.9970 - val_loss: 0.1213 - val_acc: 0.9802\n",
            "Epoch 42/50\n",
            "60000/60000 [==============================] - 4s 65us/step - loss: 0.0042 - acc: 0.9986 - val_loss: 0.1057 - val_acc: 0.9831\n",
            "Epoch 43/50\n",
            "60000/60000 [==============================] - 4s 65us/step - loss: 0.0033 - acc: 0.9991 - val_loss: 0.1011 - val_acc: 0.9836\n",
            "Epoch 44/50\n",
            "60000/60000 [==============================] - 4s 66us/step - loss: 0.0054 - acc: 0.9986 - val_loss: 0.1278 - val_acc: 0.9804\n",
            "Epoch 45/50\n",
            "60000/60000 [==============================] - 4s 65us/step - loss: 0.0051 - acc: 0.9984 - val_loss: 0.1127 - val_acc: 0.9828\n",
            "Epoch 46/50\n",
            "60000/60000 [==============================] - 4s 64us/step - loss: 0.0063 - acc: 0.9982 - val_loss: 0.1027 - val_acc: 0.9839\n",
            "Epoch 47/50\n",
            "60000/60000 [==============================] - 4s 66us/step - loss: 0.0033 - acc: 0.9991 - val_loss: 0.0965 - val_acc: 0.9850\n",
            "Epoch 48/50\n",
            "60000/60000 [==============================] - 4s 65us/step - loss: 0.0026 - acc: 0.9993 - val_loss: 0.0990 - val_acc: 0.9849\n",
            "Epoch 49/50\n",
            "60000/60000 [==============================] - 4s 64us/step - loss: 0.0082 - acc: 0.9981 - val_loss: 0.1138 - val_acc: 0.9820\n",
            "Epoch 50/50\n",
            "60000/60000 [==============================] - 4s 65us/step - loss: 0.0041 - acc: 0.9987 - val_loss: 0.1163 - val_acc: 0.9828\n",
            "Test score: 0.11627201831419585\n",
            "Test accuracy: 0.9828\n",
            "Score    Test Accuracy  Test Score  Train Accuracy  Train Score      type\n",
            "0         0.9828    0.116272          0.9993     0.002566  4 Layer \n",
            "   Test Accuracy  Test Score  Train Accuracy  Train Score  \\\n",
            "0         0.9826    0.107210        0.999683     0.000822   \n",
            "0         0.9826    0.085318        0.999283     0.002036   \n",
            "0         0.9851    0.059443        0.999300     0.002966   \n",
            "0         0.9828    0.116272        0.999300     0.002566   \n",
            "\n",
            "                         type  \n",
            "0                    3 Layer   \n",
            "0          3 Layer batch norm  \n",
            "0  3 Layer batch norm dropout  \n",
            "0                    4 Layer   \n"
          ],
          "name": "stdout"
        },
        {
          "output_type": "stream",
          "text": [
            "/usr/local/lib/python3.6/dist-packages/seaborn/categorical.py:588: FutureWarning: remove_na is deprecated and is a private function. Do not use.\n",
            "  kde_data = remove_na(group_data)\n",
            "/usr/local/lib/python3.6/dist-packages/seaborn/categorical.py:816: FutureWarning: remove_na is deprecated and is a private function. Do not use.\n",
            "  violin_data = remove_na(group_data)\n"
          ],
          "name": "stderr"
        },
        {
          "output_type": "display_data",
          "data": {
            "image/png": "[encoded data removed]",
            "text/plain": [
              "<matplotlib.figure.Figure at 0x7f1f5eb6f748>"
            ]
          },
          "metadata": {
            "tags": []
          }
        },
        {
          "output_type": "display_data",
          "data": {
            "image/png": "[encoded data removed]",
            "text/plain": [
              "<matplotlib.figure.Figure at 0x7f1f3dc72a20>"
            ]
          },
          "metadata": {
            "tags": []
          }
        },
        {
          "output_type": "stream",
          "text": [
            "_________________________________________________________________\n",
            "Layer (type)                 Output Shape              Param #   \n",
            "=================================================================\n",
            "dense_27 (Dense)             (None, 512)               401920    \n",
            "_________________________________________________________________\n",
            "batch_normalization_9 (Batch (None, 512)               2048      \n",
            "_________________________________________________________________\n",
            "dense_28 (Dense)             (None, 256)               131328    \n",
            "_________________________________________________________________\n",
            "batch_normalization_10 (Batc (None, 256)               1024      \n",
            "_________________________________________________________________\n",
            "dense_29 (Dense)             (None, 128)               32896     \n",
            "_________________________________________________________________\n",
            "batch_normalization_11 (Batc (None, 128)               512       \n",
            "_________________________________________________________________\n",
            "dense_30 (Dense)             (None, 10)                1290      \n",
            "=================================================================\n",
            "Total params: 571,018\n",
            "Trainable params: 569,226\n",
            "Non-trainable params: 1,792\n",
            "_________________________________________________________________\n",
            "Train on 60000 samples, validate on 10000 samples\n",
            "Epoch 1/50\n",
            "60000/60000 [==============================] - 9s 151us/step - loss: 0.1816 - acc: 0.9447 - val_loss: 0.0971 - val_acc: 0.9706\n",
            "Epoch 2/50\n",
            "60000/60000 [==============================] - 8s 127us/step - loss: 0.0714 - acc: 0.9781 - val_loss: 0.0786 - val_acc: 0.9759\n",
            "Epoch 3/50\n",
            "60000/60000 [==============================] - 8s 130us/step - loss: 0.0529 - acc: 0.9826 - val_loss: 0.0709 - val_acc: 0.9792\n",
            "Epoch 4/50\n",
            "60000/60000 [==============================] - 8s 130us/step - loss: 0.0390 - acc: 0.9876 - val_loss: 0.0772 - val_acc: 0.9760\n",
            "Epoch 5/50\n",
            "60000/60000 [==============================] - 8s 138us/step - loss: 0.0303 - acc: 0.9900 - val_loss: 0.0702 - val_acc: 0.9789\n",
            "Epoch 6/50\n",
            "60000/60000 [==============================] - 8s 134us/step - loss: 0.0268 - acc: 0.9911 - val_loss: 0.0947 - val_acc: 0.9728\n",
            "Epoch 7/50\n",
            "60000/60000 [==============================] - 8s 132us/step - loss: 0.0234 - acc: 0.9917 - val_loss: 0.0699 - val_acc: 0.9804\n",
            "Epoch 8/50\n",
            "60000/60000 [==============================] - 8s 128us/step - loss: 0.0197 - acc: 0.9934 - val_loss: 0.0699 - val_acc: 0.9794\n",
            "Epoch 9/50\n",
            "60000/60000 [==============================] - 8s 130us/step - loss: 0.0184 - acc: 0.9939 - val_loss: 0.0772 - val_acc: 0.9800\n",
            "Epoch 10/50\n",
            "60000/60000 [==============================] - 8s 131us/step - loss: 0.0197 - acc: 0.9934 - val_loss: 0.0954 - val_acc: 0.9755\n",
            "Epoch 11/50\n",
            "60000/60000 [==============================] - 8s 131us/step - loss: 0.0164 - acc: 0.9944 - val_loss: 0.0734 - val_acc: 0.9816\n",
            "Epoch 12/50\n",
            "60000/60000 [==============================] - 8s 129us/step - loss: 0.0169 - acc: 0.9942 - val_loss: 0.0799 - val_acc: 0.9797\n",
            "Epoch 13/50\n",
            "60000/60000 [==============================] - 8s 129us/step - loss: 0.0129 - acc: 0.9955 - val_loss: 0.0722 - val_acc: 0.9810\n",
            "Epoch 14/50\n",
            "60000/60000 [==============================] - 8s 134us/step - loss: 0.0128 - acc: 0.9957 - val_loss: 0.0785 - val_acc: 0.9797\n",
            "Epoch 15/50\n",
            "60000/60000 [==============================] - 8s 135us/step - loss: 0.0105 - acc: 0.9967 - val_loss: 0.0777 - val_acc: 0.9808\n",
            "Epoch 16/50\n",
            "60000/60000 [==============================] - 8s 131us/step - loss: 0.0119 - acc: 0.9956 - val_loss: 0.0778 - val_acc: 0.9811\n",
            "Epoch 17/50\n",
            "60000/60000 [==============================] - 8s 129us/step - loss: 0.0098 - acc: 0.9968 - val_loss: 0.0765 - val_acc: 0.9815\n",
            "Epoch 18/50\n",
            "60000/60000 [==============================] - 8s 138us/step - loss: 0.0109 - acc: 0.9961 - val_loss: 0.0796 - val_acc: 0.9798\n",
            "Epoch 19/50\n",
            "60000/60000 [==============================] - 8s 132us/step - loss: 0.0108 - acc: 0.9961 - val_loss: 0.0737 - val_acc: 0.9812\n",
            "Epoch 20/50\n",
            "60000/60000 [==============================] - 8s 127us/step - loss: 0.0090 - acc: 0.9970 - val_loss: 0.0669 - val_acc: 0.9819\n",
            "Epoch 21/50\n",
            "60000/60000 [==============================] - 8s 129us/step - loss: 0.0074 - acc: 0.9978 - val_loss: 0.0800 - val_acc: 0.9813\n",
            "Epoch 22/50\n",
            "60000/60000 [==============================] - 8s 130us/step - loss: 0.0075 - acc: 0.9974 - val_loss: 0.0731 - val_acc: 0.9833\n",
            "Epoch 23/50\n",
            "60000/60000 [==============================] - 8s 128us/step - loss: 0.0073 - acc: 0.9977 - val_loss: 0.0808 - val_acc: 0.9793\n",
            "Epoch 24/50\n",
            "60000/60000 [==============================] - 8s 127us/step - loss: 0.0076 - acc: 0.9974 - val_loss: 0.0674 - val_acc: 0.9843\n",
            "Epoch 25/50\n",
            "60000/60000 [==============================] - 8s 130us/step - loss: 0.0087 - acc: 0.9972 - val_loss: 0.0799 - val_acc: 0.9818\n",
            "Epoch 26/50\n",
            "60000/60000 [==============================] - 8s 131us/step - loss: 0.0053 - acc: 0.9980 - val_loss: 0.0803 - val_acc: 0.9819\n",
            "Epoch 27/50\n",
            "60000/60000 [==============================] - 8s 132us/step - loss: 0.0063 - acc: 0.9980 - val_loss: 0.0883 - val_acc: 0.9802\n",
            "Epoch 28/50\n",
            "60000/60000 [==============================] - 8s 126us/step - loss: 0.0084 - acc: 0.9972 - val_loss: 0.0816 - val_acc: 0.9810\n",
            "Epoch 29/50\n",
            "60000/60000 [==============================] - 8s 133us/step - loss: 0.0072 - acc: 0.9978 - val_loss: 0.0786 - val_acc: 0.9832\n",
            "Epoch 30/50\n",
            "60000/60000 [==============================] - 8s 134us/step - loss: 0.0066 - acc: 0.9975 - val_loss: 0.0747 - val_acc: 0.9828\n",
            "Epoch 31/50\n",
            "60000/60000 [==============================] - 8s 130us/step - loss: 0.0058 - acc: 0.9980 - val_loss: 0.0779 - val_acc: 0.9822\n",
            "Epoch 32/50\n",
            "60000/60000 [==============================] - 8s 127us/step - loss: 0.0065 - acc: 0.9979 - val_loss: 0.0782 - val_acc: 0.9818\n",
            "Epoch 33/50\n",
            "60000/60000 [==============================] - 8s 127us/step - loss: 0.0039 - acc: 0.9987 - val_loss: 0.0738 - val_acc: 0.9839\n",
            "Epoch 34/50\n",
            "60000/60000 [==============================] - 8s 130us/step - loss: 0.0032 - acc: 0.9989 - val_loss: 0.0795 - val_acc: 0.9829\n",
            "Epoch 35/50\n",
            "60000/60000 [==============================] - 8s 129us/step - loss: 0.0053 - acc: 0.9982 - val_loss: 0.0804 - val_acc: 0.9833\n",
            "Epoch 36/50\n",
            "60000/60000 [==============================] - 8s 130us/step - loss: 0.0061 - acc: 0.9981 - val_loss: 0.0808 - val_acc: 0.9815\n",
            "Epoch 37/50\n",
            "60000/60000 [==============================] - 8s 127us/step - loss: 0.0054 - acc: 0.9981 - val_loss: 0.0926 - val_acc: 0.9807\n",
            "Epoch 38/50\n",
            "60000/60000 [==============================] - 8s 128us/step - loss: 0.0038 - acc: 0.9989 - val_loss: 0.0828 - val_acc: 0.9818\n",
            "Epoch 39/50\n",
            "60000/60000 [==============================] - 8s 128us/step - loss: 0.0041 - acc: 0.9989 - val_loss: 0.0791 - val_acc: 0.9824\n",
            "Epoch 40/50\n",
            "60000/60000 [==============================] - 8s 128us/step - loss: 0.0040 - acc: 0.9986 - val_loss: 0.0899 - val_acc: 0.9809\n",
            "Epoch 41/50\n",
            "60000/60000 [==============================] - 8s 128us/step - loss: 0.0055 - acc: 0.9980 - val_loss: 0.0802 - val_acc: 0.9835\n",
            "Epoch 42/50\n",
            "60000/60000 [==============================] - 8s 132us/step - loss: 0.0057 - acc: 0.9981 - val_loss: 0.0777 - val_acc: 0.9840\n",
            "Epoch 43/50\n",
            "60000/60000 [==============================] - 8s 132us/step - loss: 0.0033 - acc: 0.9989 - val_loss: 0.0796 - val_acc: 0.9843\n",
            "Epoch 44/50\n",
            "60000/60000 [==============================] - 8s 129us/step - loss: 0.0038 - acc: 0.9988 - val_loss: 0.0817 - val_acc: 0.9843\n",
            "Epoch 45/50\n",
            "60000/60000 [==============================] - 8s 130us/step - loss: 0.0035 - acc: 0.9990 - val_loss: 0.0783 - val_acc: 0.9842\n",
            "Epoch 46/50\n",
            "60000/60000 [==============================] - 8s 129us/step - loss: 0.0036 - acc: 0.9989 - val_loss: 0.0750 - val_acc: 0.9830\n",
            "Epoch 47/50\n",
            "60000/60000 [==============================] - 8s 130us/step - loss: 0.0045 - acc: 0.9984 - val_loss: 0.0777 - val_acc: 0.9836\n",
            "Epoch 48/50\n",
            "60000/60000 [==============================] - 8s 128us/step - loss: 0.0042 - acc: 0.9986 - val_loss: 0.0941 - val_acc: 0.9822\n",
            "Epoch 49/50\n",
            "60000/60000 [==============================] - 8s 129us/step - loss: 0.0047 - acc: 0.9985 - val_loss: 0.0789 - val_acc: 0.9847\n",
            "Epoch 50/50\n",
            "60000/60000 [==============================] - 8s 130us/step - loss: 0.0027 - acc: 0.9992 - val_loss: 0.0755 - val_acc: 0.9857\n",
            "Test score: 0.07546096074496722\n",
            "Test accuracy: 0.9857\n"
          ],
          "name": "stdout"
        },
        {
          "output_type": "display_data",
          "data": {
            "image/png": "[encoded data removed]",
            "text/plain": [
              "<matplotlib.figure.Figure at 0x7f1f3ece9be0>"
            ]
          },
          "metadata": {
            "tags": []
          }
        },
        {
          "output_type": "display_data",
          "data": {
            "image/png": "[encoded data removed]",
            "text/plain": [
              "<matplotlib.figure.Figure at 0x7f1f3c86d908>"
            ]
          },
          "metadata": {
            "tags": []
          }
        },
        {
          "output_type": "stream",
          "text": [
            "_________________________________________________________________\n",
            "Layer (type)                 Output Shape              Param #   \n",
            "=================================================================\n",
            "dense_31 (Dense)             (None, 512)               401920    \n",
            "_________________________________________________________________\n",
            "batch_normalization_12 (Batc (None, 512)               2048      \n",
            "_________________________________________________________________\n",
            "dropout_5 (Dropout)          (None, 512)               0         \n",
            "_________________________________________________________________\n",
            "dense_32 (Dense)             (None, 256)               131328    \n",
            "_________________________________________________________________\n",
            "batch_normalization_13 (Batc (None, 256)               1024      \n",
            "_________________________________________________________________\n",
            "dropout_6 (Dropout)          (None, 256)               0         \n",
            "_________________________________________________________________\n",
            "dense_33 (Dense)             (None, 128)               32896     \n",
            "_________________________________________________________________\n",
            "batch_normalization_14 (Batc (None, 128)               512       \n",
            "_________________________________________________________________\n",
            "dropout_7 (Dropout)          (None, 128)               0         \n",
            "_________________________________________________________________\n",
            "dense_34 (Dense)             (None, 10)                1290      \n",
            "=================================================================\n",
            "Total params: 571,018\n",
            "Trainable params: 569,226\n",
            "Non-trainable params: 1,792\n",
            "_________________________________________________________________\n",
            "Train on 60000 samples, validate on 10000 samples\n",
            "Epoch 1/50\n",
            "60000/60000 [==============================] - 10s 169us/step - loss: 0.6409 - acc: 0.8022 - val_loss: 0.1799 - val_acc: 0.9416\n",
            "Epoch 2/50\n",
            "60000/60000 [==============================] - 8s 140us/step - loss: 0.2919 - acc: 0.9123 - val_loss: 0.1416 - val_acc: 0.9545\n",
            "Epoch 3/50\n",
            "60000/60000 [==============================] - 8s 141us/step - loss: 0.2271 - acc: 0.9331 - val_loss: 0.1169 - val_acc: 0.9638\n",
            "Epoch 4/50\n",
            "60000/60000 [==============================] - 8s 135us/step - loss: 0.1921 - acc: 0.9441 - val_loss: 0.0996 - val_acc: 0.9698\n",
            "Epoch 5/50\n",
            "60000/60000 [==============================] - 8s 133us/step - loss: 0.1756 - acc: 0.9484 - val_loss: 0.0945 - val_acc: 0.9713\n",
            "Epoch 6/50\n",
            "60000/60000 [==============================] - 8s 138us/step - loss: 0.1572 - acc: 0.9533 - val_loss: 0.0921 - val_acc: 0.9733\n",
            "Epoch 7/50\n",
            "60000/60000 [==============================] - 8s 135us/step - loss: 0.1470 - acc: 0.9561 - val_loss: 0.0843 - val_acc: 0.9761\n",
            "Epoch 8/50\n",
            "60000/60000 [==============================] - 8s 141us/step - loss: 0.1316 - acc: 0.9602 - val_loss: 0.0815 - val_acc: 0.9757\n",
            "Epoch 9/50\n",
            "60000/60000 [==============================] - 8s 135us/step - loss: 0.1267 - acc: 0.9614 - val_loss: 0.0741 - val_acc: 0.9768\n",
            "Epoch 10/50\n",
            "60000/60000 [==============================] - 8s 133us/step - loss: 0.1204 - acc: 0.9645 - val_loss: 0.0809 - val_acc: 0.9763\n",
            "Epoch 11/50\n",
            "60000/60000 [==============================] - 8s 135us/step - loss: 0.1138 - acc: 0.9663 - val_loss: 0.0760 - val_acc: 0.9787\n",
            "Epoch 12/50\n",
            "60000/60000 [==============================] - 8s 136us/step - loss: 0.1067 - acc: 0.9681 - val_loss: 0.0720 - val_acc: 0.9803\n",
            "Epoch 13/50\n",
            "60000/60000 [==============================] - 8s 135us/step - loss: 0.1013 - acc: 0.9691 - val_loss: 0.0794 - val_acc: 0.9766\n",
            "Epoch 14/50\n",
            "60000/60000 [==============================] - 8s 138us/step - loss: 0.0976 - acc: 0.9706 - val_loss: 0.0693 - val_acc: 0.9805\n",
            "Epoch 15/50\n",
            "60000/60000 [==============================] - 8s 137us/step - loss: 0.0949 - acc: 0.9713 - val_loss: 0.0674 - val_acc: 0.9798\n",
            "Epoch 16/50\n",
            "60000/60000 [==============================] - 9s 144us/step - loss: 0.0878 - acc: 0.9738 - val_loss: 0.0644 - val_acc: 0.9829\n",
            "Epoch 17/50\n",
            "60000/60000 [==============================] - 8s 134us/step - loss: 0.0884 - acc: 0.9732 - val_loss: 0.0697 - val_acc: 0.9806\n",
            "Epoch 18/50\n",
            "60000/60000 [==============================] - 8s 136us/step - loss: 0.0833 - acc: 0.9745 - val_loss: 0.0644 - val_acc: 0.9817\n",
            "Epoch 19/50\n",
            "60000/60000 [==============================] - 8s 135us/step - loss: 0.0814 - acc: 0.9749 - val_loss: 0.0653 - val_acc: 0.9813\n",
            "Epoch 20/50\n",
            "60000/60000 [==============================] - 8s 134us/step - loss: 0.0781 - acc: 0.9763 - val_loss: 0.0649 - val_acc: 0.9827\n",
            "Epoch 21/50\n",
            "60000/60000 [==============================] - 8s 141us/step - loss: 0.0764 - acc: 0.9768 - val_loss: 0.0659 - val_acc: 0.9832\n",
            "Epoch 22/50\n",
            "60000/60000 [==============================] - 8s 139us/step - loss: 0.0748 - acc: 0.9770 - val_loss: 0.0647 - val_acc: 0.9824\n",
            "Epoch 23/50\n",
            "60000/60000 [==============================] - 8s 141us/step - loss: 0.0741 - acc: 0.9770 - val_loss: 0.0663 - val_acc: 0.9823\n",
            "Epoch 24/50\n",
            "60000/60000 [==============================] - 8s 140us/step - loss: 0.0704 - acc: 0.9781 - val_loss: 0.0594 - val_acc: 0.9835\n",
            "Epoch 25/50\n",
            "60000/60000 [==============================] - 8s 134us/step - loss: 0.0677 - acc: 0.9791 - val_loss: 0.0635 - val_acc: 0.9822\n",
            "Epoch 26/50\n",
            "60000/60000 [==============================] - 8s 135us/step - loss: 0.0648 - acc: 0.9800 - val_loss: 0.0604 - val_acc: 0.9832\n",
            "Epoch 27/50\n",
            "60000/60000 [==============================] - 8s 140us/step - loss: 0.0644 - acc: 0.9802 - val_loss: 0.0632 - val_acc: 0.9829\n",
            "Epoch 28/50\n",
            "60000/60000 [==============================] - 8s 140us/step - loss: 0.0630 - acc: 0.9807 - val_loss: 0.0635 - val_acc: 0.9824\n",
            "Epoch 29/50\n",
            "60000/60000 [==============================] - 8s 134us/step - loss: 0.0615 - acc: 0.9809 - val_loss: 0.0667 - val_acc: 0.9825\n",
            "Epoch 30/50\n",
            "60000/60000 [==============================] - 8s 139us/step - loss: 0.0566 - acc: 0.9830 - val_loss: 0.0599 - val_acc: 0.9834\n",
            "Epoch 31/50\n",
            "60000/60000 [==============================] - 8s 138us/step - loss: 0.0561 - acc: 0.9829 - val_loss: 0.0625 - val_acc: 0.9838\n",
            "Epoch 32/50\n",
            "60000/60000 [==============================] - 8s 135us/step - loss: 0.0583 - acc: 0.9820 - val_loss: 0.0632 - val_acc: 0.9830\n",
            "Epoch 33/50\n",
            "60000/60000 [==============================] - 8s 136us/step - loss: 0.0542 - acc: 0.9836 - val_loss: 0.0613 - val_acc: 0.9846\n",
            "Epoch 34/50\n",
            "60000/60000 [==============================] - 8s 136us/step - loss: 0.0539 - acc: 0.9832 - val_loss: 0.0627 - val_acc: 0.9832\n",
            "Epoch 35/50\n",
            "60000/60000 [==============================] - 8s 133us/step - loss: 0.0519 - acc: 0.9841 - val_loss: 0.0632 - val_acc: 0.9835\n",
            "Epoch 36/50\n",
            "60000/60000 [==============================] - 8s 130us/step - loss: 0.0515 - acc: 0.9838 - val_loss: 0.0606 - val_acc: 0.9843\n",
            "Epoch 37/50\n",
            "60000/60000 [==============================] - 8s 141us/step - loss: 0.0524 - acc: 0.9839 - val_loss: 0.0571 - val_acc: 0.9846\n",
            "Epoch 38/50\n",
            "60000/60000 [==============================] - 8s 140us/step - loss: 0.0469 - acc: 0.9850 - val_loss: 0.0600 - val_acc: 0.9840\n",
            "Epoch 39/50\n",
            "60000/60000 [==============================] - 8s 139us/step - loss: 0.0496 - acc: 0.9852 - val_loss: 0.0580 - val_acc: 0.9842\n",
            "Epoch 40/50\n",
            "60000/60000 [==============================] - 8s 141us/step - loss: 0.0468 - acc: 0.9855 - val_loss: 0.0619 - val_acc: 0.9841\n",
            "Epoch 41/50\n",
            "60000/60000 [==============================] - 8s 141us/step - loss: 0.0469 - acc: 0.9853 - val_loss: 0.0612 - val_acc: 0.9846\n",
            "Epoch 42/50\n",
            "60000/60000 [==============================] - 8s 138us/step - loss: 0.0472 - acc: 0.9853 - val_loss: 0.0602 - val_acc: 0.9838\n",
            "Epoch 43/50\n",
            "60000/60000 [==============================] - 8s 140us/step - loss: 0.0450 - acc: 0.9858 - val_loss: 0.0607 - val_acc: 0.9845\n",
            "Epoch 44/50\n",
            "60000/60000 [==============================] - 8s 139us/step - loss: 0.0439 - acc: 0.9865 - val_loss: 0.0591 - val_acc: 0.9836\n",
            "Epoch 45/50\n",
            "60000/60000 [==============================] - 9s 142us/step - loss: 0.0434 - acc: 0.9863 - val_loss: 0.0600 - val_acc: 0.9846\n",
            "Epoch 46/50\n",
            "60000/60000 [==============================] - 8s 139us/step - loss: 0.0394 - acc: 0.9875 - val_loss: 0.0626 - val_acc: 0.9843\n",
            "Epoch 47/50\n",
            "60000/60000 [==============================] - 8s 133us/step - loss: 0.0430 - acc: 0.9866 - val_loss: 0.0597 - val_acc: 0.9854\n",
            "Epoch 48/50\n",
            "60000/60000 [==============================] - 8s 137us/step - loss: 0.0420 - acc: 0.9871 - val_loss: 0.0588 - val_acc: 0.9841\n",
            "Epoch 49/50\n",
            "60000/60000 [==============================] - 8s 136us/step - loss: 0.0416 - acc: 0.9870 - val_loss: 0.0570 - val_acc: 0.9839\n",
            "Epoch 50/50\n",
            "60000/60000 [==============================] - 8s 141us/step - loss: 0.0398 - acc: 0.9875 - val_loss: 0.0542 - val_acc: 0.9862\n",
            "Test score: 0.05416695562318346\n",
            "Test accuracy: 0.9862\n"
          ],
          "name": "stdout"
        },
        {
          "output_type": "display_data",
          "data": {
            "image/png": "[encoded data removed]",
            "text/plain": [
              "<matplotlib.figure.Figure at 0x7f1f3dc69d30>"
            ]
          },
          "metadata": {
            "tags": []
          }
        },
        {
          "output_type": "display_data",
          "data": {
            "image/png": "[encoded data removed]",
            "text/plain": [
              "<matplotlib.figure.Figure at 0x7f1f3b43f780>"
            ]
          },
          "metadata": {
            "tags": []
          }
        }
      ]
    },
    {
      "metadata": {
        "id": "ZYjKaCpLH8VV",
        "colab_type": "code",
        "colab": {}
      },
      "cell_type": "code",
      "source": [
        ""
      ],
      "execution_count": 0,
      "outputs": []
    },
    {
      "metadata": {
        "id": "gDW_pqkJH8Vi",
        "colab_type": "code",
        "colab": {}
      },
      "cell_type": "code",
      "source": [
        ""
      ],
      "execution_count": 0,
      "outputs": []
    },
    {
      "metadata": {
        "id": "Eg1gzOHGH8Vn",
        "colab_type": "code",
        "colab": {}
      },
      "cell_type": "code",
      "source": [
        ""
      ],
      "execution_count": 0,
      "outputs": []
    },
    {
      "metadata": {
        "id": "KcrEGKyEH8Vy",
        "colab_type": "code",
        "colab": {}
      },
      "cell_type": "code",
      "source": [
        ""
      ],
      "execution_count": 0,
      "outputs": []
    },
    {
      "metadata": {
        "id": "tA4IrmFUH8V9",
        "colab_type": "text"
      },
      "cell_type": "markdown",
      "source": [
        "# Try 5 hidden layer"
      ]
    },
    {
      "metadata": {
        "id": "Acufmw_VH8WA",
        "colab_type": "code",
        "colab": {
          "base_uri": "https://localhost:8080/",
          "height": 9528
        },
        "outputId": "2174bc12-b50f-4408-d643-2000b96e7044"
      },
      "cell_type": "code",
      "source": [
        "model_relu = Sequential()\n",
        "model_relu.add(Dense(512, activation='relu', input_shape=(input_dim,), kernel_initializer=RandomNormal(mean=0.0, stddev=0.062, seed=None)))\n",
        "#smuk\n",
        "model_relu.add(Dense(256, activation='relu', kernel_initializer=RandomNormal(mean=0.0, stddev=0.088, seed=None)))  #sqrt(2/256)\n",
        "model_relu.add(Dense(128, activation='relu', kernel_initializer=RandomNormal(mean=0.0, stddev=0.125, seed=None)) )\n",
        "model_relu.add(Dense(64, activation='relu', kernel_initializer=RandomNormal(mean=0.0, stddev=0.18, seed=None)) )\n",
        "model_relu.add(Dense(32, activation='relu', kernel_initializer=RandomNormal(mean=0.0, stddev=0.25, seed=None)) )\n",
        "\n",
        "model_relu.add(Dense(output_dim, activation='softmax'))\n",
        "\n",
        "print(model_relu.summary())\n",
        "\n",
        "model_relu.compile(optimizer='adam', loss='categorical_crossentropy', metrics=['accuracy'])\n",
        "\n",
        "history = model_relu.fit(X_train, Y_train, batch_size=batch_size, epochs=nb_epoch, verbose=1, validation_data=(X_test, Y_test))\n",
        "\n",
        "\n",
        "\n",
        "score = model_relu.evaluate(X_test, Y_test, verbose=0) \n",
        "print('Test score:', score[0]) \n",
        "print('Test accuracy:', score[1])\n",
        "\n",
        "import pandas as pd\n",
        "scoretrain = model_relu.evaluate(X_train, Y_train, verbose=0) \n",
        "bb=pd.DataFrame({'type':['6 Layer '],'Test Score':[score[0]],'Test Accuracy':[score[1]], \\\n",
        "                   'Train Score':[scoretrain[0]],'Train Accuracy':[scoretrain[1]]})\n",
        "print('Score',bb)\n",
        "aa=aa.append(bb)\n",
        "\n",
        "fig,ax = plt.subplots(1,1)\n",
        "ax.set_xlabel('epoch') ; ax.set_ylabel('Categorical Crossentropy Loss')\n",
        "\n",
        "# list of epoch numbers\n",
        "x = list(range(1,nb_epoch+1))\n",
        "\n",
        "vy = history.history['val_loss']\n",
        "ty = history.history['loss']\n",
        "plt_dynamic(x, vy, ty, ax)\n",
        "\n",
        "\n",
        "print(aa)\n",
        "w_after = model_relu.get_weights()\n",
        "\n",
        "h1_w = w_after[0].flatten().reshape(-1,1)\n",
        "h2_w = w_after[2].flatten().reshape(-1,1)\n",
        "h3_w = w_after[4].flatten().reshape(-1,1)\n",
        "h4_w = w_after[6].flatten().reshape(-1,1)\n",
        "h5_w = w_after[8].flatten().reshape(-1,1)\n",
        "out_w = w_after[10].flatten().reshape(-1,1)\n",
        "\n",
        "\n",
        "fig = plt.figure()\n",
        "plt.title(\"Weight matrices after model trained\")\n",
        "plt.subplot(1, 6, 1)\n",
        "plt.title(\"Trained model Weights\")\n",
        "ax = sns.violinplot(y=h1_w,color='b')\n",
        "plt.xlabel('Hidden Layer 1')\n",
        "\n",
        "plt.subplot(1, 6, 2)\n",
        "plt.title(\"Trained model Weights\")\n",
        "ax = sns.violinplot(y=h2_w, color='r')\n",
        "plt.xlabel('Hidden Layer 2 ')\n",
        "\n",
        "plt.subplot(1, 6, 3)\n",
        "plt.title(\"Trained model Weights\")\n",
        "ax = sns.violinplot(y=h3_w, color='r')\n",
        "plt.xlabel('Hidden Layer 3 ')\n",
        "\n",
        "plt.subplot(1, 6, 4)\n",
        "plt.title(\"Trained model Weights\")\n",
        "ax = sns.violinplot(y=h4_w, color='r')\n",
        "plt.xlabel('Hidden Layer 4 ')\n",
        "\n",
        "plt.subplot(1, 6, 5)\n",
        "plt.title(\"Trained model Weights\")\n",
        "ax = sns.violinplot(y=h5_w, color='r')\n",
        "plt.xlabel('Hidden Layer 5 ')\n",
        "\n",
        "\n",
        "plt.subplot(1, 6, 6)\n",
        "plt.title(\"Trained model Weights\")\n",
        "ax = sns.violinplot(y=out_w,color='y')\n",
        "plt.xlabel('Output Layer ')\n",
        "plt.show()\n",
        "\n",
        "\n",
        "from keras.layers.normalization import BatchNormalization\n",
        "# h1 =>  σ=√(2/(ni+ni+1) = 0.039  => N(0,σ) = N(0,0.039)\n",
        "# h2 =>  σ=√(2/(ni+ni+1) = 0.055  => N(0,σ) = N(0,0.055)\n",
        "# h1 =>  σ=√(2/(ni+ni+1) = 0.120  => N(0,σ) = N(0,0.120)\n",
        "\n",
        "model_batch = Sequential()\n",
        "\n",
        "model_batch.add(Dense(512, activation='relu', input_shape=(input_dim,), kernel_initializer=RandomNormal(mean=0.0, stddev=0.039, seed=None)))\n",
        "model_batch.add(BatchNormalization())\n",
        "\n",
        "#smuk\n",
        "model_batch.add(Dense(256, activation='relu', kernel_initializer=RandomNormal(mean=0.0, stddev=0.05, seed=None)))\n",
        "model_batch.add(BatchNormalization())\n",
        "#smuk\n",
        "model_batch.add(Dense(128, activation='relu', kernel_initializer=RandomNormal(mean=0.0, stddev=0.079, seed=None)) )\n",
        "model_batch.add(BatchNormalization())\n",
        "\n",
        "model_batch.add(Dense(64, activation='relu', kernel_initializer=RandomNormal(mean=0.0, stddev=0.11, seed=None)) )\n",
        "model_batch.add(BatchNormalization())\n",
        "\n",
        "model_batch.add(Dense(32, activation='relu', kernel_initializer=RandomNormal(mean=0.0, stddev=0.16, seed=None)) )\n",
        "model_batch.add(BatchNormalization())\n",
        "\n",
        "model_batch.add(Dense(output_dim, activation='softmax'))\n",
        "\n",
        "\n",
        "model_batch.summary()\n",
        "\n",
        "model_batch.compile(optimizer='adam', loss='categorical_crossentropy', metrics=['accuracy'])\n",
        "\n",
        "history = model_batch.fit(X_train, Y_train, batch_size=batch_size, epochs=nb_epoch, verbose=1, validation_data=(X_test, Y_test))\n",
        "\n",
        "\n",
        "score = model_batch.evaluate(X_test, Y_test, verbose=0) \n",
        "print('Test score:', score[0]) \n",
        "print('Test accuracy:', score[1])\n",
        "\n",
        "\n",
        "scoretrain = model_batch.evaluate(X_train, Y_train, verbose=0) \n",
        "bb=pd.DataFrame({'type':['6 Layer batch norm'],'Test Score':[score[0]],'Test Accuracy':[score[1]], \\\n",
        "                   'Train Score':[scoretrain[0]],'Train Accuracy':[scoretrain[1]]})\n",
        "\n",
        "aa=aa.append(bb)\n",
        "fig,ax = plt.subplots(1,1)\n",
        "ax.set_xlabel('epoch') ; ax.set_ylabel('Categorical Crossentropy Loss')\n",
        "\n",
        "# list of epoch numbers\n",
        "x = list(range(1,nb_epoch+1))\n",
        "\n",
        "# print(history.history.keys())\n",
        "# dict_keys(['val_loss', 'val_acc', 'loss', 'acc'])\n",
        "# history = model_drop.fit(X_train, Y_train, batch_size=batch_size, epochs=nb_epoch, verbose=1, validation_data=(X_test, Y_test))\n",
        "\n",
        "# we will get val_loss and val_acc only when you pass the paramter validation_data\n",
        "# val_loss : validation loss\n",
        "# val_acc : validation accuracy\n",
        "\n",
        "# loss : training loss\n",
        "# acc : train accuracy\n",
        "# for each key in histrory.histrory we will have a list of length equal to number of epochs\n",
        "\n",
        "vy = history.history['val_loss']\n",
        "ty = history.history['loss']\n",
        "plt_dynamic(x, vy, ty, ax)\n",
        "\n",
        "\n",
        "w_after = model_batch.get_weights()\n",
        "\n",
        "h1_w = w_after[0].flatten().reshape(-1,1)\n",
        "h2_w = w_after[2].flatten().reshape(-1,1)\n",
        "h3_w = w_after[4].flatten().reshape(-1,1)\n",
        "h4_w = w_after[6].flatten().reshape(-1,1)\n",
        "h5_w = w_after[8].flatten().reshape(-1,1)\n",
        "out_w = w_after[10].flatten().reshape(-1,1)\n",
        "\n",
        "\n",
        "fig = plt.figure()\n",
        "plt.title(\"Weight matrices after model trained batch norm\")\n",
        "plt.subplot(1, 6, 1)\n",
        "plt.title(\"Trained model Weights\")\n",
        "ax = sns.violinplot(y=h1_w,color='b')\n",
        "plt.xlabel('Hidden Layer 1')\n",
        "\n",
        "plt.subplot(1, 6, 2)\n",
        "plt.title(\"Trained model Weights\")\n",
        "ax = sns.violinplot(y=h2_w, color='r')\n",
        "plt.xlabel('Hidden Layer 2 ')\n",
        "\n",
        "plt.subplot(1, 6, 3)\n",
        "plt.title(\"Trained model Weights\")\n",
        "ax = sns.violinplot(y=h3_w, color='r')\n",
        "plt.xlabel('Hidden Layer 3 ')\n",
        "\n",
        "plt.subplot(1, 6, 4)\n",
        "plt.title(\"Trained model Weights\")\n",
        "ax = sns.violinplot(y=h4_w, color='r')\n",
        "plt.xlabel('Hidden Layer 4 ')\n",
        "\n",
        "plt.subplot(1, 6, 5)\n",
        "plt.title(\"Trained model Weights\")\n",
        "ax = sns.violinplot(y=h5_w, color='r')\n",
        "plt.xlabel('Hidden Layer 5 ')\n",
        "\n",
        "\n",
        "plt.subplot(1, 6, 6)\n",
        "plt.title(\"Trained model Weights\")\n",
        "ax = sns.violinplot(y=out_w,color='y')\n",
        "plt.xlabel('Output Layer ')\n",
        "plt.show()\n",
        "\n",
        "\n",
        "\n",
        "#\n",
        "\n",
        "# https://stackoverflow.com/questions/34716454/where-do-i-call-the-batchnormalization-function-in-keras\n",
        "\n",
        "from keras.layers import Dropout\n",
        "\n",
        "model_drop = Sequential()\n",
        "\n",
        "model_drop.add(Dense(512, activation='relu', input_shape=(input_dim,), kernel_initializer=RandomNormal(mean=0.0, stddev=0.039, seed=None)))\n",
        "model_drop.add(BatchNormalization())\n",
        "model_drop.add(Dropout(0.5))\n",
        "\n",
        "\n",
        "model_drop.add(Dense(256, activation='relu', kernel_initializer=RandomNormal(mean=0.0, stddev=0.05, seed=None)))\n",
        "model_drop.add(BatchNormalization())\n",
        "model_drop.add(Dropout(0.5))\n",
        "#smuk\n",
        "model_drop.add(Dense(128, activation='relu', kernel_initializer=RandomNormal(mean=0.0, stddev=0.079, seed=None)) )\n",
        "model_drop.add(BatchNormalization())\n",
        "model_drop.add(Dropout(0.5))\n",
        "\n",
        "model_drop.add(Dense(64, activation='relu', kernel_initializer=RandomNormal(mean=0.0, stddev=0.11, seed=None)) )\n",
        "model_drop.add(BatchNormalization())\n",
        "model_drop.add(Dropout(0.5))\n",
        "\n",
        "model_drop.add(Dense(32, activation='relu', kernel_initializer=RandomNormal(mean=0.0, stddev=0.16, seed=None)) )\n",
        "model_drop.add(BatchNormalization())\n",
        "model_drop.add(Dropout(0.5))\n",
        "\n",
        "model_drop.add(Dense(output_dim, activation='softmax'))\n",
        "\n",
        "model_drop.summary()\n",
        "\n",
        "model_drop.compile(optimizer='adam', loss='categorical_crossentropy', metrics=['accuracy'])\n",
        "\n",
        "history = model_drop.fit(X_train, Y_train, batch_size=batch_size, epochs=nb_epoch, verbose=1, validation_data=(X_test, Y_test))\n",
        "\n",
        "\n",
        "score = model_drop.evaluate(X_test, Y_test, verbose=0) \n",
        "print('Test score:', score[0]) \n",
        "print('Test accuracy:', score[1])\n",
        "scoretrain = model_drop.evaluate(X_train, Y_train, verbose=0) \n",
        "bb=pd.DataFrame({'type':['6 Layer batch norm dropout'],'Test Score':[score[0]],'Test Accuracy':[score[1]], \\\n",
        "                   'Train Score':[scoretrain[0]],'Train Accuracy':[scoretrain[1]]})\n",
        "aa=aa.append(bb)\n",
        "fig,ax = plt.subplots(1,1)\n",
        "ax.set_xlabel('epoch') ; ax.set_ylabel('Categorical Crossentropy Loss')\n",
        "\n",
        "# list of epoch numbers\n",
        "x = list(range(1,nb_epoch+1))\n",
        "\n",
        "# print(history.history.keys())\n",
        "# dict_keys(['val_loss', 'val_acc', 'loss', 'acc'])\n",
        "# history = model_drop.fit(X_train, Y_train, batch_size=batch_size, epochs=nb_epoch, verbose=1, validation_data=(X_test, Y_test))\n",
        "\n",
        "# we will get val_loss and val_acc only when you pass the paramter validation_data\n",
        "# val_loss : validation loss\n",
        "# val_acc : validation accuracy\n",
        "\n",
        "# loss : training loss\n",
        "# acc : train accuracy\n",
        "# for each key in histrory.histrory we will have a list of length equal to number of epochs\n",
        "\n",
        "vy = history.history['val_loss']\n",
        "ty = history.history['loss']\n",
        "plt_dynamic(x, vy, ty, ax)\n",
        "\n",
        "\n",
        "w_after = model_drop.get_weights()\n",
        "\n",
        "h1_w = w_after[0].flatten().reshape(-1,1)\n",
        "h2_w = w_after[2].flatten().reshape(-1,1)\n",
        "h3_w = w_after[4].flatten().reshape(-1,1)\n",
        "h4_w = w_after[6].flatten().reshape(-1,1)\n",
        "h5_w = w_after[8].flatten().reshape(-1,1)\n",
        "out_w = w_after[10].flatten().reshape(-1,1)\n",
        "\n",
        "\n",
        "fig = plt.figure()\n",
        "plt.title(\"Weight matrices after model trained\")\n",
        "plt.subplot(1, 6, 1)\n",
        "plt.title(\"Trained model Weights\")\n",
        "ax = sns.violinplot(y=h1_w,color='b')\n",
        "plt.xlabel('Hidden Layer 1')\n",
        "\n",
        "plt.subplot(1, 6, 2)\n",
        "plt.title(\"Trained model Weights\")\n",
        "ax = sns.violinplot(y=h2_w, color='r')\n",
        "plt.xlabel('Hidden Layer 2 ')\n",
        "\n",
        "plt.subplot(1, 6, 3)\n",
        "plt.title(\"Trained model Weights\")\n",
        "ax = sns.violinplot(y=h3_w, color='r')\n",
        "plt.xlabel('Hidden Layer 3 ')\n",
        "\n",
        "plt.subplot(1, 6, 4)\n",
        "plt.title(\"Trained model Weights\")\n",
        "ax = sns.violinplot(y=h4_w, color='r')\n",
        "plt.xlabel('Hidden Layer 4 ')\n",
        "\n",
        "plt.subplot(1, 6, 5)\n",
        "plt.title(\"Trained model Weights\")\n",
        "ax = sns.violinplot(y=h5_w, color='r')\n",
        "plt.xlabel('Hidden Layer 5 ')\n",
        "\n",
        "\n",
        "plt.subplot(1, 6, 6)\n",
        "plt.title(\"Trained model Weights\")\n",
        "ax = sns.violinplot(y=out_w,color='y')\n",
        "plt.xlabel('Output Layer ')\n",
        "plt.show()\n"
      ],
      "execution_count": 56,
      "outputs": [
        {
          "output_type": "stream",
          "text": [
            "_________________________________________________________________\n",
            "Layer (type)                 Output Shape              Param #   \n",
            "=================================================================\n",
            "dense_35 (Dense)             (None, 512)               401920    \n",
            "_________________________________________________________________\n",
            "dense_36 (Dense)             (None, 256)               131328    \n",
            "_________________________________________________________________\n",
            "dense_37 (Dense)             (None, 128)               32896     \n",
            "_________________________________________________________________\n",
            "dense_38 (Dense)             (None, 64)                8256      \n",
            "_________________________________________________________________\n",
            "dense_39 (Dense)             (None, 32)                2080      \n",
            "_________________________________________________________________\n",
            "dense_40 (Dense)             (None, 10)                330       \n",
            "=================================================================\n",
            "Total params: 576,810\n",
            "Trainable params: 576,810\n",
            "Non-trainable params: 0\n",
            "_________________________________________________________________\n",
            "None\n",
            "Train on 60000 samples, validate on 10000 samples\n",
            "Epoch 1/50\n",
            "60000/60000 [==============================] - 6s 102us/step - loss: 0.2553 - acc: 0.9222 - val_loss: 0.1638 - val_acc: 0.9483\n",
            "Epoch 2/50\n",
            "60000/60000 [==============================] - 5s 78us/step - loss: 0.0973 - acc: 0.9706 - val_loss: 0.1052 - val_acc: 0.9667\n",
            "Epoch 3/50\n",
            "60000/60000 [==============================] - 5s 79us/step - loss: 0.0642 - acc: 0.9806 - val_loss: 0.1046 - val_acc: 0.9656\n",
            "Epoch 4/50\n",
            "60000/60000 [==============================] - 5s 76us/step - loss: 0.0487 - acc: 0.9846 - val_loss: 0.0934 - val_acc: 0.9735\n",
            "Epoch 5/50\n",
            "60000/60000 [==============================] - 5s 76us/step - loss: 0.0396 - acc: 0.9868 - val_loss: 0.1241 - val_acc: 0.9676\n",
            "Epoch 6/50\n",
            "60000/60000 [==============================] - 5s 79us/step - loss: 0.0342 - acc: 0.9892 - val_loss: 0.0949 - val_acc: 0.9721\n",
            "Epoch 7/50\n",
            "60000/60000 [==============================] - 5s 76us/step - loss: 0.0308 - acc: 0.9902 - val_loss: 0.0922 - val_acc: 0.9761\n",
            "Epoch 8/50\n",
            "60000/60000 [==============================] - 5s 78us/step - loss: 0.0309 - acc: 0.9902 - val_loss: 0.0913 - val_acc: 0.9741\n",
            "Epoch 9/50\n",
            "60000/60000 [==============================] - 5s 80us/step - loss: 0.0233 - acc: 0.9923 - val_loss: 0.0848 - val_acc: 0.9779\n",
            "Epoch 10/50\n",
            "60000/60000 [==============================] - 5s 81us/step - loss: 0.0178 - acc: 0.9945 - val_loss: 0.1001 - val_acc: 0.9752\n",
            "Epoch 11/50\n",
            "60000/60000 [==============================] - 5s 78us/step - loss: 0.0212 - acc: 0.9932 - val_loss: 0.1025 - val_acc: 0.9771\n",
            "Epoch 12/50\n",
            "60000/60000 [==============================] - 5s 77us/step - loss: 0.0207 - acc: 0.9934 - val_loss: 0.0908 - val_acc: 0.9778\n",
            "Epoch 13/50\n",
            "60000/60000 [==============================] - 5s 78us/step - loss: 0.0144 - acc: 0.9956 - val_loss: 0.1119 - val_acc: 0.9746\n",
            "Epoch 14/50\n",
            "60000/60000 [==============================] - 5s 79us/step - loss: 0.0173 - acc: 0.9946 - val_loss: 0.0979 - val_acc: 0.9763\n",
            "Epoch 15/50\n",
            "60000/60000 [==============================] - 5s 78us/step - loss: 0.0207 - acc: 0.9936 - val_loss: 0.1022 - val_acc: 0.9759\n",
            "Epoch 16/50\n",
            "60000/60000 [==============================] - 5s 77us/step - loss: 0.0184 - acc: 0.9942 - val_loss: 0.0884 - val_acc: 0.9808\n",
            "Epoch 17/50\n",
            "60000/60000 [==============================] - 5s 78us/step - loss: 0.0102 - acc: 0.9969 - val_loss: 0.0925 - val_acc: 0.9801\n",
            "Epoch 18/50\n",
            "60000/60000 [==============================] - 5s 80us/step - loss: 0.0127 - acc: 0.9960 - val_loss: 0.1055 - val_acc: 0.9777\n",
            "Epoch 19/50\n",
            "60000/60000 [==============================] - 5s 76us/step - loss: 0.0131 - acc: 0.9963 - val_loss: 0.0964 - val_acc: 0.9800\n",
            "Epoch 20/50\n",
            "60000/60000 [==============================] - 5s 77us/step - loss: 0.0114 - acc: 0.9966 - val_loss: 0.0989 - val_acc: 0.9799\n",
            "Epoch 21/50\n",
            "60000/60000 [==============================] - 5s 80us/step - loss: 0.0115 - acc: 0.9962 - val_loss: 0.1058 - val_acc: 0.9771\n",
            "Epoch 22/50\n",
            "60000/60000 [==============================] - 5s 78us/step - loss: 0.0120 - acc: 0.9964 - val_loss: 0.0962 - val_acc: 0.9809\n",
            "Epoch 23/50\n",
            "60000/60000 [==============================] - 5s 78us/step - loss: 0.0134 - acc: 0.9961 - val_loss: 0.1138 - val_acc: 0.9783\n",
            "Epoch 24/50\n",
            "60000/60000 [==============================] - 5s 76us/step - loss: 0.0108 - acc: 0.9970 - val_loss: 0.1009 - val_acc: 0.9802\n",
            "Epoch 25/50\n",
            "60000/60000 [==============================] - 5s 77us/step - loss: 0.0072 - acc: 0.9978 - val_loss: 0.0909 - val_acc: 0.9834\n",
            "Epoch 26/50\n",
            "60000/60000 [==============================] - 5s 79us/step - loss: 0.0069 - acc: 0.9983 - val_loss: 0.1125 - val_acc: 0.9797\n",
            "Epoch 27/50\n",
            "60000/60000 [==============================] - 5s 79us/step - loss: 0.0084 - acc: 0.9975 - val_loss: 0.0951 - val_acc: 0.9821\n",
            "Epoch 28/50\n",
            "60000/60000 [==============================] - 5s 76us/step - loss: 0.0116 - acc: 0.9967 - val_loss: 0.0945 - val_acc: 0.9801\n",
            "Epoch 29/50\n",
            "60000/60000 [==============================] - 5s 78us/step - loss: 0.0087 - acc: 0.9976 - val_loss: 0.0890 - val_acc: 0.9828\n",
            "Epoch 30/50\n",
            "60000/60000 [==============================] - 5s 75us/step - loss: 0.0061 - acc: 0.9981 - val_loss: 0.1246 - val_acc: 0.9784\n",
            "Epoch 31/50\n",
            "60000/60000 [==============================] - 5s 76us/step - loss: 0.0119 - acc: 0.9968 - val_loss: 0.1014 - val_acc: 0.9811\n",
            "Epoch 32/50\n",
            "60000/60000 [==============================] - 5s 78us/step - loss: 0.0064 - acc: 0.9981 - val_loss: 0.1119 - val_acc: 0.9806\n",
            "Epoch 33/50\n",
            "60000/60000 [==============================] - 5s 78us/step - loss: 0.0101 - acc: 0.9972 - val_loss: 0.0882 - val_acc: 0.9834\n",
            "Epoch 34/50\n",
            "60000/60000 [==============================] - 5s 76us/step - loss: 0.0047 - acc: 0.9986 - val_loss: 0.1021 - val_acc: 0.9812\n",
            "Epoch 35/50\n",
            "60000/60000 [==============================] - 5s 80us/step - loss: 0.0079 - acc: 0.9977 - val_loss: 0.0892 - val_acc: 0.9817\n",
            "Epoch 36/50\n",
            "60000/60000 [==============================] - 5s 77us/step - loss: 0.0040 - acc: 0.9987 - val_loss: 0.1219 - val_acc: 0.9825\n",
            "Epoch 37/50\n",
            "60000/60000 [==============================] - 5s 77us/step - loss: 0.0080 - acc: 0.9975 - val_loss: 0.1203 - val_acc: 0.9804\n",
            "Epoch 38/50\n",
            "60000/60000 [==============================] - 5s 79us/step - loss: 0.0096 - acc: 0.9972 - val_loss: 0.0933 - val_acc: 0.9817\n",
            "Epoch 39/50\n",
            "60000/60000 [==============================] - 5s 80us/step - loss: 0.0061 - acc: 0.9985 - val_loss: 0.0938 - val_acc: 0.9821\n",
            "Epoch 40/50\n",
            "60000/60000 [==============================] - 5s 78us/step - loss: 0.0055 - acc: 0.9985 - val_loss: 0.1087 - val_acc: 0.9804\n",
            "Epoch 41/50\n",
            "60000/60000 [==============================] - 5s 79us/step - loss: 0.0082 - acc: 0.9979 - val_loss: 0.1282 - val_acc: 0.9774\n",
            "Epoch 42/50\n",
            "60000/60000 [==============================] - 5s 76us/step - loss: 0.0075 - acc: 0.9981 - val_loss: 0.1003 - val_acc: 0.9823\n",
            "Epoch 43/50\n",
            "60000/60000 [==============================] - 5s 79us/step - loss: 0.0028 - acc: 0.9993 - val_loss: 0.1019 - val_acc: 0.9813\n",
            "Epoch 44/50\n",
            "60000/60000 [==============================] - 5s 80us/step - loss: 0.0067 - acc: 0.9982 - val_loss: 0.0968 - val_acc: 0.9818\n",
            "Epoch 45/50\n",
            "60000/60000 [==============================] - 5s 80us/step - loss: 0.0043 - acc: 0.9989 - val_loss: 0.0932 - val_acc: 0.9826\n",
            "Epoch 46/50\n",
            "60000/60000 [==============================] - 5s 77us/step - loss: 0.0046 - acc: 0.9989 - val_loss: 0.1086 - val_acc: 0.9811\n",
            "Epoch 47/50\n",
            "60000/60000 [==============================] - 5s 77us/step - loss: 0.0111 - acc: 0.9969 - val_loss: 0.0827 - val_acc: 0.9814\n",
            "Epoch 48/50\n",
            "60000/60000 [==============================] - 5s 79us/step - loss: 0.0039 - acc: 0.9989 - val_loss: 0.1103 - val_acc: 0.9799\n",
            "Epoch 49/50\n",
            "60000/60000 [==============================] - 5s 76us/step - loss: 0.0024 - acc: 0.9992 - val_loss: 0.1045 - val_acc: 0.9834\n",
            "Epoch 50/50\n",
            "60000/60000 [==============================] - 5s 76us/step - loss: 0.0073 - acc: 0.9980 - val_loss: 0.0989 - val_acc: 0.9835\n",
            "Test score: 0.09885513828289336\n",
            "Test accuracy: 0.9835\n",
            "Score    Test Accuracy  Test Score  Train Accuracy  Train Score      type\n",
            "0         0.9835    0.098855        0.998933     0.003696  6 Layer \n",
            "   Test Accuracy  Test Score  Train Accuracy  Train Score  \\\n",
            "0         0.9826    0.107210        0.999683     0.000822   \n",
            "0         0.9826    0.085318        0.999283     0.002036   \n",
            "0         0.9851    0.059443        0.999300     0.002966   \n",
            "0         0.9828    0.116272        0.999300     0.002566   \n",
            "0         0.9857    0.075461        0.999583     0.001542   \n",
            "0         0.9862    0.054167        0.998650     0.004089   \n",
            "0         0.9835    0.098855        0.998933     0.003696   \n",
            "\n",
            "                         type  \n",
            "0                    3 Layer   \n",
            "0          3 Layer batch norm  \n",
            "0  3 Layer batch norm dropout  \n",
            "0                    4 Layer   \n",
            "0          4 Layer batch norm  \n",
            "0  4 Layer batch norm dropout  \n",
            "0                    6 Layer   \n"
          ],
          "name": "stdout"
        },
        {
          "output_type": "stream",
          "text": [
            "/usr/local/lib/python3.6/dist-packages/seaborn/categorical.py:588: FutureWarning: remove_na is deprecated and is a private function. Do not use.\n",
            "  kde_data = remove_na(group_data)\n",
            "/usr/local/lib/python3.6/dist-packages/seaborn/categorical.py:816: FutureWarning: remove_na is deprecated and is a private function. Do not use.\n",
            "  violin_data = remove_na(group_data)\n"
          ],
          "name": "stderr"
        },
        {
          "output_type": "display_data",
          "data": {
            "image/png": "[encoded data removed]",
            "text/plain": [
              "<matplotlib.figure.Figure at 0x7f1f3a8c8908>"
            ]
          },
          "metadata": {
            "tags": []
          }
        },
        {
          "output_type": "display_data",
          "data": {
            "image/png": "[encoded data removed]",
            "text/plain": [
              "<matplotlib.figure.Figure at 0x7f1f39336c88>"
            ]
          },
          "metadata": {
            "tags": []
          }
        },
        {
          "output_type": "stream",
          "text": [
            "_________________________________________________________________\n",
            "Layer (type)                 Output Shape              Param #   \n",
            "=================================================================\n",
            "dense_41 (Dense)             (None, 512)               401920    \n",
            "_________________________________________________________________\n",
            "batch_normalization_15 (Batc (None, 512)               2048      \n",
            "_________________________________________________________________\n",
            "dense_42 (Dense)             (None, 256)               131328    \n",
            "_________________________________________________________________\n",
            "batch_normalization_16 (Batc (None, 256)               1024      \n",
            "_________________________________________________________________\n",
            "dense_43 (Dense)             (None, 128)               32896     \n",
            "_________________________________________________________________\n",
            "batch_normalization_17 (Batc (None, 128)               512       \n",
            "_________________________________________________________________\n",
            "dense_44 (Dense)             (None, 64)                8256      \n",
            "_________________________________________________________________\n",
            "batch_normalization_18 (Batc (None, 64)                256       \n",
            "_________________________________________________________________\n",
            "dense_45 (Dense)             (None, 32)                2080      \n",
            "_________________________________________________________________\n",
            "batch_normalization_19 (Batc (None, 32)                128       \n",
            "_________________________________________________________________\n",
            "dense_46 (Dense)             (None, 10)                330       \n",
            "=================================================================\n",
            "Total params: 580,778\n",
            "Trainable params: 578,794\n",
            "Non-trainable params: 1,984\n",
            "_________________________________________________________________\n",
            "Train on 60000 samples, validate on 10000 samples\n",
            "Epoch 1/50\n",
            "60000/60000 [==============================] - 13s 218us/step - loss: 0.2488 - acc: 0.9314 - val_loss: 0.1187 - val_acc: 0.9634\n",
            "Epoch 2/50\n",
            "60000/60000 [==============================] - 11s 178us/step - loss: 0.0936 - acc: 0.9719 - val_loss: 0.1100 - val_acc: 0.9649\n",
            "Epoch 3/50\n",
            "60000/60000 [==============================] - 11s 176us/step - loss: 0.0670 - acc: 0.9792 - val_loss: 0.0831 - val_acc: 0.9736\n",
            "Epoch 4/50\n",
            "60000/60000 [==============================] - 11s 179us/step - loss: 0.0513 - acc: 0.9838 - val_loss: 0.0896 - val_acc: 0.9732\n",
            "Epoch 5/50\n",
            "60000/60000 [==============================] - 11s 181us/step - loss: 0.0445 - acc: 0.9864 - val_loss: 0.0758 - val_acc: 0.9772\n",
            "Epoch 6/50\n",
            "60000/60000 [==============================] - 11s 184us/step - loss: 0.0361 - acc: 0.9884 - val_loss: 0.0766 - val_acc: 0.9779\n",
            "Epoch 7/50\n",
            "60000/60000 [==============================] - 11s 179us/step - loss: 0.0343 - acc: 0.9890 - val_loss: 0.0789 - val_acc: 0.9772\n",
            "Epoch 8/50\n",
            "60000/60000 [==============================] - 11s 178us/step - loss: 0.0300 - acc: 0.9908 - val_loss: 0.0794 - val_acc: 0.9765\n",
            "Epoch 9/50\n",
            "60000/60000 [==============================] - 11s 183us/step - loss: 0.0259 - acc: 0.9920 - val_loss: 0.0744 - val_acc: 0.9794\n",
            "Epoch 10/50\n",
            "60000/60000 [==============================] - 11s 179us/step - loss: 0.0223 - acc: 0.9931 - val_loss: 0.0698 - val_acc: 0.9814\n",
            "Epoch 11/50\n",
            "60000/60000 [==============================] - 11s 184us/step - loss: 0.0232 - acc: 0.9926 - val_loss: 0.0720 - val_acc: 0.9788\n",
            "Epoch 12/50\n",
            "60000/60000 [==============================] - 11s 182us/step - loss: 0.0233 - acc: 0.9925 - val_loss: 0.0746 - val_acc: 0.9807\n",
            "Epoch 13/50\n",
            "60000/60000 [==============================] - 11s 181us/step - loss: 0.0188 - acc: 0.9939 - val_loss: 0.0706 - val_acc: 0.9814\n",
            "Epoch 14/50\n",
            "60000/60000 [==============================] - 11s 178us/step - loss: 0.0188 - acc: 0.9937 - val_loss: 0.0832 - val_acc: 0.9784\n",
            "Epoch 15/50\n",
            "60000/60000 [==============================] - 11s 181us/step - loss: 0.0154 - acc: 0.9947 - val_loss: 0.0758 - val_acc: 0.9792\n",
            "Epoch 16/50\n",
            "60000/60000 [==============================] - 11s 185us/step - loss: 0.0154 - acc: 0.9951 - val_loss: 0.0731 - val_acc: 0.9804\n",
            "Epoch 17/50\n",
            "60000/60000 [==============================] - 11s 181us/step - loss: 0.0163 - acc: 0.9950 - val_loss: 0.0872 - val_acc: 0.9783\n",
            "Epoch 18/50\n",
            "60000/60000 [==============================] - 11s 182us/step - loss: 0.0158 - acc: 0.9947 - val_loss: 0.0774 - val_acc: 0.9804\n",
            "Epoch 19/50\n",
            "60000/60000 [==============================] - 11s 179us/step - loss: 0.0138 - acc: 0.9955 - val_loss: 0.0679 - val_acc: 0.9816\n",
            "Epoch 20/50\n",
            "60000/60000 [==============================] - 11s 179us/step - loss: 0.0123 - acc: 0.9959 - val_loss: 0.0768 - val_acc: 0.9798\n",
            "Epoch 21/50\n",
            "60000/60000 [==============================] - 11s 181us/step - loss: 0.0120 - acc: 0.9961 - val_loss: 0.1040 - val_acc: 0.9750\n",
            "Epoch 22/50\n",
            "60000/60000 [==============================] - 11s 183us/step - loss: 0.0102 - acc: 0.9966 - val_loss: 0.0758 - val_acc: 0.9818\n",
            "Epoch 23/50\n",
            "60000/60000 [==============================] - 11s 181us/step - loss: 0.0126 - acc: 0.9958 - val_loss: 0.0836 - val_acc: 0.9813\n",
            "Epoch 24/50\n",
            "60000/60000 [==============================] - 11s 180us/step - loss: 0.0101 - acc: 0.9966 - val_loss: 0.0681 - val_acc: 0.9821\n",
            "Epoch 25/50\n",
            "60000/60000 [==============================] - 11s 184us/step - loss: 0.0085 - acc: 0.9973 - val_loss: 0.0749 - val_acc: 0.9811\n",
            "Epoch 26/50\n",
            "60000/60000 [==============================] - 11s 181us/step - loss: 0.0098 - acc: 0.9966 - val_loss: 0.0810 - val_acc: 0.9810\n",
            "Epoch 27/50\n",
            "60000/60000 [==============================] - 11s 179us/step - loss: 0.0087 - acc: 0.9973 - val_loss: 0.0839 - val_acc: 0.9801\n",
            "Epoch 28/50\n",
            "60000/60000 [==============================] - 11s 180us/step - loss: 0.0091 - acc: 0.9971 - val_loss: 0.0748 - val_acc: 0.9829\n",
            "Epoch 29/50\n",
            "60000/60000 [==============================] - 11s 178us/step - loss: 0.0089 - acc: 0.9972 - val_loss: 0.0746 - val_acc: 0.9831\n",
            "Epoch 30/50\n",
            "60000/60000 [==============================] - 11s 177us/step - loss: 0.0074 - acc: 0.9976 - val_loss: 0.0695 - val_acc: 0.9824\n",
            "Epoch 31/50\n",
            "60000/60000 [==============================] - 11s 179us/step - loss: 0.0102 - acc: 0.9967 - val_loss: 0.0696 - val_acc: 0.9825\n",
            "Epoch 32/50\n",
            "60000/60000 [==============================] - 11s 182us/step - loss: 0.0067 - acc: 0.9975 - val_loss: 0.0827 - val_acc: 0.9802\n",
            "Epoch 33/50\n",
            "60000/60000 [==============================] - 11s 180us/step - loss: 0.0077 - acc: 0.9976 - val_loss: 0.0631 - val_acc: 0.9855\n",
            "Epoch 34/50\n",
            "60000/60000 [==============================] - 11s 183us/step - loss: 0.0063 - acc: 0.9981 - val_loss: 0.0715 - val_acc: 0.9835\n",
            "Epoch 35/50\n",
            "60000/60000 [==============================] - 11s 180us/step - loss: 0.0066 - acc: 0.9977 - val_loss: 0.0910 - val_acc: 0.9805\n",
            "Epoch 36/50\n",
            "60000/60000 [==============================] - 11s 180us/step - loss: 0.0057 - acc: 0.9982 - val_loss: 0.0955 - val_acc: 0.9795\n",
            "Epoch 37/50\n",
            "60000/60000 [==============================] - 11s 184us/step - loss: 0.0083 - acc: 0.9972 - val_loss: 0.0805 - val_acc: 0.9828\n",
            "Epoch 38/50\n",
            "60000/60000 [==============================] - 11s 181us/step - loss: 0.0080 - acc: 0.9975 - val_loss: 0.0811 - val_acc: 0.9815\n",
            "Epoch 39/50\n",
            "60000/60000 [==============================] - 11s 185us/step - loss: 0.0064 - acc: 0.9979 - val_loss: 0.0826 - val_acc: 0.9824\n",
            "Epoch 40/50\n",
            "60000/60000 [==============================] - 11s 185us/step - loss: 0.0059 - acc: 0.9980 - val_loss: 0.0831 - val_acc: 0.9809\n",
            "Epoch 41/50\n",
            "60000/60000 [==============================] - 11s 179us/step - loss: 0.0043 - acc: 0.9987 - val_loss: 0.0701 - val_acc: 0.9844\n",
            "Epoch 42/50\n",
            "60000/60000 [==============================] - 11s 182us/step - loss: 0.0051 - acc: 0.9983 - val_loss: 0.0830 - val_acc: 0.9823\n",
            "Epoch 43/50\n",
            "60000/60000 [==============================] - 11s 181us/step - loss: 0.0074 - acc: 0.9977 - val_loss: 0.0782 - val_acc: 0.9816\n",
            "Epoch 44/50\n",
            "60000/60000 [==============================] - 11s 181us/step - loss: 0.0058 - acc: 0.9983 - val_loss: 0.0772 - val_acc: 0.9824\n",
            "Epoch 45/50\n",
            "60000/60000 [==============================] - 11s 180us/step - loss: 0.0054 - acc: 0.9983 - val_loss: 0.0739 - val_acc: 0.9829\n",
            "Epoch 46/50\n",
            "60000/60000 [==============================] - 11s 177us/step - loss: 0.0035 - acc: 0.9991 - val_loss: 0.0809 - val_acc: 0.9843\n",
            "Epoch 47/50\n",
            "60000/60000 [==============================] - 11s 179us/step - loss: 0.0039 - acc: 0.9987 - val_loss: 0.0859 - val_acc: 0.9814\n",
            "Epoch 48/50\n",
            "60000/60000 [==============================] - 11s 179us/step - loss: 0.0058 - acc: 0.9981 - val_loss: 0.0844 - val_acc: 0.9815\n",
            "Epoch 49/50\n",
            "60000/60000 [==============================] - 11s 182us/step - loss: 0.0055 - acc: 0.9983 - val_loss: 0.0848 - val_acc: 0.9832\n",
            "Epoch 50/50\n",
            "60000/60000 [==============================] - 11s 181us/step - loss: 0.0045 - acc: 0.9986 - val_loss: 0.0847 - val_acc: 0.9824\n",
            "Test score: 0.0846944084940711\n",
            "Test accuracy: 0.9824\n"
          ],
          "name": "stdout"
        },
        {
          "output_type": "display_data",
          "data": {
            "image/png": "[encoded data removed]",
            "text/plain": [
              "<matplotlib.figure.Figure at 0x7f1f36e48c18>"
            ]
          },
          "metadata": {
            "tags": []
          }
        },
        {
          "output_type": "display_data",
          "data": {
            "image/png": "[encoded data removed]",
            "text/plain": [
              "<matplotlib.figure.Figure at 0x7f1f36ec9f60>"
            ]
          },
          "metadata": {
            "tags": []
          }
        },
        {
          "output_type": "stream",
          "text": [
            "_________________________________________________________________\n",
            "Layer (type)                 Output Shape              Param #   \n",
            "=================================================================\n",
            "dense_47 (Dense)             (None, 512)               401920    \n",
            "_________________________________________________________________\n",
            "batch_normalization_20 (Batc (None, 512)               2048      \n",
            "_________________________________________________________________\n",
            "dropout_8 (Dropout)          (None, 512)               0         \n",
            "_________________________________________________________________\n",
            "dense_48 (Dense)             (None, 256)               131328    \n",
            "_________________________________________________________________\n",
            "batch_normalization_21 (Batc (None, 256)               1024      \n",
            "_________________________________________________________________\n",
            "dropout_9 (Dropout)          (None, 256)               0         \n",
            "_________________________________________________________________\n",
            "dense_49 (Dense)             (None, 128)               32896     \n",
            "_________________________________________________________________\n",
            "batch_normalization_22 (Batc (None, 128)               512       \n",
            "_________________________________________________________________\n",
            "dropout_10 (Dropout)         (None, 128)               0         \n",
            "_________________________________________________________________\n",
            "dense_50 (Dense)             (None, 64)                8256      \n",
            "_________________________________________________________________\n",
            "batch_normalization_23 (Batc (None, 64)                256       \n",
            "_________________________________________________________________\n",
            "dropout_11 (Dropout)         (None, 64)                0         \n",
            "_________________________________________________________________\n",
            "dense_51 (Dense)             (None, 32)                2080      \n",
            "_________________________________________________________________\n",
            "batch_normalization_24 (Batc (None, 32)                128       \n",
            "_________________________________________________________________\n",
            "dropout_12 (Dropout)         (None, 32)                0         \n",
            "_________________________________________________________________\n",
            "dense_52 (Dense)             (None, 10)                330       \n",
            "=================================================================\n",
            "Total params: 580,778\n",
            "Trainable params: 578,794\n",
            "Non-trainable params: 1,984\n",
            "_________________________________________________________________\n",
            "Train on 60000 samples, validate on 10000 samples\n",
            "Epoch 1/50\n",
            "60000/60000 [==============================] - 15s 254us/step - loss: 1.4138 - acc: 0.5471 - val_loss: 0.3250 - val_acc: 0.9132\n",
            "Epoch 2/50\n",
            "60000/60000 [==============================] - 12s 195us/step - loss: 0.5675 - acc: 0.8446 - val_loss: 0.1994 - val_acc: 0.9429\n",
            "Epoch 3/50\n",
            "60000/60000 [==============================] - 12s 193us/step - loss: 0.3949 - acc: 0.9011 - val_loss: 0.1672 - val_acc: 0.9568\n",
            "Epoch 4/50\n",
            "60000/60000 [==============================] - 12s 197us/step - loss: 0.3242 - acc: 0.9220 - val_loss: 0.1405 - val_acc: 0.9640\n",
            "Epoch 5/50\n",
            "60000/60000 [==============================] - 11s 190us/step - loss: 0.2824 - acc: 0.9341 - val_loss: 0.1281 - val_acc: 0.9689\n",
            "Epoch 6/50\n",
            "60000/60000 [==============================] - 11s 192us/step - loss: 0.2476 - acc: 0.9429 - val_loss: 0.1144 - val_acc: 0.9708\n",
            "Epoch 7/50\n",
            "60000/60000 [==============================] - 11s 189us/step - loss: 0.2313 - acc: 0.9481 - val_loss: 0.1179 - val_acc: 0.9720\n",
            "Epoch 8/50\n",
            "60000/60000 [==============================] - 12s 193us/step - loss: 0.2173 - acc: 0.9505 - val_loss: 0.1046 - val_acc: 0.9744\n",
            "Epoch 9/50\n",
            "60000/60000 [==============================] - 12s 195us/step - loss: 0.2072 - acc: 0.9531 - val_loss: 0.0976 - val_acc: 0.9750\n",
            "Epoch 10/50\n",
            "60000/60000 [==============================] - 11s 191us/step - loss: 0.1930 - acc: 0.9559 - val_loss: 0.1067 - val_acc: 0.9755\n",
            "Epoch 11/50\n",
            "60000/60000 [==============================] - 11s 189us/step - loss: 0.1869 - acc: 0.9577 - val_loss: 0.1061 - val_acc: 0.9747\n",
            "Epoch 12/50\n",
            "60000/60000 [==============================] - 11s 189us/step - loss: 0.1782 - acc: 0.9594 - val_loss: 0.0933 - val_acc: 0.9781\n",
            "Epoch 13/50\n",
            "60000/60000 [==============================] - 11s 189us/step - loss: 0.1721 - acc: 0.9621 - val_loss: 0.0885 - val_acc: 0.9801\n",
            "Epoch 14/50\n",
            "60000/60000 [==============================] - 12s 193us/step - loss: 0.1601 - acc: 0.9645 - val_loss: 0.0939 - val_acc: 0.9790\n",
            "Epoch 15/50\n",
            "60000/60000 [==============================] - 12s 196us/step - loss: 0.1571 - acc: 0.9640 - val_loss: 0.0888 - val_acc: 0.9802\n",
            "Epoch 16/50\n",
            "60000/60000 [==============================] - 12s 192us/step - loss: 0.1528 - acc: 0.9653 - val_loss: 0.0803 - val_acc: 0.9810\n",
            "Epoch 17/50\n",
            "60000/60000 [==============================] - 11s 191us/step - loss: 0.1506 - acc: 0.9662 - val_loss: 0.0948 - val_acc: 0.9780\n",
            "Epoch 18/50\n",
            "60000/60000 [==============================] - 11s 189us/step - loss: 0.1408 - acc: 0.9687 - val_loss: 0.0844 - val_acc: 0.9810\n",
            "Epoch 19/50\n",
            "60000/60000 [==============================] - 11s 191us/step - loss: 0.1381 - acc: 0.9689 - val_loss: 0.0844 - val_acc: 0.9816\n",
            "Epoch 20/50\n",
            "60000/60000 [==============================] - 12s 200us/step - loss: 0.1376 - acc: 0.9686 - val_loss: 0.0851 - val_acc: 0.9815\n",
            "Epoch 21/50\n",
            "60000/60000 [==============================] - 12s 194us/step - loss: 0.1330 - acc: 0.9702 - val_loss: 0.0925 - val_acc: 0.9791\n",
            "Epoch 22/50\n",
            "60000/60000 [==============================] - 12s 192us/step - loss: 0.1270 - acc: 0.9718 - val_loss: 0.0825 - val_acc: 0.9806\n",
            "Epoch 23/50\n",
            "60000/60000 [==============================] - 11s 189us/step - loss: 0.1198 - acc: 0.9723 - val_loss: 0.0814 - val_acc: 0.9823\n",
            "Epoch 24/50\n",
            "60000/60000 [==============================] - 11s 191us/step - loss: 0.1214 - acc: 0.9727 - val_loss: 0.0768 - val_acc: 0.9819\n",
            "Epoch 25/50\n",
            "60000/60000 [==============================] - 12s 193us/step - loss: 0.1153 - acc: 0.9740 - val_loss: 0.0747 - val_acc: 0.9826\n",
            "Epoch 26/50\n",
            "60000/60000 [==============================] - 11s 191us/step - loss: 0.1153 - acc: 0.9738 - val_loss: 0.0784 - val_acc: 0.9814\n",
            "Epoch 27/50\n",
            "60000/60000 [==============================] - 12s 192us/step - loss: 0.1122 - acc: 0.9750 - val_loss: 0.0825 - val_acc: 0.9814\n",
            "Epoch 28/50\n",
            "60000/60000 [==============================] - 11s 191us/step - loss: 0.1129 - acc: 0.9753 - val_loss: 0.0778 - val_acc: 0.9822\n",
            "Epoch 29/50\n",
            "60000/60000 [==============================] - 12s 192us/step - loss: 0.1096 - acc: 0.9746 - val_loss: 0.0729 - val_acc: 0.9842\n",
            "Epoch 30/50\n",
            "60000/60000 [==============================] - 11s 191us/step - loss: 0.1054 - acc: 0.9754 - val_loss: 0.0759 - val_acc: 0.9837\n",
            "Epoch 31/50\n",
            "60000/60000 [==============================] - 12s 192us/step - loss: 0.1049 - acc: 0.9767 - val_loss: 0.0792 - val_acc: 0.9832\n",
            "Epoch 32/50\n",
            "60000/60000 [==============================] - 11s 191us/step - loss: 0.0995 - acc: 0.9782 - val_loss: 0.0739 - val_acc: 0.9844\n",
            "Epoch 33/50\n",
            "60000/60000 [==============================] - 11s 189us/step - loss: 0.0995 - acc: 0.9777 - val_loss: 0.0743 - val_acc: 0.9832\n",
            "Epoch 34/50\n",
            "60000/60000 [==============================] - 11s 191us/step - loss: 0.1031 - acc: 0.9771 - val_loss: 0.0699 - val_acc: 0.9838\n",
            "Epoch 35/50\n",
            "60000/60000 [==============================] - 11s 190us/step - loss: 0.0951 - acc: 0.9788 - val_loss: 0.0720 - val_acc: 0.9847\n",
            "Epoch 36/50\n",
            "60000/60000 [==============================] - 12s 193us/step - loss: 0.0900 - acc: 0.9797 - val_loss: 0.0733 - val_acc: 0.9841\n",
            "Epoch 37/50\n",
            "60000/60000 [==============================] - 11s 188us/step - loss: 0.0907 - acc: 0.9792 - val_loss: 0.0781 - val_acc: 0.9842\n",
            "Epoch 38/50\n",
            "60000/60000 [==============================] - 11s 189us/step - loss: 0.0887 - acc: 0.9802 - val_loss: 0.0775 - val_acc: 0.9833\n",
            "Epoch 39/50\n",
            "60000/60000 [==============================] - 11s 187us/step - loss: 0.0905 - acc: 0.9794 - val_loss: 0.0800 - val_acc: 0.9832\n",
            "Epoch 40/50\n",
            "60000/60000 [==============================] - 12s 194us/step - loss: 0.0878 - acc: 0.9810 - val_loss: 0.0733 - val_acc: 0.9844\n",
            "Epoch 41/50\n",
            "60000/60000 [==============================] - 12s 193us/step - loss: 0.0854 - acc: 0.9808 - val_loss: 0.0753 - val_acc: 0.9849\n",
            "Epoch 42/50\n",
            "60000/60000 [==============================] - 12s 192us/step - loss: 0.0915 - acc: 0.9796 - val_loss: 0.0725 - val_acc: 0.9850\n",
            "Epoch 43/50\n",
            "60000/60000 [==============================] - 11s 190us/step - loss: 0.0861 - acc: 0.9810 - val_loss: 0.0722 - val_acc: 0.9843\n",
            "Epoch 44/50\n",
            "60000/60000 [==============================] - 11s 187us/step - loss: 0.0822 - acc: 0.9817 - val_loss: 0.0723 - val_acc: 0.9842\n",
            "Epoch 45/50\n",
            "60000/60000 [==============================] - 11s 191us/step - loss: 0.0745 - acc: 0.9830 - val_loss: 0.0736 - val_acc: 0.9837\n",
            "Epoch 46/50\n",
            "60000/60000 [==============================] - 12s 192us/step - loss: 0.0817 - acc: 0.9810 - val_loss: 0.0760 - val_acc: 0.9842\n",
            "Epoch 47/50\n",
            "60000/60000 [==============================] - 12s 195us/step - loss: 0.0791 - acc: 0.9823 - val_loss: 0.0740 - val_acc: 0.9846\n",
            "Epoch 48/50\n",
            "60000/60000 [==============================] - 11s 190us/step - loss: 0.0767 - acc: 0.9831 - val_loss: 0.0725 - val_acc: 0.9859\n",
            "Epoch 49/50\n",
            "60000/60000 [==============================] - 11s 186us/step - loss: 0.0734 - acc: 0.9833 - val_loss: 0.0712 - val_acc: 0.9849\n",
            "Epoch 50/50\n",
            "60000/60000 [==============================] - 11s 189us/step - loss: 0.0775 - acc: 0.9831 - val_loss: 0.0707 - val_acc: 0.9858\n",
            "Test score: 0.07074182197086484\n",
            "Test accuracy: 0.9858\n"
          ],
          "name": "stdout"
        },
        {
          "output_type": "display_data",
          "data": {
            "image/png": "[encoded data removed]",
            "text/plain": [
              "<matplotlib.figure.Figure at 0x7f1f36e8ff60>"
            ]
          },
          "metadata": {
            "tags": []
          }
        },
        {
          "output_type": "display_data",
          "data": {
            "image/png": "[encoded data removed]",
            "text/plain": [
              "<matplotlib.figure.Figure at 0x7f1f348fd7b8>"
            ]
          },
          "metadata": {
            "tags": []
          }
        }
      ]
    },
    {
      "metadata": {
        "id": "8OEdd0gjH8Wm",
        "colab_type": "code",
        "colab": {
          "base_uri": "https://localhost:8080/",
          "height": 332
        },
        "outputId": "f2ef2925-f91f-4bb6-8485-abc1a288fcfa"
      },
      "cell_type": "code",
      "source": [
        "aa"
      ],
      "execution_count": 57,
      "outputs": [
        {
          "output_type": "execute_result",
          "data": {
            "text/html": [
              "<div>\n",
              "<style scoped>\n",
              "    .dataframe tbody tr th:only-of-type {\n",
              "        vertical-align: middle;\n",
              "    }\n",
              "\n",
              "    .dataframe tbody tr th {\n",
              "        vertical-align: top;\n",
              "    }\n",
              "\n",
              "    .dataframe thead th {\n",
              "        text-align: right;\n",
              "    }\n",
              "</style>\n",
              "<table border=\"1\" class=\"dataframe\">\n",
              "  <thead>\n",
              "    <tr style=\"text-align: right;\">\n",
              "      <th></th>\n",
              "      <th>Test Accuracy</th>\n",
              "      <th>Test Score</th>\n",
              "      <th>Train Accuracy</th>\n",
              "      <th>Train Score</th>\n",
              "      <th>type</th>\n",
              "    </tr>\n",
              "  </thead>\n",
              "  <tbody>\n",
              "    <tr>\n",
              "      <th>0</th>\n",
              "      <td>0.9826</td>\n",
              "      <td>0.107210</td>\n",
              "      <td>0.999683</td>\n",
              "      <td>0.000822</td>\n",
              "      <td>3 Layer</td>\n",
              "    </tr>\n",
              "    <tr>\n",
              "      <th>0</th>\n",
              "      <td>0.9826</td>\n",
              "      <td>0.085318</td>\n",
              "      <td>0.999283</td>\n",
              "      <td>0.002036</td>\n",
              "      <td>3 Layer batch norm</td>\n",
              "    </tr>\n",
              "    <tr>\n",
              "      <th>0</th>\n",
              "      <td>0.9851</td>\n",
              "      <td>0.059443</td>\n",
              "      <td>0.999300</td>\n",
              "      <td>0.002966</td>\n",
              "      <td>3 Layer batch norm dropout</td>\n",
              "    </tr>\n",
              "    <tr>\n",
              "      <th>0</th>\n",
              "      <td>0.9828</td>\n",
              "      <td>0.116272</td>\n",
              "      <td>0.999300</td>\n",
              "      <td>0.002566</td>\n",
              "      <td>4 Layer</td>\n",
              "    </tr>\n",
              "    <tr>\n",
              "      <th>0</th>\n",
              "      <td>0.9857</td>\n",
              "      <td>0.075461</td>\n",
              "      <td>0.999583</td>\n",
              "      <td>0.001542</td>\n",
              "      <td>4 Layer batch norm</td>\n",
              "    </tr>\n",
              "    <tr>\n",
              "      <th>0</th>\n",
              "      <td>0.9862</td>\n",
              "      <td>0.054167</td>\n",
              "      <td>0.998650</td>\n",
              "      <td>0.004089</td>\n",
              "      <td>4 Layer batch norm dropout</td>\n",
              "    </tr>\n",
              "    <tr>\n",
              "      <th>0</th>\n",
              "      <td>0.9835</td>\n",
              "      <td>0.098855</td>\n",
              "      <td>0.998933</td>\n",
              "      <td>0.003696</td>\n",
              "      <td>6 Layer</td>\n",
              "    </tr>\n",
              "    <tr>\n",
              "      <th>0</th>\n",
              "      <td>0.9824</td>\n",
              "      <td>0.084694</td>\n",
              "      <td>0.998617</td>\n",
              "      <td>0.004070</td>\n",
              "      <td>6 Layer batch norm</td>\n",
              "    </tr>\n",
              "    <tr>\n",
              "      <th>0</th>\n",
              "      <td>0.9858</td>\n",
              "      <td>0.070742</td>\n",
              "      <td>0.997333</td>\n",
              "      <td>0.009903</td>\n",
              "      <td>6 Layer batch norm dropout</td>\n",
              "    </tr>\n",
              "  </tbody>\n",
              "</table>\n",
              "</div>"
            ],
            "text/plain": [
              "   Test Accuracy  Test Score  Train Accuracy  Train Score  \\\n",
              "0         0.9826    0.107210        0.999683     0.000822   \n",
              "0         0.9826    0.085318        0.999283     0.002036   \n",
              "0         0.9851    0.059443        0.999300     0.002966   \n",
              "0         0.9828    0.116272        0.999300     0.002566   \n",
              "0         0.9857    0.075461        0.999583     0.001542   \n",
              "0         0.9862    0.054167        0.998650     0.004089   \n",
              "0         0.9835    0.098855        0.998933     0.003696   \n",
              "0         0.9824    0.084694        0.998617     0.004070   \n",
              "0         0.9858    0.070742        0.997333     0.009903   \n",
              "\n",
              "                         type  \n",
              "0                    3 Layer   \n",
              "0          3 Layer batch norm  \n",
              "0  3 Layer batch norm dropout  \n",
              "0                    4 Layer   \n",
              "0          4 Layer batch norm  \n",
              "0  4 Layer batch norm dropout  \n",
              "0                    6 Layer   \n",
              "0          6 Layer batch norm  \n",
              "0  6 Layer batch norm dropout  "
            ]
          },
          "metadata": {
            "tags": []
          },
          "execution_count": 57
        }
      ]
    },
    {
      "metadata": {
        "id": "0ysD-N8_H8W_",
        "colab_type": "code",
        "colab": {}
      },
      "cell_type": "code",
      "source": [
        ""
      ],
      "execution_count": 0,
      "outputs": []
    },
    {
      "metadata": {
        "id": "5K1KUWpTH8XG",
        "colab_type": "code",
        "colab": {}
      },
      "cell_type": "code",
      "source": [
        ""
      ],
      "execution_count": 0,
      "outputs": []
    },
    {
      "metadata": {
        "id": "OSbJrr7cH8XT",
        "colab_type": "code",
        "colab": {}
      },
      "cell_type": "code",
      "source": [
        ""
      ],
      "execution_count": 0,
      "outputs": []
    },
    {
      "metadata": {
        "id": "PYmkOwPUH8Xb",
        "colab_type": "code",
        "colab": {}
      },
      "cell_type": "code",
      "source": [
        ""
      ],
      "execution_count": 0,
      "outputs": []
    },
    {
      "metadata": {
        "id": "88bXx8QrH8Xh",
        "colab_type": "code",
        "colab": {}
      },
      "cell_type": "code",
      "source": [
        ""
      ],
      "execution_count": 0,
      "outputs": []
    },
    {
      "metadata": {
        "id": "c9hagTM5H8Xm",
        "colab_type": "code",
        "colab": {}
      },
      "cell_type": "code",
      "source": [
        ""
      ],
      "execution_count": 0,
      "outputs": []
    },
    {
      "metadata": {
        "id": "AwXBjx94H8Xv",
        "colab_type": "code",
        "colab": {}
      },
      "cell_type": "code",
      "source": [
        ""
      ],
      "execution_count": 0,
      "outputs": []
    },
    {
      "metadata": {
        "id": "fJZPsILsH8YG",
        "colab_type": "code",
        "colab": {}
      },
      "cell_type": "code",
      "source": [
        ""
      ],
      "execution_count": 0,
      "outputs": []
    },
    {
      "metadata": {
        "id": "Zpg4DoGaH8YP",
        "colab_type": "code",
        "colab": {}
      },
      "cell_type": "code",
      "source": [
        ""
      ],
      "execution_count": 0,
      "outputs": []
    },
    {
      "metadata": {
        "id": "lqHr0EgRH8YW",
        "colab_type": "code",
        "colab": {}
      },
      "cell_type": "code",
      "source": [
        ""
      ],
      "execution_count": 0,
      "outputs": []
    },
    {
      "metadata": {
        "id": "I07luwosH8Ya",
        "colab_type": "code",
        "colab": {}
      },
      "cell_type": "code",
      "source": [
        ""
      ],
      "execution_count": 0,
      "outputs": []
    }
  ]
}