{
 "cells": [
  {
   "cell_type": "markdown",
   "metadata": {},
   "source": [
    "# Amazon food review dataset apply clustering polarity review\n",
    "\n",
    "Data set from https://www.kaggle.com/snap/amazon-fine-food-reviews\n",
    "\n",
    "# Objective\n",
    "Use xi and apply kmeans(using kmenas++) for various value of k using BOW,TFIDF etc. find best k\n",
    "\n",
    "For each centroid read few items that could be similar review like food, mobile\n",
    "\n",
    "Implement hierarchical try with different cluster for different text presentation(BOW,TFIDF)\n",
    "\n",
    "Try dbscan with W2V use dim of vec 100, minpts=2*d, use all data\n",
    "\n",
    "Use elbow methood or similar to find best eps\n",
    "\n",
    "Try other eps and see how sensitive it is\n",
    "\n",
    "# Import data and libraries\n",
    " \n",
    " "
   ]
  },
  {
   "cell_type": "code",
   "execution_count": 1,
   "metadata": {
    "collapsed": true
   },
   "outputs": [],
   "source": [
    "import sqlite3\n",
    "import pandas as pd\n",
    "import numpy as np\n",
    "import nltk\n",
    "import string\n",
    "import matplotlib.pyplot as plt\n",
    "import seaborn as sns\n",
    "from sklearn.feature_extraction.text import TfidfTransformer\n",
    "from sklearn.feature_extraction.text import TfidfVectorizer\n",
    "from sklearn.feature_extraction.text import CountVectorizer\n",
    "from sklearn.metrics import confusion_matrix\n",
    "from sklearn import metrics\n",
    "from sklearn.metrics import roc_curve, auc\n",
    "from nltk.stem.porter import PorterStemmer\n",
    "con = sqlite3.connect('database.sqlite') \n",
    "#get only +ve and -ve review \n",
    "raw_data = pd.read_sql_query(\"\"\"SELECT * FROM Reviews WHERE Score != 3\"\"\", con) "
   ]
  },
  {
   "cell_type": "markdown",
   "metadata": {},
   "source": [
    "# Data preprocessing"
   ]
  },
  {
   "cell_type": "code",
   "execution_count": 2,
   "metadata": {
    "collapsed": true
   },
   "outputs": [],
   "source": [
    "filtered_data=raw_data\n",
    "# Score>3 a positive rating, and score<3 a negative rating.\n",
    "def partition(x):\n",
    "    if x < 3:\n",
    "        return 'negative'\n",
    "    return 'positive'\n",
    "\n",
    "#changing reviews with score less than 3 to be positive and vice-versa\n",
    "actualScore = filtered_data['Score']\n",
    "positiveNegative = actualScore.map(partition) \n",
    "filtered_data['Score'] = positiveNegative\n",
    "#filtered_data.sample(5)\n",
    "filtered_data['Score'].value_counts()\n",
    "#Sorting data according to ProductId in ascending order\n",
    "sorted_data=filtered_data.sort_values('ProductId', axis=0, ascending=True, inplace=False, kind='quicksort', na_position='last')\n",
    "#Deduplication of entries for same profilename,userid, time, text and take first element \n",
    "sorted_data=sorted_data.drop_duplicates(subset={\"UserId\",\"ProfileName\",\"Time\",\"Text\"}, keep='first', inplace=False)"
   ]
  },
  {
   "cell_type": "code",
   "execution_count": 3,
   "metadata": {},
   "outputs": [
    {
     "name": "stderr",
     "output_type": "stream",
     "text": [
      "C:\\Users\\suman\\Anaconda3\\lib\\site-packages\\sklearn\\cross_validation.py:41: DeprecationWarning: This module was deprecated in version 0.18 in favor of the model_selection module into which all the refactored classes and functions are moved. Also note that the interface of the new CV iterators are different from that of this module. This module will be removed in 0.20.\n",
      "  \"This module will be removed in 0.20.\", DeprecationWarning)\n"
     ]
    },
    {
     "data": {
      "text/plain": [
       "positive    4216\n",
       "negative     784\n",
       "Name: Score, dtype: int64"
      ]
     },
     "execution_count": 3,
     "metadata": {},
     "output_type": "execute_result"
    }
   ],
   "source": [
    "#take only 2500 + 2500 data\n",
    "from sklearn.cross_validation import train_test_split,KFold\n",
    "_ , clean_data = train_test_split(sorted_data, test_size = 5000, stratify = sorted_data['Score'] ,random_state=0)\n",
    "clean_data['Score'].value_counts()"
   ]
  },
  {
   "cell_type": "code",
   "execution_count": 4,
   "metadata": {
    "collapsed": true
   },
   "outputs": [],
   "source": [
    "# Clean html tag and punctuation\n",
    "import re\n",
    "import string\n",
    "from nltk.corpus import stopwords\n",
    "from nltk.stem import PorterStemmer\n",
    "from nltk.stem.wordnet import WordNetLemmatizer\n",
    "\n",
    "stop = set(stopwords.words('english')) #set of stopwords\n",
    "sno = nltk.stem.SnowballStemmer('english') #initialising the snowball stemmer\n",
    "#substitute html tag and punctuation\n",
    "def cleanhtml(sentence): #function to clean the word of any html-tags\n",
    "    cleanr = re.compile('<.*?>')\n",
    "    cleantext = re.sub(cleanr, ' ', sentence)\n",
    "    return cleantext\n",
    "def cleanpunc(sentence): #function to clean the word of any punctuation or special characters\n",
    "    cleaned = re.sub(r'[?|!|\\'|\"|#]',r'',sentence)\n",
    "    cleaned = re.sub(r'[.|,|)|(|\\|/]',r' ',cleaned)\n",
    "    return  cleaned\n",
    "#print(sno.stem('tasty'))"
   ]
  },
  {
   "cell_type": "code",
   "execution_count": 5,
   "metadata": {
    "collapsed": true
   },
   "outputs": [],
   "source": [
    "i=0\n",
    "str1=' '\n",
    "final_string=[]\n",
    "all_positive_words=[] # store words from +ve reviews here\n",
    "all_negative_words=[] # store words from -ve reviews here.\n",
    "s=''\n",
    "#Create new catagory as Cleanedtext after removing htmltag and punctuation and uppercase and word length >2\n",
    "for sent in clean_data['Text'].values:\n",
    "    filtered_sentence=[]\n",
    "    #print(sent);\n",
    "    sent=cleanhtml(sent) # remove HTMl tags\n",
    "    for w in sent.split():\n",
    "        for cleaned_words in cleanpunc(w).split():\n",
    "            if((cleaned_words.isalpha()) & (len(cleaned_words)>2)):    \n",
    "                if(cleaned_words.lower() not in stop):\n",
    "                    s=(sno.stem(cleaned_words.lower())).encode('utf8')\n",
    "                    filtered_sentence.append(s)\n",
    "                    if (clean_data['Score'].values)[i] == 'positive': \n",
    "                        all_positive_words.append(s) #list of all words used to describe positive reviews\n",
    "                    if(clean_data['Score'].values)[i] == 'negative':\n",
    "                        all_negative_words.append(s) #list of all words used to describe negative reviews reviews\n",
    "                else:\n",
    "                    continue\n",
    "            else:\n",
    "                continue \n",
    "    str1 = b\" \".join(filtered_sentence) #final string of cleaned words\n",
    "    \n",
    "    final_string.append(str1)\n",
    "    i+=1    "
   ]
  },
  {
   "cell_type": "code",
   "execution_count": 6,
   "metadata": {},
   "outputs": [
    {
     "name": "stderr",
     "output_type": "stream",
     "text": [
      "C:\\Users\\suman\\Anaconda3\\lib\\site-packages\\ipykernel_launcher.py:1: SettingWithCopyWarning: \n",
      "A value is trying to be set on a copy of a slice from a DataFrame.\n",
      "Try using .loc[row_indexer,col_indexer] = value instead\n",
      "\n",
      "See the caveats in the documentation: http://pandas.pydata.org/pandas-docs/stable/indexing.html#indexing-view-versus-copy\n",
      "  \"\"\"Entry point for launching an IPython kernel.\n"
     ]
    },
    {
     "data": {
      "text/html": [
       "<div>\n",
       "<style>\n",
       "    .dataframe thead tr:only-child th {\n",
       "        text-align: right;\n",
       "    }\n",
       "\n",
       "    .dataframe thead th {\n",
       "        text-align: left;\n",
       "    }\n",
       "\n",
       "    .dataframe tbody tr th {\n",
       "        vertical-align: top;\n",
       "    }\n",
       "</style>\n",
       "<table border=\"1\" class=\"dataframe\">\n",
       "  <thead>\n",
       "    <tr style=\"text-align: right;\">\n",
       "      <th></th>\n",
       "      <th>index</th>\n",
       "      <th>Id</th>\n",
       "      <th>ProductId</th>\n",
       "      <th>UserId</th>\n",
       "      <th>ProfileName</th>\n",
       "      <th>HelpfulnessNumerator</th>\n",
       "      <th>HelpfulnessDenominator</th>\n",
       "      <th>Score</th>\n",
       "      <th>Time</th>\n",
       "      <th>Summary</th>\n",
       "      <th>Text</th>\n",
       "      <th>CleanedText</th>\n",
       "    </tr>\n",
       "  </thead>\n",
       "  <tbody>\n",
       "    <tr>\n",
       "      <th>4547</th>\n",
       "      <td>7253</td>\n",
       "      <td>7924</td>\n",
       "      <td>B00166D8TW</td>\n",
       "      <td>A3MILDAIBVX6WM</td>\n",
       "      <td>JShoe</td>\n",
       "      <td>0</td>\n",
       "      <td>0</td>\n",
       "      <td>positive</td>\n",
       "      <td>1218153600</td>\n",
       "      <td>Eggcellent Product!</td>\n",
       "      <td>This egg protein is great!&lt;br /&gt;First off, it ...</td>\n",
       "      <td>b'egg protein great first sweeten stevia natur...</td>\n",
       "    </tr>\n",
       "    <tr>\n",
       "      <th>2530</th>\n",
       "      <td>375849</td>\n",
       "      <td>406408</td>\n",
       "      <td>B0006G4YK0</td>\n",
       "      <td>A2DUSUQPBGL9F8</td>\n",
       "      <td>Happy Shopper</td>\n",
       "      <td>0</td>\n",
       "      <td>0</td>\n",
       "      <td>negative</td>\n",
       "      <td>1311292800</td>\n",
       "      <td>nope</td>\n",
       "      <td>I really really wanted these to work for my ad...</td>\n",
       "      <td>b'realli realli want work adopt pom ador senio...</td>\n",
       "    </tr>\n",
       "  </tbody>\n",
       "</table>\n",
       "</div>"
      ],
      "text/plain": [
       "       index      Id   ProductId          UserId    ProfileName  \\\n",
       "4547    7253    7924  B00166D8TW  A3MILDAIBVX6WM          JShoe   \n",
       "2530  375849  406408  B0006G4YK0  A2DUSUQPBGL9F8  Happy Shopper   \n",
       "\n",
       "      HelpfulnessNumerator  HelpfulnessDenominator     Score        Time  \\\n",
       "4547                     0                       0  positive  1218153600   \n",
       "2530                     0                       0  negative  1311292800   \n",
       "\n",
       "                  Summary                                               Text  \\\n",
       "4547  Eggcellent Product!  This egg protein is great!<br />First off, it ...   \n",
       "2530                 nope  I really really wanted these to work for my ad...   \n",
       "\n",
       "                                            CleanedText  \n",
       "4547  b'egg protein great first sweeten stevia natur...  \n",
       "2530  b'realli realli want work adopt pom ador senio...  "
      ]
     },
     "execution_count": 6,
     "metadata": {},
     "output_type": "execute_result"
    }
   ],
   "source": [
    "clean_data['CleanedText']=final_string\n",
    "clean_data.shape\n",
    "#Sort data on timestamp\n",
    "clean_data=clean_data.sort_values(by=['Time'],ascending=False)\n",
    "clean_data.reset_index(inplace=True)\n",
    "clean_data.sample(2)"
   ]
  },
  {
   "cell_type": "markdown",
   "metadata": {},
   "source": [
    "# Use kmeans\n",
    "# BOW"
   ]
  },
  {
   "cell_type": "code",
   "execution_count": 7,
   "metadata": {},
   "outputs": [
    {
     "name": "stdout",
     "output_type": "stream",
     "text": [
      "(5000, 9715)\n",
      "<class 'scipy.sparse.csr.csr_matrix'>\n"
     ]
    },
    {
     "name": "stderr",
     "output_type": "stream",
     "text": [
      "C:\\Users\\suman\\Anaconda3\\lib\\site-packages\\sklearn\\grid_search.py:42: DeprecationWarning: This module was deprecated in version 0.18 in favor of the model_selection module into which all the refactored classes and functions are moved. This module will be removed in 0.20.\n",
      "  DeprecationWarning)\n"
     ]
    },
    {
     "data": {
      "image/png": "[encoded data removed]",
      "text/plain": [
       "<matplotlib.figure.Figure at 0x20fee195588>"
      ]
     },
     "metadata": {},
     "output_type": "display_data"
    },
    {
     "name": "stdout",
     "output_type": "stream",
     "text": [
      "[1 1 1 ..., 1 1 1]\n",
      "b'dog love healthi treat great train crumbl tri break piec'\n",
      "b'tobin jame excel wine one especi husband enjoy tobin jame merlot difficult find good wine reason price ever chanc tobin jame tast room paso robl high recommend cheer'\n",
      "b'ive eat strict paleo eat diet near one year includ ghee huge tast benefit ghee virtual lactos healthier regular butter brush chicken breast bake bit crush black pepper sunflow seed flavor realli come ingredi brand anoth one two favorit usual list prime avail'\n",
      "b'use year give long last energi boost sudden let good tast put travel'\n",
      "b'chill oragemint classic refresh dri scratchi pallet premium price met except tast exceed satisfact'\n",
      "b'whether use gourmet sauc pack natur flavor alway make assum msg meal darn good fill tast feel hungri done eat slowli chew well get full benefit fiber think tast realli good realli fresh keep coupl case hand part emerg food stash take work quick easi lunch pleas find amazon seen one store grant dont shop store much amazon groceri farm stand'\n",
      "b'ive never much soda drinker alway lookout altern beverag like juic tea late ive swept craze coconut water saw bottl alo water immedi wonder new flavor open bottl remind smell appl juic alo gloe sweet crisp flavor consid cane sugar stevia sweeten drink guess isnt surpris pleasant enjoy would extrem refresh chill serv hot summer day one odd note drink direct bottl there distinct plastic note liquid rather disconcert think drink glass would probabl allevi'\n",
      "b'son gentleas sinc month old due son abl toler similac advanc horribl gassi fussi diagnos mild advis add ceral gentleas tast gentleas tast everyth son eat omg horribl cereal help mask bitter son drank month son got older ate solid want stop cereal bottl wouldnt drink gentleas said problem switch enfamil premium scare read horribl review dual prebiot caus loos stool son premium formula week pleas notic larger stool bad consid gentleas constip son time cereal son get contain pre probiot mayb system alreadi adjust glad drink formula tast much better gentleas complain packag your suppos dump bag contain yes bit messi definit someth would chang formula brand plain ridicul formula work dont chang get littl bit powder hand get grip peopl'\n",
      "b'coffe tast like fresh coffe tast brew stale coffe bean disappoint expect good cup coffe come brooklyn regular drink starbuck coffe pleas varieti tri rang verona blond veranda brand tast like fresh brew look cup coffe order compani'\n",
      "b'headlin pretti much sum bigalow green tea basic run mill cheap low qualiti bag green tea hard even tast like actual green tea refin stuff definit bottom barrel howev cheap better drink soda someth contribut lifestyl chang great recommend look higher qualiti green tea though organ possibl matcha varieti'\n"
     ]
    }
   ],
   "source": [
    "#now convert CleanedText to TDM\n",
    "count_vect = CountVectorizer() #in scikit-learn\n",
    "final_counts = count_vect.fit_transform(clean_data['CleanedText'].values)\n",
    "print(final_counts.get_shape())\n",
    "print(type(final_counts))\n",
    "#print(final_counts[[1]])\n",
    "#print(final_counts[0,:])# this is stored like dict format only non zero values. sparse matrix\n",
    "#x = pd.DataFrame(final_counts.toarray())#this is stored like dataframe format all 0 and non zero values. dense matrix\n",
    "# sparse matrix in csr format works faster compare to dense format\n",
    "#print(x.shape,x.loc[0])\n",
    "\n",
    "from sklearn.cross_validation import train_test_split\n",
    "from sklearn.neighbors import KNeighborsClassifier\n",
    "from sklearn.metrics import accuracy_score\n",
    "from sklearn.cross_validation import cross_val_score\n",
    "from collections import Counter\n",
    "from sklearn.metrics import accuracy_score\n",
    "from sklearn import cross_validation\n",
    "\n",
    "from sklearn.cluster import KMeans\n",
    "from sklearn.grid_search import GridSearchCV\n",
    "\n",
    "x=final_counts\n",
    "x_bow=x\n",
    "kmeans=KMeans(n_clusters=2, random_state=0).fit(x)\n",
    "kmeans.cluster_centers_\n",
    "\n",
    "\n",
    "sse = {}\n",
    "for k in range(1, 10):\n",
    "    kmeans = KMeans(init='k-means++',n_clusters=k, max_iter=100).fit(x)\n",
    "    #x[\"clusters\"] = kmeans.labels_\n",
    "    sse[k] = kmeans.inertia_ # Inertia: Sum of distances of samples to their closest cluster center\n",
    "plt.figure()\n",
    "plt.plot(list(sse.keys()), list(sse.values()))\n",
    "plt.title(\"Plot of loss against k value using BOW\")\n",
    "plt.xlabel(\"Number of cluster\")\n",
    "plt.ylabel(\"SSE\")\n",
    "plt.show()\n",
    "\n",
    "\n",
    "# Use k=2 and build cluster\n",
    "kmeans = KMeans(init='k-means++',n_clusters=2, max_iter=100).fit(x)\n",
    "print(kmeans.labels_)    \n",
    "# find some data from clusters\n",
    "\n",
    "#cluster_map = pd.DataFrame()\n",
    "#cluster_map['data_index'] = x.index\n",
    "#cluster_map['cluster'] = kmeans.labels_\n",
    "#cluster_map[cluster_map.cluster == 1]\n",
    "\n",
    "#print(\"Top terms per cluster:\")\n",
    "#order_centroids = kmeans.cluster_centers_.argsort()[:, ::-1]\n",
    "#terms = count_vect.get_feature_names()\n",
    "#for i in range(2):\n",
    "#    print (\"Cluster \",i)\n",
    "#    for ind in order_centroids[i, :10]:\n",
    "#        print (' %s' % terms[ind])\n",
    "    \n",
    "    \n",
    "#Find few sentences from different cluster\n",
    "# Find sentences with 0 and 1 cluster\n",
    "#print(kmeans.labels_)\n",
    "#find cluster 1 index\n",
    "a=np.where(kmeans.labels_ == 1)[0]\n",
    "b=np.where(kmeans.labels_ == 0)[0]\n",
    "#check 5 text for cluster 1\n",
    "print(clean_data['CleanedText'][a[0]])\n",
    "print(clean_data['CleanedText'][a[1]])\n",
    "print(clean_data['CleanedText'][a[2]])\n",
    "print(clean_data['CleanedText'][a[3]])\n",
    "print(clean_data['CleanedText'][a[4]])\n",
    "#check 5 text for cluster 1\n",
    "print(clean_data['CleanedText'][b[0]])\n",
    "print(clean_data['CleanedText'][b[1]])\n",
    "print(clean_data['CleanedText'][b[2]])\n",
    "print(clean_data['CleanedText'][b[3]])\n",
    "print(clean_data['CleanedText'][b[4]])\n",
    "\n"
   ]
  },
  {
   "cell_type": "markdown",
   "metadata": {
    "collapsed": true
   },
   "source": [
    "# Cluster summersing\n",
    "As we have formed 2 cluster and 5 sample from each cluster. Though its not clear but it seems\n",
    "1) cluster 1 talks about detail review of food type and short review\n",
    "2) cluster 2 talks about short review of drink type and long review\n"
   ]
  },
  {
   "cell_type": "code",
   "execution_count": 8,
   "metadata": {
    "collapsed": true
   },
   "outputs": [],
   "source": [
    "#print(dir()) \n",
    "#print(globals())\n",
    "#print(locals())"
   ]
  },
  {
   "cell_type": "markdown",
   "metadata": {},
   "source": []
  },
  {
   "cell_type": "markdown",
   "metadata": {},
   "source": []
  },
  {
   "cell_type": "markdown",
   "metadata": {},
   "source": [
    "# TFIDF"
   ]
  },
  {
   "cell_type": "code",
   "execution_count": 9,
   "metadata": {},
   "outputs": [
    {
     "data": {
      "image/png": "[encoded data removed]",
      "text/plain": [
       "<matplotlib.figure.Figure at 0x20fd02d00f0>"
      ]
     },
     "metadata": {},
     "output_type": "display_data"
    },
    {
     "name": "stdout",
     "output_type": "stream",
     "text": [
      "[1 1 1 ..., 1 1 1]\n",
      "0    b'dog love healthi treat great train crumbl tr...\n",
      "1    b'tobin jame excel wine one especi husband enj...\n",
      "2    b'ive eat strict paleo eat diet near one year ...\n",
      "3    b'use year give long last energi boost sudden ...\n",
      "4    b'chill oragemint classic refresh dri scratchi...\n",
      "Name: CleanedText, dtype: object\n",
      "5     b'great rich coffe prefer pilon decaf interest...\n",
      "8     b'love coffe coffe connoisseur enjoy good cup ...\n",
      "39    b'coffe tast like fresh coffe tast brew stale ...\n",
      "41    b'tri price thought differ style cup less expe...\n",
      "45    b'thrill find tulli french roast decaf back st...\n",
      "Name: CleanedText, dtype: object\n"
     ]
    }
   ],
   "source": [
    "tf_idf_vect = TfidfVectorizer()\n",
    "final_counts = tf_idf_vect.fit_transform(clean_data['CleanedText'].values)\n",
    "x=final_counts\n",
    "x_tfidf=x\n",
    "kmeans=KMeans(n_clusters=2, random_state=0).fit(x)\n",
    "kmeans.cluster_centers_\n",
    "sse = {}\n",
    "for k in range(1, 10):\n",
    "    kmeans = KMeans(init='k-means++',n_clusters=k, max_iter=100).fit(x)\n",
    "    #x[\"clusters\"] = kmeans.labels_\n",
    "    sse[k] = kmeans.inertia_ # Inertia: Sum of distances of samples to their closest cluster center\n",
    "plt.figure()\n",
    "plt.plot(list(sse.keys()), list(sse.values()))\n",
    "plt.title(\"Plot of loss against k value using TFIDF\")\n",
    "plt.xlabel(\"Number of cluster\")\n",
    "plt.ylabel(\"SSE\")\n",
    "plt.show()\n",
    "\n",
    "# Use k=2 and build cluster\n",
    "kmeans = KMeans(init='k-means++',n_clusters=2, max_iter=100).fit(x)\n",
    "print(kmeans.labels_)    \n",
    "# find some data from clusters\n",
    "\n",
    "#cluster_map = pd.DataFrame()\n",
    "#cluster_map['data_index'] = x.index\n",
    "#cluster_map['cluster'] = kmeans.labels_\n",
    "#cluster_map[cluster_map.cluster == 1]\n",
    "\n",
    "#print(\"Top terms per cluster:\")\n",
    "#order_centroids = kmeans.cluster_centers_.argsort()[:, ::-1]\n",
    "#terms = count_vect.get_feature_names()\n",
    "#for i in range(2):\n",
    "#    print (\"Cluster \",i)\n",
    "#    for ind in order_centroids[i, :10]:\n",
    "#        print (' %s' % terms[ind])\n",
    "    \n",
    "    \n",
    "#Find few sentences from different cluster\n",
    "# Find sentences with 0 and 1 cluster\n",
    "#print(kmeans.labels_)\n",
    "#find cluster 1 index\n",
    "a=np.where(kmeans.labels_ == 1)[0]\n",
    "b=np.where(kmeans.labels_ == 0)[0]\n",
    "#check 5 text for cluster 1\n",
    "print(clean_data['CleanedText'][a][0:5])\n",
    "#check 5 text for cluster 1\n",
    "print(clean_data['CleanedText'][b][0:5])\n",
    "\n"
   ]
  },
  {
   "cell_type": "markdown",
   "metadata": {
    "collapsed": true
   },
   "source": [
    "# AVG W2V"
   ]
  },
  {
   "cell_type": "code",
   "execution_count": 10,
   "metadata": {},
   "outputs": [
    {
     "data": {
      "image/png": "[encoded data removed]",
      "text/plain": [
       "<matplotlib.figure.Figure at 0x20fd77c56d8>"
      ]
     },
     "metadata": {},
     "output_type": "display_data"
    },
    {
     "name": "stdout",
     "output_type": "stream",
     "text": [
      "[0 0 1 ..., 0 1 0]\n",
      "2    b'ive eat strict paleo eat diet near one year ...\n",
      "4    b'chill oragemint classic refresh dri scratchi...\n",
      "5    b'great rich coffe prefer pilon decaf interest...\n",
      "6    b'greasi plain simpl reliev itchi scalp negat ...\n",
      "8    b'love coffe coffe connoisseur enjoy good cup ...\n",
      "Name: CleanedText, dtype: object\n",
      "0    b'dog love healthi treat great train crumbl tr...\n",
      "1    b'tobin jame excel wine one especi husband enj...\n",
      "3    b'use year give long last energi boost sudden ...\n",
      "7    b'whether use gourmet sauc pack natur flavor a...\n",
      "9    b'bought licoric pipe dad love black old fashi...\n",
      "Name: CleanedText, dtype: object\n"
     ]
    }
   ],
   "source": [
    "#ignore warning\n",
    "import warnings\n",
    "warnings.filterwarnings('ignore')\n",
    "from gensim.models import Word2Vec\n",
    "from gensim.models import KeyedVectors\n",
    "import pickle\n",
    "model = KeyedVectors.load_word2vec_format('GoogleNews-vectors-negative300.bin.gz', binary=True)\n",
    "import gensim\n",
    "i=0\n",
    "#create a list of list to be used in W2V \n",
    "list_of_sent=[]\n",
    "for sent in clean_data['CleanedText'].values:\n",
    "    filtered_sentence=[]\n",
    "    #sent=cleanhtml(sent)\n",
    "    for w in sent.split():\n",
    "        #for cleaned_words in cleanpunc(w).split():\n",
    "         for cleaned_words in w.split():\n",
    "            if(cleaned_words.isalpha()):    \n",
    "                filtered_sentence.append(cleaned_words.lower().decode('utf8'))\n",
    "            else:\n",
    "                continue \n",
    "    list_of_sent.append(filtered_sentence)\n",
    "#convert each sentence's words to a vector of 50 dimension. Dont construct vec if word doesnot occur 5 times. And for each word construct 50 dimension vector\n",
    "#and 4 core processor\n",
    "w2v_model=gensim.models.Word2Vec(list_of_sent,min_count=5,size=50, workers=4)   \n",
    "# average Word2Vec\n",
    "# for each sentence make average of vectors by (vectors of each words)/(total no of words)\n",
    "# compute average word2vec for each review.\n",
    "sent_vectors = []; # the avg-w2v for each sentence/review is stored in this list\n",
    "for sent in list_of_sent: # for each review/sentence\n",
    "    sent_vec = np.zeros(50) # as word vectors are of zero length\n",
    "    cnt_words =0; # num of words with a valid vector in the sentence/review\n",
    "    for word in sent: # for each word in a review/sentence\n",
    "        try:\n",
    "            vec = w2v_model.wv[word]\n",
    "            sent_vec += vec\n",
    "            cnt_words += 1\n",
    "        except:\n",
    "            pass\n",
    "    sent_vec /= cnt_words\n",
    "    sent_vectors.append(sent_vec)  \n",
    "x = sent_vectors\n",
    "x_avgw2v=x\n",
    "from sklearn.preprocessing import normalize\n",
    "x = normalize(x, norm='l2', axis=0)\n",
    "\n",
    "kmeans=KMeans(n_clusters=2, random_state=0).fit(x)\n",
    "kmeans.cluster_centers_\n",
    "sse = {}\n",
    "for k in range(1, 10):\n",
    "    kmeans = KMeans(init='k-means++',n_clusters=k, max_iter=100).fit(x)\n",
    "    #x[\"clusters\"] = kmeans.labels_\n",
    "    sse[k] = kmeans.inertia_ # Inertia: Sum of distances of samples to their closest cluster center\n",
    "plt.figure()\n",
    "plt.plot(list(sse.keys()), list(sse.values()))\n",
    "plt.title(\"Plot of loss against k value using AVG W2V\")\n",
    "plt.xlabel(\"Number of cluster\")\n",
    "plt.ylabel(\"SSE\")\n",
    "plt.show()\n",
    "\n",
    "# Use k=2 and build cluster\n",
    "kmeans = KMeans(init='k-means++',n_clusters=2, max_iter=100).fit(x)\n",
    "print(kmeans.labels_)    \n",
    "# find some data from clusters\n",
    "\n",
    "#cluster_map = pd.DataFrame()\n",
    "#cluster_map['data_index'] = x.index\n",
    "#cluster_map['cluster'] = kmeans.labels_\n",
    "#cluster_map[cluster_map.cluster == 1]\n",
    "\n",
    "#print(\"Top terms per cluster:\")\n",
    "#order_centroids = kmeans.cluster_centers_.argsort()[:, ::-1]\n",
    "#terms = count_vect.get_feature_names()\n",
    "#for i in range(2):\n",
    "#    print (\"Cluster \",i)\n",
    "#    for ind in order_centroids[i, :10]:\n",
    "#        print (' %s' % terms[ind])\n",
    "    \n",
    "    \n",
    "#Find few sentences from different cluster\n",
    "# Find sentences with 0 and 1 cluster\n",
    "#print(kmeans.labels_)\n",
    "#find cluster 1 index\n",
    "a=np.where(kmeans.labels_ == 1)[0]\n",
    "b=np.where(kmeans.labels_ == 0)[0]\n",
    "#check 5 text for cluster 1\n",
    "print(clean_data['CleanedText'][a][0:5])\n",
    "#check 5 text for cluster 1\n",
    "print(clean_data['CleanedText'][b][0:5])\n",
    "\n",
    "\n",
    "\n"
   ]
  },
  {
   "cell_type": "markdown",
   "metadata": {
    "collapsed": true
   },
   "source": [
    "# AVG TFIDF W2V\n"
   ]
  },
  {
   "cell_type": "code",
   "execution_count": 11,
   "metadata": {},
   "outputs": [
    {
     "data": {
      "image/png": "[encoded data removed]",
      "text/plain": [
       "<matplotlib.figure.Figure at 0x20fd7ebd6d8>"
      ]
     },
     "metadata": {},
     "output_type": "display_data"
    },
    {
     "name": "stdout",
     "output_type": "stream",
     "text": [
      "[0 0 0 ..., 0 1 1]\n",
      "4     b'chill oragemint classic refresh dri scratchi...\n",
      "5     b'great rich coffe prefer pilon decaf interest...\n",
      "8     b'love coffe coffe connoisseur enjoy good cup ...\n",
      "11    b'ive never much soda drinker alway lookout al...\n",
      "12    b'delight receiv new drink ive fan long time h...\n",
      "Name: CleanedText, dtype: object\n",
      "0    b'dog love healthi treat great train crumbl tr...\n",
      "1    b'tobin jame excel wine one especi husband enj...\n",
      "2    b'ive eat strict paleo eat diet near one year ...\n",
      "3    b'use year give long last energi boost sudden ...\n",
      "6    b'greasi plain simpl reliev itchi scalp negat ...\n",
      "Name: CleanedText, dtype: object\n"
     ]
    }
   ],
   "source": [
    "#ignore warning\n",
    "import warnings\n",
    "warnings.filterwarnings('ignore')\n",
    "\n",
    "#from gensim.models import Word2Vec\n",
    "#from gensim.models import KeyedVectors\n",
    "#import pickle\n",
    "model = KeyedVectors.load_word2vec_format('GoogleNews-vectors-negative300.bin.gz', binary=True)\n",
    "#import gensim\n",
    "\n",
    "i=0\n",
    "#create a list of list to be used in W2V \n",
    "list_of_sent=[]\n",
    "for sent in clean_data['CleanedText'].values:\n",
    "    filtered_sentence=[]\n",
    "    #sent=cleanhtml(sent)\n",
    "    for w in sent.split():\n",
    "        #for cleaned_words in cleanpunc(w).split():\n",
    "         for cleaned_words in w.split():\n",
    "            if(cleaned_words.isalpha()):    \n",
    "                filtered_sentence.append(cleaned_words.lower().decode('utf8'))\n",
    "            else:\n",
    "                continue \n",
    "    list_of_sent.append(filtered_sentence)\n",
    "#convert each sentence's words to a vector of 50 dimension. Dont construct vec if word doesnot occur 5 times. And for each word construct 50 dimension vector\n",
    "#and 4 core processor\n",
    "w2v_model=gensim.models.Word2Vec(list_of_sent,min_count=5,size=50, workers=4)   \n",
    "\n",
    "tf_idf_vect = TfidfVectorizer()\n",
    "final_tf_idf=tf_idf_vect.fit_transform(clean_data['CleanedText'].values)\n",
    "tfidf_feat = tf_idf_vect.get_feature_names() # tfidf words/col-names\n",
    "# final_tf_idf is the sparse matrix with row= sentence, col=word and cell_val = tfidf\n",
    "\n",
    "tfidf_sent_vectors = []; # the tfidf-w2v for each sentence/review is stored in this list\n",
    "row=0;\n",
    "#calculate avg tfidf score for each sentences \n",
    "for sent in list_of_sent: # for each review/sentence\n",
    "    sent_vec = np.zeros(50) # as word vectors are of zero length\n",
    "    weight_sum =0; # num of words with a valid vector in the sentence/review\n",
    "    for word in sent: # for each word in a review/sentence\n",
    "        try:\n",
    "            vec = w2v_model.wv[word]#calculate w2v for each word\n",
    "            # obtain the tf_idfidf of a word in a sentence/review\n",
    "            tf_idf = final_tf_idf[row, tfidf_feat.index(word)]#get tfidf score of each word \n",
    "            sent_vec += (vec * tf_idf) # multiply vec with tfidf of each word and cumulative add of words in each sentence\n",
    "            weight_sum += tf_idf # also add tfidf sums in each sentence\n",
    "        except:\n",
    "            pass\n",
    "    sent_vec /= weight_sum\n",
    "    tfidf_sent_vectors.append(sent_vec)\n",
    "    row += 1\n",
    "#tfidf_sent_vectors.\n",
    "\n",
    "\n",
    "x=tfidf_sent_vectors\n",
    "x_avgw2vtfidf=x\n",
    "from sklearn.preprocessing import normalize\n",
    "x = normalize(x, norm='l1', axis=0)\n",
    "\n",
    "kmeans=KMeans(n_clusters=2, random_state=0).fit(x)\n",
    "kmeans.cluster_centers_\n",
    "sse = {}\n",
    "for k in range(1, 10):\n",
    "    kmeans = KMeans(init='k-means++',n_clusters=k, max_iter=100).fit(x)\n",
    "    #x[\"clusters\"] = kmeans.labels_\n",
    "    sse[k] = kmeans.inertia_ # Inertia: Sum of distances of samples to their closest cluster center\n",
    "plt.figure()\n",
    "plt.plot(list(sse.keys()), list(sse.values()))\n",
    "plt.title(\"Plot of loss against k value using AVG TFIDF W2V\")\n",
    "plt.xlabel(\"Number of cluster\")\n",
    "plt.ylabel(\"SSE\")\n",
    "plt.show()\n",
    "\n",
    "\n",
    "# Use k=2 and build cluster\n",
    "kmeans = KMeans(init='k-means++',n_clusters=2, max_iter=100).fit(x)\n",
    "print(kmeans.labels_)    \n",
    "# find some data from clusters\n",
    "\n",
    "#cluster_map = pd.DataFrame()\n",
    "#cluster_map['data_index'] = x.index\n",
    "#cluster_map['cluster'] = kmeans.labels_\n",
    "#cluster_map[cluster_map.cluster == 1]\n",
    "\n",
    "#print(\"Top terms per cluster:\")\n",
    "#order_centroids = kmeans.cluster_centers_.argsort()[:, ::-1]\n",
    "#terms = count_vect.get_feature_names()\n",
    "#for i in range(2):\n",
    "#    print (\"Cluster \",i)\n",
    "#    for ind in order_centroids[i, :10]:\n",
    "#        print (' %s' % terms[ind])\n",
    "    \n",
    "    \n",
    "#Find few sentences from different cluster\n",
    "# Find sentences with 0 and 1 cluster\n",
    "#print(kmeans.labels_)\n",
    "#find cluster 1 index\n",
    "a=np.where(kmeans.labels_ == 1)[0]\n",
    "b=np.where(kmeans.labels_ == 0)[0]\n",
    "#check 5 text for cluster 1\n",
    "print(clean_data['CleanedText'][a][0:5])\n",
    "#check 5 text for cluster 1\n",
    "print(clean_data['CleanedText'][b][0:5])\n",
    "\n",
    "\n"
   ]
  },
  {
   "cell_type": "markdown",
   "metadata": {},
   "source": [
    "\n"
   ]
  },
  {
   "cell_type": "markdown",
   "metadata": {
    "collapsed": true
   },
   "source": [
    "# Try hierarchical cluster\n",
    "# BOW"
   ]
  },
  {
   "cell_type": "code",
   "execution_count": 12,
   "metadata": {},
   "outputs": [
    {
     "name": "stdout",
     "output_type": "stream",
     "text": [
      "b'dog love healthi treat great train crumbl tri break piec'\n",
      "b'tobin jame excel wine one especi husband enjoy tobin jame merlot difficult find good wine reason price ever chanc tobin jame tast room paso robl high recommend cheer'\n",
      "b'ive eat strict paleo eat diet near one year includ ghee huge tast benefit ghee virtual lactos healthier regular butter brush chicken breast bake bit crush black pepper sunflow seed flavor realli come ingredi brand anoth one two favorit usual list prime avail'\n",
      "b'use year give long last energi boost sudden let good tast put travel'\n",
      "b'chill oragemint classic refresh dri scratchi pallet premium price met except tast exceed satisfact'\n",
      "b'coffe tast like fresh coffe tast brew stale coffe bean disappoint expect good cup coffe come brooklyn regular drink starbuck coffe pleas varieti tri rang verona blond veranda brand tast like fresh brew look cup coffe order compani'\n",
      "b'freez dri ice cream great tast exact like expens kind astronaut packag fraction price receiv understand cost less astronaut kind packag stink ice normal freez dri item packag air tight foil type packag permit light import air packag air enemi freez dri item contain moistur product arriv air tight need open open insid individu serv ice cream paper wrapper keep air product get wors paper wrapper air tight also slit open everi serv slit open sever place say transfer serv ziplock bag get much air possibl may may keep product fresh better leav ice cream mine got much air bag could close bag much possibl around straw suck air could get air slip straw whilst close bag one swift motion must everi time open bag retriev serv air ruin delight textur ice cream prepar larg ziplock bag straw order product'\n",
      "b'realli enjoy tea drink howev need coffe ive look someth keep away addict big flavor coffe fruiti tea best friend guy told tri skeptic especi cinnamon tea ive tri chai peopl like howev fan worri tea would like man couldnt wrong best tea natur sweet perfect spice quick becam obsess buy bag coffe shop realli start hurt knew could depend amazon got overnight order friday everi morn past weekend morn includ tea instead coffe amaz hard limit one cup day know dont quick run first tea ive ever doesnt make feel like man miss coffe also husband sometim tea drinker doesnt like hot beverag wait hot tea near cold drink lol normal make tea ask would like one even though know answer usual thank here happen would like tri cup special tea sure minut mmmmm next morn make breakfast hubbi get see make special tea like much hell yeah tea awesom nuff said buy super serial said buy way price tea pick tin peppermint herbal varieti starbuck didnt varieti turn amazon amazon alway first choic realli wish check ebay seller tea also one tin receiv dent wasnt due poor packag plus overnight ship dent tin math paid much need sad damang tin total overpr sorri long review get carri away'\n",
      "b'love morn coffe bought dolc gusto machin sale fraction retail cost tri curb cost latt everi morn mention rush work line coffe shop long servic slow etc etc much dismay discov buy coffe pod onlin thought sure could find wherev krup sold dice suck place order amazon dolc mocha wow realli shock disgust flavor hot chocol gas station tast better tast cheap element coffe flavor coffe lover skip flavor pallet cheap tast hot coco powder mean order havent tri flavor dole gusto yet anyth like attempt save bit money time everi morn seem vain perhap machin cheap huh hope flavor disappoint mocha flavor yuck'\n",
      "b'coffe storag drawer holder keurig pod wonder purchas extrem impress place one flavor row know flavor row flip everi cup upsid fit cup row make holder cup holder made strong metal cuisinart keurig sit one cuisinart espresso machin sit one make coffe counter look nice clean organ occasion spill water top pour water keurig top materi storag drawer fabul waterproof type materi water bead sit wipe rais edg water doesnt spill onto counter order anoth one offic one christma gift recommend product hope enjoy much coffe storag drawer holder keurig pod'\n"
     ]
    }
   ],
   "source": [
    "# copud from https://raw.githubusercontent.com/jqmviegas/jqm_cvi/master/jqmcvi/base.py\n",
    "#ignore warning\n",
    "import warnings\n",
    "warnings.filterwarnings('ignore')\n",
    "from sklearn.preprocessing import normalize\n",
    "from sklearn.cluster import AgglomerativeClustering\n",
    "x=x_bow\n",
    "#for index, metric in enumerate([1,2,3]):\n",
    "#    model = AgglomerativeClustering(n_clusters=metric,linkage=\"average\")\n",
    "#    model.fit(x)\n",
    "#    plt.figure()\n",
    "#    plt.axes([0, 0, 1, 1])\n",
    "#    for l, c in zip(np.arange(model.n_clusters), 'rgbk'):\n",
    "#        plt.plot(x[model.labels_ == l].T, c=c, alpha=.5)\n",
    "#    plt.axis('tight')\n",
    "##    plt.axis('off')\n",
    "#    plt.suptitle(\"AgglomerativeClustering(cluster=%s)\" % metric, size=20)\n",
    "#plt.show()\n",
    "\n",
    "cluster=AgglomerativeClustering(n_clusters=2).fit(x.toarray())\n",
    "a=np.where(cluster.labels_ == 1)[0]\n",
    "b=np.where(cluster.labels_ == 0)[0]\n",
    "#check 5 text for cluster 1\n",
    "print(clean_data['CleanedText'][a[0]])\n",
    "print(clean_data['CleanedText'][a[1]])\n",
    "print(clean_data['CleanedText'][a[2]])\n",
    "print(clean_data['CleanedText'][a[3]])\n",
    "print(clean_data['CleanedText'][a[4]])\n",
    "#check 5 text for cluster 1\n",
    "print(clean_data['CleanedText'][b[0]])\n",
    "print(clean_data['CleanedText'][b[1]])\n",
    "print(clean_data['CleanedText'][b[2]])\n",
    "print(clean_data['CleanedText'][b[3]])\n",
    "print(clean_data['CleanedText'][b[4]])\n",
    "\n"
   ]
  },
  {
   "cell_type": "markdown",
   "metadata": {
    "collapsed": true
   },
   "source": []
  },
  {
   "cell_type": "markdown",
   "metadata": {},
   "source": [
    "# SUmmarizing each cluster\n",
    "first cluster talks about food type review and second one coffee type review(long review)"
   ]
  },
  {
   "cell_type": "markdown",
   "metadata": {},
   "source": []
  },
  {
   "cell_type": "markdown",
   "metadata": {},
   "source": []
  },
  {
   "cell_type": "markdown",
   "metadata": {},
   "source": []
  },
  {
   "cell_type": "markdown",
   "metadata": {
    "collapsed": true
   },
   "source": [
    "# TFIDF"
   ]
  },
  {
   "cell_type": "code",
   "execution_count": 13,
   "metadata": {},
   "outputs": [
    {
     "name": "stdout",
     "output_type": "stream",
     "text": [
      "59     b'headlin pretti much sum bigalow green tea ba...\n",
      "68     b'far yummi tea purchas great cold damp night ...\n",
      "75     b'rule big fan herbal tea ill give anyth tri l...\n",
      "109    b'anoth delici tea lipton blackberri tast defi...\n",
      "113    b'coupl year enjoy tea last snack day light su...\n",
      "142    b'realli enjoy tea drink howev need coffe ive ...\n",
      "Name: CleanedText, dtype: object\n",
      "0    b'dog love healthi treat great train crumbl tr...\n",
      "1    b'tobin jame excel wine one especi husband enj...\n",
      "2    b'ive eat strict paleo eat diet near one year ...\n",
      "3    b'use year give long last energi boost sudden ...\n",
      "4    b'chill oragemint classic refresh dri scratchi...\n",
      "5    b'great rich coffe prefer pilon decaf interest...\n",
      "Name: CleanedText, dtype: object\n"
     ]
    }
   ],
   "source": [
    "from sklearn.cluster import AgglomerativeClustering\n",
    "x=x_tfidf\n",
    "#for index, metric in enumerate([1,2,3]):\n",
    "#    model = AgglomerativeClustering(n_clusters=metric,linkage=\"average\")\n",
    "#    model.fit(x)\n",
    "#    plt.figure()\n",
    "#    plt.axes([0, 0, 1, 1])\n",
    "#    for l, c in zip(np.arange(model.n_clusters), 'rgbk'):\n",
    "#        plt.plot(x[model.labels_ == l].T, c=c, alpha=.5)\n",
    "#    plt.axis('tight')\n",
    "##    plt.axis('off')\n",
    "#    plt.suptitle(\"AgglomerativeClustering(cluster=%s)\" % metric, size=20)\n",
    "#plt.show()\n",
    "\n",
    "cluster=AgglomerativeClustering(n_clusters=2).fit(x.toarray())\n",
    "a=np.where(cluster.labels_ == 1)[0]\n",
    "b=np.where(cluster.labels_ == 0)[0]\n",
    "#check 5 text for cluster 1\n",
    "print(clean_data['CleanedText'][a][0:6])\n",
    "#check 5 text for cluster 1\n",
    "print(clean_data['CleanedText'][b][0:6])"
   ]
  },
  {
   "cell_type": "markdown",
   "metadata": {},
   "source": []
  },
  {
   "cell_type": "markdown",
   "metadata": {
    "collapsed": true
   },
   "source": [
    "#plot accuracy with k value"
   ]
  },
  {
   "cell_type": "markdown",
   "metadata": {
    "collapsed": true
   },
   "source": [
    "# W2V ADG"
   ]
  },
  {
   "cell_type": "markdown",
   "metadata": {},
   "source": []
  },
  {
   "cell_type": "code",
   "execution_count": 14,
   "metadata": {},
   "outputs": [
    {
     "name": "stdout",
     "output_type": "stream",
     "text": [
      "0     b'dog love healthi treat great train crumbl tr...\n",
      "7     b'whether use gourmet sauc pack natur flavor a...\n",
      "9     b'bought licoric pipe dad love black old fashi...\n",
      "13    b'famili love eat crisp bread tast great plain...\n",
      "14    b'haribo candi usual good excit receiv centipe...\n",
      "15    b'say addict buy cannot maintain disciplin nee...\n",
      "Name: CleanedText, dtype: object\n",
      "1    b'tobin jame excel wine one especi husband enj...\n",
      "2    b'ive eat strict paleo eat diet near one year ...\n",
      "3    b'use year give long last energi boost sudden ...\n",
      "4    b'chill oragemint classic refresh dri scratchi...\n",
      "5    b'great rich coffe prefer pilon decaf interest...\n",
      "6    b'greasi plain simpl reliev itchi scalp negat ...\n",
      "Name: CleanedText, dtype: object\n"
     ]
    }
   ],
   "source": [
    "#for index, metric in enumerate([1,2,3]):\n",
    "#    model = AgglomerativeClustering(n_clusters=metric,linkage=\"average\")\n",
    "#    model.fit(x)\n",
    "#    plt.figure()\n",
    "#    plt.axes([0, 0, 1, 1])\n",
    "#    for l, c in zip(np.arange(model.n_clusters), 'rgbk'):\n",
    "#        plt.plot(x[model.labels_ == l].T, c=c, alpha=.5)\n",
    "#    plt.axis('tight')\n",
    "##    plt.axis('off')\n",
    "#    plt.suptitle(\"AgglomerativeClustering(cluster=%s)\" % metric, size=20)\n",
    "#plt.show()\n",
    "x=x_avgw2v\n",
    "cluster=AgglomerativeClustering(n_clusters=2).fit(x)\n",
    "a=np.where(cluster.labels_ == 1)[0]\n",
    "b=np.where(cluster.labels_ == 0)[0]\n",
    "#check 5 text for cluster 1\n",
    "print(clean_data['CleanedText'][a][0:6])\n",
    "#check 5 text for cluster 1\n",
    "print(clean_data['CleanedText'][b][0:6])"
   ]
  },
  {
   "cell_type": "markdown",
   "metadata": {},
   "source": []
  },
  {
   "cell_type": "code",
   "execution_count": null,
   "metadata": {
    "collapsed": true
   },
   "outputs": [],
   "source": []
  },
  {
   "cell_type": "markdown",
   "metadata": {
    "collapsed": true
   },
   "source": []
  },
  {
   "cell_type": "markdown",
   "metadata": {},
   "source": [
    "\n",
    "# W2V AVG TFIDF"
   ]
  },
  {
   "cell_type": "code",
   "execution_count": 15,
   "metadata": {},
   "outputs": [
    {
     "name": "stdout",
     "output_type": "stream",
     "text": [
      "0     b'dog love healthi treat great train crumbl tr...\n",
      "7     b'whether use gourmet sauc pack natur flavor a...\n",
      "14    b'haribo candi usual good excit receiv centipe...\n",
      "15    b'say addict buy cannot maintain disciplin nee...\n",
      "17    b'pleas dont fool buy item cannot return box b...\n",
      "18    b'hard find local groceri amazon deal can come...\n",
      "Name: CleanedText, dtype: object\n",
      "1    b'tobin jame excel wine one especi husband enj...\n",
      "2    b'ive eat strict paleo eat diet near one year ...\n",
      "3    b'use year give long last energi boost sudden ...\n",
      "4    b'chill oragemint classic refresh dri scratchi...\n",
      "5    b'great rich coffe prefer pilon decaf interest...\n",
      "6    b'greasi plain simpl reliev itchi scalp negat ...\n",
      "Name: CleanedText, dtype: object\n"
     ]
    }
   ],
   "source": [
    "#ignore warning\n",
    "import warnings\n",
    "warnings.filterwarnings('ignore')\n",
    "from sklearn.preprocessing import normalize\n",
    "import time\n",
    "\n",
    "x=x_avgw2vtfidf\n",
    "#cluster=AgglomerativeClustering(n_clusters=2).fit(x)\n",
    "\n",
    "\n",
    "#for index, metric in enumerate([1,2,3]):\n",
    "#    model = AgglomerativeClustering(n_clusters=metric,linkage=\"average\")\n",
    "#    model.fit(x)\n",
    "#    plt.figure()\n",
    "#    plt.axes([0, 0, 1, 1])\n",
    "#    for l, c in zip(np.arange(model.n_clusters), 'rgbk'):\n",
    "#        plt.plot(x[model.labels_ == l].T, c=c, alpha=.5)\n",
    "#    plt.axis('tight')\n",
    "##    plt.axis('off')\n",
    "#    plt.suptitle(\"AgglomerativeClustering(cluster=%s)\" % metric, size=20)\n",
    "#plt.show()\n",
    "\n",
    "cluster=AgglomerativeClustering(n_clusters=2).fit(x)\n",
    "a=np.where(cluster.labels_ == 1)[0]\n",
    "b=np.where(cluster.labels_ == 0)[0]\n",
    "#check 5 text for cluster 1\n",
    "print(clean_data['CleanedText'][a][0:6])\n",
    "#check 5 text for cluster 1\n",
    "print(clean_data['CleanedText'][b][0:6])"
   ]
  },
  {
   "cell_type": "markdown",
   "metadata": {
    "collapsed": true
   },
   "source": []
  },
  {
   "cell_type": "code",
   "execution_count": null,
   "metadata": {
    "collapsed": true
   },
   "outputs": [],
   "source": []
  },
  {
   "cell_type": "markdown",
   "metadata": {
    "collapsed": true
   },
   "source": [
    "# DBSCAN\n",
    "#try dbscan use W2V use dim of vec 100, minpts=2*d use all data use elbow methood to find eps \n",
    "#try other eps and see how sensitive it is\n",
    "# W2V"
   ]
  },
  {
   "cell_type": "code",
   "execution_count": 16,
   "metadata": {
    "collapsed": true
   },
   "outputs": [],
   "source": [
    "_ , clean_data = train_test_split(sorted_data, test_size = 10000, stratify = sorted_data['Score'] ,random_state=0)\n",
    "i=0\n",
    "str1=' '\n",
    "final_string=[]\n",
    "all_positive_words=[] # store words from +ve reviews here\n",
    "all_negative_words=[] # store words from -ve reviews here.\n",
    "s=''\n",
    "#Create new catagory as Cleanedtext after removing htmltag and punctuation and uppercase and word length >2\n",
    "for sent in clean_data['Text'].values:\n",
    "    filtered_sentence=[]\n",
    "    #print(sent);\n",
    "    sent=cleanhtml(sent) # remove HTMl tags\n",
    "    for w in sent.split():\n",
    "        for cleaned_words in cleanpunc(w).split():\n",
    "            if((cleaned_words.isalpha()) & (len(cleaned_words)>2)):    \n",
    "                if(cleaned_words.lower() not in stop):\n",
    "                    s=(sno.stem(cleaned_words.lower())).encode('utf8')\n",
    "                    filtered_sentence.append(s)\n",
    "                    if (clean_data['Score'].values)[i] == 'positive': \n",
    "                        all_positive_words.append(s) #list of all words used to describe positive reviews\n",
    "                    if(clean_data['Score'].values)[i] == 'negative':\n",
    "                        all_negative_words.append(s) #list of all words used to describe negative reviews reviews\n",
    "                else:\n",
    "                    continue\n",
    "            else:\n",
    "                continue \n",
    "    str1 = b\" \".join(filtered_sentence) #final string of cleaned words\n",
    "    \n",
    "    final_string.append(str1)\n",
    "    i+=1    \n",
    "\n",
    "\n",
    "clean_data['CleanedText']=final_string\n",
    "clean_data.shape\n",
    "#Sort data on timestamp\n",
    "clean_data=clean_data.sort_values(by=['Time'],ascending=False)\n",
    "clean_data.reset_index(inplace=True)\n",
    "clean_data.sample(2)\n",
    "\n",
    "model = KeyedVectors.load_word2vec_format('GoogleNews-vectors-negative300.bin.gz', binary=True)\n",
    "import gensim\n",
    "i=0\n",
    "#create a list of list to be used in W2V \n",
    "list_of_sent=[]\n",
    "for sent in clean_data['CleanedText'].values:\n",
    "    filtered_sentence=[]\n",
    "    #sent=cleanhtml(sent)\n",
    "    for w in sent.split():\n",
    "        #for cleaned_words in cleanpunc(w).split():\n",
    "         for cleaned_words in w.split():\n",
    "            if(cleaned_words.isalpha()):    \n",
    "                filtered_sentence.append(cleaned_words.lower().decode('utf8'))\n",
    "            else:\n",
    "                continue \n",
    "    list_of_sent.append(filtered_sentence)\n",
    "#convert each sentence's words to a vector of 50 dimension. Dont construct vec if word doesnot occur 5 times. And for each word construct 50 dimension vector\n",
    "#and 4 core processor\n",
    "# excluding words occuring less than 50 because the cluster is not clear to distinguish\n",
    "w2v_model=gensim.models.Word2Vec(list_of_sent,min_count=50,size=100, workers=4)   \n",
    "sent_vectors = []; # the avg-w2v for each sentence/review is stored in this list\n",
    "for sent in list_of_sent: # for each review/sentence\n",
    "    sent_vec = np.zeros(100) # as word vectors are of zero length\n",
    "    cnt_words =0; # num of words with a valid vector in the sentence/review\n",
    "    for word in sent: # for each word in a review/sentence\n",
    "        try:\n",
    "            vec = w2v_model.wv[word]\n",
    "            sent_vec += vec\n",
    "            cnt_words += 1\n",
    "        except:\n",
    "            pass\n",
    "    sent_vec /= cnt_words\n",
    "    sent_vectors.append(sent_vec)  \n",
    "x = sent_vectors\n",
    "x_avgw2v=x"
   ]
  },
  {
   "cell_type": "markdown",
   "metadata": {
    "collapsed": true
   },
   "source": [
    "# Use AVG W2V"
   ]
  },
  {
   "cell_type": "code",
   "execution_count": 21,
   "metadata": {},
   "outputs": [
    {
     "name": "stdout",
     "output_type": "stream",
     "text": [
      "num_cluster including noise 1 {0}\n",
      "['positive' 'positive' 'positive' ..., 'positive' 'positive' 'positive']\n"
     ]
    },
    {
     "data": {
      "image/png": "[encoded data removed]",
      "text/plain": [
       "<matplotlib.figure.Figure at 0x20fa061f240>"
      ]
     },
     "metadata": {},
     "output_type": "display_data"
    }
   ],
   "source": [
    "from sklearn.cluster import DBSCAN\n",
    "from sklearn.preprocessing import StandardScaler\n",
    "x=x_avgw2v\n",
    "x = StandardScaler().fit_transform(x)\n",
    "#print(x)\n",
    "\n",
    "#for i in range(6,30):\n",
    "#for i in range(50,55):\n",
    "#   j=i/3\n",
    "#   db = DBSCAN(eps=j, min_samples=500).fit(x)\n",
    "#   labels = db.labels_\n",
    "#   print(j,set(labels))\n",
    "\n",
    "db = DBSCAN(eps=16.6, min_samples=200).fit(x)\n",
    "labels=db.labels_   \n",
    "num_clusters = len(set(labels))\n",
    "print(\"num_cluster including noise\",num_clusters,set(labels))\n",
    "y = clean_data['Score']\n",
    "labels_true=y.values\n",
    "core_samples_mask = np.zeros_like(db.labels_, dtype=bool)\n",
    "core_samples_mask[db.core_sample_indices_] = True\n",
    "labels = db.labels_\n",
    "# Number of clusters in labels, ignoring noise if present.\n",
    "n_clusters_ = len(set(labels)) - (1 if -1 in labels else 0)\n",
    "#print(\"no of cluster ignoring noise\",n_clusters_)\n",
    "#print('Estimated number of clusters: %d' % n_clusters_)\n",
    "#print(\"Homogeneity: %0.3f\" % metrics.homogeneity_score(labels_true, labels))\n",
    "#print(\"Completeness: %0.3f\" % metrics.completeness_score(labels_true, labels))\n",
    "#print(\"V-measure: %0.3f\" % metrics.v_measure_score(labels_true, labels))\n",
    "#print(\"Adjusted Rand Index: %0.3f\" % metrics.adjusted_rand_score(labels_true, labels))\n",
    "#print(\"Adjusted Mutual Information: %0.3f\"     % metrics.adjusted_mutual_info_score(labels_true, labels))\n",
    "#print(\"Silhouette Coefficient: %0.3f\"      % metrics.silhouette_score(x, labels))\n",
    "\n",
    "print(labels_true)\n",
    "\n",
    "import matplotlib.pyplot as plt\n",
    "# Black removed and is used for noise instead.\n",
    "unique_labels = set(labels)\n",
    "colors = [plt.cm.Spectral(each)\n",
    "          for each in np.linspace(0, 1, len(unique_labels))]\n",
    "for k, col in zip(unique_labels, colors):\n",
    "    if k == -1:\n",
    "        # Black used for noise.\n",
    "        col = [0, 0, 0, 1]\n",
    "\n",
    "    class_member_mask = (labels == k)\n",
    "\n",
    "    xy = x[class_member_mask & core_samples_mask]\n",
    "    plt.plot(xy[:, 0], xy[:, 1], 'o', markerfacecolor=tuple(col),\n",
    "             markeredgecolor='k', markersize=14)\n",
    "\n",
    "    xy = x[class_member_mask & ~core_samples_mask]\n",
    "    plt.plot(xy[:, 0], xy[:, 1], 'o', markerfacecolor=tuple(col),\n",
    "             markeredgecolor='k', markersize=6)\n",
    "\n",
    "plt.title('Estimated number of clusters: %d' % n_clusters_)\n",
    "plt.show()\n"
   ]
  },
  {
   "cell_type": "code",
   "execution_count": 19,
   "metadata": {},
   "outputs": [
    {
     "name": "stdout",
     "output_type": "stream",
     "text": [
      "[0 0 0 ..., 0 0 0]\n"
     ]
    }
   ],
   "source": [
    "#import matplotlib.pyplot as pl\n",
    "\n",
    "#for i in range(1,20):\n",
    "#  j=i/10\n",
    "#  dbscan = DBSCAN(eps=j, min_samples=100).fit(x)\n",
    "#  labels = db.labels_\n",
    "#  print(j,set(labels))\n",
    "\n",
    "#from sklearn.decomposition import PCA\n",
    "#pca = PCA(n_components=2).fit(x)\n",
    "#pca_2d = pca.transform(x)\n",
    "#for i in range(0, pca_2d.shape[0]):\n",
    "#  if (dbscan.labels_[i] == 0):\n",
    "#    c1 = pl.scatter(pca_2d[i,0],pca_2d[i,1],c='r',marker='+')\n",
    "#  elif (dbscan.labels_[i] == 1):\n",
    "#    c2 = pl.scatter(pca_2d[i,0],pca_2d[i,1],c='g',marker='o')\n",
    "#  elif (dbscan.labels_[i] == -1):\n",
    "#    c3 = pl.scatter(pca_2d[i,0],pca_2d[i,1],c='b',marker='*')\n",
    "#  pl.legend([c1, c2, c3], ['Cluster 1', 'Cluster 2','Noise'])\n",
    "#  pl.title('DBSCAN finds 2 clusters and noise')\n",
    "#  pl.show()\n",
    "#print(db.labels_)"
   ]
  },
  {
   "cell_type": "markdown",
   "metadata": {
    "collapsed": true
   },
   "source": []
  },
  {
   "cell_type": "markdown",
   "metadata": {
    "collapsed": true
   },
   "source": [
    "# SUmmarizing each cluster\n",
    "As we are not getting 2 cluster with DBSCAN there is no point in summerizing data\n"
   ]
  },
  {
   "cell_type": "code",
   "execution_count": null,
   "metadata": {
    "collapsed": true
   },
   "outputs": [],
   "source": []
  },
  {
   "cell_type": "code",
   "execution_count": null,
   "metadata": {
    "collapsed": true
   },
   "outputs": [],
   "source": []
  },
  {
   "cell_type": "markdown",
   "metadata": {},
   "source": [
    "# Conclusion\n",
    "W2V takes time to implement.\n",
    "For kmeans better model is like below W2VAVGTFIDF>W2VAVG>TFIDF>BOW\n",
    "The different clustering texts are quite similar\n",
    "In DBSCAN its difficult to choose eps to get 2 cluster, most of the cases getting 0 cluster, I am getting only one cluster and outliers in best case.\n",
    "\n",
    "# Steps followed\n",
    "Only !=3 reviews are taken Mark >3 as positive and <3 as negative. Sort data as per product id in ascending order Deduplication of entries for same profilename,userid, time, text and take first element Get stratified sampling of 5k data Clean html and punctuation Convert to uppercase and word<3 are rejected data sorted on time Split the data in train and test to 70:30\n",
    "BOW TFIDF AVGW2V and AVG TFIDF W2V was used in whole data\n",
    "For kmeans clustering different value of k clustering error was plotted.\n",
    "AgglomerativeClustering for 2 cluster is formed\n",
    "DBSCAN eps=16.6, min_samples=200\n",
    "For top 5 review of each cluster tried to summarize clustering type"
   ]
  },
  {
   "cell_type": "code",
   "execution_count": null,
   "metadata": {
    "collapsed": true
   },
   "outputs": [],
   "source": []
  },
  {
   "cell_type": "code",
   "execution_count": null,
   "metadata": {
    "collapsed": true
   },
   "outputs": [],
   "source": []
  },
  {
   "cell_type": "code",
   "execution_count": null,
   "metadata": {
    "collapsed": true
   },
   "outputs": [],
   "source": []
  }
 ],
 "metadata": {
  "kernelspec": {
   "display_name": "Python 3",
   "language": "python",
   "name": "python3"
  },
  "language_info": {
   "codemirror_mode": {
    "name": "ipython",
    "version": 3
   },
   "file_extension": ".py",
   "mimetype": "text/x-python",
   "name": "python",
   "nbconvert_exporter": "python",
   "pygments_lexer": "ipython3",
   "version": "3.6.1"
  }
 },
 "nbformat": 4,
 "nbformat_minor": 2
}
