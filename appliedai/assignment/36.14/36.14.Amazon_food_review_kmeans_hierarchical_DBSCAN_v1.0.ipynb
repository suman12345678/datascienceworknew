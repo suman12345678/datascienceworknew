{
 "cells": [
  {
   "cell_type": "markdown",
   "metadata": {},
   "source": [
    "# Amazon food review dataset apply clustering polarity review\n",
    "\n",
    "Data set from https://www.kaggle.com/snap/amazon-fine-food-reviews\n",
    "\n",
    "# Objective\n",
    "Use xi and apply kmeans(using kmenas++) for various value of k using BOW,TFIDF etc. find best k\n",
    "\n",
    "For each centroid read few items that could be similar review like food, mobile\n",
    "\n",
    "Implement hierarchical try with different cluster for different text presentation(BOW,TFIDF)\n",
    "\n",
    "Try dbscan with W2V use dim of vec 100, minpts=2*d, use all data\n",
    "\n",
    "Use elbow methood or similar to find best eps\n",
    "\n",
    "Try other eps and see how sensitive it is\n",
    "\n",
    "# Import data and libraries\n",
    " \n",
    " "
   ]
  },
  {
   "cell_type": "code",
   "execution_count": 1,
   "metadata": {},
   "outputs": [],
   "source": [
    "import sqlite3\n",
    "import pandas as pd\n",
    "import numpy as np\n",
    "import nltk\n",
    "import string\n",
    "import matplotlib.pyplot as plt\n",
    "import seaborn as sns\n",
    "from sklearn.feature_extraction.text import TfidfTransformer\n",
    "from sklearn.feature_extraction.text import TfidfVectorizer\n",
    "from sklearn.feature_extraction.text import CountVectorizer\n",
    "from sklearn.metrics import confusion_matrix\n",
    "from sklearn import metrics\n",
    "from sklearn.metrics import roc_curve, auc\n",
    "from nltk.stem.porter import PorterStemmer\n",
    "con = sqlite3.connect('database.sqlite') \n",
    "#get only +ve and -ve review \n",
    "raw_data = pd.read_sql_query(\"\"\"SELECT * FROM Reviews WHERE Score != 3\"\"\", con) "
   ]
  },
  {
   "cell_type": "markdown",
   "metadata": {},
   "source": [
    "# Data preprocessing"
   ]
  },
  {
   "cell_type": "code",
   "execution_count": 2,
   "metadata": {},
   "outputs": [],
   "source": [
    "filtered_data=raw_data\n",
    "# Score>3 a positive rating, and score<3 a negative rating.\n",
    "def partition(x):\n",
    "    if x < 3:\n",
    "        return 'negative'\n",
    "    return 'positive'\n",
    "\n",
    "#changing reviews with score less than 3 to be positive and vice-versa\n",
    "actualScore = filtered_data['Score']\n",
    "positiveNegative = actualScore.map(partition) \n",
    "filtered_data['Score'] = positiveNegative\n",
    "#filtered_data.sample(5)\n",
    "filtered_data['Score'].value_counts()\n",
    "#Sorting data according to ProductId in ascending order\n",
    "sorted_data=filtered_data.sort_values('ProductId', axis=0, ascending=True, inplace=False, kind='quicksort', na_position='last')\n",
    "#Deduplication of entries for same profilename,userid, time, text and take first element \n",
    "sorted_data=sorted_data.drop_duplicates(subset={\"UserId\",\"ProfileName\",\"Time\",\"Text\"}, keep='first', inplace=False)"
   ]
  },
  {
   "cell_type": "code",
   "execution_count": 3,
   "metadata": {},
   "outputs": [
    {
     "name": "stderr",
     "output_type": "stream",
     "text": [
      "C:\\Users\\suman\\Anaconda3\\lib\\site-packages\\sklearn\\cross_validation.py:41: DeprecationWarning: This module was deprecated in version 0.18 in favor of the model_selection module into which all the refactored classes and functions are moved. Also note that the interface of the new CV iterators are different from that of this module. This module will be removed in 0.20.\n",
      "  \"This module will be removed in 0.20.\", DeprecationWarning)\n"
     ]
    },
    {
     "data": {
      "text/plain": [
       "positive    4216\n",
       "negative     784\n",
       "Name: Score, dtype: int64"
      ]
     },
     "execution_count": 3,
     "metadata": {},
     "output_type": "execute_result"
    }
   ],
   "source": [
    "#take only 2500 + 2500 data\n",
    "from sklearn.cross_validation import train_test_split,KFold\n",
    "_ , clean_data = train_test_split(sorted_data, test_size = 5000, stratify = sorted_data['Score'] ,random_state=0)\n",
    "clean_data['Score'].value_counts()"
   ]
  },
  {
   "cell_type": "code",
   "execution_count": 4,
   "metadata": {},
   "outputs": [],
   "source": [
    "# Clean html tag and punctuation\n",
    "import re\n",
    "import string\n",
    "from nltk.corpus import stopwords\n",
    "from nltk.stem import PorterStemmer\n",
    "from nltk.stem.wordnet import WordNetLemmatizer\n",
    "\n",
    "stop = set(stopwords.words('english')) #set of stopwords\n",
    "sno = nltk.stem.SnowballStemmer('english') #initialising the snowball stemmer\n",
    "#substitute html tag and punctuation\n",
    "def cleanhtml(sentence): #function to clean the word of any html-tags\n",
    "    cleanr = re.compile('<.*?>')\n",
    "    cleantext = re.sub(cleanr, ' ', sentence)\n",
    "    return cleantext\n",
    "def cleanpunc(sentence): #function to clean the word of any punctuation or special characters\n",
    "    cleaned = re.sub(r'[?|!|\\'|\"|#]',r'',sentence)\n",
    "    cleaned = re.sub(r'[.|,|)|(|\\|/]',r' ',cleaned)\n",
    "    return  cleaned\n",
    "#print(sno.stem('tasty'))"
   ]
  },
  {
   "cell_type": "code",
   "execution_count": 5,
   "metadata": {},
   "outputs": [],
   "source": [
    "i=0\n",
    "str1=' '\n",
    "final_string=[]\n",
    "all_positive_words=[] # store words from +ve reviews here\n",
    "all_negative_words=[] # store words from -ve reviews here.\n",
    "s=''\n",
    "#Create new catagory as Cleanedtext after removing htmltag and punctuation and uppercase and word length >2\n",
    "for sent in clean_data['Text'].values:\n",
    "    filtered_sentence=[]\n",
    "    #print(sent);\n",
    "    sent=cleanhtml(sent) # remove HTMl tags\n",
    "    for w in sent.split():\n",
    "        for cleaned_words in cleanpunc(w).split():\n",
    "            if((cleaned_words.isalpha()) & (len(cleaned_words)>2)):    \n",
    "                if(cleaned_words.lower() not in stop):\n",
    "                    s=(sno.stem(cleaned_words.lower())).encode('utf8')\n",
    "                    filtered_sentence.append(s)\n",
    "                    if (clean_data['Score'].values)[i] == 'positive': \n",
    "                        all_positive_words.append(s) #list of all words used to describe positive reviews\n",
    "                    if(clean_data['Score'].values)[i] == 'negative':\n",
    "                        all_negative_words.append(s) #list of all words used to describe negative reviews reviews\n",
    "                else:\n",
    "                    continue\n",
    "            else:\n",
    "                continue \n",
    "    str1 = b\" \".join(filtered_sentence) #final string of cleaned words\n",
    "    \n",
    "    final_string.append(str1)\n",
    "    i+=1    "
   ]
  },
  {
   "cell_type": "code",
   "execution_count": 6,
   "metadata": {},
   "outputs": [
    {
     "name": "stderr",
     "output_type": "stream",
     "text": [
      "C:\\Users\\suman\\Anaconda3\\lib\\site-packages\\ipykernel_launcher.py:1: SettingWithCopyWarning: \n",
      "A value is trying to be set on a copy of a slice from a DataFrame.\n",
      "Try using .loc[row_indexer,col_indexer] = value instead\n",
      "\n",
      "See the caveats in the documentation: http://pandas.pydata.org/pandas-docs/stable/indexing.html#indexing-view-versus-copy\n",
      "  \"\"\"Entry point for launching an IPython kernel.\n"
     ]
    },
    {
     "data": {
      "text/html": [
       "<div>\n",
       "<style scoped>\n",
       "    .dataframe tbody tr th:only-of-type {\n",
       "        vertical-align: middle;\n",
       "    }\n",
       "\n",
       "    .dataframe tbody tr th {\n",
       "        vertical-align: top;\n",
       "    }\n",
       "\n",
       "    .dataframe thead th {\n",
       "        text-align: right;\n",
       "    }\n",
       "</style>\n",
       "<table border=\"1\" class=\"dataframe\">\n",
       "  <thead>\n",
       "    <tr style=\"text-align: right;\">\n",
       "      <th></th>\n",
       "      <th>index</th>\n",
       "      <th>Id</th>\n",
       "      <th>ProductId</th>\n",
       "      <th>UserId</th>\n",
       "      <th>ProfileName</th>\n",
       "      <th>HelpfulnessNumerator</th>\n",
       "      <th>HelpfulnessDenominator</th>\n",
       "      <th>Score</th>\n",
       "      <th>Time</th>\n",
       "      <th>Summary</th>\n",
       "      <th>Text</th>\n",
       "      <th>CleanedText</th>\n",
       "    </tr>\n",
       "  </thead>\n",
       "  <tbody>\n",
       "    <tr>\n",
       "      <th>185</th>\n",
       "      <td>13945</td>\n",
       "      <td>15215</td>\n",
       "      <td>B008ADQQ3O</td>\n",
       "      <td>AAH6764FP1GOZ</td>\n",
       "      <td>Clara English</td>\n",
       "      <td>0</td>\n",
       "      <td>0</td>\n",
       "      <td>positive</td>\n",
       "      <td>1349049600</td>\n",
       "      <td>Perfectly Butterscotch!</td>\n",
       "      <td>Butterscotch is not my favorite flavor, becaus...</td>\n",
       "      <td>b'butterscotch favorit flavor associ main chea...</td>\n",
       "    </tr>\n",
       "    <tr>\n",
       "      <th>3369</th>\n",
       "      <td>202797</td>\n",
       "      <td>219731</td>\n",
       "      <td>B001E52YY0</td>\n",
       "      <td>A8265FSQQ1F5D</td>\n",
       "      <td>BUZZKILLER</td>\n",
       "      <td>1</td>\n",
       "      <td>1</td>\n",
       "      <td>negative</td>\n",
       "      <td>1288569600</td>\n",
       "      <td>mold?</td>\n",
       "      <td>First time I ordered these they were great.&lt;br...</td>\n",
       "      <td>b'first time order great second time around mu...</td>\n",
       "    </tr>\n",
       "  </tbody>\n",
       "</table>\n",
       "</div>"
      ],
      "text/plain": [
       "       index      Id   ProductId         UserId    ProfileName  \\\n",
       "185    13945   15215  B008ADQQ3O  AAH6764FP1GOZ  Clara English   \n",
       "3369  202797  219731  B001E52YY0  A8265FSQQ1F5D     BUZZKILLER   \n",
       "\n",
       "      HelpfulnessNumerator  HelpfulnessDenominator     Score        Time  \\\n",
       "185                      0                       0  positive  1349049600   \n",
       "3369                     1                       1  negative  1288569600   \n",
       "\n",
       "                      Summary  \\\n",
       "185   Perfectly Butterscotch!   \n",
       "3369                    mold?   \n",
       "\n",
       "                                                   Text  \\\n",
       "185   Butterscotch is not my favorite flavor, becaus...   \n",
       "3369  First time I ordered these they were great.<br...   \n",
       "\n",
       "                                            CleanedText  \n",
       "185   b'butterscotch favorit flavor associ main chea...  \n",
       "3369  b'first time order great second time around mu...  "
      ]
     },
     "execution_count": 6,
     "metadata": {},
     "output_type": "execute_result"
    }
   ],
   "source": [
    "clean_data['CleanedText']=final_string\n",
    "clean_data.shape\n",
    "#Sort data on timestamp\n",
    "clean_data=clean_data.sort_values(by=['Time'],ascending=False)\n",
    "clean_data.reset_index(inplace=True)\n",
    "clean_data.sample(2)"
   ]
  },
  {
   "cell_type": "markdown",
   "metadata": {},
   "source": [
    "# Use kmeans\n",
    "# BOW"
   ]
  },
  {
   "cell_type": "code",
   "execution_count": 7,
   "metadata": {},
   "outputs": [
    {
     "name": "stdout",
     "output_type": "stream",
     "text": [
      "(5000, 9715)\n",
      "<class 'scipy.sparse.csr.csr_matrix'>\n"
     ]
    },
    {
     "name": "stderr",
     "output_type": "stream",
     "text": [
      "C:\\Users\\suman\\Anaconda3\\lib\\site-packages\\sklearn\\grid_search.py:42: DeprecationWarning: This module was deprecated in version 0.18 in favor of the model_selection module into which all the refactored classes and functions are moved. This module will be removed in 0.20.\n",
      "  DeprecationWarning)\n"
     ]
    },
    {
     "data": {
      "image/png": "[encoded data removed]",
      "text/plain": [
       "<Figure size 432x288 with 1 Axes>"
      ]
     },
     "metadata": {},
     "output_type": "display_data"
    },
    {
     "name": "stdout",
     "output_type": "stream",
     "text": [
      "[0 0 0 ..., 0 0 0]\n",
      "b'whether use gourmet sauc pack natur flavor alway make assum msg meal darn good fill tast feel hungri done eat slowli chew well get full benefit fiber think tast realli good realli fresh keep coupl case hand part emerg food stash take work quick easi lunch pleas find amazon seen one store grant dont shop store much amazon groceri farm stand'\n",
      "b'ive never much soda drinker alway lookout altern beverag like juic tea late ive swept craze coconut water saw bottl alo water immedi wonder new flavor open bottl remind smell appl juic alo gloe sweet crisp flavor consid cane sugar stevia sweeten drink guess isnt surpris pleasant enjoy would extrem refresh chill serv hot summer day one odd note drink direct bottl there distinct plastic note liquid rather disconcert think drink glass would probabl allevi'\n",
      "b'son gentleas sinc month old due son abl toler similac advanc horribl gassi fussi diagnos mild advis add ceral gentleas tast gentleas tast everyth son eat omg horribl cereal help mask bitter son drank month son got older ate solid want stop cereal bottl wouldnt drink gentleas said problem switch enfamil premium scare read horribl review dual prebiot caus loos stool son premium formula week pleas notic larger stool bad consid gentleas constip son time cereal son get contain pre probiot mayb system alreadi adjust glad drink formula tast much better gentleas complain packag your suppos dump bag contain yes bit messi definit someth would chang formula brand plain ridicul formula work dont chang get littl bit powder hand get grip peopl'\n",
      "b'coffe tast like fresh coffe tast brew stale coffe bean disappoint expect good cup coffe come brooklyn regular drink starbuck coffe pleas varieti tri rang verona blond veranda brand tast like fresh brew look cup coffe order compani'\n",
      "b'headlin pretti much sum bigalow green tea basic run mill cheap low qualiti bag green tea hard even tast like actual green tea refin stuff definit bottom barrel howev cheap better drink soda someth contribut lifestyl chang great recommend look higher qualiti green tea though organ possibl matcha varieti'\n",
      "b'dog love healthi treat great train crumbl tri break piec'\n",
      "b'tobin jame excel wine one especi husband enjoy tobin jame merlot difficult find good wine reason price ever chanc tobin jame tast room paso robl high recommend cheer'\n",
      "b'ive eat strict paleo eat diet near one year includ ghee huge tast benefit ghee virtual lactos healthier regular butter brush chicken breast bake bit crush black pepper sunflow seed flavor realli come ingredi brand anoth one two favorit usual list prime avail'\n",
      "b'use year give long last energi boost sudden let good tast put travel'\n",
      "b'chill oragemint classic refresh dri scratchi pallet premium price met except tast exceed satisfact'\n"
     ]
    }
   ],
   "source": [
    "#now convert CleanedText to TDM\n",
    "count_vect = CountVectorizer() #in scikit-learn\n",
    "final_counts = count_vect.fit_transform(clean_data['CleanedText'].values)\n",
    "print(final_counts.get_shape())\n",
    "print(type(final_counts))\n",
    "#print(final_counts[[1]])\n",
    "#print(final_counts[0,:])# this is stored like dict format only non zero values. sparse matrix\n",
    "#x = pd.DataFrame(final_counts.toarray())#this is stored like dataframe format all 0 and non zero values. dense matrix\n",
    "# sparse matrix in csr format works faster compare to dense format\n",
    "#print(x.shape,x.loc[0])\n",
    "\n",
    "from sklearn.cross_validation import train_test_split\n",
    "from sklearn.neighbors import KNeighborsClassifier\n",
    "from sklearn.metrics import accuracy_score\n",
    "from sklearn.cross_validation import cross_val_score\n",
    "from collections import Counter\n",
    "from sklearn.metrics import accuracy_score\n",
    "from sklearn import cross_validation\n",
    "\n",
    "from sklearn.cluster import KMeans\n",
    "from sklearn.grid_search import GridSearchCV\n",
    "\n",
    "x=final_counts\n",
    "x_bow=x\n",
    "kmeans=KMeans(n_clusters=2, random_state=0).fit(x)\n",
    "kmeans.cluster_centers_\n",
    "\n",
    "\n",
    "sse = {}\n",
    "for k in range(1, 10):\n",
    "    kmeans = KMeans(init='k-means++',n_clusters=k, max_iter=100).fit(x)\n",
    "    #x[\"clusters\"] = kmeans.labels_\n",
    "    sse[k] = kmeans.inertia_ # Inertia: Sum of distances of samples to their closest cluster center\n",
    "plt.figure()\n",
    "plt.plot(list(sse.keys()), list(sse.values()))\n",
    "plt.title(\"Plot of loss against k value using BOW\")\n",
    "plt.xlabel(\"Number of cluster\")\n",
    "plt.ylabel(\"SSE\")\n",
    "plt.show()\n",
    "\n",
    "\n",
    "# Use k=2 and build cluster\n",
    "kmeans = KMeans(init='k-means++',n_clusters=2, max_iter=100).fit(x)\n",
    "print(kmeans.labels_)    \n",
    "# find some data from clusters\n",
    "\n",
    "#cluster_map = pd.DataFrame()\n",
    "#cluster_map['data_index'] = x.index\n",
    "#cluster_map['cluster'] = kmeans.labels_\n",
    "#cluster_map[cluster_map.cluster == 1]\n",
    "\n",
    "#print(\"Top terms per cluster:\")\n",
    "#order_centroids = kmeans.cluster_centers_.argsort()[:, ::-1]\n",
    "#terms = count_vect.get_feature_names()\n",
    "#for i in range(2):\n",
    "#    print (\"Cluster \",i)\n",
    "#    for ind in order_centroids[i, :10]:\n",
    "#        print (' %s' % terms[ind])\n",
    "    \n",
    "    \n",
    "#Find few sentences from different cluster\n",
    "# Find sentences with 0 and 1 cluster\n",
    "#print(kmeans.labels_)\n",
    "#find cluster 1 index\n",
    "a=np.where(kmeans.labels_ == 1)[0]\n",
    "b=np.where(kmeans.labels_ == 0)[0]\n",
    "#check 5 text for cluster 1\n",
    "print(clean_data['CleanedText'][a[0]])\n",
    "print(clean_data['CleanedText'][a[1]])\n",
    "print(clean_data['CleanedText'][a[2]])\n",
    "print(clean_data['CleanedText'][a[3]])\n",
    "print(clean_data['CleanedText'][a[4]])\n",
    "#check 5 text for cluster 1\n",
    "print(clean_data['CleanedText'][b[0]])\n",
    "print(clean_data['CleanedText'][b[1]])\n",
    "print(clean_data['CleanedText'][b[2]])\n",
    "print(clean_data['CleanedText'][b[3]])\n",
    "print(clean_data['CleanedText'][b[4]])\n",
    "\n"
   ]
  },
  {
   "cell_type": "markdown",
   "metadata": {
    "collapsed": true
   },
   "source": [
    "# Cluster summersing\n",
    "As we have formed 2 cluster and 5 sample from each cluster. Though its not clear but it seems\n",
    "1) cluster 1 talks about detail review of food type and short review\n",
    "2) cluster 2 talks about short review of drink type and long review\n",
    "\n"
   ]
  },
  {
   "cell_type": "code",
   "execution_count": null,
   "metadata": {},
   "outputs": [],
   "source": []
  },
  {
   "cell_type": "markdown",
   "metadata": {},
   "source": []
  },
  {
   "cell_type": "markdown",
   "metadata": {},
   "source": []
  },
  {
   "cell_type": "markdown",
   "metadata": {},
   "source": [
    "# TFIDF"
   ]
  },
  {
   "cell_type": "code",
   "execution_count": 13,
   "metadata": {},
   "outputs": [
    {
     "data": {
      "image/png": "[encoded data removed]",
      "text/plain": [
       "<Figure size 432x288 with 1 Axes>"
      ]
     },
     "metadata": {},
     "output_type": "display_data"
    },
    {
     "name": "stdout",
     "output_type": "stream",
     "text": [
      "[0 0 0 ..., 0 0 0]\n",
      "5     b'great rich coffe prefer pilon decaf interest...\n",
      "8     b'love coffe coffe connoisseur enjoy good cup ...\n",
      "39    b'coffe tast like fresh coffe tast brew stale ...\n",
      "41    b'tri price thought differ style cup less expe...\n",
      "45    b'thrill find tulli french roast decaf back st...\n",
      "Name: CleanedText, dtype: object\n",
      "0    b'dog love healthi treat great train crumbl tr...\n",
      "1    b'tobin jame excel wine one especi husband enj...\n",
      "2    b'ive eat strict paleo eat diet near one year ...\n",
      "3    b'use year give long last energi boost sudden ...\n",
      "4    b'chill oragemint classic refresh dri scratchi...\n",
      "Name: CleanedText, dtype: object\n"
     ]
    }
   ],
   "source": [
    "tf_idf_vect = TfidfVectorizer()\n",
    "final_counts = tf_idf_vect.fit_transform(clean_data['CleanedText'].values)\n",
    "x=final_counts\n",
    "x_tfidf=x\n",
    "kmeans=KMeans(n_clusters=2, random_state=0).fit(x)\n",
    "kmeans.cluster_centers_\n",
    "sse = {}\n",
    "for k in range(1, 10):\n",
    "    kmeans = KMeans(init='k-means++',n_clusters=k, max_iter=100).fit(x)\n",
    "    #x[\"clusters\"] = kmeans.labels_\n",
    "    sse[k] = kmeans.inertia_ # Inertia: Sum of distances of samples to their closest cluster center\n",
    "plt.figure()\n",
    "plt.plot(list(sse.keys()), list(sse.values()))\n",
    "plt.title(\"Plot of loss against k value using TFIDF\")\n",
    "plt.xlabel(\"Number of cluster\")\n",
    "plt.ylabel(\"SSE\")\n",
    "plt.show()\n",
    "\n",
    "# Use k=2 and build cluster\n",
    "kmeans = KMeans(init='k-means++',n_clusters=2, max_iter=100).fit(x)\n",
    "print(kmeans.labels_)    \n",
    "# find some data from clusters\n",
    "\n",
    "#cluster_map = pd.DataFrame()\n",
    "#cluster_map['data_index'] = x.index\n",
    "#cluster_map['cluster'] = kmeans.labels_\n",
    "#cluster_map[cluster_map.cluster == 1]\n",
    "\n",
    "#print(\"Top terms per cluster:\")\n",
    "#order_centroids = kmeans.cluster_centers_.argsort()[:, ::-1]\n",
    "#terms = count_vect.get_feature_names()\n",
    "#for i in range(2):\n",
    "#    print (\"Cluster \",i)\n",
    "#    for ind in order_centroids[i, :10]:\n",
    "#        print (' %s' % terms[ind])\n",
    "    \n",
    "    \n",
    "#Find few sentences from different cluster\n",
    "# Find sentences with 0 and 1 cluster\n",
    "#print(kmeans.labels_)\n",
    "#find cluster 1 index\n",
    "a=np.where(kmeans.labels_ == 1)[0]\n",
    "b=np.where(kmeans.labels_ == 0)[0]\n",
    "#check 5 text for cluster 1\n",
    "print(clean_data['CleanedText'][a][0:5])\n",
    "#check 5 text for cluster 1\n",
    "print(clean_data['CleanedText'][b][0:5])\n",
    "\n"
   ]
  },
  {
   "cell_type": "markdown",
   "metadata": {
    "collapsed": true
   },
   "source": [
    "# AVG W2V"
   ]
  },
  {
   "cell_type": "code",
   "execution_count": 14,
   "metadata": {},
   "outputs": [
    {
     "data": {
      "image/png": "[encoded data removed]",
      "text/plain": [
       "<Figure size 432x288 with 1 Axes>"
      ]
     },
     "metadata": {},
     "output_type": "display_data"
    },
    {
     "name": "stdout",
     "output_type": "stream",
     "text": [
      "[1 1 0 ..., 1 0 1]\n",
      "0     b'dog love healthi treat great train crumbl tr...\n",
      "1     b'tobin jame excel wine one especi husband enj...\n",
      "7     b'whether use gourmet sauc pack natur flavor a...\n",
      "9     b'bought licoric pipe dad love black old fashi...\n",
      "10    b'great substitut bread live eat near everi da...\n",
      "Name: CleanedText, dtype: object\n",
      "2    b'ive eat strict paleo eat diet near one year ...\n",
      "3    b'use year give long last energi boost sudden ...\n",
      "4    b'chill oragemint classic refresh dri scratchi...\n",
      "5    b'great rich coffe prefer pilon decaf interest...\n",
      "6    b'greasi plain simpl reliev itchi scalp negat ...\n",
      "Name: CleanedText, dtype: object\n"
     ]
    }
   ],
   "source": [
    "#ignore warning\n",
    "import warnings\n",
    "warnings.filterwarnings('ignore')\n",
    "from gensim.models import Word2Vec\n",
    "from gensim.models import KeyedVectors\n",
    "import pickle\n",
    "model = KeyedVectors.load_word2vec_format('GoogleNews-vectors-negative300.bin.gz', binary=True)\n",
    "import gensim\n",
    "i=0\n",
    "#create a list of list to be used in W2V \n",
    "list_of_sent=[]\n",
    "for sent in clean_data['CleanedText'].values:\n",
    "    filtered_sentence=[]\n",
    "    #sent=cleanhtml(sent)\n",
    "    for w in sent.split():\n",
    "        #for cleaned_words in cleanpunc(w).split():\n",
    "         for cleaned_words in w.split():\n",
    "            if(cleaned_words.isalpha()):    \n",
    "                filtered_sentence.append(cleaned_words.lower().decode('utf8'))\n",
    "            else:\n",
    "                continue \n",
    "    list_of_sent.append(filtered_sentence)\n",
    "#convert each sentence's words to a vector of 50 dimension. Dont construct vec if word doesnot occur 5 times. And for each word construct 50 dimension vector\n",
    "#and 4 core processor\n",
    "w2v_model=gensim.models.Word2Vec(list_of_sent,min_count=5,size=50, workers=4)   \n",
    "# average Word2Vec\n",
    "# for each sentence make average of vectors by (vectors of each words)/(total no of words)\n",
    "# compute average word2vec for each review.\n",
    "sent_vectors = []; # the avg-w2v for each sentence/review is stored in this list\n",
    "for sent in list_of_sent: # for each review/sentence\n",
    "    sent_vec = np.zeros(50) # as word vectors are of zero length\n",
    "    cnt_words =0; # num of words with a valid vector in the sentence/review\n",
    "    for word in sent: # for each word in a review/sentence\n",
    "        try:\n",
    "            vec = w2v_model.wv[word]\n",
    "            sent_vec += vec\n",
    "            cnt_words += 1\n",
    "        except:\n",
    "            pass\n",
    "    sent_vec /= cnt_words\n",
    "    sent_vectors.append(sent_vec)  \n",
    "x = sent_vectors\n",
    "x_avgw2v=x\n",
    "from sklearn.preprocessing import normalize\n",
    "x = normalize(x, norm='l2', axis=0)\n",
    "\n",
    "kmeans=KMeans(n_clusters=2, random_state=0).fit(x)\n",
    "kmeans.cluster_centers_\n",
    "sse = {}\n",
    "for k in range(1, 10):\n",
    "    kmeans = KMeans(init='k-means++',n_clusters=k, max_iter=100).fit(x)\n",
    "    #x[\"clusters\"] = kmeans.labels_\n",
    "    sse[k] = kmeans.inertia_ # Inertia: Sum of distances of samples to their closest cluster center\n",
    "plt.figure()\n",
    "plt.plot(list(sse.keys()), list(sse.values()))\n",
    "plt.title(\"Plot of loss against k value using AVG W2V\")\n",
    "plt.xlabel(\"Number of cluster\")\n",
    "plt.ylabel(\"SSE\")\n",
    "plt.show()\n",
    "\n",
    "# Use k=2 and build cluster\n",
    "kmeans = KMeans(init='k-means++',n_clusters=2, max_iter=100).fit(x)\n",
    "print(kmeans.labels_)    \n",
    "# find some data from clusters\n",
    "\n",
    "#cluster_map = pd.DataFrame()\n",
    "#cluster_map['data_index'] = x.index\n",
    "#cluster_map['cluster'] = kmeans.labels_\n",
    "#cluster_map[cluster_map.cluster == 1]\n",
    "\n",
    "#print(\"Top terms per cluster:\")\n",
    "#order_centroids = kmeans.cluster_centers_.argsort()[:, ::-1]\n",
    "#terms = count_vect.get_feature_names()\n",
    "#for i in range(2):\n",
    "#    print (\"Cluster \",i)\n",
    "#    for ind in order_centroids[i, :10]:\n",
    "#        print (' %s' % terms[ind])\n",
    "    \n",
    "    \n",
    "#Find few sentences from different cluster\n",
    "# Find sentences with 0 and 1 cluster\n",
    "#print(kmeans.labels_)\n",
    "#find cluster 1 index\n",
    "a=np.where(kmeans.labels_ == 1)[0]\n",
    "b=np.where(kmeans.labels_ == 0)[0]\n",
    "#check 5 text for cluster 1\n",
    "print(clean_data['CleanedText'][a][0:5])\n",
    "#check 5 text for cluster 1\n",
    "print(clean_data['CleanedText'][b][0:5])\n",
    "\n",
    "\n",
    "\n"
   ]
  },
  {
   "cell_type": "markdown",
   "metadata": {
    "collapsed": true
   },
   "source": [
    "# AVG TFIDF W2V\n"
   ]
  },
  {
   "cell_type": "code",
   "execution_count": 18,
   "metadata": {},
   "outputs": [
    {
     "data": {
      "image/png": "[encoded data removed]",
      "text/plain": [
       "<Figure size 432x288 with 1 Axes>"
      ]
     },
     "metadata": {},
     "output_type": "display_data"
    },
    {
     "name": "stdout",
     "output_type": "stream",
     "text": [
      "[1 1 1 ..., 1 0 0]\n",
      "0    b'dog love healthi treat great train crumbl tr...\n",
      "1    b'tobin jame excel wine one especi husband enj...\n",
      "2    b'ive eat strict paleo eat diet near one year ...\n",
      "3    b'use year give long last energi boost sudden ...\n",
      "4    b'chill oragemint classic refresh dri scratchi...\n",
      "Name: CleanedText, dtype: object\n",
      "5     b'great rich coffe prefer pilon decaf interest...\n",
      "8     b'love coffe coffe connoisseur enjoy good cup ...\n",
      "11    b'ive never much soda drinker alway lookout al...\n",
      "12    b'delight receiv new drink ive fan long time h...\n",
      "16    b'love tast salt work recip wonder raw veggi l...\n",
      "Name: CleanedText, dtype: object\n"
     ]
    }
   ],
   "source": [
    "#ignore warning\n",
    "import warnings\n",
    "warnings.filterwarnings('ignore')\n",
    "\n",
    "#from gensim.models import Word2Vec\n",
    "#from gensim.models import KeyedVectors\n",
    "#import pickle\n",
    "model = KeyedVectors.load_word2vec_format('GoogleNews-vectors-negative300.bin.gz', binary=True)\n",
    "#import gensim\n",
    "\n",
    "i=0\n",
    "#create a list of list to be used in W2V \n",
    "list_of_sent=[]\n",
    "for sent in clean_data['CleanedText'].values:\n",
    "    filtered_sentence=[]\n",
    "    #sent=cleanhtml(sent)\n",
    "    for w in sent.split():\n",
    "        #for cleaned_words in cleanpunc(w).split():\n",
    "         for cleaned_words in w.split():\n",
    "            if(cleaned_words.isalpha()):    \n",
    "                filtered_sentence.append(cleaned_words.lower().decode('utf8'))\n",
    "            else:\n",
    "                continue \n",
    "    list_of_sent.append(filtered_sentence)\n",
    "#convert each sentence's words to a vector of 50 dimension. Dont construct vec if word doesnot occur 5 times. And for each word construct 50 dimension vector\n",
    "#and 4 core processor\n",
    "w2v_model=gensim.models.Word2Vec(list_of_sent,min_count=5,size=50, workers=4)   \n",
    "\n",
    "tf_idf_vect = TfidfVectorizer()\n",
    "final_tf_idf=tf_idf_vect.fit_transform(clean_data['CleanedText'].values)\n",
    "tfidf_feat = tf_idf_vect.get_feature_names() # tfidf words/col-names\n",
    "# final_tf_idf is the sparse matrix with row= sentence, col=word and cell_val = tfidf\n",
    "\n",
    "tfidf_sent_vectors = []; # the tfidf-w2v for each sentence/review is stored in this list\n",
    "row=0;\n",
    "#calculate avg tfidf score for each sentences \n",
    "for sent in list_of_sent: # for each review/sentence\n",
    "    sent_vec = np.zeros(50) # as word vectors are of zero length\n",
    "    weight_sum =0; # num of words with a valid vector in the sentence/review\n",
    "    for word in sent: # for each word in a review/sentence\n",
    "        try:\n",
    "            vec = w2v_model.wv[word]#calculate w2v for each word\n",
    "            # obtain the tf_idfidf of a word in a sentence/review\n",
    "            tf_idf = final_tf_idf[row, tfidf_feat.index(word)]#get tfidf score of each word \n",
    "            sent_vec += (vec * tf_idf) # multiply vec with tfidf of each word and cumulative add of words in each sentence\n",
    "            weight_sum += tf_idf # also add tfidf sums in each sentence\n",
    "        except:\n",
    "            pass\n",
    "    sent_vec /= weight_sum\n",
    "    tfidf_sent_vectors.append(sent_vec)\n",
    "    row += 1\n",
    "#tfidf_sent_vectors.\n",
    "\n",
    "\n",
    "x=tfidf_sent_vectors\n",
    "x_avgw2vtfidf=x\n",
    "from sklearn.preprocessing import normalize\n",
    "x = normalize(x, norm='l1', axis=0)\n",
    "\n",
    "kmeans=KMeans(n_clusters=2, random_state=0).fit(x)\n",
    "kmeans.cluster_centers_\n",
    "sse = {}\n",
    "for k in range(1, 10):\n",
    "    kmeans = KMeans(init='k-means++',n_clusters=k, max_iter=100).fit(x)\n",
    "    #x[\"clusters\"] = kmeans.labels_\n",
    "    sse[k] = kmeans.inertia_ # Inertia: Sum of distances of samples to their closest cluster center\n",
    "plt.figure()\n",
    "plt.plot(list(sse.keys()), list(sse.values()))\n",
    "plt.title(\"Plot of loss against k value using AVG TFIDF W2V\")\n",
    "plt.xlabel(\"Number of cluster\")\n",
    "plt.ylabel(\"SSE\")\n",
    "plt.show()\n",
    "\n",
    "\n",
    "# Use k=2 and build cluster\n",
    "kmeans = KMeans(init='k-means++',n_clusters=2, max_iter=100).fit(x)\n",
    "print(kmeans.labels_)    \n",
    "# find some data from clusters\n",
    "\n",
    "#cluster_map = pd.DataFrame()\n",
    "#cluster_map['data_index'] = x.index\n",
    "#cluster_map['cluster'] = kmeans.labels_\n",
    "#cluster_map[cluster_map.cluster == 1]\n",
    "\n",
    "#print(\"Top terms per cluster:\")\n",
    "#order_centroids = kmeans.cluster_centers_.argsort()[:, ::-1]\n",
    "#terms = count_vect.get_feature_names()\n",
    "#for i in range(2):\n",
    "#    print (\"Cluster \",i)\n",
    "#    for ind in order_centroids[i, :10]:\n",
    "#        print (' %s' % terms[ind])\n",
    "    \n",
    "    \n",
    "#Find few sentences from different cluster\n",
    "# Find sentences with 0 and 1 cluster\n",
    "#print(kmeans.labels_)\n",
    "#find cluster 1 index\n",
    "a=np.where(kmeans.labels_ == 1)[0]\n",
    "b=np.where(kmeans.labels_ == 0)[0]\n",
    "#check 5 text for cluster 1\n",
    "print(clean_data['CleanedText'][a][0:5])\n",
    "#check 5 text for cluster 1\n",
    "print(clean_data['CleanedText'][b][0:5])\n",
    "\n",
    "\n"
   ]
  },
  {
   "cell_type": "markdown",
   "metadata": {},
   "source": [
    "\n"
   ]
  },
  {
   "cell_type": "markdown",
   "metadata": {
    "collapsed": true
   },
   "source": [
    "# Try hierarchical cluster\n",
    "\n",
    "# BOW"
   ]
  },
  {
   "cell_type": "code",
   "execution_count": 12,
   "metadata": {},
   "outputs": [
    {
     "name": "stdout",
     "output_type": "stream",
     "text": [
      "b'dog love healthi treat great train crumbl tri break piec'\n",
      "b'tobin jame excel wine one especi husband enjoy tobin jame merlot difficult find good wine reason price ever chanc tobin jame tast room paso robl high recommend cheer'\n",
      "b'ive eat strict paleo eat diet near one year includ ghee huge tast benefit ghee virtual lactos healthier regular butter brush chicken breast bake bit crush black pepper sunflow seed flavor realli come ingredi brand anoth one two favorit usual list prime avail'\n",
      "b'use year give long last energi boost sudden let good tast put travel'\n",
      "b'chill oragemint classic refresh dri scratchi pallet premium price met except tast exceed satisfact'\n",
      "b'coffe tast like fresh coffe tast brew stale coffe bean disappoint expect good cup coffe come brooklyn regular drink starbuck coffe pleas varieti tri rang verona blond veranda brand tast like fresh brew look cup coffe order compani'\n",
      "b'freez dri ice cream great tast exact like expens kind astronaut packag fraction price receiv understand cost less astronaut kind packag stink ice normal freez dri item packag air tight foil type packag permit light import air packag air enemi freez dri item contain moistur product arriv air tight need open open insid individu serv ice cream paper wrapper keep air product get wors paper wrapper air tight also slit open everi serv slit open sever place say transfer serv ziplock bag get much air possibl may may keep product fresh better leav ice cream mine got much air bag could close bag much possibl around straw suck air could get air slip straw whilst close bag one swift motion must everi time open bag retriev serv air ruin delight textur ice cream prepar larg ziplock bag straw order product'\n",
      "b'realli enjoy tea drink howev need coffe ive look someth keep away addict big flavor coffe fruiti tea best friend guy told tri skeptic especi cinnamon tea ive tri chai peopl like howev fan worri tea would like man couldnt wrong best tea natur sweet perfect spice quick becam obsess buy bag coffe shop realli start hurt knew could depend amazon got overnight order friday everi morn past weekend morn includ tea instead coffe amaz hard limit one cup day know dont quick run first tea ive ever doesnt make feel like man miss coffe also husband sometim tea drinker doesnt like hot beverag wait hot tea near cold drink lol normal make tea ask would like one even though know answer usual thank here happen would like tri cup special tea sure minut mmmmm next morn make breakfast hubbi get see make special tea like much hell yeah tea awesom nuff said buy super serial said buy way price tea pick tin peppermint herbal varieti starbuck didnt varieti turn amazon amazon alway first choic realli wish check ebay seller tea also one tin receiv dent wasnt due poor packag plus overnight ship dent tin math paid much need sad damang tin total overpr sorri long review get carri away'\n",
      "b'love morn coffe bought dolc gusto machin sale fraction retail cost tri curb cost latt everi morn mention rush work line coffe shop long servic slow etc etc much dismay discov buy coffe pod onlin thought sure could find wherev krup sold dice suck place order amazon dolc mocha wow realli shock disgust flavor hot chocol gas station tast better tast cheap element coffe flavor coffe lover skip flavor pallet cheap tast hot coco powder mean order havent tri flavor dole gusto yet anyth like attempt save bit money time everi morn seem vain perhap machin cheap huh hope flavor disappoint mocha flavor yuck'\n",
      "b'coffe storag drawer holder keurig pod wonder purchas extrem impress place one flavor row know flavor row flip everi cup upsid fit cup row make holder cup holder made strong metal cuisinart keurig sit one cuisinart espresso machin sit one make coffe counter look nice clean organ occasion spill water top pour water keurig top materi storag drawer fabul waterproof type materi water bead sit wipe rais edg water doesnt spill onto counter order anoth one offic one christma gift recommend product hope enjoy much coffe storag drawer holder keurig pod'\n"
     ]
    }
   ],
   "source": [
    "# copud from https://raw.githubusercontent.com/jqmviegas/jqm_cvi/master/jqmcvi/base.py\n",
    "#ignore warning\n",
    "import warnings\n",
    "warnings.filterwarnings('ignore')\n",
    "from sklearn.preprocessing import normalize\n",
    "from sklearn.cluster import AgglomerativeClustering\n",
    "x=x_bow\n",
    "#for index, metric in enumerate([1,2,3]):\n",
    "#    model = AgglomerativeClustering(n_clusters=metric,linkage=\"average\")\n",
    "#    model.fit(x)\n",
    "#    plt.figure()\n",
    "#    plt.axes([0, 0, 1, 1])\n",
    "#    for l, c in zip(np.arange(model.n_clusters), 'rgbk'):\n",
    "#        plt.plot(x[model.labels_ == l].T, c=c, alpha=.5)\n",
    "#    plt.axis('tight')\n",
    "##    plt.axis('off')\n",
    "#    plt.suptitle(\"AgglomerativeClustering(cluster=%s)\" % metric, size=20)\n",
    "#plt.show()\n",
    "\n",
    "cluster=AgglomerativeClustering(n_clusters=2).fit(x.toarray())\n",
    "a=np.where(cluster.labels_ == 1)[0]\n",
    "b=np.where(cluster.labels_ == 0)[0]\n",
    "#check 5 text for cluster 1\n",
    "print(clean_data['CleanedText'][a[0]])\n",
    "print(clean_data['CleanedText'][a[1]])\n",
    "print(clean_data['CleanedText'][a[2]])\n",
    "print(clean_data['CleanedText'][a[3]])\n",
    "print(clean_data['CleanedText'][a[4]])\n",
    "#check 5 text for cluster 1\n",
    "print(clean_data['CleanedText'][b[0]])\n",
    "print(clean_data['CleanedText'][b[1]])\n",
    "print(clean_data['CleanedText'][b[2]])\n",
    "print(clean_data['CleanedText'][b[3]])\n",
    "print(clean_data['CleanedText'][b[4]])\n",
    "\n"
   ]
  },
  {
   "cell_type": "markdown",
   "metadata": {
    "collapsed": true
   },
   "source": []
  },
  {
   "cell_type": "markdown",
   "metadata": {},
   "source": [
    "# SUmmarizing each cluster\n",
    "first cluster talks about food type review and second one coffee type review(long review)"
   ]
  },
  {
   "cell_type": "markdown",
   "metadata": {},
   "source": []
  },
  {
   "cell_type": "markdown",
   "metadata": {},
   "source": []
  },
  {
   "cell_type": "markdown",
   "metadata": {},
   "source": []
  },
  {
   "cell_type": "markdown",
   "metadata": {
    "collapsed": true
   },
   "source": [
    "# TFIDF"
   ]
  },
  {
   "cell_type": "code",
   "execution_count": 13,
   "metadata": {},
   "outputs": [
    {
     "name": "stdout",
     "output_type": "stream",
     "text": [
      "59     b'headlin pretti much sum bigalow green tea ba...\n",
      "68     b'far yummi tea purchas great cold damp night ...\n",
      "75     b'rule big fan herbal tea ill give anyth tri l...\n",
      "109    b'anoth delici tea lipton blackberri tast defi...\n",
      "113    b'coupl year enjoy tea last snack day light su...\n",
      "142    b'realli enjoy tea drink howev need coffe ive ...\n",
      "Name: CleanedText, dtype: object\n",
      "0    b'dog love healthi treat great train crumbl tr...\n",
      "1    b'tobin jame excel wine one especi husband enj...\n",
      "2    b'ive eat strict paleo eat diet near one year ...\n",
      "3    b'use year give long last energi boost sudden ...\n",
      "4    b'chill oragemint classic refresh dri scratchi...\n",
      "5    b'great rich coffe prefer pilon decaf interest...\n",
      "Name: CleanedText, dtype: object\n"
     ]
    }
   ],
   "source": [
    "from sklearn.cluster import AgglomerativeClustering\n",
    "x=x_tfidf\n",
    "#for index, metric in enumerate([1,2,3]):\n",
    "#    model = AgglomerativeClustering(n_clusters=metric,linkage=\"average\")\n",
    "#    model.fit(x)\n",
    "#    plt.figure()\n",
    "#    plt.axes([0, 0, 1, 1])\n",
    "#    for l, c in zip(np.arange(model.n_clusters), 'rgbk'):\n",
    "#        plt.plot(x[model.labels_ == l].T, c=c, alpha=.5)\n",
    "#    plt.axis('tight')\n",
    "##    plt.axis('off')\n",
    "#    plt.suptitle(\"AgglomerativeClustering(cluster=%s)\" % metric, size=20)\n",
    "#plt.show()\n",
    "\n",
    "cluster=AgglomerativeClustering(n_clusters=2).fit(x.toarray())\n",
    "a=np.where(cluster.labels_ == 1)[0]\n",
    "b=np.where(cluster.labels_ == 0)[0]\n",
    "#check 5 text for cluster 1\n",
    "print(clean_data['CleanedText'][a][0:6])\n",
    "#check 5 text for cluster 1\n",
    "print(clean_data['CleanedText'][b][0:6])"
   ]
  },
  {
   "cell_type": "markdown",
   "metadata": {},
   "source": []
  },
  {
   "cell_type": "markdown",
   "metadata": {
    "collapsed": true
   },
   "source": [
    "#plot accuracy with k value"
   ]
  },
  {
   "cell_type": "markdown",
   "metadata": {
    "collapsed": true
   },
   "source": [
    "# W2V ADG"
   ]
  },
  {
   "cell_type": "markdown",
   "metadata": {},
   "source": []
  },
  {
   "cell_type": "code",
   "execution_count": 14,
   "metadata": {},
   "outputs": [
    {
     "name": "stdout",
     "output_type": "stream",
     "text": [
      "0     b'dog love healthi treat great train crumbl tr...\n",
      "7     b'whether use gourmet sauc pack natur flavor a...\n",
      "9     b'bought licoric pipe dad love black old fashi...\n",
      "13    b'famili love eat crisp bread tast great plain...\n",
      "14    b'haribo candi usual good excit receiv centipe...\n",
      "15    b'say addict buy cannot maintain disciplin nee...\n",
      "Name: CleanedText, dtype: object\n",
      "1    b'tobin jame excel wine one especi husband enj...\n",
      "2    b'ive eat strict paleo eat diet near one year ...\n",
      "3    b'use year give long last energi boost sudden ...\n",
      "4    b'chill oragemint classic refresh dri scratchi...\n",
      "5    b'great rich coffe prefer pilon decaf interest...\n",
      "6    b'greasi plain simpl reliev itchi scalp negat ...\n",
      "Name: CleanedText, dtype: object\n"
     ]
    }
   ],
   "source": [
    "#for index, metric in enumerate([1,2,3]):\n",
    "#    model = AgglomerativeClustering(n_clusters=metric,linkage=\"average\")\n",
    "#    model.fit(x)\n",
    "#    plt.figure()\n",
    "#    plt.axes([0, 0, 1, 1])\n",
    "#    for l, c in zip(np.arange(model.n_clusters), 'rgbk'):\n",
    "#        plt.plot(x[model.labels_ == l].T, c=c, alpha=.5)\n",
    "#    plt.axis('tight')\n",
    "##    plt.axis('off')\n",
    "#    plt.suptitle(\"AgglomerativeClustering(cluster=%s)\" % metric, size=20)\n",
    "#plt.show()\n",
    "x=x_avgw2v\n",
    "cluster=AgglomerativeClustering(n_clusters=2).fit(x)\n",
    "a=np.where(cluster.labels_ == 1)[0]\n",
    "b=np.where(cluster.labels_ == 0)[0]\n",
    "#check 5 text for cluster 1\n",
    "print(clean_data['CleanedText'][a][0:6])\n",
    "#check 5 text for cluster 1\n",
    "print(clean_data['CleanedText'][b][0:6])"
   ]
  },
  {
   "cell_type": "markdown",
   "metadata": {},
   "source": []
  },
  {
   "cell_type": "code",
   "execution_count": null,
   "metadata": {
    "collapsed": true
   },
   "outputs": [],
   "source": []
  },
  {
   "cell_type": "markdown",
   "metadata": {
    "collapsed": true
   },
   "source": []
  },
  {
   "cell_type": "markdown",
   "metadata": {},
   "source": [
    "\n",
    "# W2V AVG TFIDF"
   ]
  },
  {
   "cell_type": "code",
   "execution_count": 15,
   "metadata": {},
   "outputs": [
    {
     "name": "stdout",
     "output_type": "stream",
     "text": [
      "0     b'dog love healthi treat great train crumbl tr...\n",
      "7     b'whether use gourmet sauc pack natur flavor a...\n",
      "14    b'haribo candi usual good excit receiv centipe...\n",
      "15    b'say addict buy cannot maintain disciplin nee...\n",
      "17    b'pleas dont fool buy item cannot return box b...\n",
      "18    b'hard find local groceri amazon deal can come...\n",
      "Name: CleanedText, dtype: object\n",
      "1    b'tobin jame excel wine one especi husband enj...\n",
      "2    b'ive eat strict paleo eat diet near one year ...\n",
      "3    b'use year give long last energi boost sudden ...\n",
      "4    b'chill oragemint classic refresh dri scratchi...\n",
      "5    b'great rich coffe prefer pilon decaf interest...\n",
      "6    b'greasi plain simpl reliev itchi scalp negat ...\n",
      "Name: CleanedText, dtype: object\n"
     ]
    }
   ],
   "source": [
    "#ignore warning\n",
    "import warnings\n",
    "warnings.filterwarnings('ignore')\n",
    "from sklearn.preprocessing import normalize\n",
    "import time\n",
    "\n",
    "x=x_avgw2vtfidf\n",
    "#cluster=AgglomerativeClustering(n_clusters=2).fit(x)\n",
    "\n",
    "\n",
    "#for index, metric in enumerate([1,2,3]):\n",
    "#    model = AgglomerativeClustering(n_clusters=metric,linkage=\"average\")\n",
    "#    model.fit(x)\n",
    "#    plt.figure()\n",
    "#    plt.axes([0, 0, 1, 1])\n",
    "#    for l, c in zip(np.arange(model.n_clusters), 'rgbk'):\n",
    "#        plt.plot(x[model.labels_ == l].T, c=c, alpha=.5)\n",
    "#    plt.axis('tight')\n",
    "##    plt.axis('off')\n",
    "#    plt.suptitle(\"AgglomerativeClustering(cluster=%s)\" % metric, size=20)\n",
    "#plt.show()\n",
    "\n",
    "cluster=AgglomerativeClustering(n_clusters=2).fit(x)\n",
    "a=np.where(cluster.labels_ == 1)[0]\n",
    "b=np.where(cluster.labels_ == 0)[0]\n",
    "#check 5 text for cluster 1\n",
    "print(clean_data['CleanedText'][a][0:6])\n",
    "#check 5 text for cluster 1\n",
    "print(clean_data['CleanedText'][b][0:6])"
   ]
  },
  {
   "cell_type": "markdown",
   "metadata": {
    "collapsed": true
   },
   "source": []
  },
  {
   "cell_type": "code",
   "execution_count": null,
   "metadata": {
    "collapsed": true
   },
   "outputs": [],
   "source": []
  },
  {
   "cell_type": "markdown",
   "metadata": {
    "collapsed": true
   },
   "source": [
    "# DBSCAN\n",
    "#try dbscan use W2V use dim of vec 100, minpts=2*d use all data use elbow methood to find eps \n",
    "#try other eps and see how sensitive it is\n",
    "# W2V"
   ]
  },
  {
   "cell_type": "code",
   "execution_count": 16,
   "metadata": {
    "collapsed": true
   },
   "outputs": [],
   "source": [
    "_ , clean_data = train_test_split(sorted_data, test_size = 10000, stratify = sorted_data['Score'] ,random_state=0)\n",
    "i=0\n",
    "str1=' '\n",
    "final_string=[]\n",
    "all_positive_words=[] # store words from +ve reviews here\n",
    "all_negative_words=[] # store words from -ve reviews here.\n",
    "s=''\n",
    "#Create new catagory as Cleanedtext after removing htmltag and punctuation and uppercase and word length >2\n",
    "for sent in clean_data['Text'].values:\n",
    "    filtered_sentence=[]\n",
    "    #print(sent);\n",
    "    sent=cleanhtml(sent) # remove HTMl tags\n",
    "    for w in sent.split():\n",
    "        for cleaned_words in cleanpunc(w).split():\n",
    "            if((cleaned_words.isalpha()) & (len(cleaned_words)>2)):    \n",
    "                if(cleaned_words.lower() not in stop):\n",
    "                    s=(sno.stem(cleaned_words.lower())).encode('utf8')\n",
    "                    filtered_sentence.append(s)\n",
    "                    if (clean_data['Score'].values)[i] == 'positive': \n",
    "                        all_positive_words.append(s) #list of all words used to describe positive reviews\n",
    "                    if(clean_data['Score'].values)[i] == 'negative':\n",
    "                        all_negative_words.append(s) #list of all words used to describe negative reviews reviews\n",
    "                else:\n",
    "                    continue\n",
    "            else:\n",
    "                continue \n",
    "    str1 = b\" \".join(filtered_sentence) #final string of cleaned words\n",
    "    \n",
    "    final_string.append(str1)\n",
    "    i+=1    \n",
    "\n",
    "\n",
    "clean_data['CleanedText']=final_string\n",
    "clean_data.shape\n",
    "#Sort data on timestamp\n",
    "clean_data=clean_data.sort_values(by=['Time'],ascending=False)\n",
    "clean_data.reset_index(inplace=True)\n",
    "clean_data.sample(2)\n",
    "\n",
    "model = KeyedVectors.load_word2vec_format('GoogleNews-vectors-negative300.bin.gz', binary=True)\n",
    "import gensim\n",
    "i=0\n",
    "#create a list of list to be used in W2V \n",
    "list_of_sent=[]\n",
    "for sent in clean_data['CleanedText'].values:\n",
    "    filtered_sentence=[]\n",
    "    #sent=cleanhtml(sent)\n",
    "    for w in sent.split():\n",
    "        #for cleaned_words in cleanpunc(w).split():\n",
    "         for cleaned_words in w.split():\n",
    "            if(cleaned_words.isalpha()):    \n",
    "                filtered_sentence.append(cleaned_words.lower().decode('utf8'))\n",
    "            else:\n",
    "                continue \n",
    "    list_of_sent.append(filtered_sentence)\n",
    "#convert each sentence's words to a vector of 50 dimension. Dont construct vec if word doesnot occur 5 times. And for each word construct 50 dimension vector\n",
    "#and 4 core processor\n",
    "# excluding words occuring less than 50 because the cluster is not clear to distinguish\n",
    "w2v_model=gensim.models.Word2Vec(list_of_sent,min_count=50,size=100, workers=4)   \n",
    "sent_vectors = []; # the avg-w2v for each sentence/review is stored in this list\n",
    "for sent in list_of_sent: # for each review/sentence\n",
    "    sent_vec = np.zeros(100) # as word vectors are of zero length\n",
    "    cnt_words =0; # num of words with a valid vector in the sentence/review\n",
    "    for word in sent: # for each word in a review/sentence\n",
    "        try:\n",
    "            vec = w2v_model.wv[word]\n",
    "            sent_vec += vec\n",
    "            cnt_words += 1\n",
    "        except:\n",
    "            pass\n",
    "    sent_vec /= cnt_words\n",
    "    sent_vectors.append(sent_vec)  \n",
    "x = sent_vectors\n",
    "x_avgw2v=x"
   ]
  },
  {
   "cell_type": "markdown",
   "metadata": {
    "collapsed": true
   },
   "source": [
    "# Use AVG W2V"
   ]
  },
  {
   "cell_type": "code",
   "execution_count": 21,
   "metadata": {},
   "outputs": [
    {
     "name": "stdout",
     "output_type": "stream",
     "text": [
      "num_cluster including noise 1 {0}\n",
      "['positive' 'positive' 'positive' ..., 'positive' 'positive' 'positive']\n"
     ]
    },
    {
     "data": {
      "image/png": "[encoded data removed]",
      "text/plain": [
       "<matplotlib.figure.Figure at 0x20fa061f240>"
      ]
     },
     "metadata": {},
     "output_type": "display_data"
    }
   ],
   "source": [
    "from sklearn.cluster import DBSCAN\n",
    "from sklearn.preprocessing import StandardScaler\n",
    "x=x_avgw2v\n",
    "x = StandardScaler().fit_transform(x)\n",
    "#print(x)\n",
    "\n",
    "#for i in range(6,30):\n",
    "#for i in range(50,55):\n",
    "#   j=i/3\n",
    "#   db = DBSCAN(eps=j, min_samples=500).fit(x)\n",
    "#   labels = db.labels_\n",
    "#   print(j,set(labels))\n",
    "\n",
    "db = DBSCAN(eps=16.6, min_samples=200).fit(x)\n",
    "labels=db.labels_   \n",
    "num_clusters = len(set(labels))\n",
    "print(\"num_cluster including noise\",num_clusters,set(labels))\n",
    "y = clean_data['Score']\n",
    "labels_true=y.values\n",
    "core_samples_mask = np.zeros_like(db.labels_, dtype=bool)\n",
    "core_samples_mask[db.core_sample_indices_] = True\n",
    "labels = db.labels_\n",
    "# Number of clusters in labels, ignoring noise if present.\n",
    "n_clusters_ = len(set(labels)) - (1 if -1 in labels else 0)\n",
    "#print(\"no of cluster ignoring noise\",n_clusters_)\n",
    "#print('Estimated number of clusters: %d' % n_clusters_)\n",
    "#print(\"Homogeneity: %0.3f\" % metrics.homogeneity_score(labels_true, labels))\n",
    "#print(\"Completeness: %0.3f\" % metrics.completeness_score(labels_true, labels))\n",
    "#print(\"V-measure: %0.3f\" % metrics.v_measure_score(labels_true, labels))\n",
    "#print(\"Adjusted Rand Index: %0.3f\" % metrics.adjusted_rand_score(labels_true, labels))\n",
    "#print(\"Adjusted Mutual Information: %0.3f\"     % metrics.adjusted_mutual_info_score(labels_true, labels))\n",
    "#print(\"Silhouette Coefficient: %0.3f\"      % metrics.silhouette_score(x, labels))\n",
    "\n",
    "print(labels_true)\n",
    "\n",
    "import matplotlib.pyplot as plt\n",
    "# Black removed and is used for noise instead.\n",
    "unique_labels = set(labels)\n",
    "colors = [plt.cm.Spectral(each)\n",
    "          for each in np.linspace(0, 1, len(unique_labels))]\n",
    "for k, col in zip(unique_labels, colors):\n",
    "    if k == -1:\n",
    "        # Black used for noise.\n",
    "        col = [0, 0, 0, 1]\n",
    "\n",
    "    class_member_mask = (labels == k)\n",
    "\n",
    "    xy = x[class_member_mask & core_samples_mask]\n",
    "    plt.plot(xy[:, 0], xy[:, 1], 'o', markerfacecolor=tuple(col),\n",
    "             markeredgecolor='k', markersize=14)\n",
    "\n",
    "    xy = x[class_member_mask & ~core_samples_mask]\n",
    "    plt.plot(xy[:, 0], xy[:, 1], 'o', markerfacecolor=tuple(col),\n",
    "             markeredgecolor='k', markersize=6)\n",
    "\n",
    "plt.title('Estimated number of clusters: %d' % n_clusters_)\n",
    "plt.show()\n"
   ]
  },
  {
   "cell_type": "code",
   "execution_count": 19,
   "metadata": {},
   "outputs": [
    {
     "name": "stdout",
     "output_type": "stream",
     "text": [
      "[0 0 0 ..., 0 0 0]\n"
     ]
    }
   ],
   "source": [
    "#import matplotlib.pyplot as pl\n",
    "\n",
    "#for i in range(1,20):\n",
    "#  j=i/10\n",
    "#  dbscan = DBSCAN(eps=j, min_samples=100).fit(x)\n",
    "#  labels = db.labels_\n",
    "#  print(j,set(labels))\n",
    "\n",
    "#from sklearn.decomposition import PCA\n",
    "#pca = PCA(n_components=2).fit(x)\n",
    "#pca_2d = pca.transform(x)\n",
    "#for i in range(0, pca_2d.shape[0]):\n",
    "#  if (dbscan.labels_[i] == 0):\n",
    "#    c1 = pl.scatter(pca_2d[i,0],pca_2d[i,1],c='r',marker='+')\n",
    "#  elif (dbscan.labels_[i] == 1):\n",
    "#    c2 = pl.scatter(pca_2d[i,0],pca_2d[i,1],c='g',marker='o')\n",
    "#  elif (dbscan.labels_[i] == -1):\n",
    "#    c3 = pl.scatter(pca_2d[i,0],pca_2d[i,1],c='b',marker='*')\n",
    "#  pl.legend([c1, c2, c3], ['Cluster 1', 'Cluster 2','Noise'])\n",
    "#  pl.title('DBSCAN finds 2 clusters and noise')\n",
    "#  pl.show()\n",
    "#print(db.labels_)"
   ]
  },
  {
   "cell_type": "markdown",
   "metadata": {
    "collapsed": true
   },
   "source": []
  },
  {
   "cell_type": "markdown",
   "metadata": {
    "collapsed": true
   },
   "source": [
    "# SUmmarizing each cluster\n",
    "As we are not getting 2 cluster with DBSCAN there is no point in summerizing data\n"
   ]
  },
  {
   "cell_type": "markdown",
   "metadata": {
    "collapsed": true
   },
   "source": [
    "# Summarizing each cluster (kmeans,aggomolative for each BOW,TFIDF,W2V,TFIDFW2V) by choosing k from elbow i.e. k=5\n",
    "\n",
    "For all these cluster the prominant clusters are\n",
    "tea catagory, coffee catagory, cat/dog food type are most common for all types of data presentation\n",
    "and some are like wine sort of, liquid food, healthy/diet food,grocerries type.\n",
    "for example for kmeans\n",
    "BOW there are 5 cluster as tea chocol coffee cat wine\n",
    "TFIDF there are 5 cluster as coffee wine tea dog/cat food drink\n",
    "\n",
    "\n",
    "SO making cluster from 2 to 5 makes much meaning for clustering"
   ]
  },
  {
   "cell_type": "code",
   "execution_count": null,
   "metadata": {},
   "outputs": [
    {
     "name": "stdout",
     "output_type": "stream",
     "text": [
      "[4 4 4 ..., 4 3 4]\n",
      "\n",
      "print some sentences for cluster 0 \n",
      "\n",
      "b'headlin pretti much sum bigalow green tea basic run mill cheap low qualiti bag green tea hard even tast like actual green tea refin stuff definit bottom barrel howev cheap better drink soda someth contribut lifestyl chang great recommend look higher qualiti green tea though organ possibl matcha varieti'\n",
      "b'rule big fan herbal tea ill give anyth tri lipton blackberri vanilla tea distinct pyramid shape allow full essenc flavour circul infus truli enjoy tea experi scent alon warm hold chilli day bay tea would choos littl honey day feel weather great addit tea inventori'\n",
      "b'realli enjoy tea drink howev need coffe ive look someth keep away addict big flavor coffe fruiti tea best friend guy told tri skeptic especi cinnamon tea ive tri chai peopl like howev fan worri tea would like man couldnt wrong best tea natur sweet perfect spice quick becam obsess buy bag coffe shop realli start hurt knew could depend amazon got overnight order friday everi morn past weekend morn includ tea instead coffe amaz hard limit one cup day know dont quick run first tea ive ever doesnt make feel like man miss coffe also husband sometim tea drinker doesnt like hot beverag wait hot tea near cold drink lol normal make tea ask would like one even though know answer usual thank here happen would like tri cup special tea sure minut mmmmm next morn make breakfast hubbi get see make special tea like much hell yeah tea awesom nuff said buy super serial said buy way price tea pick tin peppermint herbal varieti starbuck didnt varieti turn amazon amazon alway first choic realli wish check ebay seller tea also one tin receiv dent wasnt due poor packag plus overnight ship dent tin math paid much need sad damang tin total overpr sorri long review get carri away'\n",
      "b'said loos tea cheaper tea bag tast much better countri boy sure love southern sweet ice tea pack well receiv quick rapid made pitcher ice tea maker keep tea leav airtight bag fridg use one scoop tea make quart tea convert tire'\n",
      "b'watch youtub video guayusa tea heard good thing amazon review welll thought would give tri money well spent tea smooth easi drink absolut delici sugar honey anoth awesom thing tea dream get mother hasnt lucid dream year offer tea one day night three vivid lucid dream thrill bought two box runa guayusa tea satisfi product would definit recommend anyon need steadi energi focus vivid dream'\n",
      "\n",
      "print some sentences for cluster 1 \n",
      "\n",
      "b'want review chocol month final got alway love chocol extent husband buy whenev see also buy use smooth chocol coupl crunchi hazelnut delect howev seem evidenc tast maker chocol compromis tast thought got bad old batch first notic tast month ago didnt still believ tast chang bought chocol mani time fact piec left pcs got sam club tast definit chang way chocol tast like sugar instead tast chocol hazelnut smaller seem fresh use sad ever manufactur chocol tri cut cost alter qualiti tast chocol wont worth buy anymor batch dont think buy anymor pocket unless somebodi give hope bring back origin tast avid fan chocol year'\n",
      "b'took long time tri larabar dont know realli prompt tri one final glad flavor tri blew away realli left feel unsatisfi flavor depart rate one star tri terribl delici peanut butter star one delici tast like peanut butter cooki dough made crunchi peanut butter due nut ground amaz textur tast actual better left sun warm flavor come much better textur favorit far one tri pecan star one pie person pecan pie would never first choic larabar hook flavor tast like pecan pie kid strang simpl ingredi tast like real thing deep flavor almost caramel molass flavor nice piec pecan almond mani overwhelm bar peanut butter star one tast like stuff call goober peanut butter jelli jar grew eat stuff much fun abl get flavor larabar gave star though tend get realli tart due unsweeten cherri still realli delici appl star one forgett flavor tart opinion tast like appl pie realli heavi cinnamon dont get wrong know suppos realli tast like titl say still least favorit one tri cherri star one actual tast like cherri pie tast like fill cherri pie bet add cashew would lend butteri crust like tast mayb nice chang everi one would get excit tart love ratio nut use chocol chip cooki star yes give zero star want bar took bite turn tast way way sweet due chocol chip use love larabar ad sugar ad chocol chip contain way much sugar opinion realli ruin bar chocol chip think would better unsweeten cocoa powder would better like almost candi bar want healthier option would like one cashew star bar worri tri realli fan cashew begin want tri bar anyway surpris scrumptious bar sweet cashew lend wonder almost butteri like flavor ad salt felt though nice salti bar second favorit peanut butter cooki larabar like one day want strong flavor noth sweet one fit bill never cashew cooki heard imagin wouldnt good bar plan tri updat review soon'\n",
      "b'saw chocol chunk back natur granola got littl excit love chocol granola imagin orgasm experi mouth sad report orgasm experi upon first bite notic great crunch flavor granola almost raw tast like raw flour oat tast put sweet could plus someon tri eat much sugar need granola sort sweet granola chocol mix delici worth cost granola get chocol bar much prefer love crunch granola natur path absolut scrumptious perfect amount chocol flavor piec along freez dri berri plus organ look nice flavor granola nice chocol good look elsewher get granola'\n",
      "b'found box chocol local groceri store appar leftov christma plan give relat present husband open meant could tri sampl chocol found quit good favorit two chocol almond nougat mapl fudg box also coconut chocol cover peanut caramel chocol cover almond chocol whip pecan english walnut cluster molass chew messeng boy cashew cluster chocol truffl toffe cherri cordial toffe product descript say beg differ sweetest chocol ive ever eaten ingredi chocol sugar cocoa butter whole mik milk fat soy lecithin almond cashew peanut walnut pecan sugar brown sugar condens milk butter dairi cream cherri corn syrup palm kernel oil coconut molass white chocol tapioca flour honey natur artifici flavor preserv chocol dark chocol milk chocol everyth delici rebecca review'\n",
      "b'tri scharffen berger milk chocol sea salt almond yum tri anoth flavor chose nibbi idea realli might tast like sound interest also yummi bar soft almond littl harder break apart nib chewi sweet chocol cours nice contrast littl odd chew last bit nib almost feel like eat sand doesnt bother might problem bar cocoa servic size half bar hehe right tri list calori total carb per serv ingredi includ milk cacao bean nib butter less soy lecithin whole vanilla bean enjoy soft salti almond bar better though like nibbi sister think almond one arent sweet enough like nib bar scharffen berger bar nice wrap wrap mine yellow current pictur product dark chocol see product scharffen berger chocol bar milk nibbi cacao pack someth bit differ delici experi recommend chocol nibbi'\n",
      "\n",
      "print some sentences for cluster 2 \n",
      "\n",
      "b'great rich coffe prefer pilon decaf interest cafe bustelo pilon part rowland roast bought smucker recommend use espresso coffe stovetop espresso maker amazon sever italian made maker run less what cost starbuck coffe'\n",
      "b'love coffe coffe connoisseur enjoy good cup joe work wonder french press make nice fresh coffe shop grade cup'\n",
      "b'coffe tast like fresh coffe tast brew stale coffe bean disappoint expect good cup coffe come brooklyn regular drink starbuck coffe pleas varieti tri rang verona blond veranda brand tast like fresh brew look cup coffe order compani'\n",
      "b'drink san francisco bay coffe year recent doctor recommend switch decaffein coffe knew bay came decaf hard locat purchas singl cup brew system accommod differ prefer overjoy found amazon san francisco bay coffe decaf one cup keurig brewer french roast count addit regular deliveri option save run product offer except price product also creat less impact environ packag'\n",
      "b'love morn coffe bought dolc gusto machin sale fraction retail cost tri curb cost latt everi morn mention rush work line coffe shop long servic slow etc etc much dismay discov buy coffe pod onlin thought sure could find wherev krup sold dice suck place order amazon dolc mocha wow realli shock disgust flavor hot chocol gas station tast better tast cheap element coffe flavor coffe lover skip flavor pallet cheap tast hot coco powder mean order havent tri flavor dole gusto yet anyth like attempt save bit money time everi morn seem vain perhap machin cheap huh hope flavor disappoint mocha flavor yuck'\n",
      "\n",
      "print some sentences for cluster 3 \n",
      "\n",
      "b'whether use gourmet sauc pack natur flavor alway make assum msg meal darn good fill tast feel hungri done eat slowli chew well get full benefit fiber think tast realli good realli fresh keep coupl case hand part emerg food stash take work quick easi lunch pleas find amazon seen one store grant dont shop store much amazon groceri farm stand'\n",
      "b'ive never much soda drinker alway lookout altern beverag like juic tea late ive swept craze coconut water saw bottl alo water immedi wonder new flavor open bottl remind smell appl juic alo gloe sweet crisp flavor consid cane sugar stevia sweeten drink guess isnt surpris pleasant enjoy would extrem refresh chill serv hot summer day one odd note drink direct bottl there distinct plastic note liquid rather disconcert think drink glass would probabl allevi'\n",
      "b'son gentleas sinc month old due son abl toler similac advanc horribl gassi fussi diagnos mild advis add ceral gentleas tast gentleas tast everyth son eat omg horribl cereal help mask bitter son drank month son got older ate solid want stop cereal bottl wouldnt drink gentleas said problem switch enfamil premium scare read horribl review dual prebiot caus loos stool son premium formula week pleas notic larger stool bad consid gentleas constip son time cereal son get contain pre probiot mayb system alreadi adjust glad drink formula tast much better gentleas complain packag your suppos dump bag contain yes bit messi definit someth would chang formula brand plain ridicul formula work dont chang get littl bit powder hand get grip peopl'\n",
      "b'wish cat would eat one cat lick liquid eat shred chicken bummer caus cleanest can cat food ive come across smell youd never think cat food unfortun petco good karma chicken dinner adult can cat food gravi per would gotten offer ive recent taken taken stray eat anyth safeway chicken babi food california natur chicken brown rice dri weird total frustrat came across soulist btw cat get real finicki past coupl yrs'\n",
      "b'look label close purchas mayonnais local groceri store howev saw sit shelf immedi thought bacon mayonnais perfect big problem bacon product label even say spread suitabl vegetarian bacon flavor kind smell remind bacon flavor dog treat give littl hound rush wash smell hand pleasant associ mayonnais littl thick heavi often make use fresh egg yolk safflow oil lemon juic littl white pepper strong liquid smoke flavor find cant help wonder didnt put real bacon product would glad pay real thing product market call bacon jam get close buck ounc jar peopl cant get enough use qualiti real ingredi peopl stand line buy product would recommend skip stuff make that go'\n",
      "\n",
      "print some sentences for cluster 4 \n",
      "\n",
      "b'dog love healthi treat great train crumbl tri break piec'\n",
      "b'tobin jame excel wine one especi husband enjoy tobin jame merlot difficult find good wine reason price ever chanc tobin jame tast room paso robl high recommend cheer'\n",
      "b'ive eat strict paleo eat diet near one year includ ghee huge tast benefit ghee virtual lactos healthier regular butter brush chicken breast bake bit crush black pepper sunflow seed flavor realli come ingredi brand anoth one two favorit usual list prime avail'\n",
      "b'use year give long last energi boost sudden let good tast put travel'\n",
      "b'chill oragemint classic refresh dri scratchi pallet premium price met except tast exceed satisfact'\n",
      "****************************\n"
     ]
    },
    {
     "name": "stdout",
     "output_type": "stream",
     "text": [
      "[3 1 4 ..., 1 1 1]\n",
      "\n",
      "print some sentences for cluster 0 \n",
      "\n",
      "b'great rich coffe prefer pilon decaf interest cafe bustelo pilon part rowland roast bought smucker recommend use espresso coffe stovetop espresso maker amazon sever italian made maker run less what cost starbuck coffe'\n",
      "b'love coffe coffe connoisseur enjoy good cup joe work wonder french press make nice fresh coffe shop grade cup'\n",
      "b'coffe tast like fresh coffe tast brew stale coffe bean disappoint expect good cup coffe come brooklyn regular drink starbuck coffe pleas varieti tri rang verona blond veranda brand tast like fresh brew look cup coffe order compani'\n",
      "b'tri price thought differ style cup less expens wrong coffe good tast smell burnt brew'\n",
      "b'thrill find tulli french roast decaf back stock amazon opinion better starbuck like rich bold coffe tulli smoother finish without leav bitter aftertast best decaf ive ever found'\n",
      "\n",
      "print some sentences for cluster 1 \n",
      "\n",
      "b'tobin jame excel wine one especi husband enjoy tobin jame merlot difficult find good wine reason price ever chanc tobin jame tast room paso robl high recommend cheer'\n",
      "b'use year give long last energi boost sudden let good tast put travel'\n",
      "b'chill oragemint classic refresh dri scratchi pallet premium price met except tast exceed satisfact'\n",
      "b'greasi plain simpl reliev itchi scalp negat outweigh posit see hair scalp shini hair look like cover canola uncomfort feel alway feel stay away couch special microfib remov also struggl stick scalp hair'\n",
      "b'whether use gourmet sauc pack natur flavor alway make assum msg meal darn good fill tast feel hungri done eat slowli chew well get full benefit fiber think tast realli good realli fresh keep coupl case hand part emerg food stash take work quick easi lunch pleas find amazon seen one store grant dont shop store much amazon groceri farm stand'\n",
      "\n",
      "print some sentences for cluster 2 \n",
      "\n",
      "b'headlin pretti much sum bigalow green tea basic run mill cheap low qualiti bag green tea hard even tast like actual green tea refin stuff definit bottom barrel howev cheap better drink soda someth contribut lifestyl chang great recommend look higher qualiti green tea though organ possibl matcha varieti'\n",
      "b'far yummi tea purchas great cold damp night hot cocoa comfort seek new tea blend mint ground dark chocol perfect comfort without calori'\n",
      "b'rule big fan herbal tea ill give anyth tri lipton blackberri vanilla tea distinct pyramid shape allow full essenc flavour circul infus truli enjoy tea experi scent alon warm hold chilli day bay tea would choos littl honey day feel weather great addit tea inventori'\n",
      "b'anoth delici tea lipton blackberri tast definit stronger vanilla pyramid shape tea bag give room water flow tea spice chunk blackberri yes said chunk blackberri realli see fruit tea bag perfect cool fall weather one favorit'\n",
      "b'coupl year enjoy tea last snack day light supper natur peanut butter whole wheat cracker slice appl mmmmm good celesti season green tea decaf mandarin orchard tea bag pack'\n",
      "\n",
      "print some sentences for cluster 3 \n",
      "\n",
      "b'dog love healthi treat great train crumbl tri break piec'\n",
      "b'wish cat would eat one cat lick liquid eat shred chicken bummer caus cleanest can cat food ive come across smell youd never think cat food unfortun petco good karma chicken dinner adult can cat food gravi per would gotten offer ive recent taken taken stray eat anyth safeway chicken babi food california natur chicken brown rice dri weird total frustrat came across soulist btw cat get real finicki past coupl yrs'\n",
      "b'dog year need extra vitamin help move freeli product trick'\n",
      "b'dog love smokehous pizzl stick order numer time alway get pack time alway quick chihuahua would high recommend treat'\n",
      "b'perhap persnicketi dog way sophist tri dog treat probabl prefer peopl treat nevertheless neither dog corgi lhaso apso would touch stuff ymmv'\n",
      "\n",
      "print some sentences for cluster 4 \n",
      "\n",
      "b'ive eat strict paleo eat diet near one year includ ghee huge tast benefit ghee virtual lactos healthier regular butter brush chicken breast bake bit crush black pepper sunflow seed flavor realli come ingredi brand anoth one two favorit usual list prime avail'\n",
      "b'ive never much soda drinker alway lookout altern beverag like juic tea late ive swept craze coconut water saw bottl alo water immedi wonder new flavor open bottl remind smell appl juic alo gloe sweet crisp flavor consid cane sugar stevia sweeten drink guess isnt surpris pleasant enjoy would extrem refresh chill serv hot summer day one odd note drink direct bottl there distinct plastic note liquid rather disconcert think drink glass would probabl allevi'\n",
      "b'delight receiv new drink ive fan long time healthi tast realli good dont know give energi one measur blueberri pomegran proven healthi fruit low calori count ad plus go local supermarket get new drink instead usual juic'\n",
      "b'best tast coconut water littl pricey worth recommend anyon like coconut water'\n",
      "b'mccormick dice pepper good distinct flavor good bit spici heat well dice small complet dri sinc like food spicier famili great way add add spici heat individu serv salsa without make everyon els suffer high recommend cfh'\n",
      "****************************\n",
      "[0 1 1 ..., 1 1 1]\n",
      "\n",
      "print some sentences for cluster 0 \n",
      "\n",
      "b'dog love healthi treat great train crumbl tri break piec'\n",
      "b'whether use gourmet sauc pack natur flavor alway make assum msg meal darn good fill tast feel hungri done eat slowli chew well get full benefit fiber think tast realli good realli fresh keep coupl case hand part emerg food stash take work quick easi lunch pleas find amazon seen one store grant dont shop store much amazon groceri farm stand'\n",
      "b'famili love eat crisp bread tast great plain butter pair well veggi chees appet tast wonder soup said realli amaz difficult buy crisp bread local happi find amazon arriv well pack crisp expir may even picki year old gave two thumb'\n",
      "b'haribo candi usual good excit receiv centiped unfortun quit old hard'\n",
      "b'say addict buy cannot maintain disciplin need keep hous'\n",
      "\n",
      "print some sentences for cluster 1 \n",
      "\n",
      "b'tobin jame excel wine one especi husband enjoy tobin jame merlot difficult find good wine reason price ever chanc tobin jame tast room paso robl high recommend cheer'\n",
      "b'ive eat strict paleo eat diet near one year includ ghee huge tast benefit ghee virtual lactos healthier regular butter brush chicken breast bake bit crush black pepper sunflow seed flavor realli come ingredi brand anoth one two favorit usual list prime avail'\n",
      "b'use year give long last energi boost sudden let good tast put travel'\n",
      "b'chill oragemint classic refresh dri scratchi pallet premium price met except tast exceed satisfact'\n",
      "b'great rich coffe prefer pilon decaf interest cafe bustelo pilon part rowland roast bought smucker recommend use espresso coffe stovetop espresso maker amazon sever italian made maker run less what cost starbuck coffe'\n",
      "\n",
      "print some sentences for cluster 2 \n",
      "\n",
      "b'love coffe coffe connoisseur enjoy good cup joe work wonder french press make nice fresh coffe shop grade cup'\n",
      "b'best tast coconut water littl pricey worth recommend anyon like coconut water'\n",
      "b'coffe tast like fresh coffe tast brew stale coffe bean disappoint expect good cup coffe come brooklyn regular drink starbuck coffe pleas varieti tri rang verona blond veranda brand tast like fresh brew look cup coffe order compani'\n",
      "b'far yummi tea purchas great cold damp night hot cocoa comfort seek new tea blend mint ground dark chocol perfect comfort without calori'\n",
      "b'green mountain island coconut favorit coffe aroma delici would like abl purchas island coconut year round smooth coffe tast dessert zero calori'\n",
      "\n",
      "print some sentences for cluster 3 \n",
      "\n",
      "b'hard find local groceri amazon deal can come period throughout year great idea'\n",
      "b'great cant find organ local store buy regular basi mushroom great health benifit look'\n",
      "b'first thought get good price spice went dollar store found jar rip check dollar store first next time one star price product flavor allspic past either would buy brand anoth thing pictur show bottl full came half full'\n",
      "b'tri find grass would grow couldnt would mold order cat love'\n",
      "b'good arriv time order product husband use health product'\n",
      "\n",
      "print some sentences for cluster 4 \n",
      "\n",
      "b'ive never much soda drinker alway lookout altern beverag like juic tea late ive swept craze coconut water saw bottl alo water immedi wonder new flavor open bottl remind smell appl juic alo gloe sweet crisp flavor consid cane sugar stevia sweeten drink guess isnt surpris pleasant enjoy would extrem refresh chill serv hot summer day one odd note drink direct bottl there distinct plastic note liquid rather disconcert think drink glass would probabl allevi'\n",
      "b'delight receiv new drink ive fan long time healthi tast realli good dont know give energi one measur blueberri pomegran proven healthi fruit low calori count ad plus go local supermarket get new drink instead usual juic'\n",
      "b'love tast salt work recip wonder raw veggi like cucumb tomato happi learn also healthi larg chunk howev grind use bake use mortar pestl work easili think cool profit salt goe dolphin project'\n",
      "b'mccormick dice pepper good distinct flavor good bit spici heat well dice small complet dri sinc like food spicier famili great way add add spici heat individu serv salsa without make everyon els suffer high recommend cfh'\n",
      "b'recent opportun tri fog chaser blend love bought base posit experi quit novel base filter instead plastic work great rainforest expresso blend also quit nice tri breakfast blend littl lighter roast'\n",
      "****************************\n"
     ]
    },
    {
     "name": "stdout",
     "output_type": "stream",
     "text": [
      "[1 2 2 ..., 1 2 4]\n",
      "\n",
      "print some sentences for cluster 0 \n",
      "\n",
      "b'love coffe coffe connoisseur enjoy good cup joe work wonder french press make nice fresh coffe shop grade cup'\n",
      "b'best tast coconut water littl pricey worth recommend anyon like coconut water'\n",
      "b'coffe tast like fresh coffe tast brew stale coffe bean disappoint expect good cup coffe come brooklyn regular drink starbuck coffe pleas varieti tri rang verona blond veranda brand tast like fresh brew look cup coffe order compani'\n",
      "b'headlin pretti much sum bigalow green tea basic run mill cheap low qualiti bag green tea hard even tast like actual green tea refin stuff definit bottom barrel howev cheap better drink soda someth contribut lifestyl chang great recommend look higher qualiti green tea though organ possibl matcha varieti'\n",
      "b'far yummi tea purchas great cold damp night hot cocoa comfort seek new tea blend mint ground dark chocol perfect comfort without calori'\n",
      "\n",
      "print some sentences for cluster 1 \n",
      "\n",
      "b'dog love healthi treat great train crumbl tri break piec'\n",
      "b'use year give long last energi boost sudden let good tast put travel'\n",
      "b'whether use gourmet sauc pack natur flavor alway make assum msg meal darn good fill tast feel hungri done eat slowli chew well get full benefit fiber think tast realli good realli fresh keep coupl case hand part emerg food stash take work quick easi lunch pleas find amazon seen one store grant dont shop store much amazon groceri farm stand'\n",
      "b'bought licoric pipe dad love black old fashion licoric person never fan tri one hook realli delici end keep half box husband love'\n",
      "b'great substitut bread live eat near everi day lunch tasti esp part makeshift sandwich lieu bread daughter love call popcorn cake'\n",
      "\n",
      "print some sentences for cluster 2 \n",
      "\n",
      "b'tobin jame excel wine one especi husband enjoy tobin jame merlot difficult find good wine reason price ever chanc tobin jame tast room paso robl high recommend cheer'\n",
      "b'ive eat strict paleo eat diet near one year includ ghee huge tast benefit ghee virtual lactos healthier regular butter brush chicken breast bake bit crush black pepper sunflow seed flavor realli come ingredi brand anoth one two favorit usual list prime avail'\n",
      "b'chill oragemint classic refresh dri scratchi pallet premium price met except tast exceed satisfact'\n",
      "b'great rich coffe prefer pilon decaf interest cafe bustelo pilon part rowland roast bought smucker recommend use espresso coffe stovetop espresso maker amazon sever italian made maker run less what cost starbuck coffe'\n",
      "b'greasi plain simpl reliev itchi scalp negat outweigh posit see hair scalp shini hair look like cover canola uncomfort feel alway feel stay away couch special microfib remov also struggl stick scalp hair'\n",
      "\n",
      "print some sentences for cluster 3 \n",
      "\n",
      "b'hard find local groceri amazon deal can come period throughout year great idea'\n",
      "b'great cant find organ local store buy regular basi mushroom great health benifit look'\n",
      "b'first thought get good price spice went dollar store found jar rip check dollar store first next time one star price product flavor allspic past either would buy brand anoth thing pictur show bottl full came half full'\n",
      "b'good arriv time order product husband use health product'\n",
      "b'macaron arriv time packag care protect piec bubbl wrap didnt break ship box came beauti made conveni give bday gift far best macaron ive cant wait order ill get bigger box next time thank leilalov'\n",
      "\n",
      "print some sentences for cluster 4 \n",
      "\n",
      "b'ive never much soda drinker alway lookout altern beverag like juic tea late ive swept craze coconut water saw bottl alo water immedi wonder new flavor open bottl remind smell appl juic alo gloe sweet crisp flavor consid cane sugar stevia sweeten drink guess isnt surpris pleasant enjoy would extrem refresh chill serv hot summer day one odd note drink direct bottl there distinct plastic note liquid rather disconcert think drink glass would probabl allevi'\n",
      "b'delight receiv new drink ive fan long time healthi tast realli good dont know give energi one measur blueberri pomegran proven healthi fruit low calori count ad plus go local supermarket get new drink instead usual juic'\n",
      "b'love tast salt work recip wonder raw veggi like cucumb tomato happi learn also healthi larg chunk howev grind use bake use mortar pestl work easili think cool profit salt goe dolphin project'\n",
      "b'mccormick dice pepper good distinct flavor good bit spici heat well dice small complet dri sinc like food spicier famili great way add add spici heat individu serv salsa without make everyon els suffer high recommend cfh'\n",
      "b'recent opportun tri fog chaser blend love bought base posit experi quit novel base filter instead plastic work great rainforest expresso blend also quit nice tri breakfast blend littl lighter roast'\n",
      "****************************\n",
      "****************************\n",
      "****************************\n",
      "[1 1 1 ..., 1 1 1]\n",
      "\n",
      "print some sentences for cluster 0 \n",
      "\n",
      "b'freez dri ice cream great tast exact like expens kind astronaut packag fraction price receiv understand cost less astronaut kind packag stink ice normal freez dri item packag air tight foil type packag permit light import air packag air enemi freez dri item contain moistur product arriv air tight need open open insid individu serv ice cream paper wrapper keep air product get wors paper wrapper air tight also slit open everi serv slit open sever place say transfer serv ziplock bag get much air possibl may may keep product fresh better leav ice cream mine got much air bag could close bag much possibl around straw suck air could get air slip straw whilst close bag one swift motion must everi time open bag retriev serv air ruin delight textur ice cream prepar larg ziplock bag straw order product'\n",
      "b'havent vienna sausag sinc childhood even occasion peopl hous much less flavor much saltier rememb arent basic tasteless much like tofu would suggest anyon think buy see compani market low sodium version pink slime scare bit exagger detail still unnerv howev heard mani time famili friend associ nativ american chines doctor etc health consum muscl tissu anim gave thought pink slime contain everi type anim part notabl contain high benefici part dont normal eat tendon ligament actual healthi item featur cuisin number cultur unlik sit nice bowl chines beef tendon dont think could even chew price product ethnic market expens that case cheapo littl hotdog offer thing mayb warrant reconsider line thought anyway someth consid suffer ailment arthriti bone joint issu though serious look low salt one want tri salti sinc got lot order abl use rather like salti condiment ad dish bean'\n",
      "b'love sever crystal light pure flavor like artifici sweeten product good flavor drink water sinc find note two serv one packet even though meant use bottl water packet calori meant use water bottl decreas calori per serv mix less product find still good flavor product review mark star price purchas product onlin consist find cheaper local groceri store big box store start sometim even local dollar store rare find usual get two dollar box definit worth tri local store'\n",
      "b'usda organ stamp organ certif organ farm name produc specifi come glass jar organ come glass jar honey deserv star seller zero misrepresent farm raw honey good raw honey good tast consum mani jar farm raw honey organ raw honey convent regardless good tast good enough order jar vitamin shopp sinc sell jar consum organ one well label jar specifi eco bee farm misrepresent seller includ amazon specifi organ boost sell bust close chapter correct disclaim appar monsanto recent contribut million defeat ballot measur schedul california voter novemb proposit along dupont bayer basf syngenta biotech compani contribut million dollar attempt keep consum dark gmos food farm sell organ honey certif usda stamp money consum like lizabeth chosen make mislead comment lizabeth discredit usda organ certif process well farm farm sell organ honey defin non organ honey best organ raw honey appal hope consum get chanc read fact educ accord organ farmer keep produc organ produc individu actual want organ instead convent regardless lizabeth mislead comment explan best organ raw honey april lizabeth bartlesvill unit state favorit raw honey come bee ralston honey close second resort bring honey afar longer access favorit want buy honey local everybodi say raw isnt unless cloudi bit gritti like one good qualiti promis kid quick came enjoy textur tast favorit clear stuff cloy sweet anyway use honey famili pound size amazon prime great deal keep stock sep pdt lizabeth appreci notifi concern howev put leash bee dont trust organ label honey review base reput tast comparison favorit raw honey addit mani mani year raw honey consumpt organ certifi honey canada purport pesticid free region tast exact purchas base recommend person opinion rate accord best raw honey sinc convent honey organ honey certain one best convent raw honey shame consum seller misrepres misguid public selfish financi gain consum honey time sinc mani nutrit benefit consum meal sinc help digest use consum chocol year ago anymor sinc consum pure cocoa power drink mani sport qualiti honey best low calori energi get boost immun system give healthi energi middl mountain bike hike backpack surf etc drink lot tea never use honey instead use molass molass lose nutrit heat heat raw honey kill qualiti enzym pollen honey consum honey straight jar spoon superfood qualiti produc raw stage mix hot drink moder honey best ointment scab mountain bike trail day wound seal place raw honey rejuven best healer instead use neosporin loosen scab remov scab leav scar skin bravo'\n",
      "b'tri latt still delici still search english toffe happi say discov flavour best ice tea milk sugar super surpris usual add sugar make matcha sweet like flavour usual origin form one came best unsweeten would thunk keep see onlin recip ice matcha rather instruct add powder bottl water shake like crazi well tri multipl time gross everi time haha uncap bottl sip bit shake matcha shake away loooong time end murki green water clump clump hit teeth dissolv bitter mess mouth read websit cours cant rememb one ad half teaspoon matcha tini bit cold water way would make hot matcha make matcha past first add water ad half tablespoon english toffe matcha teaspoon water shake vigor creat smooth past almost instant lump didnt even need sift fill water bottl rest cold filter water liquid emerald green lumpi murki tasti didnt add sugar anyth els sip away behold english toffe flavour natur sweet matcha bit veget tone astring pretti happi figur right way make ice matcha bottl also happi english toffe matcha good term'\n",
      "\n",
      "print some sentences for cluster 1 \n",
      "\n",
      "b'dog love healthi treat great train crumbl tri break piec'\n",
      "b'tobin jame excel wine one especi husband enjoy tobin jame merlot difficult find good wine reason price ever chanc tobin jame tast room paso robl high recommend cheer'\n",
      "b'ive eat strict paleo eat diet near one year includ ghee huge tast benefit ghee virtual lactos healthier regular butter brush chicken breast bake bit crush black pepper sunflow seed flavor realli come ingredi brand anoth one two favorit usual list prime avail'\n",
      "b'use year give long last energi boost sudden let good tast put travel'\n",
      "b'chill oragemint classic refresh dri scratchi pallet premium price met except tast exceed satisfact'\n",
      "\n",
      "print some sentences for cluster 2 \n",
      "\n",
      "b'realli enjoy tea drink howev need coffe ive look someth keep away addict big flavor coffe fruiti tea best friend guy told tri skeptic especi cinnamon tea ive tri chai peopl like howev fan worri tea would like man couldnt wrong best tea natur sweet perfect spice quick becam obsess buy bag coffe shop realli start hurt knew could depend amazon got overnight order friday everi morn past weekend morn includ tea instead coffe amaz hard limit one cup day know dont quick run first tea ive ever doesnt make feel like man miss coffe also husband sometim tea drinker doesnt like hot beverag wait hot tea near cold drink lol normal make tea ask would like one even though know answer usual thank here happen would like tri cup special tea sure minut mmmmm next morn make breakfast hubbi get see make special tea like much hell yeah tea awesom nuff said buy super serial said buy way price tea pick tin peppermint herbal varieti starbuck didnt varieti turn amazon amazon alway first choic realli wish check ebay seller tea also one tin receiv dent wasnt due poor packag plus overnight ship dent tin math paid much need sad damang tin total overpr sorri long review get carri away'\n",
      "b'much tea drinker ive hook energi drink year friend mine drink tea religi recommend tea tri littl expect fast forward coupl month drink tea time week calm feel great afterward tea becom great altern energi drink know better bodi still drink energi drink probabl alway like add tea mix promot healthier lifestyl would recommend oolong tea anyon want stop drink sugar fill drink tea natur preserv websit list mani health benefit associ tea'\n",
      "b'tea yorkshir best tea ever one tea bag make two perfect delici cup tea tea drink dont yorkshir gold poor substitut tea love golden colour flavor incompar better tea paperi tast mani tea bag delight abl get regular price excel free ship ad bonus taylor harrog yorkshir gold tea tea bag pack'\n",
      "b'realli know tea sure expert averag run mill shlub normal drink tea ice last week bfast ive hot tea morn mani tea end colour water provid much tast let alon anyth robust that realli want go drink overal dont drink caffein still sinc tea kick thought tri glad found black tea good flavour beat normal kind get groceri store sinc huge tea drinker ill see far box get consid purchas even compani much better standard stuff'\n",
      "b'stuff tast great bit healthi sweeten call lohan kuo know lohan right shell get act togeth eventu digress plus contain bit licoric extract also sweet one review said tast bad disagre wholeheart realli cool contain caffein pesticid fluorid hard green tea form without fluorid know bad that great thing idea green tea help joint pain stiff arthriti etc beforehand take weight loss energi found make joint feel much better move around exercis sleep like princess howev princess sleep guess joint pain crept slowli year assum sleep get normal took stuff notic week pain free sleep made realiz prior sleep condit normal bingo get better qualiti sleep less hungri move energi stuff great previous someon thyroid med stay away green tea contain fluorid work thyroid med get benefit green tea without bad thing come fluorid pesticid thing come along green tea organ green tea product fluorid free one stuff new best buddi havent gotten full dropper dose yet still impress tini drop sublingu'\n",
      "\n",
      "print some sentences for cluster 3 \n",
      "\n",
      "b'coffe tast like fresh coffe tast brew stale coffe bean disappoint expect good cup coffe come brooklyn regular drink starbuck coffe pleas varieti tri rang verona blond veranda brand tast like fresh brew look cup coffe order compani'\n",
      "b'love morn coffe bought dolc gusto machin sale fraction retail cost tri curb cost latt everi morn mention rush work line coffe shop long servic slow etc etc much dismay discov buy coffe pod onlin thought sure could find wherev krup sold dice suck place order amazon dolc mocha wow realli shock disgust flavor hot chocol gas station tast better tast cheap element coffe flavor coffe lover skip flavor pallet cheap tast hot coco powder mean order havent tri flavor dole gusto yet anyth like attempt save bit money time everi morn seem vain perhap machin cheap huh hope flavor disappoint mocha flavor yuck'\n",
      "b'coffe storag drawer holder keurig pod wonder purchas extrem impress place one flavor row know flavor row flip everi cup upsid fit cup row make holder cup holder made strong metal cuisinart keurig sit one cuisinart espresso machin sit one make coffe counter look nice clean organ occasion spill water top pour water keurig top materi storag drawer fabul waterproof type materi water bead sit wipe rais edg water doesnt spill onto counter order anoth one offic one christma gift recommend product hope enjoy much coffe storag drawer holder keurig pod'\n",
      "b'freak littl expir date coffe serious know coffe call kopi luwak serious googl yeah poop civet cat sold buck pound realli milk cri loud stop buy review best coffe ever beat price pour cup fresh brew one cup made instant coffe put anoth cup defi tell differ fact would lay odd would point instant call fresh ground fresh brew'\n",
      "b'first purchas keurig machin year ago kona blend one favorit due shortag bean tulli problem manufactur product avail becam difficult well low behold final avail near pod well great coffe well version aw flavor strang deep dark kona familiar drink past stuck crappi coffe ill probabl dump neighbor folger love coffe drinker would avoid new kona blend cost mani good qualiti coffe avail'\n",
      "\n",
      "print some sentences for cluster 4 \n",
      "\n",
      "b'wish cat would eat one cat lick liquid eat shred chicken bummer caus cleanest can cat food ive come across smell youd never think cat food unfortun petco good karma chicken dinner adult can cat food gravi per would gotten offer ive recent taken taken stray eat anyth safeway chicken babi food california natur chicken brown rice dri weird total frustrat came across soulist btw cat get real finicki past coupl yrs'\n",
      "b'perhap persnicketi dog way sophist tri dog treat probabl prefer peopl treat nevertheless neither dog corgi lhaso apso would touch stuff ymmv'\n",
      "b'first ill start packag minim paper recycl kudo three layer box one varieti food ive remov paper layer mix sometim dont want food day row prefer minim packag box can recycl without addit wast plastic food qualiti look great smell good havent tri turkey chicken cat love devour entir portion one sit wish could say beef probabl person prefer three cat none like beef much two varieti three fish varieti pack purchas asid beef issu weve compar product sever iam varieti one win hand cat iam past product dont seem interest cat hard tell real product fanci feast actual look like shred chop turkey beef chicken produc soft alway moist make easi eat sometim put littl bit water dish food cat get extra moistur especi import older cat give product star packag can fulli product look like real everi appear smell yet find qualiti problem subscrib save list'\n",
      "b'natur best best cat food could find two cat palat type tri work cat neither would barf one dsh one himalayan constant never snotti kitti ignor thing food bowl ate almost excit get wet food far tell food great keep kitti coat promot muscl mass retain find latter point import older cat get matur year cat seem perkier food lead assum dri food made right stuff keep housecat healthi happi well unfortun food seem longer avail store real bummer noth ive switch seem make happi dri food kind ive stay felida dri cat food sinc like well enough miss natur best'\n",
      "b'two kitten absolut ador stuff call kitti crack theyr pretti picki come treat knew cat would turn food chunk littl bit larg though known break small piec'\n",
      "****************************\n"
     ]
    }
   ],
   "source": [
    "def printcluster(x,n_clusters=10,cluster=\"kmeans\"):\n",
    "    from sklearn.cluster import AgglomerativeClustering\n",
    "    if cluster==\"kmeans\":\n",
    "      cluster = KMeans(init='k-means++',n_clusters=n_clusters, max_iter=100).fit(x)\n",
    "    if cluster==\"AgglomerativeClustering\":\n",
    "      cluster=AgglomerativeClustering(n_clusters=n_clusters).fit(x.toarray())\n",
    "  \n",
    "    print(cluster.labels_) \n",
    "    a=[]\n",
    "    for i in range(n_clusters):\n",
    "        a.append(np.where(cluster.labels_ == i)[0])\n",
    "\n",
    "    #check 5 text for cluster \n",
    "    for i in range(n_clusters):\n",
    "        print(\"\\nprint some sentences for cluster\",i,\"\\n\")\n",
    "        print(clean_data['CleanedText'][a[i][0]])\n",
    "        print(clean_data['CleanedText'][a[i][1]])\n",
    "        print(clean_data['CleanedText'][a[i][2]])\n",
    "        print(clean_data['CleanedText'][a[i][3]])\n",
    "        print(clean_data['CleanedText'][a[i][4]])\n",
    "\n",
    "printcluster(x_bow,n_clusters=5,cluster=\"kmeans\")  \n",
    "print(\"****************************\")\n",
    "printcluster(x_tfidf,n_clusters=5,cluster=\"kmeans\")  \n",
    "print(\"****************************\")\n",
    "printcluster(x_avgw2v,n_clusters=5,cluster=\"kmeans\")  \n",
    "print(\"****************************\")\n",
    "printcluster(x_avgw2vtfidf,n_clusters=5,cluster=\"kmeans\")  \n",
    "print(\"****************************\")\n",
    "print(\"****************************\")\n",
    "print(\"****************************\")\n",
    "\n",
    "printcluster(x_bow,n_clusters=5,cluster=\"AgglomerativeClustering\")  \n",
    "print(\"****************************\")\n",
    "printcluster(x_tfidf,n_clusters=5,cluster=\"AgglomerativeClustering\") \n",
    "print(\"****************************\")\n",
    "#printcluster(x_avgw2v,n_clusters=5,cluster=\"AgglomerativeClustering\") \n",
    "print(\"****************************\")\n",
    "#printcluster(x_avgw2vtfidf,n_clusters=5,cluster=\"AgglomerativeClustering\") "
   ]
  },
  {
   "cell_type": "markdown",
   "metadata": {},
   "source": [
    "# Conclusion\n",
    "W2V takes time to implement.\n",
    "For kmeans better model is like below W2VAVGTFIDF>W2VAVG>TFIDF>BOW\n",
    "The different clustering texts are quite similar\n",
    "In DBSCAN its difficult to choose eps to get 2 cluster, most of the cases getting 0 cluster, I am getting only one cluster and outliers in best case.\n",
    "\n",
    "# Steps followed\n",
    "Only !=3 reviews are taken Mark >3 as positive and <3 as negative. Sort data as per product id in ascending order Deduplication of entries for same profilename,userid, time, text and take first element Get stratified sampling of 5k data Clean html and punctuation Convert to uppercase and word<3 are rejected data sorted on time Split the data in train and test to 70:30\n",
    "BOW TFIDF AVGW2V and AVG TFIDF W2V was used in whole data\n",
    "For kmeans clustering different value of k clustering error was plotted.\n",
    "AgglomerativeClustering for 2 cluster is formed\n",
    "DBSCAN eps=16.6, min_samples=200\n",
    "For top 5 review of each cluster tried to summarize clustering type"
   ]
  },
  {
   "cell_type": "code",
   "execution_count": null,
   "metadata": {},
   "outputs": [],
   "source": []
  },
  {
   "cell_type": "code",
   "execution_count": null,
   "metadata": {},
   "outputs": [],
   "source": []
  },
  {
   "cell_type": "code",
   "execution_count": null,
   "metadata": {},
   "outputs": [],
   "source": []
  },
  {
   "cell_type": "code",
   "execution_count": null,
   "metadata": {},
   "outputs": [],
   "source": []
  },
  {
   "cell_type": "code",
   "execution_count": null,
   "metadata": {},
   "outputs": [],
   "source": []
  },
  {
   "cell_type": "code",
   "execution_count": null,
   "metadata": {},
   "outputs": [],
   "source": []
  },
  {
   "cell_type": "code",
   "execution_count": null,
   "metadata": {},
   "outputs": [],
   "source": []
  },
  {
   "cell_type": "code",
   "execution_count": null,
   "metadata": {},
   "outputs": [],
   "source": []
  },
  {
   "cell_type": "code",
   "execution_count": null,
   "metadata": {},
   "outputs": [],
   "source": []
  },
  {
   "cell_type": "code",
   "execution_count": null,
   "metadata": {},
   "outputs": [],
   "source": []
  },
  {
   "cell_type": "code",
   "execution_count": null,
   "metadata": {},
   "outputs": [],
   "source": []
  }
 ],
 "metadata": {
  "kernelspec": {
   "display_name": "Python 3",
   "language": "python",
   "name": "python3"
  },
  "language_info": {
   "codemirror_mode": {
    "name": "ipython",
    "version": 3
   },
   "file_extension": ".py",
   "mimetype": "text/x-python",
   "name": "python",
   "nbconvert_exporter": "python",
   "pygments_lexer": "ipython3",
   "version": "3.5.5"
  }
 },
 "nbformat": 4,
 "nbformat_minor": 2
}
