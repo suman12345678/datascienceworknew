{
 "cells": [
  {
   "cell_type": "markdown",
   "metadata": {},
   "source": [
    "# Amazon food review dataset apply Logistic regression\n",
    "\n",
    "Data set from https://www.kaggle.com/snap/amazon-fine-food-reviews\n",
    "\n",
    "\n",
    "# Objective\n",
    "1. Try predicting review using SVM grid and random search gamma and c\n",
    "2. Get lambda 1 2(L1 and L2) using grid search and random search CV \n",
    "3. For L1 regularization try increasing lambda and see error. Get non zero element in w\n",
    "4. Get features importance check for multicolinearity by adding small value\n",
    "5. Plot accuracy and hyperparameter\n",
    "\n",
    "# Import data and libraries\n",
    " "
   ]
  },
  {
   "cell_type": "code",
   "execution_count": 1,
   "metadata": {},
   "outputs": [
    {
     "name": "stderr",
     "output_type": "stream",
     "text": [
      "C:\\Users\\suman\\Anaconda3\\lib\\site-packages\\sklearn\\cross_validation.py:41: DeprecationWarning: This module was deprecated in version 0.18 in favor of the model_selection module into which all the refactored classes and functions are moved. Also note that the interface of the new CV iterators are different from that of this module. This module will be removed in 0.20.\n",
      "  \"This module will be removed in 0.20.\", DeprecationWarning)\n",
      "C:\\Users\\suman\\Anaconda3\\lib\\site-packages\\sklearn\\grid_search.py:42: DeprecationWarning: This module was deprecated in version 0.18 in favor of the model_selection module into which all the refactored classes and functions are moved. This module will be removed in 0.20.\n",
      "  DeprecationWarning)\n"
     ]
    }
   ],
   "source": [
    "from sklearn.manifold import TSNE\n",
    "import sqlite3\n",
    "import pandas as pd\n",
    "import numpy as np\n",
    "import nltk\n",
    "import string\n",
    "import matplotlib.pyplot as plt\n",
    "import seaborn as sns\n",
    "from sklearn.feature_extraction.text import TfidfTransformer\n",
    "from sklearn.feature_extraction.text import TfidfVectorizer\n",
    "from sklearn.feature_extraction.text import CountVectorizer\n",
    "from sklearn.metrics import confusion_matrix\n",
    "from sklearn import metrics\n",
    "from sklearn.metrics import roc_curve, auc\n",
    "from nltk.stem.porter import PorterStemmer\n",
    "from sklearn.cross_validation import train_test_split,KFold\n",
    "from sklearn.neighbors import KNeighborsClassifier\n",
    "from sklearn.metrics import accuracy_score\n",
    "from sklearn.cross_validation import cross_val_score\n",
    "from collections import Counter\n",
    "from sklearn.metrics import accuracy_score\n",
    "from sklearn import cross_validation\n",
    "from sklearn.grid_search import GridSearchCV\n",
    "from sklearn.linear_model import LogisticRegression\n",
    "\n",
    "con = sqlite3.connect('database.sqlite') \n",
    "\n",
    "#get only +ve and -ve review \n",
    "raw_data = pd.read_sql_query(\"\"\"SELECT * FROM Reviews WHERE Score != 3\"\"\", con) "
   ]
  },
  {
   "cell_type": "markdown",
   "metadata": {},
   "source": [
    "# Data preprocessing"
   ]
  },
  {
   "cell_type": "code",
   "execution_count": 2,
   "metadata": {
    "collapsed": true
   },
   "outputs": [],
   "source": [
    "filtered_data=raw_data\n",
    "# Score>3 a positive rating, and score<3 a negative rating.\n",
    "def partition(x):\n",
    "    if x < 3:\n",
    "        return 'negative'\n",
    "    return 'positive'\n",
    "\n",
    "#changing reviews with score less than 3 to be positive and vice-versa\n",
    "actualScore = filtered_data['Score']\n",
    "positiveNegative = actualScore.map(partition) \n",
    "filtered_data['Score'] = positiveNegative\n",
    "\n",
    "filtered_data.sample(5)\n",
    "filtered_data['Score'].value_counts()\n",
    "\n",
    "#Sorting data according to ProductId in ascending order\n",
    "sorted_data=filtered_data.sort_values('ProductId', axis=0, ascending=True, inplace=False, kind='quicksort', na_position='last')\n",
    "\n",
    "#Deduplication of entries for same profilename,userid, time, text and take first element \n",
    "sorted_data=sorted_data.drop_duplicates(subset={\"UserId\",\"ProfileName\",\"Time\",\"Text\"}, keep='first', inplace=False)\n"
   ]
  },
  {
   "cell_type": "code",
   "execution_count": 38,
   "metadata": {},
   "outputs": [
    {
     "name": "stdout",
     "output_type": "stream",
     "text": [
      "positive    307063\n",
      "negative     57110\n",
      "Name: Score, dtype: int64\n"
     ]
    },
    {
     "data": {
      "text/plain": [
       "positive    42159\n",
       "negative     7841\n",
       "Name: Score, dtype: int64"
      ]
     },
     "execution_count": 38,
     "metadata": {},
     "output_type": "execute_result"
    }
   ],
   "source": [
    "#take only 50000 data\n",
    "print(sorted_data['Score'].value_counts())\n",
    "#clean_data=sorted_data.sample(frac=1).groupby('Score').head(10000)\n",
    "#take stratified sampling i.e. positive and negative reviews are proportionate to raw data\n",
    "_ , clean_data = train_test_split(sorted_data, test_size = 50000, stratify = sorted_data['Score'] )\n",
    "clean_data['Score'].value_counts()"
   ]
  },
  {
   "cell_type": "code",
   "execution_count": 39,
   "metadata": {
    "collapsed": true
   },
   "outputs": [],
   "source": [
    "# Clean html tag and punctuation\n",
    "\n",
    "import re\n",
    "import string\n",
    "from nltk.corpus import stopwords\n",
    "from nltk.stem import PorterStemmer\n",
    "from nltk.stem.wordnet import WordNetLemmatizer\n",
    "\n",
    "stop = set(stopwords.words('english')) #set of stopwords\n",
    "sno = nltk.stem.SnowballStemmer('english') #initialising the snowball stemmer\n",
    "\n",
    "#substitute html tag and punctuation\n",
    "def cleanhtml(sentence): #function to clean the word of any html-tags\n",
    "    cleanr = re.compile('<.*?>')\n",
    "    cleantext = re.sub(cleanr, ' ', sentence)\n",
    "    return cleantext\n",
    "def cleanpunc(sentence): #function to clean the word of any punctuation or special characters\n",
    "    cleaned = re.sub(r'[?|!|\\'|\"|#]',r'',sentence)\n",
    "    cleaned = re.sub(r'[.|,|)|(|\\|/]',r' ',cleaned)\n",
    "    return  cleaned\n",
    "#print(sno.stem('tasty'))"
   ]
  },
  {
   "cell_type": "code",
   "execution_count": 40,
   "metadata": {
    "collapsed": true
   },
   "outputs": [],
   "source": [
    "i=0\n",
    "str1=' '\n",
    "mystop={'of','four','one','would'}\n",
    "final_string=[]\n",
    "all_positive_words=[] # store words from +ve reviews here\n",
    "all_negative_words=[] # store words from -ve reviews here.\n",
    "s=''\n",
    "#Create new catagory as Cleanedtext after removing htmltag and punctuation and uppercase and word length >2\n",
    "for sent in clean_data['Text'].values:\n",
    "    #change later\n",
    "    #sent=sent[:20]\n",
    "    filtered_sentence=[]\n",
    "    #print(sent);\n",
    "    sent=cleanhtml(sent) # remove HTMl tags\n",
    "    for w in sent.split():\n",
    "        for cleaned_words in cleanpunc(w).split():\n",
    "            if((cleaned_words.isalpha()) & (len(cleaned_words)>2)):    \n",
    "                if((cleaned_words.lower() not in stop) & (cleaned_words.lower() not in mystop)):\n",
    "                    s=(sno.stem(cleaned_words.lower())).encode('utf8')\n",
    "                    filtered_sentence.append(s)\n",
    "                    if (clean_data['Score'].values)[i] == 'positive': \n",
    "                        all_positive_words.append(s) #list of all words used to describe positive reviews\n",
    "                    if(clean_data['Score'].values)[i] == 'negative':\n",
    "                        all_negative_words.append(s) #list of all words used to describe negative reviews reviews\n",
    "                else:\n",
    "                    continue\n",
    "            else:\n",
    "                continue \n",
    "    str1 = b\" \".join(filtered_sentence) #final string of cleaned words\n",
    "    \n",
    "    final_string.append(str1)\n",
    "    i+=1\n",
    "    "
   ]
  },
  {
   "cell_type": "code",
   "execution_count": 41,
   "metadata": {},
   "outputs": [
    {
     "data": {
      "text/plain": [
       "286076    b'pleasant surpris fresh tast orang bar realli...\n",
       "171848    b'best product make bread bread machin everyth...\n",
       "Name: CleanedText, dtype: object"
      ]
     },
     "execution_count": 41,
     "metadata": {},
     "output_type": "execute_result"
    }
   ],
   "source": [
    "clean_data['CleanedText']=final_string\n",
    "#store for future use\n",
    "#conn = sqlite3.connect('clean_data.sqlite')\n",
    "#c=conn.cursor()\n",
    "#conn.text_factory = str\n",
    "#clean_data.to_sql('Reviews1', conn, flavor=None, schema=None, if_exists='replace', index=True, index_label=None, chunksize=None, dtype=None)\n",
    "#con = sqlite3.connect('clean_data.sqlite') \n",
    "#clean_data = pd.read_sql_query(\"\"\"SELECT * FROM Reviews1 WHERE Score != 3\"\"\", con) \n",
    "#clean_data['CleanedText'].sample(15)\n",
    "clean_data.shape\n",
    "#Sort data on timestamp\n",
    "clean_data=clean_data.sort_values(by=['Time'],ascending=False)\n",
    "#clean_data\n",
    "clean_data['CleanedText'].sample(2)"
   ]
  },
  {
   "cell_type": "markdown",
   "metadata": {},
   "source": [
    "# Create BOW and try grid search for logistic regreession with penalty l1 and l2"
   ]
  },
  {
   "cell_type": "code",
   "execution_count": 42,
   "metadata": {},
   "outputs": [
    {
     "name": "stdout",
     "output_type": "stream",
     "text": [
      "(50000, 27310)\n",
      "<class 'scipy.sparse.csr.csr_matrix'>\n",
      "new\n"
     ]
    }
   ],
   "source": [
    "#now convert CleanedText to TDM\n",
    "count_vect = CountVectorizer() #in scikit-learn\n",
    "final_counts = count_vect.fit_transform(clean_data['CleanedText'].values)\n",
    "print(final_counts.get_shape())\n",
    "print(type(final_counts))\n",
    "#print(final_counts[[1]])\n",
    "print(\"new\")\n",
    "#print(final_counts[0,:])# this is stored like dict format only non zero values. sparse matrix\n",
    "#x = pd.DataFrame(final_counts.toarray())#this is stored like dataframe format all 0 and non zero values. dense matrix\n",
    "# sparse matrix in csr format works faster compare to dense format\n",
    "#print(x.shape,x.loc[0])"
   ]
  },
  {
   "cell_type": "code",
   "execution_count": 43,
   "metadata": {},
   "outputs": [
    {
     "name": "stdout",
     "output_type": "stream",
     "text": [
      "(50000, 27310)\n",
      "<class 'scipy.sparse.csc.csc_matrix'>\n",
      "size of X_train, X_test, y_train , y_test  (35000, 27310) (15000, 27310) (35000,) (15000,)\n"
     ]
    }
   ],
   "source": [
    "from sklearn.preprocessing import StandardScaler\n",
    "x=final_counts\n",
    "y =clean_data['Score']\n",
    "\n",
    "\n",
    "#Standarize the features\n",
    "#below not working\n",
    "#sc = StandardScaler(with_mean=False)\n",
    "# this is sparse matrix so standarization is required differently\n",
    "from sklearn.preprocessing import normalize\n",
    "x = normalize(x, norm='l1', axis=0)\n",
    "\n",
    "\n",
    "#sc = StandardScaler()\n",
    "#x = sc.fit_transform(x)\n",
    "print(x.get_shape())\n",
    "print(type(x))\n",
    "#print(x[[1]])\n",
    "\n",
    "\n",
    "n=x.shape[0]\n",
    "n1=int(n*.3)\n",
    "#X_test = x[0:n1]\n",
    "#X_train= x[n1:n+1]\n",
    "\n",
    "#y should be changed to binary\n",
    "\n",
    "from sklearn.preprocessing import label_binarize\n",
    "encoded_column_vector = label_binarize(y, classes=['negative','positive']) # negative will be 0 and positive will be 1\n",
    "encoded_labels = np.ravel(encoded_column_vector) # Reshape array\n",
    "y=encoded_labels\n",
    "\n",
    "y_test=y[0:n1]\n",
    "y_train=y[n1:n+1]\n",
    "\n",
    "\n",
    "X_test = x[0:n1,:]\n",
    "X_train= x[n1:n+1,:]\n",
    "y_test=y[0:n1]\n",
    "y_train=y[n1:n+1]\n",
    "print('size of X_train, X_test, y_train , y_test ',X_train.shape, X_test.shape,y_train.shape,y_test.shape)\n",
    "#print(\"positive and negative review in train and test\\n\",y_train.value_counts(),\"\\n\",y_test.value_counts())"
   ]
  },
  {
   "cell_type": "code",
   "execution_count": 44,
   "metadata": {},
   "outputs": [
    {
     "name": "stdout",
     "output_type": "stream",
     "text": [
      "Best parameters \n",
      " LogisticRegression(C=10, class_weight=None, dual=False, fit_intercept=True,\n",
      "          intercept_scaling=1, max_iter=100, multi_class='ovr', n_jobs=1,\n",
      "          penalty='l1', random_state=None, solver='liblinear', tol=0.0001,\n",
      "          verbose=0, warm_start=False)\n",
      "<class 'scipy.sparse.csc.csc_matrix'> <class 'numpy.ndarray'>\n"
     ]
    }
   ],
   "source": [
    "import warnings\n",
    "warnings.filterwarnings('ignore')\n",
    "from sklearn.model_selection import validation_curve\n",
    "\n",
    "# Use grid search for L2\n",
    "C=[10**-3, 10**-2, 10**-1, 1,10]\n",
    "\n",
    "#param_range=C;\n",
    "\n",
    "#c1=np.arrange(1, 250, 20)\n",
    "penalty=['l1', 'l2']\n",
    "\n",
    "tuned_parameters=dict(penalty=penalty,C=C)\n",
    "\n",
    "#Using GridSearchCV\n",
    "model = GridSearchCV(LogisticRegression(), tuned_parameters, scoring = 'f1', cv=5)\n",
    "model.fit(X_train, y_train)\n",
    "\n",
    "print('Best parameters \\n',model.best_estimator_)\n",
    "#print('Model test score', model.score(X_test, y_test))\n",
    "\n",
    "optimumc=model.best_estimator_.C\n",
    "optimumpenalty=model.best_estimator_.penalty\n",
    "print(type(X_train),type(y_train))\n"
   ]
  },
  {
   "cell_type": "markdown",
   "metadata": {},
   "source": []
  },
  {
   "cell_type": "code",
   "execution_count": 45,
   "metadata": {},
   "outputs": [
    {
     "name": "stdout",
     "output_type": "stream",
     "text": [
      "Count of non zero element in coefficient 4938\n",
      "Model train and test score C and penalty 0.911971428571 0.8382 10 l1\n"
     ]
    }
   ],
   "source": [
    "#build model with best parameter\n",
    "model = LogisticRegression(C=optimumc,penalty=optimumpenalty)\n",
    "model.fit(X_train, y_train)\n",
    "\n",
    "aa=pd.DataFrame({'type':['Grid search BOW'],'train_score':[model.score(X_train,y_train)],'test_score':[model.score(X_test,y_test)],'C':[model.C],'penalty':[model.penalty]})\n",
    "#print(aa)\n",
    "\n",
    "# Print coefficients\n",
    "# check no of parameter\n",
    "w = model.coef_\n",
    "print('Count of non zero element in coefficient',np.count_nonzero(w))\n",
    "print('Model train and test score C and penalty',model.score(X_train,y_train),model.score(X_test,y_test),model.C,model.penalty)\n",
    "#print(model.coef_[0],model.coef_[8])\n",
    "#print(model.coef_)\n",
    "#print(model.C,model.penalty)"
   ]
  },
  {
   "cell_type": "code",
   "execution_count": null,
   "metadata": {
    "collapsed": true
   },
   "outputs": [],
   "source": []
  },
  {
   "cell_type": "markdown",
   "metadata": {},
   "source": [
    "# Apply Random search"
   ]
  },
  {
   "cell_type": "code",
   "execution_count": 46,
   "metadata": {},
   "outputs": [
    {
     "name": "stdout",
     "output_type": "stream",
     "text": [
      "Model best extimator \n",
      " LogisticRegression(C=100, class_weight=None, dual=False, fit_intercept=True,\n",
      "          intercept_scaling=1, max_iter=100, multi_class='ovr', n_jobs=1,\n",
      "          penalty='l1', random_state=None, solver='liblinear', tol=0.0001,\n",
      "          verbose=0, warm_start=False)\n",
      "Count of non zero element in coefficient 12072\n",
      "Model train and test score C and penalty 0.968942857143 0.863933333333 100 l1\n",
      "     C penalty  test_score  train_score               type\n",
      "0   10      l1    0.838200     0.911971    Grid search BOW\n",
      "0  100      l1    0.863933     0.968943  Random search BOW\n"
     ]
    }
   ],
   "source": [
    "# Random search \n",
    "from sklearn.model_selection import RandomizedSearchCV\n",
    "\n",
    "#tuned_parameters = [{'penalty' : ['l1', 'l2']},\n",
    "\n",
    "C=[10**-4, 10**-2, 10**0, 10**2, 10**4]\n",
    "penalty=['l1', 'l2']\n",
    "\n",
    "tuned_parameters=dict(C=C, penalty=penalty)\n",
    "\n",
    "#Using random search\n",
    "model = RandomizedSearchCV(LogisticRegression(), tuned_parameters, random_state=1, scoring = 'f1', cv=5)\n",
    "\n",
    "model.fit(X_train, y_train)\n",
    "\n",
    "\n",
    "print('Model best extimator \\n',model.best_estimator_)\n",
    "#print(model.score(X_test, y_test))\n",
    "\n",
    "optimumc=model.best_estimator_.C\n",
    "optimumpenalty=model.best_estimator_.penalty\n",
    "\n",
    "# create model with the best parameter from random search\n",
    "\n",
    "model = LogisticRegression(C=optimumc,penalty=optimumpenalty)\n",
    "model.fit(X_train, y_train)\n",
    "\n",
    "\n",
    "# Print coefficients\n",
    "# check no of parameter\n",
    "w = model.coef_\n",
    "print('Count of non zero element in coefficient',np.count_nonzero(w))\n",
    "#print('Model test score',model.score(X_test,y_test))\n",
    "print('Model train and test score C and penalty',model.score(X_train,y_train),model.score(X_test,y_test),model.C,model.penalty)\n",
    "bb=pd.DataFrame({'type':['Random search BOW'],'train_score':[model.score(X_train,y_train)],'test_score':[model.score(X_test,y_test)],'C':[model.C],'penalty':[model.penalty]})\n",
    "aa=aa.append(bb)\n",
    "print(aa)"
   ]
  },
  {
   "cell_type": "markdown",
   "metadata": {
    "collapsed": true
   },
   "source": [
    "# Try increasing lambda for L1 and see error and sparcity(non 0 element of w)"
   ]
  },
  {
   "cell_type": "code",
   "execution_count": 47,
   "metadata": {},
   "outputs": [
    {
     "name": "stdout",
     "output_type": "stream",
     "text": [
      "Count of non zero, total element (l1), coefficient ( C or 1/lambda),train accuracy and test accuracy\n",
      " 0.001 0 (1, 27310) 0.851142857143 0.8246\n",
      "Count of non zero, total element (l1), coefficient ( C or 1/lambda),train accuracy and test accuracy\n",
      " 0.01 0 (1, 27310) 0.851142857143 0.8246\n",
      "Count of non zero, total element (l1), coefficient ( C or 1/lambda),train accuracy and test accuracy\n",
      " 0.1 0 (1, 27310) 0.851142857143 0.8246\n",
      "Count of non zero, total element (l1), coefficient ( C or 1/lambda),train accuracy and test accuracy\n",
      " 1 0 (1, 27310) 0.851142857143 0.8246\n",
      "Count of non zero, total element (l1), coefficient ( C or 1/lambda),train accuracy and test accuracy\n",
      " 10 4967 (1, 27310) 0.912714285714 0.838333333333\n",
      "Count of non zero, total element (l1), coefficient ( C or 1/lambda),train accuracy and test accuracy\n",
      " 100 12065 (1, 27310) 0.968942857143 0.863933333333\n",
      "Count of non zero, total element (l1), coefficient ( C or 1/lambda),train accuracy and test accuracy\n",
      " 1000 11175 (1, 27310) 0.992228571429 0.858466666667\n",
      "Count of non zero, total element (l1), coefficient ( C or 1/lambda),train accuracy and test accuracy\n",
      " 10000 9626 (1, 27310) 0.998428571429 0.824533333333\n"
     ]
    }
   ],
   "source": [
    "for i in [.001,.01,.1,1,10,100,1000,10000]:\n",
    "  model = LogisticRegression(C=i,penalty='l1')\n",
    "  model.fit(X_train, y_train)\n",
    "  w = model.coef_\n",
    "\n",
    "  print('Count of non zero, total element (l1), coefficient ( C or 1/lambda),train accuracy and test accuracy\\n',i,np.count_nonzero(w),np.shape(w),model.score(X_train, y_train),model.score(X_test, y_test))\n",
    "  #print('model score',model.score(X_test,y_test))\n",
    "\n",
    "#print(w)\n"
   ]
  },
  {
   "cell_type": "markdown",
   "metadata": {
    "collapsed": true
   },
   "source": [
    "So We can see as C decreases i.e. lambda increases more coefficients are getting 0 and  test accuracy increases when C too low accuracy decreases again if C is too low\n",
    "# See top features using the weights"
   ]
  },
  {
   "cell_type": "markdown",
   "metadata": {},
   "source": [
    "\n"
   ]
  },
  {
   "cell_type": "code",
   "execution_count": 48,
   "metadata": {
    "collapsed": true
   },
   "outputs": [],
   "source": [
    "#print(model.coef_[1])\n",
    "coefs = np.abs(model.coef_[0])\n",
    "indices = np.argsort(coefs)[::-1]\n",
    "#print(indices)\n",
    "#print(count_vect.get_feature_names())"
   ]
  },
  {
   "cell_type": "code",
   "execution_count": 49,
   "metadata": {},
   "outputs": [
    {
     "name": "stdout",
     "output_type": "stream",
     "text": [
      "Top 10 words for both review 0 negative 1 positive with weights\n",
      "\n",
      "0 -3077.2179721 disappoint\n",
      "0 -1652.9975165 bad\n",
      "0 -1213.63238997 thought\n",
      "0 -1204.21845854 aw\n",
      "0 -1146.3880296 terribl\n",
      "0 -1128.70382556 money\n",
      "0 -1121.39663435 horribl\n",
      "0 -1077.38007019 worst\n",
      "0 -1042.36105164 return\n",
      "0 -1027.37078209 unfortun\n",
      "\n",
      "\n",
      "1 5440.0 great\n",
      "1 5017.96549989 love\n",
      "1 4804.31139217 best\n",
      "1 3362.15637588 perfect\n",
      "1 3353.73812941 delici\n",
      "1 1974.53175044 excel\n",
      "1 1579.62281001 tasti\n",
      "1 1563.1358183 favorit\n",
      "1 1259.92774809 nice\n",
      "1 1196.04334525 keep\n"
     ]
    }
   ],
   "source": [
    "#create optimum model\n",
    "model = LogisticRegression(C=optimumc,penalty=optimumpenalty)\n",
    "model.fit(X_train, y_train)\n",
    "\n",
    "\n",
    "def most_informative_feature_for_binary_classification(vectorizer, classifier, n=10):\n",
    "    class_labels = classifier.classes_\n",
    "    feature_names = vectorizer.get_feature_names()\n",
    "    topn_class1 = sorted(zip(classifier.coef_[0], feature_names))[:n]\n",
    "    #negative words are sorted with -ve\n",
    "    topn_class2 = sorted(zip(classifier.coef_[0], feature_names))[-n:]\n",
    "    \n",
    "    top_pos_fet=[]\n",
    "    top_neg_fet=[]\n",
    "    for coef, feat in topn_class1:\n",
    "        print (class_labels[0], coef, feat)\n",
    "        top_pos_fet.append(feat)\n",
    "\n",
    "    print(\"\\n\")\n",
    "\n",
    "    for coef, feat in reversed(topn_class2):\n",
    "        print (class_labels[1], coef, feat)\n",
    "        top_neg_fet.append(feat)\n",
    "        \n",
    "    return top_pos_fet,top_neg_fet \n",
    "\n",
    "print(\"Top 10 words for both review 0 negative 1 positive with weights\\n\")\n",
    "top_pos_fet,top_neg_fet=most_informative_feature_for_binary_classification(count_vect, model)"
   ]
  },
  {
   "cell_type": "markdown",
   "metadata": {
    "collapsed": true
   },
   "source": [
    "# Check multicolinearity with perbutation test by adding small noise to sparse matrix\n",
    "The noise is with mean 0 and sd=.0001"
   ]
  },
  {
   "cell_type": "code",
   "execution_count": 50,
   "metadata": {
    "collapsed": true
   },
   "outputs": [],
   "source": [
    "# Check VIF score of the above selected variables\n",
    "#vif = pd.DataFrame()\n",
    "#print(x.toarray().shape,x.shape[1])\n",
    "#vif[\"VIF Factor\"] = [variance_inflation_factor(x.toarray(), i) for i in range(x.shape[1])]\n",
    "#vif[\"features\"] = count_vect.get_feature_names()\n",
    "#print(vif)\n",
    "#for i in top_pos_fet:\n",
    "#  print(vif[(vif[[\"features\"]]==i).values])\n",
    "\n",
    "#for i in top_neg_fet:\n",
    "#  print(vif[(vif[[\"features\"]]==i).values])\n",
    "\n",
    "# creating VIF is giving a lot of inf"
   ]
  },
  {
   "cell_type": "code",
   "execution_count": 51,
   "metadata": {
    "collapsed": true
   },
   "outputs": [],
   "source": [
    "#refer https://medium.com/@dhwajraj/learning-python-regression-analysis-part-9-tests-and-validity-for-regression-models-78dcd5cde3a1\n",
    "# to find colinearity by eigen value\n",
    "#corr=np.corrcoef(x,rowvar=0)\n",
    "#W,V=np.linalg.eig(corr)\n",
    "#If at least one of the eigen values of the correlation matrix is close to zero then we can say that multicollinearity exists in the dataset\n",
    "\n",
    "#The eigen values at index 3,4 and 5 are close to zero. There corresponding eigen vectors are:\n",
    "\n",
    "#in the output produced above, column index 2 and 3 have near zero values in all three eigen vectors so we can say that columns 0,1,4 and 5 are strongly correlated with each other so any one of them would be sufficient to capture the essence of the other three columns.\n",
    "\n",
    "\n"
   ]
  },
  {
   "cell_type": "code",
   "execution_count": 52,
   "metadata": {},
   "outputs": [
    {
     "name": "stdout",
     "output_type": "stream",
     "text": [
      "Top 10 words for both review 0 negative 1 positive with weights\n",
      "\n",
      "0 -3077.10091129 disappoint\n",
      "0 -1624.83929695 bad\n",
      "0 -1230.52805736 aw\n",
      "0 -1183.08374384 terribl\n",
      "0 -1132.23714539 horribl\n",
      "0 -1130.43471644 money\n",
      "0 -1078.19914821 return\n",
      "0 -1077.81626203 worst\n",
      "0 -1056.94920513 unfortun\n",
      "0 -1053.09605742 noth\n",
      "\n",
      "\n",
      "1 3400.0 best\n",
      "1 3372.80909943 great\n",
      "1 3140.52489553 delici\n",
      "1 3102.76664556 perfect\n",
      "1 1922.60193055 excel\n",
      "1 1871.4953013 love\n",
      "1 1580.31088605 good\n",
      "1 1463.46979206 favorit\n",
      "1 1452.09431946 tasti\n",
      "1 1079.79385601 easi\n"
     ]
    }
   ],
   "source": [
    "from scipy import *\n",
    "import random\n",
    "from scipy.sparse import *\n",
    "    \n",
    "#print(X_train)\n",
    "#print(X_train.data.shape[0])\n",
    "#X_train.todense()\n",
    "#print(\"hi\")\n",
    "#X_train.data+=X_train\n",
    "#X_train.todense()\n",
    "X_train.data += np.random.normal(0,.0001,X_train.data.shape[0])\n",
    "#print(X_train)\n",
    "\n",
    "# Create model after adding some noise and check weights\n",
    "model = LogisticRegression(C=optimumc,penalty=optimumpenalty)\n",
    "model.fit(X_train, y_train)\n",
    "\n",
    "print(\"Top 10 words for both review 0 negative 1 positive with weights\\n\")\n",
    "top_pos_fet,top_neg_fet=most_informative_feature_for_binary_classification(count_vect, model)"
   ]
  },
  {
   "cell_type": "markdown",
   "metadata": {},
   "source": [
    "So we can see after adding noise the weights of top 20 words are almost same as earlier, so multicolinearity doesnot exist"
   ]
  },
  {
   "cell_type": "markdown",
   "metadata": {
    "collapsed": true
   },
   "source": []
  },
  {
   "cell_type": "code",
   "execution_count": null,
   "metadata": {
    "collapsed": true
   },
   "outputs": [],
   "source": [
    "\n"
   ]
  },
  {
   "cell_type": "markdown",
   "metadata": {
    "collapsed": true
   },
   "source": [
    "# Plot traing and CV error with C and l1 penalty"
   ]
  },
  {
   "cell_type": "code",
   "execution_count": 53,
   "metadata": {},
   "outputs": [
    {
     "data": {
      "image/png": "[encoded data removed]",
      "text/plain": [
       "<matplotlib.figure.Figure at 0x1b569fbc7b8>"
      ]
     },
     "metadata": {},
     "output_type": "display_data"
    }
   ],
   "source": [
    "#create plot for training and test validation\n",
    "# Calculate accuracy on training and test set using range of parameter values\n",
    "C=[10**-2, 10**-1, 1,5,8,10]\n",
    "param_range=[10**-2, 10**-1, 1,5,8,10]\n",
    "\n",
    "\n",
    "train_scores, test_scores = validation_curve(LogisticRegression(penalty='l1'), X_train, y_train, param_name=\"C\",param_range=C,cv=5)\n",
    "\n",
    "train_scores_mean = np.mean(train_scores, axis=1)\n",
    "train_scores_std = np.std(train_scores, axis=1)\n",
    "test_scores_mean = np.mean(test_scores, axis=1)\n",
    "test_scores_std = np.std(test_scores, axis=1)\n",
    "\n",
    "plt.plot(param_range, train_scores_mean, label=\"Training score\", color=\"black\")\n",
    "plt.plot(param_range, test_scores_mean, label=\"Cross-validation score\", color=\"red\")\n",
    "\n",
    "#Plot accurancy bands for training and test sets\n",
    "plt.fill_between(param_range, train_scores_mean - train_scores_std, train_scores_mean + train_scores_std, color=\"gray\")\n",
    "plt.fill_between(param_range, test_scores_mean - test_scores_std, test_scores_mean + test_scores_std, color=\"green\")\n",
    "\n",
    "plt.title(\"Validation Curve With logistic regression for different C value\")\n",
    "plt.xlabel(\"C value\")\n",
    "plt.ylabel(\"Accuracy Score\")\n",
    "plt.xlim(.0001,10)\n",
    "plt.tight_layout()\n",
    "plt.legend(loc=\"best\")\n",
    "plt.show()\n"
   ]
  },
  {
   "cell_type": "markdown",
   "metadata": {
    "collapsed": true
   },
   "source": [
    "# Plot traing and CV error with C and l2 penalty"
   ]
  },
  {
   "cell_type": "markdown",
   "metadata": {},
   "source": []
  },
  {
   "cell_type": "code",
   "execution_count": 54,
   "metadata": {},
   "outputs": [
    {
     "data": {
      "image/png": "[encoded data removed]",
      "text/plain": [
       "<matplotlib.figure.Figure at 0x1b5760b9400>"
      ]
     },
     "metadata": {},
     "output_type": "display_data"
    }
   ],
   "source": [
    "#create plot for training and test validation\n",
    "# Calculate accuracy on training and test set using range of parameter values\n",
    "C=[10**-2, 10**-1, 1,5,8,10]\n",
    "param_range=[10**-2, 10**-1, 1,5,8,10]\n",
    "\n",
    "\n",
    "train_scores, test_scores = validation_curve(LogisticRegression(penalty='l2'), X_train, y_train, param_name=\"C\",param_range=C,cv=5)\n",
    "\n",
    "train_scores_mean = np.mean(train_scores, axis=1)\n",
    "train_scores_std = np.std(train_scores, axis=1)\n",
    "test_scores_mean = np.mean(test_scores, axis=1)\n",
    "test_scores_std = np.std(test_scores, axis=1)\n",
    "\n",
    "plt.plot(param_range, train_scores_mean, label=\"Training score\", color=\"black\")\n",
    "plt.plot(param_range, test_scores_mean, label=\"Cross-validation score\", color=\"red\")\n",
    "\n",
    "#Plot accurancy bands for training and test sets\n",
    "plt.fill_between(param_range, train_scores_mean - train_scores_std, train_scores_mean + train_scores_std, color=\"gray\")\n",
    "plt.fill_between(param_range, test_scores_mean - test_scores_std, test_scores_mean + test_scores_std, color=\"green\")\n",
    "\n",
    "plt.title(\"Validation Curve With logistic regression for different C value\")\n",
    "plt.xlabel(\"C value\")\n",
    "plt.ylabel(\"Accuracy Score\")\n",
    "plt.xlim(.0001,10)\n",
    "plt.tight_layout()\n",
    "plt.legend(loc=\"best\")\n",
    "plt.show()\n"
   ]
  },
  {
   "cell_type": "code",
   "execution_count": null,
   "metadata": {
    "collapsed": true
   },
   "outputs": [],
   "source": []
  },
  {
   "cell_type": "markdown",
   "metadata": {
    "collapsed": true
   },
   "source": []
  },
  {
   "cell_type": "code",
   "execution_count": null,
   "metadata": {
    "collapsed": true
   },
   "outputs": [],
   "source": []
  },
  {
   "cell_type": "code",
   "execution_count": 55,
   "metadata": {},
   "outputs": [
    {
     "data": {
      "text/html": [
       "<div>\n",
       "<style>\n",
       "    .dataframe thead tr:only-child th {\n",
       "        text-align: right;\n",
       "    }\n",
       "\n",
       "    .dataframe thead th {\n",
       "        text-align: left;\n",
       "    }\n",
       "\n",
       "    .dataframe tbody tr th {\n",
       "        vertical-align: top;\n",
       "    }\n",
       "</style>\n",
       "<table border=\"1\" class=\"dataframe\">\n",
       "  <thead>\n",
       "    <tr style=\"text-align: right;\">\n",
       "      <th></th>\n",
       "      <th>C</th>\n",
       "      <th>penalty</th>\n",
       "      <th>test_score</th>\n",
       "      <th>train_score</th>\n",
       "      <th>type</th>\n",
       "    </tr>\n",
       "  </thead>\n",
       "  <tbody>\n",
       "    <tr>\n",
       "      <th>0</th>\n",
       "      <td>10</td>\n",
       "      <td>l1</td>\n",
       "      <td>0.838200</td>\n",
       "      <td>0.911971</td>\n",
       "      <td>Grid search BOW</td>\n",
       "    </tr>\n",
       "    <tr>\n",
       "      <th>0</th>\n",
       "      <td>100</td>\n",
       "      <td>l1</td>\n",
       "      <td>0.863933</td>\n",
       "      <td>0.968943</td>\n",
       "      <td>Random search BOW</td>\n",
       "    </tr>\n",
       "  </tbody>\n",
       "</table>\n",
       "</div>"
      ],
      "text/plain": [
       "     C penalty  test_score  train_score               type\n",
       "0   10      l1    0.838200     0.911971    Grid search BOW\n",
       "0  100      l1    0.863933     0.968943  Random search BOW"
      ]
     },
     "execution_count": 55,
     "metadata": {},
     "output_type": "execute_result"
    }
   ],
   "source": [
    "aa"
   ]
  },
  {
   "cell_type": "markdown",
   "metadata": {
    "collapsed": true
   },
   "source": []
  },
  {
   "cell_type": "code",
   "execution_count": 56,
   "metadata": {},
   "outputs": [
    {
     "data": {
      "text/html": [
       "<div>\n",
       "<style>\n",
       "    .dataframe thead tr:only-child th {\n",
       "        text-align: right;\n",
       "    }\n",
       "\n",
       "    .dataframe thead th {\n",
       "        text-align: left;\n",
       "    }\n",
       "\n",
       "    .dataframe tbody tr th {\n",
       "        vertical-align: top;\n",
       "    }\n",
       "</style>\n",
       "<table border=\"1\" class=\"dataframe\">\n",
       "  <thead>\n",
       "    <tr style=\"text-align: right;\">\n",
       "      <th></th>\n",
       "      <th>C</th>\n",
       "      <th>penalty</th>\n",
       "      <th>test_score</th>\n",
       "      <th>train_score</th>\n",
       "      <th>type</th>\n",
       "    </tr>\n",
       "  </thead>\n",
       "  <tbody>\n",
       "    <tr>\n",
       "      <th>0</th>\n",
       "      <td>10</td>\n",
       "      <td>l1</td>\n",
       "      <td>0.838200</td>\n",
       "      <td>0.911971</td>\n",
       "      <td>Grid search BOW</td>\n",
       "    </tr>\n",
       "    <tr>\n",
       "      <th>0</th>\n",
       "      <td>100</td>\n",
       "      <td>l1</td>\n",
       "      <td>0.863933</td>\n",
       "      <td>0.968943</td>\n",
       "      <td>Random search BOW</td>\n",
       "    </tr>\n",
       "  </tbody>\n",
       "</table>\n",
       "</div>"
      ],
      "text/plain": [
       "     C penalty  test_score  train_score               type\n",
       "0   10      l1    0.838200     0.911971    Grid search BOW\n",
       "0  100      l1    0.863933     0.968943  Random search BOW"
      ]
     },
     "execution_count": 56,
     "metadata": {},
     "output_type": "execute_result"
    }
   ],
   "source": [
    "aa"
   ]
  },
  {
   "cell_type": "markdown",
   "metadata": {
    "collapsed": true
   },
   "source": [
    "# TFIDF"
   ]
  },
  {
   "cell_type": "code",
   "execution_count": 57,
   "metadata": {},
   "outputs": [
    {
     "name": "stdout",
     "output_type": "stream",
     "text": [
      "size of X_train, X_test, y_train , y_test  (35000, 27310) (15000, 27310) (35000,) (15000,)\n",
      "Best parameters \n",
      " LogisticRegression(C=10, class_weight=None, dual=False, fit_intercept=True,\n",
      "          intercept_scaling=1, max_iter=100, multi_class='ovr', n_jobs=1,\n",
      "          penalty='l1', random_state=None, solver='liblinear', tol=0.0001,\n",
      "          verbose=0, warm_start=False)\n",
      "Count of non zero element in coefficient 5272\n",
      "Model train and test score C and penalty 0.921028571429 0.845133333333 10 l1\n",
      "Model best extimator \n",
      " LogisticRegression(C=100, class_weight=None, dual=False, fit_intercept=True,\n",
      "          intercept_scaling=1, max_iter=100, multi_class='ovr', n_jobs=1,\n",
      "          penalty='l1', random_state=None, solver='liblinear', tol=0.0001,\n",
      "          verbose=0, warm_start=False)\n",
      "Count of non zero element in coefficient 13833\n",
      "Model train and test score C and penalty 0.975514285714 0.862733333333 100 l1\n",
      "     C penalty  test_score  train_score                 type\n",
      "0   10      l1    0.838200     0.911971      Grid search BOW\n",
      "0  100      l1    0.863933     0.968943    Random search BOW\n",
      "0   10      l1    0.845133     0.921029    Grid search TFIDF\n",
      "0  100      l1    0.862733     0.975514  Random search TFIDF\n",
      "Count of non zero, total element (l1), coefficient ( C or 1/lambda),train accuracy and test accuracy\n",
      " 0.001 0 (1, 27310) 0.851142857143 0.8246\n",
      "Count of non zero, total element (l1), coefficient ( C or 1/lambda),train accuracy and test accuracy\n",
      " 0.01 0 (1, 27310) 0.851142857143 0.8246\n",
      "Count of non zero, total element (l1), coefficient ( C or 1/lambda),train accuracy and test accuracy\n",
      " 0.1 0 (1, 27310) 0.851142857143 0.8246\n",
      "Count of non zero, total element (l1), coefficient ( C or 1/lambda),train accuracy and test accuracy\n",
      " 1 0 (1, 27310) 0.851142857143 0.8246\n",
      "Count of non zero, total element (l1), coefficient ( C or 1/lambda),train accuracy and test accuracy\n",
      " 10 5419 (1, 27310) 0.921514285714 0.846733333333\n",
      "Count of non zero, total element (l1), coefficient ( C or 1/lambda),train accuracy and test accuracy\n",
      " 100 13858 (1, 27310) 0.975514285714 0.862666666667\n",
      "Count of non zero, total element (l1), coefficient ( C or 1/lambda),train accuracy and test accuracy\n",
      " 1000 12047 (1, 27310) 0.996171428571 0.848466666667\n",
      "Count of non zero, total element (l1), coefficient ( C or 1/lambda),train accuracy and test accuracy\n",
      " 10000 9601 (1, 27310) 0.999885714286 0.818533333333\n",
      "Top 10 words for both review 0 negative 1 positive with weights\n",
      "\n",
      "0 -2139.38157289 disappoint\n",
      "0 -1343.79150145 bad\n",
      "0 -1018.63082006 thought\n",
      "0 -889.616419324 worst\n",
      "0 -870.133829618 aw\n",
      "0 -865.1849819 horribl\n",
      "0 -839.381927857 money\n",
      "0 -839.139526293 didnt\n",
      "0 -814.130563045 terribl\n",
      "0 -811.599707981 noth\n",
      "\n",
      "\n",
      "1 7241.52363849 great\n",
      "1 3234.56182544 best\n",
      "1 3127.84986407 love\n",
      "1 2663.20685441 perfect\n",
      "1 2468.75754499 delici\n",
      "1 1328.68194528 excel\n",
      "1 1137.793068 tasti\n",
      "1 980.712306274 favorit\n",
      "1 937.424975827 nice\n",
      "1 810.669191614 carri\n",
      "Top 10 words for both review 0 negative 1 positive with weights\n",
      "\n",
      "0 -2112.40818779 disappoint\n",
      "0 -1407.87021874 bad\n",
      "0 -990.737502145 thought\n",
      "0 -952.187102874 didnt\n",
      "0 -915.717401709 worst\n",
      "0 -896.234827143 aw\n",
      "0 -858.238564517 horribl\n",
      "0 -831.674797692 terribl\n",
      "0 -831.411063051 noth\n",
      "0 -813.053910623 money\n",
      "\n",
      "\n",
      "1 2558.71549498 great\n",
      "1 2389.42052379 delici\n",
      "1 2375.80330702 perfect\n",
      "1 2323.78249038 best\n",
      "1 1332.07445746 love\n",
      "1 1244.82913667 excel\n",
      "1 1015.93231255 tasti\n",
      "1 809.771239605 carri\n",
      "1 776.265706882 favorit\n",
      "1 759.309715496 nice\n"
     ]
    },
    {
     "data": {
      "image/png": "[encoded data removed]",
      "text/plain": [
       "<matplotlib.figure.Figure at 0x1b5176854e0>"
      ]
     },
     "metadata": {},
     "output_type": "display_data"
    },
    {
     "data": {
      "image/png": "[encoded data removed]",
      "text/plain": [
       "<matplotlib.figure.Figure at 0x1b51768c320>"
      ]
     },
     "metadata": {},
     "output_type": "display_data"
    }
   ],
   "source": [
    "# Create BOW and try grid search for logistic regreession with penalty l1 and l2\n",
    "tf_idf_vect = TfidfVectorizer()\n",
    "final_counts = tf_idf_vect.fit_transform(clean_data['CleanedText'].values)\n",
    "from sklearn.preprocessing import StandardScaler\n",
    "x=final_counts\n",
    "y =clean_data['Score']\n",
    "from sklearn.preprocessing import normalize\n",
    "x = normalize(x, norm='l1', axis=0)\n",
    "n=x.shape[0]\n",
    "n1=int(n*.3)\n",
    "from sklearn.preprocessing import label_binarize\n",
    "encoded_column_vector = label_binarize(y, classes=['negative','positive']) # negative will be 0 and positive will be 1\n",
    "encoded_labels = np.ravel(encoded_column_vector) # Reshape array\n",
    "y=encoded_labels\n",
    "y_test=y[0:n1]\n",
    "y_train=y[n1:n+1]\n",
    "X_test = x[0:n1,:]\n",
    "X_train= x[n1:n+1,:]\n",
    "y_test=y[0:n1]\n",
    "y_train=y[n1:n+1]\n",
    "print('size of X_train, X_test, y_train , y_test ',X_train.shape, X_test.shape,y_train.shape,y_test.shape)\n",
    "import warnings\n",
    "warnings.filterwarnings('ignore')\n",
    "from sklearn.model_selection import validation_curve\n",
    "C=[10**-3, 10**-2, 10**-1, 1,10]\n",
    "penalty=['l1', 'l2']\n",
    "tuned_parameters=dict(penalty=penalty,C=C)\n",
    "model = GridSearchCV(LogisticRegression(), tuned_parameters, scoring = 'f1', cv=5)\n",
    "model.fit(X_train, y_train)\n",
    "print('Best parameters \\n',model.best_estimator_)\n",
    "optimumc=model.best_estimator_.C\n",
    "optimumpenalty=model.best_estimator_.penalty\n",
    "#build model with best parameter\n",
    "model = LogisticRegression(C=optimumc,penalty=optimumpenalty)\n",
    "model.fit(X_train, y_train)\n",
    "bb=pd.DataFrame({'type':['Grid search TFIDF'],'train_score':[model.score(X_train,y_train)],'test_score':[model.score(X_test,y_test)],'C':[model.C],'penalty':[model.penalty]})\n",
    "aa=aa.append(bb)\n",
    "w = model.coef_\n",
    "print('Count of non zero element in coefficient',np.count_nonzero(w))\n",
    "print('Model train and test score C and penalty',model.score(X_train,y_train),model.score(X_test,y_test),model.C,model.penalty)\n",
    "# Random search \n",
    "from sklearn.model_selection import RandomizedSearchCV\n",
    "C=[10**-4, 10**-2, 10**0, 10**2, 10**4]\n",
    "penalty=['l1', 'l2']\n",
    "tuned_parameters=dict(C=C, penalty=penalty)\n",
    "model = RandomizedSearchCV(LogisticRegression(), tuned_parameters, random_state=1, scoring = 'f1', cv=5)\n",
    "model.fit(X_train, y_train)\n",
    "print('Model best extimator \\n',model.best_estimator_)\n",
    "optimumc=model.best_estimator_.C\n",
    "optimumpenalty=model.best_estimator_.penalty\n",
    "model = LogisticRegression(C=optimumc,penalty=optimumpenalty)\n",
    "model.fit(X_train, y_train)\n",
    "w = model.coef_\n",
    "print('Count of non zero element in coefficient',np.count_nonzero(w))\n",
    "print('Model train and test score C and penalty',model.score(X_train,y_train),model.score(X_test,y_test),model.C,model.penalty)\n",
    "bb=pd.DataFrame({'type':['Random search TFIDF'],'train_score':[model.score(X_train,y_train)],'test_score':[model.score(X_test,y_test)],'C':[model.C],'penalty':[model.penalty]})\n",
    "aa=aa.append(bb)\n",
    "print(aa)\n",
    "#try increasing lambda\n",
    "for i in [.001,.01,.1,1,10,100,1000,10000]:\n",
    "  model = LogisticRegression(C=i,penalty='l1')\n",
    "  model.fit(X_train, y_train)\n",
    "  w = model.coef_\n",
    "  print('Count of non zero, total element (l1), coefficient ( C or 1/lambda),train accuracy and test accuracy\\n',i,np.count_nonzero(w),np.shape(w),model.score(X_train, y_train),model.score(X_test, y_test))\n",
    "#See top features\n",
    "coefs = np.abs(model.coef_[0])\n",
    "indices = np.argsort(coefs)[::-1]\n",
    "model = LogisticRegression(C=optimumc,penalty=optimumpenalty)\n",
    "model.fit(X_train, y_train)\n",
    "print(\"Top 10 words for both review 0 negative 1 positive with weights\\n\")\n",
    "top_pos_fet,top_neg_fet=most_informative_feature_for_binary_classification(tf_idf_vect , model)\n",
    "#Check multicolinearity\n",
    "from scipy import *\n",
    "import random\n",
    "from scipy.sparse import *\n",
    "X_train.data += np.random.normal(0,.0001,X_train.data.shape[0])\n",
    "model = LogisticRegression(C=optimumc,penalty=optimumpenalty)\n",
    "model.fit(X_train, y_train)\n",
    "print(\"Top 10 words for both review 0 negative 1 positive with weights\\n\")\n",
    "top_pos_fet,top_neg_fet=most_informative_feature_for_binary_classification(tf_idf_vect, model)\n",
    "#plot training and cv error with c and l1\n",
    "C=[10**-2, 10**-1, 1,5,8,10]\n",
    "param_range=[10**-2, 10**-1, 1,5,8,10]\n",
    "train_scores, test_scores = validation_curve(LogisticRegression(penalty='l1'), X_train, y_train, param_name=\"C\",param_range=C,cv=5)\n",
    "train_scores_mean = np.mean(train_scores, axis=1)\n",
    "train_scores_std = np.std(train_scores, axis=1)\n",
    "test_scores_mean = np.mean(test_scores, axis=1)\n",
    "test_scores_std = np.std(test_scores, axis=1)\n",
    "plt.plot(param_range, train_scores_mean, label=\"Training score\", color=\"black\")\n",
    "plt.plot(param_range, test_scores_mean, label=\"Cross-validation score\", color=\"red\")\n",
    "plt.fill_between(param_range, train_scores_mean - train_scores_std, train_scores_mean + train_scores_std, color=\"gray\")\n",
    "plt.fill_between(param_range, test_scores_mean - test_scores_std, test_scores_mean + test_scores_std, color=\"green\")\n",
    "plt.title(\"Validation Curve With logistic regression for different C value\")\n",
    "plt.xlabel(\"C value\")\n",
    "plt.ylabel(\"Accuracy Score\")\n",
    "plt.xlim(.0001,10)\n",
    "plt.tight_layout()\n",
    "plt.legend(loc=\"best\")\n",
    "plt.show()\n",
    "#plot training and cv with c and l2\n",
    "C=[10**-2, 10**-1, 1,5,8,10]\n",
    "param_range=[10**-2, 10**-1, 1,5,8,10]\n",
    "train_scores, test_scores = validation_curve(LogisticRegression(penalty='l2'), X_train, y_train, param_name=\"C\",param_range=C,cv=5)\n",
    "train_scores_mean = np.mean(train_scores, axis=1)\n",
    "train_scores_std = np.std(train_scores, axis=1)\n",
    "test_scores_mean = np.mean(test_scores, axis=1)\n",
    "test_scores_std = np.std(test_scores, axis=1)\n",
    "plt.plot(param_range, train_scores_mean, label=\"Training score\", color=\"black\")\n",
    "plt.plot(param_range, test_scores_mean, label=\"Cross-validation score\", color=\"red\")\n",
    "#Plot accurancy bands for training and test sets\n",
    "plt.fill_between(param_range, train_scores_mean - train_scores_std, train_scores_mean + train_scores_std, color=\"gray\")\n",
    "plt.fill_between(param_range, test_scores_mean - test_scores_std, test_scores_mean + test_scores_std, color=\"green\")\n",
    "plt.title(\"Validation Curve With logistic regression for different C value\")\n",
    "plt.xlabel(\"C value\")\n",
    "plt.ylabel(\"Accuracy Score\")\n",
    "plt.xlim(.0001,10)\n",
    "plt.tight_layout()\n",
    "plt.legend(loc=\"best\")\n",
    "plt.show()\n"
   ]
  },
  {
   "cell_type": "code",
   "execution_count": null,
   "metadata": {
    "collapsed": true
   },
   "outputs": [],
   "source": []
  },
  {
   "cell_type": "markdown",
   "metadata": {},
   "source": [
    "# AVG W2V"
   ]
  },
  {
   "cell_type": "code",
   "execution_count": 58,
   "metadata": {},
   "outputs": [
    {
     "name": "stdout",
     "output_type": "stream",
     "text": [
      "size of X_train, X_test, y_train , y_test  (35000, 50) (15000, 50) (35000,) (15000,)\n",
      "Best parameters \n",
      " LogisticRegression(C=0.001, class_weight=None, dual=False, fit_intercept=True,\n",
      "          intercept_scaling=1, max_iter=100, multi_class='ovr', n_jobs=1,\n",
      "          penalty='l1', random_state=None, solver='liblinear', tol=0.0001,\n",
      "          verbose=0, warm_start=False)\n",
      "Count of non zero element in coefficient 0\n",
      "Model train and test score C and penalty 0.851142857143 0.8246 0.001 l1\n",
      "Model best extimator \n",
      " LogisticRegression(C=10000, class_weight=None, dual=False, fit_intercept=True,\n",
      "          intercept_scaling=1, max_iter=100, multi_class='ovr', n_jobs=1,\n",
      "          penalty='l1', random_state=None, solver='liblinear', tol=0.0001,\n",
      "          verbose=0, warm_start=False)\n",
      "Count of non zero element in coefficient 50\n",
      "Model train and test score C and penalty 0.892885714286 0.8832 10000 l1\n",
      "           C penalty  test_score  train_score                  type\n",
      "0     10.000      l1    0.838200     0.911971       Grid search BOW\n",
      "0    100.000      l1    0.863933     0.968943     Random search BOW\n",
      "0     10.000      l1    0.845133     0.921029     Grid search TFIDF\n",
      "0    100.000      l1    0.862733     0.975514   Random search TFIDF\n",
      "0      0.001      l1    0.824600     0.851143    Grid search AVGW2V\n",
      "0  10000.000      l1    0.883200     0.892886  Random search AVGW2V\n",
      "Count of non zero, total element (l1), coefficient ( C or 1/lambda),train accuracy and test accuracy\n",
      " 0.001 0 (1, 50) 0.851142857143 0.8246\n",
      "Count of non zero, total element (l1), coefficient ( C or 1/lambda),train accuracy and test accuracy\n",
      " 0.01 0 (1, 50) 0.851142857143 0.8246\n",
      "Count of non zero, total element (l1), coefficient ( C or 1/lambda),train accuracy and test accuracy\n",
      " 0.1 0 (1, 50) 0.851142857143 0.8246\n",
      "Count of non zero, total element (l1), coefficient ( C or 1/lambda),train accuracy and test accuracy\n",
      " 1 0 (1, 50) 0.851142857143 0.8246\n",
      "Count of non zero, total element (l1), coefficient ( C or 1/lambda),train accuracy and test accuracy\n",
      " 10 0 (1, 50) 0.851142857143 0.8246\n",
      "Count of non zero, total element (l1), coefficient ( C or 1/lambda),train accuracy and test accuracy\n",
      " 100 20 (1, 50) 0.874028571429 0.857733333333\n",
      "Count of non zero, total element (l1), coefficient ( C or 1/lambda),train accuracy and test accuracy\n",
      " 1000 47 (1, 50) 0.882285714286 0.868333333333\n",
      "Count of non zero, total element (l1), coefficient ( C or 1/lambda),train accuracy and test accuracy\n",
      " 10000 50 (1, 50) 0.886742857143 0.872533333333\n"
     ]
    },
    {
     "data": {
      "image/png": "[encoded data removed]",
      "text/plain": [
       "<matplotlib.figure.Figure at 0x1b52a51b630>"
      ]
     },
     "metadata": {},
     "output_type": "display_data"
    },
    {
     "data": {
      "image/png": "[encoded data removed]",
      "text/plain": [
       "<matplotlib.figure.Figure at 0x1b658f710f0>"
      ]
     },
     "metadata": {},
     "output_type": "display_data"
    }
   ],
   "source": [
    "#ignore warning\n",
    "import warnings\n",
    "warnings.filterwarnings('ignore')\n",
    "\n",
    "\n",
    "from gensim.models import Word2Vec\n",
    "from gensim.models import KeyedVectors\n",
    "import pickle\n",
    "model = KeyedVectors.load_word2vec_format('GoogleNews-vectors-negative300.bin.gz', binary=True)\n",
    "import gensim\n",
    "i=0\n",
    "#create a list of list to be used in W2V \n",
    "list_of_sent=[]\n",
    "for sent in clean_data['CleanedText'].values:\n",
    "    filtered_sentence=[]\n",
    "    #sent=cleanhtml(sent)\n",
    "    for w in sent.split():\n",
    "        #for cleaned_words in cleanpunc(w).split():\n",
    "         for cleaned_words in w.split():\n",
    "            if(cleaned_words.isalpha()):    \n",
    "                filtered_sentence.append(cleaned_words.lower().decode('utf8'))\n",
    "            else:\n",
    "                continue \n",
    "    list_of_sent.append(filtered_sentence)\n",
    "#convert each sentence's words to a vector of 50 dimension. Dont construct vec if word doesnot occur 5 times. And for each word construct 50 dimension vector\n",
    "#and 4 core processor\n",
    "w2v_model=gensim.models.Word2Vec(list_of_sent,min_count=5,size=50, workers=4)   \n",
    "\n",
    "# average Word2Vec\n",
    "# for each sentence make average of vectors by (vectors of each words)/(total no of words)\n",
    "# compute average word2vec for each review.\n",
    "sent_vectors = []; # the avg-w2v for each sentence/review is stored in this list\n",
    "for sent in list_of_sent: # for each review/sentence\n",
    "    sent_vec = np.zeros(50) # as word vectors are of zero length\n",
    "    cnt_words =0; # num of words with a valid vector in the sentence/review\n",
    "    for word in sent: # for each word in a review/sentence\n",
    "        try:\n",
    "            vec = w2v_model.wv[word]\n",
    "            sent_vec += vec\n",
    "            cnt_words += 1\n",
    "        except:\n",
    "            pass\n",
    "    sent_vec /= cnt_words\n",
    "    sent_vectors.append(sent_vec)  \n",
    "\n",
    "#Sent_vectors ready for tsne   \n",
    "\n",
    "\n",
    "\n",
    "x=sent_vectors\n",
    "y =clean_data['Score']\n",
    "from sklearn.preprocessing import normalize\n",
    "x = normalize(x, norm='l1', axis=0)\n",
    "n=x.shape[0]\n",
    "n1=int(n*.3)\n",
    "from sklearn.preprocessing import label_binarize\n",
    "encoded_column_vector = label_binarize(y, classes=['negative','positive']) # negative will be 0 and positive will be 1\n",
    "encoded_labels = np.ravel(encoded_column_vector) # Reshape array\n",
    "y=encoded_labels\n",
    "y_test=y[0:n1]\n",
    "y_train=y[n1:n+1]\n",
    "X_test = x[0:n1,:]\n",
    "X_train= x[n1:n+1,:]\n",
    "y_test=y[0:n1]\n",
    "y_train=y[n1:n+1]\n",
    "print('size of X_train, X_test, y_train , y_test ',X_train.shape, X_test.shape,y_train.shape,y_test.shape)\n",
    "import warnings\n",
    "warnings.filterwarnings('ignore')\n",
    "from sklearn.model_selection import validation_curve\n",
    "C=[10**-3, 10**-2, 10**-1, 1,10]\n",
    "penalty=['l1', 'l2']\n",
    "tuned_parameters=dict(penalty=penalty,C=C)\n",
    "model = GridSearchCV(LogisticRegression(), tuned_parameters, scoring = 'f1', cv=5)\n",
    "model.fit(X_train, y_train)\n",
    "print('Best parameters \\n',model.best_estimator_)\n",
    "optimumc=model.best_estimator_.C\n",
    "optimumpenalty=model.best_estimator_.penalty\n",
    "#build model with best parameter\n",
    "model = LogisticRegression(C=optimumc,penalty=optimumpenalty)\n",
    "model.fit(X_train, y_train)\n",
    "bb=pd.DataFrame({'type':['Grid search AVGW2V'],'train_score':[model.score(X_train,y_train)],'test_score':[model.score(X_test,y_test)],'C':[model.C],'penalty':[model.penalty]})\n",
    "aa=aa.append(bb)\n",
    "w = model.coef_\n",
    "print('Count of non zero element in coefficient',np.count_nonzero(w))\n",
    "print('Model train and test score C and penalty',model.score(X_train,y_train),model.score(X_test,y_test),model.C,model.penalty)\n",
    "# Random search \n",
    "from sklearn.model_selection import RandomizedSearchCV\n",
    "C=[10**-4, 10**-2, 10**0, 10**2, 10**4]\n",
    "penalty=['l1', 'l2']\n",
    "tuned_parameters=dict(C=C, penalty=penalty)\n",
    "model = RandomizedSearchCV(LogisticRegression(), tuned_parameters, random_state=1, scoring = 'f1', cv=5)\n",
    "model.fit(X_train, y_train)\n",
    "print('Model best extimator \\n',model.best_estimator_)\n",
    "optimumc=model.best_estimator_.C\n",
    "optimumpenalty=model.best_estimator_.penalty\n",
    "model = LogisticRegression(C=optimumc,penalty=optimumpenalty)\n",
    "model.fit(X_train, y_train)\n",
    "w = model.coef_\n",
    "print('Count of non zero element in coefficient',np.count_nonzero(w))\n",
    "print('Model train and test score C and penalty',model.score(X_train,y_train),model.score(X_test,y_test),model.C,model.penalty)\n",
    "bb=pd.DataFrame({'type':['Random search AVGW2V'],'train_score':[model.score(X_train,y_train)],'test_score':[model.score(X_test,y_test)],'C':[model.C],'penalty':[model.penalty]})\n",
    "aa=aa.append(bb)\n",
    "print(aa)\n",
    "#try increasing lambda\n",
    "for i in [.001,.01,.1,1,10,100,1000,10000]:\n",
    "  model = LogisticRegression(C=i,penalty='l1')\n",
    "  model.fit(X_train, y_train)\n",
    "  w = model.coef_\n",
    "  print('Count of non zero, total element (l1), coefficient ( C or 1/lambda),train accuracy and test accuracy\\n',i,np.count_nonzero(w),np.shape(w),model.score(X_train, y_train),model.score(X_test, y_test))\n",
    "#See top features\n",
    "coefs = np.abs(model.coef_[0])\n",
    "indices = np.argsort(coefs)[::-1]\n",
    "model = LogisticRegression(C=optimumc,penalty=optimumpenalty)\n",
    "model.fit(X_train, y_train)\n",
    "#print(\"Top 10 words for both review 0 negative 1 positive with weights\\n\")\n",
    "#top_pos_fet,top_neg_fet=most_informative_feature_for_binary_classification(sent_vectors.toarray() , model)\n",
    "#Check multicolinearity\n",
    "from scipy import *\n",
    "import random\n",
    "from scipy.sparse import *\n",
    "#X_train.data += np.random.normal(0,.0001,X_train.data.shape[0])\n",
    "#model = LogisticRegression(C=optimumc,penalty=optimumpenalty)\n",
    "#model.fit(X_train, y_train)\n",
    "#print(\"Top 10 words for both review 0 negative 1 positive with weights\\n\")\n",
    "#top_pos_fet,top_neg_fet=most_informative_feature_for_binary_classification(sent_vectors.toarray(), model)\n",
    "#plot training and cv error with c and l1\n",
    "C=[10**-2, 10**-1, 1,5,8,10]\n",
    "param_range=[10**-2, 10**-1, 1,5,8,10]\n",
    "train_scores, test_scores = validation_curve(LogisticRegression(penalty='l1'), X_train, y_train, param_name=\"C\",param_range=C,cv=5)\n",
    "train_scores_mean = np.mean(train_scores, axis=1)\n",
    "train_scores_std = np.std(train_scores, axis=1)\n",
    "test_scores_mean = np.mean(test_scores, axis=1)\n",
    "test_scores_std = np.std(test_scores, axis=1)\n",
    "plt.plot(param_range, train_scores_mean, label=\"Training score\", color=\"black\")\n",
    "plt.plot(param_range, test_scores_mean, label=\"Cross-validation score\", color=\"red\")\n",
    "plt.fill_between(param_range, train_scores_mean - train_scores_std, train_scores_mean + train_scores_std, color=\"gray\")\n",
    "plt.fill_between(param_range, test_scores_mean - test_scores_std, test_scores_mean + test_scores_std, color=\"green\")\n",
    "plt.title(\"Validation Curve With logistic regression for different C value\")\n",
    "plt.xlabel(\"C value\")\n",
    "plt.ylabel(\"Accuracy Score\")\n",
    "plt.xlim(.0001,10)\n",
    "plt.tight_layout()\n",
    "plt.legend(loc=\"best\")\n",
    "plt.show()\n",
    "#plot training and cv with c and l2\n",
    "C=[10**-2, 10**-1, 1,5,8,10]\n",
    "param_range=[10**-2, 10**-1, 1,5,8,10]\n",
    "train_scores, test_scores = validation_curve(LogisticRegression(penalty='l2'), X_train, y_train, param_name=\"C\",param_range=C,cv=5)\n",
    "train_scores_mean = np.mean(train_scores, axis=1)\n",
    "train_scores_std = np.std(train_scores, axis=1)\n",
    "test_scores_mean = np.mean(test_scores, axis=1)\n",
    "test_scores_std = np.std(test_scores, axis=1)\n",
    "plt.plot(param_range, train_scores_mean, label=\"Training score\", color=\"black\")\n",
    "plt.plot(param_range, test_scores_mean, label=\"Cross-validation score\", color=\"red\")\n",
    "#Plot accurancy bands for training and test sets\n",
    "plt.fill_between(param_range, train_scores_mean - train_scores_std, train_scores_mean + train_scores_std, color=\"gray\")\n",
    "plt.fill_between(param_range, test_scores_mean - test_scores_std, test_scores_mean + test_scores_std, color=\"green\")\n",
    "plt.title(\"Validation Curve With logistic regression for different C value\")\n",
    "plt.xlabel(\"C value\")\n",
    "plt.ylabel(\"Accuracy Score\")\n",
    "plt.xlim(.0001,10)\n",
    "plt.tight_layout()\n",
    "plt.legend(loc=\"best\")\n",
    "plt.show()\n"
   ]
  },
  {
   "cell_type": "code",
   "execution_count": null,
   "metadata": {
    "collapsed": true
   },
   "outputs": [],
   "source": []
  },
  {
   "cell_type": "code",
   "execution_count": null,
   "metadata": {
    "collapsed": true
   },
   "outputs": [],
   "source": []
  },
  {
   "cell_type": "markdown",
   "metadata": {},
   "source": [
    "# TFIDF AVGW2V"
   ]
  },
  {
   "cell_type": "code",
   "execution_count": 61,
   "metadata": {},
   "outputs": [
    {
     "name": "stdout",
     "output_type": "stream",
     "text": [
      "size of X_train, X_test, y_train , y_test  (35000, 50) (15000, 50) (35000,) (15000,)\n",
      "Best parameters \n",
      " LogisticRegression(C=0.001, class_weight=None, dual=False, fit_intercept=True,\n",
      "          intercept_scaling=1, max_iter=100, multi_class='ovr', n_jobs=1,\n",
      "          penalty='l1', random_state=None, solver='liblinear', tol=0.0001,\n",
      "          verbose=0, warm_start=False)\n",
      "Count of non zero element in coefficient 0\n",
      "Model train and test score C and penalty 0.851142857143 0.8246 0.001 l1\n",
      "Model best extimator \n",
      " LogisticRegression(C=10000, class_weight=None, dual=False, fit_intercept=True,\n",
      "          intercept_scaling=1, max_iter=100, multi_class='ovr', n_jobs=1,\n",
      "          penalty='l1', random_state=None, solver='liblinear', tol=0.0001,\n",
      "          verbose=0, warm_start=False)\n",
      "Count of non zero element in coefficient 50\n",
      "Model train and test score C and penalty 0.880971428571 0.869 10000 l1\n",
      "           C penalty  test_score  train_score                       type\n",
      "0     10.000      l1    0.838200     0.911971            Grid search BOW\n",
      "0    100.000      l1    0.863933     0.968943          Random search BOW\n",
      "0     10.000      l1    0.845133     0.921029          Grid search TFIDF\n",
      "0    100.000      l1    0.862733     0.975514        Random search TFIDF\n",
      "0      0.001      l1    0.824600     0.851143         Grid search AVGW2V\n",
      "0  10000.000      l1    0.883200     0.892886       Random search AVGW2V\n",
      "0      0.001      l1    0.824600     0.851143    Grid search AVGW2VTFIDF\n",
      "0  10000.000      l1    0.868867     0.880971  Random search AVGW2VTFIDF\n",
      "0      0.001      l1    0.824600     0.851143    Grid search AVGW2VTFIDF\n",
      "0  10000.000      l1    0.869000     0.880971  Random search AVGW2VTFIDF\n",
      "Count of non zero, total element (l1), coefficient ( C or 1/lambda),train accuracy and test accuracy\n",
      " 0.001 0 (1, 50) 0.851142857143 0.8246\n",
      "Count of non zero, total element (l1), coefficient ( C or 1/lambda),train accuracy and test accuracy\n",
      " 0.01 0 (1, 50) 0.851142857143 0.8246\n",
      "Count of non zero, total element (l1), coefficient ( C or 1/lambda),train accuracy and test accuracy\n",
      " 0.1 0 (1, 50) 0.851142857143 0.8246\n",
      "Count of non zero, total element (l1), coefficient ( C or 1/lambda),train accuracy and test accuracy\n",
      " 1 0 (1, 50) 0.851142857143 0.8246\n",
      "Count of non zero, total element (l1), coefficient ( C or 1/lambda),train accuracy and test accuracy\n",
      " 10 0 (1, 50) 0.851142857143 0.8246\n",
      "Count of non zero, total element (l1), coefficient ( C or 1/lambda),train accuracy and test accuracy\n",
      " 100 21 (1, 50) 0.862771428571 0.839666666667\n",
      "Count of non zero, total element (l1), coefficient ( C or 1/lambda),train accuracy and test accuracy\n",
      " 1000 44 (1, 50) 0.8788 0.864333333333\n",
      "Count of non zero, total element (l1), coefficient ( C or 1/lambda),train accuracy and test accuracy\n",
      " 10000 50 (1, 50) 0.874257142857 0.8594\n",
      "Top 10 words for both review 0 negative 1 positive with weights\n",
      "\n",
      "0 -44148.6776947 abject\n",
      "0 -34912.5191701 abd\n",
      "0 -24886.6383054 aberr\n",
      "0 -24850.9542093 abiet\n",
      "0 -24687.0231284 abit\n",
      "0 -18365.4512478 aboard\n",
      "0 -18005.3536612 abl\n",
      "0 -16383.2147701 abandn\n",
      "0 -13020.5610446 abomin\n",
      "0 -12862.4413119 abid\n",
      "\n",
      "\n",
      "1 26703.0402706 aaaah\n",
      "1 26233.433247 abil\n",
      "1 23400.7809441 aback\n",
      "1 19917.4485339 abhor\n",
      "1 17978.3121422 abhorr\n",
      "1 16205.5972376 abot\n",
      "1 14013.4267517 abnormalitywith\n",
      "1 12715.6304794 aauc\n",
      "1 11132.174957 aboslut\n",
      "1 8965.68548098 abdomen\n"
     ]
    },
    {
     "data": {
      "image/png": "[encoded data removed]",
      "text/plain": [
       "<matplotlib.figure.Figure at 0x1b52deb72b0>"
      ]
     },
     "metadata": {},
     "output_type": "display_data"
    },
    {
     "data": {
      "image/png": "[encoded data removed]",
      "text/plain": [
       "<matplotlib.figure.Figure at 0x1b52135e550>"
      ]
     },
     "metadata": {},
     "output_type": "display_data"
    }
   ],
   "source": [
    "tf_idf_vect = TfidfVectorizer()\n",
    "final_tf_idf=tf_idf_vect.fit_transform(clean_data['CleanedText'].values)\n",
    "tfidf_feat = tf_idf_vect.get_feature_names() # tfidf words/col-names\n",
    "# final_tf_idf is the sparse matrix with row= sentence, col=word and cell_val = tfidf\n",
    "\n",
    "tfidf_sent_vectors = []; # the tfidf-w2v for each sentence/review is stored in this list\n",
    "row=0;\n",
    "#calculate avg tfidf score for each sentences \n",
    "for sent in list_of_sent: # for each review/sentence\n",
    "    sent_vec = np.zeros(50) # as word vectors are of zero length\n",
    "    weight_sum =0; # num of words with a valid vector in the sentence/review\n",
    "    for word in sent: # for each word in a review/sentence\n",
    "        try:\n",
    "            vec = w2v_model.wv[word]#calculate w2v for each word\n",
    "            # obtain the tf_idfidf of a word in a sentence/review\n",
    "            tf_idf = final_tf_idf[row, tfidf_feat.index(word)]#get tfidf score of each word \n",
    "            sent_vec += (vec * tf_idf) # multiply vec with tfidf of each word and cumulative add of words in each sentence\n",
    "            weight_sum += tf_idf # also add tfidf sums in each sentence\n",
    "        except:\n",
    "            pass\n",
    "    sent_vec /= weight_sum\n",
    "    tfidf_sent_vectors.append(sent_vec)\n",
    "    row += 1\n",
    "#tfidf_sent_vectors.\n",
    "\n",
    "\n",
    "x=tfidf_sent_vectors\n",
    "y =clean_data['Score']\n",
    "from sklearn.preprocessing import normalize\n",
    "x = normalize(x, norm='l1', axis=0)\n",
    "n=x.shape[0]\n",
    "n1=int(n*.3)\n",
    "from sklearn.preprocessing import label_binarize\n",
    "encoded_column_vector = label_binarize(y, classes=['negative','positive']) # negative will be 0 and positive will be 1\n",
    "encoded_labels = np.ravel(encoded_column_vector) # Reshape array\n",
    "y=encoded_labels\n",
    "y_test=y[0:n1]\n",
    "y_train=y[n1:n+1]\n",
    "X_test = x[0:n1,:]\n",
    "X_train= x[n1:n+1,:]\n",
    "y_test=y[0:n1]\n",
    "y_train=y[n1:n+1]\n",
    "print('size of X_train, X_test, y_train , y_test ',X_train.shape, X_test.shape,y_train.shape,y_test.shape)\n",
    "import warnings\n",
    "warnings.filterwarnings('ignore')\n",
    "from sklearn.model_selection import validation_curve\n",
    "C=[10**-3, 10**-2, 10**-1, 1,10]\n",
    "penalty=['l1', 'l2']\n",
    "tuned_parameters=dict(penalty=penalty,C=C)\n",
    "model = GridSearchCV(LogisticRegression(), tuned_parameters, scoring = 'f1', cv=5)\n",
    "model.fit(X_train, y_train)\n",
    "print('Best parameters \\n',model.best_estimator_)\n",
    "optimumc=model.best_estimator_.C\n",
    "optimumpenalty=model.best_estimator_.penalty\n",
    "#build model with best parameter\n",
    "model = LogisticRegression(C=optimumc,penalty=optimumpenalty)\n",
    "model.fit(X_train, y_train)\n",
    "bb=pd.DataFrame({'type':['Grid search AVGW2VTFIDF'],'train_score':[model.score(X_train,y_train)],'test_score':[model.score(X_test,y_test)],'C':[model.C],'penalty':[model.penalty]})\n",
    "aa=aa.append(bb)\n",
    "w = model.coef_\n",
    "print('Count of non zero element in coefficient',np.count_nonzero(w))\n",
    "print('Model train and test score C and penalty',model.score(X_train,y_train),model.score(X_test,y_test),model.C,model.penalty)\n",
    "# Random search \n",
    "from sklearn.model_selection import RandomizedSearchCV\n",
    "C=[10**-4, 10**-2, 10**0, 10**2, 10**4]\n",
    "penalty=['l1', 'l2']\n",
    "tuned_parameters=dict(C=C, penalty=penalty)\n",
    "model = RandomizedSearchCV(LogisticRegression(), tuned_parameters, random_state=1, scoring = 'f1', cv=5)\n",
    "model.fit(X_train, y_train)\n",
    "print('Model best extimator \\n',model.best_estimator_)\n",
    "optimumc=model.best_estimator_.C\n",
    "optimumpenalty=model.best_estimator_.penalty\n",
    "model = LogisticRegression(C=optimumc,penalty=optimumpenalty)\n",
    "model.fit(X_train, y_train)\n",
    "w = model.coef_\n",
    "print('Count of non zero element in coefficient',np.count_nonzero(w))\n",
    "print('Model train and test score C and penalty',model.score(X_train,y_train),model.score(X_test,y_test),model.C,model.penalty)\n",
    "bb=pd.DataFrame({'type':['Random search AVGW2VTFIDF'],'train_score':[model.score(X_train,y_train)],'test_score':[model.score(X_test,y_test)],'C':[model.C],'penalty':[model.penalty]})\n",
    "aa=aa.append(bb)\n",
    "print(aa)\n",
    "#try increasing lambda\n",
    "for i in [.001,.01,.1,1,10,100,1000,10000]:\n",
    "  model = LogisticRegression(C=i,penalty='l1')\n",
    "  model.fit(X_train, y_train)\n",
    "  w = model.coef_\n",
    "  print('Count of non zero, total element (l1), coefficient ( C or 1/lambda),train accuracy and test accuracy\\n',i,np.count_nonzero(w),np.shape(w),model.score(X_train, y_train),model.score(X_test, y_test))\n",
    "#See top features\n",
    "coefs = np.abs(model.coef_[0])\n",
    "indices = np.argsort(coefs)[::-1]\n",
    "model = LogisticRegression(C=optimumc,penalty=optimumpenalty)\n",
    "model.fit(X_train, y_train)\n",
    "print(\"Top 10 words for both review 0 negative 1 positive with weights\\n\")\n",
    "top_pos_fet,top_neg_fet=most_informative_feature_for_binary_classification(tf_idf_vect , model)\n",
    "#Check multicolinearity\n",
    "from scipy import *\n",
    "import random\n",
    "from scipy.sparse import *\n",
    "#X_train.data += np.random.normal(0,.0001,X_train.data.shape[0])\n",
    "#model = LogisticRegression(C=optimumc,penalty=optimumpenalty)\n",
    "#model.fit(X_train, y_train)\n",
    "#print(\"Top 10 words for both review 0 negative 1 positive with weights\\n\")\n",
    "#top_pos_fet,top_neg_fet=most_informative_feature_for_binary_classification(tf_idf_vect, model)\n",
    "#plot training and cv error with c and l1\n",
    "C=[10**-2, 10**-1, 1,5,8,10]\n",
    "param_range=[10**-2, 10**-1, 1,5,8,10]\n",
    "train_scores, test_scores = validation_curve(LogisticRegression(penalty='l1'), X_train, y_train, param_name=\"C\",param_range=C,cv=5)\n",
    "train_scores_mean = np.mean(train_scores, axis=1)\n",
    "train_scores_std = np.std(train_scores, axis=1)\n",
    "test_scores_mean = np.mean(test_scores, axis=1)\n",
    "test_scores_std = np.std(test_scores, axis=1)\n",
    "plt.plot(param_range, train_scores_mean, label=\"Training score\", color=\"black\")\n",
    "plt.plot(param_range, test_scores_mean, label=\"Cross-validation score\", color=\"red\")\n",
    "plt.fill_between(param_range, train_scores_mean - train_scores_std, train_scores_mean + train_scores_std, color=\"gray\")\n",
    "plt.fill_between(param_range, test_scores_mean - test_scores_std, test_scores_mean + test_scores_std, color=\"green\")\n",
    "plt.title(\"Validation Curve With logistic regression for different C value\")\n",
    "plt.xlabel(\"C value\")\n",
    "plt.ylabel(\"Accuracy Score\")\n",
    "plt.xlim(.0001,10000)\n",
    "plt.tight_layout()\n",
    "plt.legend(loc=\"best\")\n",
    "plt.show()\n",
    "#plot training and cv with c and l2\n",
    "C=[10**-2, 10**-1, 1,5,8,10]\n",
    "param_range=[10**-2, 10**-1, 1,5,8,10]\n",
    "train_scores, test_scores = validation_curve(LogisticRegression(penalty='l2'), X_train, y_train, param_name=\"C\",param_range=C,cv=5)\n",
    "train_scores_mean = np.mean(train_scores, axis=1)\n",
    "train_scores_std = np.std(train_scores, axis=1)\n",
    "test_scores_mean = np.mean(test_scores, axis=1)\n",
    "test_scores_std = np.std(test_scores, axis=1)\n",
    "plt.plot(param_range, train_scores_mean, label=\"Training score\", color=\"black\")\n",
    "plt.plot(param_range, test_scores_mean, label=\"Cross-validation score\", color=\"red\")\n",
    "#Plot accurancy bands for training and test sets\n",
    "plt.fill_between(param_range, train_scores_mean - train_scores_std, train_scores_mean + train_scores_std, color=\"gray\")\n",
    "plt.fill_between(param_range, test_scores_mean - test_scores_std, test_scores_mean + test_scores_std, color=\"green\")\n",
    "plt.title(\"Validation Curve With logistic regression for different C value\")\n",
    "plt.xlabel(\"C value\")\n",
    "plt.ylabel(\"Accuracy Score\")\n",
    "plt.xlim(.0001,10000)\n",
    "plt.tight_layout()\n",
    "plt.legend(loc=\"best\")\n",
    "plt.show()\n"
   ]
  },
  {
   "cell_type": "code",
   "execution_count": null,
   "metadata": {
    "collapsed": true
   },
   "outputs": [],
   "source": []
  },
  {
   "cell_type": "code",
   "execution_count": null,
   "metadata": {
    "collapsed": true
   },
   "outputs": [],
   "source": []
  },
  {
   "cell_type": "code",
   "execution_count": null,
   "metadata": {
    "collapsed": true
   },
   "outputs": [],
   "source": []
  },
  {
   "cell_type": "code",
   "execution_count": null,
   "metadata": {
    "collapsed": true
   },
   "outputs": [],
   "source": []
  },
  {
   "cell_type": "code",
   "execution_count": null,
   "metadata": {
    "collapsed": true
   },
   "outputs": [],
   "source": []
  },
  {
   "cell_type": "code",
   "execution_count": null,
   "metadata": {
    "collapsed": true
   },
   "outputs": [],
   "source": []
  },
  {
   "cell_type": "markdown",
   "metadata": {},
   "source": [
    "# Conclusion\n",
    "\n",
    "1. Increasing C\n",
    "We can see as C decreases i.e. lambda increases more coefficients are getting 0 and test accuracy increases when C too low accuracy decreases again\n",
    "\n",
    "3. Multicolinearity\n",
    "After adding some noise on data the weights are almost same so multicolinearity doesnot exist\n",
    "\n",
    "4. The most important words for positive and negatives are making sense\n",
    "Accuracy scores are below\n"
   ]
  },
  {
   "cell_type": "code",
   "execution_count": 64,
   "metadata": {},
   "outputs": [
    {
     "data": {
      "text/html": [
       "<div>\n",
       "<style>\n",
       "    .dataframe thead tr:only-child th {\n",
       "        text-align: right;\n",
       "    }\n",
       "\n",
       "    .dataframe thead th {\n",
       "        text-align: left;\n",
       "    }\n",
       "\n",
       "    .dataframe tbody tr th {\n",
       "        vertical-align: top;\n",
       "    }\n",
       "</style>\n",
       "<table border=\"1\" class=\"dataframe\">\n",
       "  <thead>\n",
       "    <tr style=\"text-align: right;\">\n",
       "      <th></th>\n",
       "      <th>C</th>\n",
       "      <th>penalty</th>\n",
       "      <th>test_score</th>\n",
       "      <th>train_score</th>\n",
       "      <th>type</th>\n",
       "    </tr>\n",
       "  </thead>\n",
       "  <tbody>\n",
       "    <tr>\n",
       "      <th>0</th>\n",
       "      <td>10.000</td>\n",
       "      <td>l1</td>\n",
       "      <td>0.838200</td>\n",
       "      <td>0.911971</td>\n",
       "      <td>Grid search BOW</td>\n",
       "    </tr>\n",
       "    <tr>\n",
       "      <th>0</th>\n",
       "      <td>100.000</td>\n",
       "      <td>l1</td>\n",
       "      <td>0.863933</td>\n",
       "      <td>0.968943</td>\n",
       "      <td>Random search BOW</td>\n",
       "    </tr>\n",
       "    <tr>\n",
       "      <th>0</th>\n",
       "      <td>10.000</td>\n",
       "      <td>l1</td>\n",
       "      <td>0.845133</td>\n",
       "      <td>0.921029</td>\n",
       "      <td>Grid search TFIDF</td>\n",
       "    </tr>\n",
       "    <tr>\n",
       "      <th>0</th>\n",
       "      <td>100.000</td>\n",
       "      <td>l1</td>\n",
       "      <td>0.862733</td>\n",
       "      <td>0.975514</td>\n",
       "      <td>Random search TFIDF</td>\n",
       "    </tr>\n",
       "    <tr>\n",
       "      <th>0</th>\n",
       "      <td>0.001</td>\n",
       "      <td>l1</td>\n",
       "      <td>0.824600</td>\n",
       "      <td>0.851143</td>\n",
       "      <td>Grid search AVGW2V</td>\n",
       "    </tr>\n",
       "    <tr>\n",
       "      <th>0</th>\n",
       "      <td>10000.000</td>\n",
       "      <td>l1</td>\n",
       "      <td>0.883200</td>\n",
       "      <td>0.892886</td>\n",
       "      <td>Random search AVGW2V</td>\n",
       "    </tr>\n",
       "    <tr>\n",
       "      <th>0</th>\n",
       "      <td>0.001</td>\n",
       "      <td>l1</td>\n",
       "      <td>0.824600</td>\n",
       "      <td>0.851143</td>\n",
       "      <td>Grid search AVGW2VTFIDF</td>\n",
       "    </tr>\n",
       "    <tr>\n",
       "      <th>0</th>\n",
       "      <td>10000.000</td>\n",
       "      <td>l1</td>\n",
       "      <td>0.868867</td>\n",
       "      <td>0.880971</td>\n",
       "      <td>Random search AVGW2VTFIDF</td>\n",
       "    </tr>\n",
       "  </tbody>\n",
       "</table>\n",
       "</div>"
      ],
      "text/plain": [
       "           C penalty  test_score  train_score                       type\n",
       "0     10.000      l1    0.838200     0.911971            Grid search BOW\n",
       "0    100.000      l1    0.863933     0.968943          Random search BOW\n",
       "0     10.000      l1    0.845133     0.921029          Grid search TFIDF\n",
       "0    100.000      l1    0.862733     0.975514        Random search TFIDF\n",
       "0      0.001      l1    0.824600     0.851143         Grid search AVGW2V\n",
       "0  10000.000      l1    0.883200     0.892886       Random search AVGW2V\n",
       "0      0.001      l1    0.824600     0.851143    Grid search AVGW2VTFIDF\n",
       "0  10000.000      l1    0.868867     0.880971  Random search AVGW2VTFIDF"
      ]
     },
     "execution_count": 64,
     "metadata": {},
     "output_type": "execute_result"
    }
   ],
   "source": [
    "aa"
   ]
  },
  {
   "cell_type": "code",
   "execution_count": 63,
   "metadata": {},
   "outputs": [],
   "source": []
  },
  {
   "cell_type": "code",
   "execution_count": null,
   "metadata": {
    "collapsed": true
   },
   "outputs": [],
   "source": []
  },
  {
   "cell_type": "code",
   "execution_count": null,
   "metadata": {
    "collapsed": true
   },
   "outputs": [],
   "source": []
  },
  {
   "cell_type": "code",
   "execution_count": null,
   "metadata": {
    "collapsed": true
   },
   "outputs": [],
   "source": []
  },
  {
   "cell_type": "code",
   "execution_count": null,
   "metadata": {
    "collapsed": true
   },
   "outputs": [],
   "source": []
  },
  {
   "cell_type": "code",
   "execution_count": null,
   "metadata": {
    "collapsed": true
   },
   "outputs": [],
   "source": []
  },
  {
   "cell_type": "code",
   "execution_count": null,
   "metadata": {
    "collapsed": true
   },
   "outputs": [],
   "source": []
  },
  {
   "cell_type": "code",
   "execution_count": null,
   "metadata": {
    "collapsed": true
   },
   "outputs": [],
   "source": []
  },
  {
   "cell_type": "code",
   "execution_count": null,
   "metadata": {
    "collapsed": true
   },
   "outputs": [],
   "source": []
  },
  {
   "cell_type": "code",
   "execution_count": null,
   "metadata": {
    "collapsed": true
   },
   "outputs": [],
   "source": []
  },
  {
   "cell_type": "code",
   "execution_count": null,
   "metadata": {
    "collapsed": true
   },
   "outputs": [],
   "source": []
  },
  {
   "cell_type": "code",
   "execution_count": null,
   "metadata": {
    "collapsed": true
   },
   "outputs": [],
   "source": []
  },
  {
   "cell_type": "code",
   "execution_count": null,
   "metadata": {
    "collapsed": true
   },
   "outputs": [],
   "source": []
  },
  {
   "cell_type": "code",
   "execution_count": null,
   "metadata": {
    "collapsed": true
   },
   "outputs": [],
   "source": []
  },
  {
   "cell_type": "code",
   "execution_count": null,
   "metadata": {
    "collapsed": true
   },
   "outputs": [],
   "source": []
  },
  {
   "cell_type": "code",
   "execution_count": null,
   "metadata": {
    "collapsed": true
   },
   "outputs": [],
   "source": []
  },
  {
   "cell_type": "code",
   "execution_count": null,
   "metadata": {
    "collapsed": true
   },
   "outputs": [],
   "source": []
  },
  {
   "cell_type": "code",
   "execution_count": null,
   "metadata": {
    "collapsed": true
   },
   "outputs": [],
   "source": []
  },
  {
   "cell_type": "code",
   "execution_count": null,
   "metadata": {
    "collapsed": true
   },
   "outputs": [],
   "source": []
  }
 ],
 "metadata": {
  "kernelspec": {
   "display_name": "Python 3",
   "language": "python",
   "name": "python3"
  },
  "language_info": {
   "codemirror_mode": {
    "name": "ipython",
    "version": 3
   },
   "file_extension": ".py",
   "mimetype": "text/x-python",
   "name": "python",
   "nbconvert_exporter": "python",
   "pygments_lexer": "ipython3",
   "version": "3.6.1"
  }
 },
 "nbformat": 4,
 "nbformat_minor": 2
}
