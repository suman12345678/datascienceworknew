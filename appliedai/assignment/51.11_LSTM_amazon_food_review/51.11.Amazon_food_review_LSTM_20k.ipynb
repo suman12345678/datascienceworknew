{
 "cells": [
  {
   "cell_type": "markdown",
   "metadata": {},
   "source": [
    "# Amazon food review dataset apply LSTM\n",
    "\n",
    "Data set from https://www.kaggle.com/snap/amazon-fine-food-reviews\n",
    "\n",
    "\n",
    "# Objective\n",
    "1. Create vocabulary, get frequancy then index data convert data into imdb dataset format\n",
    "2. Run LSTM and report accuracy for 10 epoch, try 2 layer of lstm(add one more layer with imdb)\n",
    "\n",
    "# Import data and libraries\n",
    " "
   ]
  },
  {
   "cell_type": "code",
   "execution_count": 200,
   "metadata": {},
   "outputs": [],
   "source": [
    "from sklearn.manifold import TSNE\n",
    "import sqlite3\n",
    "import pandas as pd\n",
    "import numpy as np\n",
    "import nltk\n",
    "import string\n",
    "import matplotlib.pyplot as plt\n",
    "import seaborn as sns\n",
    "from sklearn.feature_extraction.text import TfidfTransformer\n",
    "from sklearn.feature_extraction.text import TfidfVectorizer\n",
    "from sklearn.feature_extraction.text import CountVectorizer\n",
    "from sklearn.metrics import confusion_matrix\n",
    "from sklearn import metrics\n",
    "from sklearn.metrics import roc_curve, auc\n",
    "from nltk.stem.porter import PorterStemmer\n",
    "from sklearn.cross_validation import train_test_split,KFold\n",
    "from sklearn.neighbors import KNeighborsClassifier\n",
    "from sklearn.metrics import accuracy_score\n",
    "from sklearn.cross_validation import cross_val_score\n",
    "from collections import Counter\n",
    "from sklearn.metrics import accuracy_score\n",
    "from sklearn import cross_validation\n",
    "from sklearn.grid_search import GridSearchCV\n",
    "from sklearn.linear_model import LogisticRegression\n",
    "from keras.datasets import imdb\n",
    "from keras.models import Sequential\n",
    "from keras.layers import Dense\n",
    "from keras.layers import LSTM\n",
    "from keras.layers.embeddings import Embedding\n",
    "from keras.preprocessing import sequence\n",
    "# fix random seed for reproducibility\n",
    "np.random.seed(7)\n",
    "con = sqlite3.connect('database.sqlite') \n",
    "#get only +ve and -ve review \n",
    "raw_data = pd.read_sql_query(\"\"\"SELECT * FROM Reviews WHERE Score != 3\"\"\", con) "
   ]
  },
  {
   "cell_type": "markdown",
   "metadata": {},
   "source": [
    "# Data preprocessing"
   ]
  },
  {
   "cell_type": "code",
   "execution_count": 201,
   "metadata": {},
   "outputs": [],
   "source": [
    "filtered_data=raw_data\n",
    "# Score>3 a positive rating, and score<3 a negative rating.\n",
    "def partition(x):\n",
    "    if x < 3:\n",
    "        return 'negative'\n",
    "    return 'positive'\n",
    "\n",
    "#changing reviews with score less than 3 to be positive and vice-versa\n",
    "actualScore = filtered_data['Score']\n",
    "positiveNegative = actualScore.map(partition) \n",
    "filtered_data['Score'] = positiveNegative\n",
    "\n",
    "filtered_data.sample(5)\n",
    "filtered_data['Score'].value_counts()\n",
    "\n",
    "#Sorting data according to ProductId in ascending order\n",
    "sorted_data=filtered_data.sort_values('ProductId', axis=0, ascending=True, inplace=False, kind='quicksort', na_position='last')\n",
    "\n",
    "#Deduplication of entries for same profilename,userid, time, text and take first element \n",
    "sorted_data=sorted_data.drop_duplicates(subset={\"UserId\",\"ProfileName\",\"Time\",\"Text\"}, keep='first', inplace=False)\n"
   ]
  },
  {
   "cell_type": "code",
   "execution_count": 202,
   "metadata": {},
   "outputs": [
    {
     "name": "stdout",
     "output_type": "stream",
     "text": [
      "total data \n",
      " positive    307063\n",
      "negative     57110\n",
      "Name: Score, dtype: int64\n"
     ]
    }
   ],
   "source": [
    "#take only 20000 data\n",
    "print('total data \\n',sorted_data['Score'].value_counts())\n",
    "#take stratified sampling i.e. positive and negative reviews are proportionate to raw data\n",
    "_ , clean_data = train_test_split(sorted_data, test_size = 20000, random_state=0,stratify = sorted_data['Score'] )\n",
    "clean_data['Score'].value_counts()\n",
    "topitem=5000\n",
    "nb_epoch=6"
   ]
  },
  {
   "cell_type": "code",
   "execution_count": 203,
   "metadata": {},
   "outputs": [
    {
     "name": "stdout",
     "output_type": "stream",
     "text": [
      "(20000, 11)\n"
     ]
    },
    {
     "data": {
      "text/plain": [
       "11324    b'miniatur hershey delici period satisfi diabe...\n",
       "83373    b'nice joke gift smoker work like real pipe us...\n",
       "Name: CleanedText, dtype: object"
      ]
     },
     "execution_count": 203,
     "metadata": {},
     "output_type": "execute_result"
    }
   ],
   "source": [
    "# Clean html tag and punctuation\n",
    "import warnings\n",
    "warnings.filterwarnings('ignore')\n",
    "import re\n",
    "import string\n",
    "from nltk.corpus import stopwords\n",
    "from nltk.stem import PorterStemmer\n",
    "from nltk.stem.wordnet import WordNetLemmatizer\n",
    "\n",
    "stop = set(stopwords.words('english')) #set of stopwords\n",
    "sno = nltk.stem.SnowballStemmer('english') #initialising the snowball stemmer\n",
    "\n",
    "#substitute html tag and punctuation\n",
    "def cleanhtml(sentence): #function to clean the word of any html-tags\n",
    "    cleanr = re.compile('<.*?>')\n",
    "    cleantext = re.sub(cleanr, ' ', sentence)\n",
    "    return cleantext\n",
    "def cleanpunc(sentence): #function to clean the word of any punctuation or special characters\n",
    "    cleaned = re.sub(r'[?|!|\\'|\"|#]',r'',sentence)\n",
    "    cleaned = re.sub(r'[.|,|)|(|\\|/]',r' ',cleaned)\n",
    "    return  cleaned\n",
    "#print(sno.stem('tasty'))\n",
    "\n",
    "i=0\n",
    "str1=' '\n",
    "mystop={'of','four','one','would'}\n",
    "final_string=[]\n",
    "all_positive_words=[] # store words from +ve reviews here\n",
    "all_negative_words=[] # store words from -ve reviews here.\n",
    "s=''\n",
    "#Create new catagory as Cleanedtext after removing htmltag and punctuation and uppercase and word length >2\n",
    "for sent in clean_data['Text'].values:\n",
    "    #change later\n",
    "    #sent=sent[:20]\n",
    "    filtered_sentence=[]\n",
    "    #print(sent);\n",
    "    sent=cleanhtml(sent) # remove HTMl tags\n",
    "    for w in sent.split():\n",
    "        for cleaned_words in cleanpunc(w).split():\n",
    "            if((cleaned_words.isalpha()) & (len(cleaned_words)>2)):    \n",
    "                if((cleaned_words.lower() not in stop) & (cleaned_words.lower() not in mystop)):\n",
    "                    s=(sno.stem(cleaned_words.lower())).encode('utf8')\n",
    "                    filtered_sentence.append(s)\n",
    "                    if (clean_data['Score'].values)[i] == 'positive': \n",
    "                        all_positive_words.append(s) #list of all words used to describe positive reviews\n",
    "                    if(clean_data['Score'].values)[i] == 'negative':\n",
    "                        all_negative_words.append(s) #list of all words used to describe negative reviews reviews\n",
    "                else:\n",
    "                    continue\n",
    "            else:\n",
    "                continue \n",
    "    str1 = b\" \".join(filtered_sentence) #final string of cleaned words\n",
    "    \n",
    "    final_string.append(str1)\n",
    "    i+=1\n",
    "    \n",
    "clean_data['CleanedText']=final_string\n",
    "print(clean_data.shape)\n",
    "#Sort data on timestamp\n",
    "clean_data=clean_data.sort_values(by=['Time'],ascending=False)\n",
    "#clean_data\n",
    "clean_data['CleanedText'].sample(2)"
   ]
  },
  {
   "cell_type": "markdown",
   "metadata": {},
   "source": []
  },
  {
   "cell_type": "code",
   "execution_count": null,
   "metadata": {},
   "outputs": [],
   "source": []
  },
  {
   "cell_type": "markdown",
   "metadata": {
    "collapsed": true
   },
   "source": [
    "# Split train and test"
   ]
  },
  {
   "cell_type": "code",
   "execution_count": null,
   "metadata": {},
   "outputs": [],
   "source": []
  },
  {
   "cell_type": "code",
   "execution_count": 204,
   "metadata": {},
   "outputs": [
    {
     "name": "stdout",
     "output_type": "stream",
     "text": [
      "size of X_train, X_test, y_train , y_test  (14000,) (6000,) (14000,) (6000,)\n",
      "positive and negative review in train and test\n",
      " positive    11902\n",
      "negative     2098\n",
      "Name: Score, dtype: int64 \n",
      " positive    4962\n",
      "negative    1038\n",
      "Name: Score, dtype: int64\n"
     ]
    }
   ],
   "source": [
    "x=clean_data['CleanedText'].values\n",
    "y = clean_data['Score']\n",
    "n=x.shape[0]\n",
    "n1=int(n*.3)\n",
    "X_test_raw = x[0:n1]\n",
    "X_train_raw= x[n1:n+1]\n",
    "y_test=y[0:n1]\n",
    "y_train=y[n1:n+1]\n",
    "\n",
    "print('size of X_train, X_test, y_train , y_test ',X_train_raw.shape, X_test_raw.shape,y_train.shape,y_test.shape)\n",
    "print(\"positive and negative review in train and test\\n\",y_train.value_counts(),\"\\n\",y_test.value_counts())\n",
    "\n",
    "from sklearn.preprocessing import label_binarize\n",
    "encoded_column_vector = label_binarize(y_train, classes=['negative','positive']) # negative will be 0 and positive will be 1\n",
    "encoded_labels = np.ravel(encoded_column_vector) # Reshape array\n",
    "y_train=encoded_labels\n",
    "\n",
    "encoded_column_vector = label_binarize(y_test, classes=['negative','positive']) # negative will be 0 and positive will be 1\n",
    "encoded_labels = np.ravel(encoded_column_vector) # Reshape array\n",
    "y_test=encoded_labels"
   ]
  },
  {
   "cell_type": "markdown",
   "metadata": {},
   "source": [
    "## Create dictionary of words\n",
    " First create dict with word frequency then sort descending"
   ]
  },
  {
   "cell_type": "code",
   "execution_count": 205,
   "metadata": {},
   "outputs": [],
   "source": [
    "# Form dictionary from train as word and freq\n",
    "from collections import defaultdict\n",
    "fq= defaultdict( int )\n",
    "for sent in X_train_raw:\n",
    "  for w in sent.split():\n",
    "    fq[w] += 1\n",
    "    \n",
    "#Sort dictionary on descending of freq\n",
    "from collections import OrderedDict\n",
    "from operator import itemgetter    \n",
    "sorteddict=OrderedDict(sorted(fq.items(), key = itemgetter(1), reverse = True))\n",
    "\n",
    "import collections\n",
    "#Take top items and sort again\n",
    "sorteddictnew=dict(collections.Counter(sorteddict).most_common(topitem))\n",
    "sorteddictnew=OrderedDict(sorted(sorteddictnew.items(), key = itemgetter(1), reverse = True))\n",
    "\n",
    "#change values of freq top with 1 then 2 ,3,4 like that\n",
    "for i, k in enumerate(sorteddictnew):\n",
    "    sorteddictnew[k]=i+1"
   ]
  },
  {
   "cell_type": "markdown",
   "metadata": {},
   "source": [
    "## Replace train and test words with the rank from dictionary"
   ]
  },
  {
   "cell_type": "code",
   "execution_count": 206,
   "metadata": {},
   "outputs": [],
   "source": [
    "#replace each word with its index form dict\n",
    "final_string=[]\n",
    "for sent in X_train_raw:\n",
    "    filtered_sentence=[]\n",
    "    for w in sent.split():\n",
    "       try:\n",
    "         s=list(sorteddictnew.keys()).index(w) \n",
    "         filtered_sentence.append(s)   \n",
    "       except:\n",
    "         continue\n",
    "       \n",
    "    final_string.append(filtered_sentence)\n",
    "X_train_new=final_string\n",
    "\n",
    "\n",
    "#replace each word with its index form dict\n",
    "final_string=[]\n",
    "for sent in X_test_raw:\n",
    "    filtered_sentence=[]\n",
    "    for w in sent.split():\n",
    "       try:\n",
    "         s=list(sorteddictnew.keys()).index(w) \n",
    "         filtered_sentence.append(s)   \n",
    "       except:\n",
    "         continue\n",
    "    final_string.append(filtered_sentence)\n",
    "X_test_new=final_string"
   ]
  },
  {
   "cell_type": "code",
   "execution_count": null,
   "metadata": {},
   "outputs": [],
   "source": []
  },
  {
   "cell_type": "markdown",
   "metadata": {},
   "source": [
    "## Create padding in the input "
   ]
  },
  {
   "cell_type": "code",
   "execution_count": 207,
   "metadata": {},
   "outputs": [
    {
     "name": "stdout",
     "output_type": "stream",
     "text": [
      "(14000, 600)\n"
     ]
    }
   ],
   "source": [
    "X_train=X_train_new\n",
    "X_test=X_test_new\n",
    "\n",
    "# truncate and/or pad input sequences\n",
    "max_review_length = 600\n",
    "X_train = sequence.pad_sequences(X_train, maxlen=max_review_length)\n",
    "X_test = sequence.pad_sequences(X_test, maxlen=max_review_length)\n",
    "\n",
    "print(X_train.shape)"
   ]
  },
  {
   "cell_type": "code",
   "execution_count": null,
   "metadata": {},
   "outputs": [],
   "source": []
  },
  {
   "cell_type": "markdown",
   "metadata": {},
   "source": [
    "## Create model\n",
    "1 Layer LSTM"
   ]
  },
  {
   "cell_type": "markdown",
   "metadata": {},
   "source": []
  },
  {
   "cell_type": "code",
   "execution_count": 208,
   "metadata": {},
   "outputs": [
    {
     "name": "stdout",
     "output_type": "stream",
     "text": [
      "_________________________________________________________________\n",
      "Layer (type)                 Output Shape              Param #   \n",
      "=================================================================\n",
      "embedding_11 (Embedding)     (None, 600, 32)           160000    \n",
      "_________________________________________________________________\n",
      "lstm_15 (LSTM)               (None, 100)               53200     \n",
      "_________________________________________________________________\n",
      "dense_10 (Dense)             (None, 1)                 101       \n",
      "=================================================================\n",
      "Total params: 213,301\n",
      "Trainable params: 213,301\n",
      "Non-trainable params: 0\n",
      "_________________________________________________________________\n",
      "None\n"
     ]
    }
   ],
   "source": [
    "# create the model\n",
    "embedding_vecor_length = 32\n",
    "model = Sequential()\n",
    "model.add(Embedding(topitem, embedding_vecor_length, input_length=max_review_length))\n",
    "model.add(LSTM(100))\n",
    "model.add(Dense(1, activation='sigmoid'))\n",
    "model.compile(loss='binary_crossentropy', optimizer='adam', metrics=['accuracy'])\n",
    "print(model.summary())"
   ]
  },
  {
   "cell_type": "code",
   "execution_count": 209,
   "metadata": {},
   "outputs": [
    {
     "name": "stdout",
     "output_type": "stream",
     "text": [
      "Train on 14000 samples, validate on 6000 samples\n",
      "Epoch 1/6\n",
      "14000/14000 [==============================] - 460s 33ms/step - loss: 0.3500 - acc: 0.8670 - val_loss: 0.2683 - val_acc: 0.8908\n",
      "Epoch 2/6\n",
      "14000/14000 [==============================] - 492s 35ms/step - loss: 0.1972 - acc: 0.9241 - val_loss: 0.2631 - val_acc: 0.8932\n",
      "Epoch 3/6\n",
      "14000/14000 [==============================] - 486s 35ms/step - loss: 0.1546 - acc: 0.9419 - val_loss: 0.2830 - val_acc: 0.8948\n",
      "Epoch 4/6\n",
      "14000/14000 [==============================] - 504s 36ms/step - loss: 0.1264 - acc: 0.9522 - val_loss: 0.2903 - val_acc: 0.8902\n",
      "Epoch 5/6\n",
      "14000/14000 [==============================] - 542s 39ms/step - loss: 0.1039 - acc: 0.9635 - val_loss: 0.3292 - val_acc: 0.8935\n",
      "Epoch 6/6\n",
      "14000/14000 [==============================] - 525s 38ms/step - loss: 0.0846 - acc: 0.9704 - val_loss: 0.3437 - val_acc: 0.8838\n",
      "Accuracy: 88.38%\n"
     ]
    },
    {
     "data": {
      "image/png": "[encoded data removed]",
      "text/plain": [
       "<Figure size 432x288 with 1 Axes>"
      ]
     },
     "metadata": {},
     "output_type": "display_data"
    }
   ],
   "source": [
    "import warnings\n",
    "warnings.filterwarnings('ignore')\n",
    "history=model.fit(X_train, y_train, nb_epoch=nb_epoch, batch_size=64,validation_data=(X_test, y_test))\n",
    "# Final evaluation of the model\n",
    "scores = model.evaluate(X_test, y_test, verbose=0)\n",
    "print(\"Accuracy: %.2f%%\" % (scores[1]*100))\n",
    "\n",
    "def plt_dynamic(x, vy, ty, ax, colors=['b']):\n",
    "    ax.plot(x, vy, 'b', label=\"Validation Loss\")\n",
    "    ax.plot(x, ty, 'r', label=\"Train Loss\")\n",
    "    plt.legend()\n",
    "    plt.grid()\n",
    "    fig.canvas.draw()\n",
    "    \n",
    "fig,ax = plt.subplots(1,1)\n",
    "ax.set_xlabel('epoch') ; ax.set_ylabel('Binary Crossentropy Loss')\n",
    "x = list(range(1,nb_epoch+1))\n",
    "vy = history.history['val_loss']\n",
    "ty = history.history['loss']\n",
    "plt_dynamic(x, vy, ty, ax)\n"
   ]
  },
  {
   "cell_type": "code",
   "execution_count": 210,
   "metadata": {},
   "outputs": [],
   "source": [
    "aa=pd.DataFrame({'type':['LSTM 1 layer 100'],'test_accuracy':[scores[1]*100],'test_score':[scores[0]*100]})\n"
   ]
  },
  {
   "cell_type": "code",
   "execution_count": null,
   "metadata": {},
   "outputs": [],
   "source": []
  },
  {
   "cell_type": "markdown",
   "metadata": {
    "collapsed": true
   },
   "source": [
    "2 Layer LSTM"
   ]
  },
  {
   "cell_type": "code",
   "execution_count": 211,
   "metadata": {},
   "outputs": [
    {
     "name": "stdout",
     "output_type": "stream",
     "text": [
      "_________________________________________________________________\n",
      "Layer (type)                 Output Shape              Param #   \n",
      "=================================================================\n",
      "embedding_12 (Embedding)     (None, 600, 32)           160000    \n",
      "_________________________________________________________________\n",
      "lstm_16 (LSTM)               (None, 600, 100)          53200     \n",
      "_________________________________________________________________\n",
      "lstm_17 (LSTM)               (None, 100)               80400     \n",
      "_________________________________________________________________\n",
      "dense_11 (Dense)             (None, 250)               25250     \n",
      "_________________________________________________________________\n",
      "dense_12 (Dense)             (None, 1)                 251       \n",
      "=================================================================\n",
      "Total params: 319,101\n",
      "Trainable params: 319,101\n",
      "Non-trainable params: 0\n",
      "_________________________________________________________________\n",
      "None\n"
     ]
    }
   ],
   "source": [
    "# create the model\n",
    "embedding_vecor_length = 32\n",
    "model = Sequential()\n",
    "model.add(Embedding(topitem, embedding_vecor_length, input_length=max_review_length))\n",
    "model.add(LSTM(100,return_sequences=True))\n",
    "model.add(LSTM(100))\n",
    "model.add(Dense(250, activation='relu'))\n",
    "model.add(Dense(1, activation='sigmoid'))\n",
    "model.compile(loss='binary_crossentropy', optimizer='adam', metrics=['accuracy'])\n",
    "print(model.summary())\n",
    "#param in 2nd LSTM=4*100(100+100+1) m and n are both 100.  "
   ]
  },
  {
   "cell_type": "code",
   "execution_count": 212,
   "metadata": {},
   "outputs": [
    {
     "name": "stdout",
     "output_type": "stream",
     "text": [
      "Train on 14000 samples, validate on 6000 samples\n",
      "Epoch 1/6\n",
      "14000/14000 [==============================] - 1192s 85ms/step - loss: 0.3224 - acc: 0.8774 - val_loss: 0.2624 - val_acc: 0.8902\n",
      "Epoch 2/6\n",
      "14000/14000 [==============================] - 1219s 87ms/step - loss: 0.1895 - acc: 0.9262 - val_loss: 0.2708 - val_acc: 0.8958\n",
      "Epoch 3/6\n",
      "14000/14000 [==============================] - 1205s 86ms/step - loss: 0.1466 - acc: 0.9456 - val_loss: 0.2721 - val_acc: 0.8913\n",
      "Epoch 4/6\n",
      "14000/14000 [==============================] - 1158s 83ms/step - loss: 0.1251 - acc: 0.9526 - val_loss: 0.3184 - val_acc: 0.8867\n",
      "Epoch 5/6\n",
      "14000/14000 [==============================] - 1156s 83ms/step - loss: 0.0948 - acc: 0.9684 - val_loss: 0.3617 - val_acc: 0.8887\n",
      "Epoch 6/6\n",
      "14000/14000 [==============================] - 27477s 2s/step - loss: 0.0751 - acc: 0.9742 - val_loss: 0.4288 - val_acc: 0.8847\n",
      "Accuracy: 88.47%\n"
     ]
    },
    {
     "data": {
      "image/png": "[encoded data removed]",
      "text/plain": [
       "<Figure size 432x288 with 1 Axes>"
      ]
     },
     "metadata": {},
     "output_type": "display_data"
    }
   ],
   "source": [
    "import warnings\n",
    "warnings.filterwarnings('ignore')\n",
    "history=model.fit(X_train, y_train, nb_epoch=nb_epoch, batch_size=64,validation_data=(X_test, y_test))\n",
    "# Final evaluation of the model\n",
    "scores = model.evaluate(X_test, y_test, verbose=0)\n",
    "print(\"Accuracy: %.2f%%\" % (scores[1]*100))\n",
    "\n",
    "def plt_dynamic(x, vy, ty, ax, colors=['b']):\n",
    "    ax.plot(x, vy, 'b', label=\"Validation Loss\")\n",
    "    ax.plot(x, ty, 'r', label=\"Train Loss\")\n",
    "    plt.legend()\n",
    "    plt.grid()\n",
    "    fig.canvas.draw()\n",
    "    \n",
    "fig,ax = plt.subplots(1,1)\n",
    "ax.set_xlabel('epoch') ; ax.set_ylabel('Binary Crossentropy Loss')\n",
    "x = list(range(1,nb_epoch+1))\n",
    "vy = history.history['val_loss']\n",
    "ty = history.history['loss']\n",
    "plt_dynamic(x, vy, ty, ax)\n"
   ]
  },
  {
   "cell_type": "markdown",
   "metadata": {},
   "source": [
    "\n"
   ]
  },
  {
   "cell_type": "code",
   "execution_count": 213,
   "metadata": {},
   "outputs": [],
   "source": [
    "bb=pd.DataFrame({'type':['LSTM 2 layer 100'],'test_accuracy':[scores[1]*100],'test_score':[scores[0]*100]})\n",
    "aa=aa.append(bb)"
   ]
  },
  {
   "cell_type": "markdown",
   "metadata": {
    "collapsed": true
   },
   "source": [
    "# Observation\n",
    "Model quickly overfit after 2 epoch\n",
    "The 2 different model accuracy is below\n"
   ]
  },
  {
   "cell_type": "code",
   "execution_count": 214,
   "metadata": {},
   "outputs": [
    {
     "data": {
      "text/html": [
       "<div>\n",
       "<style scoped>\n",
       "    .dataframe tbody tr th:only-of-type {\n",
       "        vertical-align: middle;\n",
       "    }\n",
       "\n",
       "    .dataframe tbody tr th {\n",
       "        vertical-align: top;\n",
       "    }\n",
       "\n",
       "    .dataframe thead th {\n",
       "        text-align: right;\n",
       "    }\n",
       "</style>\n",
       "<table border=\"1\" class=\"dataframe\">\n",
       "  <thead>\n",
       "    <tr style=\"text-align: right;\">\n",
       "      <th></th>\n",
       "      <th>test_accuracy</th>\n",
       "      <th>test_score</th>\n",
       "      <th>type</th>\n",
       "    </tr>\n",
       "  </thead>\n",
       "  <tbody>\n",
       "    <tr>\n",
       "      <th>0</th>\n",
       "      <td>88.383333</td>\n",
       "      <td>34.372077</td>\n",
       "      <td>LSTM 1 layer 100</td>\n",
       "    </tr>\n",
       "    <tr>\n",
       "      <th>0</th>\n",
       "      <td>88.466667</td>\n",
       "      <td>42.875659</td>\n",
       "      <td>LSTM 2 layer 100</td>\n",
       "    </tr>\n",
       "  </tbody>\n",
       "</table>\n",
       "</div>"
      ],
      "text/plain": [
       "   test_accuracy  test_score              type\n",
       "0      88.383333   34.372077  LSTM 1 layer 100\n",
       "0      88.466667   42.875659  LSTM 2 layer 100"
      ]
     },
     "execution_count": 214,
     "metadata": {},
     "output_type": "execute_result"
    }
   ],
   "source": [
    "aa"
   ]
  },
  {
   "cell_type": "code",
   "execution_count": null,
   "metadata": {},
   "outputs": [],
   "source": []
  },
  {
   "cell_type": "code",
   "execution_count": null,
   "metadata": {},
   "outputs": [],
   "source": []
  },
  {
   "cell_type": "code",
   "execution_count": null,
   "metadata": {},
   "outputs": [],
   "source": []
  },
  {
   "cell_type": "code",
   "execution_count": null,
   "metadata": {},
   "outputs": [],
   "source": []
  },
  {
   "cell_type": "markdown",
   "metadata": {
    "collapsed": true
   },
   "source": []
  },
  {
   "cell_type": "code",
   "execution_count": null,
   "metadata": {},
   "outputs": [],
   "source": [
    "\n"
   ]
  },
  {
   "cell_type": "markdown",
   "metadata": {
    "collapsed": true
   },
   "source": []
  },
  {
   "cell_type": "code",
   "execution_count": null,
   "metadata": {},
   "outputs": [],
   "source": []
  },
  {
   "cell_type": "markdown",
   "metadata": {
    "collapsed": true
   },
   "source": []
  },
  {
   "cell_type": "markdown",
   "metadata": {},
   "source": []
  },
  {
   "cell_type": "code",
   "execution_count": null,
   "metadata": {},
   "outputs": [],
   "source": []
  },
  {
   "cell_type": "code",
   "execution_count": null,
   "metadata": {},
   "outputs": [],
   "source": []
  },
  {
   "cell_type": "markdown",
   "metadata": {
    "collapsed": true
   },
   "source": []
  },
  {
   "cell_type": "code",
   "execution_count": null,
   "metadata": {},
   "outputs": [],
   "source": []
  },
  {
   "cell_type": "code",
   "execution_count": null,
   "metadata": {},
   "outputs": [],
   "source": []
  },
  {
   "cell_type": "markdown",
   "metadata": {
    "collapsed": true
   },
   "source": []
  },
  {
   "cell_type": "code",
   "execution_count": null,
   "metadata": {},
   "outputs": [],
   "source": []
  },
  {
   "cell_type": "markdown",
   "metadata": {
    "collapsed": true
   },
   "source": []
  },
  {
   "cell_type": "code",
   "execution_count": null,
   "metadata": {},
   "outputs": [],
   "source": []
  },
  {
   "cell_type": "code",
   "execution_count": null,
   "metadata": {},
   "outputs": [],
   "source": []
  },
  {
   "cell_type": "markdown",
   "metadata": {},
   "source": []
  },
  {
   "cell_type": "code",
   "execution_count": null,
   "metadata": {},
   "outputs": [],
   "source": []
  },
  {
   "cell_type": "code",
   "execution_count": null,
   "metadata": {},
   "outputs": [],
   "source": []
  },
  {
   "cell_type": "code",
   "execution_count": null,
   "metadata": {},
   "outputs": [],
   "source": []
  },
  {
   "cell_type": "markdown",
   "metadata": {},
   "source": []
  },
  {
   "cell_type": "code",
   "execution_count": null,
   "metadata": {},
   "outputs": [],
   "source": []
  },
  {
   "cell_type": "code",
   "execution_count": null,
   "metadata": {},
   "outputs": [],
   "source": []
  },
  {
   "cell_type": "code",
   "execution_count": null,
   "metadata": {},
   "outputs": [],
   "source": []
  },
  {
   "cell_type": "code",
   "execution_count": null,
   "metadata": {},
   "outputs": [],
   "source": []
  },
  {
   "cell_type": "code",
   "execution_count": null,
   "metadata": {},
   "outputs": [],
   "source": []
  },
  {
   "cell_type": "code",
   "execution_count": null,
   "metadata": {},
   "outputs": [],
   "source": []
  },
  {
   "cell_type": "code",
   "execution_count": null,
   "metadata": {},
   "outputs": [],
   "source": []
  },
  {
   "cell_type": "markdown",
   "metadata": {},
   "source": []
  },
  {
   "cell_type": "code",
   "execution_count": null,
   "metadata": {},
   "outputs": [],
   "source": []
  },
  {
   "cell_type": "markdown",
   "metadata": {
    "collapsed": true
   },
   "source": []
  },
  {
   "cell_type": "markdown",
   "metadata": {
    "collapsed": true
   },
   "source": []
  },
  {
   "cell_type": "code",
   "execution_count": null,
   "metadata": {},
   "outputs": [],
   "source": []
  },
  {
   "cell_type": "code",
   "execution_count": null,
   "metadata": {},
   "outputs": [],
   "source": []
  },
  {
   "cell_type": "code",
   "execution_count": null,
   "metadata": {},
   "outputs": [],
   "source": []
  },
  {
   "cell_type": "code",
   "execution_count": null,
   "metadata": {},
   "outputs": [],
   "source": []
  },
  {
   "cell_type": "code",
   "execution_count": null,
   "metadata": {},
   "outputs": [],
   "source": []
  },
  {
   "cell_type": "code",
   "execution_count": null,
   "metadata": {},
   "outputs": [],
   "source": []
  },
  {
   "cell_type": "code",
   "execution_count": null,
   "metadata": {},
   "outputs": [],
   "source": []
  },
  {
   "cell_type": "code",
   "execution_count": null,
   "metadata": {},
   "outputs": [],
   "source": []
  },
  {
   "cell_type": "code",
   "execution_count": null,
   "metadata": {},
   "outputs": [],
   "source": []
  },
  {
   "cell_type": "code",
   "execution_count": null,
   "metadata": {},
   "outputs": [],
   "source": []
  },
  {
   "cell_type": "code",
   "execution_count": null,
   "metadata": {},
   "outputs": [],
   "source": []
  },
  {
   "cell_type": "code",
   "execution_count": null,
   "metadata": {},
   "outputs": [],
   "source": []
  },
  {
   "cell_type": "code",
   "execution_count": null,
   "metadata": {},
   "outputs": [],
   "source": []
  },
  {
   "cell_type": "code",
   "execution_count": null,
   "metadata": {},
   "outputs": [],
   "source": []
  },
  {
   "cell_type": "code",
   "execution_count": null,
   "metadata": {},
   "outputs": [],
   "source": []
  },
  {
   "cell_type": "code",
   "execution_count": null,
   "metadata": {},
   "outputs": [],
   "source": []
  },
  {
   "cell_type": "code",
   "execution_count": null,
   "metadata": {},
   "outputs": [],
   "source": []
  }
 ],
 "metadata": {
  "kernelspec": {
   "display_name": "Python 3",
   "language": "python",
   "name": "python3"
  },
  "language_info": {
   "codemirror_mode": {
    "name": "ipython",
    "version": 3
   },
   "file_extension": ".py",
   "mimetype": "text/x-python",
   "name": "python",
   "nbconvert_exporter": "python",
   "pygments_lexer": "ipython3",
   "version": "3.5.5"
  }
 },
 "nbformat": 4,
 "nbformat_minor": 2
}
