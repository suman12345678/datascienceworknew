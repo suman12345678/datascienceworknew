{
 "cells": [
  {
   "cell_type": "markdown",
   "metadata": {},
   "source": [
    "# Amazon food review dataset apply naive bayes\n",
    "\n",
    "Data set from https://www.kaggle.com/snap/amazon-fine-food-reviews\n",
    "\n",
    "# Objective\n",
    "1. Try predicting review using naive bayes and tunning alpha \n",
    "2. Get important features of positive and negative review \n",
    "3. Check accuracy using precision recall F1 score\n",
    "4. Plot errors for train and CV\n",
    "\n",
    "# Import data and libraries\n",
    " "
   ]
  },
  {
   "cell_type": "code",
   "execution_count": 82,
   "metadata": {
    "collapsed": true
   },
   "outputs": [],
   "source": [
    "from sklearn.manifold import TSNE\n",
    "import sqlite3\n",
    "import pandas as pd\n",
    "import numpy as np\n",
    "import nltk\n",
    "import string\n",
    "import matplotlib.pyplot as plt\n",
    "import seaborn as sns\n",
    "from sklearn.feature_extraction.text import TfidfTransformer\n",
    "from sklearn.feature_extraction.text import TfidfVectorizer\n",
    "from sklearn.feature_extraction.text import CountVectorizer\n",
    "from sklearn.metrics import confusion_matrix\n",
    "from sklearn import metrics\n",
    "from sklearn.metrics import roc_curve, auc\n",
    "from nltk.stem.porter import PorterStemmer\n",
    "\n",
    "con = sqlite3.connect('database.sqlite') \n",
    "\n",
    "#get only +ve and -ve review \n",
    "raw_data = pd.read_sql_query(\"\"\"SELECT * FROM Reviews WHERE Score != 3\"\"\", con) "
   ]
  },
  {
   "cell_type": "markdown",
   "metadata": {},
   "source": [
    "# Data preprocessing"
   ]
  },
  {
   "cell_type": "code",
   "execution_count": 83,
   "metadata": {
    "collapsed": true
   },
   "outputs": [],
   "source": [
    "filtered_data=raw_data\n",
    "# Score>3 a positive rating, and score<3 a negative rating.\n",
    "def partition(x):\n",
    "    if x < 3:\n",
    "        return 'negative'\n",
    "    return 'positive'\n",
    "\n",
    "#changing reviews with score less than 3 to be positive and vice-versa\n",
    "actualScore = filtered_data['Score']\n",
    "positiveNegative = actualScore.map(partition) \n",
    "filtered_data['Score'] = positiveNegative\n",
    "\n",
    "filtered_data.sample(5)\n",
    "filtered_data['Score'].value_counts()\n",
    "\n",
    "#Sorting data according to ProductId in ascending order\n",
    "sorted_data=filtered_data.sort_values('ProductId', axis=0, ascending=True, inplace=False, kind='quicksort', na_position='last')\n",
    "\n",
    "#Deduplication of entries for same profilename,userid, time, text and take first element \n",
    "sorted_data=sorted_data.drop_duplicates(subset={\"UserId\",\"ProfileName\",\"Time\",\"Text\"}, keep='first', inplace=False)\n"
   ]
  },
  {
   "cell_type": "code",
   "execution_count": 117,
   "metadata": {},
   "outputs": [
    {
     "data": {
      "text/plain": [
       "positive    16864\n",
       "negative     3136\n",
       "Name: Score, dtype: int64"
      ]
     },
     "execution_count": 117,
     "metadata": {},
     "output_type": "execute_result"
    }
   ],
   "source": [
    "#take only 10000 + 10000 data\n",
    "#clean_data=sorted_data.sample(frac=1).groupby('Score').head(100)\n",
    "_ , clean_data = train_test_split(sorted_data, test_size = 20000, stratify = sorted_data['Score'] )\n",
    "clean_data['Score'].value_counts()"
   ]
  },
  {
   "cell_type": "code",
   "execution_count": 118,
   "metadata": {
    "collapsed": true
   },
   "outputs": [],
   "source": [
    "# Clean html tag and punctuation\n",
    "\n",
    "import re\n",
    "import string\n",
    "from nltk.corpus import stopwords\n",
    "from nltk.stem import PorterStemmer\n",
    "from nltk.stem.wordnet import WordNetLemmatizer\n",
    "\n",
    "stop = set(stopwords.words('english')) #set of stopwords\n",
    "sno = nltk.stem.SnowballStemmer('english') #initialising the snowball stemmer\n",
    "\n",
    "#substitute html tag and punctuation\n",
    "def cleanhtml(sentence): #function to clean the word of any html-tags\n",
    "    cleanr = re.compile('<.*?>')\n",
    "    cleantext = re.sub(cleanr, ' ', sentence)\n",
    "    return cleantext\n",
    "def cleanpunc(sentence): #function to clean the word of any punctuation or special characters\n",
    "    cleaned = re.sub(r'[?|!|\\'|\"|#]',r'',sentence)\n",
    "    cleaned = re.sub(r'[.|,|)|(|\\|/]',r' ',cleaned)\n",
    "    return  cleaned\n",
    "#print(sno.stem('tasty'))"
   ]
  },
  {
   "cell_type": "code",
   "execution_count": 119,
   "metadata": {
    "collapsed": true
   },
   "outputs": [],
   "source": [
    "i=0\n",
    "str1=' '\n",
    "final_string=[]\n",
    "all_positive_words=[] # store words from +ve reviews here\n",
    "all_negative_words=[] # store words from -ve reviews here.\n",
    "s=''\n",
    "#Create new catagory as Cleanedtext after removing htmltag and punctuation and uppercase and word length >2\n",
    "for sent in clean_data['Text'].values:\n",
    "    filtered_sentence=[]\n",
    "    #print(sent);\n",
    "    sent=cleanhtml(sent) # remove HTMl tags\n",
    "    for w in sent.split():\n",
    "        for cleaned_words in cleanpunc(w).split():\n",
    "            if((cleaned_words.isalpha()) & (len(cleaned_words)>2)):    \n",
    "                if(cleaned_words.lower() not in stop):\n",
    "                    s=(sno.stem(cleaned_words.lower())).encode('utf8')\n",
    "                    filtered_sentence.append(s)\n",
    "                    if (clean_data['Score'].values)[i] == 'positive': \n",
    "                        all_positive_words.append(s) #list of all words used to describe positive reviews\n",
    "                    if(clean_data['Score'].values)[i] == 'negative':\n",
    "                        all_negative_words.append(s) #list of all words used to describe negative reviews reviews\n",
    "                else:\n",
    "                    continue\n",
    "            else:\n",
    "                continue \n",
    "    str1 = b\" \".join(filtered_sentence) #final string of cleaned words\n",
    "    \n",
    "    final_string.append(str1)\n",
    "    i+=1\n",
    "    "
   ]
  },
  {
   "cell_type": "code",
   "execution_count": 120,
   "metadata": {},
   "outputs": [
    {
     "data": {
      "text/html": [
       "<div>\n",
       "<style>\n",
       "    .dataframe thead tr:only-child th {\n",
       "        text-align: right;\n",
       "    }\n",
       "\n",
       "    .dataframe thead th {\n",
       "        text-align: left;\n",
       "    }\n",
       "\n",
       "    .dataframe tbody tr th {\n",
       "        vertical-align: top;\n",
       "    }\n",
       "</style>\n",
       "<table border=\"1\" class=\"dataframe\">\n",
       "  <thead>\n",
       "    <tr style=\"text-align: right;\">\n",
       "      <th></th>\n",
       "      <th>Id</th>\n",
       "      <th>ProductId</th>\n",
       "      <th>UserId</th>\n",
       "      <th>ProfileName</th>\n",
       "      <th>HelpfulnessNumerator</th>\n",
       "      <th>HelpfulnessDenominator</th>\n",
       "      <th>Score</th>\n",
       "      <th>Time</th>\n",
       "      <th>Summary</th>\n",
       "      <th>Text</th>\n",
       "      <th>CleanedText</th>\n",
       "    </tr>\n",
       "  </thead>\n",
       "  <tbody>\n",
       "    <tr>\n",
       "      <th>294199</th>\n",
       "      <td>318702</td>\n",
       "      <td>B001E5E33U</td>\n",
       "      <td>AOWITT8WA9BME</td>\n",
       "      <td>scott</td>\n",
       "      <td>1</td>\n",
       "      <td>2</td>\n",
       "      <td>negative</td>\n",
       "      <td>1325980800</td>\n",
       "      <td>Packaging creates terrible tea leaf mess</td>\n",
       "      <td>Every single K-cup I put in breaks open during...</td>\n",
       "      <td>b'everi singl put break open brew alway end ho...</td>\n",
       "    </tr>\n",
       "    <tr>\n",
       "      <th>316516</th>\n",
       "      <td>342683</td>\n",
       "      <td>B000FIY3FK</td>\n",
       "      <td>A2RJKJCBQ9H62K</td>\n",
       "      <td>Mary Dryer</td>\n",
       "      <td>0</td>\n",
       "      <td>0</td>\n",
       "      <td>positive</td>\n",
       "      <td>1297209600</td>\n",
       "      <td>Fructose-50</td>\n",
       "      <td>I saddened by the fact I had to go to Amazon t...</td>\n",
       "      <td>b'sadden fact amazon get use purchas groceri s...</td>\n",
       "    </tr>\n",
       "    <tr>\n",
       "      <th>178608</th>\n",
       "      <td>193673</td>\n",
       "      <td>B005IW4WFY</td>\n",
       "      <td>AOAOARIH72UWI</td>\n",
       "      <td>jt</td>\n",
       "      <td>0</td>\n",
       "      <td>0</td>\n",
       "      <td>positive</td>\n",
       "      <td>1321401600</td>\n",
       "      <td>Great Snack or Mixed with Yogurt</td>\n",
       "      <td>This is a great tasting granola that can be ea...</td>\n",
       "      <td>b'great tast granola easili enjoy great yogurt...</td>\n",
       "    </tr>\n",
       "    <tr>\n",
       "      <th>148916</th>\n",
       "      <td>161584</td>\n",
       "      <td>B000GPM9IK</td>\n",
       "      <td>A5G977UGFTVT1</td>\n",
       "      <td>Zach</td>\n",
       "      <td>0</td>\n",
       "      <td>0</td>\n",
       "      <td>positive</td>\n",
       "      <td>1283990400</td>\n",
       "      <td>Best pre-workout mix</td>\n",
       "      <td>I used to workout when i played baseball, but ...</td>\n",
       "      <td>b'use workout play basebal stop play gain lot ...</td>\n",
       "    </tr>\n",
       "    <tr>\n",
       "      <th>388286</th>\n",
       "      <td>419857</td>\n",
       "      <td>B00153Y3IQ</td>\n",
       "      <td>A1Q0YMVAI71R20</td>\n",
       "      <td>S. Lewis</td>\n",
       "      <td>0</td>\n",
       "      <td>0</td>\n",
       "      <td>positive</td>\n",
       "      <td>1342224000</td>\n",
       "      <td>This is a first - MY CATS ASKED ME TO SUBMIT T...</td>\n",
       "      <td>WE (3 of us) love this stuff.  The little mors...</td>\n",
       "      <td>b'love stuff littl morsel pretti small get the...</td>\n",
       "    </tr>\n",
       "  </tbody>\n",
       "</table>\n",
       "</div>"
      ],
      "text/plain": [
       "            Id   ProductId          UserId ProfileName  HelpfulnessNumerator  \\\n",
       "294199  318702  B001E5E33U   AOWITT8WA9BME       scott                     1   \n",
       "316516  342683  B000FIY3FK  A2RJKJCBQ9H62K  Mary Dryer                     0   \n",
       "178608  193673  B005IW4WFY   AOAOARIH72UWI          jt                     0   \n",
       "148916  161584  B000GPM9IK   A5G977UGFTVT1        Zach                     0   \n",
       "388286  419857  B00153Y3IQ  A1Q0YMVAI71R20    S. Lewis                     0   \n",
       "\n",
       "        HelpfulnessDenominator     Score        Time  \\\n",
       "294199                       2  negative  1325980800   \n",
       "316516                       0  positive  1297209600   \n",
       "178608                       0  positive  1321401600   \n",
       "148916                       0  positive  1283990400   \n",
       "388286                       0  positive  1342224000   \n",
       "\n",
       "                                                  Summary  \\\n",
       "294199           Packaging creates terrible tea leaf mess   \n",
       "316516                                        Fructose-50   \n",
       "178608                   Great Snack or Mixed with Yogurt   \n",
       "148916                               Best pre-workout mix   \n",
       "388286  This is a first - MY CATS ASKED ME TO SUBMIT T...   \n",
       "\n",
       "                                                     Text  \\\n",
       "294199  Every single K-cup I put in breaks open during...   \n",
       "316516  I saddened by the fact I had to go to Amazon t...   \n",
       "178608  This is a great tasting granola that can be ea...   \n",
       "148916  I used to workout when i played baseball, but ...   \n",
       "388286  WE (3 of us) love this stuff.  The little mors...   \n",
       "\n",
       "                                              CleanedText  \n",
       "294199  b'everi singl put break open brew alway end ho...  \n",
       "316516  b'sadden fact amazon get use purchas groceri s...  \n",
       "178608  b'great tast granola easili enjoy great yogurt...  \n",
       "148916  b'use workout play basebal stop play gain lot ...  \n",
       "388286  b'love stuff littl morsel pretti small get the...  "
      ]
     },
     "execution_count": 120,
     "metadata": {},
     "output_type": "execute_result"
    }
   ],
   "source": [
    "clean_data['CleanedText']=final_string\n",
    "#store for future use\n",
    "#conn = sqlite3.connect('clean_data.sqlite')\n",
    "#c=conn.cursor()\n",
    "#conn.text_factory = str\n",
    "#clean_data.to_sql('Reviews1', conn, flavor=None, schema=None, if_exists='replace', index=True, index_label=None, chunksize=None, dtype=None)\n",
    "#con = sqlite3.connect('clean_data.sqlite') \n",
    "#clean_data = pd.read_sql_query(\"\"\"SELECT * FROM Reviews1 WHERE Score != 3\"\"\", con) \n",
    "#clean_data['CleanedText'].sample(15)\n",
    "clean_data.shape\n",
    "#Sort data on timestamp\n",
    "clean_data=clean_data.sort_values(by=['Time'],ascending=False)\n",
    "#clean_data\n",
    "clean_data.sample(5)"
   ]
  },
  {
   "cell_type": "markdown",
   "metadata": {},
   "source": [
    "# Model using BOW naive bayes"
   ]
  },
  {
   "cell_type": "code",
   "execution_count": 121,
   "metadata": {},
   "outputs": [
    {
     "name": "stdout",
     "output_type": "stream",
     "text": [
      "(20000, 18058)\n",
      "<class 'scipy.sparse.csr.csr_matrix'>\n"
     ]
    }
   ],
   "source": [
    "#now convert CleanedText to TDM\n",
    "count_vect = CountVectorizer() #in scikit-learn\n",
    "final_counts = count_vect.fit_transform(clean_data['CleanedText'].values)\n",
    "print(final_counts.get_shape())\n",
    "print(type(final_counts))\n",
    "#print(final_counts[[1]])\n",
    "#print(final_counts[0,:])# this is stored like dict format only non zero values. sparse matrix\n",
    "#x = pd.DataFrame(final_counts.toarray())#this is stored like dataframe format all 0 and non zero values. dense matrix\n",
    "# sparse matrix in csr format works faster compare to dense format\n",
    "#print(x.shape,x.loc[0])"
   ]
  },
  {
   "cell_type": "code",
   "execution_count": 122,
   "metadata": {},
   "outputs": [
    {
     "name": "stdout",
     "output_type": "stream",
     "text": [
      "size of X_train, X_test, y_train , y_test  (14000, 18058) (6000, 18058) (14000,) (6000,)\n",
      "positive and negative review in train and test\n",
      " positive    11907\n",
      "negative     2093\n",
      "Name: Score, dtype: int64 \n",
      " positive    4957\n",
      "negative    1043\n",
      "Name: Score, dtype: int64\n"
     ]
    }
   ],
   "source": [
    "#x = pd.DataFrame(final_counts.toarray())\n",
    "x=final_counts\n",
    "y = clean_data['Score']\n",
    "#time=time.reset_index(drop=True)\n",
    "n=x.shape[0]\n",
    "n1=int(n*.3)\n",
    "#X_test = x[0:n1]\n",
    "#X_train= x[n1:n+1]\n",
    "\n",
    "X_test = x[0:n1,:]\n",
    "X_train= x[n1:n+1,:]\n",
    "y_test=y[0:n1]\n",
    "y_train=y[n1:n+1]\n",
    "print('size of X_train, X_test, y_train , y_test ',X_train.shape, X_test.shape,y_train.shape,y_test.shape)\n",
    "print(\"positive and negative review in train and test\\n\",y_train.value_counts(),\"\\n\",y_test.value_counts())"
   ]
  },
  {
   "cell_type": "code",
   "execution_count": 123,
   "metadata": {},
   "outputs": [],
   "source": [
    "from sklearn.cross_validation import train_test_split,KFold\n",
    "from sklearn.neighbors import KNeighborsClassifier\n",
    "from sklearn.metrics import accuracy_score\n",
    "from sklearn.cross_validation import cross_val_score\n",
    "from collections import Counter\n",
    "from sklearn.metrics import accuracy_score\n",
    "from sklearn import cross_validation\n",
    "from sklearn.naive_bayes import MultinomialNB "
   ]
  },
  {
   "cell_type": "markdown",
   "metadata": {},
   "source": []
  },
  {
   "cell_type": "code",
   "execution_count": 124,
   "metadata": {},
   "outputs": [
    {
     "name": "stdout",
     "output_type": "stream",
     "text": [
      "best score and alpha 0.889284048323 1\n"
     ]
    }
   ],
   "source": [
    "# Create 10 fold cross validation for different alpha\n",
    "\n",
    "cv_score=[]\n",
    "a=[]\n",
    "for alphaval in range(1,30):\n",
    "  clf = MultinomialNB(alpha=alphaval)\n",
    "  clf.fit(X_train,y_train)\n",
    "  score= cross_val_score(clf, X_train, y_train, cv=10, scoring='accuracy')\n",
    "  cv_score.append(score.mean())\n",
    "  a.append(alphaval)\n",
    "  #print('score with alpha=',alphaval,score.mean())\n",
    " \n",
    "print('best score and alpha',cv_score[cv_score.index(max(cv_score))],a[cv_score.index(max(cv_score))])    \n",
    "optimalpha=a[cv_score.index(max(cv_score))]\n",
    "\n"
   ]
  },
  {
   "cell_type": "code",
   "execution_count": 125,
   "metadata": {},
   "outputs": [
    {
     "name": "stdout",
     "output_type": "stream",
     "text": [
      "MultinomialNB(alpha=1, class_prior=None, fit_prior=True)\n",
      "\n",
      "The accuracy of the naive bayes classifier using alpha and accuracy respectively become  1 88.4666666667\n"
     ]
    }
   ],
   "source": [
    "# ============================== naive bayes with optimum alpha ===============================================\n",
    "clf = MultinomialNB(alpha=optimalpha)\n",
    "clf.fit(X_train,y_train)\n",
    "# fitting the model\n",
    "clf.fit(X_train, y_train)\n",
    "print(clf)\n",
    "clf1=clf    \n",
    "\n",
    "pred = clf.predict(X_train)\n",
    "mat=pd.crosstab(y_train, pred, rownames=['Actual'], colnames=['Predicted'], margins=True) \n",
    "tp=mat.iloc[1,1];tn=mat.iloc[0,0];fp=mat.iloc[0,1];fn=mat.iloc[1,0];precision=tp/(tp+fp) ;recall=tp/(tp+fn) \n",
    "fscoretrain=2*precision*recall/(precision+recall)\n",
    "\n",
    "# predict the response\n",
    "pred = clf.predict(X_test)\n",
    "\n",
    "# evaluate accuracy\n",
    "acc = accuracy_score(y_test, pred) * 100\n",
    "print('\\nThe accuracy of the naive bayes classifier using alpha and accuracy respectively become ',optimalpha, acc)"
   ]
  },
  {
   "cell_type": "markdown",
   "metadata": {},
   "source": [
    "# Check accuracy"
   ]
  },
  {
   "cell_type": "code",
   "execution_count": 126,
   "metadata": {},
   "outputs": [
    {
     "name": "stdout",
     "output_type": "stream",
     "text": [
      "[[ 534  509]\n",
      " [ 183 4774]]\n",
      "Predicted  negative  positive   All\n",
      "Actual                             \n",
      "negative        534       509  1043\n",
      "positive        183      4774  4957\n",
      "All             717      5283  6000\n",
      "precision,racall,f1score 0.903653227333 0.963082509582 0.932421875\n"
     ]
    }
   ],
   "source": [
    "#Check accuracy \n",
    "print(confusion_matrix(y_test, pred))\n",
    "# try better way\n",
    "mat=pd.crosstab(y_test, pred, rownames=['Actual'], colnames=['Predicted'], margins=True) \n",
    "print(mat)\n",
    "#positive is fraud, negative is not fraud \n",
    "tp=mat.iloc[1,1] \n",
    "tn=mat.iloc[0,0] \n",
    "fp=mat.iloc[0,1] \n",
    "fn=mat.iloc[1,0] \n",
    "precision=tp/(tp+fp) \n",
    "recall=tp/(tp+fn) \n",
    "fscore=2*precision*recall/(precision+recall)\n",
    "print('precision,racall,f1score',precision,recall,fscore)\n",
    "\n",
    "aa=pd.DataFrame({'type':['BOW '],'train_score_accuracy':[clf.score(X_train,y_train)],'train_score_fscore':[fscoretrain],'test_score_accuracy':[clf.score(X_test,y_test)],'test_score_fscore':[fscore],'Alpha':[clf.alpha]})\n",
    "\n",
    "\n"
   ]
  },
  {
   "cell_type": "markdown",
   "metadata": {
    "collapsed": true
   },
   "source": [
    "#Plot accuracy with train and CV error"
   ]
  },
  {
   "cell_type": "code",
   "execution_count": 127,
   "metadata": {},
   "outputs": [
    {
     "data": {
      "image/png": "[encoded data removed]",
      "text/plain": [
       "<matplotlib.figure.Figure at 0x1f4336ce208>"
      ]
     },
     "metadata": {},
     "output_type": "display_data"
    }
   ],
   "source": [
    "import warnings\n",
    "warnings.filterwarnings('ignore')\n",
    "\n",
    "from sklearn.model_selection import validation_curve\n",
    "\n",
    "#create plot for training and test validation\n",
    "# Calculate accuracy on training and test set using range of parameter values\n",
    "alpha=[0,1,2,3,4,5,6,7,8,9,10]\n",
    "param_range=[0,1,2,3,4,5,6,7,8,9,10]\n",
    "\n",
    "train_scores, test_scores = validation_curve(clf1, X_train, y_train, param_name=\"alpha\",param_range=alpha,cv=5)\n",
    "\n",
    "train_scores_mean = np.mean(train_scores, axis=1)\n",
    "train_scores_std = np.std(train_scores, axis=1)\n",
    "test_scores_mean = np.mean(test_scores, axis=1)\n",
    "test_scores_std = np.std(test_scores, axis=1)\n",
    "\n",
    "plt.plot(param_range, train_scores_mean, label=\"Training score\", color=\"black\")\n",
    "plt.plot(param_range, test_scores_mean, label=\"Cross-validation score\", color=\"red\")\n",
    "\n",
    "#Plot accurancy bands for training and test sets\n",
    "plt.fill_between(param_range, train_scores_mean - train_scores_std, train_scores_mean + train_scores_std, color=\"gray\")\n",
    "plt.fill_between(param_range, test_scores_mean - test_scores_std, test_scores_mean + test_scores_std, color=\"green\")\n",
    "\n",
    "plt.title(\"Validation Curve for naive bayes for different alpha value\")\n",
    "plt.xlabel(\"alpha value\")\n",
    "plt.ylabel(\"Accuracy Score\")\n",
    "plt.xlim(0,10)\n",
    "plt.tight_layout()\n",
    "plt.legend(loc=\"best\")\n",
    "plt.show()\n",
    "\n"
   ]
  },
  {
   "cell_type": "markdown",
   "metadata": {
    "collapsed": true
   },
   "source": [
    "# Show top 10 words in positive and negative review"
   ]
  },
  {
   "cell_type": "markdown",
   "metadata": {},
   "source": [
    "\n"
   ]
  },
  {
   "cell_type": "code",
   "execution_count": 128,
   "metadata": {},
   "outputs": [
    {
     "name": "stdout",
     "output_type": "stream",
     "text": [
      "18058\n",
      "(1, 18058)\n",
      "['negative' 'positive']\n",
      "[-12.3525943  -12.3525943  -13.04574148 ..., -12.3525943  -12.3525943\n",
      " -13.04574148]\n",
      "Top 10 words for both review\n",
      "\n",
      "negative -13.0457414788 aaah\n",
      "negative -13.0457414788 aani\n",
      "negative -13.0457414788 aappubl\n",
      "negative -13.0457414788 abdomen\n",
      "negative -13.0457414788 abit\n",
      "negative -13.0457414788 ablaz\n",
      "negative -13.0457414788 abomin\n",
      "negative -13.0457414788 abot\n",
      "negative -13.0457414788 abrotanum\n",
      "negative -13.0457414788 abrupt\n",
      "\n",
      "\n",
      "positive -4.48357492169 like\n",
      "positive -4.52256621566 tast\n",
      "positive -4.66574352651 good\n",
      "positive -4.71898266424 flavor\n",
      "positive -4.72480650987 great\n",
      "positive -4.72919676082 love\n",
      "positive -4.75997605824 use\n",
      "positive -4.81276968816 one\n",
      "positive -4.9392269625 product\n",
      "positive -4.94436680752 tea\n"
     ]
    }
   ],
   "source": [
    "count_vect.vocabulary_\n",
    "print(len(clf.coef_[0]))\n",
    "print(clf.coef_.shape)\n",
    "print(clf.classes_)\n",
    "print(clf.coef_[0])\n",
    "\n",
    "def most_informative_feature_for_binary_classification(vectorizer, classifier, n=10):\n",
    "    class_labels = classifier.classes_\n",
    "    feature_names = vectorizer.get_feature_names()\n",
    "    topn_class1 = sorted(zip(classifier.coef_[0], feature_names))[:n]\n",
    "    #negative words are sorted with -ve\n",
    "    topn_class2 = sorted(zip(classifier.coef_[0], feature_names))[-n:]\n",
    "\n",
    "    for coef, feat in topn_class1:\n",
    "        print (class_labels[0], coef, feat)\n",
    "\n",
    "    print(\"\\n\")\n",
    "\n",
    "    for coef, feat in reversed(topn_class2):\n",
    "        print (class_labels[1], coef, feat)\n",
    "\n",
    "print(\"Top 10 words for both review\\n\")\n",
    "most_informative_feature_for_binary_classification(count_vect, clf)\n"
   ]
  },
  {
   "cell_type": "markdown",
   "metadata": {},
   "source": [
    "# Use TFIDF and check performance"
   ]
  },
  {
   "cell_type": "code",
   "execution_count": 129,
   "metadata": {},
   "outputs": [
    {
     "name": "stdout",
     "output_type": "stream",
     "text": [
      "size of X_train, X_test, y_train , y_test  (14000, 18058) (6000, 18058) (14000,) (6000,)\n",
      "positive and negative review in train and test\n",
      " positive    11907\n",
      "negative     2093\n",
      "Name: Score, dtype: int64 \n",
      " positive    4957\n",
      "negative    1043\n",
      "Name: Score, dtype: int64\n",
      "best score and alpha 0.850500107252 7\n",
      "\n",
      "The accuracy of the naive bayes classifier using alpha and accuracy respectively become  7 82.6166666667\n",
      "[[   0 1043]\n",
      " [   0 4957]]\n",
      "Predicted  positive   All\n",
      "Actual                   \n",
      "negative       1043  1043\n",
      "positive       4957  4957\n",
      "All            6000  6000\n",
      "precision,racall,f1score 0.826166666667 0.5 0.622973482468\n"
     ]
    }
   ],
   "source": [
    "from sklearn.naive_bayes import GaussianNB\n",
    "from sklearn.naive_bayes import MultinomialNB\n",
    "\n",
    "tf_idf_vect = TfidfVectorizer()\n",
    "final_counts = tf_idf_vect.fit_transform(clean_data['CleanedText'].values)\n",
    "\n",
    "x=final_counts\n",
    "y = clean_data['Score']\n",
    "n=x.shape[0]\n",
    "n1=int(n*.3)\n",
    "X_test = x[0:n1,:]\n",
    "X_train= x[n1:n+1,:]\n",
    "y_test=y[0:n1]\n",
    "y_train=y[n1:n+1]\n",
    "print('size of X_train, X_test, y_train , y_test ',X_train.shape, X_test.shape,y_train.shape,y_test.shape)\n",
    "print(\"positive and negative review in train and test\\n\",y_train.value_counts(),\"\\n\",y_test.value_counts())\n",
    "\n",
    "# Create 10 fold cross validation for different alpha\n",
    "\n",
    "cv_score=[]\n",
    "a=[]\n",
    "for alphaval in range(1,30):\n",
    "  clf = MultinomialNB(alpha=alphaval)\n",
    "  clf.fit(X_train,y_train)\n",
    "  score= cross_val_score(clf, X_train, y_train, cv=10, scoring='accuracy')\n",
    "  cv_score.append(score.mean())\n",
    "  a.append(alphaval)\n",
    "  #print('score with alpha=',alphaval,score.mean())\n",
    " \n",
    "print('best score and alpha',cv_score[cv_score.index(max(cv_score))],a[cv_score.index(max(cv_score))])    \n",
    "optimalpha=a[cv_score.index(max(cv_score))]\n",
    "\n",
    "\n",
    "# ============================== naive bayes with optimum alpha ===============================================\n",
    "clf = MultinomialNB(alpha=optimalpha)\n",
    "clf.fit(X_train,y_train)\n",
    "\n",
    "pred = clf.predict(X_train)\n",
    "mat=pd.crosstab(y_train, pred, rownames=['Actual'], colnames=['Predicted'], margins=True) \n",
    "tp=mat.iloc[1,1];tn=mat.iloc[0,0];fp=mat.iloc[0,1];fn=mat.iloc[1,0];precision=tp/(tp+fp) ;recall=tp/(tp+fn) \n",
    "fscoretrain=2*precision*recall/(precision+recall)\n",
    "\n",
    "\n",
    "\n",
    "# fitting the model\n",
    "clf.fit(X_train, y_train)\n",
    "\n",
    "# predict the response\n",
    "pred = clf.predict(X_test)\n",
    "\n",
    "# evaluate accuracy\n",
    "acc = accuracy_score(y_test, pred) * 100\n",
    "print('\\nThe accuracy of the naive bayes classifier using alpha and accuracy respectively become ',optimalpha, acc)\n",
    "\n",
    "\n",
    "\n",
    "#Check accuracy \n",
    "print(confusion_matrix(y_test, pred))\n",
    "# try better way\n",
    "mat=pd.crosstab(y_test, pred, rownames=['Actual'], colnames=['Predicted'], margins=True) \n",
    "print(mat)\n",
    "#positive is fraud, negative is not fraud \n",
    "tp=mat.iloc[1,1] \n",
    "tn=mat.iloc[0,0] \n",
    "fp=mat.iloc[0,1] \n",
    "fn=mat.iloc[1,0] \n",
    "precision=tp/(tp+fp) \n",
    "recall=tp/(tp+fn) \n",
    "fscore=2*precision*recall/(precision+recall)\n",
    "print('precision,racall,f1score',precision,recall,fscore)\n",
    "\n",
    "bb=pd.DataFrame({'type':['TFIDF '],'train_score_accuracy':[clf.score(X_train,y_train)],'train_score_fscore':[fscoretrain],'test_score_accuracy':[clf.score(X_test,y_test)],'test_score_fscore':[fscore],'Alpha':[clf.alpha]})\n",
    "aa=aa.append(bb)\n"
   ]
  },
  {
   "cell_type": "markdown",
   "metadata": {},
   "source": []
  },
  {
   "cell_type": "markdown",
   "metadata": {},
   "source": [
    "# Plot accuracy with alpha"
   ]
  },
  {
   "cell_type": "code",
   "execution_count": 130,
   "metadata": {},
   "outputs": [
    {
     "data": {
      "image/png": "[encoded data removed]",
      "text/plain": [
       "<matplotlib.figure.Figure at 0x1f440535780>"
      ]
     },
     "metadata": {},
     "output_type": "display_data"
    }
   ],
   "source": [
    "import warnings\n",
    "warnings.filterwarnings('ignore')\n",
    "from sklearn.model_selection import validation_curve\n",
    "#create plot for training and test validation\n",
    "alpha=[0,1,2,3,4,5,6,7,8,9,10]\n",
    "param_range=[0,1,2,3,4,5,6,7,8,9,10]\n",
    "\n",
    "train_scores, test_scores = validation_curve(MultinomialNB(), X_train, y_train, param_name=\"alpha\",param_range=alpha,scoring='accuracy',cv=10)\n",
    "#print(train_scores,test_scores)\n",
    "train_scores_mean = np.mean(train_scores, axis=1)\n",
    "train_scores_std = np.std(train_scores, axis=1)\n",
    "test_scores_mean = np.mean(test_scores, axis=1)\n",
    "test_scores_std = np.std(test_scores, axis=1)\n",
    "\n",
    "plt.plot(param_range, train_scores_mean, label=\"Training score\", color=\"black\")\n",
    "plt.plot(param_range, test_scores_mean, label=\"Cross-validation score\", color=\"red\")\n",
    "plt.fill_between(param_range, train_scores_mean - train_scores_std, train_scores_mean + train_scores_std, color=\"gray\")\n",
    "plt.fill_between(param_range, test_scores_mean - test_scores_std, test_scores_mean + test_scores_std, color=\"green\")\n",
    "plt.title(\"Validation Curve for naive bayes for different alpha value\")\n",
    "plt.xlabel(\"alpha value\")\n",
    "plt.ylabel(\"Accuracy Score\")\n",
    "plt.xlim(0,10)\n",
    "plt.tight_layout()\n",
    "plt.legend(loc=\"best\")\n",
    "plt.show()\n",
    "\n",
    "#plt.title(\"Validation Curve with NB\")\n",
    "#plt.xlabel(\"alpha\")\n",
    "#plt.ylabel(\"Score\")\n",
    "#plt.ylim(0.0, 1.1)\n",
    "#lw = 2\n",
    "#plt.semilogx(param_range, train_scores_mean, label=\"Training score\", color=\"darkorange\", lw=lw)\n",
    "#plt.fill_between(param_range, train_scores_mean - train_scores_std, train_scores_mean + train_scores_std, alpha=0.2,                 color=\"darkorange\", lw=lw)\n",
    "#plt.semilogx(param_range, test_scores_mean, label=\"Cross-validation score\", color=\"navy\", lw=lw)\n",
    "#plt.fill_between(param_range, test_scores_mean - test_scores_std, test_scores_mean + test_scores_std, alpha=0.2,color=\"navy\", lw=lw)\n",
    "#plt.legend(loc=\"best\")\n",
    "#plt.show()\n"
   ]
  },
  {
   "cell_type": "markdown",
   "metadata": {},
   "source": []
  },
  {
   "cell_type": "code",
   "execution_count": null,
   "metadata": {
    "collapsed": true
   },
   "outputs": [],
   "source": []
  },
  {
   "cell_type": "markdown",
   "metadata": {
    "collapsed": true
   },
   "source": []
  },
  {
   "cell_type": "code",
   "execution_count": null,
   "metadata": {},
   "outputs": [],
   "source": []
  },
  {
   "cell_type": "markdown",
   "metadata": {
    "collapsed": true
   },
   "source": []
  },
  {
   "cell_type": "code",
   "execution_count": null,
   "metadata": {},
   "outputs": [],
   "source": []
  },
  {
   "cell_type": "markdown",
   "metadata": {},
   "source": []
  },
  {
   "cell_type": "markdown",
   "metadata": {
    "collapsed": true
   },
   "source": [
    "# Here is the performance accuracy\n",
    "Belo is the accuracy and f score of BOW and TFIDF"
   ]
  },
  {
   "cell_type": "code",
   "execution_count": 131,
   "metadata": {},
   "outputs": [
    {
     "data": {
      "text/html": [
       "<div>\n",
       "<style>\n",
       "    .dataframe thead tr:only-child th {\n",
       "        text-align: right;\n",
       "    }\n",
       "\n",
       "    .dataframe thead th {\n",
       "        text-align: left;\n",
       "    }\n",
       "\n",
       "    .dataframe tbody tr th {\n",
       "        vertical-align: top;\n",
       "    }\n",
       "</style>\n",
       "<table border=\"1\" class=\"dataframe\">\n",
       "  <thead>\n",
       "    <tr style=\"text-align: right;\">\n",
       "      <th></th>\n",
       "      <th>Alpha</th>\n",
       "      <th>test_score_accuracy</th>\n",
       "      <th>test_score_fscore</th>\n",
       "      <th>train_score_accuracy</th>\n",
       "      <th>train_score_fscore</th>\n",
       "      <th>type</th>\n",
       "    </tr>\n",
       "  </thead>\n",
       "  <tbody>\n",
       "    <tr>\n",
       "      <th>0</th>\n",
       "      <td>1</td>\n",
       "      <td>0.884667</td>\n",
       "      <td>0.932422</td>\n",
       "      <td>0.931857</td>\n",
       "      <td>0.960815</td>\n",
       "      <td>BOW</td>\n",
       "    </tr>\n",
       "    <tr>\n",
       "      <th>0</th>\n",
       "      <td>7</td>\n",
       "      <td>0.826167</td>\n",
       "      <td>0.622973</td>\n",
       "      <td>0.850500</td>\n",
       "      <td>0.629767</td>\n",
       "      <td>TFIDF</td>\n",
       "    </tr>\n",
       "  </tbody>\n",
       "</table>\n",
       "</div>"
      ],
      "text/plain": [
       "   Alpha  test_score_accuracy  test_score_fscore  train_score_accuracy  \\\n",
       "0      1             0.884667           0.932422              0.931857   \n",
       "0      7             0.826167           0.622973              0.850500   \n",
       "\n",
       "   train_score_fscore    type  \n",
       "0            0.960815    BOW   \n",
       "0            0.629767  TFIDF   "
      ]
     },
     "execution_count": 131,
     "metadata": {},
     "output_type": "execute_result"
    }
   ],
   "source": [
    "aa"
   ]
  },
  {
   "cell_type": "markdown",
   "metadata": {
    "collapsed": true
   },
   "source": []
  },
  {
   "cell_type": "code",
   "execution_count": null,
   "metadata": {
    "collapsed": true
   },
   "outputs": [],
   "source": []
  },
  {
   "cell_type": "code",
   "execution_count": null,
   "metadata": {
    "collapsed": true
   },
   "outputs": [],
   "source": []
  },
  {
   "cell_type": "code",
   "execution_count": null,
   "metadata": {
    "collapsed": true
   },
   "outputs": [],
   "source": []
  }
 ],
 "metadata": {
  "kernelspec": {
   "display_name": "Python 3",
   "language": "python",
   "name": "python3"
  },
  "language_info": {
   "codemirror_mode": {
    "name": "ipython",
    "version": 3
   },
   "file_extension": ".py",
   "mimetype": "text/x-python",
   "name": "python",
   "nbconvert_exporter": "python",
   "pygments_lexer": "ipython3",
   "version": "3.6.1"
  }
 },
 "nbformat": 4,
 "nbformat_minor": 2
}
