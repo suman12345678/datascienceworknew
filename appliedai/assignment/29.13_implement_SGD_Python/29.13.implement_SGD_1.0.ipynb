{
 "cells": [
  {
   "cell_type": "markdown",
   "metadata": {
    "collapsed": true
   },
   "source": [
    "# Implement SGD on bston dataset\n",
    "Dataset from sklearn load_boston\n",
    "\n",
    "The GD is theta=theta-alpha*derivative(cost function)\n",
    "equ=y=wtx+b; \n",
    "cost = (y-wtx-b)^2 \n",
    "determinant wrt w=> -2(y-wtx-b)x \n",
    "determinant wrt b => -2(y-wtx-b); \n",
    "in general : loss*  These are in vec notation\n",
    "\n",
    "h=np.dot(x,theta);\n",
    "loss=h-y;\n",
    "cost=np.sum(loss**2)/(2*m);\n",
    "gradient=np.dot(xt,loss)/m;\n",
    "theta=theta-alpha*gradient    \n",
    "\n",
    "# Objective\n",
    "Implement the model and compare the intercept and weights with sklearn\n",
    "\n",
    "# Import data and libraries and split train and test by 80:20"
   ]
  },
  {
   "cell_type": "code",
   "execution_count": 139,
   "metadata": {},
   "outputs": [
    {
     "name": "stdout",
     "output_type": "stream",
     "text": [
      "(506, 13)\n"
     ]
    }
   ],
   "source": [
    "from sklearn.datasets import load_boston\n",
    "import numpy as np\n",
    "import matplotlib.pyplot as plt\n",
    "\n",
    "boston = load_boston()\n",
    "print(boston.data.shape)\n",
    "boston.data[0:1]\n",
    "\n",
    "y=np.array(boston.target)\n",
    "x=np.array(boston.data)\n",
    "from sklearn.preprocessing import normalize, StandardScaler\n",
    "x = normalize(x, norm='l1', axis=0)\n",
    "#y = normalize(y.reshape(-1, 1), norm='l1', axis=0)\n",
    "#y=y.ravel()\n",
    "#print(\"shape of y\",y.shape)\n",
    "\n",
    "x_train=x[0:450]\n",
    "x_test=x[451:505]\n",
    "y_train=y[0:450]\n",
    "y_test=y[451:505]"
   ]
  },
  {
   "cell_type": "markdown",
   "metadata": {
    "scrolled": true
   },
   "source": [
    "# Create my model and cost function to calculate cost"
   ]
  },
  {
   "cell_type": "code",
   "execution_count": 140,
   "metadata": {},
   "outputs": [],
   "source": [
    "# Create all functions\n",
    "\n",
    "#m=no of obs,n=no of features\n",
    "def grad(x,y,theta,alpha=.0001,iteration=1000,k=200):\n",
    "  \n",
    "  #for SGD\n",
    "  m=x.shape[0]\n",
    "  \n",
    "  idx=np.random.randint(m,size=k)\n",
    "  x=x[idx,:]\n",
    "  y=np.random.choice(y,k)\n",
    "  #print('for SGD new size',x.shape,y.shape)\n",
    "\n",
    "  m,n=np.shape(x)\n",
    "  xt=x.transpose()\n",
    "  #print(\"x y, theta , m,n,shape before multiply\",x.shape,y.shape,theta.shape,m,n)\n",
    "  oldcost=0\n",
    "  bold=0\n",
    "  l=0\n",
    "  thetaprev=theta\n",
    "  prevalpha=alpha \n",
    "  optimumcost=0\n",
    "  ind=0   \n",
    "  for i in range(0,iteration):\n",
    "     l=l+1\n",
    "     h=np.dot(x,theta)\n",
    "     #print(\"\\nbefore loss h and y\",h.shape,y.shape)\n",
    "     loss=h-y\n",
    "     #print('loss',loss)\n",
    "     cost=np.sum(loss**2)/(2*k)\n",
    "     #if (oldcost^=0 & cost-oldcost<20):\n",
    "     #       break;\n",
    "     #if change is very slow increase alpha \n",
    "     b=(cost-oldcost)/oldcost\n",
    "     #print(\"At iteration %d Cost : %f oldcost : %f alpha %f cost compare %f\" %(i,cost,oldcost,alpha,b))\n",
    "     #if ((b>0 & bold<0) | (b<0 & bold>0)):\n",
    "     if((cost>oldcost) & (oldcost>0) & (ind==0)): \n",
    "         #set optimumcost only one time\n",
    "            ind=1\n",
    "            optimumcost=oldcost  \n",
    "            alpha=alpha/2\n",
    "            print(\"opt cost,ind\",optimumcost,ind)\n",
    "            theta=thetaprev\n",
    "            print('new alpha',alpha,'cost',cost,'old cost',oldcost)\n",
    "            continue   \n",
    "     elif ((b>-.05) & (ind==0)):\n",
    "            alpha=alpha*2\n",
    "     #elif (ind==1):\n",
    "     #       alpha=alpha*1.15\n",
    "     #       ind=2\n",
    "     \n",
    "     gradient=np.dot(xt,loss)/k\n",
    "     #print(\"\\ngradient\\n\",gradient)\n",
    "     theta=theta-alpha*gradient\n",
    "     aa=alpha*gradient\n",
    "     b=(cost-oldcost)/oldcost\n",
    "     oldcost=cost   \n",
    "     thetaprev=theta\n",
    "     prevalpha=alpha\n",
    "  return theta,cost \n",
    "     \n",
    "def data(x,y,k=10):    \n",
    "  x=np.append(x, np.ones([x.shape[0], 1]), axis=1)  #with intercept\n",
    "  #without intercept\n",
    "  n1=np.shape(x)[1]\n",
    "\n",
    "  theta=np.random.randn(n1)\n",
    "  print(\"theta passed shaped\",theta.shape,theta)\n",
    "  newtheta,cost=grad(x,y,theta)\n",
    "  print('coefficient of mymodel',newtheta)\n",
    "  return newtheta,cost  \n",
    "    \n",
    "def predictcost(x,newtheta):\n",
    "    x=np.append(x, np.ones([x.shape[0], 1]), axis=1) #with intercept\n",
    "    #without intercept\n",
    "    y=np.dot(x,newtheta)\n",
    "    return y\n",
    "\n",
    "def cost1(y_pred,y_test):\n",
    "    loss=-y_pred+y_test\n",
    "    cost=np.sum(loss**2)/(2*y_test.shape[0])\n",
    "    return cost"
   ]
  },
  {
   "cell_type": "markdown",
   "metadata": {},
   "source": [
    "# Use my model on boston data"
   ]
  },
  {
   "cell_type": "code",
   "execution_count": 141,
   "metadata": {},
   "outputs": [
    {
     "name": "stdout",
     "output_type": "stream",
     "text": [
      "theta passed shaped (14,) [ 0.84181168  0.28353384 -1.65890218  0.67759257 -0.23250494  1.55153407\n",
      "  0.95602726 -0.60950194  1.19612826  0.36614641  0.18908912  0.16858242\n",
      "  1.53765322  0.13158901]\n",
      "opt cost,ind 36.6582077629 1\n",
      "new alpha 1.6384 cost 36.7077999525 old cost 36.6582077629\n",
      "coefficient of mymodel [ -4.30642126e+00   4.82291220e+00  -2.55874326e+00  -1.06998034e+01\n",
      "  -6.13320333e-01   1.74705492e+00  -1.84281057e-03   5.26956375e-01\n",
      "  -5.46160077e-01  -2.90538283e-01   2.86636557e-01   4.13640841e-01\n",
      "   9.42275633e-01   2.22545481e+01]\n",
      "mymodel cost from the train 36.529936717\n",
      "my model cost from the test 15.2824107048\n"
     ]
    },
    {
     "data": {
      "image/png": "[encoded data removed]",
      "text/plain": [
       "<Figure size 432x288 with 1 Axes>"
      ]
     },
     "metadata": {},
     "output_type": "display_data"
    }
   ],
   "source": [
    "import warnings\n",
    "warnings.filterwarnings('ignore')\n",
    "\n",
    "import pandas as pd\n",
    "#print(\"train test split\",x_train.shape,x_test.shape,y_train.shape,y_test.shape)\n",
    "#scale=StandardScaler(with_mean=True)\n",
    "#x_train=scale.fit_transform(x_train)\n",
    "#x_test=scale.transform(x_test)\n",
    "\n",
    "\n",
    "\n",
    "newtheta,cost=data(x_train,y_train)    \n",
    "print(\"mymodel cost from the train\",cost)\n",
    "#predict\n",
    "y_pred=predictcost(x_train,newtheta)\n",
    "cost=cost1(y_pred,y_train)\n",
    "\n",
    "y_pred=predictcost(x_test,newtheta)\n",
    "c=cost1(y_pred,y_test)\n",
    "\n",
    "#print(y_pred.shape,y_test.shape)\n",
    "print(\"my model cost from the test\",c)\n",
    "aa=pd.DataFrame({'type':['mymodel'],'train_cost':[cost],'test_cost':[c],'Coeff':[newtheta]})\n",
    "#print(aa)\n",
    "\n",
    "plt.scatter(y_test, y_pred)\n",
    "plt.xlabel(\"Prices: $Y_i$\")\n",
    "plt.ylabel(\"Predicted prices: $\\hat{Y}_i$\")\n",
    "plt.title(\"my model Prices vs Predicted prices: $Y_i$ vs $\\hat{Y}_i$\")\n",
    "plt.show()\n",
    "\n"
   ]
  },
  {
   "cell_type": "markdown",
   "metadata": {
    "collapsed": true
   },
   "source": [
    "# Use SGDREGRESSOR model on boston data"
   ]
  },
  {
   "cell_type": "code",
   "execution_count": 142,
   "metadata": {},
   "outputs": [
    {
     "name": "stdout",
     "output_type": "stream",
     "text": [
      "(450, 1) (54, 1) (450, 13) (54, 13)\n",
      "SGDRegressor(alpha=0.0001, average=False, epsilon=0.1, eta0=0.01,\n",
      "       fit_intercept=True, l1_ratio=0.15, learning_rate='invscaling',\n",
      "       loss='squared_loss', max_iter=None, n_iter=None, penalty='l2',\n",
      "       power_t=0.25, random_state=None, shuffle=True, tol=None, verbose=0,\n",
      "       warm_start=False)\n",
      "coefficient of sgdregressor model [ 22.73990766] [-0.03697114  0.10995223  0.01883134  0.10206679  0.03709152  0.05158118\n",
      "  0.03142505  0.0571567   0.01386032  0.0279774   0.03979366  0.05169953\n",
      "  0.00950983]\n",
      "sklearn Cost from train\n",
      "-0.000943380226666\n",
      "shape (450,) (450, 1)\n",
      "<class 'pandas.core.series.Series'>\n",
      "train cost : 45.1897757515\n",
      "test cost 17.2183729505\n"
     ]
    },
    {
     "data": {
      "image/png": "[encoded data removed]",
      "text/plain": [
       "<Figure size 432x288 with 1 Axes>"
      ]
     },
     "metadata": {},
     "output_type": "display_data"
    },
    {
     "name": "stdout",
     "output_type": "stream",
     "text": [
      "                                               Coeff  test_cost  train_cost  \\\n",
      "0  [-4.30642126306, 4.82291219613, -2.55874326256...  15.282411   45.445280   \n",
      "0  [-0.0369711351004, 0.109952233902, 0.018831339...  17.218373   45.189776   \n",
      "\n",
      "           type  \n",
      "0       mymodel  \n",
      "0  sgdregressor  \n"
     ]
    }
   ],
   "source": [
    "import warnings\n",
    "warnings.filterwarnings('ignore')\n",
    "\n",
    "# Use sklearn\n",
    "import pandas as pd\n",
    "from sklearn.linear_model import SGDRegressor\n",
    "x_train=pd.DataFrame(x_train)\n",
    "x_test=pd.DataFrame(x_test)\n",
    "y_train=pd.DataFrame(y_train)\n",
    "y_test=pd.DataFrame(y_test)\n",
    "#print(x_train)\n",
    "#print(y_train)\n",
    "\n",
    "print(y_train.shape,y_test.shape,x_train.shape,x_test.shape)\n",
    "lm = SGDRegressor(fit_intercept=True)\n",
    "lm.fit(x_train, y_train)\n",
    "#print(lm.coef_)\n",
    "print(lm)\n",
    "#y_test.reshape(-1,1)\n",
    "#np.reshape(y_test,54)\n",
    "#print(y_test.shape)\n",
    "y_pred = lm.predict(x_train)\n",
    "print('coefficient of sgdregressor model',lm.intercept_,lm.coef_)\n",
    "\n",
    "#c=cost1(y_pred,y_train)\n",
    "y_predtrain = lm.predict(x_train)\n",
    "print(\"sklearn Cost from train\")\n",
    "print(lm.score(x_train,y_train))\n",
    "\n",
    "#c1=cost1(y_pred,y_test)\n",
    "y_predtest = lm.predict(x_test)\n",
    "print(\"shape\",y_predtrain.shape,y_train.shape)\n",
    "print(type(cost1(y_predtrain.reshape(450,1),y_train)))\n",
    "print(\"train cost :\",cost1(y_predtrain.reshape(450,1),y_train)[0])\n",
    "\n",
    "print(\"test cost\",cost1(y_predtest.reshape(54,1),y_test)[0])\n",
    "#print(y_predtrain)\n",
    "#print(y_train)\n",
    "#print(\"sklearn Cost from test\",lm.score(y_predtest,y_test))\n",
    "#bb=pd.DataFrame({'type':['sgdregressor'],'train_cost':[lm.score(x_train,y_train)],'test_cost':[lm.score(x_test,y_test)],'Coeff':[lm.coef_]})\n",
    "bb=pd.DataFrame({'type':['sgdregressor'],'train_cost':[cost1(y_predtrain.reshape(450,1),y_train)[0]],'test_cost':[cost1(y_predtest.reshape(54,1),y_test)[0]],'Coeff':[lm.coef_]})\n",
    "aa=aa.append(bb)\n",
    "\n",
    "plt.scatter(y_test, y_predtest)\n",
    "plt.xlabel(\"Prices: $Y_i$\")\n",
    "plt.ylabel(\"Predicted prices: $\\hat{Y}_i$\")\n",
    "plt.title(\"sgdregressor Prices vs Predicted prices: $Y_i$ vs $\\hat{Y}_i$\")\n",
    "plt.show()\n",
    "\n",
    "print(aa)"
   ]
  },
  {
   "cell_type": "markdown",
   "metadata": {
    "collapsed": true
   },
   "source": [
    "# Score comparision of mymodel and SGDregressor\n"
   ]
  },
  {
   "cell_type": "code",
   "execution_count": 143,
   "metadata": {},
   "outputs": [
    {
     "name": "stdout",
     "output_type": "stream",
     "text": [
      "sklearn coeff [ 22.73990766] [-0.03697114  0.10995223  0.01883134  0.10206679  0.03709152  0.05158118\n",
      "  0.03142505  0.0571567   0.01386032  0.0279774   0.03979366  0.05169953\n",
      "  0.00950983]\n",
      "mymodel theta including intercept -4.30642126306 [  4.82291220e+00  -2.55874326e+00  -1.06998034e+01  -6.13320333e-01\n",
      "   1.74705492e+00  -1.84281057e-03   5.26956375e-01  -5.46160077e-01\n",
      "  -2.90538283e-01   2.86636557e-01   4.13640841e-01   9.42275633e-01\n",
      "   2.22545481e+01]\n"
     ]
    },
    {
     "data": {
      "image/png": "[encoded data removed]",
      "text/plain": [
       "<Figure size 432x288 with 1 Axes>"
      ]
     },
     "metadata": {},
     "output_type": "display_data"
    }
   ],
   "source": [
    "print('sklearn coeff',lm.intercept_,lm.coef_)\n",
    "print('mymodel theta including intercept',newtheta[0],newtheta[1:])\n",
    "x1=lm.intercept_.tolist()\n",
    "x2=lm.coef_.tolist()\n",
    "x1.extend(x2)\n",
    "y=newtheta.tolist()\n",
    "import matplotlib.pyplot as plt\n",
    "plt.title(\"Compare sgd regressor and mymodel coefficient\")\n",
    "plt.xlabel(\"sgdregressor\")\n",
    "plt.ylabel(\"my model coefficient\")\n",
    "plt.scatter(np.array(x1),np.array(y))\n",
    "plt.show()"
   ]
  },
  {
   "cell_type": "code",
   "execution_count": null,
   "metadata": {},
   "outputs": [],
   "source": []
  },
  {
   "cell_type": "markdown",
   "metadata": {},
   "source": [
    "# Observation\n",
    "1. While trying learning rate of different value sometimes cost is going towards very hogh value, so tried with higher value\n",
    "2. After trying more iteration cost is going down with a very small alpha value\n",
    "3. sklearn model is performing better with cost close to 0 but my model cost is close to 30\n",
    "4. Best cost is achieved by different trial cost function\n",
    "5. theta are not changing much from initial random value (when alpha like .000005) \n",
    "6. when alpha taken like .05 , gradient is becoming too high. cost function is becoming inf, theta are becoming very high\n",
    "7. sklearn model is always getting global minimum but my model doesnot"
   ]
  },
  {
   "cell_type": "code",
   "execution_count": null,
   "metadata": {},
   "outputs": [],
   "source": []
  },
  {
   "cell_type": "code",
   "execution_count": null,
   "metadata": {
    "collapsed": true
   },
   "outputs": [],
   "source": []
  },
  {
   "cell_type": "code",
   "execution_count": null,
   "metadata": {
    "collapsed": true
   },
   "outputs": [],
   "source": []
  }
 ],
 "metadata": {
  "kernelspec": {
   "display_name": "Python 3",
   "language": "python",
   "name": "python3"
  },
  "language_info": {
   "codemirror_mode": {
    "name": "ipython",
    "version": 3
   },
   "file_extension": ".py",
   "mimetype": "text/x-python",
   "name": "python",
   "nbconvert_exporter": "python",
   "pygments_lexer": "ipython3",
   "version": "3.5.5"
  }
 },
 "nbformat": 4,
 "nbformat_minor": 2
}
