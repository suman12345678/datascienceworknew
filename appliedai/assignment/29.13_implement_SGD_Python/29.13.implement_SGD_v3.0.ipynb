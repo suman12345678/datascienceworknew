{
 "cells": [
  {
   "cell_type": "markdown",
   "metadata": {
    "collapsed": true
   },
   "source": [
    "# Implement SGD on bston dataset\n",
    "Dataset from sklearn load_boston\n",
    "\n",
    "The GD is theta=theta-alpha*derivative(cost function)\n",
    "equ=y=wtx+b; \n",
    "cost = (y-wtx-b)^2 \n",
    "determinant wrt w=> -2(y-wtx-b)x \n",
    "determinant wrt b => -2(y-wtx-b); \n",
    "in general : loss*  These are in vec notation\n",
    "\n",
    "h=np.dot(x,theta);\n",
    "loss=h-y;\n",
    "cost=np.sum(loss**2)/(2*m);\n",
    "gradient=np.dot(xt,loss)/m;\n",
    "theta=theta-alpha*gradient    \n",
    "\n",
    "# Objective\n",
    "Implement the model and compare the intercept and weights with sklearn\n",
    "\n",
    "# Import data and libraries and split train and test by 80:20"
   ]
  },
  {
   "cell_type": "code",
   "execution_count": 31,
   "metadata": {},
   "outputs": [
    {
     "name": "stdout",
     "output_type": "stream",
     "text": [
      "(506, 13)\n"
     ]
    }
   ],
   "source": [
    "from sklearn.datasets import load_boston\n",
    "import numpy as np\n",
    "import matplotlib.pyplot as plt\n",
    "\n",
    "boston = load_boston()\n",
    "print(boston.data.shape)\n",
    "boston.data[0:1]\n",
    "\n",
    "y=np.array(boston.target)\n",
    "x=np.array(boston.data)\n",
    "from sklearn.preprocessing import normalize, StandardScaler\n",
    "#x = normalize(x, norm='l1', axis=0)\n",
    "#y = normalize(y.reshape(-1, 1), norm='l1', axis=0)\n",
    "#y=y.ravel()\n",
    "for i in range(len(x[1,:])):\n",
    "        x[:,i] = ( (x[:,i] - np.min(x[:,i])) / (np.max(x[:,i]) - np.min(x[:,i])) )\n",
    "        \n",
    "x_train=x[0:450]\n",
    "x_test=x[451:505]\n",
    "y_train=y[0:450]\n",
    "y_test=y[451:505]"
   ]
  },
  {
   "cell_type": "markdown",
   "metadata": {
    "scrolled": true
   },
   "source": [
    "# Create my model and cost function to calculate cost"
   ]
  },
  {
   "cell_type": "code",
   "execution_count": 32,
   "metadata": {},
   "outputs": [],
   "source": [
    "def getWeights(x):\n",
    "    lenWeights = len(x[1,:]);\n",
    "    weights = np.random.rand(lenWeights)\n",
    "    bias = np.random.random();\n",
    "    return weights,bias\n",
    "\n",
    "def train(x,y,weights,bias,maxIter):\n",
    "    converged = False;\n",
    "    iterations = 1;\n",
    "    m = len(x);\n",
    "    alpha = 0.0001;\n",
    "    \n",
    "    while not converged:\n",
    "            for i in range(len(x)):\n",
    "                #idx=np.random.randint(m,size=200)\n",
    "                htheta = np.dot(x[i,:], weights) + bias;\n",
    "                # Calculate gradient\n",
    "                error = htheta - y[i];\n",
    "                grad = (alpha) * ( error * x[i,:] );\n",
    "                # Update weights and bias\n",
    "                weights = weights - grad;\n",
    "                bias = bias - alpha * error;\n",
    "                iterations = iterations + 1;\n",
    "                #alpha=alpha/pow(iterations,.25)\n",
    "                \n",
    "                if iterations > maxIter:\n",
    "                    converged = True;\n",
    "                    break\n",
    "\n",
    "    return weights.transpose(), bias\n",
    "\n",
    "\n",
    "def predict(x, weights, bias):\n",
    "    return np.dot(x,weights) + bias\n"
   ]
  },
  {
   "cell_type": "markdown",
   "metadata": {},
   "source": [
    "# Use my model on boston data"
   ]
  },
  {
   "cell_type": "code",
   "execution_count": 33,
   "metadata": {},
   "outputs": [
    {
     "data": {
      "image/png": "[encoded data removed]",
      "text/plain": [
       "<Figure size 432x288 with 1 Axes>"
      ]
     },
     "metadata": {},
     "output_type": "display_data"
    }
   ],
   "source": [
    "import warnings\n",
    "warnings.filterwarnings('ignore')\n",
    "\n",
    "initialWeights,initialBias = getWeights(x_train);\n",
    "weights,bias = train(x_train,y_train,initialWeights,initialBias,50000);\n",
    "y_pred_test = predict(x_test, weights,bias);\n",
    "MSE_test1 = .5*np.mean((y_pred_test - y_test)**2);\n",
    "y_pred_train = predict(x_train, weights,bias);\n",
    "MSE_train= .5*np.mean((y_pred_train - y_train)**2);\n",
    "#    sklearnModel = LinearRegression();\n",
    "#    sklearnModel = sklearnModel.fit(x_train,y_train);\n",
    "#    sklearnModel1 = sklearnModel.predict(x_test);\n",
    "\n",
    "#    skMSE = .5*np.mean((sklearnModel1 - y_test)**2);\n",
    "    \n",
    "    #print (\"Sklearn MSE: \" + str(skMSE))\n",
    "    #print(\"Sklearn coefficient\",sklearnModel.intercept_,sklearnModel.coef_)\n",
    "import pandas as pd    \n",
    "aa=pd.DataFrame({'type':['MyModel'],'train_cost':[MSE_train],'test_cost':[MSE_test1],'Bias':[bias],'Coeff':[weights]})\n",
    "    \n",
    "    \n",
    "plt.scatter(y_test, y_pred_test)\n",
    "plt.xlabel(\"Prices: $Y_i$\")\n",
    "plt.ylabel(\"Predicted prices: $\\hat{Y}_i$\")\n",
    "plt.title(\"my model Prices vs Predicted prices: $Y_i$ vs $\\hat{Y}_i$\")\n",
    "plt.show()\n",
    "\n"
   ]
  },
  {
   "cell_type": "markdown",
   "metadata": {
    "collapsed": true
   },
   "source": [
    "# Use SGDREGRESSOR model on boston data"
   ]
  },
  {
   "cell_type": "code",
   "execution_count": 34,
   "metadata": {},
   "outputs": [
    {
     "data": {
      "image/png": "[encoded data removed]",
      "text/plain": [
       "<Figure size 432x288 with 1 Axes>"
      ]
     },
     "metadata": {},
     "output_type": "display_data"
    },
    {
     "name": "stdout",
     "output_type": "stream",
     "text": [
      "              Bias                                              Coeff  \\\n",
      "0          8.71079  [-0.695195996803, 4.4958842513, -0.33813337578...   \n",
      "0  [8.71412791204]  [-0.927339319554, 3.46322494887, -0.6315953976...   \n",
      "\n",
      "   test_cost  train_cost          type  \n",
      "0    6.91357   27.323244       MyModel  \n",
      "0    7.76666   28.759085  GSDRegressor  \n"
     ]
    }
   ],
   "source": [
    "import warnings\n",
    "warnings.filterwarnings('ignore')\n",
    "\n",
    "# Use sklearn\n",
    "import pandas as pd\n",
    "from sklearn.linear_model import SGDRegressor\n",
    "lm = SGDRegressor(fit_intercept=True)\n",
    "lm.fit(x_train, y_train)\n",
    "#y_pred = lm.predict(x_test)\n",
    "y_pred_test = lm.predict(x_test);\n",
    "MSE_test = .5*np.mean((y_pred_test - y_test)**2);\n",
    "y_pred_train = lm.predict(x_train);\n",
    "MSE_train= .5*np.mean((y_pred_train - y_train)**2);\n",
    "\n",
    "bb=pd.DataFrame({'type':['GSDRegressor'],'train_cost':[MSE_train],'test_cost':[MSE_test],'Bias':[lm.intercept_],'Coeff':[lm.coef_]})\n",
    "\n",
    "aa=aa.append(bb)\n",
    "\n",
    "plt.scatter(y_test, y_pred_test)\n",
    "plt.xlabel(\"Prices: $Y_i$\")\n",
    "plt.ylabel(\"Predicted prices: $\\hat{Y}_i$\")\n",
    "plt.title(\"sgdregressor Prices vs Predicted prices: $Y_i$ vs $\\hat{Y}_i$\")\n",
    "plt.show()\n",
    "\n",
    "print(aa)"
   ]
  },
  {
   "cell_type": "markdown",
   "metadata": {
    "collapsed": true
   },
   "source": [
    "# Score comparision of mymodel and SGDregressor\n"
   ]
  },
  {
   "cell_type": "code",
   "execution_count": 35,
   "metadata": {},
   "outputs": [
    {
     "name": "stdout",
     "output_type": "stream",
     "text": [
      "<class 'list'> <class 'list'>\n"
     ]
    },
    {
     "data": {
      "image/png": "[encoded data removed]",
      "text/plain": [
       "<Figure size 432x288 with 1 Axes>"
      ]
     },
     "metadata": {},
     "output_type": "display_data"
    }
   ],
   "source": [
    "#print('sklearn coeff',lm.intercept_,lm.coef_)\n",
    "#print('mymodel theta including intercept',newtheta[0],newtheta[1:])\n",
    "x1=lm.intercept_.tolist()\n",
    "x2=lm.coef_.tolist()\n",
    "x1.extend(x2)\n",
    "y1=[bias]\n",
    "y2=weights.tolist()\n",
    "print(type(y1),type(y2))\n",
    "y1.extend(y2)\n",
    "#y=newtheta.tolist()\n",
    "import matplotlib.pyplot as plt\n",
    "plt.title(\"Compare sgd regressor and mymodel coefficient\")\n",
    "plt.xlabel(\"sgdregressor\")\n",
    "plt.ylabel(\"my model coefficient\")\n",
    "plt.scatter(np.array(x1),np.array(y1))\n",
    "plt.show()"
   ]
  },
  {
   "cell_type": "code",
   "execution_count": null,
   "metadata": {},
   "outputs": [],
   "source": []
  },
  {
   "cell_type": "markdown",
   "metadata": {},
   "source": [
    "# Observation\n",
    "1. While trying learning rate of different value sometimes cost is going towards very high value, so tried with higher value\n",
    "2. After trying more iteration cost is going down with a very small alpha value\n",
    "3. SGD model is performing quite similar to mymodel\n",
    "4. Best cost is achieved by different trial cost function\n",
    "    5. Comparision of 2 models"
   ]
  },
  {
   "cell_type": "code",
   "execution_count": 36,
   "metadata": {},
   "outputs": [
    {
     "name": "stdout",
     "output_type": "stream",
     "text": [
      "              Bias                                              Coeff  \\\n",
      "0          8.71079  [-0.695195996803, 4.4958842513, -0.33813337578...   \n",
      "0  [8.71412791204]  [-0.927339319554, 3.46322494887, -0.6315953976...   \n",
      "\n",
      "   test_cost  train_cost          type  \n",
      "0    6.91357   27.323244       MyModel  \n",
      "0    7.76666   28.759085  GSDRegressor  \n",
      "SGD MSE test: 7.76666041996\n",
      "coefficient of SGD model [ 8.71412791] [-0.92733932  3.46322495 -0.6315954   2.11319592 -0.25408998  7.98611331\n",
      "  2.29493099  3.20762966 -1.42943032 -1.17873142  0.78229255  9.29748712\n",
      " -2.62239983]\n",
      "This Model MSE test: 6.91357023558\n",
      "This model coefficient 8.71078644939 [-0.695196    4.49588425 -0.33813338  2.74721491 -0.03185972  8.52556158\n",
      "  2.08880604  3.43583274 -1.3375841  -1.72995185  0.7448961   9.11831041\n",
      " -3.41859194]\n"
     ]
    }
   ],
   "source": [
    "print(aa)\n",
    "print (\"SGD MSE test: \" + str(MSE_test))\n",
    "print('coefficient of SGD model',lm.intercept_,lm.coef_)\n",
    "\n",
    "print (\"This Model MSE test: \" + str(MSE_test1))\n",
    "print(\"This model coefficient\",bias,weights)\n"
   ]
  },
  {
   "cell_type": "code",
   "execution_count": null,
   "metadata": {
    "collapsed": true
   },
   "outputs": [],
   "source": []
  },
  {
   "cell_type": "code",
   "execution_count": null,
   "metadata": {
    "collapsed": true
   },
   "outputs": [],
   "source": []
  }
 ],
 "metadata": {
  "kernelspec": {
   "display_name": "Python 3",
   "language": "python",
   "name": "python3"
  },
  "language_info": {
   "codemirror_mode": {
    "name": "ipython",
    "version": 3
   },
   "file_extension": ".py",
   "mimetype": "text/x-python",
   "name": "python",
   "nbconvert_exporter": "python",
   "pygments_lexer": "ipython3",
   "version": "3.5.5"
  }
 },
 "nbformat": 4,
 "nbformat_minor": 2
}
