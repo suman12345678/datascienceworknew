{
 "cells": [
  {
   "cell_type": "markdown",
   "metadata": {
    "collapsed": true
   },
   "source": [
    "# Implement SGD on bston dataset\n",
    "Dataset from sklearn load_boston\n",
    "\n",
    "The GD is theta=theta-alpha*derivative(cost function)\n",
    "equ=y=wtx+b; \n",
    "cost = (y-wtx-b)^2 \n",
    "determinant wrt w=> -2(y-wtx-b)x \n",
    "determinant wrt b => -2(y-wtx-b); \n",
    "in general : loss*  These are in vec notation\n",
    "\n",
    "h=np.dot(x,theta);\n",
    "loss=h-y;\n",
    "cost=np.sum(loss**2)/(2*m);\n",
    "gradient=np.dot(xt,loss)/m;\n",
    "theta=theta-alpha*gradient    \n",
    "\n",
    "# Objective\n",
    "Implement the model and compare the intercept and weights with sklearn\n",
    "\n",
    "# Import data and libraries"
   ]
  },
  {
   "cell_type": "code",
   "execution_count": 31,
   "metadata": {},
   "outputs": [
    {
     "name": "stdout",
     "output_type": "stream",
     "text": [
      "(506, 13)\n"
     ]
    },
    {
     "data": {
      "text/plain": [
       "array([[  6.32000000e-03,   1.80000000e+01,   2.31000000e+00,\n",
       "          0.00000000e+00,   5.38000000e-01,   6.57500000e+00,\n",
       "          6.52000000e+01,   4.09000000e+00,   1.00000000e+00,\n",
       "          2.96000000e+02,   1.53000000e+01,   3.96900000e+02,\n",
       "          4.98000000e+00]])"
      ]
     },
     "execution_count": 31,
     "metadata": {},
     "output_type": "execute_result"
    }
   ],
   "source": [
    "from sklearn.datasets import load_boston\n",
    "import numpy as np\n",
    "import matplotlib.pyplot as plt\n",
    "\n",
    "boston = load_boston()\n",
    "print(boston.data.shape)\n",
    "boston.data[0:1]"
   ]
  },
  {
   "cell_type": "markdown",
   "metadata": {
    "scrolled": true
   },
   "source": [
    "# Create model"
   ]
  },
  {
   "cell_type": "code",
   "execution_count": 32,
   "metadata": {
    "collapsed": true
   },
   "outputs": [],
   "source": [
    "# Create all functions\n",
    "\n",
    "#m=no of obs,n=no of features\n",
    "def grad(x,y,theta,alpha=.000055,iteration=1000,k=200):\n",
    "  \n",
    "  #for SGD\n",
    "  m=x.shape[0]\n",
    "  \n",
    "  idx=np.random.randint(m,size=k)\n",
    "  x=x[idx,:]\n",
    "  y=np.random.choice(y,k)\n",
    "  #print('for SGD new size',x.shape,y.shape)\n",
    "\n",
    "  m,n=np.shape(x)\n",
    "  xt=x.transpose()\n",
    "  #print(\"x y, theta , m,n,shape before multiply\",x.shape,y.shape,theta.shape,m,n)\n",
    "  oldcost=0\n",
    "  bold=0\n",
    "  l=0\n",
    "  thetaprev=theta\n",
    "  prevalpha=alpha \n",
    "  optimumcost=0\n",
    "  ind=0   \n",
    "  for i in range(0,iteration):\n",
    "     l=l+1\n",
    "     h=np.dot(x,theta)\n",
    "     #print(\"\\nbefore loss h and y\",h.shape,y.shape)\n",
    "     loss=h-y\n",
    "     #print('loss',loss)\n",
    "     cost=np.sum(loss**2)/(2*k)\n",
    "     #if (oldcost^=0 & cost-oldcost<20):\n",
    "     #       break;\n",
    "     #if change is very slow increase alpha \n",
    "     b=(cost-oldcost)/oldcost\n",
    "     #print(\"At iteration %d Cost : %f oldcost : %f alpha %f cost compare %f\" %(i,cost,oldcost,alpha,b))\n",
    "     #if ((b>0 & bold<0) | (b<0 & bold>0)):\n",
    "     if((cost>oldcost) & (oldcost>0) & (ind==0)): \n",
    "         #set optimumcost only one time\n",
    "            ind=1\n",
    "            optimumcost=oldcost  \n",
    "            alpha=alpha/2\n",
    "            print(\"opt cost,ind\",optimumcost,ind)\n",
    "            theta=thetaprev\n",
    "            print('new alpha',alpha,'cost',cost,'old cost',oldcost)\n",
    "            continue   \n",
    "     elif ((b>-.05) & (ind==0)):\n",
    "            alpha=alpha*2\n",
    "     #elif (ind==1):\n",
    "     #       alpha=alpha*1.15\n",
    "     #       ind=2\n",
    "     \n",
    "     gradient=np.dot(xt,loss)/k\n",
    "     #print(\"\\ngradient\\n\",gradient)\n",
    "     theta=theta-alpha*gradient\n",
    "     aa=alpha*gradient\n",
    "     b=(cost-oldcost)/oldcost\n",
    "     oldcost=cost   \n",
    "     thetaprev=theta\n",
    "     prevalpha=alpha\n",
    "  return theta,cost \n",
    "     \n",
    "def data(x,y,k=10):    \n",
    "  x=np.append(x, np.ones([x.shape[0], 1]), axis=1)  #with intercept\n",
    "  #without intercept\n",
    "  n1=np.shape(x)[1]\n",
    "\n",
    "  theta=np.random.randn(n1)\n",
    "  print(\"theta passed shaped\",theta.shape,theta)\n",
    "  newtheta,cost=grad(x,y,theta)\n",
    "  print('coefficient of mymodel',newtheta)\n",
    "  return newtheta,cost  \n",
    "    \n",
    "def predict(x,newtheta):\n",
    "    x=np.append(x, np.ones([x.shape[0], 1]), axis=1) #with intercept\n",
    "    #without intercept\n",
    "    y=np.dot(x,newtheta)\n",
    "    return y\n",
    "\n",
    "def cost1(y_pred,y_test):\n",
    "    loss=y_pred-y_test\n",
    "    cost=np.sum(loss**2)/(2*y_test.shape[0])\n",
    "    return cost"
   ]
  },
  {
   "cell_type": "markdown",
   "metadata": {},
   "source": [
    "# Use the model on boston data"
   ]
  },
  {
   "cell_type": "code",
   "execution_count": 38,
   "metadata": {},
   "outputs": [
    {
     "name": "stdout",
     "output_type": "stream",
     "text": [
      "theta passed shaped (14,) [-0.34928575 -0.25273551  0.22934504  3.46410518 -1.1349958  -0.08180187\n",
      "  0.99810155 -0.61935544  0.78171907  1.39291839 -0.62273601 -0.06825148\n",
      " -1.26065196  0.12707627]\n",
      "opt cost,ind 46.4587664143 1\n",
      "new alpha 1.80224 cost 46.471094579 old cost 46.4587664143\n",
      "coefficient of mymodel [ -7.71569671   5.26571763   1.62570695  -1.8206091   -1.09320552\n",
      "  -0.41060108   0.29656759  -0.41699153   1.24613633   1.90826953\n",
      "  -0.41670367   0.35683023  -0.98397464  22.37734593]\n",
      "mymodel cost from the train 46.3899626879\n",
      "my model cost from the test 15.7528961505\n"
     ]
    },
    {
     "data": {
      "image/png": "[encoded data removed]",
      "text/plain": [
       "<matplotlib.figure.Figure at 0x21a04cfafd0>"
      ]
     },
     "metadata": {},
     "output_type": "display_data"
    }
   ],
   "source": [
    "import warnings\n",
    "warnings.filterwarnings('ignore')\n",
    "\n",
    "import pandas as pd\n",
    "y=np.array(boston.target)\n",
    "x=np.array(boston.data)\n",
    "from sklearn.preprocessing import normalize\n",
    "x = normalize(x, norm='l1', axis=0)\n",
    "\n",
    "x_train=x[0:450]\n",
    "x_test=x[451:505]\n",
    "y_train=y[0:450]\n",
    "y_test=y[451:505]\n",
    "#print(\"train test split\",x_train.shape,x_test.shape,y_train.shape,y_test.shape)\n",
    "\n",
    "newtheta,cost=data(x_train,y_train)    \n",
    "print(\"mymodel cost from the train\",cost)\n",
    "#predict\n",
    "y_pred=predict(x_train,newtheta)\n",
    "cost=cost1(y_pred,y_train)\n",
    "\n",
    "y_pred=predict(x_test,newtheta)\n",
    "c=cost1(y_pred,y_test)\n",
    "\n",
    "#print(y_pred.shape,y_test.shape)\n",
    "print(\"my model cost from the test\",c)\n",
    "aa=pd.DataFrame({'type':['mymodel'],'train_cost':[cost],'test_cost':[c],'Coeff':[newtheta]})\n",
    "#print(aa)\n",
    "\n",
    "plt.scatter(y_test, y_pred)\n",
    "plt.xlabel(\"Prices: $Y_i$\")\n",
    "plt.ylabel(\"Predicted prices: $\\hat{Y}_i$\")\n",
    "plt.title(\"my model Prices vs Predicted prices: $Y_i$ vs $\\hat{Y}_i$\")\n",
    "plt.show()\n",
    "\n"
   ]
  },
  {
   "cell_type": "markdown",
   "metadata": {
    "collapsed": true
   },
   "source": [
    "# Use SKLEAR model on boston data"
   ]
  },
  {
   "cell_type": "code",
   "execution_count": 39,
   "metadata": {},
   "outputs": [
    {
     "name": "stdout",
     "output_type": "stream",
     "text": [
      "(450, 1) (54, 1) (450, 13) (54, 13)\n",
      "coefficient of sklearn model [ 22.72590254] [-0.03641638  0.10968696  0.01996954  0.10433229  0.03722955  0.05162522\n",
      "  0.03193732  0.05758237  0.01346549  0.02822044  0.03969217  0.05168383\n",
      "  0.0100268 ]\n",
      "sklearn Cost from train\n",
      "-0.00103925117368\n",
      "                                               Coeff  test_cost  train_cost  \\\n",
      "0  [-7.71569671429, 5.26571762679, 1.62570695438,...  15.752896   45.193189   \n",
      "0  [-0.0364163845211, 0.109686964888, 0.019969538...  -0.945312   -0.001039   \n",
      "\n",
      "      type  \n",
      "0  mymodel  \n",
      "0  sklearn  \n"
     ]
    }
   ],
   "source": [
    "import warnings\n",
    "warnings.filterwarnings('ignore')\n",
    "\n",
    "# Use sklearn\n",
    "import pandas as pd\n",
    "from sklearn.linear_model import SGDRegressor\n",
    "x_train=pd.DataFrame(x_train)\n",
    "x_test=pd.DataFrame(x_test)\n",
    "y_train=pd.DataFrame(y_train)\n",
    "y_test=pd.DataFrame(y_test)\n",
    "\n",
    "\n",
    "print(y_train.shape,y_test.shape,x_train.shape,x_test.shape)\n",
    "lm = SGDRegressor(fit_intercept=True)\n",
    "lm.fit(x_train, y_train)\n",
    "#print(lm.coef_)\n",
    "#y_test.reshape(-1,1)\n",
    "#np.reshape(y_test,54)\n",
    "#print(y_test.shape)\n",
    "y_pred = lm.predict(x_train)\n",
    "print('coefficient of sklearn model',lm.intercept_,lm.coef_)\n",
    "\n",
    "#c=cost1(y_pred,y_train)\n",
    "y_predtrain = lm.predict(x_train)\n",
    "print(\"sklearn Cost from train\")\n",
    "print(lm.score(x_train,y_train))\n",
    "\n",
    "#c1=cost1(y_pred,y_test)\n",
    "y_predtest = lm.predict(x_test)\n",
    "#print(\"sklearn Cost from test\",lm.score(y_predtest,y_test))\n",
    "bb=pd.DataFrame({'type':['sklearn'],'train_cost':[lm.score(x_train,y_train)],'test_cost':[lm.score(x_test,y_test)],'Coeff':[lm.coef_]})\n",
    "aa=aa.append(bb)\n",
    "\n",
    "#plt.scatter(y_test, y_pred)\n",
    "#plt.xlabel(\"Prices: $Y_i$\")\n",
    "#plt.ylabel(\"Predicted prices: $\\hat{Y}_i$\")\n",
    "#plt.title(\"sklearn Prices vs Predicted prices: $Y_i$ vs $\\hat{Y}_i$\")\n",
    "#plt.show()\n",
    "\n",
    "print(aa)"
   ]
  },
  {
   "cell_type": "markdown",
   "metadata": {
    "collapsed": true
   },
   "source": [
    "# Score comparision\n"
   ]
  },
  {
   "cell_type": "code",
   "execution_count": 40,
   "metadata": {},
   "outputs": [
    {
     "name": "stdout",
     "output_type": "stream",
     "text": [
      "                                               Coeff  test_cost  train_cost  \\\n",
      "0  [-7.71569671429, 5.26571762679, 1.62570695438,...  15.752896   45.193189   \n",
      "0  [-0.0364163845211, 0.109686964888, 0.019969538...  -0.945312   -0.001039   \n",
      "\n",
      "      type  \n",
      "0  mymodel  \n",
      "0  sklearn  \n"
     ]
    }
   ],
   "source": [
    "print(aa)"
   ]
  },
  {
   "cell_type": "code",
   "execution_count": 41,
   "metadata": {},
   "outputs": [
    {
     "name": "stdout",
     "output_type": "stream",
     "text": [
      "sklearn coeff [ 22.72590254] [-0.03641638  0.10968696  0.01996954  0.10433229  0.03722955  0.05162522\n",
      "  0.03193732  0.05758237  0.01346549  0.02822044  0.03969217  0.05168383\n",
      "  0.0100268 ]\n",
      "mymodel theta including intercept -7.71569671429 [  5.26571763   1.62570695  -1.8206091   -1.09320552  -0.41060108\n",
      "   0.29656759  -0.41699153   1.24613633   1.90826953  -0.41670367\n",
      "   0.35683023  -0.98397464  22.37734593]\n"
     ]
    }
   ],
   "source": [
    "print('sklearn coeff',lm.intercept_,lm.coef_)\n",
    "#aa[]\n",
    "print('mymodel theta including intercept',newtheta[0],newtheta[1:])"
   ]
  },
  {
   "cell_type": "markdown",
   "metadata": {},
   "source": [
    "# Observation\n",
    "1. While trying learning rate of different value sometimes cost is going towards very hogh value, so tried with higher value\n",
    "2. After trying more iteration cost is going down with a very small alpha value\n",
    "3. sklearn model is performing better with cost close to 0 but my model cost is close to 30\n",
    "4. Best cost is achieved by different trial cost function\n",
    "5. theta are not changing much from initial random value (when alpha like .000005) \n",
    "6. when alpha taken like .05 , gradient is becoming too high. cost function is becoming inf, theta are becoming very high\n",
    "7. sklearn model is always getting global minimum but my model doesnot"
   ]
  },
  {
   "cell_type": "code",
   "execution_count": null,
   "metadata": {
    "collapsed": true
   },
   "outputs": [],
   "source": []
  },
  {
   "cell_type": "code",
   "execution_count": null,
   "metadata": {
    "collapsed": true
   },
   "outputs": [],
   "source": []
  },
  {
   "cell_type": "code",
   "execution_count": null,
   "metadata": {
    "collapsed": true
   },
   "outputs": [],
   "source": []
  }
 ],
 "metadata": {
  "kernelspec": {
   "display_name": "Python 3",
   "language": "python",
   "name": "python3"
  },
  "language_info": {
   "codemirror_mode": {
    "name": "ipython",
    "version": 3
   },
   "file_extension": ".py",
   "mimetype": "text/x-python",
   "name": "python",
   "nbconvert_exporter": "python",
   "pygments_lexer": "ipython3",
   "version": "3.6.1"
  }
 },
 "nbformat": 4,
 "nbformat_minor": 2
}
