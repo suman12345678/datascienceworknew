{
 "cells": [
  {
   "cell_type": "markdown",
   "metadata": {},
   "source": [
    "# Amazon food review dataset apply GBDT to predict polarity review\n",
    "\n",
    "Data set from https://www.kaggle.com/snap/amazon-fine-food-reviews\n",
    "\n",
    "# Objective\n",
    "Here try BOW,TFIDF,avg W2V, avg TFIDFW2V and different hyperparameter GBDT(no of base learner,depth,learning rate)  \n",
    "# Import data and libraries\n",
    " \n",
    " "
   ]
  },
  {
   "cell_type": "code",
   "execution_count": 15,
   "metadata": {
    "collapsed": true
   },
   "outputs": [],
   "source": [
    "import sqlite3\n",
    "import pandas as pd\n",
    "import numpy as np\n",
    "import nltk\n",
    "import string\n",
    "import matplotlib.pyplot as plt\n",
    "import seaborn as sns\n",
    "from sklearn.feature_extraction.text import TfidfTransformer\n",
    "from sklearn.feature_extraction.text import TfidfVectorizer\n",
    "from sklearn.feature_extraction.text import CountVectorizer\n",
    "from sklearn.metrics import confusion_matrix\n",
    "from sklearn import metrics\n",
    "from sklearn.metrics import roc_curve, auc\n",
    "from nltk.stem.porter import PorterStemmer\n",
    "con = sqlite3.connect('database.sqlite') \n",
    "#get only +ve and -ve review \n",
    "raw_data = pd.read_sql_query(\"\"\"SELECT * FROM Reviews WHERE Score != 3\"\"\", con) "
   ]
  },
  {
   "cell_type": "markdown",
   "metadata": {},
   "source": [
    "# Data preprocessing"
   ]
  },
  {
   "cell_type": "code",
   "execution_count": 16,
   "metadata": {
    "collapsed": true
   },
   "outputs": [],
   "source": [
    "filtered_data=raw_data\n",
    "# Score>3 a positive rating, and score<3 a negative rating.\n",
    "def partition(x):\n",
    "    if x < 3:\n",
    "        return 'negative'\n",
    "    return 'positive'\n",
    "\n",
    "#changing reviews with score less than 3 to be positive and vice-versa\n",
    "actualScore = filtered_data['Score']\n",
    "positiveNegative = actualScore.map(partition) \n",
    "filtered_data['Score'] = positiveNegative\n",
    "#filtered_data.sample(5)\n",
    "filtered_data['Score'].value_counts()\n",
    "#Sorting data according to ProductId in ascending order\n",
    "sorted_data=filtered_data.sort_values('ProductId', axis=0, ascending=True, inplace=False, kind='quicksort', na_position='last')\n",
    "#Deduplication of entries for same profilename,userid, time, text and take first element \n",
    "sorted_data=sorted_data.drop_duplicates(subset={\"UserId\",\"ProfileName\",\"Time\",\"Text\"}, keep='first', inplace=False)"
   ]
  },
  {
   "cell_type": "code",
   "execution_count": 17,
   "metadata": {},
   "outputs": [
    {
     "data": {
      "text/plain": [
       "positive    8432\n",
       "negative    1568\n",
       "Name: Score, dtype: int64"
      ]
     },
     "execution_count": 17,
     "metadata": {},
     "output_type": "execute_result"
    }
   ],
   "source": [
    "#take only 2500 + 2500 data\n",
    "from sklearn.cross_validation import train_test_split,KFold\n",
    "_ , clean_data = train_test_split(sorted_data, test_size = 10000, random_state=0,stratify = sorted_data['Score'] )\n",
    "clean_data['Score'].value_counts()"
   ]
  },
  {
   "cell_type": "code",
   "execution_count": 18,
   "metadata": {},
   "outputs": [
    {
     "data": {
      "text/html": [
       "<div>\n",
       "<style>\n",
       "    .dataframe thead tr:only-child th {\n",
       "        text-align: right;\n",
       "    }\n",
       "\n",
       "    .dataframe thead th {\n",
       "        text-align: left;\n",
       "    }\n",
       "\n",
       "    .dataframe tbody tr th {\n",
       "        vertical-align: top;\n",
       "    }\n",
       "</style>\n",
       "<table border=\"1\" class=\"dataframe\">\n",
       "  <thead>\n",
       "    <tr style=\"text-align: right;\">\n",
       "      <th></th>\n",
       "      <th>Id</th>\n",
       "      <th>ProductId</th>\n",
       "      <th>UserId</th>\n",
       "      <th>ProfileName</th>\n",
       "      <th>HelpfulnessNumerator</th>\n",
       "      <th>HelpfulnessDenominator</th>\n",
       "      <th>Score</th>\n",
       "      <th>Time</th>\n",
       "      <th>Summary</th>\n",
       "      <th>Text</th>\n",
       "      <th>CleanedText</th>\n",
       "    </tr>\n",
       "  </thead>\n",
       "  <tbody>\n",
       "    <tr>\n",
       "      <th>69317</th>\n",
       "      <td>75358</td>\n",
       "      <td>B002YR97QA</td>\n",
       "      <td>AJ1CD7OI9YFFZ</td>\n",
       "      <td>Mary Frost \"mrtshome\"</td>\n",
       "      <td>0</td>\n",
       "      <td>0</td>\n",
       "      <td>positive</td>\n",
       "      <td>1327795200</td>\n",
       "      <td>Teatulie tea with neem</td>\n",
       "      <td>This tea is interesting.  My friend says neem ...</td>\n",
       "      <td>b'tea interest friend say neem tast take get u...</td>\n",
       "    </tr>\n",
       "    <tr>\n",
       "      <th>163375</th>\n",
       "      <td>177139</td>\n",
       "      <td>B005ZAULI6</td>\n",
       "      <td>A2TG5JHF4CCPGY</td>\n",
       "      <td>Jacqueline A. Johnson</td>\n",
       "      <td>0</td>\n",
       "      <td>0</td>\n",
       "      <td>positive</td>\n",
       "      <td>1328918400</td>\n",
       "      <td>We will see.</td>\n",
       "      <td>I have not had any of this tea yet as it only ...</td>\n",
       "      <td>b'tea yet arriv today told compani would recei...</td>\n",
       "    </tr>\n",
       "  </tbody>\n",
       "</table>\n",
       "</div>"
      ],
      "text/plain": [
       "            Id   ProductId          UserId            ProfileName  \\\n",
       "69317    75358  B002YR97QA   AJ1CD7OI9YFFZ  Mary Frost \"mrtshome\"   \n",
       "163375  177139  B005ZAULI6  A2TG5JHF4CCPGY  Jacqueline A. Johnson   \n",
       "\n",
       "        HelpfulnessNumerator  HelpfulnessDenominator     Score        Time  \\\n",
       "69317                      0                       0  positive  1327795200   \n",
       "163375                     0                       0  positive  1328918400   \n",
       "\n",
       "                       Summary  \\\n",
       "69317   Teatulie tea with neem   \n",
       "163375            We will see.   \n",
       "\n",
       "                                                     Text  \\\n",
       "69317   This tea is interesting.  My friend says neem ...   \n",
       "163375  I have not had any of this tea yet as it only ...   \n",
       "\n",
       "                                              CleanedText  \n",
       "69317   b'tea interest friend say neem tast take get u...  \n",
       "163375  b'tea yet arriv today told compani would recei...  "
      ]
     },
     "execution_count": 18,
     "metadata": {},
     "output_type": "execute_result"
    }
   ],
   "source": [
    "# Clean html tag and punctuation\n",
    "import re\n",
    "import string\n",
    "from nltk.corpus import stopwords\n",
    "from nltk.stem import PorterStemmer\n",
    "from nltk.stem.wordnet import WordNetLemmatizer\n",
    "\n",
    "stop = set(stopwords.words('english')) #set of stopwords\n",
    "sno = nltk.stem.SnowballStemmer('english') #initialising the snowball stemmer\n",
    "#substitute html tag and punctuation\n",
    "def cleanhtml(sentence): #function to clean the word of any html-tags\n",
    "    cleanr = re.compile('<.*?>')\n",
    "    cleantext = re.sub(cleanr, ' ', sentence)\n",
    "    return cleantext\n",
    "def cleanpunc(sentence): #function to clean the word of any punctuation or special characters\n",
    "    cleaned = re.sub(r'[?|!|\\'|\"|#]',r'',sentence)\n",
    "    cleaned = re.sub(r'[.|,|)|(|\\|/]',r' ',cleaned)\n",
    "    return  cleaned\n",
    "#print(sno.stem('tasty'))\n",
    "\n",
    "i=0\n",
    "str1=' '\n",
    "final_string=[]\n",
    "all_positive_words=[] # store words from +ve reviews here\n",
    "all_negative_words=[] # store words from -ve reviews here.\n",
    "s=''\n",
    "#Create new catagory as Cleanedtext after removing htmltag and punctuation and uppercase and word length >2\n",
    "for sent in clean_data['Text'].values:\n",
    "    filtered_sentence=[]\n",
    "    #print(sent);\n",
    "    sent=cleanhtml(sent) # remove HTMl tags\n",
    "    for w in sent.split():\n",
    "        for cleaned_words in cleanpunc(w).split():\n",
    "            if((cleaned_words.isalpha()) & (len(cleaned_words)>2)):    \n",
    "                if(cleaned_words.lower() not in stop):\n",
    "                    s=(sno.stem(cleaned_words.lower())).encode('utf8')\n",
    "                    filtered_sentence.append(s)\n",
    "                    if (clean_data['Score'].values)[i] == 'positive': \n",
    "                        all_positive_words.append(s) #list of all words used to describe positive reviews\n",
    "                    if(clean_data['Score'].values)[i] == 'negative':\n",
    "                        all_negative_words.append(s) #list of all words used to describe negative reviews reviews\n",
    "                else:\n",
    "                    continue\n",
    "            else:\n",
    "                continue \n",
    "    str1 = b\" \".join(filtered_sentence) #final string of cleaned words\n",
    "    \n",
    "    final_string.append(str1)\n",
    "    i+=1  \n",
    "    \n",
    "clean_data['CleanedText']=final_string\n",
    "clean_data.shape\n",
    "#Sort data on timestamp\n",
    "clean_data=clean_data.sort_values(by=['Time'],ascending=False)\n",
    "clean_data.sample(2)\n",
    "\n"
   ]
  },
  {
   "cell_type": "markdown",
   "metadata": {
    "collapsed": true
   },
   "source": [
    "# Split train and test data"
   ]
  },
  {
   "cell_type": "code",
   "execution_count": 19,
   "metadata": {},
   "outputs": [
    {
     "name": "stdout",
     "output_type": "stream",
     "text": [
      "size of X_train, X_test, y_train , y_test  (7000,) (3000,) (7000,) (3000,)\n",
      "positive and negative review in train and test\n",
      " positive    5939\n",
      "negative    1061\n",
      "Name: Score, dtype: int64 \n",
      " positive    2493\n",
      "negative     507\n",
      "Name: Score, dtype: int64\n"
     ]
    }
   ],
   "source": [
    "x=clean_data['CleanedText'].values\n",
    "y = clean_data['Score']\n",
    "n=x.shape[0]\n",
    "n1=int(n*.3)\n",
    "X_test_raw = x[0:n1]\n",
    "X_train_raw= x[n1:n+1]\n",
    "y_test=y[0:n1]\n",
    "y_train=y[n1:n+1]\n",
    "print('size of X_train, X_test, y_train , y_test ',X_train_raw.shape, X_test_raw.shape,y_train.shape,y_test.shape)\n",
    "print(\"positive and negative review in train and test\\n\",y_train.value_counts(),\"\\n\",y_test.value_counts())"
   ]
  },
  {
   "cell_type": "markdown",
   "metadata": {},
   "source": [
    "# Use GDDT\n",
    "# BOW"
   ]
  },
  {
   "cell_type": "code",
   "execution_count": 20,
   "metadata": {},
   "outputs": [
    {
     "name": "stdout",
     "output_type": "stream",
     "text": [
      "(7000, 11134) (3000, 11134)\n"
     ]
    }
   ],
   "source": [
    "#now convert CleanedText to TDM\n",
    "count_vect = CountVectorizer() #in scikit-learn\n",
    "X_train = count_vect.fit_transform(X_train_raw)\n",
    "\n",
    "#use the same vectors to convert test data\n",
    "X_test=count_vect.transform(X_test_raw)\n",
    "print(X_train.get_shape(),X_test.get_shape())\n",
    "X_train_BOW=X_train\n",
    "X_test_BOW=X_test\n",
    "\n",
    "#print(final_counts[0,:])# this is stored like dict format only non zero values. sparse matrix\n",
    "#x = pd.DataFrame(final_counts.toarray())#this is stored like dataframe format all 0 and non zero values. dense matrix\n",
    "# sparse matrix in csr format works faster compare to dense format\n",
    "#print(x.shape,x.loc[0])# sparse matrix in csr format works faster compare to dense format\n",
    "#print(x.shape,x.loc[0])"
   ]
  },
  {
   "cell_type": "code",
   "execution_count": null,
   "metadata": {
    "collapsed": true
   },
   "outputs": [],
   "source": []
  },
  {
   "cell_type": "code",
   "execution_count": 21,
   "metadata": {},
   "outputs": [
    {
     "name": "stdout",
     "output_type": "stream",
     "text": [
      "Best parameters \n",
      " GradientBoostingClassifier(criterion='friedman_mse', init=None,\n",
      "              learning_rate=0.2, loss='deviance', max_depth=7,\n",
      "              max_features=None, max_leaf_nodes=None,\n",
      "              min_impurity_decrease=0.0, min_impurity_split=None,\n",
      "              min_samples_leaf=1, min_samples_split=2,\n",
      "              min_weight_fraction_leaf=0.0, n_estimators=30,\n",
      "              presort='auto', random_state=None, subsample=1.0, verbose=0,\n",
      "              warm_start=False)\n",
      "Predicted  negative  positive   All\n",
      "Actual                             \n",
      "negative        601       460  1061\n",
      "positive          4      5935  5939\n",
      "All             605      6395  7000\n"
     ]
    }
   ],
   "source": [
    "from sklearn.cross_validation import train_test_split\n",
    "from sklearn.neighbors import KNeighborsClassifier\n",
    "from sklearn.metrics import accuracy_score\n",
    "from sklearn.cross_validation import cross_val_score\n",
    "from collections import Counter\n",
    "from sklearn.metrics import accuracy_score\n",
    "from sklearn import cross_validation\n",
    "\n",
    "# Use GBDT\n",
    "from sklearn.tree import DecisionTreeClassifier\n",
    "from sklearn.ensemble import GradientBoostingClassifier\n",
    "from sklearn.grid_search import GridSearchCV\n",
    "learning_rate=[.9,.8,.1,.2]\n",
    "n_estimators=[10,20,30]\n",
    "max_depth=[3,4,5,6,7,8]\n",
    "tuned_parameters=dict(learning_rate=learning_rate,n_estimators=n_estimators,max_depth=max_depth)\n",
    "#Using GridSearchCV\n",
    "model = GridSearchCV(GradientBoostingClassifier(), tuned_parameters, cv=5)\n",
    "model.fit(X_train, y_train)\n",
    "print('Best parameters \\n',model.best_estimator_)\n",
    "optimumlearning_rate=model.best_estimator_.learning_rate\n",
    "optimumn_estimators=model.best_estimator_.n_estimators\n",
    "optimummax_depth=model.best_estimator_.max_depth\n",
    "#build model with optimum parameter\n",
    "model = GradientBoostingClassifier(learning_rate=optimumlearning_rate,n_estimators=optimumn_estimators, \\\n",
    "                    max_depth=optimummax_depth)\n",
    "model.fit(X_train, y_train)\n",
    "\n",
    "#Store scores\n",
    "pred=model.predict(X_test)\n",
    "mat=pd.crosstab(y_test, pred, rownames=['Actual'], colnames=['Predicted'], margins=True) \n",
    "tp=mat.iloc[1,1] ;tn=mat.iloc[0,0] ;fp=mat.iloc[0,1];fn=mat.iloc[1,0];precision=tp/(tp+fp) \n",
    "recall=tp/(tp+fn);fscoretest=2*precision*recall/(precision+recall)\n",
    "\n",
    "pred=model.predict(X_train)\n",
    "mat=pd.crosstab(y_train, pred, rownames=['Actual'], colnames=['Predicted'], margins=True) \n",
    "print(mat);tp=mat.iloc[1,1] ;tn=mat.iloc[0,0];fp=mat.iloc[0,1] ;fn=mat.iloc[1,0] ;precision=tp/(tp+fp);\n",
    "recall=tp/(tp+fn);fscoretrain=2*precision*recall/(precision+recall)\n",
    "\n",
    "\n",
    "aa=pd.DataFrame({'type':['BOW GDDT'],'depth':[optimummax_depth],'estimator':[optimumn_estimators], \\\n",
    "                  'learningrate':[optimumlearning_rate],'accuracy_train':[model.score(X_train,y_train)], \\\n",
    "                 'fscore_train':[fscoretrain],'accuracy_test':[model.score(X_test,y_test)],'fscore_test':[fscoretest]})"
   ]
  },
  {
   "cell_type": "markdown",
   "metadata": {},
   "source": []
  },
  {
   "cell_type": "markdown",
   "metadata": {},
   "source": []
  },
  {
   "cell_type": "markdown",
   "metadata": {},
   "source": [
    "# TFIDF"
   ]
  },
  {
   "cell_type": "code",
   "execution_count": 22,
   "metadata": {},
   "outputs": [
    {
     "name": "stdout",
     "output_type": "stream",
     "text": [
      "(7000, 11134) (3000, 11134)\n",
      "size of X_train, X_test, y_train , y_test  (7000, 11134) (3000, 11134) (7000,) (3000,)\n",
      "Best parameters \n",
      " GradientBoostingClassifier(criterion='friedman_mse', init=None,\n",
      "              learning_rate=0.2, loss='deviance', max_depth=7,\n",
      "              max_features=None, max_leaf_nodes=None,\n",
      "              min_impurity_decrease=0.0, min_impurity_split=None,\n",
      "              min_samples_leaf=1, min_samples_split=2,\n",
      "              min_weight_fraction_leaf=0.0, n_estimators=30,\n",
      "              presort='auto', random_state=None, subsample=1.0, verbose=0,\n",
      "              warm_start=False)\n",
      "Predicted  negative  positive   All\n",
      "Actual                             \n",
      "negative        602       459  1061\n",
      "positive          5      5934  5939\n",
      "All             607      6393  7000\n"
     ]
    }
   ],
   "source": [
    "tf_idf_vect = TfidfVectorizer()\n",
    "final_counts = tf_idf_vect.fit_transform(X_train_raw)\n",
    "#use the same vectors to convert test data\n",
    "X_test=count_vect.transform(X_test_raw)\n",
    "X_train_tfidf=X_train\n",
    "X_test_tfidf=X_test\n",
    "\n",
    "print(X_train.get_shape(),X_test.get_shape())\n",
    "#Use scale of train and apply to test\n",
    "from sklearn.preprocessing import StandardScaler\n",
    "scaler = StandardScaler(with_mean=False).fit(X_train)\n",
    "X_train = scaler.transform(X_train)\n",
    "X_test  = scaler.transform(X_test)\n",
    "print('size of X_train, X_test, y_train , y_test ',X_train.shape, X_test.shape,y_train.shape,y_test.shape)\n",
    "\n",
    "\n",
    "learning_rate=[.9,.8,.1,.2]\n",
    "n_estimators=[10,20,30]\n",
    "max_depth=[3,4,5,6,7,8]\n",
    "tuned_parameters=dict(learning_rate=learning_rate,n_estimators=n_estimators,max_depth=max_depth)\n",
    "#Using GridSearchCV\n",
    "model = GridSearchCV(GradientBoostingClassifier(), tuned_parameters, cv=5)\n",
    "model.fit(X_train, y_train)\n",
    "print('Best parameters \\n',model.best_estimator_)\n",
    "optimumlearning_rate=model.best_estimator_.learning_rate\n",
    "optimumn_estimators=model.best_estimator_.n_estimators\n",
    "optimummax_depth=model.best_estimator_.max_depth\n",
    "#build model with optimum parameter\n",
    "model = GradientBoostingClassifier(learning_rate=optimumlearning_rate,n_estimators=optimumn_estimators, \\\n",
    "                    max_depth=optimummax_depth)\n",
    "model.fit(X_train, y_train)\n",
    "\n",
    "#Store scores\n",
    "pred=model.predict(X_test)\n",
    "mat=pd.crosstab(y_test, pred, rownames=['Actual'], colnames=['Predicted'], margins=True) \n",
    "tp=mat.iloc[1,1] ;tn=mat.iloc[0,0] ;fp=mat.iloc[0,1];fn=mat.iloc[1,0];precision=tp/(tp+fp) \n",
    "recall=tp/(tp+fn);fscoretest=2*precision*recall/(precision+recall)\n",
    "\n",
    "pred=model.predict(X_train)\n",
    "mat=pd.crosstab(y_train, pred, rownames=['Actual'], colnames=['Predicted'], margins=True) \n",
    "print(mat);tp=mat.iloc[1,1] ;tn=mat.iloc[0,0];fp=mat.iloc[0,1] ;fn=mat.iloc[1,0] ;precision=tp/(tp+fp);\n",
    "recall=tp/(tp+fn);fscoretrain=2*precision*recall/(precision+recall)\n",
    "\n",
    "\n",
    "bb=pd.DataFrame({'type':['TFIDF GDDT'],'depth':[optimummax_depth],'estimator':[optimumn_estimators], \\\n",
    "                  'learningrate':[optimumlearning_rate],'accuracy_train':[model.score(X_train,y_train)], \\\n",
    "                 'fscore_train':[fscoretrain],'accuracy_test':[model.score(X_test,y_test)],'fscore_test':[fscoretest]})\n",
    "aa=aa.append(bb)"
   ]
  },
  {
   "cell_type": "markdown",
   "metadata": {
    "collapsed": true
   },
   "source": [
    "# AVG W2V"
   ]
  },
  {
   "cell_type": "code",
   "execution_count": 23,
   "metadata": {},
   "outputs": [
    {
     "name": "stdout",
     "output_type": "stream",
     "text": [
      "size of X_train, X_test, y_train , y_test  (7000, 50) (3000, 50) (7000,) (3000,)\n",
      "Best parameters \n",
      " GradientBoostingClassifier(criterion='friedman_mse', init=None,\n",
      "              learning_rate=0.2, loss='deviance', max_depth=4,\n",
      "              max_features=None, max_leaf_nodes=None,\n",
      "              min_impurity_decrease=0.0, min_impurity_split=None,\n",
      "              min_samples_leaf=1, min_samples_split=2,\n",
      "              min_weight_fraction_leaf=0.0, n_estimators=12,\n",
      "              presort='auto', random_state=None, subsample=1.0, verbose=0,\n",
      "              warm_start=False)\n",
      "Predicted  negative  positive   All\n",
      "Actual                             \n",
      "negative         57      1004  1061\n",
      "positive          3      5936  5939\n",
      "All              60      6940  7000\n"
     ]
    }
   ],
   "source": [
    "#ignore warning\n",
    "import warnings\n",
    "warnings.filterwarnings('ignore')\n",
    "from gensim.models import Word2Vec\n",
    "from gensim.models import KeyedVectors\n",
    "import pickle\n",
    "model = KeyedVectors.load_word2vec_format('GoogleNews-vectors-negative300.bin.gz', binary=True)\n",
    "import gensim\n",
    "i=0\n",
    "#create a list of list to be used in W2V \n",
    "list_of_sent_train=[]\n",
    "for sent in X_train_raw:  #clean_data['CleanedText'].values:\n",
    "    filtered_sentence=[]\n",
    "    #sent=cleanhtml(sent)\n",
    "    for w in sent.split():\n",
    "        #for cleaned_words in cleanpunc(w).split():\n",
    "         for cleaned_words in w.split():\n",
    "            if(cleaned_words.isalpha()):    \n",
    "                filtered_sentence.append(cleaned_words.lower().decode('utf8'))\n",
    "            else:\n",
    "                continue \n",
    "    list_of_sent_train.append(filtered_sentence)\n",
    "#convert each sentence's words to a vector of 50 dimension. Dont construct vec if word doesnot occur 5 times. And for each word construct 50 dimension vector\n",
    "#and 4 core processor\n",
    "w2v_model=gensim.models.Word2Vec(list_of_sent_train,min_count=5,size=50, workers=4)   \n",
    "\n",
    "# average Word2Vec\n",
    "# for each sentence make average of vectors by (vectors of each words)/(total no of words)\n",
    "# compute average word2vec for each review.\n",
    "sent_vectors_train = []; # the avg-w2v for each sentence/review is stored in this list\n",
    "for sent in list_of_sent_train: # for each review/sentence\n",
    "    sent_vec = np.zeros(50) # as word vectors are of zero length\n",
    "    cnt_words =0; # num of words with a valid vector in the sentence/review\n",
    "    for word in sent: # for each word in a review/sentence\n",
    "        try:\n",
    "            vec = w2v_model.wv[word]\n",
    "            sent_vec += vec\n",
    "            cnt_words += 1\n",
    "        except:\n",
    "            pass\n",
    "    sent_vec /= cnt_words\n",
    "    sent_vectors_train.append(sent_vec)  \n",
    "\n",
    "    \n",
    "#convert W2V test data\n",
    "i=0\n",
    "#create a list of list to be used in W2V \n",
    "list_of_sent_test=[]\n",
    "for sent in X_test_raw:  #clean_data['CleanedText'].values:\n",
    "    filtered_sentence=[]\n",
    "    #sent=cleanhtml(sent)\n",
    "    for w in sent.split():\n",
    "        #for cleaned_words in cleanpunc(w).split():\n",
    "         for cleaned_words in w.split():\n",
    "            if(cleaned_words.isalpha()):    \n",
    "                filtered_sentence.append(cleaned_words.lower().decode('utf8'))\n",
    "            else:\n",
    "                continue \n",
    "    list_of_sent_test.append(filtered_sentence)\n",
    "#convert each sentence's words to a vector of 50 dimension. Dont construct vec if word doesnot occur 5 times. And for each word construct 50 dimension vector\n",
    "#and 4 core processor\n",
    "w2v_model=gensim.models.Word2Vec(list_of_sent_test,min_count=5,size=50, workers=4)   \n",
    "\n",
    "# average Word2Vec\n",
    "# for each sentence make average of vectors by (vectors of each words)/(total no of words)\n",
    "# compute average word2vec for each review.\n",
    "sent_vectors_test = []; # the avg-w2v for each sentence/review is stored in this list\n",
    "for sent in list_of_sent_test: # for each review/sentence\n",
    "    sent_vec = np.zeros(50) # as word vectors are of zero length\n",
    "    cnt_words =0; # num of words with a valid vector in the sentence/review\n",
    "    for word in sent: # for each word in a review/sentence\n",
    "        try:\n",
    "            vec = w2v_model.wv[word]\n",
    "            sent_vec += vec\n",
    "            cnt_words += 1\n",
    "        except:\n",
    "            pass\n",
    "    sent_vec /= cnt_words\n",
    "    sent_vectors_test.append(sent_vec)  \n",
    "\n",
    "# try\n",
    "X_train = pd.DataFrame(sent_vectors_train)\n",
    "X_test = pd.DataFrame(sent_vectors_test)\n",
    "X_train_w2v=X_train\n",
    "X_test_w2v=X_test\n",
    "print('size of X_train, X_test, y_train , y_test ',X_train.shape, X_test.shape,y_train.shape,y_test.shape)\n",
    "\n",
    "# Use GBDT\n",
    "from sklearn.tree import DecisionTreeClassifier\n",
    "from sklearn.ensemble import GradientBoostingClassifier\n",
    "from sklearn.grid_search import GridSearchCV\n",
    "\n",
    "#GradientBoostingClassifier(learning_rate=0.1, n_estimators=100, max_depth=3, random_state=0)\n",
    "\n",
    "learning_rate=[.9,.8,.1,.2]\n",
    "n_estimators=[8,12,15]\n",
    "max_depth=[3,4,5,6,7,8]\n",
    "\n",
    "tuned_parameters=dict(learning_rate=learning_rate,n_estimators=n_estimators,max_depth=max_depth)\n",
    "\n",
    "#Using GridSearchCV\n",
    "model = GridSearchCV(GradientBoostingClassifier(), tuned_parameters, cv=5)\n",
    "model.fit(X_train, y_train)\n",
    "\n",
    "print('Best parameters \\n',model.best_estimator_)\n",
    "#print('Model test score', model.score(X_test, y_test))\n",
    "\n",
    "optimumlearning_rate=model.best_estimator_.learning_rate\n",
    "optimumn_estimators=model.best_estimator_.n_estimators\n",
    "optimummax_depth=model.best_estimator_.max_depth\n",
    "\n",
    "#build model with optimum parameter\n",
    "model = GradientBoostingClassifier(learning_rate=optimumlearning_rate,n_estimators=optimumn_estimators, \\\n",
    "                    max_depth=optimummax_depth)\n",
    "model.fit(X_train, y_train)\n",
    "\n",
    "#Store scores\n",
    "pred=model.predict(X_test)\n",
    "mat=pd.crosstab(y_test, pred, rownames=['Actual'], colnames=['Predicted'], margins=True) \n",
    "tp=mat.iloc[1,1] ;tn=mat.iloc[0,0] ;fp=mat.iloc[0,1];fn=mat.iloc[1,0];precision=tp/(tp+fp) \n",
    "recall=tp/(tp+fn);fscoretest=2*precision*recall/(precision+recall)\n",
    "\n",
    "pred=model.predict(X_train)\n",
    "mat=pd.crosstab(y_train, pred, rownames=['Actual'], colnames=['Predicted'], margins=True) \n",
    "print(mat);tp=mat.iloc[1,1] ;tn=mat.iloc[0,0];fp=mat.iloc[0,1] ;fn=mat.iloc[1,0] ;precision=tp/(tp+fp);\n",
    "recall=tp/(tp+fn);fscoretrain=2*precision*recall/(precision+recall)\n",
    "\n",
    "bb=pd.DataFrame({'type':['AVG W2V GDDT'],'depth':[optimummax_depth],'estimator':[optimumn_estimators], \\\n",
    "                  'learningrate':[optimumlearning_rate],'accuracy_train':[model.score(X_train,y_train)], \\\n",
    "                 'fscore_train':[fscoretrain],'accuracy_test':[model.score(X_test,y_test)],'fscore_test':[fscoretest]})\n",
    "aa=aa.append(bb)"
   ]
  },
  {
   "cell_type": "markdown",
   "metadata": {
    "collapsed": true
   },
   "source": [
    "# AVG TFIDF W2V"
   ]
  },
  {
   "cell_type": "code",
   "execution_count": 24,
   "metadata": {},
   "outputs": [
    {
     "name": "stdout",
     "output_type": "stream",
     "text": [
      "size of X_train, X_test, y_train , y_test  (7000, 50) (3000, 50) (7000,) (3000,)\n",
      "Best parameters \n",
      " GradientBoostingClassifier(criterion='friedman_mse', init=None,\n",
      "              learning_rate=0.2, loss='deviance', max_depth=3,\n",
      "              max_features=None, max_leaf_nodes=None,\n",
      "              min_impurity_decrease=0.0, min_impurity_split=None,\n",
      "              min_samples_leaf=1, min_samples_split=2,\n",
      "              min_weight_fraction_leaf=0.0, n_estimators=5, presort='auto',\n",
      "              random_state=None, subsample=1.0, verbose=0,\n",
      "              warm_start=False)\n",
      "Predicted  negative  positive   All\n",
      "Actual                             \n",
      "negative          2      1059  1061\n",
      "positive          0      5939  5939\n",
      "All               2      6998  7000\n"
     ]
    }
   ],
   "source": [
    "#ignore warning\n",
    "import warnings\n",
    "warnings.filterwarnings('ignore')\n",
    "\n",
    "from gensim.models import Word2Vec\n",
    "from gensim.models import KeyedVectors\n",
    "import pickle\n",
    "model = KeyedVectors.load_word2vec_format('GoogleNews-vectors-negative300.bin.gz', binary=True)\n",
    "import gensim\n",
    "\n",
    "tf_idf_vect = TfidfVectorizer()\n",
    "final_tf_idf=tf_idf_vect.fit_transform(X_train_raw)\n",
    "tfidf_feat = tf_idf_vect.get_feature_names() # tfidf words/col-names\n",
    "# final_tf_idf is the sparse matrix with row= sentence, col=word and cell_val = tfidf\n",
    "\n",
    "tfidf_sent_vectors_train = []; # the tfidf-w2v for each sentence/review is stored in this list\n",
    "row=0;\n",
    "#calculate avg tfidf score for each sentences \n",
    "for sent in list_of_sent_train: # for each review/sentence\n",
    "    sent_vec = np.zeros(50) # as word vectors are of zero length\n",
    "    weight_sum =0; # num of words with a valid vector in the sentence/review\n",
    "    for word in sent: # for each word in a review/sentence\n",
    "        try:\n",
    "            vec = w2v_model.wv[word]#calculate w2v for each word\n",
    "            # obtain the tf_idfidf of a word in a sentence/review\n",
    "            tf_idf = final_tf_idf[row, tfidf_feat.index(word)]#get tfidf score of each word \n",
    "            sent_vec += (vec * tf_idf) # multiply vec with tfidf of each word and cumulative add of words in each sentence\n",
    "            weight_sum += tf_idf # also add tfidf sums in each sentence\n",
    "        except:\n",
    "            pass\n",
    "    sent_vec /= weight_sum\n",
    "    tfidf_sent_vectors_train.append(sent_vec)\n",
    "    row += 1\n",
    "#tfidf_sent_vectors.\n",
    "\n",
    "# do for test\n",
    "final_tf_idf=tf_idf_vect.transform(X_test_raw)\n",
    "tfidf_sent_vectors_test = []; # the tfidf-w2v for each sentence/review is stored in this list\n",
    "row=0;\n",
    "#calculate avg tfidf score for each sentences \n",
    "for sent in list_of_sent_test: # for each review/sentence\n",
    "    sent_vec = np.zeros(50) # as word vectors are of zero length\n",
    "    weight_sum =0; # num of words with a valid vector in the sentence/review\n",
    "    for word in sent: # for each word in a review/sentence\n",
    "        try:\n",
    "            vec = w2v_model.wv[word]#calculate w2v for each word\n",
    "            # obtain the tf_idfidf of a word in a sentence/review\n",
    "            tf_idf = final_tf_idf[row, tfidf_feat.index(word)]#get tfidf score of each word \n",
    "            sent_vec += (vec * tf_idf) # multiply vec with tfidf of each word and cumulative add of words in each sentence\n",
    "            weight_sum += tf_idf # also add tfidf sums in each sentence\n",
    "        except:\n",
    "            pass\n",
    "    sent_vec /= weight_sum\n",
    "    tfidf_sent_vectors_test.append(sent_vec)\n",
    "    row += 1\n",
    "\n",
    "X_train = pd.DataFrame(tfidf_sent_vectors_train)\n",
    "X_test = pd.DataFrame(tfidf_sent_vectors_test)\n",
    "X_train_w2vtfidf=X_train\n",
    "X_test_w2vtfidf=X_test\n",
    "\n",
    "print('size of X_train, X_test, y_train , y_test ',X_train.shape, X_test.shape,y_train.shape,y_test.shape)\n",
    "\n",
    "# Use GBDT\n",
    "from sklearn.tree import DecisionTreeClassifier\n",
    "from sklearn.ensemble import GradientBoostingClassifier\n",
    "from sklearn.grid_search import GridSearchCV\n",
    "\n",
    "#GradientBoostingClassifier(learning_rate=0.1, n_estimators=100, max_depth=3, random_state=0)\n",
    "\n",
    "learning_rate=[.9,.8,.2]\n",
    "n_estimators=[5,8,10]\n",
    "max_depth=[3,4,5,6,7]\n",
    "\n",
    "tuned_parameters=dict(learning_rate=learning_rate,n_estimators=n_estimators,max_depth=max_depth)\n",
    "\n",
    "#Using GridSearchCV\n",
    "model = GridSearchCV(GradientBoostingClassifier(), tuned_parameters, cv=5)\n",
    "model.fit(X_train, y_train)\n",
    "\n",
    "\n",
    "print('Best parameters \\n',model.best_estimator_)\n",
    "#print('Model test score', model.score(X_test, y_test))\n",
    "\n",
    "optimumlearning_rate=model.best_estimator_.learning_rate\n",
    "optimumn_estimators=model.best_estimator_.n_estimators\n",
    "optimummax_depth=model.best_estimator_.max_depth\n",
    "\n",
    "\n",
    "#build model with optimum parameter\n",
    "model = GradientBoostingClassifier(learning_rate=optimumlearning_rate,n_estimators=optimumn_estimators, \\\n",
    "                    max_depth=optimummax_depth,random_state=0)\n",
    "model.fit(X_train, y_train)\n",
    "\n",
    "#Store scores\n",
    "pred=model.predict(X_test)\n",
    "mat=pd.crosstab(y_test, pred, rownames=['Actual'], colnames=['Predicted'], margins=True) \n",
    "tp=mat.iloc[1,1] ;tn=mat.iloc[0,0] ;fp=mat.iloc[0,1];fn=mat.iloc[1,0];precision=tp/(tp+fp) \n",
    "recall=tp/(tp+fn);fscoretest=2*precision*recall/(precision+recall)\n",
    "\n",
    "pred=model.predict(X_train)\n",
    "mat=pd.crosstab(y_train, pred, rownames=['Actual'], colnames=['Predicted'], margins=True) \n",
    "print(mat);tp=mat.iloc[1,1] ;tn=mat.iloc[0,0];fp=mat.iloc[0,1] ;fn=mat.iloc[1,0] ;precision=tp/(tp+fp);\n",
    "recall=tp/(tp+fn);fscoretrain=2*precision*recall/(precision+recall)\n",
    "\n",
    "\n",
    "bb=pd.DataFrame({'type':['AVG W2V TFIDF GBDT'],'depth':[optimummax_depth],'estimator':[optimumn_estimators], \\\n",
    "                  'learningrate':[optimumlearning_rate],'accuracy_train':[model.score(X_train,y_train)], \\\n",
    "                 'fscore_train':[fscoretrain],'accuracy_test':[model.score(X_test,y_test)],'fscore_test':[fscoretest]})\n",
    "aa=aa.append(bb)\n"
   ]
  },
  {
   "cell_type": "markdown",
   "metadata": {},
   "source": [
    "\n"
   ]
  },
  {
   "cell_type": "code",
   "execution_count": null,
   "metadata": {
    "collapsed": true
   },
   "outputs": [],
   "source": []
  },
  {
   "cell_type": "code",
   "execution_count": null,
   "metadata": {
    "collapsed": true
   },
   "outputs": [],
   "source": []
  },
  {
   "cell_type": "code",
   "execution_count": null,
   "metadata": {
    "collapsed": true
   },
   "outputs": [],
   "source": []
  },
  {
   "cell_type": "code",
   "execution_count": null,
   "metadata": {
    "collapsed": true
   },
   "outputs": [],
   "source": []
  },
  {
   "cell_type": "markdown",
   "metadata": {},
   "source": [
    "# plot for different values and accuracy"
   ]
  },
  {
   "cell_type": "code",
   "execution_count": 25,
   "metadata": {},
   "outputs": [
    {
     "data": {
      "image/png": "[encoded data removed]",
      "text/plain": [
       "<matplotlib.figure.Figure at 0x1b2103c4240>"
      ]
     },
     "metadata": {},
     "output_type": "display_data"
    }
   ],
   "source": [
    "import warnings\n",
    "warnings.filterwarnings('ignore')\n",
    "from sklearn.model_selection import validation_curve\n",
    "#create plot for training and test validation\n",
    "# We cannot put 0 in parameter it will give error while validation_curve\n",
    "learning_rate=[.9,.8,.1,.2]\n",
    "n_estimators=[5,8,10]\n",
    "max_depth=[3,4,5,6,7]\n",
    "param_range=[.9,.8,.1,.2]\n",
    "\n",
    "train_scores, test_scores = validation_curve(GradientBoostingClassifier(), X_train, y_train, param_name=\"learning_rate\", \\\n",
    "                                             param_range=learning_rate,cv=5)\n",
    "#print(train_scores,test_scores)\n",
    "train_scores_mean = np.mean(train_scores, axis=1)\n",
    "train_scores_std = np.std(train_scores, axis=1)\n",
    "test_scores_mean = np.mean(test_scores, axis=1)\n",
    "test_scores_std = np.std(test_scores, axis=1)\n",
    "\n",
    "plt.plot(param_range, train_scores_mean, label=\"Training score\", color=\"black\")\n",
    "plt.plot(param_range, test_scores_mean, label=\"Cross-validation score\", color=\"red\")\n",
    "plt.fill_between(param_range, train_scores_mean - train_scores_std, train_scores_mean + train_scores_std, color=\"gray\")\n",
    "plt.fill_between(param_range, test_scores_mean - test_scores_std, test_scores_mean + test_scores_std, color=\"green\")\n",
    "plt.title(\"Validation Curve for GBDT for different learning rate\")\n",
    "plt.xlabel(\"learning rate\")\n",
    "plt.ylabel(\"Accuracy Score\")\n",
    "plt.xlim(.1,.9)\n",
    "plt.tight_layout()\n",
    "plt.legend(loc=\"best\")\n",
    "plt.show()\n"
   ]
  },
  {
   "cell_type": "markdown",
   "metadata": {},
   "source": []
  },
  {
   "cell_type": "code",
   "execution_count": 26,
   "metadata": {},
   "outputs": [
    {
     "data": {
      "image/png": "[encoded data removed]",
      "text/plain": [
       "<matplotlib.figure.Figure at 0x1b214cf6908>"
      ]
     },
     "metadata": {},
     "output_type": "display_data"
    }
   ],
   "source": [
    "import warnings\n",
    "warnings.filterwarnings('ignore')\n",
    "from sklearn.model_selection import validation_curve\n",
    "#create plot for training and test validation\n",
    "# We cannot put 0 in parameter it will give error while validation_curve\n",
    "learning_rate=[.9,.8,.1,.2]\n",
    "n_estimators=[5,8,10]\n",
    "max_depth=[3,4,5,6,7]\n",
    "param_range=[5,8,10]\n",
    "\n",
    "train_scores, test_scores = validation_curve(GradientBoostingClassifier(), X_train, y_train, param_name=\"n_estimators\", \\\n",
    "                                             param_range=n_estimators,cv=5)\n",
    "#print(train_scores,test_scores)\n",
    "train_scores_mean = np.mean(train_scores, axis=1)\n",
    "train_scores_std = np.std(train_scores, axis=1)\n",
    "test_scores_mean = np.mean(test_scores, axis=1)\n",
    "test_scores_std = np.std(test_scores, axis=1)\n",
    "\n",
    "plt.plot(param_range, train_scores_mean, label=\"Training score\", color=\"black\")\n",
    "plt.plot(param_range, test_scores_mean, label=\"Cross-validation score\", color=\"red\")\n",
    "plt.fill_between(param_range, train_scores_mean - train_scores_std, train_scores_mean + train_scores_std, color=\"gray\")\n",
    "plt.fill_between(param_range, test_scores_mean - test_scores_std, test_scores_mean + test_scores_std, color=\"green\")\n",
    "plt.title(\"Validation Curve for GBDT for different n estimator\")\n",
    "plt.xlabel(\"n estimator\")\n",
    "plt.ylabel(\"Accuracy Score\")\n",
    "plt.xlim(1,10)\n",
    "plt.tight_layout()\n",
    "plt.legend(loc=\"best\")\n",
    "plt.show()\n"
   ]
  },
  {
   "cell_type": "code",
   "execution_count": 27,
   "metadata": {},
   "outputs": [
    {
     "data": {
      "image/png": "[encoded data removed]",
      "text/plain": [
       "<matplotlib.figure.Figure at 0x1b2322beb38>"
      ]
     },
     "metadata": {},
     "output_type": "display_data"
    }
   ],
   "source": [
    "import warnings\n",
    "warnings.filterwarnings('ignore')\n",
    "from sklearn.model_selection import validation_curve\n",
    "#create plot for training and test validation\n",
    "# We cannot put 0 in parameter it will give error while validation_curve\n",
    "learning_rate=[.9,.8,.1,.2]\n",
    "n_estimators=[5,8,10]\n",
    "max_depth=[3,4,5,6,7]\n",
    "param_range=[3,4,5,6,7]\n",
    "\n",
    "train_scores, test_scores = validation_curve(GradientBoostingClassifier(), X_train, y_train, param_name=\"max_depth\", \\\n",
    "                                             param_range=max_depth,cv=5)\n",
    "#print(train_scores,test_scores)\n",
    "train_scores_mean = np.mean(train_scores, axis=1)\n",
    "train_scores_std = np.std(train_scores, axis=1)\n",
    "test_scores_mean = np.mean(test_scores, axis=1)\n",
    "test_scores_std = np.std(test_scores, axis=1)\n",
    "\n",
    "plt.plot(param_range, train_scores_mean, label=\"Training score\", color=\"black\")\n",
    "plt.plot(param_range, test_scores_mean, label=\"Cross-validation score\", color=\"red\")\n",
    "plt.fill_between(param_range, train_scores_mean - train_scores_std, train_scores_mean + train_scores_std, color=\"gray\")\n",
    "plt.fill_between(param_range, test_scores_mean - test_scores_std, test_scores_mean + test_scores_std, color=\"green\")\n",
    "plt.title(\"Validation Curve for GBDT for different depth\")\n",
    "plt.xlabel(\"depth of tree\")\n",
    "plt.ylabel(\"Accuracy Score\")\n",
    "plt.xlim(1,9)\n",
    "plt.tight_layout()\n",
    "plt.legend(loc=\"best\")\n",
    "plt.show()\n"
   ]
  },
  {
   "cell_type": "markdown",
   "metadata": {},
   "source": []
  },
  {
   "cell_type": "markdown",
   "metadata": {
    "collapsed": true
   },
   "source": []
  },
  {
   "cell_type": "code",
   "execution_count": null,
   "metadata": {
    "collapsed": true
   },
   "outputs": [],
   "source": []
  },
  {
   "cell_type": "markdown",
   "metadata": {},
   "source": []
  },
  {
   "cell_type": "code",
   "execution_count": null,
   "metadata": {
    "collapsed": true
   },
   "outputs": [],
   "source": []
  },
  {
   "cell_type": "markdown",
   "metadata": {},
   "source": []
  },
  {
   "cell_type": "code",
   "execution_count": null,
   "metadata": {
    "collapsed": true
   },
   "outputs": [],
   "source": []
  },
  {
   "cell_type": "markdown",
   "metadata": {
    "collapsed": true
   },
   "source": []
  },
  {
   "cell_type": "code",
   "execution_count": null,
   "metadata": {
    "collapsed": true
   },
   "outputs": [],
   "source": []
  },
  {
   "cell_type": "markdown",
   "metadata": {
    "collapsed": true
   },
   "source": []
  },
  {
   "cell_type": "code",
   "execution_count": null,
   "metadata": {
    "collapsed": true
   },
   "outputs": [],
   "source": []
  },
  {
   "cell_type": "markdown",
   "metadata": {},
   "source": []
  },
  {
   "cell_type": "code",
   "execution_count": null,
   "metadata": {
    "collapsed": true
   },
   "outputs": [],
   "source": []
  },
  {
   "cell_type": "markdown",
   "metadata": {
    "collapsed": true
   },
   "source": []
  },
  {
   "cell_type": "code",
   "execution_count": null,
   "metadata": {
    "collapsed": true
   },
   "outputs": [],
   "source": []
  },
  {
   "cell_type": "code",
   "execution_count": null,
   "metadata": {
    "collapsed": true
   },
   "outputs": [],
   "source": []
  },
  {
   "cell_type": "markdown",
   "metadata": {
    "collapsed": true
   },
   "source": [
    "# Conclusion\n",
    "GBDT is taking a lot of time for estimator 20/30\n",
    "\n",
    "# Steps followed\n",
    "Only !=3 reviews are taken Mark >3 as positive and <3 as negative. Sort data as per product id in ascending order Deduplication of entries for same profilename,userid, time, text and take first element Get stratified sampling of 10k data Clean html and punctuation Convert to uppercase and word<3 are rejected data sorted on time Split the data in train and test to 70:30\n",
    "\n",
    "BOW\n",
    "BOW BOW vec created using train data test data is converted using above on train and same applied to test \n",
    "do grid search for different value of learning_rate,n_estimators,max_depth. best model is established with best hyperparameter. model metric is stored in dataframe and crosstable is printed.\n",
    "\n",
    "TFIDF\n",
    "TFIDF form tfidf vec using train same is used in test to convert rest are same\n",
    "\n",
    "\n",
    "AVG W2V \n",
    "gensim is used to convert train and test text to W2V AVG seperately rest are same\n",
    "\n",
    "AVG TFIDF \n",
    "form tfidf vec using train same is used in test to convert gensim and above tfidf is used to convert train and test text to W2V AVG seperately\n",
    "\n",
    "plot cv error with learning_rate,n_estimators,max_depth\n",
    "\n",
    "Below is metric"
   ]
  },
  {
   "cell_type": "code",
   "execution_count": 29,
   "metadata": {},
   "outputs": [
    {
     "data": {
      "text/html": [
       "<div>\n",
       "<style>\n",
       "    .dataframe thead tr:only-child th {\n",
       "        text-align: right;\n",
       "    }\n",
       "\n",
       "    .dataframe thead th {\n",
       "        text-align: left;\n",
       "    }\n",
       "\n",
       "    .dataframe tbody tr th {\n",
       "        vertical-align: top;\n",
       "    }\n",
       "</style>\n",
       "<table border=\"1\" class=\"dataframe\">\n",
       "  <thead>\n",
       "    <tr style=\"text-align: right;\">\n",
       "      <th></th>\n",
       "      <th>accuracy_test</th>\n",
       "      <th>accuracy_train</th>\n",
       "      <th>depth</th>\n",
       "      <th>estimator</th>\n",
       "      <th>fscore_test</th>\n",
       "      <th>fscore_train</th>\n",
       "      <th>learningrate</th>\n",
       "      <th>type</th>\n",
       "    </tr>\n",
       "  </thead>\n",
       "  <tbody>\n",
       "    <tr>\n",
       "      <th>0</th>\n",
       "      <td>0.864667</td>\n",
       "      <td>0.933714</td>\n",
       "      <td>7</td>\n",
       "      <td>30</td>\n",
       "      <td>0.923367</td>\n",
       "      <td>0.962380</td>\n",
       "      <td>0.2</td>\n",
       "      <td>BOW GDDT</td>\n",
       "    </tr>\n",
       "    <tr>\n",
       "      <th>0</th>\n",
       "      <td>0.866667</td>\n",
       "      <td>0.933714</td>\n",
       "      <td>7</td>\n",
       "      <td>30</td>\n",
       "      <td>0.924699</td>\n",
       "      <td>0.962374</td>\n",
       "      <td>0.2</td>\n",
       "      <td>TFIDF GDDT</td>\n",
       "    </tr>\n",
       "    <tr>\n",
       "      <th>0</th>\n",
       "      <td>0.828667</td>\n",
       "      <td>0.856143</td>\n",
       "      <td>4</td>\n",
       "      <td>12</td>\n",
       "      <td>0.906033</td>\n",
       "      <td>0.921811</td>\n",
       "      <td>0.2</td>\n",
       "      <td>AVG W2V GDDT</td>\n",
       "    </tr>\n",
       "    <tr>\n",
       "      <th>0</th>\n",
       "      <td>0.831000</td>\n",
       "      <td>0.848714</td>\n",
       "      <td>3</td>\n",
       "      <td>5</td>\n",
       "      <td>0.624343</td>\n",
       "      <td>0.918142</td>\n",
       "      <td>0.2</td>\n",
       "      <td>AVG W2V TFIDF GBDT</td>\n",
       "    </tr>\n",
       "  </tbody>\n",
       "</table>\n",
       "</div>"
      ],
      "text/plain": [
       "   accuracy_test  accuracy_train  depth  estimator  fscore_test  fscore_train  \\\n",
       "0       0.864667        0.933714      7         30     0.923367      0.962380   \n",
       "0       0.866667        0.933714      7         30     0.924699      0.962374   \n",
       "0       0.828667        0.856143      4         12     0.906033      0.921811   \n",
       "0       0.831000        0.848714      3          5     0.624343      0.918142   \n",
       "\n",
       "   learningrate                type  \n",
       "0           0.2            BOW GDDT  \n",
       "0           0.2          TFIDF GDDT  \n",
       "0           0.2        AVG W2V GDDT  \n",
       "0           0.2  AVG W2V TFIDF GBDT  "
      ]
     },
     "execution_count": 29,
     "metadata": {},
     "output_type": "execute_result"
    }
   ],
   "source": [
    "aa"
   ]
  },
  {
   "cell_type": "code",
   "execution_count": null,
   "metadata": {
    "collapsed": true
   },
   "outputs": [],
   "source": []
  },
  {
   "cell_type": "code",
   "execution_count": null,
   "metadata": {
    "collapsed": true
   },
   "outputs": [],
   "source": []
  },
  {
   "cell_type": "code",
   "execution_count": null,
   "metadata": {
    "collapsed": true
   },
   "outputs": [],
   "source": []
  },
  {
   "cell_type": "code",
   "execution_count": null,
   "metadata": {
    "collapsed": true
   },
   "outputs": [],
   "source": []
  },
  {
   "cell_type": "code",
   "execution_count": null,
   "metadata": {
    "collapsed": true
   },
   "outputs": [],
   "source": []
  },
  {
   "cell_type": "code",
   "execution_count": null,
   "metadata": {
    "collapsed": true
   },
   "outputs": [],
   "source": []
  },
  {
   "cell_type": "code",
   "execution_count": null,
   "metadata": {
    "collapsed": true
   },
   "outputs": [],
   "source": []
  },
  {
   "cell_type": "code",
   "execution_count": null,
   "metadata": {
    "collapsed": true
   },
   "outputs": [],
   "source": []
  },
  {
   "cell_type": "code",
   "execution_count": null,
   "metadata": {
    "collapsed": true
   },
   "outputs": [],
   "source": []
  },
  {
   "cell_type": "code",
   "execution_count": null,
   "metadata": {
    "collapsed": true
   },
   "outputs": [],
   "source": []
  },
  {
   "cell_type": "code",
   "execution_count": null,
   "metadata": {
    "collapsed": true
   },
   "outputs": [],
   "source": []
  },
  {
   "cell_type": "code",
   "execution_count": null,
   "metadata": {
    "collapsed": true
   },
   "outputs": [],
   "source": []
  },
  {
   "cell_type": "code",
   "execution_count": null,
   "metadata": {
    "collapsed": true
   },
   "outputs": [],
   "source": []
  },
  {
   "cell_type": "code",
   "execution_count": null,
   "metadata": {
    "collapsed": true
   },
   "outputs": [],
   "source": []
  }
 ],
 "metadata": {
  "kernelspec": {
   "display_name": "Python 3",
   "language": "python",
   "name": "python3"
  },
  "language_info": {
   "codemirror_mode": {
    "name": "ipython",
    "version": 3
   },
   "file_extension": ".py",
   "mimetype": "text/x-python",
   "name": "python",
   "nbconvert_exporter": "python",
   "pygments_lexer": "ipython3",
   "version": "3.6.1"
  }
 },
 "nbformat": 4,
 "nbformat_minor": 2
}
