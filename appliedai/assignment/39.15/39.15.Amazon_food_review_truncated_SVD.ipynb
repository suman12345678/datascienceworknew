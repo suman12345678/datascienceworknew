{
 "cells": [
  {
   "cell_type": "markdown",
   "metadata": {},
   "source": [
    "# Amazon food review dataset apply truncated SVD\n",
    "\n",
    "Data set from https://www.kaggle.com/snap/amazon-fine-food-reviews\n",
    "\n",
    "\n",
    "# Objective\n",
    "1. Take 2000 words by TFIDF importance \n",
    "2. Calculate cooccurance matrix with neighbourhood of size 5 and count how many times wi occur in context of wj\n",
    "3. Then do truncated SVD\n",
    "4. try multiple value of k(find optimal k by amount of variance explained)[use singular value]\n",
    "5. cluster(kmeans k=50 ) word vector for top 2000\n",
    "6. word cluster together should be related\n",
    "\n",
    "# Import data and libraries\n",
    " "
   ]
  },
  {
   "cell_type": "code",
   "execution_count": 1,
   "metadata": {},
   "outputs": [
    {
     "name": "stderr",
     "output_type": "stream",
     "text": [
      "C:\\Users\\suman\\Anaconda3\\lib\\site-packages\\sklearn\\cross_validation.py:41: DeprecationWarning: This module was deprecated in version 0.18 in favor of the model_selection module into which all the refactored classes and functions are moved. Also note that the interface of the new CV iterators are different from that of this module. This module will be removed in 0.20.\n",
      "  \"This module will be removed in 0.20.\", DeprecationWarning)\n",
      "C:\\Users\\suman\\Anaconda3\\lib\\site-packages\\sklearn\\grid_search.py:42: DeprecationWarning: This module was deprecated in version 0.18 in favor of the model_selection module into which all the refactored classes and functions are moved. This module will be removed in 0.20.\n",
      "  DeprecationWarning)\n"
     ]
    }
   ],
   "source": [
    "from sklearn.manifold import TSNE\n",
    "import sqlite3\n",
    "import pandas as pd\n",
    "import numpy as np\n",
    "import nltk\n",
    "import string\n",
    "import matplotlib.pyplot as plt\n",
    "import seaborn as sns\n",
    "from sklearn.feature_extraction.text import TfidfTransformer\n",
    "from sklearn.feature_extraction.text import TfidfVectorizer\n",
    "from sklearn.feature_extraction.text import CountVectorizer\n",
    "from sklearn.metrics import confusion_matrix\n",
    "from sklearn import metrics\n",
    "from sklearn.metrics import roc_curve, auc\n",
    "from nltk.stem.porter import PorterStemmer\n",
    "from sklearn.cross_validation import train_test_split,KFold\n",
    "from sklearn.neighbors import KNeighborsClassifier\n",
    "from sklearn.metrics import accuracy_score\n",
    "from sklearn.cross_validation import cross_val_score\n",
    "from collections import Counter\n",
    "from sklearn.metrics import accuracy_score\n",
    "from sklearn import cross_validation\n",
    "from sklearn.grid_search import GridSearchCV\n",
    "from sklearn.linear_model import LogisticRegression\n",
    "\n",
    "con = sqlite3.connect('database.sqlite') \n",
    "\n",
    "#get only +ve and -ve review \n",
    "raw_data = pd.read_sql_query(\"\"\"SELECT * FROM Reviews WHERE Score != 3\"\"\", con) "
   ]
  },
  {
   "cell_type": "markdown",
   "metadata": {},
   "source": [
    "# Data preprocessing"
   ]
  },
  {
   "cell_type": "code",
   "execution_count": 2,
   "metadata": {},
   "outputs": [],
   "source": [
    "filtered_data=raw_data\n",
    "# Score>3 a positive rating, and score<3 a negative rating.\n",
    "def partition(x):\n",
    "    if x < 3:\n",
    "        return 'negative'\n",
    "    return 'positive'\n",
    "\n",
    "#changing reviews with score less than 3 to be positive and vice-versa\n",
    "actualScore = filtered_data['Score']\n",
    "positiveNegative = actualScore.map(partition) \n",
    "filtered_data['Score'] = positiveNegative\n",
    "\n",
    "filtered_data.sample(5)\n",
    "filtered_data['Score'].value_counts()\n",
    "\n",
    "#Sorting data according to ProductId in ascending order\n",
    "sorted_data=filtered_data.sort_values('ProductId', axis=0, ascending=True, inplace=False, kind='quicksort', na_position='last')\n",
    "\n",
    "#Deduplication of entries for same profilename,userid, time, text and take first element \n",
    "sorted_data=sorted_data.drop_duplicates(subset={\"UserId\",\"ProfileName\",\"Time\",\"Text\"}, keep='first', inplace=False)\n"
   ]
  },
  {
   "cell_type": "code",
   "execution_count": 186,
   "metadata": {},
   "outputs": [
    {
     "name": "stdout",
     "output_type": "stream",
     "text": [
      "total data \n",
      " positive    307063\n",
      "negative     57110\n",
      "Name: Score, dtype: int64\n"
     ]
    },
    {
     "data": {
      "text/plain": [
       "positive    42159\n",
       "negative     7841\n",
       "Name: Score, dtype: int64"
      ]
     },
     "execution_count": 186,
     "metadata": {},
     "output_type": "execute_result"
    }
   ],
   "source": [
    "#take only 50000 data\n",
    "print('total data \\n',sorted_data['Score'].value_counts())\n",
    "#clean_data=sorted_data.sample(frac=1).groupby('Score').head(10000)\n",
    "#take stratified sampling i.e. positive and negative reviews are proportionate to raw data\n",
    "#testing\n",
    "_ , clean_data = train_test_split(sorted_data, test_size = 50000, random_state=1,stratify = sorted_data['Score'] )\n",
    "clean_data['Score'].value_counts()"
   ]
  },
  {
   "cell_type": "code",
   "execution_count": 187,
   "metadata": {},
   "outputs": [
    {
     "name": "stdout",
     "output_type": "stream",
     "text": [
      "tasti\n",
      "(50000, 11)\n"
     ]
    },
    {
     "name": "stderr",
     "output_type": "stream",
     "text": [
      "C:\\Users\\suman\\Anaconda3\\lib\\site-packages\\ipykernel_launcher.py:52: SettingWithCopyWarning: \n",
      "A value is trying to be set on a copy of a slice from a DataFrame.\n",
      "Try using .loc[row_indexer,col_indexer] = value instead\n",
      "\n",
      "See the caveats in the documentation: http://pandas.pydata.org/pandas-docs/stable/indexing.html#indexing-view-versus-copy\n"
     ]
    },
    {
     "data": {
      "text/plain": [
       "b'use lot coconut late granola cake cup cake etc particular brand serv purpos well price good'"
      ]
     },
     "execution_count": 187,
     "metadata": {},
     "output_type": "execute_result"
    }
   ],
   "source": [
    "# Clean html tag and punctuation\n",
    "import re\n",
    "import string\n",
    "from nltk.corpus import stopwords\n",
    "from nltk.stem import PorterStemmer\n",
    "from nltk.stem.wordnet import WordNetLemmatizer\n",
    "\n",
    "stop = set(stopwords.words('english')) #set of stopwords\n",
    "sno = nltk.stem.SnowballStemmer('english') #initialising the snowball stemmer\n",
    "\n",
    "#substitute html tag and punctuation\n",
    "def cleanhtml(sentence): #function to clean the word of any html-tags\n",
    "    cleanr = re.compile('<.*?>')\n",
    "    cleantext = re.sub(cleanr, ' ', sentence)\n",
    "    return cleantext\n",
    "def cleanpunc(sentence): #function to clean the word of any punctuation or special characters\n",
    "    cleaned = re.sub(r'[?|!|\\'|\"|#]',r' ',sentence)\n",
    "    cleaned = re.sub(r'[.|,|)|(|\\|/]',r' ',cleaned)\n",
    "    return  cleaned\n",
    "print(sno.stem('tasty'))\n",
    "\n",
    "i=0\n",
    "str1=' '\n",
    "mystop={'of','four','one','would'}\n",
    "final_string=[]\n",
    "all_positive_words=[] # store words from +ve reviews here\n",
    "all_negative_words=[] # store words from -ve reviews here.\n",
    "s=''\n",
    "#Create new catagory as Cleanedtext after removing htmltag and punctuation and uppercase and word length >2\n",
    "for sent in clean_data['Text'].values:\n",
    "    filtered_sentence=[]\n",
    "    sent=cleanhtml(sent) # remove HTMl tags\n",
    "    for w in sent.split():\n",
    "        for cleaned_words in cleanpunc(w).split():\n",
    "            if((cleaned_words.isalpha()) & (len(cleaned_words)>2)):    \n",
    "                if((cleaned_words.lower() not in stop) & (cleaned_words.lower() not in mystop)):\n",
    "                    s=(sno.stem(cleaned_words.lower())).encode('utf8')\n",
    "                    filtered_sentence.append(s)\n",
    "                    if (clean_data['Score'].values)[i] == 'positive': \n",
    "                        all_positive_words.append(s) #list of all words used to describe positive reviews\n",
    "                    if(clean_data['Score'].values)[i] == 'negative':\n",
    "                        all_negative_words.append(s) #list of all words used to describe negative reviews reviews\n",
    "                else:\n",
    "                    continue\n",
    "            else:\n",
    "                continue \n",
    "    str1 = b\" \".join(filtered_sentence) #final string of cleaned words\n",
    "    \n",
    "    final_string.append(str1)\n",
    "    i+=1\n",
    "    \n",
    "clean_data['CleanedText']=final_string\n",
    "print(clean_data.shape)\n",
    "#Sort data on timestamp\n",
    "clean_data=clean_data.sort_values(by=['Time'],ascending=False)\n",
    "#clean_data\n",
    "clean_data['CleanedText'].sample(2)\n",
    "clean_data['CleanedText'].iloc[0]"
   ]
  },
  {
   "cell_type": "markdown",
   "metadata": {
    "collapsed": true
   },
   "source": [
    "# Get top 2000 words by TFIDF score and create co-occurence matrix by window 5"
   ]
  },
  {
   "cell_type": "code",
   "execution_count": 188,
   "metadata": {},
   "outputs": [
    {
     "name": "stdout",
     "output_type": "stream",
     "text": [
      "['frapp', 'brave', 'cornstarch', 'unsatisfi', 'bourbon', 'omaha', 'lundberg', 'wider', 'crude', 'slot', 'understood', 'blog', 'understat', 'blade', 'strengthen', 'carolina', 'incid', 'udon', 'densiti', 'hound']\n",
      "len of top feature 2000\n",
      "sentence copy b'neighborhood mighti'\n",
      "sentence copy b'meanwhil economi drag govern cell cell cell govern vote'\n",
      "sentence copy b'holi yield mist yield math mist yield mist arizona mediocr elig mist'\n",
      "sentence copy b'cornstarch lump agent'\n",
      "sentence copy b'crowd'\n"
     ]
    },
    {
     "data": {
      "text/plain": [
       "[b'neighborhood mighti',\n",
       " b'meanwhil economi drag govern cell cell cell govern vote',\n",
       " b'holi yield mist yield math mist yield mist arizona mediocr elig mist',\n",
       " b'cornstarch lump agent',\n",
       " b'crowd',\n",
       " b'cheat chlorid',\n",
       " b'lap cornstarch merrick',\n",
       " b'bank til rees',\n",
       " b'electrolyt gatorad unnatur',\n",
       " b'kuerig',\n",
       " b'largest carmel saturday',\n",
       " b'queen',\n",
       " b'aluminum aluminum ugh',\n",
       " b'smack',\n",
       " b'model morsel',\n",
       " b'nugget',\n",
       " b'lite',\n",
       " b'newton',\n",
       " b'magazin',\n",
       " b'quench thirst']"
      ]
     },
     "execution_count": 188,
     "metadata": {},
     "output_type": "execute_result"
    }
   ],
   "source": [
    "x=clean_data['CleanedText'].values\n",
    "y = clean_data['Score']\n",
    "#ignore terms that appears in less than 20 document\n",
    "tf_idf_vect = TfidfVectorizer(min_df = 20)\n",
    "final_counts = tf_idf_vect.fit_transform(x)\n",
    "#use the same vectors to convert test data\n",
    "indices = np.argsort(tf_idf_vect.idf_)[::-1]\n",
    "features = tf_idf_vect.get_feature_names()\n",
    "#testing\n",
    "top_n = 2000\n",
    "top_features = [features[i] for i in indices[:top_n]]\n",
    "print (top_features[0:20])\n",
    "print('len of top feature',len(top_features))\n",
    "\n",
    "#remove other words from review\n",
    "final_string=[]\n",
    "all_string=[]\n",
    "\n",
    "i=0\n",
    "for sent in clean_data['CleanedText'].values:\n",
    "    \n",
    "    filtered_sentence=[]\n",
    "    for w in sent.decode('utf8').split():\n",
    "                if(w in top_features):\n",
    "                    filtered_sentence.append(w.encode('utf8'))\n",
    "                    \n",
    "                else:\n",
    "                    continue                   \n",
    "    str1 = b\" \".join(filtered_sentence) #final string of cleaned words\n",
    "    if ((i<5) & (str1!=b'')):\n",
    "        print('sentence copy',str1)\n",
    "    if (str1.decode('utf8') !=''):\n",
    "      i=i+1  \n",
    "      final_string.append(str1)\n",
    "      all_string.append(str1)\n",
    "    \n",
    "#clean_data['CleanedText']=final_string\n",
    "#Now final_string is ready to work with\n",
    "#print(clean_data['CleanedText'].shape)\n",
    "all_string[0:20]\n"
   ]
  },
  {
   "cell_type": "markdown",
   "metadata": {},
   "source": []
  },
  {
   "cell_type": "code",
   "execution_count": 189,
   "metadata": {},
   "outputs": [
    {
     "name": "stdout",
     "output_type": "stream",
     "text": [
      "2000\n",
      "(2000, 2000)\n"
     ]
    }
   ],
   "source": [
    "#Convert to cooccurance mat\n",
    "#type(final_string)\n",
    "print(len(top_features))\n",
    "window=5\n",
    "len1=len(top_features)\n",
    "#print(len)\n",
    "m=np.zeros([len1,len1])\n",
    "columns=top_features\n",
    "rows=top_features\n",
    "df=pd.DataFrame(m,columns=columns,index=rows)\n",
    "#print(df)\n",
    "\n",
    "def cal_occ(sentence,df):\n",
    "    sen=sentence.split()\n",
    "    l=len(sen)-1\n",
    "    for i,word in enumerate(sen):\n",
    "        #loop through every sentence in a window and get neigherest words and keep adding\n",
    "        for j in range(max(i-window,0),min(i+window+1,l+1)):\n",
    "            if word!=sen[j]:\n",
    "                #print('printing',word,sen[j])\n",
    "                df[word][sen[j]]+=1\n",
    "                \n",
    "for sentence in final_string:\n",
    "    #print('call',sentence)\n",
    "    cal_occ(sentence.decode('utf8'),df)\n",
    "    \n",
    "print(df.shape)    "
   ]
  },
  {
   "cell_type": "code",
   "execution_count": 190,
   "metadata": {},
   "outputs": [
    {
     "name": "stdout",
     "output_type": "stream",
     "text": [
      "The most cooccuring word with  bourbon\n",
      "<class 'pandas.core.series.Series'>\n"
     ]
    }
   ],
   "source": [
    "from sklearn.preprocessing import StandardScaler\n",
    "#Get cooccuring words for a given word\n",
    "print('The most cooccuring word with ',df.index[4])\n",
    "aa=df.iloc[4]\n",
    "bb=aa.sort_values(ascending=False)\n",
    "print(type(bb))"
   ]
  },
  {
   "cell_type": "code",
   "execution_count": 191,
   "metadata": {},
   "outputs": [],
   "source": [
    "#df"
   ]
  },
  {
   "cell_type": "markdown",
   "metadata": {},
   "source": []
  },
  {
   "cell_type": "code",
   "execution_count": null,
   "metadata": {},
   "outputs": [],
   "source": []
  },
  {
   "cell_type": "markdown",
   "metadata": {
    "collapsed": true
   },
   "source": [
    "# Create countvectorizer using cooccurence matrix"
   ]
  },
  {
   "cell_type": "markdown",
   "metadata": {},
   "source": []
  },
  {
   "cell_type": "code",
   "execution_count": 192,
   "metadata": {},
   "outputs": [
    {
     "name": "stdout",
     "output_type": "stream",
     "text": [
      "% variance explained with component  50 0.36579687381\n",
      "% variance explained with component  100 0.493899032028\n",
      "% variance explained with component  200 0.640628352312\n",
      "% variance explained with component  250 0.690038705112\n",
      "% variance explained with component  300 0.730234281914\n",
      "% variance explained with component  400 0.793356505632\n",
      "% variance explained with component  500 0.841036750945\n",
      "% variance explained with component  800 0.930341375921\n",
      "% variance explained with component  1000 0.962662429164\n"
     ]
    }
   ],
   "source": [
    "#count_vect = CountVectorizer(vocabulary=top_features) #in scikit-learn\n",
    "#X = count_vect.fit_transform(final_string)\n",
    "\n",
    "#print(X.shape)\n",
    "          \n",
    "#Cooccurance matrix    \n",
    "#X = (X.T * X) # this is co-occurrence matrix in sparse csr format\n",
    "#X.setdiag(0) # sometimes you want to fill same word cooccurence to 0\n",
    "#print(X.todense()) \n",
    "\n",
    "#print(count_vect.vocabulary_)                             \n",
    "                   \n",
    "#Create truncated SVD\n",
    "from sklearn.decomposition import TruncatedSVD\n",
    "\n",
    "#Try different component\n",
    "l=[50,100,200,250,300,400,500,800,1000]\n",
    "for i in l:\n",
    "  svd = TruncatedSVD(n_components=i, n_iter=7, random_state=0)\n",
    "  svd.fit(df.values)\n",
    "  #print(svd.explained_variance_ratio_)  \n",
    "  l1=svd.explained_variance_ratio_\n",
    "  print('% variance explained with component ',i,svd.explained_variance_ratio_.sum()) \n",
    "  #print('singular values',svd.singular_values_)\n",
    "\n",
    "#So looks like with 1000 component 96% variance is explained\n"
   ]
  },
  {
   "cell_type": "markdown",
   "metadata": {
    "collapsed": true
   },
   "source": [
    "SO by 500 component 84% variance is explained\n",
    "# Use SVD"
   ]
  },
  {
   "cell_type": "code",
   "execution_count": 205,
   "metadata": {},
   "outputs": [
    {
     "name": "stdout",
     "output_type": "stream",
     "text": [
      "U value\n",
      "\n",
      "sigma value\n",
      "\n",
      "VT value\n",
      "\n",
      "(2000, 500) (500,) (500, 2000)\n"
     ]
    }
   ],
   "source": [
    "#VT = svd.components_\n",
    "#TruncatedSVD is basically a wrapper around sklearn.utils.extmath.randomized_svd; you can manually call this yourself like this:\n",
    "\n",
    "from sklearn.utils.extmath import randomized_svd\n",
    "\n",
    "U, Sigma, VT = randomized_svd(df.values, \n",
    "                              n_components=500,\n",
    "                              n_iter=50,\n",
    "                              random_state=0)\n",
    "\n",
    "print('U value\\n')\n",
    "#print(U)\n",
    "print('sigma value\\n')\n",
    "#print(Sigma)\n",
    "print('VT value\\n')\n",
    "#print(VT)\n",
    "print(U.shape,Sigma.shape,VT.shape)\n",
    "#print('1st word vector representation',df.index[0])\n",
    "\n",
    "#take log transform\n",
    "#U=np.log(U+1)\n"
   ]
  },
  {
   "cell_type": "markdown",
   "metadata": {
    "collapsed": true
   },
   "source": [
    "# Form cluster of 10 using those important words SVD value"
   ]
  },
  {
   "cell_type": "markdown",
   "metadata": {},
   "source": [
    "\n",
    "# Get top few words similar to a random word"
   ]
  },
  {
   "cell_type": "code",
   "execution_count": 214,
   "metadata": {},
   "outputs": [
    {
     "name": "stdout",
     "output_type": "stream",
     "text": [
      "1st word vector representation massag  for j 99\n",
      "top 10 words similar to  massag  are  Index(['massag', 'kuerig', 'choclat', 'runner', 'incid', 'gosh', 'seldom',\n",
      "       'crouton', 'these', 'frapp'],\n",
      "      dtype='object')\n"
     ]
    }
   ],
   "source": [
    "from random import randint\n",
    "j=randint(0, 2000)\n",
    "print('1st word vector representation',df.index[j],' for j',j)#print(U.shape[0])\n",
    "#Calculate distance of this word with all words and sort in descending order\n",
    "l=[]\n",
    "for i in range(U.shape[1]):\n",
    "  a=np.linalg.norm(U[j]-U[i])\n",
    "  l.append(a)\n",
    "l1=sorted(range(len(l)), key=lambda k: l[k])\n",
    "#print(l)\n",
    "print('top 10 words similar to ',df.index[j],' are ',df.index[l1[0:10]])"
   ]
  },
  {
   "cell_type": "code",
   "execution_count": 215,
   "metadata": {},
   "outputs": [
    {
     "data": {
      "image/png": "[encoded data removed]",
      "text/plain": [
       "<Figure size 432x288 with 1 Axes>"
      ]
     },
     "metadata": {},
     "output_type": "display_data"
    },
    {
     "name": "stdout",
     "output_type": "stream",
     "text": [
      "()\n",
      "in cluster \n",
      " 0\n",
      "[1836]\n",
      "flip\n",
      "in cluster \n",
      " 1\n",
      "[  59  342  716 1269 1457 1696 1771]\n",
      "breastmilk\n",
      "repel\n",
      "pediatrici\n",
      "enfamil\n",
      "scream\n",
      "advanc\n",
      "gerber\n",
      "in cluster \n",
      " 2\n",
      "[ 56  97 262 346 434 465 476 502 509 554]\n",
      "bridg\n",
      "avoderm\n",
      "chlorin\n",
      "brandi\n",
      "dextros\n",
      "lessen\n",
      "eukanuba\n",
      "bypass\n",
      "saccharin\n",
      "in cluster \n",
      " 3\n",
      "[430]\n",
      "egbert\n",
      "in cluster \n",
      " 4\n",
      "[1812]\n",
      "genet\n",
      "in cluster \n",
      " 5\n",
      "[ 877  891 1161 1724]\n",
      "firmer\n",
      "helper\n",
      "barrel\n",
      "model\n",
      "in cluster \n",
      " 6\n",
      "[ 112  168  500  673  694  791  950 1000 1409 1417]\n",
      "knead\n",
      "laboratori\n",
      "coca\n",
      "tim\n",
      "river\n",
      "artisan\n",
      "spelt\n",
      "horseradis\n",
      "loav\n",
      "in cluster \n",
      " 7\n",
      "[1619]\n",
      "ultra\n",
      "in cluster \n",
      " 8\n",
      "[1797]\n",
      "thirst\n",
      "in cluster \n",
      " 9\n",
      "[  78   80  424  632  835 1644 1691]\n",
      "ghee\n",
      "semolina\n",
      "marmalad\n",
      "vietnames\n",
      "garnish\n",
      "tiger\n",
      "sweat\n",
      "in cluster \n",
      " 10\n",
      "[1194]\n",
      "lobster\n",
      "in cluster \n",
      " 11\n",
      "[ 1  6  7  8 11 12 13 15 16 17]\n",
      "brave\n",
      "lundberg\n",
      "wider\n",
      "crude\n",
      "blog\n",
      "understat\n",
      "blade\n",
      "carolina\n",
      "incid\n",
      "in cluster \n",
      " 12\n",
      "[38]\n",
      "lapsang\n",
      "in cluster \n",
      " 13\n",
      "[246]\n",
      "shim\n",
      "in cluster \n",
      " 14\n",
      "[ 21  66  82  84 145 149 172 185 201 231]\n",
      "dijon\n",
      "pari\n",
      "stat\n",
      "frizzi\n",
      "unbleach\n",
      "ib\n",
      "candl\n",
      "mar\n",
      "asept\n",
      "in cluster \n",
      " 15\n",
      "[461]\n",
      "gopher\n",
      "in cluster \n",
      " 16\n",
      "[1533]\n",
      "jolli\n",
      "in cluster \n",
      " 17\n",
      "[1426]\n",
      "catnip\n",
      "in cluster \n",
      " 18\n",
      "[1318]\n",
      "velveeta\n",
      "in cluster \n",
      " 19\n",
      "[1288]\n",
      "insulin\n",
      "in cluster \n",
      " 20\n",
      "[1654]\n",
      "michael\n",
      "in cluster \n",
      " 21\n",
      "[1491]\n",
      "signatur\n",
      "in cluster \n",
      " 22\n",
      "[ 26  96 140 355 361 384 407 426 445 446]\n",
      "triglyceri\n",
      "spark\n",
      "topper\n",
      "hotdog\n",
      "dane\n",
      "ceram\n",
      "stabil\n",
      "inquir\n",
      "companion\n",
      "in cluster \n",
      " 23\n",
      "[864]\n",
      "manuka\n",
      "in cluster \n",
      " 24\n",
      "[  40  188  280  314  675  695  861  997 1073 1170]\n",
      "rubi\n",
      "scotch\n",
      "pomeranian\n",
      "potti\n",
      "appletini\n",
      "brine\n",
      "mocktail\n",
      "anchovi\n",
      "weed\n",
      "in cluster \n",
      " 25\n",
      "[710]\n",
      "sift\n",
      "in cluster \n",
      " 26\n",
      "[715]\n",
      "shea\n",
      "in cluster \n",
      " 27\n",
      "[1476]\n",
      "izz\n",
      "in cluster \n",
      " 28\n",
      "[1734]\n",
      "fog\n",
      "in cluster \n",
      " 29\n",
      "[884]\n",
      "tzu\n",
      "in cluster \n",
      " 30\n",
      "[1634]\n",
      "chamomil\n",
      "in cluster \n",
      " 31\n",
      "[1566]\n",
      "dandruff\n",
      "in cluster \n",
      " 32\n",
      "[ 4  5 14 19 20 24 30 36 41 45]\n",
      "bourbon\n",
      "omaha\n",
      "strengthen\n",
      "hound\n",
      "detox\n",
      "disabl\n",
      "refridger\n",
      "revolt\n",
      "repuls\n",
      "in cluster \n",
      " 33\n",
      "[1002]\n",
      "queen\n",
      "in cluster \n",
      " 34\n",
      "[ 202  258  306  438  503  592  849 1015 1021 1044]\n",
      "mechan\n",
      "shard\n",
      "antler\n",
      "los\n",
      "bulldog\n",
      "whiskey\n",
      "compound\n",
      "buri\n",
      "foot\n",
      "in cluster \n",
      " 35\n",
      "[811]\n",
      "skinless\n",
      "in cluster \n",
      " 36\n",
      "[1234]\n",
      "therapi\n",
      "in cluster \n",
      " 37\n",
      "[931]\n",
      "chlorid\n",
      "in cluster \n",
      " 38\n",
      "[1790]\n",
      "skillet\n",
      "in cluster \n",
      " 39\n",
      "[979]\n",
      "nib\n",
      "in cluster \n",
      " 40\n",
      "[ 0  2  3  9 10 23 27 29 32 33]\n",
      "frapp\n",
      "cornstarch\n",
      "unsatisfi\n",
      "slot\n",
      "understood\n",
      "dioxid\n",
      "trident\n",
      "whirl\n",
      "breaker\n",
      "in cluster \n",
      " 41\n",
      "[805]\n",
      "rica\n",
      "in cluster \n",
      " 42\n",
      "[305]\n",
      "gunpowd\n",
      "in cluster \n",
      " 43\n",
      "[1961]\n",
      "felin\n",
      "in cluster \n",
      " 44\n",
      "[1539]\n",
      "wire\n",
      "in cluster \n",
      " 45\n",
      "[482]\n",
      "dha\n",
      "in cluster \n",
      " 46\n",
      "[181]\n",
      "needl\n",
      "in cluster \n",
      " 47\n",
      "[1745]\n",
      "crown\n",
      "in cluster \n",
      " 48\n",
      "[1435]\n",
      "similac\n",
      "in cluster \n",
      " 49\n",
      "[1565]\n",
      "wolfgang\n"
     ]
    }
   ],
   "source": [
    "from sklearn.cluster import KMeans\n",
    "# Now U is vec presentation of words\n",
    "n_clusters=10\n",
    "kmeans=KMeans(n_clusters=10, random_state=0).fit(U)\n",
    "kmeans.cluster_centers_\n",
    "\n",
    "sse = {}\n",
    "for k in range(1, 10):\n",
    "    kmeans = KMeans(init='k-means++',n_clusters=k, max_iter=100).fit(U)\n",
    "    sse[k] = kmeans.inertia_ # Inertia: Sum of distances of samples to their closest cluster center\n",
    "plt.figure()\n",
    "plt.plot(list(sse.keys()), list(sse.values()))\n",
    "plt.title(\"Plot of loss against k value using BOW\")\n",
    "plt.xlabel(\"Number of cluster\")\n",
    "plt.ylabel(\"SSE\")\n",
    "plt.show()\n",
    "\n",
    "#a=np.where(kmeans.labels_ == 1)[0]\n",
    "#b=np.where(kmeans.labels_ == 0)[0]\n",
    "#check 5 text for cluster 1\n",
    "\n",
    "kmeans = KMeans(init='k-means++',n_clusters=50, max_iter=100).fit(U)\n",
    "n_clusters=50\n",
    "print(a.shape)\n",
    "for i in range(n_clusters):\n",
    "  a=np.where(kmeans.labels_ == i)[0]\n",
    "  print('in cluster \\n',i)\n",
    "  print(a[0:10]) \n",
    "  k=0\n",
    "  for j in a:\n",
    "      k=k+1\n",
    "      if (k<10):  \n",
    "        print(top_features[j][:10])  \n"
   ]
  },
  {
   "cell_type": "markdown",
   "metadata": {
    "collapsed": true
   },
   "source": []
  },
  {
   "cell_type": "markdown",
   "metadata": {
    "collapsed": true
   },
   "source": [
    "# Observation\n",
    "To find the similar word its not giving proper words, maybe non engligh words and text cleanning is required much. But most of the cases top similar word is the word itself which proofs its calculating the distance\n",
    "Even U vector after log transform also not producing better result as below"
   ]
  },
  {
   "cell_type": "code",
   "execution_count": 216,
   "metadata": {},
   "outputs": [],
   "source": [
    "#try log transform to find similar words\n",
    "U=np.log(U+1)"
   ]
  },
  {
   "cell_type": "code",
   "execution_count": 227,
   "metadata": {},
   "outputs": [
    {
     "name": "stdout",
     "output_type": "stream",
     "text": [
      "1st word vector representation confess  for j 352\n",
      "top 10 words similar to  confess  are  Index(['confess', 'kuerig', 'these', 'yuk', 'gosh', 'colleagu', 'speedi',\n",
      "       'frapp', 'toasti', 'choclat'],\n",
      "      dtype='object')\n"
     ]
    }
   ],
   "source": [
    "j=randint(0, 2000)\n",
    "print('1st word vector representation',df.index[j],' for j',j)#print(U.shape[0])\n",
    "#Calculate distance of this word with all words and sort in descending order\n",
    "#take log transform\n",
    "l=[]\n",
    "for i in range(U.shape[1]):\n",
    "  a=np.linalg.norm(U[j]-U[i])\n",
    "  l.append(a)\n",
    "l1=sorted(range(len(l)), key=lambda k: l[k])\n",
    "#print(l)\n",
    "print('top 10 words similar to ',df.index[j],' are ',df.index[l1[0:10]])"
   ]
  },
  {
   "cell_type": "markdown",
   "metadata": {},
   "source": []
  },
  {
   "cell_type": "markdown",
   "metadata": {
    "collapsed": true
   },
   "source": []
  },
  {
   "cell_type": "code",
   "execution_count": null,
   "metadata": {},
   "outputs": [],
   "source": []
  },
  {
   "cell_type": "markdown",
   "metadata": {
    "collapsed": true
   },
   "source": []
  },
  {
   "cell_type": "code",
   "execution_count": null,
   "metadata": {},
   "outputs": [],
   "source": []
  },
  {
   "cell_type": "markdown",
   "metadata": {
    "collapsed": true
   },
   "source": []
  },
  {
   "cell_type": "markdown",
   "metadata": {},
   "source": []
  },
  {
   "cell_type": "code",
   "execution_count": null,
   "metadata": {},
   "outputs": [],
   "source": []
  },
  {
   "cell_type": "code",
   "execution_count": null,
   "metadata": {
    "collapsed": true
   },
   "outputs": [],
   "source": []
  },
  {
   "cell_type": "markdown",
   "metadata": {
    "collapsed": true
   },
   "source": []
  },
  {
   "cell_type": "code",
   "execution_count": null,
   "metadata": {
    "collapsed": true
   },
   "outputs": [],
   "source": []
  },
  {
   "cell_type": "code",
   "execution_count": null,
   "metadata": {
    "collapsed": true
   },
   "outputs": [],
   "source": []
  },
  {
   "cell_type": "markdown",
   "metadata": {
    "collapsed": true
   },
   "source": []
  },
  {
   "cell_type": "code",
   "execution_count": null,
   "metadata": {
    "collapsed": true
   },
   "outputs": [],
   "source": []
  },
  {
   "cell_type": "markdown",
   "metadata": {
    "collapsed": true
   },
   "source": []
  },
  {
   "cell_type": "code",
   "execution_count": null,
   "metadata": {
    "collapsed": true
   },
   "outputs": [],
   "source": []
  },
  {
   "cell_type": "code",
   "execution_count": null,
   "metadata": {
    "collapsed": true
   },
   "outputs": [],
   "source": []
  },
  {
   "cell_type": "markdown",
   "metadata": {},
   "source": []
  },
  {
   "cell_type": "code",
   "execution_count": null,
   "metadata": {
    "collapsed": true
   },
   "outputs": [],
   "source": []
  },
  {
   "cell_type": "code",
   "execution_count": null,
   "metadata": {
    "collapsed": true
   },
   "outputs": [],
   "source": []
  },
  {
   "cell_type": "code",
   "execution_count": null,
   "metadata": {
    "collapsed": true
   },
   "outputs": [],
   "source": []
  },
  {
   "cell_type": "markdown",
   "metadata": {},
   "source": []
  },
  {
   "cell_type": "code",
   "execution_count": null,
   "metadata": {
    "collapsed": true
   },
   "outputs": [],
   "source": []
  },
  {
   "cell_type": "markdown",
   "metadata": {
    "collapsed": true
   },
   "source": [
    "Ignore the above 2 plots those plots are plotted below again"
   ]
  },
  {
   "cell_type": "code",
   "execution_count": null,
   "metadata": {
    "collapsed": true
   },
   "outputs": [],
   "source": []
  },
  {
   "cell_type": "code",
   "execution_count": null,
   "metadata": {
    "collapsed": true
   },
   "outputs": [],
   "source": []
  },
  {
   "cell_type": "code",
   "execution_count": null,
   "metadata": {
    "collapsed": true
   },
   "outputs": [],
   "source": []
  },
  {
   "cell_type": "code",
   "execution_count": null,
   "metadata": {
    "collapsed": true
   },
   "outputs": [],
   "source": []
  },
  {
   "cell_type": "code",
   "execution_count": null,
   "metadata": {
    "collapsed": true
   },
   "outputs": [],
   "source": []
  },
  {
   "cell_type": "markdown",
   "metadata": {},
   "source": []
  },
  {
   "cell_type": "code",
   "execution_count": null,
   "metadata": {
    "collapsed": true
   },
   "outputs": [],
   "source": []
  },
  {
   "cell_type": "markdown",
   "metadata": {
    "collapsed": true
   },
   "source": []
  },
  {
   "cell_type": "markdown",
   "metadata": {
    "collapsed": true
   },
   "source": []
  },
  {
   "cell_type": "code",
   "execution_count": null,
   "metadata": {
    "collapsed": true
   },
   "outputs": [],
   "source": []
  },
  {
   "cell_type": "code",
   "execution_count": null,
   "metadata": {
    "collapsed": true
   },
   "outputs": [],
   "source": []
  },
  {
   "cell_type": "code",
   "execution_count": null,
   "metadata": {
    "collapsed": true
   },
   "outputs": [],
   "source": []
  },
  {
   "cell_type": "code",
   "execution_count": null,
   "metadata": {
    "collapsed": true
   },
   "outputs": [],
   "source": []
  },
  {
   "cell_type": "code",
   "execution_count": null,
   "metadata": {
    "collapsed": true
   },
   "outputs": [],
   "source": []
  },
  {
   "cell_type": "code",
   "execution_count": null,
   "metadata": {
    "collapsed": true
   },
   "outputs": [],
   "source": []
  },
  {
   "cell_type": "code",
   "execution_count": null,
   "metadata": {
    "collapsed": true
   },
   "outputs": [],
   "source": []
  },
  {
   "cell_type": "code",
   "execution_count": null,
   "metadata": {
    "collapsed": true
   },
   "outputs": [],
   "source": []
  },
  {
   "cell_type": "code",
   "execution_count": null,
   "metadata": {
    "collapsed": true
   },
   "outputs": [],
   "source": []
  },
  {
   "cell_type": "code",
   "execution_count": null,
   "metadata": {
    "collapsed": true
   },
   "outputs": [],
   "source": []
  },
  {
   "cell_type": "code",
   "execution_count": null,
   "metadata": {
    "collapsed": true
   },
   "outputs": [],
   "source": []
  },
  {
   "cell_type": "code",
   "execution_count": null,
   "metadata": {
    "collapsed": true
   },
   "outputs": [],
   "source": []
  },
  {
   "cell_type": "code",
   "execution_count": null,
   "metadata": {
    "collapsed": true
   },
   "outputs": [],
   "source": []
  },
  {
   "cell_type": "code",
   "execution_count": null,
   "metadata": {
    "collapsed": true
   },
   "outputs": [],
   "source": []
  },
  {
   "cell_type": "code",
   "execution_count": null,
   "metadata": {
    "collapsed": true
   },
   "outputs": [],
   "source": []
  },
  {
   "cell_type": "code",
   "execution_count": null,
   "metadata": {
    "collapsed": true
   },
   "outputs": [],
   "source": []
  },
  {
   "cell_type": "code",
   "execution_count": null,
   "metadata": {
    "collapsed": true
   },
   "outputs": [],
   "source": []
  }
 ],
 "metadata": {
  "kernelspec": {
   "display_name": "Python 3",
   "language": "python",
   "name": "python3"
  },
  "language_info": {
   "codemirror_mode": {
    "name": "ipython",
    "version": 3
   },
   "file_extension": ".py",
   "mimetype": "text/x-python",
   "name": "python",
   "nbconvert_exporter": "python",
   "pygments_lexer": "ipython3",
   "version": "3.5.5"
  }
 },
 "nbformat": 4,
 "nbformat_minor": 2
}
