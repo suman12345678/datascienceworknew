{
 "cells": [
  {
   "cell_type": "markdown",
   "metadata": {},
   "source": [
    "# Amazon food review dataset apply truncated SVD\n",
    "\n",
    "Data set from https://www.kaggle.com/snap/amazon-fine-food-reviews\n",
    "\n",
    "\n",
    "# Objective\n",
    "1. Take 2000 words by TFIDF importance \n",
    "2. Calculate cooccurance matrix with neighbourhood of size 5 and count how many times wi occur in context of wj\n",
    "3. Then do truncated SVD\n",
    "4. try multiple value of k(find optimal k by amount of variance explained)[use singular value]\n",
    "5. cluster(kmeans k=50 ) word vector for top 2000\n",
    "6. word cluster together should be related\n",
    "\n",
    "# Import data and libraries\n",
    " "
   ]
  },
  {
   "cell_type": "code",
   "execution_count": 97,
   "metadata": {},
   "outputs": [],
   "source": [
    "from sklearn.manifold import TSNE\n",
    "import sqlite3\n",
    "import pandas as pd\n",
    "import numpy as np\n",
    "import nltk\n",
    "import string\n",
    "import matplotlib.pyplot as plt\n",
    "import seaborn as sns\n",
    "from sklearn.feature_extraction.text import TfidfTransformer\n",
    "from sklearn.feature_extraction.text import TfidfVectorizer\n",
    "from sklearn.feature_extraction.text import CountVectorizer\n",
    "from sklearn.metrics import confusion_matrix\n",
    "from sklearn import metrics\n",
    "from sklearn.metrics import roc_curve, auc\n",
    "from nltk.stem.porter import PorterStemmer\n",
    "from sklearn.cross_validation import train_test_split,KFold\n",
    "from sklearn.neighbors import KNeighborsClassifier\n",
    "from sklearn.metrics import accuracy_score\n",
    "from sklearn.cross_validation import cross_val_score\n",
    "from collections import Counter\n",
    "from sklearn.metrics import accuracy_score\n",
    "from sklearn import cross_validation\n",
    "from sklearn.grid_search import GridSearchCV\n",
    "from sklearn.linear_model import LogisticRegression\n",
    "\n",
    "con = sqlite3.connect('database.sqlite') \n",
    "\n",
    "#get only +ve and -ve review \n",
    "raw_data = pd.read_sql_query(\"\"\"SELECT * FROM Reviews WHERE Score != 3\"\"\", con) "
   ]
  },
  {
   "cell_type": "markdown",
   "metadata": {},
   "source": [
    "# Data preprocessing"
   ]
  },
  {
   "cell_type": "code",
   "execution_count": 98,
   "metadata": {},
   "outputs": [],
   "source": [
    "filtered_data=raw_data\n",
    "# Score>3 a positive rating, and score<3 a negative rating.\n",
    "def partition(x):\n",
    "    if x < 3:\n",
    "        return 'negative'\n",
    "    return 'positive'\n",
    "\n",
    "#changing reviews with score less than 3 to be positive and vice-versa\n",
    "actualScore = filtered_data['Score']\n",
    "positiveNegative = actualScore.map(partition) \n",
    "filtered_data['Score'] = positiveNegative\n",
    "\n",
    "filtered_data.sample(5)\n",
    "filtered_data['Score'].value_counts()\n",
    "\n",
    "#Sorting data according to ProductId in ascending order\n",
    "sorted_data=filtered_data.sort_values('ProductId', axis=0, ascending=True, inplace=False, kind='quicksort', na_position='last')\n",
    "\n",
    "#Deduplication of entries for same profilename,userid, time, text and take first element \n",
    "sorted_data=sorted_data.drop_duplicates(subset={\"UserId\",\"ProfileName\",\"Time\",\"Text\"}, keep='first', inplace=False)\n"
   ]
  },
  {
   "cell_type": "code",
   "execution_count": 206,
   "metadata": {},
   "outputs": [
    {
     "name": "stdout",
     "output_type": "stream",
     "text": [
      "total data \n",
      " positive    307063\n",
      "negative     57110\n",
      "Name: Score, dtype: int64\n"
     ]
    },
    {
     "data": {
      "text/plain": [
       "positive    42159\n",
       "negative     7841\n",
       "Name: Score, dtype: int64"
      ]
     },
     "execution_count": 206,
     "metadata": {},
     "output_type": "execute_result"
    }
   ],
   "source": [
    "#take only 50000 data\n",
    "print('total data \\n',sorted_data['Score'].value_counts())\n",
    "#clean_data=sorted_data.sample(frac=1).groupby('Score').head(10000)\n",
    "#take stratified sampling i.e. positive and negative reviews are proportionate to raw data\n",
    "#testing\n",
    "_ , clean_data = train_test_split(sorted_data, test_size = 50000, random_state=1,stratify = sorted_data['Score'] )\n",
    "clean_data['Score'].value_counts()"
   ]
  },
  {
   "cell_type": "code",
   "execution_count": 207,
   "metadata": {},
   "outputs": [
    {
     "name": "stdout",
     "output_type": "stream",
     "text": [
      "tasti\n",
      "(50000, 11)\n"
     ]
    },
    {
     "name": "stderr",
     "output_type": "stream",
     "text": [
      "C:\\Users\\suman\\Anaconda3\\lib\\site-packages\\ipykernel_launcher.py:52: SettingWithCopyWarning: \n",
      "A value is trying to be set on a copy of a slice from a DataFrame.\n",
      "Try using .loc[row_indexer,col_indexer] = value instead\n",
      "\n",
      "See the caveats in the documentation: http://pandas.pydata.org/pandas-docs/stable/indexing.html#indexing-view-versus-copy\n"
     ]
    },
    {
     "data": {
      "text/plain": [
       "b'use lot coconut late granola cake cup cake etc particular brand serv purpos well price good'"
      ]
     },
     "execution_count": 207,
     "metadata": {},
     "output_type": "execute_result"
    }
   ],
   "source": [
    "# Clean html tag and punctuation\n",
    "import re\n",
    "import string\n",
    "from nltk.corpus import stopwords\n",
    "from nltk.stem import PorterStemmer\n",
    "from nltk.stem.wordnet import WordNetLemmatizer\n",
    "\n",
    "stop = set(stopwords.words('english')) #set of stopwords\n",
    "sno = nltk.stem.SnowballStemmer('english') #initialising the snowball stemmer\n",
    "\n",
    "#substitute html tag and punctuation\n",
    "def cleanhtml(sentence): #function to clean the word of any html-tags\n",
    "    cleanr = re.compile('<.*?>')\n",
    "    cleantext = re.sub(cleanr, ' ', sentence)\n",
    "    return cleantext\n",
    "def cleanpunc(sentence): #function to clean the word of any punctuation or special characters\n",
    "    cleaned = re.sub(r'[?|!|\\'|\"|#]',r'',sentence)\n",
    "    cleaned = re.sub(r'[.|,|)|(|\\|/]',r' ',cleaned)\n",
    "    return  cleaned\n",
    "print(sno.stem('tasty'))\n",
    "\n",
    "i=0\n",
    "str1=' '\n",
    "mystop={'of','four','one','would'}\n",
    "final_string=[]\n",
    "all_positive_words=[] # store words from +ve reviews here\n",
    "all_negative_words=[] # store words from -ve reviews here.\n",
    "s=''\n",
    "#Create new catagory as Cleanedtext after removing htmltag and punctuation and uppercase and word length >2\n",
    "for sent in clean_data['Text'].values:\n",
    "    filtered_sentence=[]\n",
    "    sent=cleanhtml(sent) # remove HTMl tags\n",
    "    for w in sent.split():\n",
    "        for cleaned_words in cleanpunc(w).split():\n",
    "            if((cleaned_words.isalpha()) & (len(cleaned_words)>2)):    \n",
    "                if((cleaned_words.lower() not in stop) & (cleaned_words.lower() not in mystop)):\n",
    "                    s=(sno.stem(cleaned_words.lower())).encode('utf8')\n",
    "                    filtered_sentence.append(s)\n",
    "                    if (clean_data['Score'].values)[i] == 'positive': \n",
    "                        all_positive_words.append(s) #list of all words used to describe positive reviews\n",
    "                    if(clean_data['Score'].values)[i] == 'negative':\n",
    "                        all_negative_words.append(s) #list of all words used to describe negative reviews reviews\n",
    "                else:\n",
    "                    continue\n",
    "            else:\n",
    "                continue \n",
    "    str1 = b\" \".join(filtered_sentence) #final string of cleaned words\n",
    "    \n",
    "    final_string.append(str1)\n",
    "    i+=1\n",
    "    \n",
    "clean_data['CleanedText']=final_string\n",
    "print(clean_data.shape)\n",
    "#Sort data on timestamp\n",
    "clean_data=clean_data.sort_values(by=['Time'],ascending=False)\n",
    "#clean_data\n",
    "clean_data['CleanedText'].sample(2)\n",
    "clean_data['CleanedText'].iloc[0]"
   ]
  },
  {
   "cell_type": "markdown",
   "metadata": {
    "collapsed": true
   },
   "source": [
    "# Get top 2000 words by TFIDF score and create co-occurence matrix by window 5"
   ]
  },
  {
   "cell_type": "code",
   "execution_count": 209,
   "metadata": {},
   "outputs": [
    {
     "name": "stdout",
     "output_type": "stream",
     "text": [
      "['çaykur', 'jail', 'jaegermeist', 'jagar', 'jager', 'jagermeist', 'jagger', 'jaguar', 'jaim', 'jamestown', 'jakeman', 'jalapena', 'jalapneo', 'jalepano', 'jalpeno', 'jama', 'jadranka', 'jacqu', 'jackhamm', 'jackalop']\n",
      "len of top feature 2000\n",
      "sentence copy b'howevert'\n",
      "sentence copy b'jeesh'\n",
      "sentence copy b'kadoda'\n",
      "sentence copy b'hula'\n",
      "sentence copy b'gough galantin'\n"
     ]
    },
    {
     "data": {
      "text/plain": [
       "[b'howevert',\n",
       " b'jeesh',\n",
       " b'kadoda',\n",
       " b'hula',\n",
       " b'gough galantin',\n",
       " b'gami',\n",
       " b'likelt',\n",
       " b'gallopin',\n",
       " b'krapelien holm',\n",
       " b'lakritz',\n",
       " b'gayelord',\n",
       " b'fuggedaboud',\n",
       " b'jeweltim jeweltim',\n",
       " b'happitud geen',\n",
       " b'hummingbyrd',\n",
       " b'gnash',\n",
       " b'jagermeist',\n",
       " b'gravey',\n",
       " b'intersess keiki',\n",
       " b'ingrededi']"
      ]
     },
     "execution_count": 209,
     "metadata": {},
     "output_type": "execute_result"
    }
   ],
   "source": [
    "x=clean_data['CleanedText'].values\n",
    "y = clean_data['Score']\n",
    "tf_idf_vect = TfidfVectorizer()\n",
    "final_counts = tf_idf_vect.fit_transform(x)\n",
    "#use the same vectors to convert test data\n",
    "indices = np.argsort(tf_idf_vect.idf_)[::-1]\n",
    "features = tf_idf_vect.get_feature_names()\n",
    "#testing\n",
    "top_n = 2000\n",
    "top_features = [features[i] for i in indices[:top_n]]\n",
    "print (top_features[0:20])\n",
    "print('len of top feature',len(top_features))\n",
    "\n",
    "#remove other words from review\n",
    "final_string=[]\n",
    "all_string=[]\n",
    "\n",
    "i=0\n",
    "for sent in clean_data['CleanedText'].values:\n",
    "    \n",
    "    filtered_sentence=[]\n",
    "    for w in sent.decode('utf8').split():\n",
    "                if(w in top_features):\n",
    "                    filtered_sentence.append(w.encode('utf8'))\n",
    "                    \n",
    "                else:\n",
    "                    continue                   \n",
    "    str1 = b\" \".join(filtered_sentence) #final string of cleaned words\n",
    "    if ((i<5) & (str1!=b'')):\n",
    "        print('sentence copy',str1)\n",
    "    if (str1.decode('utf8') !=''):\n",
    "      i=i+1  \n",
    "      final_string.append(str1)\n",
    "      all_string.append(str1)\n",
    "    \n",
    "#clean_data['CleanedText']=final_string\n",
    "#Now final_string is ready to work with\n",
    "#print(clean_data['CleanedText'].shape)\n",
    "all_string[0:20]\n"
   ]
  },
  {
   "cell_type": "markdown",
   "metadata": {},
   "source": []
  },
  {
   "cell_type": "code",
   "execution_count": 210,
   "metadata": {},
   "outputs": [
    {
     "name": "stdout",
     "output_type": "stream",
     "text": [
      "2000\n",
      "(2000, 2000)\n"
     ]
    }
   ],
   "source": [
    "#Convert to cooccurance mat\n",
    "#type(final_string)\n",
    "print(len(top_features))\n",
    "window=5\n",
    "len1=len(top_features)\n",
    "#print(len)\n",
    "m=np.zeros([len1,len1])\n",
    "columns=top_features\n",
    "rows=top_features\n",
    "df=pd.DataFrame(m,columns=columns,index=rows)\n",
    "#print(df)\n",
    "\n",
    "def cal_occ(sentence,df):\n",
    "    sen=sentence.split()\n",
    "    l=len(sen)-1\n",
    "    for i,word in enumerate(sen):\n",
    "        #loop through every sentence in a window and get neigherest words and keep adding\n",
    "        for j in range(max(i-window,0),min(i+window+1,l+1)):\n",
    "            if word!=sen[j]:\n",
    "                #print('printing',word,sen[j])\n",
    "                df[word][sen[j]]+=1\n",
    "                \n",
    "for sentence in final_string:\n",
    "    #print('call',sentence)\n",
    "    cal_occ(sentence.decode('utf8'),df)\n",
    "    \n",
    "print(df.shape)    "
   ]
  },
  {
   "cell_type": "code",
   "execution_count": 211,
   "metadata": {},
   "outputs": [
    {
     "name": "stdout",
     "output_type": "stream",
     "text": [
      "The most similar word like  jager\n",
      "<class 'pandas.core.series.Series'>\n"
     ]
    }
   ],
   "source": [
    "from sklearn.preprocessing import StandardScaler\n",
    "#Get cooccuring words for a given word\n",
    "print('The most similar word like ',df.index[4])\n",
    "aa=df.iloc[4]\n",
    "bb=aa.sort_values(ascending=False)\n",
    "print(type(bb))"
   ]
  },
  {
   "cell_type": "code",
   "execution_count": 212,
   "metadata": {},
   "outputs": [],
   "source": [
    "#df"
   ]
  },
  {
   "cell_type": "markdown",
   "metadata": {},
   "source": []
  },
  {
   "cell_type": "code",
   "execution_count": null,
   "metadata": {},
   "outputs": [],
   "source": []
  },
  {
   "cell_type": "markdown",
   "metadata": {
    "collapsed": true
   },
   "source": [
    "# Create countvectorizer using cooccurence matrix"
   ]
  },
  {
   "cell_type": "markdown",
   "metadata": {},
   "source": []
  },
  {
   "cell_type": "code",
   "execution_count": 213,
   "metadata": {},
   "outputs": [
    {
     "name": "stdout",
     "output_type": "stream",
     "text": [
      "% variance explained with component  20 0.614688953311\n",
      "% variance explained with component  50 0.775927938321\n",
      "% variance explained with component  100 0.862135844503\n",
      "% variance explained with component  150 0.889968288638\n",
      "% variance explained with component  200 0.91780506569\n",
      "% variance explained with component  250 0.945634269034\n"
     ]
    }
   ],
   "source": [
    "#count_vect = CountVectorizer(vocabulary=top_features) #in scikit-learn\n",
    "#X = count_vect.fit_transform(final_string)\n",
    "\n",
    "#print(X.shape)\n",
    "          \n",
    "#Cooccurance matrix    \n",
    "#X = (X.T * X) # this is co-occurrence matrix in sparse csr format\n",
    "#X.setdiag(0) # sometimes you want to fill same word cooccurence to 0\n",
    "#print(X.todense()) \n",
    "\n",
    "#print(count_vect.vocabulary_)                             \n",
    "                   \n",
    "#Create truncated SVD\n",
    "from sklearn.decomposition import TruncatedSVD\n",
    "\n",
    "#Try different component\n",
    "l=[20,50,100,150,200,250]\n",
    "for i in l:\n",
    "  svd = TruncatedSVD(n_components=i, n_iter=7, random_state=0)\n",
    "  svd.fit(df.values)\n",
    "  #print(svd.explained_variance_ratio_)  \n",
    "  l1=svd.explained_variance_ratio_\n",
    "  print('% variance explained with component ',i,svd.explained_variance_ratio_.sum()) \n",
    "  #print('singular values',svd.singular_values_)\n",
    "\n",
    "#So looks like with 25 component 96% variance is explained\n"
   ]
  },
  {
   "cell_type": "markdown",
   "metadata": {
    "collapsed": true
   },
   "source": [
    "SO by 250 component 95% variance is explained\n",
    "# Use SVD"
   ]
  },
  {
   "cell_type": "code",
   "execution_count": 229,
   "metadata": {},
   "outputs": [
    {
     "name": "stdout",
     "output_type": "stream",
     "text": [
      "U value\n",
      "\n",
      "sigma value\n",
      "\n",
      "VT value\n",
      "\n",
      "(2000, 250) (250,) (250, 2000)\n",
      "1st word vector representation çaykur\n"
     ]
    }
   ],
   "source": [
    "#VT = svd.components_\n",
    "#TruncatedSVD is basically a wrapper around sklearn.utils.extmath.randomized_svd; you can manually call this yourself like this:\n",
    "\n",
    "from sklearn.utils.extmath import randomized_svd\n",
    "\n",
    "U, Sigma, VT = randomized_svd(df.values, \n",
    "                              n_components=250,\n",
    "                              n_iter=50,\n",
    "                              random_state=0)\n",
    "\n",
    "print('U value\\n')\n",
    "#print(U)\n",
    "print('sigma value\\n')\n",
    "#print(Sigma)\n",
    "print('VT value\\n')\n",
    "#print(VT)\n",
    "print(U.shape,Sigma.shape,VT.shape)\n",
    "print('1st word vector representation',df.index[0])"
   ]
  },
  {
   "cell_type": "markdown",
   "metadata": {
    "collapsed": true
   },
   "source": [
    "# Form cluster of 10 using those important words SVD value"
   ]
  },
  {
   "cell_type": "markdown",
   "metadata": {},
   "source": [
    "\n",
    "# Get top few words similar to a random word"
   ]
  },
  {
   "cell_type": "code",
   "execution_count": 230,
   "metadata": {},
   "outputs": [
    {
     "name": "stdout",
     "output_type": "stream",
     "text": [
      "1st word vector representation granmder  for j 1331\n",
      "top 10 words similar to  granmder  are  Index(['jitterbean', 'jot', 'josephus', 'jedi', 'jeera', 'jive', 'joshua',\n",
      "       'jitterbug', 'jem', 'jolen'],\n",
      "      dtype='object')\n"
     ]
    }
   ],
   "source": [
    "from random import randint\n",
    "j=randint(0, 2000)\n",
    "print('1st word vector representation',df.index[j],' for j',j)#print(U.shape[0])\n",
    "#Calculate distance of this word with all words and sort in descending order\n",
    "#take log transform\n",
    "U=np.log(U+1)\n",
    "l=[]\n",
    "for i in range(U.shape[1]):\n",
    "  a=np.linalg.norm(U[j]-U[i])\n",
    "  l.append(a)\n",
    "l1=sorted(range(len(l)), key=lambda k: l[k])\n",
    "#print(l)\n",
    "print('top 10 words similar to ',df.index[j],' are ',df.index[l1[0:10]])"
   ]
  },
  {
   "cell_type": "code",
   "execution_count": 233,
   "metadata": {},
   "outputs": [
    {
     "data": {
      "image/png": "[encoded data removed]",
      "text/plain": [
       "<matplotlib.figure.Figure at 0x257a137c518>"
      ]
     },
     "metadata": {},
     "output_type": "display_data"
    },
    {
     "name": "stdout",
     "output_type": "stream",
     "text": [
      "(1,)\n",
      "in cluster \n",
      " 0\n",
      "[0 1 2 3 4 5 6 7 8 9]\n",
      "çaykur\n",
      "jail\n",
      "jaegermeis\n",
      "jagar\n",
      "jager\n",
      "jagermeist\n",
      "jagger\n",
      "jaguar\n",
      "jaim\n",
      "in cluster \n",
      " 1\n",
      "[882]\n",
      "kittredg\n",
      "in cluster \n",
      " 2\n",
      "[1289]\n",
      "gradul\n",
      "in cluster \n",
      " 3\n",
      "[968]\n",
      "kelsey\n",
      "in cluster \n",
      " 4\n",
      "[22]\n",
      "jab\n",
      "in cluster \n",
      " 5\n",
      "[1845]\n",
      "hushpuppi\n",
      "in cluster \n",
      " 6\n",
      "[1892]\n",
      "hotown\n",
      "in cluster \n",
      " 7\n",
      "[632]\n",
      "lanolin\n",
      "in cluster \n",
      " 8\n",
      "[1570]\n",
      "gingerspic\n",
      "in cluster \n",
      " 9\n",
      "[1966]\n",
      "hairstyl\n",
      "in cluster \n",
      " 10\n",
      "[1063]\n",
      "knowlton\n",
      "in cluster \n",
      " 11\n",
      "[1213]\n",
      "gleam\n",
      "in cluster \n",
      " 12\n",
      "[1280]\n",
      "grenad\n",
      "in cluster \n",
      " 13\n",
      "[1573]\n",
      "giovanni\n",
      "in cluster \n",
      " 14\n",
      "[984]\n",
      "kwazulu\n",
      "in cluster \n",
      " 15\n",
      "[678]\n",
      "laurenc\n",
      "in cluster \n",
      " 16\n",
      "[123]\n",
      "istelf\n",
      "in cluster \n",
      " 17\n",
      "[1017 1806]\n",
      "laevulos\n",
      "higer\n",
      "in cluster \n",
      " 18\n",
      "[1661]\n",
      "genui\n",
      "in cluster \n",
      " 19\n",
      "[1654]\n",
      "genovo\n",
      "in cluster \n",
      " 20\n",
      "[1636]\n",
      "genom\n",
      "in cluster \n",
      " 21\n",
      "[1733]\n",
      "homag\n",
      "in cluster \n",
      " 22\n",
      "[987]\n",
      "kushka\n",
      "in cluster \n",
      " 23\n",
      "[827]\n",
      "lindo\n",
      "in cluster \n",
      " 24\n",
      "[ 654 1665]\n",
      "lamma\n",
      "genteel\n",
      "in cluster \n",
      " 25\n",
      "[1863]\n",
      "hydron\n",
      "in cluster \n",
      " 26\n",
      "[1440]\n",
      "gaul\n",
      "in cluster \n",
      " 27\n",
      "[992]\n",
      "kuechenmei\n",
      "in cluster \n",
      " 28\n",
      "[281]\n",
      "implant\n",
      "in cluster \n",
      " 29\n",
      "[776]\n",
      "lisey\n",
      "in cluster \n",
      " 30\n",
      "[1589]\n",
      "gim\n",
      "in cluster \n",
      " 31\n",
      "[1385]\n",
      "gravita\n",
      "in cluster \n",
      " 32\n",
      "[1078]\n",
      "komissbrot\n",
      "in cluster \n",
      " 33\n",
      "[160]\n",
      "juarez\n",
      "in cluster \n",
      " 34\n",
      "[1692]\n",
      "hobbits\n",
      "in cluster \n",
      " 35\n",
      "[1341]\n",
      "grandaroma\n",
      "in cluster \n",
      " 36\n",
      "[387]\n",
      "immacul\n",
      "in cluster \n",
      " 37\n",
      "[373]\n",
      "iceberg\n",
      "in cluster \n",
      " 38\n",
      "[1487]\n",
      "fue\n",
      "in cluster \n",
      " 39\n",
      "[1400]\n",
      "ganoderma\n",
      "in cluster \n",
      " 40\n",
      "[1797]\n",
      "hijiki\n",
      "in cluster \n",
      " 41\n",
      "[448]\n",
      "insalata\n",
      "in cluster \n",
      " 42\n",
      "[798]\n",
      "licken\n",
      "in cluster \n",
      " 43\n",
      "[1796]\n",
      "hijo\n",
      "in cluster \n",
      " 44\n",
      "[101]\n",
      "ipodo\n",
      "in cluster \n",
      " 45\n",
      "[86]\n",
      "ironwork\n",
      "in cluster \n",
      " 46\n",
      "[1430]\n",
      "gastroente\n",
      "in cluster \n",
      " 47\n",
      "[685 963]\n",
      "latitud\n",
      "kensington\n",
      "in cluster \n",
      " 48\n",
      "[537]\n",
      "ingredien\n",
      "in cluster \n",
      " 49\n",
      "[841]\n",
      "kiefer\n"
     ]
    }
   ],
   "source": [
    "from sklearn.cluster import KMeans\n",
    "# Now U is vec presentation of words\n",
    "n_clusters=10\n",
    "kmeans=KMeans(n_clusters=10, random_state=0).fit(U)\n",
    "kmeans.cluster_centers_\n",
    "\n",
    "sse = {}\n",
    "for k in range(1, 10):\n",
    "    kmeans = KMeans(init='k-means++',n_clusters=k, max_iter=100).fit(U)\n",
    "    sse[k] = kmeans.inertia_ # Inertia: Sum of distances of samples to their closest cluster center\n",
    "plt.figure()\n",
    "plt.plot(list(sse.keys()), list(sse.values()))\n",
    "plt.title(\"Plot of loss against k value using BOW\")\n",
    "plt.xlabel(\"Number of cluster\")\n",
    "plt.ylabel(\"SSE\")\n",
    "plt.show()\n",
    "\n",
    "#a=np.where(kmeans.labels_ == 1)[0]\n",
    "#b=np.where(kmeans.labels_ == 0)[0]\n",
    "#check 5 text for cluster 1\n",
    "\n",
    "kmeans = KMeans(init='k-means++',n_clusters=50, max_iter=100).fit(U)\n",
    "n_clusters=50\n",
    "print(a.shape)\n",
    "for i in range(n_clusters):\n",
    "  a=np.where(kmeans.labels_ == i)[0]\n",
    "  print('in cluster \\n',i)\n",
    "  print(a[0:10]) \n",
    "  k=0\n",
    "  for j in a:\n",
    "      k=k+1\n",
    "      if (k<10):  \n",
    "        print(top_features[j][:10])  \n"
   ]
  },
  {
   "cell_type": "markdown",
   "metadata": {
    "collapsed": true
   },
   "source": []
  },
  {
   "cell_type": "markdown",
   "metadata": {
    "collapsed": true
   },
   "source": [
    "# Observation\n",
    "Most of the cluster contains 1-2 words and most of the words in one cluster\n",
    "To find the similar word its not giving proper words, maybe non engligh words and text cleanning is required much"
   ]
  },
  {
   "cell_type": "code",
   "execution_count": 26,
   "metadata": {
    "collapsed": true
   },
   "outputs": [],
   "source": []
  },
  {
   "cell_type": "code",
   "execution_count": null,
   "metadata": {},
   "outputs": [],
   "source": []
  },
  {
   "cell_type": "markdown",
   "metadata": {},
   "source": []
  },
  {
   "cell_type": "markdown",
   "metadata": {
    "collapsed": true
   },
   "source": []
  },
  {
   "cell_type": "code",
   "execution_count": null,
   "metadata": {
    "collapsed": true
   },
   "outputs": [],
   "source": [
    "\n"
   ]
  },
  {
   "cell_type": "markdown",
   "metadata": {
    "collapsed": true
   },
   "source": []
  },
  {
   "cell_type": "code",
   "execution_count": null,
   "metadata": {
    "collapsed": true
   },
   "outputs": [],
   "source": []
  },
  {
   "cell_type": "markdown",
   "metadata": {
    "collapsed": true
   },
   "source": []
  },
  {
   "cell_type": "markdown",
   "metadata": {},
   "source": []
  },
  {
   "cell_type": "code",
   "execution_count": null,
   "metadata": {
    "collapsed": true
   },
   "outputs": [],
   "source": []
  },
  {
   "cell_type": "code",
   "execution_count": null,
   "metadata": {
    "collapsed": true
   },
   "outputs": [],
   "source": []
  },
  {
   "cell_type": "markdown",
   "metadata": {
    "collapsed": true
   },
   "source": []
  },
  {
   "cell_type": "code",
   "execution_count": null,
   "metadata": {
    "collapsed": true
   },
   "outputs": [],
   "source": []
  },
  {
   "cell_type": "code",
   "execution_count": null,
   "metadata": {
    "collapsed": true
   },
   "outputs": [],
   "source": []
  },
  {
   "cell_type": "markdown",
   "metadata": {
    "collapsed": true
   },
   "source": []
  },
  {
   "cell_type": "code",
   "execution_count": null,
   "metadata": {
    "collapsed": true
   },
   "outputs": [],
   "source": []
  },
  {
   "cell_type": "markdown",
   "metadata": {
    "collapsed": true
   },
   "source": []
  },
  {
   "cell_type": "code",
   "execution_count": null,
   "metadata": {
    "collapsed": true
   },
   "outputs": [],
   "source": []
  },
  {
   "cell_type": "code",
   "execution_count": null,
   "metadata": {
    "collapsed": true
   },
   "outputs": [],
   "source": []
  },
  {
   "cell_type": "markdown",
   "metadata": {},
   "source": []
  },
  {
   "cell_type": "code",
   "execution_count": null,
   "metadata": {
    "collapsed": true
   },
   "outputs": [],
   "source": []
  },
  {
   "cell_type": "code",
   "execution_count": null,
   "metadata": {
    "collapsed": true
   },
   "outputs": [],
   "source": []
  },
  {
   "cell_type": "code",
   "execution_count": null,
   "metadata": {
    "collapsed": true
   },
   "outputs": [],
   "source": []
  },
  {
   "cell_type": "markdown",
   "metadata": {},
   "source": []
  },
  {
   "cell_type": "code",
   "execution_count": null,
   "metadata": {
    "collapsed": true
   },
   "outputs": [],
   "source": []
  },
  {
   "cell_type": "markdown",
   "metadata": {
    "collapsed": true
   },
   "source": [
    "Ignore the above 2 plots those plots are plotted below again"
   ]
  },
  {
   "cell_type": "code",
   "execution_count": null,
   "metadata": {
    "collapsed": true
   },
   "outputs": [],
   "source": []
  },
  {
   "cell_type": "code",
   "execution_count": null,
   "metadata": {
    "collapsed": true
   },
   "outputs": [],
   "source": []
  },
  {
   "cell_type": "code",
   "execution_count": null,
   "metadata": {
    "collapsed": true
   },
   "outputs": [],
   "source": []
  },
  {
   "cell_type": "code",
   "execution_count": null,
   "metadata": {
    "collapsed": true
   },
   "outputs": [],
   "source": []
  },
  {
   "cell_type": "code",
   "execution_count": null,
   "metadata": {
    "collapsed": true
   },
   "outputs": [],
   "source": []
  },
  {
   "cell_type": "markdown",
   "metadata": {},
   "source": []
  },
  {
   "cell_type": "code",
   "execution_count": null,
   "metadata": {
    "collapsed": true
   },
   "outputs": [],
   "source": []
  },
  {
   "cell_type": "markdown",
   "metadata": {
    "collapsed": true
   },
   "source": []
  },
  {
   "cell_type": "markdown",
   "metadata": {
    "collapsed": true
   },
   "source": []
  },
  {
   "cell_type": "code",
   "execution_count": null,
   "metadata": {
    "collapsed": true
   },
   "outputs": [],
   "source": []
  },
  {
   "cell_type": "code",
   "execution_count": null,
   "metadata": {
    "collapsed": true
   },
   "outputs": [],
   "source": []
  },
  {
   "cell_type": "code",
   "execution_count": null,
   "metadata": {
    "collapsed": true
   },
   "outputs": [],
   "source": []
  },
  {
   "cell_type": "code",
   "execution_count": null,
   "metadata": {
    "collapsed": true
   },
   "outputs": [],
   "source": []
  },
  {
   "cell_type": "code",
   "execution_count": null,
   "metadata": {
    "collapsed": true
   },
   "outputs": [],
   "source": []
  },
  {
   "cell_type": "code",
   "execution_count": null,
   "metadata": {
    "collapsed": true
   },
   "outputs": [],
   "source": []
  },
  {
   "cell_type": "code",
   "execution_count": null,
   "metadata": {
    "collapsed": true
   },
   "outputs": [],
   "source": []
  },
  {
   "cell_type": "code",
   "execution_count": null,
   "metadata": {
    "collapsed": true
   },
   "outputs": [],
   "source": []
  },
  {
   "cell_type": "code",
   "execution_count": null,
   "metadata": {
    "collapsed": true
   },
   "outputs": [],
   "source": []
  },
  {
   "cell_type": "code",
   "execution_count": null,
   "metadata": {
    "collapsed": true
   },
   "outputs": [],
   "source": []
  },
  {
   "cell_type": "code",
   "execution_count": null,
   "metadata": {
    "collapsed": true
   },
   "outputs": [],
   "source": []
  },
  {
   "cell_type": "code",
   "execution_count": null,
   "metadata": {
    "collapsed": true
   },
   "outputs": [],
   "source": []
  },
  {
   "cell_type": "code",
   "execution_count": null,
   "metadata": {
    "collapsed": true
   },
   "outputs": [],
   "source": []
  },
  {
   "cell_type": "code",
   "execution_count": null,
   "metadata": {
    "collapsed": true
   },
   "outputs": [],
   "source": []
  },
  {
   "cell_type": "code",
   "execution_count": null,
   "metadata": {
    "collapsed": true
   },
   "outputs": [],
   "source": []
  },
  {
   "cell_type": "code",
   "execution_count": null,
   "metadata": {
    "collapsed": true
   },
   "outputs": [],
   "source": []
  },
  {
   "cell_type": "code",
   "execution_count": null,
   "metadata": {
    "collapsed": true
   },
   "outputs": [],
   "source": []
  }
 ],
 "metadata": {
  "kernelspec": {
   "display_name": "Python 3",
   "language": "python",
   "name": "python3"
  },
  "language_info": {
   "codemirror_mode": {
    "name": "ipython",
    "version": 3
   },
   "file_extension": ".py",
   "mimetype": "text/x-python",
   "name": "python",
   "nbconvert_exporter": "python",
   "pygments_lexer": "ipython3",
   "version": "3.5.5"
  }
 },
 "nbformat": 4,
 "nbformat_minor": 2
}
