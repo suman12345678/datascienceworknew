{
 "cells": [
  {
   "cell_type": "markdown",
   "metadata": {},
   "source": [
    "# problem Statement\n",
    "Day by day fraud transaction is increasing. The idea was to identify fraud transaction and take quick action to cancel the transaction or to take some other action. Data are taken transactional and demographic data"
   ]
  },
  {
   "cell_type": "markdown",
   "metadata": {},
   "source": [
    "# Import libraries and raw data"
   ]
  },
  {
   "cell_type": "code",
   "execution_count": 1,
   "metadata": {},
   "outputs": [
    {
     "name": "stderr",
     "output_type": "stream",
     "text": [
      "C:\\Users\\suman\\Anaconda3\\lib\\site-packages\\sklearn\\cross_validation.py:41: DeprecationWarning: This module was deprecated in version 0.18 in favor of the model_selection module into which all the refactored classes and functions are moved. Also note that the interface of the new CV iterators are different from that of this module. This module will be removed in 0.20.\n",
      "  \"This module will be removed in 0.20.\", DeprecationWarning)\n",
      "C:\\Users\\suman\\Anaconda3\\lib\\site-packages\\sklearn\\grid_search.py:42: DeprecationWarning: This module was deprecated in version 0.18 in favor of the model_selection module into which all the refactored classes and functions are moved. This module will be removed in 0.20.\n",
      "  DeprecationWarning)\n"
     ]
    },
    {
     "name": "stdout",
     "output_type": "stream",
     "text": [
      "   step      type    amount     nameOrig  oldbalanceOrg  newbalanceOrig  \\\n",
      "0     1   PAYMENT   9839.64  C1231006815       170136.0       160296.36   \n",
      "1     1   PAYMENT   1864.28  C1666544295        21249.0        19384.72   \n",
      "2     1  TRANSFER    181.00  C1305486145          181.0            0.00   \n",
      "3     1  CASH_OUT    181.00   C840083671          181.0            0.00   \n",
      "4     1   PAYMENT  11668.14  C2048537720        41554.0        29885.86   \n",
      "\n",
      "      nameDest  oldbalanceDest  newbalanceDest  isFraud  isFlaggedFraud  \n",
      "0  M1979787155             0.0             0.0        0               0  \n",
      "1  M2044282225             0.0             0.0        0               0  \n",
      "2   C553264065             0.0             0.0        1               0  \n",
      "3    C38997010         21182.0             0.0        1               0  \n",
      "4  M1230701703             0.0             0.0        0               0  \n",
      "         step      type     amount     nameOrig  oldbalanceOrg  \\\n",
      "4827797   347   PAYMENT   21591.79   C870097668       25950.00   \n",
      "1726681   160  TRANSFER  618114.76  C1493153961       42661.00   \n",
      "745884     38  CASH_OUT   38126.63   C316046212           0.00   \n",
      "4396502   321  CASH_OUT   53113.14    C96981076        5096.00   \n",
      "3639849   275   CASH_IN  292264.91   C710274587      462965.02   \n",
      "\n",
      "         newbalanceOrig     nameDest  oldbalanceDest  newbalanceDest  isFraud  \\\n",
      "4827797         4358.21   M889898668            0.00            0.00        0   \n",
      "1726681            0.00  C1986294842      1376161.79      1994276.55        0   \n",
      "745884             0.00  C1661901745       840330.41       878457.04        0   \n",
      "4396502            0.00   C534572565        97471.81       150584.94        0   \n",
      "3639849       755229.93  C1801625542      2871034.92      2578770.00        0   \n",
      "\n",
      "         isFlaggedFraud  \n",
      "4827797               0  \n",
      "1726681               0  \n",
      "745884                0  \n",
      "4396502               0  \n",
      "3639849               0  \n",
      "(6362620, 11)\n"
     ]
    }
   ],
   "source": [
    "#import library\n",
    "import pandas as pd\n",
    "import matplotlib.pyplot as plt\n",
    "import os\n",
    "from sklearn.preprocessing import Imputer \n",
    "import numpy as np\n",
    "import seaborn as sns\n",
    "from sklearn.preprocessing import StandardScaler \n",
    "from sklearn import metrics \n",
    "from sklearn.cross_validation import train_test_split \n",
    "from sklearn.preprocessing import LabelEncoder, OneHotEncoder \n",
    "from sklearn.linear_model import LogisticRegression \n",
    "from sklearn.metrics import confusion_matrix,roc_curve, auc, log_loss\n",
    "from sklearn.utils import resample\n",
    "from sklearn.grid_search import GridSearchCV\n",
    "from sklearn.cross_validation import KFold\n",
    "#conda install -c anaconda py-xgboost=0.60\n",
    "from xgboost import XGBClassifier\n",
    "from sklearn.ensemble import AdaBoostClassifier\n",
    "from sklearn.svm import SVC \n",
    "from sklearn.tree import DecisionTreeClassifier\n",
    "\n",
    "\n",
    "\n",
    "#collecting data\n",
    "#os.chdir(\"C:\\\\Users\\\\suman\\\\Desktop\\\\datasciencework\\\\fraudtransaction\")\n",
    "dataset = pd.read_csv('rawdata.csv')\n",
    "#print(dataset.head(5))\n",
    "print(dataset.sample(5))\n",
    "print(dataset.shape)"
   ]
  },
  {
   "cell_type": "markdown",
   "metadata": {},
   "source": [
    "# EDA of data"
   ]
  },
  {
   "cell_type": "code",
   "execution_count": 2,
   "metadata": {},
   "outputs": [
    {
     "data": {
      "text/plain": [
       "0    6354407\n",
       "1       8213\n",
       "Name: isFraud, dtype: int64"
      ]
     },
     "execution_count": 2,
     "metadata": {},
     "output_type": "execute_result"
    }
   ],
   "source": [
    "len(dataset.index)#6362620 rows\n",
    "dataset['isFraud'].value_counts()"
   ]
  },
  {
   "cell_type": "markdown",
   "metadata": {},
   "source": [
    "635440 7 (not isFraud) and 8213(isFraud) so we need oversampling of isFraud. "
   ]
  },
  {
   "cell_type": "code",
   "execution_count": 3,
   "metadata": {},
   "outputs": [
    {
     "name": "stdout",
     "output_type": "stream",
     "text": [
      "<class 'pandas.core.frame.DataFrame'>\n",
      "RangeIndex: 6362620 entries, 0 to 6362619\n",
      "Data columns (total 11 columns):\n",
      "step              int64\n",
      "type              object\n",
      "amount            float64\n",
      "nameOrig          object\n",
      "oldbalanceOrg     float64\n",
      "newbalanceOrig    float64\n",
      "nameDest          object\n",
      "oldbalanceDest    float64\n",
      "newbalanceDest    float64\n",
      "isFraud           int64\n",
      "isFlaggedFraud    int64\n",
      "dtypes: float64(5), int64(3), object(3)\n",
      "memory usage: 534.0+ MB\n"
     ]
    }
   ],
   "source": [
    "dataset.info()\n",
    "#as the data is imbalanced need oversampling but this is giving poor result\n",
    "#dataset_majority=dataset[dataset.isFraud==0]\n",
    "#dataset_minority=dataset[dataset.isFraud==1]\n",
    "#df_minority_upsample=resample(dataset_minority,replace=True,n_samples=6354407,random_state=123)#random state for reproduiable\n",
    "#df_upsampled=pd.concat([dataset_majority,df_minority_upsample])\n",
    "#df_upsampled['isFraud'].value_counts()#now its 6354407 and 6354407\n",
    "#dataset=df_upsampled\n"
   ]
  },
  {
   "cell_type": "code",
   "execution_count": 5,
   "metadata": {},
   "outputs": [
    {
     "data": {
      "text/html": [
       "<div>\n",
       "<style>\n",
       "    .dataframe thead tr:only-child th {\n",
       "        text-align: right;\n",
       "    }\n",
       "\n",
       "    .dataframe thead th {\n",
       "        text-align: left;\n",
       "    }\n",
       "\n",
       "    .dataframe tbody tr th {\n",
       "        vertical-align: top;\n",
       "    }\n",
       "</style>\n",
       "<table border=\"1\" class=\"dataframe\">\n",
       "  <thead>\n",
       "    <tr style=\"text-align: right;\">\n",
       "      <th>isFraud</th>\n",
       "      <th>0</th>\n",
       "      <th>1</th>\n",
       "    </tr>\n",
       "    <tr>\n",
       "      <th>type</th>\n",
       "      <th></th>\n",
       "      <th></th>\n",
       "    </tr>\n",
       "  </thead>\n",
       "  <tbody>\n",
       "    <tr>\n",
       "      <th>CASH_IN</th>\n",
       "      <td>1399284</td>\n",
       "      <td>0</td>\n",
       "    </tr>\n",
       "    <tr>\n",
       "      <th>CASH_OUT</th>\n",
       "      <td>2233384</td>\n",
       "      <td>4116</td>\n",
       "    </tr>\n",
       "    <tr>\n",
       "      <th>DEBIT</th>\n",
       "      <td>41432</td>\n",
       "      <td>0</td>\n",
       "    </tr>\n",
       "    <tr>\n",
       "      <th>PAYMENT</th>\n",
       "      <td>2151495</td>\n",
       "      <td>0</td>\n",
       "    </tr>\n",
       "    <tr>\n",
       "      <th>TRANSFER</th>\n",
       "      <td>528812</td>\n",
       "      <td>4097</td>\n",
       "    </tr>\n",
       "  </tbody>\n",
       "</table>\n",
       "</div>"
      ],
      "text/plain": [
       "isFraud         0     1\n",
       "type                   \n",
       "CASH_IN   1399284     0\n",
       "CASH_OUT  2233384  4116\n",
       "DEBIT       41432     0\n",
       "PAYMENT   2151495     0\n",
       "TRANSFER   528812  4097"
      ]
     },
     "execution_count": 5,
     "metadata": {},
     "output_type": "execute_result"
    }
   ],
   "source": [
    "#do bivariant analysis of type payment and fraud(catagory vs catagory)\n",
    "dataset['type'].value_counts()\n",
    "pd.crosstab(index=dataset[\"type\"],columns=dataset[\"isFraud\"])   # 2 way table "
   ]
  },
  {
   "cell_type": "code",
   "execution_count": 7,
   "metadata": {},
   "outputs": [
    {
     "name": "stdout",
     "output_type": "stream",
     "text": [
      "isFraud      0   1\n",
      "step              \n",
      "1         2692  16\n",
      "2         1006   8\n",
      "3          548   4\n",
      "4          555  10\n",
      "5          659   6\n",
      "6         1638  22\n",
      "7         6825  12\n",
      "8        21085  12\n",
      "9        37609  19\n",
      "10       35980  11\n"
     ]
    }
   ],
   "source": [
    "#all fraue are for type=CASH_OUT.TRANSFER\n",
    "a=pd.crosstab(index=dataset[\"step\"],columns=dataset[\"isFraud\"])   # 2 way table   \n",
    "print(a[0:10])\n",
    "#in some steps fraud is more"
   ]
  },
  {
   "cell_type": "code",
   "execution_count": null,
   "metadata": {},
   "outputs": [],
   "source": [
    "#boxplot 'newbalanceDest', 'isFraud'\n",
    "fig, ax = plt.subplots(figsize=(10,10))\n",
    "l=['amount']\n",
    "sns.boxplot(data=dataset,x='isFraud',y='amount')\n",
    "plt.show()"
   ]
  },
  {
   "cell_type": "code",
   "execution_count": 12,
   "metadata": {},
   "outputs": [
    {
     "name": "stdout",
     "output_type": "stream",
     "text": [
      "      isFraud     nameOrig  Count\n",
      "851         0   C100025963      2\n",
      "1412        0  C1000442951      2\n",
      "3141        0  C1000947901      2\n",
      "3510        0  C1001064466      2\n",
      "4839        0  C1001477354      2\n",
      "5183        0  C1001571964      2\n",
      "5828        0  C1001770944      2\n",
      "6221        0  C1001890218      2\n",
      "6635        0  C1002018924      2\n",
      "6662        0  C1002027777      2\n"
     ]
    }
   ],
   "source": [
    "#not much relation\n",
    "#relation 'nameOrig', 'isFraud'\n",
    "df2 = dataset.groupby([\"isFraud\", \"nameOrig\"]).size().reset_index(name='Count')\n",
    "df2=df2[df2['Count'] >1]\n",
    "print(df2.iloc[0:10,:])\n",
    "#mostly those are not having any pattern\n",
    "#relation 'nameDest', 'isFraud'\n",
    "\n"
   ]
  },
  {
   "cell_type": "code",
   "execution_count": 14,
   "metadata": {},
   "outputs": [
    {
     "name": "stdout",
     "output_type": "stream",
     "text": [
      "          nameDest  isFraud  Count\n",
      "4105   C1013700132        0     71\n",
      "7033   C1023714065        0     97\n",
      "20598  C1068824137        0     73\n",
      "25598  C1085479446        0     71\n",
      "29977    C11003494        0     80\n",
      "50058  C1167066016        0     79\n",
      "66028  C1220897602        0     74\n",
      "70086  C1234776885        0     90\n",
      "76141  C1255024717        0     84\n",
      "78481  C1262822392        0     85\n"
     ]
    }
   ],
   "source": [
    "df2 = dataset.groupby([\"nameDest\", \"isFraud\"]).size().reset_index(name='Count')\n",
    "df2=df2[df2['Count'] >70]\n",
    "print(df2.iloc[0:10,])\n",
    "#there are some repetative same value of nameDest. some nameDest has a lot of obs but no fraud\n"
   ]
  },
  {
   "cell_type": "code",
   "execution_count": null,
   "metadata": {},
   "outputs": [],
   "source": [
    "fig, ax = plt.subplots(figsize=(10,10))\n",
    "l=['amount']\n",
    "dataset.boxplot(l,'isFraud',ax)\n",
    "plt.show()"
   ]
  },
  {
   "cell_type": "code",
   "execution_count": 16,
   "metadata": {},
   "outputs": [
    {
     "data": {
      "image/png": "[encoded data removed]",
      "text/plain": [
       "<matplotlib.figure.Figure at 0x1dd20d604a8>"
      ]
     },
     "metadata": {},
     "output_type": "display_data"
    }
   ],
   "source": [
    "fig, ax = plt.subplots(figsize=(10,10))\n",
    "l=['oldbalanceOrg']\n",
    "dataset.boxplot(l,'isFraud',ax)\n",
    "plt.show()"
   ]
  },
  {
   "cell_type": "code",
   "execution_count": 17,
   "metadata": {},
   "outputs": [
    {
     "data": {
      "image/png": "[encoded data removed]",
      "text/plain": [
       "<matplotlib.figure.Figure at 0x1dd20b65390>"
      ]
     },
     "metadata": {},
     "output_type": "display_data"
    }
   ],
   "source": [
    "fig, ax = plt.subplots(figsize=(10,10))\n",
    "l=['newbalanceOrig']\n",
    "dataset.boxplot(l,'isFraud',ax)\n",
    "plt.show()"
   ]
  },
  {
   "cell_type": "code",
   "execution_count": 18,
   "metadata": {},
   "outputs": [
    {
     "data": {
      "image/png": "[encoded data removed]",
      "text/plain": [
       "<matplotlib.figure.Figure at 0x1dd20c24ac8>"
      ]
     },
     "metadata": {},
     "output_type": "display_data"
    }
   ],
   "source": [
    "fig, ax = plt.subplots(figsize=(10,10))\n",
    "l=['oldbalanceDest']\n",
    "dataset.boxplot(l,'isFraud',ax)\n",
    "plt.show()"
   ]
  },
  {
   "cell_type": "code",
   "execution_count": 19,
   "metadata": {},
   "outputs": [
    {
     "data": {
      "image/png": "[encoded data removed]",
      "text/plain": [
       "<matplotlib.figure.Figure at 0x1dd20da7470>"
      ]
     },
     "metadata": {},
     "output_type": "display_data"
    }
   ],
   "source": [
    "fig, ax = plt.subplots(figsize=(10,10))\n",
    "l=['newbalanceDest']\n",
    "dataset.boxplot(l,'isFraud',ax)\n",
    "plt.show()"
   ]
  },
  {
   "cell_type": "markdown",
   "metadata": {},
   "source": [
    "# data preprocessing"
   ]
  },
  {
   "cell_type": "code",
   "execution_count": 21,
   "metadata": {},
   "outputs": [
    {
     "data": {
      "text/plain": [
       "step              0\n",
       "type              0\n",
       "amount            0\n",
       "nameOrig          0\n",
       "oldbalanceOrg     0\n",
       "newbalanceOrig    0\n",
       "nameDest          0\n",
       "oldbalanceDest    0\n",
       "newbalanceDest    0\n",
       "isFraud           0\n",
       "dtype: int64"
      ]
     },
     "execution_count": 21,
     "metadata": {},
     "output_type": "execute_result"
    }
   ],
   "source": [
    "#check number of NaN value in each column\n",
    "missing_values_count = dataset.isnull().sum()\n",
    "missing_values_count[0:10]"
   ]
  },
  {
   "cell_type": "code",
   "execution_count": 22,
   "metadata": {},
   "outputs": [
    {
     "name": "stderr",
     "output_type": "stream",
     "text": [
      "C:\\Users\\suman\\Anaconda3\\lib\\site-packages\\ipykernel_launcher.py:2: DeprecationWarning: \n",
      ".ix is deprecated. Please use\n",
      ".loc for label based indexing or\n",
      ".iloc for positional indexing\n",
      "\n",
      "See the documentation here:\n",
      "http://pandas.pydata.org/pandas-docs/stable/indexing.html#ix-indexer-is-deprecated\n",
      "  \n"
     ]
    }
   ],
   "source": [
    "#there is no NaN value so just change one and then impute one\n",
    "dataset.ix[100,'isFlaggedFraud']=np.NaN\n",
    "#check which row has NaN\n",
    "dataset[dataset['isFlaggedFraud'].isnull()]\n",
    "#impute mean value in the nan place\n",
    "\n",
    "#take important columns split train test\n",
    "dataset_pred=dataset[['step', 'type', 'amount', 'oldbalanceOrg', 'newbalanceOrig','oldbalanceDest', 'newbalanceDest', 'isFraud','isFlaggedFraud']]\n",
    "X = dataset_pred.loc[:,dataset_pred.columns != 'isFraud'].values \n",
    "y = dataset_pred.iloc[:, 7].values \n",
    "\n",
    "#impute mean value \n",
    "imputer = Imputer(missing_values = 'NaN', strategy = 'most_frequent', axis = 0) \n",
    "imputer = imputer.fit(X[:,7:8]) \n",
    "X[:,7:8] = imputer.transform(X[:,7:8]) \n"
   ]
  },
  {
   "cell_type": "code",
   "execution_count": 23,
   "metadata": {
    "collapsed": true
   },
   "outputs": [],
   "source": [
    "#use encoder\n",
    "labelencoder_X_1 = LabelEncoder() \n",
    "X[:, 1] = labelencoder_X_1.fit_transform(X[:, 1]) \n",
    "#labelencoder_X_2 = LabelEncoder() \n",
    "#X[:, 2] = labelencoder_X_2.fit_transform(X[:, 2]) \n",
    "#create dummy variable for type 5 type as there are catagory not working\n",
    "onehotencoder = OneHotEncoder(categorical_features=[1]) #apply in column type as there are more than 2 catagory\n",
    "X = onehotencoder.fit_transform(X).toarray() \n"
   ]
  },
  {
   "cell_type": "markdown",
   "metadata": {},
   "source": [
    "# split data in train and test"
   ]
  },
  {
   "cell_type": "code",
   "execution_count": 24,
   "metadata": {},
   "outputs": [
    {
     "data": {
      "text/plain": [
       "5083524"
      ]
     },
     "execution_count": 24,
     "metadata": {},
     "output_type": "execute_result"
    }
   ],
   "source": [
    "# splitting train and test\n",
    "X_train, X_test, y_train, y_test = train_test_split(X, y, test_size = 0.2, random_state = 0) \n",
    "#check traing data spread fraud and nonfraud are equally sprea in train and test\n",
    "np.count_nonzero(y_test==1)\n",
    "np.count_nonzero(y_test==0)\n",
    "np.count_nonzero(y_train==1)\n",
    "np.count_nonzero(y_train==0)\n"
   ]
  },
  {
   "cell_type": "markdown",
   "metadata": {},
   "source": [
    "# Model building"
   ]
  },
  {
   "cell_type": "code",
   "execution_count": 25,
   "metadata": {},
   "outputs": [
    {
     "data": {
      "text/plain": [
       "LogisticRegression(C=1.0, class_weight={0: 0.1, 1: 0.9}, dual=False,\n",
       "          fit_intercept=True, intercept_scaling=1, max_iter=100,\n",
       "          multi_class='ovr', n_jobs=1, penalty='l2', random_state=0,\n",
       "          solver='liblinear', tol=0.0001, verbose=0, warm_start=False)"
      ]
     },
     "execution_count": 25,
     "metadata": {},
     "output_type": "execute_result"
    }
   ],
   "source": [
    "# build model Logistic regression\n",
    "classifier = LogisticRegression(class_weight={0:0.1,1:.9},random_state = 0) \n",
    "classifier.fit(X_train, y_train) \n",
    "\n",
    "\n",
    "\n",
    "#try grid search\n",
    "#grid = {\n",
    "#         'C': np.power(5.0, np.arange(-2, 2)),\n",
    "#          'penalty' : ['l2'] # no support of l1 penalty\n",
    "#         , 'solver': ['liblinear']#'newton-cg',\n",
    "#    }\n",
    "#classifier = LogisticRegression(class_weight={0:0.1,1:.9},random_state = 0)\n",
    "#gs = GridSearchCV(classifier, param_grid=grid, scoring='roc_auc', cv=5)\n",
    "#gs1=gs.fit(X_train, y_train)\n",
    "\n",
    "#print ('gs.best_score_:', gs1.best_score_)\n",
    "\n",
    "# build model Logistic regression using abobe C parameter\n",
    "#classifier = LogisticRegression(class_weight={0:0.1,1:.9},C=1, random_state = 0) \n",
    "#classifier.fit(X_train, y_train)"
   ]
  },
  {
   "cell_type": "markdown",
   "metadata": {},
   "source": [
    "# Accuracy check"
   ]
  },
  {
   "cell_type": "code",
   "execution_count": 26,
   "metadata": {},
   "outputs": [
    {
     "data": {
      "image/png": "[encoded data removed]",
      "text/plain": [
       "<matplotlib.figure.Figure at 0x1dd20ba54a8>"
      ]
     },
     "metadata": {},
     "output_type": "display_data"
    }
   ],
   "source": [
    "y_pred = classifier.predict(X_test) \n",
    "mat=pd.crosstab(y_test, y_pred, rownames=['True'], colnames=['Predicted'], margins=True)\n",
    "#positive is fraud, negative is not fraud\n",
    "tp=mat.iloc[1,1]\n",
    "tn=mat.iloc[0,0]\n",
    "fp=mat.iloc[0,1]\n",
    "fn=mat.iloc[1,0]\n",
    "precision=tp/(tp+fp)\n",
    "recall=tp/(tp+fn)\n",
    "fscore=2*precision*recall/(precision+recall)\n",
    "fpr, tpr, threshold = metrics.roc_curve(y_test, y_pred)\n",
    "plt.plot(fpr,tpr,label=\"data 1, auc=\"+str(auc))\n",
    "plt.legend(loc=4)\n",
    "plt.show() \n",
    "logloss=log_loss(y_test, y_pred)\n",
    "\n",
    "#area under curve = .78 for logistic regression class weight .1,.9, penalty L2\n",
    "#fscore=.21 best  1 and worst 0  for logistic regression class weight .1,.9, penalty L2\n",
    "#logloss .19\n",
    "\n",
    "#without upsampled\n",
    "#Predicted        0     1      \n",
    "#True                             \n",
    "#0          1269657(TN) 1226(FP)  \n",
    "#1              953(FN) 688(TP)  1270345/1272524 = 99% but FP FN are huge we have to reduce type2 error \n",
    "\n",
    "#after balancing of data \n",
    "#Predicted        0        1     \n",
    "#True                                \n",
    "#0          1155862   113783\n",
    "#1           128950  1143168  \n",
    "#with classweight {0:0.1,1:.9}\n",
    "#Predicted        0     1    \n",
    "#True                             \n",
    "#0          1264761  6122  \n",
    "#1              713   928\n",
    "#try grid search with different parameter\n",
    "\n",
    "\n"
   ]
  },
  {
   "cell_type": "markdown",
   "metadata": {},
   "source": [
    "# try SVM"
   ]
  },
  {
   "cell_type": "code",
   "execution_count": null,
   "metadata": {
    "collapsed": true
   },
   "outputs": [],
   "source": [
    "#try SVM but its very slow so left it without executing code\n",
    "\n",
    "classifier = SVC(kernel = 'linear', random_state = 0) \n",
    "classifier.fit(X_train, y_train) \n",
    "# Predicting the Test set results \n",
    "y_pred = classifier.predict(X_test) \n",
    "\n",
    "mat=pd.crosstab(y_test, y_pred, rownames=['True'], colnames=['Predicted'], margins=True)\n",
    "#positive is fraud, negative is not fraud\n",
    "tp=mat.iloc[1,1]\n",
    "tn=mat.iloc[0,0]\n",
    "fp=mat.iloc[0,1]\n",
    "fn=mat.iloc[1,0]\n",
    "precision=tp/(tp+fp)\n",
    "recall=tp/(tp+fn)\n",
    "fscore=2*precision*recall/(precision+recall)\n",
    "fpr, tpr, threshold = metrics.roc_curve(y_test, y_pred)\n",
    "plt.plot(fpr,tpr,label=\"data 1, auc=\"+str(auc))\n",
    "plt.legend(loc=4)\n",
    "plt.show() \n",
    "logloss=log_loss(y_test, y_pred)\n",
    "#area under curve = .78 for logistic regression class weight .1,.9, penalty L2\n",
    "#fscore=.21 best  1 and worst 0  for logistic regression class weight .1,.9, penalty L2\n",
    "#logloss .19\n",
    "\n",
    "#without upsampled\n",
    "#Predicted        0     1      \n",
    "#True                             \n",
    "#0          1269657(TN) 1226(FP)  \n",
    "#1              953(FN) 688(TP)  1270345/1272524 = 99% but FP FN are huge we have to reduce type2 "
   ]
  },
  {
   "cell_type": "markdown",
   "metadata": {},
   "source": [
    "# Try XGBoost"
   ]
  },
  {
   "cell_type": "code",
   "execution_count": null,
   "metadata": {
    "collapsed": true
   },
   "outputs": [],
   "source": [
    "#try XGBoost package is not installed connection error\n",
    "\n",
    "\n",
    "\n",
    " \n",
    "classifier = XGBClassifier() \n",
    "classifier.fit(X_train, y_train) \n",
    "\n",
    "# Predicting the Test set results \n",
    "y_pred = classifier.predict(X_test) \n",
    "\n",
    "mat=pd.crosstab(y_test, y_pred, rownames=['True'], colnames=['Predicted'], margins=True)\n",
    "#positive is fraud, negative is not fraud\n",
    "tp=mat.iloc[1,1]\n",
    "tn=mat.iloc[0,0]\n",
    "fp=mat.iloc[0,1]\n",
    "fn=mat.iloc[1,0]\n",
    "precision=tp/(tp+fp)\n",
    "recall=tp/(tp+fn)\n",
    "fscore=2*precision*recall/(precision+recall)\n",
    "fpr, tpr, threshold = metrics.roc_curve(y_test, y_pred)\n",
    "plt.plot(fpr,tpr,label=\"data 1, auc=\"+str(auc))\n",
    "plt.legend(loc=4)\n",
    "plt.show() \n",
    "logloss=log_loss(y_test, y_pred)\n",
    "#Predicted        0     1      All\n",
    "#True                             \n",
    "#0          1270872    11  1270883\n",
    "#1              496  1145     1641\n",
    "#All        1271368  1156  1272524\n",
    "\n",
    "#fscore .818\n",
    "\n",
    "\n",
    "#use adaboost\n",
    "dt = DecisionTreeClassifier() \n",
    "clf = AdaBoostClassifier(n_estimators=100, base_estimator=dt,learning_rate=1)\n",
    "#Above I have used decision tree as a base estimator, any ML learner as base estimator  \n",
    "#100 decision tree are used as week learner\n",
    "clf.fit(X_train,y_train)\n",
    "\n",
    "#remove unwanted variables\n",
    "del X,dataset,dataset_pred\n",
    "\n",
    "# Predicting the Test set results \n",
    "y_pred = clf.predict(X_test) \n",
    "\n",
    "mat=pd.crosstab(y_test, y_pred, rownames=['True'], colnames=['Predicted'], margins=True)\n",
    "#positive is fraud, negative is not fraud\n",
    "tp=mat.iloc[1,1]\n",
    "tn=mat.iloc[0,0]\n",
    "fp=mat.iloc[0,1]\n",
    "fn=mat.iloc[1,0]\n",
    "precision=tp/(tp+fp)\n",
    "recall=tp/(tp+fn)\n",
    "fscore=2*precision*recall/(precision+recall)\n",
    "fpr, tpr, threshold = metrics.roc_curve(y_test, y_pred)\n",
    "plt.plot(fpr,tpr,label=\"data 1, auc=\"+str(auc))\n",
    "plt.legend(loc=4)\n",
    "plt.show() \n",
    "logloss=log_loss(y_test, y_pred)\n",
    "#Predicted        0     1      All\n",
    "#True                             \n",
    "#0          1270714   169  1270883\n",
    "#1              197  1444     1641\n",
    "#All        1270911  1613  1272524\n",
    "\n",
    "#fscore .88\n",
    "\n",
    "#so this is performing well\n",
    "\n",
    "\n"
   ]
  }
 ],
 "metadata": {
  "kernelspec": {
   "display_name": "Python 3",
   "language": "python",
   "name": "python3"
  },
  "language_info": {
   "codemirror_mode": {
    "name": "ipython",
    "version": 3
   },
   "file_extension": ".py",
   "mimetype": "text/x-python",
   "name": "python",
   "nbconvert_exporter": "python",
   "pygments_lexer": "ipython3",
   "version": "3.6.1"
  }
 },
 "nbformat": 4,
 "nbformat_minor": 2
}
