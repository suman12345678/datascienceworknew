{
 "cells": [
  {
   "cell_type": "markdown",
   "metadata": {},
   "source": [
    "# Contractor analysis\n",
    "#### Segmentation of contractor using different clustering technique "
   ]
  },
  {
   "cell_type": "markdown",
   "metadata": {},
   "source": [
    "## Import required python libraries"
   ]
  },
  {
   "cell_type": "code",
   "execution_count": 356,
   "metadata": {},
   "outputs": [],
   "source": [
    "import tables\n",
    "from sklearn.preprocessing import normalize\n",
    "from sklearn.cluster import KMeans\n",
    "from sklearn.manifold import TSNE\n",
    "import heapq\n",
    "from sklearn.metrics import silhouette_score\n",
    "from statsmodels.stats.outliers_influence import variance_inflation_factor as vif\n",
    "from statsmodels.tools.tools import add_constant\n",
    "from sklearn.preprocessing import MinMaxScaler\n",
    "from google.cloud import bigquery\n",
    "from datetime import datetime, timedelta\n",
    "import time\n",
    "import json\n",
    "import pandas as pd\n",
    "import csv\n",
    "import string\n",
    "pd.options.display.max_colwidth = 500\n",
    "pd.set_option('display.max_columns', None)\n",
    "import matplotlib.pyplot as plt\n",
    "import numpy as np\n",
    "from sklearn.preprocessing import StandardScaler\n",
    "from sklearn.decomposition import TruncatedSVD\n",
    "from sklearn.decomposition import PCA\n"
   ]
  },
  {
   "cell_type": "markdown",
   "metadata": {},
   "source": []
  },
  {
   "cell_type": "markdown",
   "metadata": {},
   "source": [
    "## Read from bigquery"
   ]
  },
  {
   "cell_type": "code",
   "execution_count": 357,
   "metadata": {},
   "outputs": [
    {
     "name": "stdout",
     "output_type": "stream",
     "text": [
      "Client creating using default project: gaf-np-ds\n"
     ]
    },
    {
     "name": "stderr",
     "output_type": "stream",
     "text": [
      "Downloading: 100%|██████████| 12816/12816 [00:02<00:00, 4677.80rows/s]\n",
      "Downloading: 100%|██████████| 75246/75246 [00:10<00:00, 7198.29rows/s]\n",
      "Downloading: 100%|██████████| 51/51 [00:00<00:00, 305.22rows/s]\n"
     ]
    },
    {
     "data": {
      "text/plain": [
       "(12816, 26)"
      ]
     },
     "execution_count": 357,
     "metadata": {},
     "output_type": "execute_result"
    }
   ],
   "source": [
    "client = bigquery.Client(location=\"US\")\n",
    "print(\"Client creating using default project: {}\".format(client.project))\n",
    "# read data main table for model\n",
    "query = \"\"\"\n",
    "    select * FROM `gaf-np-ds.Contractor_Cluster.Cluster_Data_Updated` \n",
    "\"\"\"\n",
    "raw_data = pd.read_gbq(query, dialect='standard')\n",
    "\n",
    "# read oroginal data \n",
    "query = \"\"\"\n",
    "SELECT * FROM `gaf-np-ds.Contractor_Cluster.Contractor_Original_Data_Cluster`\n",
    "\"\"\"\n",
    "base_data = pd.read_gbq(query, dialect='standard')\n",
    "\n",
    "query = \"\"\"\n",
    "    select * FROM `gaf-np-ds.Contractor_Cluster.sales_cluster_contractors` \n",
    "\"\"\"\n",
    "cluster_data = pd.read_gbq(query, dialect='standard')\n",
    "\n",
    "\n",
    "raw_data.shape"
   ]
  },
  {
   "cell_type": "code",
   "execution_count": 358,
   "metadata": {},
   "outputs": [
    {
     "name": "stdout",
     "output_type": "stream",
     "text": [
      "(12816, 26)\n"
     ]
    }
   ],
   "source": [
    "print(raw_data.shape)\n",
    "#print(cluster_data.shape)\n",
    "#print(cluster_data.head(2))\n",
    "#print(raw_data.head(1))\n",
    "#print(final.shape)\n"
   ]
  },
  {
   "cell_type": "code",
   "execution_count": 359,
   "metadata": {},
   "outputs": [],
   "source": [
    "#base_data['certification_status'].value_counts()"
   ]
  },
  {
   "cell_type": "code",
   "execution_count": 360,
   "metadata": {},
   "outputs": [],
   "source": [
    "#base_data.describe(include='all')"
   ]
  },
  {
   "cell_type": "code",
   "execution_count": 361,
   "metadata": {},
   "outputs": [
    {
     "name": "stdout",
     "output_type": "stream",
     "text": [
      "AxesSubplot(0.125,0.125;0.775x0.755)\n",
      "Steep Slope - Residential    56065\n",
      "Low Slope - Commercial       19181\n",
      "Name: business_area, dtype: int64\n",
      "4. Non-Certified     44464\n",
      "2. Master            18415\n",
      "1. Master Select      8457\n",
      "3.Authorized (LS)     3910\n",
      "Name: CommercialCertification, dtype: int64\n",
      "1. Master Elite     29326\n",
      "2. Certified        23957\n",
      "3. Non-Certified    21963\n",
      "Name: ResidentialCertification, dtype: int64\n",
      "USA    73029\n",
      "CAN     2191\n",
      "MEX       26\n",
      "Name: country, dtype: int64\n"
     ]
    },
    {
     "data": {
      "image/png": "[encoded data removed]",
      "text/plain": [
       "<Figure size 432x288 with 1 Axes>"
      ]
     },
     "metadata": {
      "needs_background": "light"
     },
     "output_type": "display_data"
    }
   ],
   "source": [
    "#plt.figure(figsize=(3,3))\n",
    "print(base_data['certification_status'].value_counts().plot(kind='bar'))\n",
    "print(base_data['business_area'].value_counts())\n",
    "print(base_data['CommercialCertification'].value_counts())\n",
    "print(base_data['ResidentialCertification'].value_counts())\n",
    "print(base_data['country'].value_counts())\n"
   ]
  },
  {
   "cell_type": "markdown",
   "metadata": {},
   "source": [
    "## Clean data"
   ]
  },
  {
   "cell_type": "code",
   "execution_count": 362,
   "metadata": {},
   "outputs": [
    {
     "name": "stdout",
     "output_type": "stream",
     "text": [
      "7\n",
      "(12816, 23)\n"
     ]
    }
   ],
   "source": [
    "clean_data=raw_data.copy()\n",
    "c=0\n",
    "for i in raw_data.columns:\n",
    "    if 'CERTIFICATION' in i:\n",
    "        c=c+1\n",
    "print(c)    \n",
    "        \n",
    "# remove columns starts with  'CERTIFICATION' will consider only count_CERTIFICATION..  \n",
    "#filter_col = [col for col in raw_data if col.startswith('CERTIFICATION')]\n",
    "#clean_data=raw_data.drop(filter_col, axis=1)\n",
    "\n",
    "#removed nonrequired columns\n",
    "clean_data=clean_data.drop(['state','cust_id','company_name'],axis=1)\n",
    "                           \n",
    "#'count_CERTIFICATION_LEVEL_MASTER_APPLICATOR','count_CERTIFICATION_LEVEL_AUTHORIZD_APPLICATOR']\n",
    "\n",
    "#remove total_sales\tmax_sales\tmin_sales\tcount_sales\tavg_sales as we will use onehotcode\n",
    "#clean_data=clean_data.drop(['total','total_sales','max_sales','min_sales','count_sales','avg_sales'],axis=1)\n",
    "\n",
    "#calculate total certifications we are not considering as as we deal with 0/1 data only\n",
    "\n",
    "print(clean_data.shape)"
   ]
  },
  {
   "cell_type": "code",
   "execution_count": 364,
   "metadata": {},
   "outputs": [],
   "source": [
    "#raw_data.head(2)"
   ]
  },
  {
   "cell_type": "code",
   "execution_count": 365,
   "metadata": {},
   "outputs": [],
   "source": [
    "# convert spend to numeric 1,2,3 corresponding to low,medium,high\n",
    "#fill na with 0\n",
    "#clean_data['min_sales_low']=clean_data['min_sales_low'].fillna(0)\n",
    "#clean_data['min_sales_medium']=clean_data['min_sales_medium'].fillna(0)\n",
    "#clean_data['min_sales_high']=clean_data['min_sales_high'].fillna(0)\n",
    "#clean_data['max_sales_low']=clean_data['max_sales_low'].fillna(0)\n",
    "#clean_data['max_sales_medium']=clean_data['max_sales_medium'].fillna(0)\n",
    "#clean_data['max_sales_high']=clean_data['max_sales_high'].fillna(0)\n",
    "#clean_data['avg_sales_low']=clean_data['avg_sales_low'].fillna(0)\n",
    "#clean_data['avg_sales_medium']=clean_data['avg_sales_medium'].fillna(0)\n",
    "#clean_data['avg_sales_high']=clean_data['avg_sales_high'].fillna(0)\n",
    "#clean_data['total_sales_low']=clean_data['total_sales_low'].fillna(0)\n",
    "#clean_data['total_sales_medium']=clean_data['total_sales_medium'].fillna(0)\n",
    "#clean_data['total_sales_high']=clean_data['total_sales_high'].fillna(0)\n",
    "\n",
    "#print('NA value count in total after replacing NA with 0',clean_data[clean_data['total_sales_high'].isna()].shape)\n",
    "\n",
    "#clean_data=clean_data.drop(['spend'],axis=1)\n",
    "\n",
    "clean_data['total_certifications']=clean_data['count_CERTIFICATION_LEVEL_AUTHORIZED_LS']+clean_data['count_CERTIFICATION_LEVEL_MASTER_SELECT']+ \\\n",
    "                                   clean_data['count_master']+clean_data['count_certified']+clean_data['count_master_elite']\n",
    "\n"
   ]
  },
  {
   "cell_type": "code",
   "execution_count": null,
   "metadata": {},
   "outputs": [],
   "source": []
  },
  {
   "cell_type": "code",
   "execution_count": null,
   "metadata": {},
   "outputs": [],
   "source": []
  },
  {
   "cell_type": "code",
   "execution_count": 366,
   "metadata": {},
   "outputs": [
    {
     "name": "stdout",
     "output_type": "stream",
     "text": [
      "std of  ResidentialCertification_Non_Certified 0.0 removing\n"
     ]
    }
   ],
   "source": [
    "# get std of columns where close < .0001\n",
    "low_std_col=[]\n",
    "for i in clean_data.columns:\n",
    "    std=clean_data[i].std()\n",
    "    if std < .0001:\n",
    "        #print(i)\n",
    "        low_std_col.append(i)\n",
    "        print('std of ',i,std,'removing')\n",
    "clean_data=clean_data.drop(low_std_col,axis=1)        \n",
    "        "
   ]
  },
  {
   "cell_type": "code",
   "execution_count": 367,
   "metadata": {},
   "outputs": [
    {
     "name": "stdout",
     "output_type": "stream",
     "text": [
      "clean_data shape before column deletion for corr (12816, 23)\n",
      "clean_data shape after column deletion for corr (12816, 23)\n",
      "vif table top 5\n",
      "before column deletion for vif (12816, 23)\n",
      "after column deletion for vif (12816, 23)\n"
     ]
    }
   ],
   "source": [
    "def correlation(dataset, threshold):\n",
    "    col_corr = set() # Set of all the names of deleted columns\n",
    "    corr_matrix = dataset.corr()\n",
    "    for i in range(len(corr_matrix.columns)):\n",
    "        for j in range(i):\n",
    "            if (corr_matrix.iloc[i, j] >= threshold) and (corr_matrix.columns[j] not in col_corr):\n",
    "                colname = corr_matrix.columns[i] # getting the name of column\n",
    "                col_corr.add(colname)\n",
    "                if colname in dataset.columns:\n",
    "                    del dataset[colname] # deleting the column from the dataset\n",
    "                    print('corr of columns ',corr_matrix.columns[i],corr_matrix.columns[j],corr_matrix.iloc[i, j])\n",
    "\n",
    "    \n",
    "    #print(corr_matrix)\n",
    "    return dataset, col_corr\n",
    "\n",
    "# remove corelated columns; we are ignoring it as pca/svd we are doing\n",
    "print('clean_data shape before column deletion for corr',clean_data.shape)    \n",
    "#clean_data, cor_corr = correlation(clean_data,.4)    \n",
    "print('clean_data shape after column deletion for corr',clean_data.shape)\n",
    "\n",
    "#print('columns corelated are',cor_corr)    \n",
    "\n",
    "# check VIF and remove column with vif>5; we are ignoring as pca is done\n",
    "clean_data_x=add_constant(clean_data)\n",
    "print('vif table top 5')\n",
    "#print(pd.Series([vif(clean_data_x.values,i) for i in range(clean_data_x.shape[1])],index=clean_data_x.columns).sort_values(ascending=False)[:5])\n",
    "#viftable=pd.Series([vif(clean_data_x.values,i) for i in range(clean_data_x.shape[1])],index=clean_data_x.columns)\n",
    "print('before column deletion for vif',clean_data.shape)\n",
    "#clean_data=clean_data.drop(list(viftable[viftable>5].index)[1:],axis=1)   # first item is const\n",
    "print('after column deletion for vif',clean_data.shape)\n"
   ]
  },
  {
   "cell_type": "code",
   "execution_count": 368,
   "metadata": {},
   "outputs": [],
   "source": [
    "# fill na\n",
    "for c in clean_data.columns:\n",
    "    clean_data[c]=clean_data[c].fillna(0)\n"
   ]
  },
  {
   "cell_type": "code",
   "execution_count": 370,
   "metadata": {},
   "outputs": [
    {
     "data": {
      "text/html": [
       "<div>\n",
       "<style scoped>\n",
       "    .dataframe tbody tr th:only-of-type {\n",
       "        vertical-align: middle;\n",
       "    }\n",
       "\n",
       "    .dataframe tbody tr th {\n",
       "        vertical-align: top;\n",
       "    }\n",
       "\n",
       "    .dataframe thead th {\n",
       "        text-align: right;\n",
       "    }\n",
       "</style>\n",
       "<table border=\"1\" class=\"dataframe\">\n",
       "  <thead>\n",
       "    <tr style=\"text-align: right;\">\n",
       "      <th></th>\n",
       "      <th>CERTIFICATION_LEVEL_MASTER</th>\n",
       "      <th>CERTIFICATION_LEVEL_CERTIFIED</th>\n",
       "      <th>CERTIFICATION_LEVEL_MASTER_ELITE</th>\n",
       "      <th>CERTIFICATION_LEVEL_AUTHORIZED_LS</th>\n",
       "      <th>CERTIFICATION_LEVEL_MASTER_SELECT</th>\n",
       "      <th>count_master</th>\n",
       "      <th>count_certified</th>\n",
       "      <th>count_master_elite</th>\n",
       "      <th>count_CERTIFICATION_LEVEL_AUTHORIZED_LS</th>\n",
       "      <th>count_CERTIFICATION_LEVEL_MASTER_SELECT</th>\n",
       "      <th>Steep_Slope_Residential</th>\n",
       "      <th>Low_Slope_Commercial</th>\n",
       "      <th>CommercialCertification_Master_Select</th>\n",
       "      <th>CommercialCertification_Master</th>\n",
       "      <th>CommercialCertification_Authorized_LS</th>\n",
       "      <th>CommercialCertification_Non_Certified</th>\n",
       "      <th>ResidentialCertification_Master_Elite</th>\n",
       "      <th>ResidentialCertification_Certified</th>\n",
       "      <th>_2019_Low_Slope__Commercial</th>\n",
       "      <th>_2019_Steep_Slope_Residential</th>\n",
       "      <th>_2020_Low_Slope_Commercial</th>\n",
       "      <th>_2020_Steep_Slope_Residential</th>\n",
       "      <th>total_certifications</th>\n",
       "    </tr>\n",
       "  </thead>\n",
       "  <tbody>\n",
       "    <tr>\n",
       "      <th>0</th>\n",
       "      <td>1</td>\n",
       "      <td>1</td>\n",
       "      <td>0</td>\n",
       "      <td>0</td>\n",
       "      <td>0</td>\n",
       "      <td>1</td>\n",
       "      <td>3</td>\n",
       "      <td>0</td>\n",
       "      <td>0</td>\n",
       "      <td>0</td>\n",
       "      <td>1</td>\n",
       "      <td>1</td>\n",
       "      <td>0</td>\n",
       "      <td>1</td>\n",
       "      <td>0</td>\n",
       "      <td>0</td>\n",
       "      <td>0</td>\n",
       "      <td>1</td>\n",
       "      <td>1.0</td>\n",
       "      <td>1.0</td>\n",
       "      <td>1.0</td>\n",
       "      <td>1.0</td>\n",
       "      <td>4</td>\n",
       "    </tr>\n",
       "    <tr>\n",
       "      <th>1</th>\n",
       "      <td>0</td>\n",
       "      <td>0</td>\n",
       "      <td>0</td>\n",
       "      <td>1</td>\n",
       "      <td>0</td>\n",
       "      <td>0</td>\n",
       "      <td>0</td>\n",
       "      <td>0</td>\n",
       "      <td>1</td>\n",
       "      <td>0</td>\n",
       "      <td>0</td>\n",
       "      <td>1</td>\n",
       "      <td>0</td>\n",
       "      <td>0</td>\n",
       "      <td>1</td>\n",
       "      <td>0</td>\n",
       "      <td>0</td>\n",
       "      <td>0</td>\n",
       "      <td>1.0</td>\n",
       "      <td>1.0</td>\n",
       "      <td>1.0</td>\n",
       "      <td>1.0</td>\n",
       "      <td>1</td>\n",
       "    </tr>\n",
       "  </tbody>\n",
       "</table>\n",
       "</div>"
      ],
      "text/plain": [
       "   CERTIFICATION_LEVEL_MASTER  CERTIFICATION_LEVEL_CERTIFIED  \\\n",
       "0                           1                              1   \n",
       "1                           0                              0   \n",
       "\n",
       "   CERTIFICATION_LEVEL_MASTER_ELITE  CERTIFICATION_LEVEL_AUTHORIZED_LS  \\\n",
       "0                                 0                                  0   \n",
       "1                                 0                                  1   \n",
       "\n",
       "   CERTIFICATION_LEVEL_MASTER_SELECT  count_master  count_certified  \\\n",
       "0                                  0             1                3   \n",
       "1                                  0             0                0   \n",
       "\n",
       "   count_master_elite  count_CERTIFICATION_LEVEL_AUTHORIZED_LS  \\\n",
       "0                   0                                        0   \n",
       "1                   0                                        1   \n",
       "\n",
       "   count_CERTIFICATION_LEVEL_MASTER_SELECT  Steep_Slope_Residential  \\\n",
       "0                                        0                        1   \n",
       "1                                        0                        0   \n",
       "\n",
       "   Low_Slope_Commercial  CommercialCertification_Master_Select  \\\n",
       "0                     1                                      0   \n",
       "1                     1                                      0   \n",
       "\n",
       "   CommercialCertification_Master  CommercialCertification_Authorized_LS  \\\n",
       "0                               1                                      0   \n",
       "1                               0                                      1   \n",
       "\n",
       "   CommercialCertification_Non_Certified  \\\n",
       "0                                      0   \n",
       "1                                      0   \n",
       "\n",
       "   ResidentialCertification_Master_Elite  ResidentialCertification_Certified  \\\n",
       "0                                      0                                   1   \n",
       "1                                      0                                   0   \n",
       "\n",
       "   _2019_Low_Slope__Commercial  _2019_Steep_Slope_Residential  \\\n",
       "0                          1.0                            1.0   \n",
       "1                          1.0                            1.0   \n",
       "\n",
       "   _2020_Low_Slope_Commercial  _2020_Steep_Slope_Residential  \\\n",
       "0                         1.0                            1.0   \n",
       "1                         1.0                            1.0   \n",
       "\n",
       "   total_certifications  \n",
       "0                     4  \n",
       "1                     1  "
      ]
     },
     "execution_count": 370,
     "metadata": {},
     "output_type": "execute_result"
    }
   ],
   "source": [
    "clean_data.head(2)"
   ]
  },
  {
   "cell_type": "markdown",
   "metadata": {},
   "source": [
    "## Transform data"
   ]
  },
  {
   "cell_type": "code",
   "execution_count": 371,
   "metadata": {},
   "outputs": [
    {
     "name": "stdout",
     "output_type": "stream",
     "text": [
      "Before SVD x (12816, 23)\n",
      "SVD explained variance 0.957647768064116\n",
      "svd singular values [711.2665721  358.22590379 278.32075932 232.76782709 169.61196664]\n",
      "transformed x using SVD (12816, 5)\n",
      "Before PCA x (12816, 23)\n",
      "PCA explained variance 0.9158487835609381\n",
      "pca singular values [262.94489254 213.27712454 204.51015007 198.49134686 194.55055258\n",
      " 171.9988849   81.72524511]\n",
      "transformed x using PCA (12816, 7)\n"
     ]
    }
   ],
   "source": [
    "# normalize x with 0 and 1 mean and std\n",
    "scaler = MinMaxScaler()\n",
    "scaler = StandardScaler()  #for using pca\n",
    "scaled = scaler.fit_transform(clean_data)\n",
    "#print('before transformation',clean_data.values[0:2])\n",
    "x_orig=clean_data.values\n",
    "x_std=scaled\n",
    "unscaled = scaler.inverse_transform(scaled)\n",
    "#print('aftre denormalizing',unscaled[0:2])\n",
    "\n",
    "# check how many components required to get 90% variance. for SVD use x_orig no need standarizing\n",
    "for comp in range(len(x_orig[0])):\n",
    "    svd = TruncatedSVD(n_components=comp, n_iter=7, random_state=42)\n",
    "    svd.fit(x_orig)\n",
    "    v=sum(svd.explained_variance_ratio_)\n",
    "    if v > .9:\n",
    "        break\n",
    "    #print('SVD explained variance with component',comp,' is ',v)   #,svd.explained_variance_ratio_)\n",
    "\n",
    "\n",
    "# dimension reduction by SVD\n",
    "print('Before SVD x',x_orig.shape)\n",
    "svd = TruncatedSVD(n_components=comp, n_iter=7, random_state=42)\n",
    "svd.fit(x_orig)\n",
    "print('SVD explained variance',sum(svd.explained_variance_ratio_))   #,svd.explained_variance_ratio_)\n",
    "x_orig=svd.fit_transform(x_orig)\n",
    "print('svd singular values',svd.singular_values_)\n",
    "\n",
    "print('transformed x using SVD',x_orig.shape)\n",
    "\n",
    "for comp in range(len(x_std[0])):\n",
    "    svd = TruncatedSVD(n_components=comp, n_iter=7, random_state=42)\n",
    "    svd.fit(x_std)\n",
    "    v=sum(svd.explained_variance_ratio_)\n",
    "    if v > .9:\n",
    "        break\n",
    "    #print('PCA explained variance with component',comp,' is ',v)   #,svd.explained_variance_ratio_)\n",
    "print('Before PCA x',x_std.shape)\n",
    "pca = PCA(n_components=comp)\n",
    "pca.fit(x_std)\n",
    "print('PCA explained variance',sum(pca.explained_variance_ratio_))  #,pca.explained_variance_ratio_)\n",
    "print('pca singular values',pca.singular_values_)\n",
    "x_std=svd.fit_transform(x_std)\n",
    "print('transformed x using PCA',x_std.shape)\n",
    "\n",
    "# We have x_std: pca comp of standarize data, x_orig: SVD of original data, \n",
    "# because of standarization matrix become dense so pca components are more \n",
    "# to explain 90% variance whereas svd components are less to explain 90% of variance as SVD can be used in original data"
   ]
  },
  {
   "cell_type": "code",
   "execution_count": 372,
   "metadata": {},
   "outputs": [
    {
     "name": "stdout",
     "output_type": "stream",
     "text": [
      "(12816, 23) (7,) (5,)\n"
     ]
    }
   ],
   "source": [
    "print(clean_data.shape,x_std[0].shape,x_orig[1].shape)"
   ]
  },
  {
   "cell_type": "code",
   "execution_count": 373,
   "metadata": {},
   "outputs": [
    {
     "data": {
      "text/html": [
       "<div>\n",
       "<style scoped>\n",
       "    .dataframe tbody tr th:only-of-type {\n",
       "        vertical-align: middle;\n",
       "    }\n",
       "\n",
       "    .dataframe tbody tr th {\n",
       "        vertical-align: top;\n",
       "    }\n",
       "\n",
       "    .dataframe thead th {\n",
       "        text-align: right;\n",
       "    }\n",
       "</style>\n",
       "<table border=\"1\" class=\"dataframe\">\n",
       "  <thead>\n",
       "    <tr style=\"text-align: right;\">\n",
       "      <th></th>\n",
       "      <th>kmeans_9_cluster</th>\n",
       "      <th>gmm_4_cluster</th>\n",
       "      <th>dbscan_8_cluster</th>\n",
       "    </tr>\n",
       "  </thead>\n",
       "  <tbody>\n",
       "    <tr>\n",
       "      <th>count</th>\n",
       "      <td>75246.000000</td>\n",
       "      <td>75246.000000</td>\n",
       "      <td>75246.000000</td>\n",
       "    </tr>\n",
       "    <tr>\n",
       "      <th>mean</th>\n",
       "      <td>2.989036</td>\n",
       "      <td>1.566130</td>\n",
       "      <td>-0.614411</td>\n",
       "    </tr>\n",
       "    <tr>\n",
       "      <th>std</th>\n",
       "      <td>2.958350</td>\n",
       "      <td>1.286044</td>\n",
       "      <td>1.336129</td>\n",
       "    </tr>\n",
       "    <tr>\n",
       "      <th>min</th>\n",
       "      <td>0.000000</td>\n",
       "      <td>0.000000</td>\n",
       "      <td>-1.000000</td>\n",
       "    </tr>\n",
       "    <tr>\n",
       "      <th>25%</th>\n",
       "      <td>0.000000</td>\n",
       "      <td>0.000000</td>\n",
       "      <td>-1.000000</td>\n",
       "    </tr>\n",
       "    <tr>\n",
       "      <th>50%</th>\n",
       "      <td>2.000000</td>\n",
       "      <td>1.000000</td>\n",
       "      <td>-1.000000</td>\n",
       "    </tr>\n",
       "    <tr>\n",
       "      <th>75%</th>\n",
       "      <td>6.000000</td>\n",
       "      <td>3.000000</td>\n",
       "      <td>-1.000000</td>\n",
       "    </tr>\n",
       "    <tr>\n",
       "      <th>max</th>\n",
       "      <td>8.000000</td>\n",
       "      <td>3.000000</td>\n",
       "      <td>6.000000</td>\n",
       "    </tr>\n",
       "  </tbody>\n",
       "</table>\n",
       "</div>"
      ],
      "text/plain": [
       "       kmeans_9_cluster  gmm_4_cluster  dbscan_8_cluster\n",
       "count      75246.000000   75246.000000      75246.000000\n",
       "mean           2.989036       1.566130         -0.614411\n",
       "std            2.958350       1.286044          1.336129\n",
       "min            0.000000       0.000000         -1.000000\n",
       "25%            0.000000       0.000000         -1.000000\n",
       "50%            2.000000       1.000000         -1.000000\n",
       "75%            6.000000       3.000000         -1.000000\n",
       "max            8.000000       3.000000          6.000000"
      ]
     },
     "execution_count": 373,
     "metadata": {},
     "output_type": "execute_result"
    }
   ],
   "source": [
    "base_data.describe()"
   ]
  },
  {
   "cell_type": "markdown",
   "metadata": {},
   "source": []
  },
  {
   "cell_type": "markdown",
   "metadata": {},
   "source": [
    "## Kmeans"
   ]
  },
  {
   "cell_type": "code",
   "execution_count": 374,
   "metadata": {},
   "outputs": [
    {
     "data": {
      "image/png": "[encoded data removed]",
      "text/plain": [
       "<Figure size 432x288 with 1 Axes>"
      ]
     },
     "metadata": {
      "needs_background": "light"
     },
     "output_type": "display_data"
    },
    {
     "data": {
      "image/png": "[encoded data removed]",
      "text/plain": [
       "<Figure size 432x288 with 1 Axes>"
      ]
     },
     "metadata": {
      "needs_background": "light"
     },
     "output_type": "display_data"
    }
   ],
   "source": [
    "# Elbow method\n",
    "x=x_std\n",
    "sse = {}\n",
    "for k in range(2, 10):\n",
    "    kmeans = KMeans(init='k-means++',n_clusters=k, max_iter=1000).fit(x)\n",
    "    sse[k] = kmeans.inertia_ # Inertia: Sum of distances of samples to their closest cluster center\n",
    "plt.figure()\n",
    "plt.plot(list(sse.keys()), list(sse.values()))\n",
    "plt.title(\"Plot of loss against k value for elbow method\")\n",
    "plt.xlabel(\"Number of cluster\")\n",
    "plt.ylabel(\"SSE\")\n",
    "plt.show()\n",
    "\n",
    "#The Silhouette Method\n",
    "sil = []\n",
    "kmax = 10\n",
    "\n",
    "# dissimilarity would not be defined for a single cluster, thus, minimum number of clusters should be 2\n",
    "for k in range(2, kmax+1):\n",
    "  kmeans = KMeans(n_clusters = k).fit(x)\n",
    "  labels = kmeans.labels_\n",
    "  sil.append(silhouette_score(x, labels, metric = 'euclidean'))\n",
    "\n",
    "plt.figure()\n",
    "sil1=[(i+2,item) for i,item in enumerate(sil)]\n",
    "\n",
    "x_val = [i[0] for i in sil1]\n",
    "y_val = [i[1] for i in sil1]\n",
    "\n",
    "plt.plot(x_val,y_val)\n",
    "\n",
    "\n",
    "plt.title(\"Plot of loss against Silhouette value \")\n",
    "plt.xlabel(\"Number of cluster starts from 2\")\n",
    "plt.ylabel(\"Silhouette\")\n",
    "plt.grid()\n",
    "plt.show()"
   ]
  },
  {
   "cell_type": "code",
   "execution_count": 235,
   "metadata": {},
   "outputs": [],
   "source": [
    "# Use k=2 and build cluster\n",
    "#kmeans = KMeans(init='k-means++',n_clusters=5, max_iter=100).fit(x)\n",
    "#print(kmeans.labels_)    \n",
    "#a=np.where(kmeans.labels_ == 0)[0]\n",
    "#b=np.where(kmeans.labels_ == 1)[0]\n",
    "#c=np.where(kmeans.labels_ == 2)[0]\n",
    "#d=np.where(kmeans.labels_ == 3)[0]\n",
    "#e=np.where(kmeans.labels_ == 4)[0]\n",
    "#check 5 text for cluster 1\n",
    "#print(clean_data.iloc[a.tolist()][:2])\n",
    "#check 5 text for cluster 1\n",
    "#print(clean_data.iloc[b.tolist()][:2])\n",
    "#print(clean_data.iloc[c.tolist()][:2])\n",
    "#print(clean_data.iloc[d.tolist()][:2])\n",
    "#print(clean_data.iloc[e.tolist()][:2])\n"
   ]
  },
  {
   "cell_type": "code",
   "execution_count": 236,
   "metadata": {},
   "outputs": [
    {
     "data": {
      "text/plain": [
       "(12816, 25)"
      ]
     },
     "execution_count": 236,
     "metadata": {},
     "output_type": "execute_result"
    }
   ],
   "source": [
    "clean_data.shape"
   ]
  },
  {
   "cell_type": "code",
   "execution_count": 237,
   "metadata": {},
   "outputs": [
    {
     "data": {
      "text/plain": [
       "array([[ 1.32413731,  2.30685598, -2.70650228, ..., -0.5222999 ,\n",
       "         1.82871828, -1.63000926],\n",
       "       [ 2.62909412,  1.10611212, -2.3509388 , ...,  5.78590276,\n",
       "        -0.53498604,  0.36493364],\n",
       "       [ 3.59421347,  2.71593225, -2.17758755, ..., -0.1537701 ,\n",
       "        -0.89813265,  0.0657472 ],\n",
       "       ...,\n",
       "       [-2.30228628,  1.83464305, -1.22822554, ...,  0.19273636,\n",
       "         0.2898758 , -0.7685767 ],\n",
       "       [-1.30212971,  2.1182048 , -0.21334824, ...,  0.56506799,\n",
       "        -1.75026647,  0.37599817],\n",
       "       [-2.30228628,  1.83464305, -1.22822554, ...,  0.19273636,\n",
       "         0.2898758 , -0.7685767 ]])"
      ]
     },
     "execution_count": 237,
     "metadata": {},
     "output_type": "execute_result"
    }
   ],
   "source": [
    "x"
   ]
  },
  {
   "cell_type": "code",
   "execution_count": 315,
   "metadata": {},
   "outputs": [
    {
     "data": {
      "text/plain": [
       "[9]"
      ]
     },
     "execution_count": 315,
     "metadata": {},
     "output_type": "execute_result"
    }
   ],
   "source": [
    "# get top 2 cluster value by Silhouette\n",
    "top_2=heapq.nlargest(1, sil)\n",
    "top_2=[sil.index(j)+2 for j in top_2] \n",
    "top_2"
   ]
  },
  {
   "cell_type": "code",
   "execution_count": 239,
   "metadata": {},
   "outputs": [],
   "source": [
    "# lable will be atttached with data from where model is create\n",
    "final_data=raw_data.copy()"
   ]
  },
  {
   "cell_type": "code",
   "execution_count": null,
   "metadata": {},
   "outputs": [],
   "source": []
  },
  {
   "cell_type": "code",
   "execution_count": 240,
   "metadata": {},
   "outputs": [],
   "source": [
    "    \n",
    "def clusterform(n_clusters=2,x=x,cluster_data=clean_data):\n",
    "    # here no options to choose cosine distance\n",
    "    kmeans = KMeans(init='k-means++',n_clusters=n_clusters, max_iter=100).fit(x)\n",
    "    #cluster_data.head(2)\n",
    "    # show by tsne\n",
    "    \n",
    "    return kmeans\n",
    "\n",
    "def tsne_plot(x=x,cluster_data=clean_data,kmeans=kmeans):\n",
    "    modeltsne=TSNE(n_components=2,random_state=0)#,perplexity=10,n_iter=250)\n",
    "    cluster_data['cluster_kmeans']=kmeans.labels_.tolist()\n",
    "    y=cluster_data['cluster_kmeans'].values\n",
    "    tsne_data=modeltsne.fit_transform(x)\n",
    "    #create new data for plotting\n",
    "    tsne_data=np.vstack((tsne_data.T,y)).T\n",
    "    tsne_df=pd.DataFrame(data=tsne_data,columns=('Dim1','Dim2','Label'))\n",
    "    sns.FacetGrid(tsne_df,hue='Label',size=6).map(plt.scatter,'Dim1','Dim2').add_legend()\n",
    "    plt.show()\n",
    "    \n",
    "    "
   ]
  },
  {
   "cell_type": "code",
   "execution_count": 241,
   "metadata": {},
   "outputs": [
    {
     "name": "stdout",
     "output_type": "stream",
     "text": [
      "for cluster  9\n"
     ]
    },
    {
     "data": {
      "image/png": "[encoded data removed]",
      "text/plain": [
       "<Figure size 484x432 with 1 Axes>"
      ]
     },
     "metadata": {
      "needs_background": "light"
     },
     "output_type": "display_data"
    },
    {
     "name": "stdout",
     "output_type": "stream",
     "text": [
      "[4 5 4 ... 6 1 6]\n"
     ]
    }
   ],
   "source": [
    "import seaborn as sns\n",
    "for cluster in top_2:\n",
    "    print('for cluster ',cluster)\n",
    "    model=clusterform(cluster,x,clean_data.copy())\n",
    "    tsne_plot(x,clean_data.copy(),model)\n",
    "    print(model.labels_)    \n",
    "    final_data['kmeans_'+str(cluster)+'_cluster']=model.labels_\n",
    "    final_data['kmeans_'+str(cluster)+'_cluster_score']=silhouette_score(x, model.labels_, metric = 'euclidean')\n",
    "    clean_data['kmeans_'+str(cluster)+'_cluster']=model.labels_\n",
    "    clean_data['kmeans_'+str(cluster)+'_cluster_score']=silhouette_score(x, model.labels_, metric = 'euclidean')\n"
   ]
  },
  {
   "cell_type": "code",
   "execution_count": 242,
   "metadata": {},
   "outputs": [
    {
     "name": "stdout",
     "output_type": "stream",
     "text": [
      "[6 4 6 ... 1 9 1]\n"
     ]
    },
    {
     "data": {
      "text/html": [
       "<div>\n",
       "<style scoped>\n",
       "    .dataframe tbody tr th:only-of-type {\n",
       "        vertical-align: middle;\n",
       "    }\n",
       "\n",
       "    .dataframe tbody tr th {\n",
       "        vertical-align: top;\n",
       "    }\n",
       "\n",
       "    .dataframe thead th {\n",
       "        text-align: right;\n",
       "    }\n",
       "</style>\n",
       "<table border=\"1\" class=\"dataframe\">\n",
       "  <thead>\n",
       "    <tr style=\"text-align: right;\">\n",
       "      <th></th>\n",
       "      <th>CERTIFICATION_LEVEL_MASTER</th>\n",
       "      <th>CERTIFICATION_LEVEL_CERTIFIED</th>\n",
       "      <th>CERTIFICATION_LEVEL_MASTER_ELITE</th>\n",
       "      <th>CERTIFICATION_LEVEL_AUTHORIZED_LS</th>\n",
       "      <th>CERTIFICATION_LEVEL_MASTER_SELECT</th>\n",
       "      <th>count_master</th>\n",
       "      <th>count_certified</th>\n",
       "      <th>count_master_elite</th>\n",
       "      <th>count_CERTIFICATION_LEVEL_AUTHORIZED_LS</th>\n",
       "      <th>count_CERTIFICATION_LEVEL_MASTER_SELECT</th>\n",
       "      <th>Steep_Slope_Residential</th>\n",
       "      <th>Low_Slope_Commercial</th>\n",
       "      <th>CommercialCertification_Master_Select</th>\n",
       "      <th>CommercialCertification_Master</th>\n",
       "      <th>CommercialCertification_Authorized_LS</th>\n",
       "      <th>CommercialCertification_Non_Certified</th>\n",
       "      <th>ResidentialCertification_Master_Elite</th>\n",
       "      <th>ResidentialCertification_Certified</th>\n",
       "      <th>_2019_Low_Slope__Commercial</th>\n",
       "      <th>_2019_Steep_Slope_Residential</th>\n",
       "      <th>_2020_Low_Slope_Commercial</th>\n",
       "      <th>_2020_Steep_Slope_Residential</th>\n",
       "      <th>total_certifications</th>\n",
       "      <th>kmeans_9_cluster</th>\n",
       "      <th>kmeans_9_cluster_score</th>\n",
       "    </tr>\n",
       "  </thead>\n",
       "  <tbody>\n",
       "    <tr>\n",
       "      <th>0</th>\n",
       "      <td>1</td>\n",
       "      <td>1</td>\n",
       "      <td>0</td>\n",
       "      <td>0</td>\n",
       "      <td>0</td>\n",
       "      <td>1</td>\n",
       "      <td>3</td>\n",
       "      <td>0</td>\n",
       "      <td>0</td>\n",
       "      <td>0</td>\n",
       "      <td>1</td>\n",
       "      <td>1</td>\n",
       "      <td>0</td>\n",
       "      <td>1</td>\n",
       "      <td>0</td>\n",
       "      <td>0</td>\n",
       "      <td>0</td>\n",
       "      <td>1</td>\n",
       "      <td>1.0</td>\n",
       "      <td>1.0</td>\n",
       "      <td>1.0</td>\n",
       "      <td>1.0</td>\n",
       "      <td>4</td>\n",
       "      <td>4</td>\n",
       "      <td>0.459355</td>\n",
       "    </tr>\n",
       "    <tr>\n",
       "      <th>1</th>\n",
       "      <td>0</td>\n",
       "      <td>0</td>\n",
       "      <td>0</td>\n",
       "      <td>1</td>\n",
       "      <td>0</td>\n",
       "      <td>0</td>\n",
       "      <td>0</td>\n",
       "      <td>0</td>\n",
       "      <td>1</td>\n",
       "      <td>0</td>\n",
       "      <td>0</td>\n",
       "      <td>1</td>\n",
       "      <td>0</td>\n",
       "      <td>0</td>\n",
       "      <td>1</td>\n",
       "      <td>0</td>\n",
       "      <td>0</td>\n",
       "      <td>0</td>\n",
       "      <td>1.0</td>\n",
       "      <td>1.0</td>\n",
       "      <td>1.0</td>\n",
       "      <td>1.0</td>\n",
       "      <td>1</td>\n",
       "      <td>5</td>\n",
       "      <td>0.459355</td>\n",
       "    </tr>\n",
       "  </tbody>\n",
       "</table>\n",
       "</div>"
      ],
      "text/plain": [
       "   CERTIFICATION_LEVEL_MASTER  CERTIFICATION_LEVEL_CERTIFIED  \\\n",
       "0                           1                              1   \n",
       "1                           0                              0   \n",
       "\n",
       "   CERTIFICATION_LEVEL_MASTER_ELITE  CERTIFICATION_LEVEL_AUTHORIZED_LS  \\\n",
       "0                                 0                                  0   \n",
       "1                                 0                                  1   \n",
       "\n",
       "   CERTIFICATION_LEVEL_MASTER_SELECT  count_master  count_certified  \\\n",
       "0                                  0             1                3   \n",
       "1                                  0             0                0   \n",
       "\n",
       "   count_master_elite  count_CERTIFICATION_LEVEL_AUTHORIZED_LS  \\\n",
       "0                   0                                        0   \n",
       "1                   0                                        1   \n",
       "\n",
       "   count_CERTIFICATION_LEVEL_MASTER_SELECT  Steep_Slope_Residential  \\\n",
       "0                                        0                        1   \n",
       "1                                        0                        0   \n",
       "\n",
       "   Low_Slope_Commercial  CommercialCertification_Master_Select  \\\n",
       "0                     1                                      0   \n",
       "1                     1                                      0   \n",
       "\n",
       "   CommercialCertification_Master  CommercialCertification_Authorized_LS  \\\n",
       "0                               1                                      0   \n",
       "1                               0                                      1   \n",
       "\n",
       "   CommercialCertification_Non_Certified  \\\n",
       "0                                      0   \n",
       "1                                      0   \n",
       "\n",
       "   ResidentialCertification_Master_Elite  ResidentialCertification_Certified  \\\n",
       "0                                      0                                   1   \n",
       "1                                      0                                   0   \n",
       "\n",
       "   _2019_Low_Slope__Commercial  _2019_Steep_Slope_Residential  \\\n",
       "0                          1.0                            1.0   \n",
       "1                          1.0                            1.0   \n",
       "\n",
       "   _2020_Low_Slope_Commercial  _2020_Steep_Slope_Residential  \\\n",
       "0                         1.0                            1.0   \n",
       "1                         1.0                            1.0   \n",
       "\n",
       "   total_certifications  kmeans_9_cluster  kmeans_9_cluster_score  \n",
       "0                     4                 4                0.459355  \n",
       "1                     1                 5                0.459355  "
      ]
     },
     "execution_count": 242,
     "metadata": {},
     "output_type": "execute_result"
    }
   ],
   "source": [
    "## Create a label with kmeans output\n",
    "print(kmeans.labels_)    \n",
    "#clean_data['kmeans_label']=kmeans.labels_\n",
    "#a=np.where(kmeans.labels_ == 0)[0]\n",
    "#b=np.where(kmeans.labels_ == 1)[0]\n",
    "clean_data.head(2)"
   ]
  },
  {
   "cell_type": "code",
   "execution_count": 243,
   "metadata": {},
   "outputs": [
    {
     "data": {
      "text/html": [
       "<div>\n",
       "<style scoped>\n",
       "    .dataframe tbody tr th:only-of-type {\n",
       "        vertical-align: middle;\n",
       "    }\n",
       "\n",
       "    .dataframe tbody tr th {\n",
       "        vertical-align: top;\n",
       "    }\n",
       "\n",
       "    .dataframe thead th {\n",
       "        text-align: right;\n",
       "    }\n",
       "</style>\n",
       "<table border=\"1\" class=\"dataframe\">\n",
       "  <thead>\n",
       "    <tr style=\"text-align: right;\">\n",
       "      <th></th>\n",
       "      <th>cust_id</th>\n",
       "      <th>CERTIFICATION_LEVEL_MASTER</th>\n",
       "      <th>CERTIFICATION_LEVEL_CERTIFIED</th>\n",
       "      <th>CERTIFICATION_LEVEL_MASTER_ELITE</th>\n",
       "      <th>CERTIFICATION_LEVEL_AUTHORIZED_LS</th>\n",
       "      <th>CERTIFICATION_LEVEL_MASTER_SELECT</th>\n",
       "      <th>count_master</th>\n",
       "      <th>count_certified</th>\n",
       "      <th>count_master_elite</th>\n",
       "      <th>count_CERTIFICATION_LEVEL_AUTHORIZED_LS</th>\n",
       "      <th>count_CERTIFICATION_LEVEL_MASTER_SELECT</th>\n",
       "      <th>Steep_Slope_Residential</th>\n",
       "      <th>Low_Slope_Commercial</th>\n",
       "      <th>CommercialCertification_Master_Select</th>\n",
       "      <th>CommercialCertification_Master</th>\n",
       "      <th>CommercialCertification_Authorized_LS</th>\n",
       "      <th>CommercialCertification_Non_Certified</th>\n",
       "      <th>ResidentialCertification_Master_Elite</th>\n",
       "      <th>ResidentialCertification_Certified</th>\n",
       "      <th>ResidentialCertification_Non_Certified</th>\n",
       "      <th>company_name</th>\n",
       "      <th>state</th>\n",
       "      <th>_2019_Low_Slope__Commercial</th>\n",
       "      <th>_2019_Steep_Slope_Residential</th>\n",
       "      <th>_2020_Low_Slope_Commercial</th>\n",
       "      <th>_2020_Steep_Slope_Residential</th>\n",
       "      <th>kmeans_9_cluster</th>\n",
       "      <th>kmeans_9_cluster_score</th>\n",
       "    </tr>\n",
       "  </thead>\n",
       "  <tbody>\n",
       "    <tr>\n",
       "      <th>0</th>\n",
       "      <td>1112246</td>\n",
       "      <td>1</td>\n",
       "      <td>1</td>\n",
       "      <td>0</td>\n",
       "      <td>0</td>\n",
       "      <td>0</td>\n",
       "      <td>1</td>\n",
       "      <td>3</td>\n",
       "      <td>0</td>\n",
       "      <td>0</td>\n",
       "      <td>0</td>\n",
       "      <td>1</td>\n",
       "      <td>1</td>\n",
       "      <td>0</td>\n",
       "      <td>1</td>\n",
       "      <td>0</td>\n",
       "      <td>0</td>\n",
       "      <td>0</td>\n",
       "      <td>1</td>\n",
       "      <td>0</td>\n",
       "      <td>Steel King Construction</td>\n",
       "      <td>AK</td>\n",
       "      <td>1.0</td>\n",
       "      <td>1.0</td>\n",
       "      <td>1.0</td>\n",
       "      <td>1.0</td>\n",
       "      <td>4</td>\n",
       "      <td>0.459355</td>\n",
       "    </tr>\n",
       "    <tr>\n",
       "      <th>1</th>\n",
       "      <td>1106740</td>\n",
       "      <td>0</td>\n",
       "      <td>0</td>\n",
       "      <td>0</td>\n",
       "      <td>1</td>\n",
       "      <td>0</td>\n",
       "      <td>0</td>\n",
       "      <td>0</td>\n",
       "      <td>0</td>\n",
       "      <td>1</td>\n",
       "      <td>0</td>\n",
       "      <td>0</td>\n",
       "      <td>1</td>\n",
       "      <td>0</td>\n",
       "      <td>0</td>\n",
       "      <td>1</td>\n",
       "      <td>0</td>\n",
       "      <td>0</td>\n",
       "      <td>0</td>\n",
       "      <td>0</td>\n",
       "      <td>United Roofing Group Inc</td>\n",
       "      <td>AK</td>\n",
       "      <td>1.0</td>\n",
       "      <td>1.0</td>\n",
       "      <td>1.0</td>\n",
       "      <td>1.0</td>\n",
       "      <td>5</td>\n",
       "      <td>0.459355</td>\n",
       "    </tr>\n",
       "  </tbody>\n",
       "</table>\n",
       "</div>"
      ],
      "text/plain": [
       "   cust_id  CERTIFICATION_LEVEL_MASTER  CERTIFICATION_LEVEL_CERTIFIED  \\\n",
       "0  1112246                           1                              1   \n",
       "1  1106740                           0                              0   \n",
       "\n",
       "   CERTIFICATION_LEVEL_MASTER_ELITE  CERTIFICATION_LEVEL_AUTHORIZED_LS  \\\n",
       "0                                 0                                  0   \n",
       "1                                 0                                  1   \n",
       "\n",
       "   CERTIFICATION_LEVEL_MASTER_SELECT  count_master  count_certified  \\\n",
       "0                                  0             1                3   \n",
       "1                                  0             0                0   \n",
       "\n",
       "   count_master_elite  count_CERTIFICATION_LEVEL_AUTHORIZED_LS  \\\n",
       "0                   0                                        0   \n",
       "1                   0                                        1   \n",
       "\n",
       "   count_CERTIFICATION_LEVEL_MASTER_SELECT  Steep_Slope_Residential  \\\n",
       "0                                        0                        1   \n",
       "1                                        0                        0   \n",
       "\n",
       "   Low_Slope_Commercial  CommercialCertification_Master_Select  \\\n",
       "0                     1                                      0   \n",
       "1                     1                                      0   \n",
       "\n",
       "   CommercialCertification_Master  CommercialCertification_Authorized_LS  \\\n",
       "0                               1                                      0   \n",
       "1                               0                                      1   \n",
       "\n",
       "   CommercialCertification_Non_Certified  \\\n",
       "0                                      0   \n",
       "1                                      0   \n",
       "\n",
       "   ResidentialCertification_Master_Elite  ResidentialCertification_Certified  \\\n",
       "0                                      0                                   1   \n",
       "1                                      0                                   0   \n",
       "\n",
       "   ResidentialCertification_Non_Certified              company_name state  \\\n",
       "0                                       0   Steel King Construction    AK   \n",
       "1                                       0  United Roofing Group Inc    AK   \n",
       "\n",
       "   _2019_Low_Slope__Commercial  _2019_Steep_Slope_Residential  \\\n",
       "0                          1.0                            1.0   \n",
       "1                          1.0                            1.0   \n",
       "\n",
       "   _2020_Low_Slope_Commercial  _2020_Steep_Slope_Residential  \\\n",
       "0                         1.0                            1.0   \n",
       "1                         1.0                            1.0   \n",
       "\n",
       "   kmeans_9_cluster  kmeans_9_cluster_score  \n",
       "0                 4                0.459355  \n",
       "1                 5                0.459355  "
      ]
     },
     "execution_count": 243,
     "metadata": {},
     "output_type": "execute_result"
    }
   ],
   "source": [
    "final_data.head(2)"
   ]
  },
  {
   "cell_type": "code",
   "execution_count": 244,
   "metadata": {},
   "outputs": [],
   "source": [
    "# fnd cluster centers\n"
   ]
  },
  {
   "cell_type": "code",
   "execution_count": null,
   "metadata": {},
   "outputs": [],
   "source": []
  },
  {
   "cell_type": "code",
   "execution_count": 245,
   "metadata": {},
   "outputs": [
    {
     "name": "stdout",
     "output_type": "stream",
     "text": [
      "top 5 in cluster 0\n",
      "6282    1006387\n",
      "5348    1003040\n",
      "5366    1000157\n",
      "5389    1001982\n",
      "2105    1003157\n",
      "Name: cust_id, dtype: object\n",
      "top 5 in cluster 1\n",
      "2105    1003157\n",
      "6282    1006387\n",
      "3727    1002535\n",
      "5348    1003040\n",
      "5366    1000157\n",
      "Name: cust_id, dtype: object\n"
     ]
    }
   ],
   "source": [
    "#get top 5 data closest to center\n",
    "for c in range(2):\n",
    "        d = model.transform(x)[:, c]\n",
    "        ind = np.argsort(d)[::-1][:5]\n",
    "        print('top 5 in cluster',c)\n",
    "        print(raw_data.iloc[ind]['cust_id'])\n",
    "\n"
   ]
  },
  {
   "cell_type": "code",
   "execution_count": null,
   "metadata": {},
   "outputs": [],
   "source": []
  },
  {
   "cell_type": "code",
   "execution_count": 375,
   "metadata": {},
   "outputs": [],
   "source": [
    "#final_data.head(2)"
   ]
  },
  {
   "cell_type": "markdown",
   "metadata": {},
   "source": [
    "## GMM"
   ]
  },
  {
   "cell_type": "code",
   "execution_count": 247,
   "metadata": {},
   "outputs": [
    {
     "name": "stdout",
     "output_type": "stream",
     "text": [
      "with cluster 2 AIC 103649.07257899326 BIC 104178.62250551414 average log likelihood -4.038197276021897\n",
      "with cluster 3 AIC 76140.54903918866 BIC 76938.60315380462 average log likelihood -2.9621780992192828\n",
      "with cluster 4 AIC -132615.27883484782 BIC -131548.72053213677 average log likelihood 5.18497498575405\n",
      "[0.60666355 0.10533708 0.16159488 0.12640449] best component 4\n"
     ]
    }
   ],
   "source": [
    "from sklearn.mixture import GaussianMixture as gmm\n",
    "x=x_std\n",
    "\n",
    "def gmmmodel(n_components=2,x=x):\n",
    "    model=gmm(n_components=n_components)\n",
    "    label=model.fit_predict(x)\n",
    "    print('with cluster',n_components,'AIC',model.aic(x),'BIC',model.bic(x),'average log likelihood',model.score(x))\n",
    "    aic=model.aic(x)\n",
    "    return label,model,aic\n",
    "\n",
    "aicno=100000\n",
    "l=0\n",
    "for n_components in range(2,5):     \n",
    "    label,model,aic=gmmmodel(n_components,x)\n",
    "    if aic< aicno:\n",
    "        aicno=aic\n",
    "        l=n_components\n",
    "    \n",
    "print(model.weights_,'best component',l)\n",
    "#print('model means before trans',model.means_)\n",
    "\n",
    "#print('model means after trans',scaler.inverse_transform(model.means_))"
   ]
  },
  {
   "cell_type": "code",
   "execution_count": 248,
   "metadata": {},
   "outputs": [],
   "source": [
    "# no of cluster = 2 has low logscore and aic bic \n",
    "model=gmm(n_components=l)\n",
    "label=model.fit_predict(x)\n",
    "#print(label) \n",
    "top_2_gmm=l\n",
    "final_data['gmm_'+str(l)+'_cluster']=label\n",
    "final_data['gmm_'+str(l)+'_cluster_log_score']=model.score(x)\n",
    "clean_data['gmm_'+str(l)+'_cluster']=label\n",
    "clean_data['gmm_'+str(l)+'_cluster_log_score']=model.score(x)"
   ]
  },
  {
   "cell_type": "code",
   "execution_count": 250,
   "metadata": {},
   "outputs": [
    {
     "data": {
      "text/html": [
       "<div>\n",
       "<style scoped>\n",
       "    .dataframe tbody tr th:only-of-type {\n",
       "        vertical-align: middle;\n",
       "    }\n",
       "\n",
       "    .dataframe tbody tr th {\n",
       "        vertical-align: top;\n",
       "    }\n",
       "\n",
       "    .dataframe thead th {\n",
       "        text-align: right;\n",
       "    }\n",
       "</style>\n",
       "<table border=\"1\" class=\"dataframe\">\n",
       "  <thead>\n",
       "    <tr style=\"text-align: right;\">\n",
       "      <th></th>\n",
       "      <th>CERTIFICATION_LEVEL_MASTER</th>\n",
       "      <th>CERTIFICATION_LEVEL_CERTIFIED</th>\n",
       "      <th>CERTIFICATION_LEVEL_MASTER_ELITE</th>\n",
       "      <th>CERTIFICATION_LEVEL_AUTHORIZED_LS</th>\n",
       "      <th>CERTIFICATION_LEVEL_MASTER_SELECT</th>\n",
       "      <th>count_master</th>\n",
       "      <th>count_certified</th>\n",
       "      <th>count_master_elite</th>\n",
       "      <th>count_CERTIFICATION_LEVEL_AUTHORIZED_LS</th>\n",
       "      <th>count_CERTIFICATION_LEVEL_MASTER_SELECT</th>\n",
       "      <th>Steep_Slope_Residential</th>\n",
       "      <th>Low_Slope_Commercial</th>\n",
       "      <th>CommercialCertification_Master_Select</th>\n",
       "      <th>CommercialCertification_Master</th>\n",
       "      <th>CommercialCertification_Authorized_LS</th>\n",
       "      <th>CommercialCertification_Non_Certified</th>\n",
       "      <th>ResidentialCertification_Master_Elite</th>\n",
       "      <th>ResidentialCertification_Certified</th>\n",
       "      <th>_2019_Low_Slope__Commercial</th>\n",
       "      <th>_2019_Steep_Slope_Residential</th>\n",
       "      <th>_2020_Low_Slope_Commercial</th>\n",
       "      <th>_2020_Steep_Slope_Residential</th>\n",
       "      <th>total_certifications</th>\n",
       "      <th>kmeans_9_cluster</th>\n",
       "      <th>kmeans_9_cluster_score</th>\n",
       "      <th>gmm_4_cluster</th>\n",
       "      <th>gmm_4_cluster_log_score</th>\n",
       "    </tr>\n",
       "  </thead>\n",
       "  <tbody>\n",
       "    <tr>\n",
       "      <th>0</th>\n",
       "      <td>1</td>\n",
       "      <td>1</td>\n",
       "      <td>0</td>\n",
       "      <td>0</td>\n",
       "      <td>0</td>\n",
       "      <td>1</td>\n",
       "      <td>3</td>\n",
       "      <td>0</td>\n",
       "      <td>0</td>\n",
       "      <td>0</td>\n",
       "      <td>1</td>\n",
       "      <td>1</td>\n",
       "      <td>0</td>\n",
       "      <td>1</td>\n",
       "      <td>0</td>\n",
       "      <td>0</td>\n",
       "      <td>0</td>\n",
       "      <td>1</td>\n",
       "      <td>1.0</td>\n",
       "      <td>1.0</td>\n",
       "      <td>1.0</td>\n",
       "      <td>1.0</td>\n",
       "      <td>4</td>\n",
       "      <td>4</td>\n",
       "      <td>0.459355</td>\n",
       "      <td>0</td>\n",
       "      <td>2.28561</td>\n",
       "    </tr>\n",
       "    <tr>\n",
       "      <th>1</th>\n",
       "      <td>0</td>\n",
       "      <td>0</td>\n",
       "      <td>0</td>\n",
       "      <td>1</td>\n",
       "      <td>0</td>\n",
       "      <td>0</td>\n",
       "      <td>0</td>\n",
       "      <td>0</td>\n",
       "      <td>1</td>\n",
       "      <td>0</td>\n",
       "      <td>0</td>\n",
       "      <td>1</td>\n",
       "      <td>0</td>\n",
       "      <td>0</td>\n",
       "      <td>1</td>\n",
       "      <td>0</td>\n",
       "      <td>0</td>\n",
       "      <td>0</td>\n",
       "      <td>1.0</td>\n",
       "      <td>1.0</td>\n",
       "      <td>1.0</td>\n",
       "      <td>1.0</td>\n",
       "      <td>1</td>\n",
       "      <td>5</td>\n",
       "      <td>0.459355</td>\n",
       "      <td>2</td>\n",
       "      <td>2.28561</td>\n",
       "    </tr>\n",
       "  </tbody>\n",
       "</table>\n",
       "</div>"
      ],
      "text/plain": [
       "   CERTIFICATION_LEVEL_MASTER  CERTIFICATION_LEVEL_CERTIFIED  \\\n",
       "0                           1                              1   \n",
       "1                           0                              0   \n",
       "\n",
       "   CERTIFICATION_LEVEL_MASTER_ELITE  CERTIFICATION_LEVEL_AUTHORIZED_LS  \\\n",
       "0                                 0                                  0   \n",
       "1                                 0                                  1   \n",
       "\n",
       "   CERTIFICATION_LEVEL_MASTER_SELECT  count_master  count_certified  \\\n",
       "0                                  0             1                3   \n",
       "1                                  0             0                0   \n",
       "\n",
       "   count_master_elite  count_CERTIFICATION_LEVEL_AUTHORIZED_LS  \\\n",
       "0                   0                                        0   \n",
       "1                   0                                        1   \n",
       "\n",
       "   count_CERTIFICATION_LEVEL_MASTER_SELECT  Steep_Slope_Residential  \\\n",
       "0                                        0                        1   \n",
       "1                                        0                        0   \n",
       "\n",
       "   Low_Slope_Commercial  CommercialCertification_Master_Select  \\\n",
       "0                     1                                      0   \n",
       "1                     1                                      0   \n",
       "\n",
       "   CommercialCertification_Master  CommercialCertification_Authorized_LS  \\\n",
       "0                               1                                      0   \n",
       "1                               0                                      1   \n",
       "\n",
       "   CommercialCertification_Non_Certified  \\\n",
       "0                                      0   \n",
       "1                                      0   \n",
       "\n",
       "   ResidentialCertification_Master_Elite  ResidentialCertification_Certified  \\\n",
       "0                                      0                                   1   \n",
       "1                                      0                                   0   \n",
       "\n",
       "   _2019_Low_Slope__Commercial  _2019_Steep_Slope_Residential  \\\n",
       "0                          1.0                            1.0   \n",
       "1                          1.0                            1.0   \n",
       "\n",
       "   _2020_Low_Slope_Commercial  _2020_Steep_Slope_Residential  \\\n",
       "0                         1.0                            1.0   \n",
       "1                         1.0                            1.0   \n",
       "\n",
       "   total_certifications  kmeans_9_cluster  kmeans_9_cluster_score  \\\n",
       "0                     4                 4                0.459355   \n",
       "1                     1                 5                0.459355   \n",
       "\n",
       "   gmm_4_cluster  gmm_4_cluster_log_score  \n",
       "0              0                  2.28561  \n",
       "1              2                  2.28561  "
      ]
     },
     "execution_count": 250,
     "metadata": {},
     "output_type": "execute_result"
    }
   ],
   "source": [
    "clean_data.head(2)"
   ]
  },
  {
   "cell_type": "markdown",
   "metadata": {},
   "source": [
    "## DBSCAN"
   ]
  },
  {
   "cell_type": "code",
   "execution_count": 251,
   "metadata": {},
   "outputs": [
    {
     "name": "stdout",
     "output_type": "stream",
     "text": [
      "DBSCAN no of cluster by model 9 8 0.15222300737844538\n",
      "DBSCAN no of cluster by model 9 8 0.132185142686656\n",
      "DBSCAN no of cluster by model 10 9 0.14450585527828363\n",
      "DBSCAN no of cluster by model 10 9 0.1320609832303444\n",
      "DBSCAN no of cluster by model 10 9 0.14450585527828363\n",
      "DBSCAN no of cluster by model 9 8 0.132185142686656\n",
      "best eps 0.45\n"
     ]
    },
    {
     "data": {
      "text/html": [
       "<div>\n",
       "<style scoped>\n",
       "    .dataframe tbody tr th:only-of-type {\n",
       "        vertical-align: middle;\n",
       "    }\n",
       "\n",
       "    .dataframe tbody tr th {\n",
       "        vertical-align: top;\n",
       "    }\n",
       "\n",
       "    .dataframe thead th {\n",
       "        text-align: right;\n",
       "    }\n",
       "</style>\n",
       "<table border=\"1\" class=\"dataframe\">\n",
       "  <thead>\n",
       "    <tr style=\"text-align: right;\">\n",
       "      <th></th>\n",
       "      <th>CERTIFICATION_LEVEL_MASTER</th>\n",
       "      <th>CERTIFICATION_LEVEL_CERTIFIED</th>\n",
       "      <th>CERTIFICATION_LEVEL_MASTER_ELITE</th>\n",
       "      <th>CERTIFICATION_LEVEL_AUTHORIZED_LS</th>\n",
       "      <th>CERTIFICATION_LEVEL_MASTER_SELECT</th>\n",
       "      <th>count_master</th>\n",
       "      <th>count_certified</th>\n",
       "      <th>count_master_elite</th>\n",
       "      <th>count_CERTIFICATION_LEVEL_AUTHORIZED_LS</th>\n",
       "      <th>count_CERTIFICATION_LEVEL_MASTER_SELECT</th>\n",
       "      <th>Steep_Slope_Residential</th>\n",
       "      <th>Low_Slope_Commercial</th>\n",
       "      <th>CommercialCertification_Master_Select</th>\n",
       "      <th>CommercialCertification_Master</th>\n",
       "      <th>CommercialCertification_Authorized_LS</th>\n",
       "      <th>CommercialCertification_Non_Certified</th>\n",
       "      <th>ResidentialCertification_Master_Elite</th>\n",
       "      <th>ResidentialCertification_Certified</th>\n",
       "      <th>_2019_Low_Slope__Commercial</th>\n",
       "      <th>_2019_Steep_Slope_Residential</th>\n",
       "      <th>_2020_Low_Slope_Commercial</th>\n",
       "      <th>_2020_Steep_Slope_Residential</th>\n",
       "      <th>total_certifications</th>\n",
       "      <th>kmeans_9_cluster</th>\n",
       "      <th>kmeans_9_cluster_score</th>\n",
       "      <th>gmm_4_cluster</th>\n",
       "      <th>gmm_4_cluster_log_score</th>\n",
       "      <th>dbscan_9_cluster</th>\n",
       "      <th>dbscan_9_cluster_score</th>\n",
       "    </tr>\n",
       "  </thead>\n",
       "  <tbody>\n",
       "    <tr>\n",
       "      <th>0</th>\n",
       "      <td>1</td>\n",
       "      <td>1</td>\n",
       "      <td>0</td>\n",
       "      <td>0</td>\n",
       "      <td>0</td>\n",
       "      <td>1</td>\n",
       "      <td>3</td>\n",
       "      <td>0</td>\n",
       "      <td>0</td>\n",
       "      <td>0</td>\n",
       "      <td>1</td>\n",
       "      <td>1</td>\n",
       "      <td>0</td>\n",
       "      <td>1</td>\n",
       "      <td>0</td>\n",
       "      <td>0</td>\n",
       "      <td>0</td>\n",
       "      <td>1</td>\n",
       "      <td>1.0</td>\n",
       "      <td>1.0</td>\n",
       "      <td>1.0</td>\n",
       "      <td>1.0</td>\n",
       "      <td>4</td>\n",
       "      <td>4</td>\n",
       "      <td>0.459355</td>\n",
       "      <td>0</td>\n",
       "      <td>2.28561</td>\n",
       "      <td>0</td>\n",
       "      <td>0.152223</td>\n",
       "    </tr>\n",
       "    <tr>\n",
       "      <th>1</th>\n",
       "      <td>0</td>\n",
       "      <td>0</td>\n",
       "      <td>0</td>\n",
       "      <td>1</td>\n",
       "      <td>0</td>\n",
       "      <td>0</td>\n",
       "      <td>0</td>\n",
       "      <td>0</td>\n",
       "      <td>1</td>\n",
       "      <td>0</td>\n",
       "      <td>0</td>\n",
       "      <td>1</td>\n",
       "      <td>0</td>\n",
       "      <td>0</td>\n",
       "      <td>1</td>\n",
       "      <td>0</td>\n",
       "      <td>0</td>\n",
       "      <td>0</td>\n",
       "      <td>1.0</td>\n",
       "      <td>1.0</td>\n",
       "      <td>1.0</td>\n",
       "      <td>1.0</td>\n",
       "      <td>1</td>\n",
       "      <td>5</td>\n",
       "      <td>0.459355</td>\n",
       "      <td>2</td>\n",
       "      <td>2.28561</td>\n",
       "      <td>2</td>\n",
       "      <td>0.152223</td>\n",
       "    </tr>\n",
       "  </tbody>\n",
       "</table>\n",
       "</div>"
      ],
      "text/plain": [
       "   CERTIFICATION_LEVEL_MASTER  CERTIFICATION_LEVEL_CERTIFIED  \\\n",
       "0                           1                              1   \n",
       "1                           0                              0   \n",
       "\n",
       "   CERTIFICATION_LEVEL_MASTER_ELITE  CERTIFICATION_LEVEL_AUTHORIZED_LS  \\\n",
       "0                                 0                                  0   \n",
       "1                                 0                                  1   \n",
       "\n",
       "   CERTIFICATION_LEVEL_MASTER_SELECT  count_master  count_certified  \\\n",
       "0                                  0             1                3   \n",
       "1                                  0             0                0   \n",
       "\n",
       "   count_master_elite  count_CERTIFICATION_LEVEL_AUTHORIZED_LS  \\\n",
       "0                   0                                        0   \n",
       "1                   0                                        1   \n",
       "\n",
       "   count_CERTIFICATION_LEVEL_MASTER_SELECT  Steep_Slope_Residential  \\\n",
       "0                                        0                        1   \n",
       "1                                        0                        0   \n",
       "\n",
       "   Low_Slope_Commercial  CommercialCertification_Master_Select  \\\n",
       "0                     1                                      0   \n",
       "1                     1                                      0   \n",
       "\n",
       "   CommercialCertification_Master  CommercialCertification_Authorized_LS  \\\n",
       "0                               1                                      0   \n",
       "1                               0                                      1   \n",
       "\n",
       "   CommercialCertification_Non_Certified  \\\n",
       "0                                      0   \n",
       "1                                      0   \n",
       "\n",
       "   ResidentialCertification_Master_Elite  ResidentialCertification_Certified  \\\n",
       "0                                      0                                   1   \n",
       "1                                      0                                   0   \n",
       "\n",
       "   _2019_Low_Slope__Commercial  _2019_Steep_Slope_Residential  \\\n",
       "0                          1.0                            1.0   \n",
       "1                          1.0                            1.0   \n",
       "\n",
       "   _2020_Low_Slope_Commercial  _2020_Steep_Slope_Residential  \\\n",
       "0                         1.0                            1.0   \n",
       "1                         1.0                            1.0   \n",
       "\n",
       "   total_certifications  kmeans_9_cluster  kmeans_9_cluster_score  \\\n",
       "0                     4                 4                0.459355   \n",
       "1                     1                 5                0.459355   \n",
       "\n",
       "   gmm_4_cluster  gmm_4_cluster_log_score  dbscan_9_cluster  \\\n",
       "0              0                  2.28561                 0   \n",
       "1              2                  2.28561                 2   \n",
       "\n",
       "   dbscan_9_cluster_score  \n",
       "0                0.152223  \n",
       "1                0.152223  "
      ]
     },
     "execution_count": 251,
     "metadata": {},
     "output_type": "execute_result"
    }
   ],
   "source": [
    "x=x_orig\n",
    "from sklearn.cluster import DBSCAN\n",
    "from sklearn import metrics\n",
    "from sklearn.cluster import AgglomerativeClustering\n",
    "sscore=-100\n",
    "eps1=.5\n",
    "for eps in [.45,.4,.3,.2,.25,.35]:\n",
    "    db = DBSCAN(eps=eps, min_samples=200).fit(x)\n",
    "    #db = dbscan(x,eps=eps, min_samples=200)\n",
    "    #labels=db.labels_\n",
    "    labels=db.labels_\n",
    "    cluster=len(set(labels)) - (1 if -1 in labels else 0)\n",
    "    # -1 labels are outliers\n",
    "    score=metrics.silhouette_score(x,labels)\n",
    "    print('DBSCAN no of cluster by model',len(set(labels)),cluster,score)\n",
    "    if score>sscore:\n",
    "        sscore=score\n",
    "        eps1=eps\n",
    "        \n",
    "        \n",
    "print('best eps',eps1)        \n",
    "db = DBSCAN(eps=eps1, min_samples=200).fit(x)\n",
    "labels=db.labels_\n",
    "score=metrics.silhouette_score(x,labels)\n",
    "top_2_dbscan=len(set(labels))    \n",
    "final_data['dbscan_'+str(len(set(labels)))+'_cluster']=labels\n",
    "final_data['dbscan_'+str(len(set(labels)))+'_cluster_score']=score\n",
    "clean_data['dbscan_'+str(len(set(labels)))+'_cluster']=label\n",
    "clean_data['dbscan_'+str(len(set(labels)))+'_cluster_score']=score\n",
    "clean_data.head(2)\n"
   ]
  },
  {
   "cell_type": "code",
   "execution_count": 252,
   "metadata": {},
   "outputs": [
    {
     "data": {
      "text/plain": [
       "DBSCAN(algorithm='auto', eps=0.45, leaf_size=30, metric='euclidean',\n",
       "       metric_params=None, min_samples=200, n_jobs=None, p=None)"
      ]
     },
     "execution_count": 252,
     "metadata": {},
     "output_type": "execute_result"
    }
   ],
   "source": [
    "db"
   ]
  },
  {
   "cell_type": "code",
   "execution_count": null,
   "metadata": {},
   "outputs": [],
   "source": []
  },
  {
   "cell_type": "markdown",
   "metadata": {},
   "source": [
    "## AgglomerativeClustering"
   ]
  },
  {
   "cell_type": "code",
   "execution_count": 253,
   "metadata": {},
   "outputs": [],
   "source": [
    "x=x_orig\n",
    "for cluster in [4]:\n",
    "    model=AgglomerativeClustering(n_clusters=cluster).fit(x)\n",
    "    final_data['hierarchical_'+str(cluster)+'_cluster']=model.labels_\n",
    "    final_data['hierarchical_'+str(cluster)+'_cluster_score']='NA'\n",
    "    clean_data['hierarchical_'+str(cluster)+'_cluster']=model.labels_\n",
    "    clean_data['hierarchical_'+str(cluster)+'_cluster_score']='NA'\n",
    "top_2_agg=4\n",
    "    "
   ]
  },
  {
   "cell_type": "code",
   "execution_count": 376,
   "metadata": {},
   "outputs": [
    {
     "name": "stdout",
     "output_type": "stream",
     "text": [
      "(12816, 34)\n"
     ]
    }
   ],
   "source": [
    "print(final_data.shape)\n",
    "#final_data.head(1)"
   ]
  },
  {
   "cell_type": "code",
   "execution_count": 255,
   "metadata": {},
   "outputs": [
    {
     "name": "stdout",
     "output_type": "stream",
     "text": [
      "(12816, 31)\n"
     ]
    },
    {
     "data": {
      "text/html": [
       "<div>\n",
       "<style scoped>\n",
       "    .dataframe tbody tr th:only-of-type {\n",
       "        vertical-align: middle;\n",
       "    }\n",
       "\n",
       "    .dataframe tbody tr th {\n",
       "        vertical-align: top;\n",
       "    }\n",
       "\n",
       "    .dataframe thead th {\n",
       "        text-align: right;\n",
       "    }\n",
       "</style>\n",
       "<table border=\"1\" class=\"dataframe\">\n",
       "  <thead>\n",
       "    <tr style=\"text-align: right;\">\n",
       "      <th></th>\n",
       "      <th>CERTIFICATION_LEVEL_MASTER</th>\n",
       "      <th>CERTIFICATION_LEVEL_CERTIFIED</th>\n",
       "      <th>CERTIFICATION_LEVEL_MASTER_ELITE</th>\n",
       "      <th>CERTIFICATION_LEVEL_AUTHORIZED_LS</th>\n",
       "      <th>CERTIFICATION_LEVEL_MASTER_SELECT</th>\n",
       "      <th>count_master</th>\n",
       "      <th>count_certified</th>\n",
       "      <th>count_master_elite</th>\n",
       "      <th>count_CERTIFICATION_LEVEL_AUTHORIZED_LS</th>\n",
       "      <th>count_CERTIFICATION_LEVEL_MASTER_SELECT</th>\n",
       "      <th>Steep_Slope_Residential</th>\n",
       "      <th>Low_Slope_Commercial</th>\n",
       "      <th>CommercialCertification_Master_Select</th>\n",
       "      <th>CommercialCertification_Master</th>\n",
       "      <th>CommercialCertification_Authorized_LS</th>\n",
       "      <th>CommercialCertification_Non_Certified</th>\n",
       "      <th>ResidentialCertification_Master_Elite</th>\n",
       "      <th>ResidentialCertification_Certified</th>\n",
       "      <th>_2019_Low_Slope__Commercial</th>\n",
       "      <th>_2019_Steep_Slope_Residential</th>\n",
       "      <th>_2020_Low_Slope_Commercial</th>\n",
       "      <th>_2020_Steep_Slope_Residential</th>\n",
       "      <th>total_certifications</th>\n",
       "      <th>kmeans_9_cluster</th>\n",
       "      <th>kmeans_9_cluster_score</th>\n",
       "      <th>gmm_4_cluster</th>\n",
       "      <th>gmm_4_cluster_log_score</th>\n",
       "      <th>dbscan_9_cluster</th>\n",
       "      <th>dbscan_9_cluster_score</th>\n",
       "      <th>hierarchical_4_cluster</th>\n",
       "      <th>hierarchical_4_cluster_score</th>\n",
       "    </tr>\n",
       "  </thead>\n",
       "  <tbody>\n",
       "    <tr>\n",
       "      <th>0</th>\n",
       "      <td>1</td>\n",
       "      <td>1</td>\n",
       "      <td>0</td>\n",
       "      <td>0</td>\n",
       "      <td>0</td>\n",
       "      <td>1</td>\n",
       "      <td>3</td>\n",
       "      <td>0</td>\n",
       "      <td>0</td>\n",
       "      <td>0</td>\n",
       "      <td>1</td>\n",
       "      <td>1</td>\n",
       "      <td>0</td>\n",
       "      <td>1</td>\n",
       "      <td>0</td>\n",
       "      <td>0</td>\n",
       "      <td>0</td>\n",
       "      <td>1</td>\n",
       "      <td>1.0</td>\n",
       "      <td>1.0</td>\n",
       "      <td>1.0</td>\n",
       "      <td>1.0</td>\n",
       "      <td>4</td>\n",
       "      <td>4</td>\n",
       "      <td>0.459355</td>\n",
       "      <td>0</td>\n",
       "      <td>2.28561</td>\n",
       "      <td>0</td>\n",
       "      <td>0.152223</td>\n",
       "      <td>1</td>\n",
       "      <td>NA</td>\n",
       "    </tr>\n",
       "  </tbody>\n",
       "</table>\n",
       "</div>"
      ],
      "text/plain": [
       "   CERTIFICATION_LEVEL_MASTER  CERTIFICATION_LEVEL_CERTIFIED  \\\n",
       "0                           1                              1   \n",
       "\n",
       "   CERTIFICATION_LEVEL_MASTER_ELITE  CERTIFICATION_LEVEL_AUTHORIZED_LS  \\\n",
       "0                                 0                                  0   \n",
       "\n",
       "   CERTIFICATION_LEVEL_MASTER_SELECT  count_master  count_certified  \\\n",
       "0                                  0             1                3   \n",
       "\n",
       "   count_master_elite  count_CERTIFICATION_LEVEL_AUTHORIZED_LS  \\\n",
       "0                   0                                        0   \n",
       "\n",
       "   count_CERTIFICATION_LEVEL_MASTER_SELECT  Steep_Slope_Residential  \\\n",
       "0                                        0                        1   \n",
       "\n",
       "   Low_Slope_Commercial  CommercialCertification_Master_Select  \\\n",
       "0                     1                                      0   \n",
       "\n",
       "   CommercialCertification_Master  CommercialCertification_Authorized_LS  \\\n",
       "0                               1                                      0   \n",
       "\n",
       "   CommercialCertification_Non_Certified  \\\n",
       "0                                      0   \n",
       "\n",
       "   ResidentialCertification_Master_Elite  ResidentialCertification_Certified  \\\n",
       "0                                      0                                   1   \n",
       "\n",
       "   _2019_Low_Slope__Commercial  _2019_Steep_Slope_Residential  \\\n",
       "0                          1.0                            1.0   \n",
       "\n",
       "   _2020_Low_Slope_Commercial  _2020_Steep_Slope_Residential  \\\n",
       "0                         1.0                            1.0   \n",
       "\n",
       "   total_certifications  kmeans_9_cluster  kmeans_9_cluster_score  \\\n",
       "0                     4                 4                0.459355   \n",
       "\n",
       "   gmm_4_cluster  gmm_4_cluster_log_score  dbscan_9_cluster  \\\n",
       "0              0                  2.28561                 0   \n",
       "\n",
       "   dbscan_9_cluster_score  hierarchical_4_cluster hierarchical_4_cluster_score  \n",
       "0                0.152223                       1                           NA  "
      ]
     },
     "execution_count": 255,
     "metadata": {},
     "output_type": "execute_result"
    }
   ],
   "source": [
    "print(clean_data.shape)\n",
    "clean_data.head(1)"
   ]
  },
  {
   "cell_type": "code",
   "execution_count": 256,
   "metadata": {},
   "outputs": [],
   "source": [
    "#clean_data=clean_data.drop(['kmeans_2_cluster_score','kmeans_2_cluster'],axis=1)"
   ]
  },
  {
   "cell_type": "markdown",
   "metadata": {},
   "source": [
    "## Merge clusters output and store back to bigquery"
   ]
  },
  {
   "cell_type": "code",
   "execution_count": 306,
   "metadata": {},
   "outputs": [
    {
     "name": "stdout",
     "output_type": "stream",
     "text": [
      "['kmeans_9_cluster', 'kmeans_9_cluster_score', 'gmm_4_cluster', 'gmm_4_cluster_log_score', 'dbscan_9_cluster', 'dbscan_9_cluster_score', 'hierarchical_4_cluster', 'hierarchical_4_cluster_score', 'cust_id']\n",
      "(75246, 12)\n",
      "(75246, 15)\n",
      "(12816, 9) (75246, 12) (75246, 20)\n"
     ]
    }
   ],
   "source": [
    "# merge original data with cluster labels\n",
    "#final_data has input for model\n",
    "use_col=[c for c in final_data.columns.tolist() if 'cluster' in c]\n",
    "use_col.append('cust_id')\n",
    "print(use_col)\n",
    "final_data1=final_data[use_col]\n",
    "final_data1.head(2)\n",
    "\n",
    "#drop columns from bas data where clusetr \n",
    "drop_col=[c for c in base_data.columns.tolist() if 'cluster' in c]\n",
    "base_data1=base_data.drop(drop_col,axis=1)\n",
    "print(base_data1.shape)\n",
    "print(base_data.shape)\n",
    "\n",
    "#final2 has data original+cluster label\n",
    "final2=pd.merge(base_data1,final_data1,how='left', on='cust_id')\n",
    "print(final_data1.shape,base_data1.shape,final2.shape)"
   ]
  },
  {
   "cell_type": "code",
   "execution_count": null,
   "metadata": {},
   "outputs": [],
   "source": []
  },
  {
   "cell_type": "code",
   "execution_count": null,
   "metadata": {},
   "outputs": [],
   "source": []
  },
  {
   "cell_type": "code",
   "execution_count": null,
   "metadata": {},
   "outputs": [],
   "source": []
  },
  {
   "cell_type": "code",
   "execution_count": 261,
   "metadata": {},
   "outputs": [
    {
     "name": "stderr",
     "output_type": "stream",
     "text": [
      "1it [00:05,  5.95s/it]\n"
     ]
    }
   ],
   "source": [
    "# Store feature data with label\n",
    "final_data.to_gbq(destination_table='Contractor_Cluster.Contractor_Featured_Cluster_updated',project_id = 'gaf-np-ds',if_exists = 'replace')  #'replace')"
   ]
  },
  {
   "cell_type": "code",
   "execution_count": 307,
   "metadata": {},
   "outputs": [
    {
     "name": "stderr",
     "output_type": "stream",
     "text": [
      "1it [00:12, 12.34s/it]\n"
     ]
    }
   ],
   "source": [
    "# store original data with feature\n",
    "final2.to_gbq(destination_table='Contractor_Cluster.Contractor_Original_Cluster_updated',project_id = 'gaf-np-ds',if_exists = 'replace')  #'replace')"
   ]
  },
  {
   "cell_type": "code",
   "execution_count": 298,
   "metadata": {},
   "outputs": [
    {
     "data": {
      "text/html": [
       "<div>\n",
       "<style scoped>\n",
       "    .dataframe tbody tr th:only-of-type {\n",
       "        vertical-align: middle;\n",
       "    }\n",
       "\n",
       "    .dataframe tbody tr th {\n",
       "        vertical-align: top;\n",
       "    }\n",
       "\n",
       "    .dataframe thead th {\n",
       "        text-align: right;\n",
       "    }\n",
       "</style>\n",
       "<table border=\"1\" class=\"dataframe\">\n",
       "  <thead>\n",
       "    <tr style=\"text-align: right;\">\n",
       "      <th></th>\n",
       "      <th>cust_id</th>\n",
       "      <th>certification_level_cd</th>\n",
       "      <th>start_date</th>\n",
       "      <th>expiration_date</th>\n",
       "      <th>certification_status</th>\n",
       "      <th>business_area</th>\n",
       "      <th>CommercialCertification</th>\n",
       "      <th>ResidentialCertification</th>\n",
       "      <th>company_name</th>\n",
       "      <th>zip_code</th>\n",
       "      <th>state</th>\n",
       "      <th>country</th>\n",
       "      <th>kmeans_9_cluster</th>\n",
       "      <th>kmeans_9_cluster_score</th>\n",
       "      <th>gmm_4_cluster</th>\n",
       "      <th>gmm_4_cluster_log_score</th>\n",
       "      <th>dbscan_9_cluster</th>\n",
       "      <th>dbscan_9_cluster_score</th>\n",
       "      <th>hierarchical_4_cluster</th>\n",
       "      <th>hierarchical_4_cluster_score</th>\n",
       "    </tr>\n",
       "  </thead>\n",
       "  <tbody>\n",
       "    <tr>\n",
       "      <th>0</th>\n",
       "      <td>1000353</td>\n",
       "      <td>QUICKQUOTES</td>\n",
       "      <td>2017-04-06</td>\n",
       "      <td>2018-04-30</td>\n",
       "      <td>Terminated</td>\n",
       "      <td>Steep Slope - Residential</td>\n",
       "      <td>4. Non-Certified</td>\n",
       "      <td>1. Master Elite</td>\n",
       "      <td>Lang Brothers Construction Inc</td>\n",
       "      <td>47712</td>\n",
       "      <td>IN</td>\n",
       "      <td>USA</td>\n",
       "      <td>2.0</td>\n",
       "      <td>0.459355</td>\n",
       "      <td>3.0</td>\n",
       "      <td>2.28561</td>\n",
       "      <td>-1.0</td>\n",
       "      <td>0.152223</td>\n",
       "      <td>0.0</td>\n",
       "      <td>NA</td>\n",
       "    </tr>\n",
       "  </tbody>\n",
       "</table>\n",
       "</div>"
      ],
      "text/plain": [
       "   cust_id certification_level_cd  start_date expiration_date  \\\n",
       "0  1000353            QUICKQUOTES  2017-04-06      2018-04-30   \n",
       "\n",
       "  certification_status              business_area CommercialCertification  \\\n",
       "0           Terminated  Steep Slope - Residential        4. Non-Certified   \n",
       "\n",
       "  ResidentialCertification                    company_name zip_code state  \\\n",
       "0          1. Master Elite  Lang Brothers Construction Inc    47712    IN   \n",
       "\n",
       "  country  kmeans_9_cluster  kmeans_9_cluster_score  gmm_4_cluster  \\\n",
       "0     USA               2.0                0.459355            3.0   \n",
       "\n",
       "   gmm_4_cluster_log_score  dbscan_9_cluster  dbscan_9_cluster_score  \\\n",
       "0                  2.28561              -1.0                0.152223   \n",
       "\n",
       "   hierarchical_4_cluster hierarchical_4_cluster_score  \n",
       "0                     0.0                           NA  "
      ]
     },
     "execution_count": 298,
     "metadata": {},
     "output_type": "execute_result"
    }
   ],
   "source": [
    "final2.head(1)"
   ]
  },
  {
   "cell_type": "markdown",
   "metadata": {},
   "source": [
    "## FInd important features of clusters"
   ]
  },
  {
   "cell_type": "code",
   "execution_count": 318,
   "metadata": {},
   "outputs": [
    {
     "name": "stdout",
     "output_type": "stream",
     "text": [
      "feat importance = [4.81835639e-02 1.36067063e-01 0.00000000e+00 0.00000000e+00\n",
      " 5.66107389e-03 4.13823630e-03 5.03927382e-05 0.00000000e+00\n",
      " 4.27818728e-02 0.00000000e+00 0.00000000e+00 0.00000000e+00\n",
      " 1.53217569e-03 0.00000000e+00 8.14002369e-03 1.37146267e-01\n",
      " 3.42819257e-02 0.00000000e+00 1.82420203e-01 9.34067195e-03\n",
      " 0.00000000e+00 4.10724705e-02 1.76468937e-01]\n",
      "_2019_Low_Slope__Commercial 0.2205046987470629\n",
      "total_certifications 0.21331096661104385\n",
      "CommercialCertification_Non_Certified 0.16577876746770326\n",
      "CERTIFICATION_LEVEL_CERTIFIED 0.1644742544677674\n",
      "CERTIFICATION_LEVEL_MASTER 0.058243013075050726\n"
     ]
    },
    {
     "data": {
      "text/plain": [
       "['_2019_Low_Slope__Commercial',\n",
       " 'total_certifications',\n",
       " 'CommercialCertification_Non_Certified',\n",
       " 'CERTIFICATION_LEVEL_CERTIFIED',\n",
       " 'CERTIFICATION_LEVEL_MASTER']"
      ]
     },
     "execution_count": 318,
     "metadata": {},
     "output_type": "execute_result"
    }
   ],
   "source": [
    "# for kmeans\n",
    "from sklearn.tree import DecisionTreeClassifier\n",
    "clf = DecisionTreeClassifier()\n",
    "drop_col=[c for c in clean_data.columns.tolist() if 'cluster' in c]\n",
    "x=clean_data.drop(drop_col, axis=1).values \n",
    "y=clean_data['kmeans_'+str(top_2[0])+'_cluster']\n",
    "clf.fit(x, y)\n",
    "feat_importance = clf.tree_.compute_feature_importances(normalize=False)\n",
    "print(\"feat importance = \" + str(feat_importance))\n",
    "good_features=[]\n",
    "for importance, name in sorted(zip(clf.feature_importances_, clean_data.drop(['kmeans_'+str(top_2[0])+'_cluster'], axis=1).columns),reverse=True)[:5]:\n",
    "    print (name, importance)\n",
    "    good_features.append(name)\n",
    "    \n",
    "good_features"
   ]
  },
  {
   "cell_type": "code",
   "execution_count": 317,
   "metadata": {},
   "outputs": [
    {
     "data": {
      "text/plain": [
       "9"
      ]
     },
     "execution_count": 317,
     "metadata": {},
     "output_type": "execute_result"
    }
   ],
   "source": []
  },
  {
   "cell_type": "code",
   "execution_count": 313,
   "metadata": {},
   "outputs": [
    {
     "data": {
      "text/html": [
       "<div>\n",
       "<style scoped>\n",
       "    .dataframe tbody tr th:only-of-type {\n",
       "        vertical-align: middle;\n",
       "    }\n",
       "\n",
       "    .dataframe tbody tr th {\n",
       "        vertical-align: top;\n",
       "    }\n",
       "\n",
       "    .dataframe thead th {\n",
       "        text-align: right;\n",
       "    }\n",
       "</style>\n",
       "<table border=\"1\" class=\"dataframe\">\n",
       "  <thead>\n",
       "    <tr style=\"text-align: right;\">\n",
       "      <th></th>\n",
       "      <th>CERTIFICATION_LEVEL_MASTER</th>\n",
       "      <th>CERTIFICATION_LEVEL_CERTIFIED</th>\n",
       "      <th>CERTIFICATION_LEVEL_MASTER_ELITE</th>\n",
       "      <th>CERTIFICATION_LEVEL_AUTHORIZED_LS</th>\n",
       "      <th>CERTIFICATION_LEVEL_MASTER_SELECT</th>\n",
       "      <th>count_master</th>\n",
       "      <th>count_certified</th>\n",
       "      <th>count_master_elite</th>\n",
       "      <th>count_CERTIFICATION_LEVEL_AUTHORIZED_LS</th>\n",
       "      <th>count_CERTIFICATION_LEVEL_MASTER_SELECT</th>\n",
       "      <th>Steep_Slope_Residential</th>\n",
       "      <th>Low_Slope_Commercial</th>\n",
       "      <th>CommercialCertification_Master_Select</th>\n",
       "      <th>CommercialCertification_Master</th>\n",
       "      <th>CommercialCertification_Authorized_LS</th>\n",
       "      <th>CommercialCertification_Non_Certified</th>\n",
       "      <th>ResidentialCertification_Master_Elite</th>\n",
       "      <th>ResidentialCertification_Certified</th>\n",
       "      <th>_2019_Low_Slope__Commercial</th>\n",
       "      <th>_2019_Steep_Slope_Residential</th>\n",
       "      <th>_2020_Low_Slope_Commercial</th>\n",
       "      <th>_2020_Steep_Slope_Residential</th>\n",
       "      <th>total_certifications</th>\n",
       "      <th>kmeans_9_cluster</th>\n",
       "      <th>kmeans_9_cluster_score</th>\n",
       "      <th>gmm_4_cluster</th>\n",
       "      <th>gmm_4_cluster_log_score</th>\n",
       "      <th>dbscan_9_cluster</th>\n",
       "      <th>dbscan_9_cluster_score</th>\n",
       "      <th>hierarchical_4_cluster</th>\n",
       "      <th>hierarchical_4_cluster_score</th>\n",
       "    </tr>\n",
       "  </thead>\n",
       "  <tbody>\n",
       "    <tr>\n",
       "      <th>0</th>\n",
       "      <td>1</td>\n",
       "      <td>1</td>\n",
       "      <td>0</td>\n",
       "      <td>0</td>\n",
       "      <td>0</td>\n",
       "      <td>1</td>\n",
       "      <td>3</td>\n",
       "      <td>0</td>\n",
       "      <td>0</td>\n",
       "      <td>0</td>\n",
       "      <td>1</td>\n",
       "      <td>1</td>\n",
       "      <td>0</td>\n",
       "      <td>1</td>\n",
       "      <td>0</td>\n",
       "      <td>0</td>\n",
       "      <td>0</td>\n",
       "      <td>1</td>\n",
       "      <td>1.0</td>\n",
       "      <td>1.0</td>\n",
       "      <td>1.0</td>\n",
       "      <td>1.0</td>\n",
       "      <td>4</td>\n",
       "      <td>4</td>\n",
       "      <td>0.459355</td>\n",
       "      <td>0</td>\n",
       "      <td>2.28561</td>\n",
       "      <td>0</td>\n",
       "      <td>0.152223</td>\n",
       "      <td>1</td>\n",
       "      <td>NA</td>\n",
       "    </tr>\n",
       "  </tbody>\n",
       "</table>\n",
       "</div>"
      ],
      "text/plain": [
       "   CERTIFICATION_LEVEL_MASTER  CERTIFICATION_LEVEL_CERTIFIED  \\\n",
       "0                           1                              1   \n",
       "\n",
       "   CERTIFICATION_LEVEL_MASTER_ELITE  CERTIFICATION_LEVEL_AUTHORIZED_LS  \\\n",
       "0                                 0                                  0   \n",
       "\n",
       "   CERTIFICATION_LEVEL_MASTER_SELECT  count_master  count_certified  \\\n",
       "0                                  0             1                3   \n",
       "\n",
       "   count_master_elite  count_CERTIFICATION_LEVEL_AUTHORIZED_LS  \\\n",
       "0                   0                                        0   \n",
       "\n",
       "   count_CERTIFICATION_LEVEL_MASTER_SELECT  Steep_Slope_Residential  \\\n",
       "0                                        0                        1   \n",
       "\n",
       "   Low_Slope_Commercial  CommercialCertification_Master_Select  \\\n",
       "0                     1                                      0   \n",
       "\n",
       "   CommercialCertification_Master  CommercialCertification_Authorized_LS  \\\n",
       "0                               1                                      0   \n",
       "\n",
       "   CommercialCertification_Non_Certified  \\\n",
       "0                                      0   \n",
       "\n",
       "   ResidentialCertification_Master_Elite  ResidentialCertification_Certified  \\\n",
       "0                                      0                                   1   \n",
       "\n",
       "   _2019_Low_Slope__Commercial  _2019_Steep_Slope_Residential  \\\n",
       "0                          1.0                            1.0   \n",
       "\n",
       "   _2020_Low_Slope_Commercial  _2020_Steep_Slope_Residential  \\\n",
       "0                         1.0                            1.0   \n",
       "\n",
       "   total_certifications  kmeans_9_cluster  kmeans_9_cluster_score  \\\n",
       "0                     4                 4                0.459355   \n",
       "\n",
       "   gmm_4_cluster  gmm_4_cluster_log_score  dbscan_9_cluster  \\\n",
       "0              0                  2.28561                 0   \n",
       "\n",
       "   dbscan_9_cluster_score  hierarchical_4_cluster hierarchical_4_cluster_score  \n",
       "0                0.152223                       1                           NA  "
      ]
     },
     "execution_count": 313,
     "metadata": {},
     "output_type": "execute_result"
    }
   ],
   "source": [
    "clean_data.head(1)"
   ]
  },
  {
   "cell_type": "code",
   "execution_count": 132,
   "metadata": {},
   "outputs": [
    {
     "data": {
      "text/html": [
       "<div>\n",
       "<style scoped>\n",
       "    .dataframe tbody tr th:only-of-type {\n",
       "        vertical-align: middle;\n",
       "    }\n",
       "\n",
       "    .dataframe tbody tr th {\n",
       "        vertical-align: top;\n",
       "    }\n",
       "\n",
       "    .dataframe thead th {\n",
       "        text-align: right;\n",
       "    }\n",
       "</style>\n",
       "<table border=\"1\" class=\"dataframe\">\n",
       "  <thead>\n",
       "    <tr style=\"text-align: right;\">\n",
       "      <th></th>\n",
       "      <th>CERTIFICATION_LEVEL_MASTER</th>\n",
       "      <th>CERTIFICATION_LEVEL_CERTIFIED</th>\n",
       "      <th>CERTIFICATION_LEVEL_MASTER_ELITE</th>\n",
       "      <th>CERTIFICATION_LEVEL_AUTHORIZED_LS</th>\n",
       "      <th>CERTIFICATION_LEVEL_MASTER_SELECT</th>\n",
       "      <th>count_master</th>\n",
       "      <th>count_certified</th>\n",
       "      <th>count_master_elite</th>\n",
       "      <th>count_CERTIFICATION_LEVEL_AUTHORIZED_LS</th>\n",
       "      <th>count_CERTIFICATION_LEVEL_MASTER_SELECT</th>\n",
       "      <th>Steep_Slope_Residential</th>\n",
       "      <th>Low_Slope_Commercial</th>\n",
       "      <th>CommercialCertification_Master_Select</th>\n",
       "      <th>CommercialCertification_Master</th>\n",
       "      <th>CommercialCertification_Authorized_LS</th>\n",
       "      <th>CommercialCertification_Non_Certified</th>\n",
       "      <th>ResidentialCertification_Master_Elite</th>\n",
       "      <th>ResidentialCertification_Certified</th>\n",
       "      <th>_2019_Low_Slope__Commercial</th>\n",
       "      <th>_2019_Steep_Slope_Residential</th>\n",
       "      <th>_2020_Low_Slope_Commercial</th>\n",
       "      <th>_2020_Steep_Slope_Residential</th>\n",
       "      <th>total_certifications</th>\n",
       "      <th>kmeans_9_cluster</th>\n",
       "      <th>kmeans_9_cluster_score</th>\n",
       "    </tr>\n",
       "  </thead>\n",
       "  <tbody>\n",
       "    <tr>\n",
       "      <th>0</th>\n",
       "      <td>1</td>\n",
       "      <td>1</td>\n",
       "      <td>0</td>\n",
       "      <td>0</td>\n",
       "      <td>0</td>\n",
       "      <td>1</td>\n",
       "      <td>3</td>\n",
       "      <td>0</td>\n",
       "      <td>0</td>\n",
       "      <td>0</td>\n",
       "      <td>1</td>\n",
       "      <td>1</td>\n",
       "      <td>0</td>\n",
       "      <td>1</td>\n",
       "      <td>0</td>\n",
       "      <td>0</td>\n",
       "      <td>0</td>\n",
       "      <td>1</td>\n",
       "      <td>1.0</td>\n",
       "      <td>1.0</td>\n",
       "      <td>1.0</td>\n",
       "      <td>1.0</td>\n",
       "      <td>4</td>\n",
       "      <td>2</td>\n",
       "      <td>0.462093</td>\n",
       "    </tr>\n",
       "  </tbody>\n",
       "</table>\n",
       "</div>"
      ],
      "text/plain": [
       "   CERTIFICATION_LEVEL_MASTER  CERTIFICATION_LEVEL_CERTIFIED  \\\n",
       "0                           1                              1   \n",
       "\n",
       "   CERTIFICATION_LEVEL_MASTER_ELITE  CERTIFICATION_LEVEL_AUTHORIZED_LS  \\\n",
       "0                                 0                                  0   \n",
       "\n",
       "   CERTIFICATION_LEVEL_MASTER_SELECT  count_master  count_certified  \\\n",
       "0                                  0             1                3   \n",
       "\n",
       "   count_master_elite  count_CERTIFICATION_LEVEL_AUTHORIZED_LS  \\\n",
       "0                   0                                        0   \n",
       "\n",
       "   count_CERTIFICATION_LEVEL_MASTER_SELECT  Steep_Slope_Residential  \\\n",
       "0                                        0                        1   \n",
       "\n",
       "   Low_Slope_Commercial  CommercialCertification_Master_Select  \\\n",
       "0                     1                                      0   \n",
       "\n",
       "   CommercialCertification_Master  CommercialCertification_Authorized_LS  \\\n",
       "0                               1                                      0   \n",
       "\n",
       "   CommercialCertification_Non_Certified  \\\n",
       "0                                      0   \n",
       "\n",
       "   ResidentialCertification_Master_Elite  ResidentialCertification_Certified  \\\n",
       "0                                      0                                   1   \n",
       "\n",
       "   _2019_Low_Slope__Commercial  _2019_Steep_Slope_Residential  \\\n",
       "0                          1.0                            1.0   \n",
       "\n",
       "   _2020_Low_Slope_Commercial  _2020_Steep_Slope_Residential  \\\n",
       "0                         1.0                            1.0   \n",
       "\n",
       "   total_certifications  kmeans_9_cluster  kmeans_9_cluster_score  \n",
       "0                     4                 2                0.462093  "
      ]
     },
     "execution_count": 132,
     "metadata": {},
     "output_type": "execute_result"
    }
   ],
   "source": [
    "clean_data.head(1)"
   ]
  },
  {
   "cell_type": "markdown",
   "metadata": {},
   "source": [
    "## Show data variablility in clusters"
   ]
  },
  {
   "cell_type": "code",
   "execution_count": 320,
   "metadata": {},
   "outputs": [
    {
     "data": {
      "image/png": "[encoded data removed]",
      "text/plain": [
       "<Figure size 720x360 with 2 Axes>"
      ]
     },
     "metadata": {
      "needs_background": "light"
     },
     "output_type": "display_data"
    },
    {
     "data": {
      "image/png": "[encoded data removed]",
      "text/plain": [
       "<Figure size 720x360 with 2 Axes>"
      ]
     },
     "metadata": {
      "needs_background": "light"
     },
     "output_type": "display_data"
    },
    {
     "data": {
      "image/png": "[encoded data removed]",
      "text/plain": [
       "<Figure size 720x360 with 2 Axes>"
      ]
     },
     "metadata": {
      "needs_background": "light"
     },
     "output_type": "display_data"
    },
    {
     "data": {
      "image/png": "[encoded data removed]",
      "text/plain": [
       "<Figure size 720x360 with 2 Axes>"
      ]
     },
     "metadata": {
      "needs_background": "light"
     },
     "output_type": "display_data"
    },
    {
     "data": {
      "image/png": "[encoded data removed]",
      "text/plain": [
       "<Figure size 720x360 with 2 Axes>"
      ]
     },
     "metadata": {
      "needs_background": "light"
     },
     "output_type": "display_data"
    }
   ],
   "source": [
    "import warnings\n",
    "warnings.filterwarnings('ignore')\n",
    "for c in good_features:\n",
    "    if 'cluster' in c or c in remove_col:\n",
    "        pass\n",
    "    else:\n",
    "        \n",
    "        #print('kmeans clusters mean/std value ',c,' in different clusters\\n')\n",
    "        #print('---------------------------------')\n",
    "        ax1 = plt.subplot(221)\n",
    "        my_df=clean_data.groupby('kmeans_'+str(top_2[0])+'_cluster')[c].mean().reset_index()\n",
    "        my_df.plot(x='kmeans_'+str(top_2[0])+'_cluster', y=c, kind='bar',ax=ax1,figsize=(10, 5)) \n",
    "        plt.title('mean of '+c+' in clusters')\n",
    "        #plt.subplot(1, 2, 2)\n",
    "        my_df=clean_data.groupby('kmeans_'+str(top_2[0])+'_cluster')[c].std().reset_index()\n",
    "        ax2 = plt.subplot(222)\n",
    "        my_df.plot(x='kmeans_'+str(top_2[0])+'_cluster', y=c, kind='bar',ax=ax2,figsize=(10, 5)) \n",
    "        plt.title('SD of '+c+' in clusters')\n",
    "        plt.show()\n",
    "        #print(clean_data.groupby('gmm_4_cluster')[c].mean().reset_index())\n"
   ]
  },
  {
   "cell_type": "code",
   "execution_count": null,
   "metadata": {},
   "outputs": [],
   "source": []
  },
  {
   "cell_type": "markdown",
   "metadata": {},
   "source": [
    "## Feature importance from GMM"
   ]
  },
  {
   "cell_type": "code",
   "execution_count": 337,
   "metadata": {},
   "outputs": [
    {
     "data": {
      "image/png": "[encoded data removed]",
      "text/plain": [
       "<Figure size 484x432 with 1 Axes>"
      ]
     },
     "metadata": {
      "needs_background": "light"
     },
     "output_type": "display_data"
    }
   ],
   "source": [
    "# t-SNE for GMM\n",
    "modeltsne=TSNE(n_components=2,random_state=0)#,perplexity=10,n_iter=250)\n",
    "model=gmm(n_components=top_2_gmm)\n",
    "label=model.fit_predict(x_orig)\n",
    "y=label\n",
    "tsne_data=modeltsne.fit_transform(x)\n",
    "#create new data for plotting\n",
    "tsne_data=np.vstack((tsne_data.T,y)).T\n",
    "tsne_df=pd.DataFrame(data=tsne_data,columns=('Dim1','Dim2','Label'))\n",
    "sns.FacetGrid(tsne_df,hue='Label',size=6).map(plt.scatter,'Dim1','Dim2').add_legend()\n",
    "plt.show()"
   ]
  },
  {
   "cell_type": "code",
   "execution_count": 338,
   "metadata": {},
   "outputs": [
    {
     "name": "stdout",
     "output_type": "stream",
     "text": [
      "feat importance = [0.         0.         0.         0.01500729 0.         0.19955211\n",
      " 0.30496514 0.         0.         0.00885869 0.         0.05288563\n",
      " 0.         0.         0.07904241 0.         0.00031197 0.\n",
      " 0.         0.         0.         0.         0.        ]\n",
      "count_certified 0.46163248383512306\n",
      "count_master 0.30206645241704627\n",
      "CommercialCertification_Authorized_LS 0.11964824064899061\n",
      "Low_Slope_Commercial 0.08005414255418616\n",
      "CERTIFICATION_LEVEL_AUTHORIZED_LS 0.022716859552239423\n"
     ]
    },
    {
     "data": {
      "image/png": "[encoded data removed]",
      "text/plain": [
       "<Figure size 720x360 with 2 Axes>"
      ]
     },
     "metadata": {
      "needs_background": "light"
     },
     "output_type": "display_data"
    },
    {
     "data": {
      "image/png": "[encoded data removed]",
      "text/plain": [
       "<Figure size 720x360 with 2 Axes>"
      ]
     },
     "metadata": {
      "needs_background": "light"
     },
     "output_type": "display_data"
    },
    {
     "data": {
      "image/png": "[encoded data removed]",
      "text/plain": [
       "<Figure size 720x360 with 2 Axes>"
      ]
     },
     "metadata": {
      "needs_background": "light"
     },
     "output_type": "display_data"
    },
    {
     "data": {
      "image/png": "[encoded data removed]",
      "text/plain": [
       "<Figure size 720x360 with 2 Axes>"
      ]
     },
     "metadata": {
      "needs_background": "light"
     },
     "output_type": "display_data"
    },
    {
     "data": {
      "image/png": "[encoded data removed]",
      "text/plain": [
       "<Figure size 720x360 with 2 Axes>"
      ]
     },
     "metadata": {
      "needs_background": "light"
     },
     "output_type": "display_data"
    }
   ],
   "source": [
    "# for gmm\n",
    "clf = DecisionTreeClassifier()\n",
    "drop_col=[c for c in clean_data.columns.tolist() if 'cluster' in c]\n",
    "x=clean_data.drop(drop_col, axis=1).values \n",
    "y=clean_data['gmm_'+str(top_2_gmm)+'_cluster']\n",
    "clf.fit(x, y)\n",
    "feat_importance = clf.tree_.compute_feature_importances(normalize=False)\n",
    "print(\"feat importance = \" + str(feat_importance))\n",
    "good_features=[]\n",
    "for importance, name in sorted(zip(clf.feature_importances_, clean_data.drop(['gmm_'+str(top_2_gmm)+'_cluster'], axis=1).columns),reverse=True)[:5]:\n",
    "    print (name, importance)\n",
    "    good_features.append(name)\n",
    "    \n",
    "good_features\n",
    "\n",
    "for c in good_features:\n",
    "        ax1 = plt.subplot(221)\n",
    "        my_df=clean_data.groupby('gmm_'+str(top_2_gmm)+'_cluster')[c].mean().reset_index()\n",
    "        my_df.plot(x='gmm_'+str(top_2_gmm)+'_cluster', y=c, kind='bar',ax=ax1,figsize=(10, 5)) \n",
    "        plt.title('mean of '+c+' in clusters')\n",
    "        my_df=clean_data.groupby('gmm_'+str(top_2_gmm)+'_cluster')[c].std().reset_index()\n",
    "        ax2 = plt.subplot(222)\n",
    "        my_df.plot(x='gmm_'+str(top_2_gmm)+'_cluster', y=c, kind='bar',ax=ax2,figsize=(10, 5)) \n",
    "        plt.title('SD of '+c+' in clusters')\n",
    "        plt.show()    \n",
    "        \n",
    "\n"
   ]
  },
  {
   "cell_type": "code",
   "execution_count": null,
   "metadata": {},
   "outputs": [],
   "source": []
  },
  {
   "cell_type": "code",
   "execution_count": 352,
   "metadata": {},
   "outputs": [
    {
     "data": {
      "text/plain": [
       "[0, 1, 2, 3, 4, 'y']"
      ]
     },
     "execution_count": 352,
     "metadata": {},
     "output_type": "execute_result"
    }
   ],
   "source": []
  },
  {
   "cell_type": "markdown",
   "metadata": {},
   "source": [
    "## Plot SVD components with cluster"
   ]
  },
  {
   "cell_type": "code",
   "execution_count": 355,
   "metadata": {},
   "outputs": [
    {
     "data": {
      "image/png": "[encoded data removed]",
      "text/plain": [
       "<Figure size 720x360 with 2 Axes>"
      ]
     },
     "metadata": {
      "needs_background": "light"
     },
     "output_type": "display_data"
    },
    {
     "data": {
      "image/png": "[encoded data removed]",
      "text/plain": [
       "<Figure size 720x360 with 2 Axes>"
      ]
     },
     "metadata": {
      "needs_background": "light"
     },
     "output_type": "display_data"
    },
    {
     "data": {
      "image/png": "[encoded data removed]",
      "text/plain": [
       "<Figure size 720x360 with 2 Axes>"
      ]
     },
     "metadata": {
      "needs_background": "light"
     },
     "output_type": "display_data"
    },
    {
     "data": {
      "image/png": "[encoded data removed]",
      "text/plain": [
       "<Figure size 720x360 with 2 Axes>"
      ]
     },
     "metadata": {
      "needs_background": "light"
     },
     "output_type": "display_data"
    },
    {
     "data": {
      "image/png": "[encoded data removed]",
      "text/plain": [
       "<Figure size 720x360 with 2 Axes>"
      ]
     },
     "metadata": {
      "needs_background": "light"
     },
     "output_type": "display_data"
    }
   ],
   "source": [
    "t=pd.DataFrame(np.array(x_orig))\n",
    "t['y']=clean_data['gmm_4_cluster']\n",
    "t\n",
    "\n",
    "# plot with svd components\n",
    "for c in t.columns.tolist():\n",
    "        if c=='y':\n",
    "            continue\n",
    "        ax1 = plt.subplot(221)\n",
    "        my_df=t.groupby('y')[c].mean().reset_index()\n",
    "        my_df.plot(x='y', y=c, kind='bar',ax=ax1,figsize=(10, 5)) \n",
    "        plt.title('mean of component '+str(c)+' in clusters')\n",
    "        my_df=t.groupby('y')[c].std().reset_index()\n",
    "        ax2 = plt.subplot(222)\n",
    "        my_df.plot(x='y', y=c, kind='bar',ax=ax2,figsize=(10, 5)) \n",
    "        plt.title('SD of component'+str(c)+' in clusters')\n",
    "        plt.show()    \n",
    "\n",
    "        "
   ]
  },
  {
   "cell_type": "code",
   "execution_count": 347,
   "metadata": {},
   "outputs": [
    {
     "data": {
      "text/plain": [
       "Index([0, 1, 2, 3, 4, 'y'], dtype='object')"
      ]
     },
     "execution_count": 347,
     "metadata": {},
     "output_type": "execute_result"
    }
   ],
   "source": [
    "t.columns"
   ]
  },
  {
   "cell_type": "code",
   "execution_count": null,
   "metadata": {},
   "outputs": [],
   "source": []
  }
 ],
 "metadata": {
  "kernelspec": {
   "display_name": "Python 3",
   "language": "python",
   "name": "python3"
  },
  "language_info": {
   "codemirror_mode": {
    "name": "ipython",
    "version": 3
   },
   "file_extension": ".py",
   "mimetype": "text/x-python",
   "name": "python",
   "nbconvert_exporter": "python",
   "pygments_lexer": "ipython3",
   "version": "3.7.6"
  }
 },
 "nbformat": 4,
 "nbformat_minor": 4
}
