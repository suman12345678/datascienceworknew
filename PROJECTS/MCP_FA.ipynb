{
 "cells": [
  {
   "cell_type": "markdown",
   "metadata": {},
   "source": [
    "## MCA of twitter data"
   ]
  },
  {
   "cell_type": "markdown",
   "metadata": {},
   "source": [
    "## Import required python libraries"
   ]
  },
  {
   "cell_type": "code",
   "execution_count": 1,
   "metadata": {},
   "outputs": [
    {
     "name": "stderr",
     "output_type": "stream",
     "text": [
      "/opt/conda/lib/python3.7/site-packages/gensim/corpora/dictionary.py:11: DeprecationWarning: Using or importing the ABCs from 'collections' instead of from 'collections.abc' is deprecated since Python 3.3,and in 3.9 it will stop working\n",
      "  from collections import Mapping, defaultdict\n",
      "/opt/conda/lib/python3.7/site-packages/scipy/sparse/sparsetools.py:21: DeprecationWarning: `scipy.sparse.sparsetools` is deprecated!\n",
      "scipy.sparse.sparsetools is a private module for scipy.sparse, and should not be used.\n",
      "  _deprecated()\n"
     ]
    }
   ],
   "source": [
    "\n",
    "from factor_analyzer import FactorAnalyzer\n",
    "from sklearn.decomposition import FactorAnalysis\n",
    "import matplotlib.pyplot as plt\n",
    "\n",
    "from sklearn.feature_extraction.text import CountVectorizer\n",
    "from sklearn.feature_extraction.text import TfidfVectorizer\n",
    "from sklearn.linear_model import LogisticRegression\n",
    "from sklearn.model_selection import train_test_split\n",
    "from sklearn.dummy import DummyClassifier\n",
    "from string import punctuation\n",
    "from sklearn import svm\n",
    "from nltk.corpus import stopwords\n",
    "from nltk.stem import WordNetLemmatizer\n",
    "import nltk\n",
    "import pyap\n",
    "from nltk import ngrams\n",
    "from itertools import chain\n",
    "import tables\n",
    "from google.cloud import bigquery\n",
    "from datetime import datetime, timedelta\n",
    "import time\n",
    "import json\n",
    "import pandas as pd\n",
    "import csv\n",
    "import re #regular expression\n",
    "from textblob import TextBlob\n",
    "import string\n",
    "import preprocessor as p\n",
    "import re\n",
    "import nltk\n",
    "from nltk.corpus import stopwords\n",
    "from nltk.stem.wordnet import WordNetLemmatizer\n",
    "import os.path\n",
    "pd.options.display.max_colwidth = 500\n",
    "import collections\n",
    "from wordcloud import WordCloud, STOPWORDS\n",
    "import matplotlib.pyplot as plt\n",
    "import numpy as np\n",
    "import pyLDAvis.sklearn\n",
    "import seaborn as sns\n",
    "from sklearn.feature_extraction.text import CountVectorizer, TfidfVectorizer\n",
    "from sklearn.decomposition import NMF\n",
    "from sklearn.model_selection import GridSearchCV\n",
    "from sklearn.decomposition import LatentDirichletAllocation as LDA\n",
    "import pyLDAvis\n",
    "import pyLDAvis.gensim  \n",
    "from pprint import pprint\n",
    "import gensim\n",
    "import gensim\n",
    "import gensim.corpora as corpora\n",
    "from gensim.utils import simple_preprocess\n",
    "from gensim.models import CoherenceModel"
   ]
  },
  {
   "cell_type": "markdown",
   "metadata": {},
   "source": [
    "## Parameter list from user"
   ]
  },
  {
   "cell_type": "code",
   "execution_count": 12,
   "metadata": {},
   "outputs": [],
   "source": [
    "# Data cleanning: words to ignore; as the texts are about roof ignoring them\n",
    "mystopwords=['rt','https','cc','one','amp','thru','see','going','got','day','know','youre','gonna','thats']      \n",
    "\n",
    "weather = [\"rain\", \"hail\", \"tornado\", \"twister\", \"hurricane\"]\n",
    "business = [\"roof\", \"roofing\", \"leak\", \"shingles\", \"metal roofs\", \"asphalt shingles\",\"roofing\",\"roof\",\"RoofingContractors\",\n",
    "            \"roofers\",\"house\",\"building\",\"price\",\"pricing\", \"buy new house\", \"estimate\",]\n",
    "others = [\"isnpection\", \"maintanance\", \"quote\", \n",
    "          \"covid19\", 'virus', 'coronavirus', 'corona virus', 'pandemic', 'corona', 'covid']\n",
    "good_feelings=['like','good','right','love','well']\n",
    "bad_feelings=['anxiety','cant','dont']\n",
    "\n",
    "usa_locations=['United States','USA',\n",
    "'Alabama','AL','Montana','MT',\n",
    "'Alaska','AK','Nebraska','NE',\n",
    "'Arizona','AZ','Nevada','NV',\n",
    "'Arkansas','AR','New Hampshire','NH',\n",
    "'California','CA','New Jersey','NJ',\n",
    "'Colorado','CO','New Mexico','NM',\n",
    "'Connecticut','CT','New York','NY',\n",
    "'Delaware','DE','North Carolina','NC',\n",
    "'Florida','FL','North Dakota','ND',\n",
    "'Georgia','GA','Ohio','OH',\n",
    "'Hawaii','HI','Oklahoma','OK',\n",
    "'Idaho','ID','Oregon','OR',\n",
    "'Illinois','IL','Pennsylvania','PA',\n",
    "'Indiana','IN','Rhode Island','RI',\n",
    "'Iowa','IA','South Carolina','SC',\n",
    "'Kansas','KS','South Dakota','SD',\n",
    "'Kentucky','KY','Tennessee','TN',\n",
    "'Louisiana','LA','Texas','TX',\n",
    "'Maine','ME','Utah','UT',\n",
    "'Maryland','MD','Vermont','VT',\n",
    "'Massachusetts','MA','Virginia','VA',\n",
    "'Michigan','MI','Washington','WA',\n",
    "'Minnesota','MN','West Virginia','WV',\n",
    "'Mississippi','MS','Wisconsin','WI',\n",
    "'Missouri','MO','Wyoming','WY']\n",
    "\n",
    "\n",
    "usa_states_dict={'alabama':'AL','montana':'MT',\n",
    "'alaska':'AK','nebraska':'NE',\n",
    "'arizona':'AZ','nevada':'NV',\n",
    "'arkansas':'AR','new hampshire':'NH',\n",
    "'california':'CA','new jersey':'NJ',\n",
    "'colorado':'CO','new mexico':'NM',\n",
    "'connecticut':'CT','new york':'NY',\n",
    "'delaware':'DE','north carolina':'NC',\n",
    "'florida':'FL','north dakota':'ND',\n",
    "'georgia':'GA','ohio':'OH',\n",
    "'hawaii':'HI','oklahoma':'OK',\n",
    "'idaho':'ID','oregon':'OR',\n",
    "'illinois':'IL','pennsylvania':'PA',\n",
    "'indiana':'IN','rhode island':'RI',\n",
    "'iowa':'IA','south carolina':'SC',\n",
    "'kansas':'KS','south dakota':'SD',\n",
    "'kentucky':'KY','tennessee':'TN',\n",
    "'louisiana':'LA','texas':'TX',\n",
    "'maine':'ME','utah':'UT',\n",
    "'maryland':'MD','vermont':'VT',\n",
    "'massachusetts':'MA','virginia':'VA',\n",
    "'michigan':'MI','washington':'WA',\n",
    "'minnesota':'MN','west virginia':'WV',\n",
    "'mississippi':'MS','wisconsin':'WI',\n",
    "'missouri':'MO','wyoming':'WY'}\n",
    "\n",
    "usa_country=['United States','USA','united states of america']\n",
    "\n",
    "usa_states=['Alabama','AL','Montana','MT',\n",
    "'Alaska','AK','Nebraska','NE',\n",
    "'Arizona','AZ','Nevada','NV',\n",
    "'Arkansas','AR','New Hampshire','NH',\n",
    "'California','CA','New Jersey','NJ',\n",
    "'Colorado','CO','New Mexico','NM',\n",
    "'Connecticut','CT','New York','NY',\n",
    "'Delaware','DE','North Carolina','NC',\n",
    "'Florida','FL','North Dakota','ND',\n",
    "'Georgia','GA','Ohio','OH',\n",
    "'Hawaii','HI','Oklahoma','OK',\n",
    "'Idaho','ID','Oregon','OR',\n",
    "'Illinois','IL','Pennsylvania','PA',\n",
    "'Indiana','IN','Rhode Island','RI',\n",
    "'Iowa','IA','South Carolina','SC',\n",
    "'Kansas','KS','South Dakota','SD',\n",
    "'Kentucky','KY','Tennessee','TN',\n",
    "'Louisiana','LA','Texas','TX',\n",
    "'Maine','ME','Utah','UT',\n",
    "'Maryland','MD','Vermont','VT',\n",
    "'Massachusetts','MA','Virginia','VA',\n",
    "'Michigan','MI','Washington','WA',\n",
    "'Minnesota','MN','West Virginia','WV',\n",
    "'Mississippi','MS','Wisconsin','WI',\n",
    "'Missouri','MO','Wyoming','WY']\n",
    "\n",
    "usa_cities=['Los Angeles','California','New York','Texas','Chicago','Washington','Houston',\n",
    " 'San Francisco','Atlanta','Seattle','Brooklyn','Boston','Dallas','Michigan','Las Vegas','Austin','Pennsylvania',\n",
    " 'New Jersey','Philadelphia','San Diego','Miami','Denver','NYC']\n"
   ]
  },
  {
   "cell_type": "markdown",
   "metadata": {},
   "source": [
    "## Read from bigquery"
   ]
  },
  {
   "cell_type": "code",
   "execution_count": 13,
   "metadata": {},
   "outputs": [
    {
     "name": "stdout",
     "output_type": "stream",
     "text": [
      "Client creating using default project: gaf-np-ds\n"
     ]
    },
    {
     "name": "stderr",
     "output_type": "stream",
     "text": [
      "Downloading: 100%|██████████| 65592/65592 [00:09<00:00, 7270.50rows/s]\n"
     ]
    },
    {
     "data": {
      "text/plain": [
       "(65592, 15)"
      ]
     },
     "execution_count": 13,
     "metadata": {},
     "output_type": "execute_result"
    }
   ],
   "source": [
    "client = bigquery.Client(location=\"US\")\n",
    "print(\"Client creating using default project: {}\".format(client.project))\n",
    "# read data\n",
    "query = \"\"\"\n",
    "    select * FROM `gaf-np-ds.twitter_analysis.twitter_data_clean`  \n",
    "\"\"\"\n",
    "raw_data = pd.read_gbq(query, dialect='standard')\n",
    "raw_data.shape"
   ]
  },
  {
   "cell_type": "code",
   "execution_count": null,
   "metadata": {},
   "outputs": [],
   "source": []
  },
  {
   "cell_type": "code",
   "execution_count": null,
   "metadata": {},
   "outputs": [],
   "source": []
  },
  {
   "cell_type": "code",
   "execution_count": 14,
   "metadata": {},
   "outputs": [
    {
     "name": "stdout",
     "output_type": "stream",
     "text": [
      "Total no of data 65592\n",
      "No of data where user location available 33475\n",
      "No of unique text  57801\n"
     ]
    }
   ],
   "source": [
    "print('Total no of data',raw_data.shape[0])\n",
    "print('No of data where user location available',sum(list(raw_data['user_location'].value_counts())))\n",
    "#print('No of data where user location United States',raw_data[raw_data.user_location.str.contains('|'.join(usa_locations),na=False)].shape[0])\n",
    "print('No of unique text ',raw_data.drop_duplicates(['text']).shape[0])\n",
    "unique_text=raw_data.drop_duplicates(['text'])\n",
    "#print('No of texts with roof in unique text',unique_text[unique_text.text.str.contains('|'.join(['roof']))].shape[0])"
   ]
  },
  {
   "cell_type": "markdown",
   "metadata": {},
   "source": []
  },
  {
   "cell_type": "code",
   "execution_count": 15,
   "metadata": {},
   "outputs": [],
   "source": [
    "#list(data['user_location'].value_counts().index)\n"
   ]
  },
  {
   "cell_type": "code",
   "execution_count": null,
   "metadata": {},
   "outputs": [],
   "source": []
  },
  {
   "cell_type": "markdown",
   "metadata": {},
   "source": [
    "## Apply required extra filter on downloaded data from twitter\n",
    "#### Filter data where user_location 'USA' or blank\n"
   ]
  },
  {
   "cell_type": "code",
   "execution_count": 16,
   "metadata": {},
   "outputs": [
    {
     "name": "stdout",
     "output_type": "stream",
     "text": [
      "(64307, 15)\n"
     ]
    }
   ],
   "source": [
    "textdata=raw_data[raw_data.user_location.str.contains('|'.join(usa_locations),na=False)]\n",
    "textdatanull=raw_data[raw_data['user_location'].isna()]\n",
    "textdata=pd.concat([textdata,textdatanull])\n",
    "\n",
    "\n",
    "print(textdata.shape)"
   ]
  },
  {
   "cell_type": "code",
   "execution_count": 17,
   "metadata": {},
   "outputs": [],
   "source": [
    "# we can get only last 1 week data\n",
    "#temp=data.copy()\n",
    "#temp['Created_dt']=temp['Created'].apply(lambda x: pd.to_datetime(x).date())\n",
    "#temp=temp[temp['Created_dt'].astype('str')=='2020-04-19']\n",
    "#temp=temp.drop_duplicates(subset={'text'})"
   ]
  },
  {
   "cell_type": "markdown",
   "metadata": {},
   "source": [
    "## Cleanning text data before getting insights"
   ]
  },
  {
   "cell_type": "code",
   "execution_count": 18,
   "metadata": {},
   "outputs": [
    {
     "name": "stdout",
     "output_type": "stream",
     "text": [
      "12774                                                       aaaaaaagh hype levels roof\n",
      "43967             aaaaaaand goes fourth wall least nicole falls roof itll slide rather\n",
      "22174    aaaah umbrella soooo tearjerker also sadaharu overgrown kagura stays top roof\n",
      "8025                                                   aaaand goes anxiety levels roof\n",
      "46632                                                    aaaand goes shaman bitch roof\n",
      "Name: text, dtype: object\n",
      "no of unique sentences 56725\n"
     ]
    }
   ],
   "source": [
    "# Display one duplicate\n",
    "print(textdata.sort_values('text')['text'][:5])  # some instances of duplicate\n",
    "print('no of unique sentences',len(textdata['text'].unique()))"
   ]
  },
  {
   "cell_type": "markdown",
   "metadata": {},
   "source": [
    "#### Remove duplicate text, convert to lowercase, create a column with the hashtag used"
   ]
  },
  {
   "cell_type": "code",
   "execution_count": 19,
   "metadata": {},
   "outputs": [
    {
     "name": "stdout",
     "output_type": "stream",
     "text": [
      "(56725, 15)\n"
     ]
    }
   ],
   "source": [
    "# Drop duplicate\n",
    "textdata=textdata.copy()\n",
    "\n",
    "textdata=textdata.drop_duplicates(subset={'text'})\n",
    "print(textdata.shape)\n",
    "\n",
    "#convert to lower\n",
    "textdata['text']=textdata['text'].apply(lambda x: x.lower() if pd.notnull(x) else '').copy()\n"
   ]
  },
  {
   "cell_type": "code",
   "execution_count": 20,
   "metadata": {},
   "outputs": [],
   "source": [
    "# remove words covid related as those are dominating string\n",
    "#textdata=textdata.copy()\n",
    "#textdata = textdata[~textdata.text.str.contains('|'.join(excludewords))]\n",
    "#print('Shape of df',textdata.shape)                    "
   ]
  },
  {
   "cell_type": "code",
   "execution_count": 21,
   "metadata": {},
   "outputs": [
    {
     "data": {
      "text/plain": [
       "0                                                                  start roof\n",
       "1                                                 homemade stuff roof friends\n",
       "2    sandy hook mother emanuel charleston dylan roof trayvon martin shootings\n",
       "3                                       wanna sit roof somebody talk whatever\n",
       "4                                           construction software ipo delayed\n",
       "Name: text, dtype: object"
      ]
     },
     "execution_count": 21,
     "metadata": {},
     "output_type": "execute_result"
    }
   ],
   "source": [
    "textdata['text'].head(5)"
   ]
  },
  {
   "cell_type": "markdown",
   "metadata": {},
   "source": [
    "#### Remove website names, remove the names whome text was retweeted, removed punctuations, digits, removed english stopwords, kept only alphabetic chracters, used lemmetization(original form of words : cats--> cat)"
   ]
  },
  {
   "cell_type": "code",
   "execution_count": 22,
   "metadata": {},
   "outputs": [
    {
     "name": "stdout",
     "output_type": "stream",
     "text": [
      "No of unique words before stem 38367\n",
      "No of unique words after stemming 38367\n",
      "No of unique words after lemetization 38367\n"
     ]
    }
   ],
   "source": [
    "textdata=textdata.copy()\n",
    "\n",
    "#remove website name\n",
    "textdata['text']=textdata['text'].apply(lambda x: re.sub(r'https?:\\/\\/.*[\\r\\n]*', '', x, flags=re.MULTILINE))\n",
    "                                        \n",
    "#remove RT retweet to subject\n",
    "textdata['text']=textdata['text'].apply(lambda x: re.sub(r'@(\\w+)', r'', x))\n",
    "\n",
    "# clean punc\n",
    "def cleanpuncdigit(sentence):\n",
    "    cleaned=re.sub(r'[-|\\|(|)|.|,|:|/|?|!|\"|#]',r' ',sentence)\n",
    "    cleaned=re.sub(r'[\\d+]',r' ',cleaned)    \n",
    "    cleaned=re.sub(r'[\\'|’]',r'',cleaned)    #won't wont\n",
    "    return cleaned\n",
    "textdata['text']=textdata['text'].apply(cleanpuncdigit)\n",
    "\n",
    "#remove stopwords\n",
    "stop=set(stopwords.words('english'))\n",
    "stop.update(mystopwords)\n",
    "textdata['text']=textdata['text'].apply(lambda x : ' '.join([item for item in x.split() if item not in stop]))\n",
    "\n",
    "l=textdata['text'].str.lower().str.split().tolist()\n",
    "print('No of unique words before stem',len(set([item for sublist in l for item in sublist])))\n",
    "\n",
    "# Stemming this is not giving correct words so commenting\n",
    "#sno=nltk.stem.snowball.SnowballStemmer('english')\n",
    "#textdata['text'] = textdata['text'].apply(lambda x: ' '.join([sno.stem(y) for y in x.split()])) # Stem every word.\n",
    "#sno.stem('coming come programers programer, programming going')\n",
    "\n",
    "l=textdata['text'].str.lower().str.split().tolist()\n",
    "print('No of unique words after stemming',len(set([item for sublist in l for item in sublist])))\n",
    "\n",
    "# keep only alphabetic character remove whitespace\n",
    "textdata['text']=textdata['text'].apply(lambda x: re.sub(r'[^A-Za-z]', ' ', x))\n",
    "textdata['text']=textdata['text'].apply(lambda x: x.strip())\n",
    "\n",
    "# Lemmetization we are removing for now\n",
    "w_tokenizer = nltk.tokenize.WhitespaceTokenizer()\n",
    "lemmatizer = nltk.stem.WordNetLemmatizer()\n",
    "def lemmatize_text(text):\n",
    "    return ' '.join([lemmatizer.lemmatize(w) for w in w_tokenizer.tokenize(text)])\n",
    "#textdata['text']=textdata['text'].apply(lemmatize_text)\n",
    "\n",
    "l=textdata['text'].str.lower().str.split().tolist()\n",
    "print('No of unique words after lemetization',len(set([item for sublist in l for item in sublist])))\n",
    "\n",
    "#remove words with len<2\n",
    "textdata['text']=textdata['text'].apply(lambda x: ' '.join([w for w in x.split() if len(w)>2]))"
   ]
  },
  {
   "cell_type": "code",
   "execution_count": 23,
   "metadata": {},
   "outputs": [
    {
     "name": "stdout",
     "output_type": "stream",
     "text": [
      "No of unique words 38367\n"
     ]
    }
   ],
   "source": [
    "l=textdata['text'].str.lower().str.split().tolist()\n",
    "print('No of unique words',len(set([item for sublist in l for item in sublist])))"
   ]
  },
  {
   "cell_type": "code",
   "execution_count": 24,
   "metadata": {},
   "outputs": [
    {
     "data": {
      "text/plain": [
       "0                                                                  start roof\n",
       "1                                                 homemade stuff roof friends\n",
       "2    sandy hook mother emanuel charleston dylan roof trayvon martin shootings\n",
       "3                                       wanna sit roof somebody talk whatever\n",
       "4                                           construction software ipo delayed\n",
       "5                                                      havent roof quarentine\n",
       "6                        pigeons roof like ghost dawg deight howard post dawg\n",
       "7                 hell yeah fasho camera angles notice camera man jumped roof\n",
       "8              street roof view ndstreet chryslerbuilding chryslerbuildingnyc\n",
       "9                                                     would send anxiety roof\n",
       "Name: text, dtype: object"
      ]
     },
     "execution_count": 24,
     "metadata": {},
     "output_type": "execute_result"
    }
   ],
   "source": [
    "textdata['text'].head(10)"
   ]
  },
  {
   "cell_type": "markdown",
   "metadata": {},
   "source": [
    "#### Filter the texts with word roof\n"
   ]
  },
  {
   "cell_type": "code",
   "execution_count": 25,
   "metadata": {},
   "outputs": [
    {
     "data": {
      "text/plain": [
       "0                                                                  start roof\n",
       "1                                                 homemade stuff roof friends\n",
       "2    sandy hook mother emanuel charleston dylan roof trayvon martin shootings\n",
       "3                                       wanna sit roof somebody talk whatever\n",
       "5                                                      havent roof quarentine\n",
       "Name: text, dtype: object"
      ]
     },
     "execution_count": 25,
     "metadata": {},
     "output_type": "execute_result"
    }
   ],
   "source": [
    "textdata[textdata.text.str.contains('|'.join(['roof','roofing']))]['text'].head(5)\n"
   ]
  },
  {
   "cell_type": "markdown",
   "metadata": {},
   "source": [
    "## Word frequency"
   ]
  },
  {
   "cell_type": "code",
   "execution_count": 26,
   "metadata": {},
   "outputs": [
    {
     "data": {
      "text/plain": [
       "roof        53215\n",
       "like         3328\n",
       "roofing      3188\n",
       "get          2532\n",
       "anxiety      2418\n",
       "head         2407\n",
       "house        1865\n",
       "new          1820\n",
       "dont         1795\n",
       "would        1744\n",
       "top          1627\n",
       "mouth        1582\n",
       "time         1524\n",
       "people       1454\n",
       "today        1451\n",
       "need         1450\n",
       "home         1236\n",
       "food         1213\n",
       "good         1205\n",
       "right        1197\n",
       "back         1113\n",
       "love         1066\n",
       "cant         1064\n",
       "work         1028\n",
       "want         1006\n",
       "think        1001\n",
       "put           992\n",
       "car           973\n",
       "still         963\n",
       "really        934\n",
       "keep          916\n",
       "jump          894\n",
       "make          875\n",
       "building      805\n",
       "rain          795\n",
       "even          774\n",
       "live          752\n",
       "could         749\n",
       "well          748\n",
       "last          744\n",
       "went          741\n",
       "shit          733\n",
       "take          732\n",
       "man           727\n",
       "every         714\n",
       "getting       712\n",
       "lol           705\n",
       "family        705\n",
       "sun           705\n",
       "tin           701\n",
       "dtype: int64"
      ]
     },
     "execution_count": 26,
     "metadata": {},
     "output_type": "execute_result"
    }
   ],
   "source": [
    "pd.Series(' '.join(textdata.text).split()).value_counts()[:50]\n"
   ]
  },
  {
   "cell_type": "markdown",
   "metadata": {},
   "source": [
    "#### Create business, weather, others column and ultimately create crosstab"
   ]
  },
  {
   "cell_type": "code",
   "execution_count": 27,
   "metadata": {},
   "outputs": [
    {
     "data": {
      "text/html": [
       "<div>\n",
       "<style scoped>\n",
       "    .dataframe tbody tr th:only-of-type {\n",
       "        vertical-align: middle;\n",
       "    }\n",
       "\n",
       "    .dataframe tbody tr th {\n",
       "        vertical-align: top;\n",
       "    }\n",
       "\n",
       "    .dataframe thead th {\n",
       "        text-align: right;\n",
       "    }\n",
       "</style>\n",
       "<table border=\"1\" class=\"dataframe\">\n",
       "  <thead>\n",
       "    <tr style=\"text-align: right;\">\n",
       "      <th></th>\n",
       "      <th>Author</th>\n",
       "      <th>Screenname</th>\n",
       "      <th>Created</th>\n",
       "      <th>text</th>\n",
       "      <th>place_name</th>\n",
       "      <th>country</th>\n",
       "      <th>place_type</th>\n",
       "      <th>user_location</th>\n",
       "      <th>user_geo_loc</th>\n",
       "      <th>tag</th>\n",
       "      <th>reply_to</th>\n",
       "      <th>Sentiment</th>\n",
       "      <th>rating</th>\n",
       "      <th>state_extracted</th>\n",
       "      <th>country_extracted</th>\n",
       "      <th>weather</th>\n",
       "    </tr>\n",
       "  </thead>\n",
       "  <tbody>\n",
       "    <tr>\n",
       "      <th>0</th>\n",
       "      <td>sweeterman</td>\n",
       "      <td>damydothedishes</td>\n",
       "      <td>2020-04-30 14:16:29</td>\n",
       "      <td>start roof</td>\n",
       "      <td>None</td>\n",
       "      <td>None</td>\n",
       "      <td>None</td>\n",
       "      <td>ATX</td>\n",
       "      <td>None</td>\n",
       "      <td>[]</td>\n",
       "      <td>[]</td>\n",
       "      <td>neutral</td>\n",
       "      <td>0.0</td>\n",
       "      <td>None</td>\n",
       "      <td>None</td>\n",
       "      <td></td>\n",
       "    </tr>\n",
       "    <tr>\n",
       "      <th>1</th>\n",
       "      <td>Ahmed</td>\n",
       "      <td>Asheihab</td>\n",
       "      <td>2020-04-30 19:56:39</td>\n",
       "      <td>homemade stuff roof friends</td>\n",
       "      <td>None</td>\n",
       "      <td>None</td>\n",
       "      <td>None</td>\n",
       "      <td>CAI</td>\n",
       "      <td>None</td>\n",
       "      <td>[]</td>\n",
       "      <td>['hawtstuffdotcom']</td>\n",
       "      <td>neutral</td>\n",
       "      <td>0.0</td>\n",
       "      <td>None</td>\n",
       "      <td>None</td>\n",
       "      <td></td>\n",
       "    </tr>\n",
       "  </tbody>\n",
       "</table>\n",
       "</div>"
      ],
      "text/plain": [
       "       Author       Screenname              Created  \\\n",
       "0  sweeterman  damydothedishes  2020-04-30 14:16:29   \n",
       "1       Ahmed         Asheihab  2020-04-30 19:56:39   \n",
       "\n",
       "                          text place_name country place_type user_location  \\\n",
       "0                   start roof       None    None       None           ATX   \n",
       "1  homemade stuff roof friends       None    None       None           CAI   \n",
       "\n",
       "  user_geo_loc tag             reply_to Sentiment  rating state_extracted  \\\n",
       "0         None  []                   []   neutral     0.0            None   \n",
       "1         None  []  ['hawtstuffdotcom']   neutral     0.0            None   \n",
       "\n",
       "  country_extracted weather  \n",
       "0              None          \n",
       "1              None          "
      ]
     },
     "execution_count": 27,
     "metadata": {},
     "output_type": "execute_result"
    }
   ],
   "source": [
    "def unique_col(col):\n",
    "    return ','.join(set(col.split(',')))\n",
    "\n",
    "temp = textdata.text.str.findall('(' + '|'.join(weather) + ')', flags=re.IGNORECASE),\n",
    "#print(temp)\n",
    "textdata[\"weather\"] = temp[0].str.join(',')\n",
    "textdata['weather'] = textdata.weather.apply(unique_col)\n",
    "textdata.head(2)\n"
   ]
  },
  {
   "cell_type": "code",
   "execution_count": 28,
   "metadata": {},
   "outputs": [
    {
     "data": {
      "text/html": [
       "<div>\n",
       "<style scoped>\n",
       "    .dataframe tbody tr th:only-of-type {\n",
       "        vertical-align: middle;\n",
       "    }\n",
       "\n",
       "    .dataframe tbody tr th {\n",
       "        vertical-align: top;\n",
       "    }\n",
       "\n",
       "    .dataframe thead th {\n",
       "        text-align: right;\n",
       "    }\n",
       "</style>\n",
       "<table border=\"1\" class=\"dataframe\">\n",
       "  <thead>\n",
       "    <tr style=\"text-align: right;\">\n",
       "      <th></th>\n",
       "      <th>Author</th>\n",
       "      <th>Screenname</th>\n",
       "      <th>Created</th>\n",
       "      <th>text</th>\n",
       "      <th>place_name</th>\n",
       "      <th>country</th>\n",
       "      <th>place_type</th>\n",
       "      <th>user_location</th>\n",
       "      <th>user_geo_loc</th>\n",
       "      <th>tag</th>\n",
       "      <th>reply_to</th>\n",
       "      <th>Sentiment</th>\n",
       "      <th>rating</th>\n",
       "      <th>state_extracted</th>\n",
       "      <th>country_extracted</th>\n",
       "      <th>weather</th>\n",
       "      <th>business</th>\n",
       "    </tr>\n",
       "  </thead>\n",
       "  <tbody>\n",
       "    <tr>\n",
       "      <th>0</th>\n",
       "      <td>sweeterman</td>\n",
       "      <td>damydothedishes</td>\n",
       "      <td>2020-04-30 14:16:29</td>\n",
       "      <td>start roof</td>\n",
       "      <td>None</td>\n",
       "      <td>None</td>\n",
       "      <td>None</td>\n",
       "      <td>ATX</td>\n",
       "      <td>None</td>\n",
       "      <td>[]</td>\n",
       "      <td>[]</td>\n",
       "      <td>neutral</td>\n",
       "      <td>0.0</td>\n",
       "      <td>None</td>\n",
       "      <td>None</td>\n",
       "      <td></td>\n",
       "      <td>roof</td>\n",
       "    </tr>\n",
       "    <tr>\n",
       "      <th>1</th>\n",
       "      <td>Ahmed</td>\n",
       "      <td>Asheihab</td>\n",
       "      <td>2020-04-30 19:56:39</td>\n",
       "      <td>homemade stuff roof friends</td>\n",
       "      <td>None</td>\n",
       "      <td>None</td>\n",
       "      <td>None</td>\n",
       "      <td>CAI</td>\n",
       "      <td>None</td>\n",
       "      <td>[]</td>\n",
       "      <td>['hawtstuffdotcom']</td>\n",
       "      <td>neutral</td>\n",
       "      <td>0.0</td>\n",
       "      <td>None</td>\n",
       "      <td>None</td>\n",
       "      <td></td>\n",
       "      <td>roof</td>\n",
       "    </tr>\n",
       "  </tbody>\n",
       "</table>\n",
       "</div>"
      ],
      "text/plain": [
       "       Author       Screenname              Created  \\\n",
       "0  sweeterman  damydothedishes  2020-04-30 14:16:29   \n",
       "1       Ahmed         Asheihab  2020-04-30 19:56:39   \n",
       "\n",
       "                          text place_name country place_type user_location  \\\n",
       "0                   start roof       None    None       None           ATX   \n",
       "1  homemade stuff roof friends       None    None       None           CAI   \n",
       "\n",
       "  user_geo_loc tag             reply_to Sentiment  rating state_extracted  \\\n",
       "0         None  []                   []   neutral     0.0            None   \n",
       "1         None  []  ['hawtstuffdotcom']   neutral     0.0            None   \n",
       "\n",
       "  country_extracted weather business  \n",
       "0              None             roof  \n",
       "1              None             roof  "
      ]
     },
     "execution_count": 28,
     "metadata": {},
     "output_type": "execute_result"
    }
   ],
   "source": [
    "temp = textdata.text.str.findall('(' + '|'.join(business) + ')', flags=re.IGNORECASE),\n",
    "textdata[\"business\"] = temp[0].str.join(',')\n",
    "textdata['business'] = textdata.business.apply(unique_col)\n",
    "textdata.head(2)\n"
   ]
  },
  {
   "cell_type": "code",
   "execution_count": 29,
   "metadata": {},
   "outputs": [
    {
     "data": {
      "text/html": [
       "<div>\n",
       "<style scoped>\n",
       "    .dataframe tbody tr th:only-of-type {\n",
       "        vertical-align: middle;\n",
       "    }\n",
       "\n",
       "    .dataframe tbody tr th {\n",
       "        vertical-align: top;\n",
       "    }\n",
       "\n",
       "    .dataframe thead th {\n",
       "        text-align: right;\n",
       "    }\n",
       "</style>\n",
       "<table border=\"1\" class=\"dataframe\">\n",
       "  <thead>\n",
       "    <tr style=\"text-align: right;\">\n",
       "      <th></th>\n",
       "      <th>Author</th>\n",
       "      <th>Screenname</th>\n",
       "      <th>Created</th>\n",
       "      <th>text</th>\n",
       "      <th>place_name</th>\n",
       "      <th>country</th>\n",
       "      <th>place_type</th>\n",
       "      <th>user_location</th>\n",
       "      <th>user_geo_loc</th>\n",
       "      <th>tag</th>\n",
       "      <th>reply_to</th>\n",
       "      <th>Sentiment</th>\n",
       "      <th>rating</th>\n",
       "      <th>state_extracted</th>\n",
       "      <th>country_extracted</th>\n",
       "      <th>weather</th>\n",
       "      <th>business</th>\n",
       "      <th>good</th>\n",
       "      <th>bad</th>\n",
       "    </tr>\n",
       "  </thead>\n",
       "  <tbody>\n",
       "    <tr>\n",
       "      <th>0</th>\n",
       "      <td>sweeterman</td>\n",
       "      <td>damydothedishes</td>\n",
       "      <td>2020-04-30 14:16:29</td>\n",
       "      <td>start roof</td>\n",
       "      <td>None</td>\n",
       "      <td>None</td>\n",
       "      <td>None</td>\n",
       "      <td>ATX</td>\n",
       "      <td>None</td>\n",
       "      <td>[]</td>\n",
       "      <td>[]</td>\n",
       "      <td>neutral</td>\n",
       "      <td>0.0</td>\n",
       "      <td>None</td>\n",
       "      <td>None</td>\n",
       "      <td></td>\n",
       "      <td>roof</td>\n",
       "      <td></td>\n",
       "      <td></td>\n",
       "    </tr>\n",
       "    <tr>\n",
       "      <th>1</th>\n",
       "      <td>Ahmed</td>\n",
       "      <td>Asheihab</td>\n",
       "      <td>2020-04-30 19:56:39</td>\n",
       "      <td>homemade stuff roof friends</td>\n",
       "      <td>None</td>\n",
       "      <td>None</td>\n",
       "      <td>None</td>\n",
       "      <td>CAI</td>\n",
       "      <td>None</td>\n",
       "      <td>[]</td>\n",
       "      <td>['hawtstuffdotcom']</td>\n",
       "      <td>neutral</td>\n",
       "      <td>0.0</td>\n",
       "      <td>None</td>\n",
       "      <td>None</td>\n",
       "      <td></td>\n",
       "      <td>roof</td>\n",
       "      <td></td>\n",
       "      <td></td>\n",
       "    </tr>\n",
       "  </tbody>\n",
       "</table>\n",
       "</div>"
      ],
      "text/plain": [
       "       Author       Screenname              Created  \\\n",
       "0  sweeterman  damydothedishes  2020-04-30 14:16:29   \n",
       "1       Ahmed         Asheihab  2020-04-30 19:56:39   \n",
       "\n",
       "                          text place_name country place_type user_location  \\\n",
       "0                   start roof       None    None       None           ATX   \n",
       "1  homemade stuff roof friends       None    None       None           CAI   \n",
       "\n",
       "  user_geo_loc tag             reply_to Sentiment  rating state_extracted  \\\n",
       "0         None  []                   []   neutral     0.0            None   \n",
       "1         None  []  ['hawtstuffdotcom']   neutral     0.0            None   \n",
       "\n",
       "  country_extracted weather business good bad  \n",
       "0              None             roof           \n",
       "1              None             roof           "
      ]
     },
     "execution_count": 29,
     "metadata": {},
     "output_type": "execute_result"
    }
   ],
   "source": [
    "\n",
    "temp = textdata.text.str.findall('(' + '|'.join(good_feelings) + ')', flags=re.IGNORECASE), \n",
    "textdata[\"good\"] = temp[0].str.join(',')\n",
    "textdata['good'] = textdata.good.apply(unique_col)\n",
    "textdata.head(2)\n",
    "\n",
    "temp = textdata.text.str.findall('(' + '|'.join(bad_feelings) + ')', flags=re.IGNORECASE), \n",
    "textdata[\"bad\"] = temp[0].str.join(',')\n",
    "textdata['bad'] = textdata.bad.apply(unique_col)\n",
    "textdata.head(2)\n"
   ]
  },
  {
   "cell_type": "code",
   "execution_count": 30,
   "metadata": {},
   "outputs": [
    {
     "data": {
      "text/html": [
       "<div>\n",
       "<style scoped>\n",
       "    .dataframe tbody tr th:only-of-type {\n",
       "        vertical-align: middle;\n",
       "    }\n",
       "\n",
       "    .dataframe tbody tr th {\n",
       "        vertical-align: top;\n",
       "    }\n",
       "\n",
       "    .dataframe thead th {\n",
       "        text-align: right;\n",
       "    }\n",
       "</style>\n",
       "<table border=\"1\" class=\"dataframe\">\n",
       "  <thead>\n",
       "    <tr style=\"text-align: right;\">\n",
       "      <th></th>\n",
       "      <th>Author</th>\n",
       "      <th>Screenname</th>\n",
       "      <th>Created</th>\n",
       "      <th>text</th>\n",
       "      <th>place_name</th>\n",
       "      <th>country</th>\n",
       "      <th>place_type</th>\n",
       "      <th>user_location</th>\n",
       "      <th>user_geo_loc</th>\n",
       "      <th>tag</th>\n",
       "      <th>reply_to</th>\n",
       "      <th>Sentiment</th>\n",
       "      <th>rating</th>\n",
       "      <th>state_extracted</th>\n",
       "      <th>country_extracted</th>\n",
       "      <th>weather</th>\n",
       "      <th>business</th>\n",
       "      <th>good</th>\n",
       "      <th>bad</th>\n",
       "      <th>others</th>\n",
       "    </tr>\n",
       "  </thead>\n",
       "  <tbody>\n",
       "    <tr>\n",
       "      <th>0</th>\n",
       "      <td>sweeterman</td>\n",
       "      <td>damydothedishes</td>\n",
       "      <td>2020-04-30 14:16:29</td>\n",
       "      <td>start roof</td>\n",
       "      <td>None</td>\n",
       "      <td>None</td>\n",
       "      <td>None</td>\n",
       "      <td>ATX</td>\n",
       "      <td>None</td>\n",
       "      <td>[]</td>\n",
       "      <td>[]</td>\n",
       "      <td>neutral</td>\n",
       "      <td>0.0</td>\n",
       "      <td>None</td>\n",
       "      <td>None</td>\n",
       "      <td></td>\n",
       "      <td>roof</td>\n",
       "      <td></td>\n",
       "      <td></td>\n",
       "      <td></td>\n",
       "    </tr>\n",
       "    <tr>\n",
       "      <th>1</th>\n",
       "      <td>Ahmed</td>\n",
       "      <td>Asheihab</td>\n",
       "      <td>2020-04-30 19:56:39</td>\n",
       "      <td>homemade stuff roof friends</td>\n",
       "      <td>None</td>\n",
       "      <td>None</td>\n",
       "      <td>None</td>\n",
       "      <td>CAI</td>\n",
       "      <td>None</td>\n",
       "      <td>[]</td>\n",
       "      <td>['hawtstuffdotcom']</td>\n",
       "      <td>neutral</td>\n",
       "      <td>0.0</td>\n",
       "      <td>None</td>\n",
       "      <td>None</td>\n",
       "      <td></td>\n",
       "      <td>roof</td>\n",
       "      <td></td>\n",
       "      <td></td>\n",
       "      <td></td>\n",
       "    </tr>\n",
       "  </tbody>\n",
       "</table>\n",
       "</div>"
      ],
      "text/plain": [
       "       Author       Screenname              Created  \\\n",
       "0  sweeterman  damydothedishes  2020-04-30 14:16:29   \n",
       "1       Ahmed         Asheihab  2020-04-30 19:56:39   \n",
       "\n",
       "                          text place_name country place_type user_location  \\\n",
       "0                   start roof       None    None       None           ATX   \n",
       "1  homemade stuff roof friends       None    None       None           CAI   \n",
       "\n",
       "  user_geo_loc tag             reply_to Sentiment  rating state_extracted  \\\n",
       "0         None  []                   []   neutral     0.0            None   \n",
       "1         None  []  ['hawtstuffdotcom']   neutral     0.0            None   \n",
       "\n",
       "  country_extracted weather business good bad others  \n",
       "0              None             roof                  \n",
       "1              None             roof                  "
      ]
     },
     "execution_count": 30,
     "metadata": {},
     "output_type": "execute_result"
    }
   ],
   "source": [
    "temp = textdata.text.str.findall('(' + '|'.join(others) + ')', flags=re.IGNORECASE), \n",
    "textdata[\"others\"] = temp[0].str.join(',')\n",
    "textdata['others'] = textdata.others.apply(unique_col)\n",
    "textdata.head(2)"
   ]
  },
  {
   "cell_type": "code",
   "execution_count": 342,
   "metadata": {},
   "outputs": [
    {
     "name": "stdout",
     "output_type": "stream",
     "text": [
      "                          text business\n",
      "0                   start roof     roof\n",
      "1  homemade stuff roof friends     roof\n"
     ]
    }
   ],
   "source": [
    "business_df = textdata[['text','business']]\n",
    "business_df = business_df.drop_duplicates(['text'])\n",
    "business_df = business_df.set_index(['text'])\n",
    "business_df = business_df.stack().str.split(',', expand=True).stack().unstack(-2).reset_index(-1, drop=True).reset_index()\n",
    "print(business_df.head(2))\n",
    "\n",
    "weather_df = textdata[['text','weather']]\n",
    "weather_df = weather_df.drop_duplicates(['text'])\n",
    "weather_df = weather_df.set_index(['text'])\n",
    "weather_df = weather_df.stack().str.split(',', expand=True).stack().unstack(-2).reset_index(-1, drop=True).reset_index()\n",
    "\n",
    "others_df = textdata[['text','others']]\n",
    "others_df = others_df.drop_duplicates(['text'])\n",
    "others_df = others_df.set_index(['text'])\n",
    "others_df = others_df.stack().str.split(',', expand=True).stack().unstack(-2).reset_index(-1, drop=True).reset_index()\n",
    "\n",
    "good_df = textdata[['text','good']]\n",
    "good_df = good_df.drop_duplicates(['text'])\n",
    "good_df = good_df.set_index(['text'])\n",
    "good_df = good_df.stack().str.split(',', expand=True).stack().unstack(-2).reset_index(-1, drop=True).reset_index()\n",
    "\n",
    "\n",
    "bad_df = textdata[['text','bad']]\n",
    "bad_df = bad_df.drop_duplicates(['text'])\n",
    "bad_df = bad_df.set_index(['text'])\n",
    "bad_df = bad_df.stack().str.split(',', expand=True).stack().unstack(-2).reset_index(-1, drop=True).reset_index()\n",
    "\n"
   ]
  },
  {
   "cell_type": "code",
   "execution_count": 343,
   "metadata": {},
   "outputs": [],
   "source": [
    "from functools import reduce\n",
    "final_df = reduce(lambda x,y: pd.merge(x,y, on=['text'], how='outer'),\n",
    "       [weather_df, business_df, others_df,good_df,bad_df])\n",
    "\n",
    "final_df.replace('', np.nan, inplace=True)"
   ]
  },
  {
   "cell_type": "code",
   "execution_count": 344,
   "metadata": {},
   "outputs": [],
   "source": [
    "final_df['weather'] = final_df['weather'].fillna(\"unknown_weather\")\n",
    "final_df['business'] = final_df['business'].fillna(\"unknown_business\")\n",
    "final_df['others'] = final_df['others'].fillna(\"unknown_others\")\n",
    "final_df['good'] = final_df['good'].fillna(\"unknown_good\")\n",
    "final_df['bad'] = final_df['bad'].fillna(\"unknown_bad\")\n",
    "\n",
    "weather_business = pd.crosstab(index=final_df[\"weather\"], \n",
    "                          columns=final_df[\"business\"])\n",
    "\n",
    "weather_others = pd.crosstab(index=final_df[\"weather\"], \n",
    "                          columns=final_df[\"others\"])\n",
    "business_others = pd.crosstab(index=final_df[\"business\"], \n",
    "                          columns=final_df[\"others\"])\n",
    "business_good = pd.crosstab(index=final_df[\"business\"], \n",
    "                          columns=final_df[\"good\"])\n",
    "business_bad = pd.crosstab(index=final_df[\"business\"], \n",
    "                          columns=final_df[\"bad\"])\n",
    "\n"
   ]
  },
  {
   "cell_type": "code",
   "execution_count": 317,
   "metadata": {},
   "outputs": [
    {
     "data": {
      "text/html": [
       "<div>\n",
       "<style scoped>\n",
       "    .dataframe tbody tr th:only-of-type {\n",
       "        vertical-align: middle;\n",
       "    }\n",
       "\n",
       "    .dataframe tbody tr th {\n",
       "        vertical-align: top;\n",
       "    }\n",
       "\n",
       "    .dataframe thead th {\n",
       "        text-align: right;\n",
       "    }\n",
       "</style>\n",
       "<table border=\"1\" class=\"dataframe\">\n",
       "  <thead>\n",
       "    <tr style=\"text-align: right;\">\n",
       "      <th>business</th>\n",
       "      <th>asphalt shingles</th>\n",
       "      <th>building</th>\n",
       "      <th>estimate</th>\n",
       "      <th>house</th>\n",
       "      <th>leak</th>\n",
       "      <th>metal roofs</th>\n",
       "      <th>price</th>\n",
       "      <th>pricing</th>\n",
       "      <th>roof</th>\n",
       "      <th>shingles</th>\n",
       "      <th>unknown_business</th>\n",
       "    </tr>\n",
       "    <tr>\n",
       "      <th>weather</th>\n",
       "      <th></th>\n",
       "      <th></th>\n",
       "      <th></th>\n",
       "      <th></th>\n",
       "      <th></th>\n",
       "      <th></th>\n",
       "      <th></th>\n",
       "      <th></th>\n",
       "      <th></th>\n",
       "      <th></th>\n",
       "      <th></th>\n",
       "    </tr>\n",
       "  </thead>\n",
       "  <tbody>\n",
       "    <tr>\n",
       "      <th>hail</th>\n",
       "      <td>0</td>\n",
       "      <td>1</td>\n",
       "      <td>5</td>\n",
       "      <td>20</td>\n",
       "      <td>6</td>\n",
       "      <td>1</td>\n",
       "      <td>0</td>\n",
       "      <td>0</td>\n",
       "      <td>309</td>\n",
       "      <td>11</td>\n",
       "      <td>1</td>\n",
       "    </tr>\n",
       "    <tr>\n",
       "      <th>hurricane</th>\n",
       "      <td>0</td>\n",
       "      <td>1</td>\n",
       "      <td>0</td>\n",
       "      <td>1</td>\n",
       "      <td>2</td>\n",
       "      <td>0</td>\n",
       "      <td>0</td>\n",
       "      <td>0</td>\n",
       "      <td>41</td>\n",
       "      <td>0</td>\n",
       "      <td>1</td>\n",
       "    </tr>\n",
       "    <tr>\n",
       "      <th>rain</th>\n",
       "      <td>0</td>\n",
       "      <td>20</td>\n",
       "      <td>1</td>\n",
       "      <td>56</td>\n",
       "      <td>80</td>\n",
       "      <td>1</td>\n",
       "      <td>2</td>\n",
       "      <td>0</td>\n",
       "      <td>1238</td>\n",
       "      <td>4</td>\n",
       "      <td>22</td>\n",
       "    </tr>\n",
       "    <tr>\n",
       "      <th>tornado</th>\n",
       "      <td>0</td>\n",
       "      <td>2</td>\n",
       "      <td>0</td>\n",
       "      <td>16</td>\n",
       "      <td>3</td>\n",
       "      <td>0</td>\n",
       "      <td>0</td>\n",
       "      <td>0</td>\n",
       "      <td>99</td>\n",
       "      <td>1</td>\n",
       "      <td>0</td>\n",
       "    </tr>\n",
       "    <tr>\n",
       "      <th>twister</th>\n",
       "      <td>0</td>\n",
       "      <td>0</td>\n",
       "      <td>0</td>\n",
       "      <td>0</td>\n",
       "      <td>0</td>\n",
       "      <td>0</td>\n",
       "      <td>0</td>\n",
       "      <td>0</td>\n",
       "      <td>3</td>\n",
       "      <td>0</td>\n",
       "      <td>0</td>\n",
       "    </tr>\n",
       "    <tr>\n",
       "      <th>unknown_weather</th>\n",
       "      <td>13</td>\n",
       "      <td>805</td>\n",
       "      <td>155</td>\n",
       "      <td>1888</td>\n",
       "      <td>592</td>\n",
       "      <td>12</td>\n",
       "      <td>357</td>\n",
       "      <td>7</td>\n",
       "      <td>49895</td>\n",
       "      <td>246</td>\n",
       "      <td>1221</td>\n",
       "    </tr>\n",
       "  </tbody>\n",
       "</table>\n",
       "</div>"
      ],
      "text/plain": [
       "business         asphalt shingles  building  estimate  house  leak  \\\n",
       "weather                                                              \n",
       "hail                            0         1         5     20     6   \n",
       "hurricane                       0         1         0      1     2   \n",
       "rain                            0        20         1     56    80   \n",
       "tornado                         0         2         0     16     3   \n",
       "twister                         0         0         0      0     0   \n",
       "unknown_weather                13       805       155   1888   592   \n",
       "\n",
       "business         metal roofs  price  pricing   roof  shingles  \\\n",
       "weather                                                         \n",
       "hail                       1      0        0    309        11   \n",
       "hurricane                  0      0        0     41         0   \n",
       "rain                       1      2        0   1238         4   \n",
       "tornado                    0      0        0     99         1   \n",
       "twister                    0      0        0      3         0   \n",
       "unknown_weather           12    357        7  49895       246   \n",
       "\n",
       "business         unknown_business  \n",
       "weather                            \n",
       "hail                            1  \n",
       "hurricane                       1  \n",
       "rain                           22  \n",
       "tornado                         0  \n",
       "twister                         0  \n",
       "unknown_weather              1221  "
      ]
     },
     "execution_count": 317,
     "metadata": {},
     "output_type": "execute_result"
    }
   ],
   "source": [
    "weather_business"
   ]
  },
  {
   "cell_type": "code",
   "execution_count": 353,
   "metadata": {},
   "outputs": [
    {
     "name": "stdout",
     "output_type": "stream",
     "text": [
      "                        0         1\n",
      "hail             0.086454  0.504593\n",
      "hurricane        0.287656 -0.124695\n",
      "rain             0.414023 -0.036636\n",
      "tornado          0.214894  0.236808\n",
      "twister         -0.097267 -0.065498\n",
      "unknown_weather -0.012039 -0.002702\n",
      "                         0         1\n",
      "asphalt shingles -0.176344 -0.064531\n",
      "building         -0.012897 -0.059252\n",
      "estimate         -0.093803  0.302194\n",
      "house             0.042706  0.078975\n",
      "leak              0.601623 -0.037694\n",
      "metal roofs       0.372472  0.743097\n",
      "price            -0.141960 -0.068997\n",
      "pricing          -0.176344 -0.064531\n",
      "roof             -0.006641 -0.002742\n",
      "shingles         -0.008449  0.451703\n",
      "unknown_business -0.057419 -0.072047\n"
     ]
    }
   ],
   "source": [
    "import prince\n",
    "ca = prince.CA(n_components=2,n_iter=3,copy=True,check_input=True,engine='auto',random_state=42)\n",
    "\n",
    "ca = ca.fit(weather_business)\n",
    "\n",
    "print(ca.row_coordinates(weather_business))\n",
    "\n",
    "print(ca.column_coordinates(weather_business))"
   ]
  },
  {
   "cell_type": "code",
   "execution_count": 360,
   "metadata": {},
   "outputs": [
    {
     "data": {
      "image/png": "[encoded data removed]",
      "text/plain": [
       "<Figure size 720x720 with 1 Axes>"
      ]
     },
     "metadata": {
      "needs_background": "light"
     },
     "output_type": "display_data"
    }
   ],
   "source": [
    "ax = ca.plot_coordinates(X=weather_business,ax=None,figsize=(10, 10),x_component=0,y_component=1,show_row_labels=True,show_col_labels=True)\n",
    "plt = ax.get_figure()\n",
    "\n",
    "plt.suptitle(\"Weather and Business \")\n",
    "\n",
    "plt.savefig('mcp_image/weather_business.png')\n",
    "\n"
   ]
  },
  {
   "cell_type": "code",
   "execution_count": 359,
   "metadata": {},
   "outputs": [
    {
     "data": {
      "text/plain": [
       "'.'"
      ]
     },
     "execution_count": 359,
     "metadata": {},
     "output_type": "execute_result"
    }
   ],
   "source": []
  },
  {
   "cell_type": "code",
   "execution_count": 361,
   "metadata": {},
   "outputs": [
    {
     "name": "stdout",
     "output_type": "stream",
     "text": [
      "                        0         1\n",
      "hail            -0.066046  0.104273\n",
      "hurricane        0.701790  0.151559\n",
      "rain            -0.024163  0.065463\n",
      "tornado         -0.065554  0.001750\n",
      "twister         -0.062275  0.103162\n",
      "unknown_weather  0.000622 -0.002509\n",
      "                       0         1\n",
      "corona         -0.009732 -0.173596\n",
      "corona virus    0.029558 -0.177359\n",
      "coronavirus     0.020571 -0.140688\n",
      "covid           0.013945 -0.113646\n",
      "pandemic        0.368676  0.017209\n",
      "quote          -0.029808  0.007102\n",
      "unknown_others -0.001311  0.001460\n",
      "virus           0.014269 -0.114970\n"
     ]
    },
    {
     "data": {
      "image/png": "[encoded data removed]",
      "text/plain": [
       "<Figure size 720x720 with 1 Axes>"
      ]
     },
     "metadata": {
      "needs_background": "light"
     },
     "output_type": "display_data"
    }
   ],
   "source": [
    "ca = prince.CA(n_components=2,n_iter=3,copy=True,check_input=True,engine='auto',random_state=42)\n",
    "ca = ca.fit(weather_others)\n",
    "print(ca.row_coordinates(weather_others))\n",
    "print(ca.column_coordinates(weather_others))\n",
    "ax = ca.plot_coordinates(X=weather_others,ax=None,figsize=(10, 10),x_component=0,y_component=1,show_row_labels=True,show_col_labels=True)\n",
    "plt = ax.get_figure()\n",
    "\n",
    "plt.suptitle(\"Weather and Others \")\n",
    "#plt.savefig('images/correspondence_analysis_CA/weather_business.png')\n",
    "plt.savefig('mcp_image/weather_others.png')\n"
   ]
  },
  {
   "cell_type": "code",
   "execution_count": 365,
   "metadata": {},
   "outputs": [
    {
     "name": "stdout",
     "output_type": "stream",
     "text": [
      "                         0         1\n",
      "asphalt shingles  0.006167  0.117939\n",
      "building          0.018077  0.083409\n",
      "estimate          0.433810 -0.024867\n",
      "house             0.008795  0.053660\n",
      "leak              0.026899 -0.058508\n",
      "metal roofs       0.006167  0.117939\n",
      "price            -0.034450 -0.015598\n",
      "pricing           0.006167  0.117939\n",
      "roof             -0.002672 -0.003962\n",
      "shingles          0.271208  0.029432\n",
      "unknown_business -0.032901  0.054239\n",
      "                       0         1\n",
      "corona         -0.049577 -0.173135\n",
      "corona virus   -0.064510 -0.019746\n",
      "coronavirus    -0.081662 -0.069084\n",
      "covid          -0.089722 -0.130165\n",
      "pandemic       -0.088826 -0.205026\n",
      "quote           0.704397 -0.139694\n",
      "unknown_others  0.000187  0.002156\n",
      "virus          -0.131080  0.010707\n"
     ]
    },
    {
     "data": {
      "image/png": "[encoded data removed]",
      "text/plain": [
       "<Figure size 720x720 with 1 Axes>"
      ]
     },
     "metadata": {
      "needs_background": "light"
     },
     "output_type": "display_data"
    }
   ],
   "source": [
    "ca = prince.CA(n_components=2,n_iter=3,copy=True,check_input=True,engine='auto',random_state=42)\n",
    "ca = ca.fit(business_others)\n",
    "print(ca.row_coordinates(business_others))\n",
    "print(ca.column_coordinates(business_others))\n",
    "ax = ca.plot_coordinates(X=business_others,ax=None,figsize=(10, 10),x_component=0,y_component=1,show_row_labels=True,show_col_labels=True)\n",
    "plt = ax.get_figure()\n",
    "\n",
    "plt.suptitle(\"Business and Others \")\n",
    "#plt.savefig('images/correspondence_analysis_CA/weather_business.png')\n",
    "plt.savefig('mcp_image/business_others.png')\n"
   ]
  },
  {
   "cell_type": "code",
   "execution_count": 363,
   "metadata": {},
   "outputs": [
    {
     "name": "stdout",
     "output_type": "stream",
     "text": [
      "                         0         1\n",
      "asphalt shingles -0.170222  0.349703\n",
      "building         -0.041199  0.001171\n",
      "estimate          0.046993  0.224379\n",
      "house            -0.034918 -0.008735\n",
      "leak             -0.056481  0.002657\n",
      "metal roofs      -0.191757  0.177704\n",
      "price            -0.043993  0.166889\n",
      "pricing          -0.170222  0.349703\n",
      "roof             -0.006579 -0.002823\n",
      "shingles         -0.057633  0.175028\n",
      "unknown_business  0.410774  0.007430\n",
      "                     0         1\n",
      "good          0.288707  0.015805\n",
      "like         -0.071898 -0.074178\n",
      "love          0.198052 -0.043970\n",
      "right        -0.029312 -0.046811\n",
      "unknown_good -0.010578  0.007953\n",
      "well          0.230874 -0.053185\n"
     ]
    },
    {
     "data": {
      "image/png": "[encoded data removed]",
      "text/plain": [
       "<Figure size 720x720 with 1 Axes>"
      ]
     },
     "metadata": {
      "needs_background": "light"
     },
     "output_type": "display_data"
    }
   ],
   "source": [
    "ca = prince.CA(n_components=2,n_iter=3,copy=True,check_input=True,engine='auto',random_state=42)\n",
    "ca = ca.fit(business_good)\n",
    "print(ca.row_coordinates(business_good))\n",
    "print(ca.column_coordinates(business_good))\n",
    "ax = ca.plot_coordinates(X=business_good,ax=None,figsize=(10, 10),x_component=0,y_component=1,show_row_labels=True,show_col_labels=True)\n",
    "plt = ax.get_figure()\n",
    "\n",
    "plt.suptitle(\"Business and good \")\n",
    "#plt.savefig('images/correspondence_analysis_CA/weather_business.png')\n",
    "plt.savefig('mcp_image/good_business.png')\n"
   ]
  },
  {
   "cell_type": "code",
   "execution_count": 364,
   "metadata": {},
   "outputs": [
    {
     "name": "stdout",
     "output_type": "stream",
     "text": [
      "                         0         1\n",
      "asphalt shingles  0.264935 -0.153226\n",
      "building          0.218288 -0.049574\n",
      "estimate          0.236996 -0.080494\n",
      "house             0.147390  0.065216\n",
      "leak              0.163349  0.113638\n",
      "metal roofs       0.264935 -0.153226\n",
      "price             0.207190  0.010808\n",
      "pricing           0.102290  0.270181\n",
      "roof             -0.020364 -0.001242\n",
      "shingles          0.236925 -0.074002\n",
      "unknown_business  0.231610 -0.055909\n",
      "                    0         1\n",
      "anxiety     -0.295263 -0.031017\n",
      "cant        -0.089270  0.126863\n",
      "dont        -0.055342  0.060810\n",
      "unknown_bad  0.016784 -0.003315\n"
     ]
    },
    {
     "data": {
      "image/png": "[encoded data removed]",
      "text/plain": [
       "<Figure size 720x720 with 1 Axes>"
      ]
     },
     "metadata": {
      "needs_background": "light"
     },
     "output_type": "display_data"
    }
   ],
   "source": [
    "ca = prince.CA(n_components=2,n_iter=3,copy=True,check_input=True,engine='auto',random_state=42)\n",
    "ca = ca.fit(business_bad)\n",
    "print(ca.row_coordinates(business_bad))\n",
    "print(ca.column_coordinates(business_bad))\n",
    "ax = ca.plot_coordinates(X=business_bad,ax=None,figsize=(10, 10),x_component=0,y_component=1,show_row_labels=True,show_col_labels=True)\n",
    "plt = ax.get_figure()\n",
    "\n",
    "plt.suptitle(\"Business and bad \")\n",
    "#plt.savefig('images/correspondence_analysis_CA/weather_business.png')\n",
    "plt.savefig('mcp_image/bad_business.png')\n"
   ]
  },
  {
   "cell_type": "markdown",
   "metadata": {},
   "source": [
    "## Factor analysis"
   ]
  },
  {
   "cell_type": "code",
   "execution_count": null,
   "metadata": {},
   "outputs": [],
   "source": []
  },
  {
   "cell_type": "code",
   "execution_count": 32,
   "metadata": {},
   "outputs": [
    {
     "data": {
      "text/html": [
       "<div>\n",
       "<style scoped>\n",
       "    .dataframe tbody tr th:only-of-type {\n",
       "        vertical-align: middle;\n",
       "    }\n",
       "\n",
       "    .dataframe tbody tr th {\n",
       "        vertical-align: top;\n",
       "    }\n",
       "\n",
       "    .dataframe thead th {\n",
       "        text-align: right;\n",
       "    }\n",
       "</style>\n",
       "<table border=\"1\" class=\"dataframe\">\n",
       "  <thead>\n",
       "    <tr style=\"text-align: right;\">\n",
       "      <th></th>\n",
       "      <th>Author</th>\n",
       "      <th>Screenname</th>\n",
       "      <th>Created</th>\n",
       "      <th>text</th>\n",
       "      <th>place_name</th>\n",
       "      <th>country</th>\n",
       "      <th>place_type</th>\n",
       "      <th>user_location</th>\n",
       "      <th>user_geo_loc</th>\n",
       "      <th>tag</th>\n",
       "      <th>reply_to</th>\n",
       "      <th>Sentiment</th>\n",
       "      <th>rating</th>\n",
       "      <th>state_extracted</th>\n",
       "      <th>country_extracted</th>\n",
       "      <th>weather</th>\n",
       "      <th>business</th>\n",
       "      <th>good</th>\n",
       "      <th>bad</th>\n",
       "      <th>others</th>\n",
       "    </tr>\n",
       "  </thead>\n",
       "  <tbody>\n",
       "    <tr>\n",
       "      <th>0</th>\n",
       "      <td>sweeterman</td>\n",
       "      <td>damydothedishes</td>\n",
       "      <td>2020-04-30 14:16:29</td>\n",
       "      <td>start roof</td>\n",
       "      <td>None</td>\n",
       "      <td>None</td>\n",
       "      <td>None</td>\n",
       "      <td>ATX</td>\n",
       "      <td>None</td>\n",
       "      <td>[]</td>\n",
       "      <td>[]</td>\n",
       "      <td>neutral</td>\n",
       "      <td>0.0</td>\n",
       "      <td>None</td>\n",
       "      <td>None</td>\n",
       "      <td></td>\n",
       "      <td>roof</td>\n",
       "      <td></td>\n",
       "      <td></td>\n",
       "      <td></td>\n",
       "    </tr>\n",
       "    <tr>\n",
       "      <th>1</th>\n",
       "      <td>Ahmed</td>\n",
       "      <td>Asheihab</td>\n",
       "      <td>2020-04-30 19:56:39</td>\n",
       "      <td>homemade stuff roof friends</td>\n",
       "      <td>None</td>\n",
       "      <td>None</td>\n",
       "      <td>None</td>\n",
       "      <td>CAI</td>\n",
       "      <td>None</td>\n",
       "      <td>[]</td>\n",
       "      <td>['hawtstuffdotcom']</td>\n",
       "      <td>neutral</td>\n",
       "      <td>0.0</td>\n",
       "      <td>None</td>\n",
       "      <td>None</td>\n",
       "      <td></td>\n",
       "      <td>roof</td>\n",
       "      <td></td>\n",
       "      <td></td>\n",
       "      <td></td>\n",
       "    </tr>\n",
       "  </tbody>\n",
       "</table>\n",
       "</div>"
      ],
      "text/plain": [
       "       Author       Screenname              Created  \\\n",
       "0  sweeterman  damydothedishes  2020-04-30 14:16:29   \n",
       "1       Ahmed         Asheihab  2020-04-30 19:56:39   \n",
       "\n",
       "                          text place_name country place_type user_location  \\\n",
       "0                   start roof       None    None       None           ATX   \n",
       "1  homemade stuff roof friends       None    None       None           CAI   \n",
       "\n",
       "  user_geo_loc tag             reply_to Sentiment  rating state_extracted  \\\n",
       "0         None  []                   []   neutral     0.0            None   \n",
       "1         None  []  ['hawtstuffdotcom']   neutral     0.0            None   \n",
       "\n",
       "  country_extracted weather business good bad others  \n",
       "0              None             roof                  \n",
       "1              None             roof                  "
      ]
     },
     "execution_count": 32,
     "metadata": {},
     "output_type": "execute_result"
    }
   ],
   "source": [
    "def find_state(s):\n",
    "    if s is not None:\n",
    "        for i in s.split(','):\n",
    "            for j in i.split():\n",
    "                if j.lower() in [k.lower() for k in usa_states]:\n",
    "                    return usa_states_dict.get(j.lower(),j).upper()  \n",
    "textdata['state_extracted']=textdata['user_location'].apply(find_state)\n",
    "\n",
    "textdata.head(2)\n"
   ]
  },
  {
   "cell_type": "code",
   "execution_count": 70,
   "metadata": {},
   "outputs": [
    {
     "name": "stdout",
     "output_type": "stream",
     "text": [
      "vector shape (2960, 28)\n",
      "(2960, 28)\n",
      "loadings                 0         1         2         3         4\n",
      "anxiety -0.080797  0.005473  0.616033  0.042940 -0.018803\n",
      "back     0.047990 -0.009872  0.043050 -0.002069  0.019674\n",
      "cant     0.005000 -0.009479  0.061126 -0.016429 -0.011643\n",
      "car     -0.015653  0.012489 -0.011731 -0.024784  0.094669\n",
      "dont     0.053805  0.126027  0.019918  0.101312  0.246134\n",
      "food     0.610905 -0.040910  0.011101 -0.003403 -0.059396\n",
      "get      0.002164  0.004332 -0.037574  0.143339  0.112501\n",
      "good     0.102424  0.019331  0.076443 -0.012001  0.009851\n",
      "head     0.616120 -0.036629  0.014450 -0.007136 -0.048113\n",
      "home    -0.008157 -0.010218  0.015013  0.168732  0.030941\n",
      "house   -0.013412 -0.019165 -0.074502  0.003096  0.038063\n",
      "like    -0.026377 -0.043598 -0.002129 -0.048712  0.153542\n",
      "mouth   -0.013649 -0.044154 -0.036108 -0.129547  0.037961\n",
      "need     0.055889 -0.046837 -0.007790  0.294691 -0.007404\n",
      "new     -0.038970 -0.036810 -0.089386  0.269721 -0.010673\n",
      "people   0.067412  0.038671 -0.038675  0.055066  0.229870\n",
      "really   0.047488  0.015650  0.142576  0.008132  0.049093\n",
      "right   -0.028094  0.109549  0.039772  0.019564  0.053562\n",
      "roofing -0.069521 -0.011583 -0.102766  0.177200 -0.202058\n",
      "solar   -0.032567  0.082664 -0.052014 -0.017618 -0.044844\n",
      "take    -0.032364  0.032871 -0.039926  0.197482 -0.164840\n",
      "think   -0.007064  0.007797  0.011235 -0.013099  0.057734\n",
      "time     0.014451 -0.013208  0.002817 -0.045074  0.007367\n",
      "today   -0.042752 -0.025156  0.087485  0.124627 -0.151482\n",
      "top     -0.048300  0.029923 -0.079827  0.085644 -0.005961\n",
      "want     0.063656  0.675836 -0.005031  0.005842  0.012221\n",
      "work     0.074169 -0.007738  0.012676  0.155396 -0.058237\n",
      "would   -0.015122 -0.036360 -0.006349  0.002977  0.118218\n",
      "variance, proportional variance and cumulative variance for each factor (array([0.80980229, 0.50922418, 0.46099532, 0.36442787, 0.28862373]), array([0.02892151, 0.01818658, 0.01646412, 0.01301528, 0.01030799]), array([0.02892151, 0.04710809, 0.06357221, 0.07658749, 0.08689548]))\n"
     ]
    },
    {
     "data": {
      "image/png": "[encoded data removed]",
      "text/plain": [
       "<Figure size 432x288 with 1 Axes>"
      ]
     },
     "metadata": {
      "needs_background": "light"
     },
     "output_type": "display_data"
    },
    {
     "name": "stdout",
     "output_type": "stream",
     "text": [
      "loadings                 0         1\n",
      "anxiety -0.029491 -0.063431\n",
      "back     0.051976 -0.008489\n",
      "cant     0.013163 -0.020302\n",
      "car     -0.002914 -0.067300\n",
      "dont     0.042501 -0.029225\n",
      "food     0.588272  0.180720\n",
      "get     -0.024311  0.070433\n",
      "good     0.108252 -0.007866\n",
      "head     0.596099  0.170992\n",
      "home    -0.042886  0.118330\n",
      "house   -0.016376  0.000844\n",
      "like    -0.002562 -0.107458\n",
      "mouth    0.016894 -0.114334\n",
      "need    -0.013801  0.255569\n",
      "new     -0.105894  0.236096\n",
      "people   0.061033 -0.032851\n",
      "really   0.058522 -0.038126\n",
      "right   -0.024540 -0.035036\n",
      "roofing -0.130853  0.241570\n",
      "solar   -0.035241 -0.000564\n",
      "take    -0.093215  0.233739\n",
      "think    0.002058 -0.045044\n",
      "time     0.025436 -0.036057\n",
      "today   -0.071932  0.137750\n",
      "top     -0.073711  0.075845\n",
      "want     0.032438 -0.028310\n",
      "work     0.031499  0.170927\n",
      "would   -0.006025 -0.049086\n",
      "variance, proportional variance and cumulative variance for each factor (array([0.7812157 , 0.41372514]), array([0.02790056, 0.0147759 ]), array([0.02790056, 0.04267646]))\n"
     ]
    }
   ],
   "source": [
    "import warnings\n",
    "warnings.filterwarnings('ignore')\n",
    "\n",
    "count_vectorizer = CountVectorizer(min_df = 50, max_df=200, stop_words =['roof'])\n",
    "# Fit and transform the processed text\n",
    "count_data = count_vectorizer.fit_transform(textdata[textdata['state_extracted']=='CA']['text'])\n",
    "print('vector shape',count_data.shape)\n",
    "    \n",
    "# convert count_vectorizer data to df\n",
    "count_data_df = pd.DataFrame(count_data.todense(), columns=count_vectorizer.get_feature_names())\n",
    "print(count_data_df.shape)\n",
    "\n",
    "fa = FactorAnalyzer(rotation=\"varimax\", n_factors = 5)\n",
    "#fa.fit_transform(count_data.toarray(), 5)\n",
    "fa.fit_transform(count_data_df)\n",
    "\n",
    "#convert numpy array to dataframe\n",
    "print('loadings',pd.DataFrame(fa.loadings_,index=count_data_df.columns))\n",
    "\n",
    "print(\"variance, proportional variance and cumulative variance for each factor\",fa.get_factor_variance())\n",
    "# Check Eigenvalues\n",
    "ev, v = fa.get_eigenvalues()\n",
    "ev\n",
    "plt.scatter(range(1,count_data_df.shape[1]+1),ev)\n",
    "plt.plot(range(1,count_data_df.shape[1]+1),ev)\n",
    "plt.title('Scree Plot')\n",
    "plt.xlabel('Factors')\n",
    "plt.ylabel('Eigenvalue')\n",
    "plt.grid()\n",
    "plt.show()\n",
    "\n",
    "fa = FactorAnalyzer(rotation=\"varimax\", n_factors  = 2)\n",
    "fa.fit_transform(count_data_df )\n",
    "print('loadings',pd.DataFrame(fa.loadings_,index=count_data_df.columns))\n",
    "\n",
    "print(\"variance, proportional variance and cumulative variance for each factor\",fa.get_factor_variance())"
   ]
  },
  {
   "cell_type": "code",
   "execution_count": 69,
   "metadata": {},
   "outputs": [
    {
     "data": {
      "text/plain": [
       "(array([0.7812157 , 0.41372514]),\n",
       " array([0.02790056, 0.0147759 ]),\n",
       " array([0.02790056, 0.04267646]))"
      ]
     },
     "execution_count": 69,
     "metadata": {},
     "output_type": "execute_result"
    }
   ],
   "source": [
    "#variance, proportional variance and cumulative variance for each factor\n",
    "fa.get_factor_variance()"
   ]
  },
  {
   "cell_type": "code",
   "execution_count": 93,
   "metadata": {},
   "outputs": [
    {
     "data": {
      "image/png": "[encoded data removed]",
      "text/plain": [
       "<Figure size 1440x720 with 1 Axes>"
      ]
     },
     "metadata": {
      "needs_background": "light"
     },
     "output_type": "display_data"
    }
   ],
   "source": [
    "plotdf=pd.DataFrame(fa.loadings_,index=count_data_df.columns)\n",
    "\n",
    "import matplotlib.pyplot as plt\n",
    "fig, ax = plt.subplots(figsize=(20, 10))\n",
    "\n",
    "vals,poly = plotdf[plotdf.columns[0]].tolist(), plotdf[plotdf.columns[1]].tolist() \n",
    "n=plotdf.index.tolist()\n",
    "\n",
    "ax.scatter(vals, poly)\n",
    "#ax.set_xlim([0, .2])\n",
    "\n",
    "for i, txt in enumerate(n):\n",
    "    ax.annotate(txt, (vals[i], poly[i]))\n",
    "    \n",
    "plt.show()\n"
   ]
  },
  {
   "cell_type": "code",
   "execution_count": null,
   "metadata": {},
   "outputs": [],
   "source": []
  },
  {
   "cell_type": "code",
   "execution_count": null,
   "metadata": {},
   "outputs": [],
   "source": []
  }
 ],
 "metadata": {
  "kernelspec": {
   "display_name": "Python 3",
   "language": "python",
   "name": "python3"
  },
  "language_info": {
   "codemirror_mode": {
    "name": "ipython",
    "version": 3
   },
   "file_extension": ".py",
   "mimetype": "text/x-python",
   "name": "python",
   "nbconvert_exporter": "python",
   "pygments_lexer": "ipython3",
   "version": "3.7.6"
  }
 },
 "nbformat": 4,
 "nbformat_minor": 4
}
