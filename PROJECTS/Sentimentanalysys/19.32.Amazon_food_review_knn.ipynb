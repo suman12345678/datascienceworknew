{
 "cells": [
  {
   "cell_type": "markdown",
   "metadata": {},
   "source": [
    "# Amazon food review dataset apply knn to predict polarity review\n",
    "\n",
    "Data set from https://www.kaggle.com/snap/amazon-fine-food-reviews\n",
    "\n",
    "# Objective\n",
    "Here try BOW,TFIDF,avg W2V, avg TFIDFW2V and split train test 70-30 10fold cross validation and find optimal k\n",
    "report test accuracy. Use brute force and kd-tree for building knn.\n",
    "\n",
    "# Import data and libraries\n",
    " \n",
    " "
   ]
  },
  {
   "cell_type": "code",
   "execution_count": 1,
   "metadata": {
    "collapsed": true
   },
   "outputs": [],
   "source": [
    "from sklearn.manifold import TSNE\n",
    "import sqlite3\n",
    "import pandas as pd\n",
    "import numpy as np\n",
    "import nltk\n",
    "import string\n",
    "import matplotlib.pyplot as plt\n",
    "import seaborn as sns\n",
    "from sklearn.feature_extraction.text import TfidfTransformer\n",
    "from sklearn.feature_extraction.text import TfidfVectorizer\n",
    "from sklearn.feature_extraction.text import CountVectorizer\n",
    "from sklearn.metrics import confusion_matrix\n",
    "from sklearn import metrics\n",
    "from sklearn.metrics import roc_curve, auc\n",
    "from nltk.stem.porter import PorterStemmer\n",
    "\n",
    "con = sqlite3.connect('database.sqlite') \n",
    "\n",
    "#get only +ve and -ve review \n",
    "raw_data = pd.read_sql_query(\"\"\"SELECT * FROM Reviews WHERE Score != 3\"\"\", con) "
   ]
  },
  {
   "cell_type": "markdown",
   "metadata": {},
   "source": [
    "# Data preprocessing"
   ]
  },
  {
   "cell_type": "code",
   "execution_count": 2,
   "metadata": {
    "collapsed": true
   },
   "outputs": [],
   "source": [
    "filtered_data=raw_data\n",
    "# Score>3 a positive rating, and score<3 a negative rating.\n",
    "def partition(x):\n",
    "    if x < 3:\n",
    "        return 'negative'\n",
    "    return 'positive'\n",
    "\n",
    "#changing reviews with score less than 3 to be positive and vice-versa\n",
    "actualScore = filtered_data['Score']\n",
    "positiveNegative = actualScore.map(partition) \n",
    "filtered_data['Score'] = positiveNegative\n",
    "\n",
    "filtered_data.sample(5)\n",
    "filtered_data['Score'].value_counts()\n",
    "\n",
    "#Sorting data according to ProductId in ascending order\n",
    "sorted_data=filtered_data.sort_values('ProductId', axis=0, ascending=True, inplace=False, kind='quicksort', na_position='last')\n",
    "\n",
    "#Deduplication of entries for same profilename,userid, time, text and take first element \n",
    "sorted_data=sorted_data.drop_duplicates(subset={\"UserId\",\"ProfileName\",\"Time\",\"Text\"}, keep='first', inplace=False)\n"
   ]
  },
  {
   "cell_type": "code",
   "execution_count": 44,
   "metadata": {},
   "outputs": [
    {
     "data": {
      "text/plain": [
       "positive    5000\n",
       "negative    5000\n",
       "Name: Score, dtype: int64"
      ]
     },
     "execution_count": 44,
     "metadata": {},
     "output_type": "execute_result"
    }
   ],
   "source": [
    "#take only 5000 + 5000 data\n",
    "clean_data=sorted_data.sample(frac=1).groupby('Score').head(5000)\n",
    "clean_data['Score'].value_counts()"
   ]
  },
  {
   "cell_type": "code",
   "execution_count": 45,
   "metadata": {
    "collapsed": true
   },
   "outputs": [],
   "source": [
    "# Clean html tag and punctuation\n",
    "\n",
    "import re\n",
    "import string\n",
    "from nltk.corpus import stopwords\n",
    "from nltk.stem import PorterStemmer\n",
    "from nltk.stem.wordnet import WordNetLemmatizer\n",
    "\n",
    "stop = set(stopwords.words('english')) #set of stopwords\n",
    "sno = nltk.stem.SnowballStemmer('english') #initialising the snowball stemmer\n",
    "\n",
    "#substitute html tag and punctuation\n",
    "def cleanhtml(sentence): #function to clean the word of any html-tags\n",
    "    cleanr = re.compile('<.*?>')\n",
    "    cleantext = re.sub(cleanr, ' ', sentence)\n",
    "    return cleantext\n",
    "def cleanpunc(sentence): #function to clean the word of any punctuation or special characters\n",
    "    cleaned = re.sub(r'[?|!|\\'|\"|#]',r'',sentence)\n",
    "    cleaned = re.sub(r'[.|,|)|(|\\|/]',r' ',cleaned)\n",
    "    return  cleaned\n",
    "#print(sno.stem('tasty'))"
   ]
  },
  {
   "cell_type": "code",
   "execution_count": 46,
   "metadata": {
    "collapsed": true
   },
   "outputs": [],
   "source": [
    "i=0\n",
    "str1=' '\n",
    "final_string=[]\n",
    "all_positive_words=[] # store words from +ve reviews here\n",
    "all_negative_words=[] # store words from -ve reviews here.\n",
    "s=''\n",
    "#Create new catagory as Cleanedtext after removing htmltag and punctuation and uppercase and word length >2\n",
    "for sent in clean_data['Text'].values:\n",
    "    filtered_sentence=[]\n",
    "    #print(sent);\n",
    "    sent=cleanhtml(sent) # remove HTMl tags\n",
    "    for w in sent.split():\n",
    "        for cleaned_words in cleanpunc(w).split():\n",
    "            if((cleaned_words.isalpha()) & (len(cleaned_words)>2)):    \n",
    "                if(cleaned_words.lower() not in stop):\n",
    "                    s=(sno.stem(cleaned_words.lower())).encode('utf8')\n",
    "                    filtered_sentence.append(s)\n",
    "                    if (clean_data['Score'].values)[i] == 'positive': \n",
    "                        all_positive_words.append(s) #list of all words used to describe positive reviews\n",
    "                    if(clean_data['Score'].values)[i] == 'negative':\n",
    "                        all_negative_words.append(s) #list of all words used to describe negative reviews reviews\n",
    "                else:\n",
    "                    continue\n",
    "            else:\n",
    "                continue \n",
    "    str1 = b\" \".join(filtered_sentence) #final string of cleaned words\n",
    "    \n",
    "    final_string.append(str1)\n",
    "    i+=1\n",
    "    "
   ]
  },
  {
   "cell_type": "code",
   "execution_count": 47,
   "metadata": {},
   "outputs": [
    {
     "data": {
      "text/html": [
       "<div>\n",
       "<style>\n",
       "    .dataframe thead tr:only-child th {\n",
       "        text-align: right;\n",
       "    }\n",
       "\n",
       "    .dataframe thead th {\n",
       "        text-align: left;\n",
       "    }\n",
       "\n",
       "    .dataframe tbody tr th {\n",
       "        vertical-align: top;\n",
       "    }\n",
       "</style>\n",
       "<table border=\"1\" class=\"dataframe\">\n",
       "  <thead>\n",
       "    <tr style=\"text-align: right;\">\n",
       "      <th></th>\n",
       "      <th>Id</th>\n",
       "      <th>ProductId</th>\n",
       "      <th>UserId</th>\n",
       "      <th>ProfileName</th>\n",
       "      <th>HelpfulnessNumerator</th>\n",
       "      <th>HelpfulnessDenominator</th>\n",
       "      <th>Score</th>\n",
       "      <th>Time</th>\n",
       "      <th>Summary</th>\n",
       "      <th>Text</th>\n",
       "      <th>CleanedText</th>\n",
       "    </tr>\n",
       "  </thead>\n",
       "  <tbody>\n",
       "    <tr>\n",
       "      <th>237501</th>\n",
       "      <td>257668</td>\n",
       "      <td>B003LJB8C6</td>\n",
       "      <td>A3JH9ICLEYSESN</td>\n",
       "      <td>David</td>\n",
       "      <td>3</td>\n",
       "      <td>3</td>\n",
       "      <td>positive</td>\n",
       "      <td>1327363200</td>\n",
       "      <td>Excellent Asian Formulation of Milo</td>\n",
       "      <td>This product is made in Malaysia and is the sa...</td>\n",
       "      <td>b'product made malaysia exact product would bu...</td>\n",
       "    </tr>\n",
       "    <tr>\n",
       "      <th>377514</th>\n",
       "      <td>408224</td>\n",
       "      <td>B003VWBZJO</td>\n",
       "      <td>A3U73Z1BCQMDXV</td>\n",
       "      <td>James E. Langsford \"I love music!\"</td>\n",
       "      <td>1</td>\n",
       "      <td>1</td>\n",
       "      <td>positive</td>\n",
       "      <td>1314835200</td>\n",
       "      <td>Dog treats</td>\n",
       "      <td>I bought the Sweet Potato Chicken Jerky Twists...</td>\n",
       "      <td>b'bought sweet potato chicken jerki twist dog ...</td>\n",
       "    </tr>\n",
       "    <tr>\n",
       "      <th>385644</th>\n",
       "      <td>417006</td>\n",
       "      <td>B0026VM19Y</td>\n",
       "      <td>AW46UWA0D6YH</td>\n",
       "      <td>Katherine Thomas</td>\n",
       "      <td>2</td>\n",
       "      <td>3</td>\n",
       "      <td>positive</td>\n",
       "      <td>1266883200</td>\n",
       "      <td>Surprisingly good!!</td>\n",
       "      <td>A great addition to a shake, and is wonderful ...</td>\n",
       "      <td>b'great addit shake wonder top jello'</td>\n",
       "    </tr>\n",
       "    <tr>\n",
       "      <th>82694</th>\n",
       "      <td>90006</td>\n",
       "      <td>B0046GRD0O</td>\n",
       "      <td>A1QG2M87WNG28D</td>\n",
       "      <td>Anne in Florida</td>\n",
       "      <td>4</td>\n",
       "      <td>4</td>\n",
       "      <td>positive</td>\n",
       "      <td>1345161600</td>\n",
       "      <td>Cacao BLISS indeed!</td>\n",
       "      <td>Holy moly this stuff is delicious!  I am a tot...</td>\n",
       "      <td>b'holi moli stuff delici total sucker anyth ch...</td>\n",
       "    </tr>\n",
       "    <tr>\n",
       "      <th>10970</th>\n",
       "      <td>11967</td>\n",
       "      <td>B001P1V2UK</td>\n",
       "      <td>AV43UL9S8TUK8</td>\n",
       "      <td>Andrew D. Frost</td>\n",
       "      <td>0</td>\n",
       "      <td>0</td>\n",
       "      <td>negative</td>\n",
       "      <td>1322438400</td>\n",
       "      <td>Not a genuine Terrafina product</td>\n",
       "      <td>I purchased this product from Otto's because t...</td>\n",
       "      <td>b'purchas product otto offer via amazon prime ...</td>\n",
       "    </tr>\n",
       "  </tbody>\n",
       "</table>\n",
       "</div>"
      ],
      "text/plain": [
       "            Id   ProductId          UserId  \\\n",
       "237501  257668  B003LJB8C6  A3JH9ICLEYSESN   \n",
       "377514  408224  B003VWBZJO  A3U73Z1BCQMDXV   \n",
       "385644  417006  B0026VM19Y    AW46UWA0D6YH   \n",
       "82694    90006  B0046GRD0O  A1QG2M87WNG28D   \n",
       "10970    11967  B001P1V2UK   AV43UL9S8TUK8   \n",
       "\n",
       "                               ProfileName  HelpfulnessNumerator  \\\n",
       "237501                               David                     3   \n",
       "377514  James E. Langsford \"I love music!\"                     1   \n",
       "385644                    Katherine Thomas                     2   \n",
       "82694                      Anne in Florida                     4   \n",
       "10970                      Andrew D. Frost                     0   \n",
       "\n",
       "        HelpfulnessDenominator     Score        Time  \\\n",
       "237501                       3  positive  1327363200   \n",
       "377514                       1  positive  1314835200   \n",
       "385644                       3  positive  1266883200   \n",
       "82694                        4  positive  1345161600   \n",
       "10970                        0  negative  1322438400   \n",
       "\n",
       "                                    Summary  \\\n",
       "237501  Excellent Asian Formulation of Milo   \n",
       "377514                           Dog treats   \n",
       "385644                  Surprisingly good!!   \n",
       "82694                   Cacao BLISS indeed!   \n",
       "10970       Not a genuine Terrafina product   \n",
       "\n",
       "                                                     Text  \\\n",
       "237501  This product is made in Malaysia and is the sa...   \n",
       "377514  I bought the Sweet Potato Chicken Jerky Twists...   \n",
       "385644  A great addition to a shake, and is wonderful ...   \n",
       "82694   Holy moly this stuff is delicious!  I am a tot...   \n",
       "10970   I purchased this product from Otto's because t...   \n",
       "\n",
       "                                              CleanedText  \n",
       "237501  b'product made malaysia exact product would bu...  \n",
       "377514  b'bought sweet potato chicken jerki twist dog ...  \n",
       "385644              b'great addit shake wonder top jello'  \n",
       "82694   b'holi moli stuff delici total sucker anyth ch...  \n",
       "10970   b'purchas product otto offer via amazon prime ...  "
      ]
     },
     "execution_count": 47,
     "metadata": {},
     "output_type": "execute_result"
    }
   ],
   "source": [
    "clean_data['CleanedText']=final_string\n",
    "#store for future use\n",
    "#conn = sqlite3.connect('clean_data.sqlite')\n",
    "#c=conn.cursor()\n",
    "#conn.text_factory = str\n",
    "#clean_data.to_sql('Reviews1', conn, flavor=None, schema=None, if_exists='replace', index=True, index_label=None, chunksize=None, dtype=None)\n",
    "#con = sqlite3.connect('clean_data.sqlite') \n",
    "#clean_data = pd.read_sql_query(\"\"\"SELECT * FROM Reviews1 WHERE Score != 3\"\"\", con) \n",
    "#clean_data['CleanedText'].sample(15)\n",
    "clean_data.shape\n",
    "#Sort data on timestamp\n",
    "clean_data=clean_data.sort_values(by=['Time'],ascending=False)\n",
    "#clean_data\n",
    "clean_data.sample(5)"
   ]
  },
  {
   "cell_type": "markdown",
   "metadata": {},
   "source": [
    "# Model using BOW knn"
   ]
  },
  {
   "cell_type": "code",
   "execution_count": 48,
   "metadata": {},
   "outputs": [
    {
     "name": "stdout",
     "output_type": "stream",
     "text": [
      "(10000, 13326)\n",
      "<class 'scipy.sparse.csr.csr_matrix'>\n"
     ]
    }
   ],
   "source": [
    "#now convert CleanedText to TDM\n",
    "count_vect = CountVectorizer() #in scikit-learn\n",
    "final_counts = count_vect.fit_transform(clean_data['CleanedText'].values)\n",
    "print(final_counts.get_shape())\n",
    "print(type(final_counts))\n",
    "#print(final_counts[[1]])\n",
    "#print(final_counts[0,:])# this is stored like dict format only non zero values. sparse matrix\n",
    "#x = pd.DataFrame(final_counts.toarray())#this is stored like dataframe format all 0 and non zero values. dense matrix\n",
    "# sparse matrix in csr format works faster compare to dense format\n",
    "#print(x.shape,x.loc[0])"
   ]
  },
  {
   "cell_type": "code",
   "execution_count": 49,
   "metadata": {},
   "outputs": [
    {
     "name": "stdout",
     "output_type": "stream",
     "text": [
      "size of X_train, X_test, y_train , y_test  (7000, 13326) (3000, 13326) (7000,) (3000,)\n",
      "positive and negative review in train and test\n",
      " positive    3582\n",
      "negative    3418\n",
      "Name: Score, dtype: int64 \n",
      " negative    1582\n",
      "positive    1418\n",
      "Name: Score, dtype: int64\n"
     ]
    }
   ],
   "source": [
    "#x = pd.DataFrame(final_counts.toarray())\n",
    "x=final_counts\n",
    "y = clean_data['Score']\n",
    "#time=time.reset_index(drop=True)\n",
    "n=x.shape[0]\n",
    "n1=int(n*.3)\n",
    "#X_test = x[0:n1]\n",
    "#X_train= x[n1:n+1]\n",
    "\n",
    "X_test = x[0:n1,:]\n",
    "X_train= x[n1:n+1,:]\n",
    "y_test=y[0:n1]\n",
    "y_train=y[n1:n+1]\n",
    "print('size of X_train, X_test, y_train , y_test ',X_train.shape, X_test.shape,y_train.shape,y_test.shape)\n",
    "print(\"positive and negative review in train and test\\n\",y_train.value_counts(),\"\\n\",y_test.value_counts())"
   ]
  },
  {
   "cell_type": "code",
   "execution_count": 50,
   "metadata": {},
   "outputs": [],
   "source": [
    "from sklearn.cross_validation import train_test_split\n",
    "from sklearn.neighbors import KNeighborsClassifier\n",
    "from sklearn.metrics import accuracy_score\n",
    "from sklearn.cross_validation import cross_val_score\n",
    "from collections import Counter\n",
    "from sklearn.metrics import accuracy_score\n",
    "from sklearn import cross_validation"
   ]
  },
  {
   "cell_type": "markdown",
   "metadata": {},
   "source": []
  },
  {
   "cell_type": "code",
   "execution_count": 51,
   "metadata": {},
   "outputs": [
    {
     "name": "stdout",
     "output_type": "stream",
     "text": [
      "\n",
      "The optimal number of neighbors and misclassification error using brute is 9 4\n"
     ]
    }
   ],
   "source": [
    "# Create 10 fold cross validation\n",
    "myList = list(range(0,10))\n",
    "neighbors = list(filter(lambda x: x % 2 != 0, myList))\n",
    "\n",
    "# empty list that will hold cv scores\n",
    "cv_scores = []\n",
    "\n",
    "# perform 10-fold cross validation\n",
    "for k in neighbors:\n",
    "    knn = KNeighborsClassifier(n_neighbors=k,algorithm='brute')\n",
    "    scores = cross_val_score(knn, X_train, y_train, cv=10, scoring='accuracy')\n",
    "    cv_scores.append(scores.mean())\n",
    "    \n",
    "  \n",
    "# changing to misclassification error\n",
    "MSE = [1 - x for x in cv_scores]\n",
    "\n",
    "# determining best k\n",
    "optimal_k = neighbors[MSE.index(min(MSE))]\n",
    "print('\\nThe optimal number of neighbors and misclassification error using brute is',optimal_k,MSE.index(min(MSE)))"
   ]
  },
  {
   "cell_type": "code",
   "execution_count": 52,
   "metadata": {},
   "outputs": [
    {
     "name": "stdout",
     "output_type": "stream",
     "text": [
      "\n",
      "The accuracy of the knn classifier using brute for k = 9 is 69.066667%\n"
     ]
    }
   ],
   "source": [
    "# ============================== KNN with k = optimal_k ===============================================\n",
    "# instantiate learning model k = optimal_k\n",
    "knn_optimal = KNeighborsClassifier(n_neighbors=optimal_k,algorithm='brute')\n",
    "\n",
    "# fitting the model\n",
    "knn_optimal.fit(X_train, y_train)\n",
    "\n",
    "# predict the response\n",
    "pred = knn_optimal.predict(X_test)\n",
    "\n",
    "# evaluate accuracy\n",
    "acc = accuracy_score(y_test, pred) * 100\n",
    "print('\\nThe accuracy of the knn classifier using brute for k = %d is %f%%' % (optimal_k, acc))"
   ]
  },
  {
   "cell_type": "code",
   "execution_count": 53,
   "metadata": {},
   "outputs": [
    {
     "name": "stdout",
     "output_type": "stream",
     "text": [
      "\n",
      "The optimal number of neighbors and misclassification error using kd-tree is 9 4\n",
      "\n",
      "The accuracy of the knn classifier using kd-tree for k = 9 is 69.066667%\n"
     ]
    }
   ],
   "source": [
    "#ignore warning\n",
    "import warnings\n",
    "warnings.filterwarnings('ignore')\n",
    "    \n",
    "    # Use KDtree\n",
    "# Create 10 fold cross validation\n",
    "myList = list(range(0,10))\n",
    "neighbors = list(filter(lambda x: x % 2 != 0, myList))\n",
    "cv_scores = []\n",
    "for k in neighbors:\n",
    "    knn = KNeighborsClassifier(n_neighbors=k,algorithm='kd_tree')\n",
    "    scores = cross_val_score(knn, X_train, y_train, cv=10, scoring='accuracy')\n",
    "    cv_scores.append(scores.mean())\n",
    "    \n",
    "# changing to misclassification error\n",
    "MSE = [1 - x for x in cv_scores]\n",
    "# determining best k\n",
    "optimal_k = neighbors[MSE.index(min(MSE))]\n",
    "print('\\nThe optimal number of neighbors and misclassification error using kd-tree is',optimal_k,MSE.index(min(MSE)))  \n",
    "\n",
    "# instantiate learning model k = optimal_k\n",
    "knn_optimal = KNeighborsClassifier(n_neighbors=optimal_k,algorithm='kd_tree')\n",
    "\n",
    "# fitting the model\n",
    "knn_optimal.fit(X_train, y_train)\n",
    "\n",
    "# predict the response\n",
    "pred = knn_optimal.predict(X_test)\n",
    "\n",
    "# evaluate accuracy\n",
    "acc = accuracy_score(y_test, pred) * 100\n",
    "print('\\nThe accuracy of the knn classifier using kd-tree for k = %d is %f%%' % (optimal_k, acc)) \n"
   ]
  },
  {
   "cell_type": "markdown",
   "metadata": {
    "collapsed": true
   },
   "source": [
    "# plot accuracy with k "
   ]
  },
  {
   "cell_type": "code",
   "execution_count": 54,
   "metadata": {},
   "outputs": [
    {
     "data": {
      "image/png": "[encoded data removed]",
      "text/plain": [
       "<matplotlib.figure.Figure at 0x1ca8e1dbd30>"
      ]
     },
     "metadata": {},
     "output_type": "display_data"
    }
   ],
   "source": [
    "import warnings\n",
    "warnings.filterwarnings('ignore')\n",
    "from sklearn.model_selection import validation_curve\n",
    "#create plot for training and test validation\n",
    "# We cannot put 0 in parameter it will give error while validation_curve\n",
    "n_neighbors=[1,2,3,4,5,6,7,8,9,10,11,12,13,14,15,16,17,18,19,20]\n",
    "param_range=[1,2,3,4,5,6,7,8,9,10,11,12,13,14,15,16,17,18,19,20]\n",
    "\n",
    "train_scores, test_scores = validation_curve(KNeighborsClassifier(), X_train, y_train, param_name=\"n_neighbors\",param_range=n_neighbors,cv=5)\n",
    "#print(train_scores,test_scores)\n",
    "train_scores_mean = np.mean(train_scores, axis=1)\n",
    "train_scores_std = np.std(train_scores, axis=1)\n",
    "test_scores_mean = np.mean(test_scores, axis=1)\n",
    "test_scores_std = np.std(test_scores, axis=1)\n",
    "\n",
    "plt.plot(param_range, train_scores_mean, label=\"Training score\", color=\"black\")\n",
    "plt.plot(param_range, test_scores_mean, label=\"Cross-validation score\", color=\"red\")\n",
    "plt.fill_between(param_range, train_scores_mean - train_scores_std, train_scores_mean + train_scores_std, color=\"gray\")\n",
    "plt.fill_between(param_range, test_scores_mean - test_scores_std, test_scores_mean + test_scores_std, color=\"green\")\n",
    "plt.title(\"Validation Curve for naive bayes for different alpha value\")\n",
    "plt.xlabel(\"alpha value\")\n",
    "plt.ylabel(\"Accuracy Score\")\n",
    "plt.xlim(0,20)\n",
    "plt.tight_layout()\n",
    "plt.legend(loc=\"best\")\n",
    "plt.show()\n"
   ]
  },
  {
   "cell_type": "code",
   "execution_count": null,
   "metadata": {
    "collapsed": true
   },
   "outputs": [],
   "source": []
  },
  {
   "cell_type": "code",
   "execution_count": null,
   "metadata": {
    "collapsed": true
   },
   "outputs": [],
   "source": []
  },
  {
   "cell_type": "markdown",
   "metadata": {},
   "source": [
    "# Model using TFIDF\n"
   ]
  },
  {
   "cell_type": "code",
   "execution_count": 55,
   "metadata": {
    "collapsed": true
   },
   "outputs": [],
   "source": [
    "#now convert CleanedText to TDM\n",
    "tf_idf_vect = TfidfVectorizer()\n",
    "final_counts = tf_idf_vect.fit_transform(clean_data['CleanedText'].values)\n",
    "#x = pd.DataFrame(final_counts.toarray())"
   ]
  },
  {
   "cell_type": "code",
   "execution_count": 56,
   "metadata": {},
   "outputs": [
    {
     "name": "stdout",
     "output_type": "stream",
     "text": [
      "size of train, test, X , y  (7000, 13326) (3000, 13326) (7000,) (3000,)\n"
     ]
    }
   ],
   "source": [
    "#x = pd.DataFrame(final_counts.toarray())\n",
    "x=final_counts\n",
    "y = clean_data['Score']\n",
    "#time=time.reset_index(drop=True)\n",
    "n=x.shape[0]\n",
    "n1=int(n*.3)\n",
    "#X_test = x[0:n1]\n",
    "#X_train= x[n1:n+1]\n",
    "X_test = x[0:n1,:]\n",
    "X_train= x[n1:n+1,:]\n",
    "\n",
    "\n",
    "y_test=y[0:n1]\n",
    "y_train=y[n1:n+1]\n",
    "print('size of train, test, X , y ',X_train.shape, X_test.shape,y_train.shape,y_test.shape)\n"
   ]
  },
  {
   "cell_type": "code",
   "execution_count": 57,
   "metadata": {},
   "outputs": [
    {
     "name": "stdout",
     "output_type": "stream",
     "text": [
      "\n",
      "The optimal number of neighbors and misclassification error using kd-tree is 9 4\n"
     ]
    }
   ],
   "source": [
    "# Create 10 fold cross validation\n",
    "myList = list(range(0,10))\n",
    "neighbors = list(filter(lambda x: x % 2 != 0, myList))\n",
    "\n",
    "# empty list that will hold cv scores\n",
    "cv_scores = []\n",
    "\n",
    "# perform 10-fold cross validation\n",
    "for k in neighbors:\n",
    "    knn = KNeighborsClassifier(n_neighbors=k,algorithm='kd_tree')\n",
    "    scores = cross_val_score(knn, X_train, y_train, cv=10, scoring='accuracy')\n",
    "    cv_scores.append(scores.mean())\n",
    "    \n",
    "  \n",
    "# changing to misclassification error\n",
    "MSE = [1 - x for x in cv_scores]\n",
    "\n",
    "# determining best k\n",
    "optimal_k = neighbors[MSE.index(min(MSE))]\n",
    "print('\\nThe optimal number of neighbors and misclassification error using kd-tree is',optimal_k,MSE.index(min(MSE)))"
   ]
  },
  {
   "cell_type": "code",
   "execution_count": 58,
   "metadata": {},
   "outputs": [
    {
     "name": "stdout",
     "output_type": "stream",
     "text": [
      "\n",
      "The accuracy of the knn classifier using kd-tree for k = 9 is 68.366667%\n"
     ]
    }
   ],
   "source": [
    "#ignore warning\n",
    "import warnings\n",
    "warnings.filterwarnings('ignore')\n",
    "\n",
    "# ============================== KNN with k = optimal_k ===============================================\n",
    "# instantiate learning model k = optimal_k\n",
    "knn_optimal = KNeighborsClassifier(n_neighbors=optimal_k,algorithm='kd_tree')\n",
    "\n",
    "# fitting the model\n",
    "knn_optimal.fit(X_train, y_train)\n",
    "\n",
    "# predict the response\n",
    "pred = knn_optimal.predict(X_test)\n",
    "\n",
    "# evaluate accuracy\n",
    "acc = accuracy_score(y_test, pred) * 100\n",
    "print('\\nThe accuracy of the knn classifier using kd-tree for k = %d is %f%%' % (optimal_k, acc))"
   ]
  },
  {
   "cell_type": "code",
   "execution_count": 59,
   "metadata": {},
   "outputs": [
    {
     "name": "stdout",
     "output_type": "stream",
     "text": [
      "\n",
      "The optimal number of neighbors and misclassification error using brute is 9 4\n",
      "\n",
      "The accuracy of the knn classifier using brute for k = 9 is 68.366667%\n"
     ]
    }
   ],
   "source": [
    "#ignore warning\n",
    "import warnings\n",
    "warnings.filterwarnings('ignore')\n",
    "\n",
    "# Use brute\n",
    "# Create 10 fold cross validation\n",
    "myList = list(range(0,10))\n",
    "neighbors = list(filter(lambda x: x % 2 != 0, myList))\n",
    "cv_scores = []\n",
    "for k in neighbors:\n",
    "    knn = KNeighborsClassifier(n_neighbors=k,algorithm='brute')\n",
    "    scores = cross_val_score(knn, X_train, y_train, cv=10, scoring='accuracy')\n",
    "    cv_scores.append(scores.mean())\n",
    "    \n",
    "# changing to misclassification error\n",
    "MSE = [1 - x for x in cv_scores]\n",
    "# determining best k\n",
    "optimal_k = neighbors[MSE.index(min(MSE))]\n",
    "print('\\nThe optimal number of neighbors and misclassification error using brute is',optimal_k,MSE.index(min(MSE)))  \n",
    "\n",
    "# instantiate learning model k = optimal_k\n",
    "knn_optimal = KNeighborsClassifier(n_neighbors=optimal_k,algorithm='brute')\n",
    "\n",
    "# fitting the model\n",
    "knn_optimal.fit(X_train, y_train)\n",
    "\n",
    "# predict the response\n",
    "pred = knn_optimal.predict(X_test)\n",
    "\n",
    "# evaluate accuracy\n",
    "acc = accuracy_score(y_test, pred) * 100\n",
    "print('\\nThe accuracy of the knn classifier using brute for k = %d is %f%%' % (optimal_k, acc))  "
   ]
  },
  {
   "cell_type": "code",
   "execution_count": 60,
   "metadata": {},
   "outputs": [
    {
     "data": {
      "image/png": "[encoded data removed]",
      "text/plain": [
       "<matplotlib.figure.Figure at 0x1ca818c0358>"
      ]
     },
     "metadata": {},
     "output_type": "display_data"
    }
   ],
   "source": [
    "import warnings\n",
    "warnings.filterwarnings('ignore')\n",
    "from sklearn.model_selection import validation_curve\n",
    "#create plot for training and test validation\n",
    "# We cannot put 0 in parameter it will give error while validation_curve\n",
    "n_neighbors=[1,2,3,4,5,6,7,8,9,10,11,12,13,14,15,16,17,18,19,20]\n",
    "param_range=[1,2,3,4,5,6,7,8,9,10,11,12,13,14,15,16,17,18,19,20]\n",
    "\n",
    "train_scores, test_scores = validation_curve(KNeighborsClassifier(), X_train, y_train, param_name=\"n_neighbors\",param_range=n_neighbors,cv=5)\n",
    "#print(train_scores,test_scores)\n",
    "train_scores_mean = np.mean(train_scores, axis=1)\n",
    "train_scores_std = np.std(train_scores, axis=1)\n",
    "test_scores_mean = np.mean(test_scores, axis=1)\n",
    "test_scores_std = np.std(test_scores, axis=1)\n",
    "\n",
    "plt.plot(param_range, train_scores_mean, label=\"Training score\", color=\"black\")\n",
    "plt.plot(param_range, test_scores_mean, label=\"Cross-validation score\", color=\"red\")\n",
    "plt.fill_between(param_range, train_scores_mean - train_scores_std, train_scores_mean + train_scores_std, color=\"gray\")\n",
    "plt.fill_between(param_range, test_scores_mean - test_scores_std, test_scores_mean + test_scores_std, color=\"green\")\n",
    "plt.title(\"Validation Curve for naive bayes for different alpha value\")\n",
    "plt.xlabel(\"alpha value\")\n",
    "plt.ylabel(\"Accuracy Score\")\n",
    "plt.xlim(0,20)\n",
    "plt.tight_layout()\n",
    "plt.legend(loc=\"best\")\n",
    "plt.show()\n"
   ]
  },
  {
   "cell_type": "markdown",
   "metadata": {},
   "source": [
    "# Build model using avg W2V"
   ]
  },
  {
   "cell_type": "code",
   "execution_count": 61,
   "metadata": {
    "collapsed": true
   },
   "outputs": [],
   "source": [
    "#ignore warning\n",
    "import warnings\n",
    "warnings.filterwarnings('ignore')\n",
    "\n",
    "\n",
    "from gensim.models import Word2Vec\n",
    "from gensim.models import KeyedVectors\n",
    "import pickle\n",
    "model = KeyedVectors.load_word2vec_format('GoogleNews-vectors-negative300.bin.gz', binary=True)\n",
    "import gensim\n",
    "i=0\n",
    "#create a list of list to be used in W2V \n",
    "list_of_sent=[]\n",
    "for sent in clean_data['CleanedText'].values:\n",
    "    filtered_sentence=[]\n",
    "    #sent=cleanhtml(sent)\n",
    "    for w in sent.split():\n",
    "        #for cleaned_words in cleanpunc(w).split():\n",
    "         for cleaned_words in w.split():\n",
    "            if(cleaned_words.isalpha()):    \n",
    "                filtered_sentence.append(cleaned_words.lower().decode('utf8'))\n",
    "            else:\n",
    "                continue \n",
    "    list_of_sent.append(filtered_sentence)\n",
    "#convert each sentence's words to a vector of 50 dimension. Dont construct vec if word doesnot occur 5 times. And for each word construct 50 dimension vector\n",
    "#and 4 core processor\n",
    "w2v_model=gensim.models.Word2Vec(list_of_sent,min_count=5,size=50, workers=4)   \n",
    "\n",
    "# average Word2Vec\n",
    "# for each sentence make average of vectors by (vectors of each words)/(total no of words)\n",
    "# compute average word2vec for each review.\n",
    "sent_vectors = []; # the avg-w2v for each sentence/review is stored in this list\n",
    "for sent in list_of_sent: # for each review/sentence\n",
    "    sent_vec = np.zeros(50) # as word vectors are of zero length\n",
    "    cnt_words =0; # num of words with a valid vector in the sentence/review\n",
    "    for word in sent: # for each word in a review/sentence\n",
    "        try:\n",
    "            vec = w2v_model.wv[word]\n",
    "            sent_vec += vec\n",
    "            cnt_words += 1\n",
    "        except:\n",
    "            pass\n",
    "    sent_vec /= cnt_words\n",
    "    sent_vectors.append(sent_vec)  \n",
    "\n",
    "#Sent_vectors ready for tsne   \n",
    "\n"
   ]
  },
  {
   "cell_type": "code",
   "execution_count": null,
   "metadata": {
    "collapsed": true
   },
   "outputs": [],
   "source": []
  },
  {
   "cell_type": "code",
   "execution_count": 62,
   "metadata": {},
   "outputs": [
    {
     "name": "stdout",
     "output_type": "stream",
     "text": [
      "train and test X y (7000, 50) (3000, 50) (7000,) (3000,)\n",
      "\n",
      "The optimal number of neighbors and misclassification error usinf kd-tree is 9 4\n",
      "\n",
      "The accuracy of the knn classifier using kd-tree for k = 9 is 71.666667%\n",
      "\n",
      "The optimal number of neighbors and misclassification error using brute  is 9 4\n",
      "\n",
      "The accuracy of the knn classifier using brute for k = 9 is 71.666667%\n"
     ]
    }
   ],
   "source": [
    "#ignore warning\n",
    "import warnings\n",
    "warnings.filterwarnings('ignore')\n",
    "\n",
    "x = pd.DataFrame(sent_vectors)\n",
    "y = clean_data['Score']\n",
    "#time=time.reset_index(drop=True)\n",
    "n=x.shape[0]\n",
    "n1=int(n*.3)\n",
    "X_test = x[0:n1]\n",
    "X_train= x[n1:n+1]\n",
    "y_test=y[0:n1]\n",
    "y_train=y[n1:n+1]\n",
    "print('train and test X y',X_train.shape,X_test.shape,y_train.shape,y_test.shape)\n",
    "\n",
    "\n",
    "\n",
    "\n",
    "# Create 10 fold cross validation\n",
    "myList = list(range(0,10))\n",
    "neighbors = list(filter(lambda x: x % 2 != 0, myList))\n",
    "\n",
    "# empty list that will hold cv scores\n",
    "cv_scores = []\n",
    "\n",
    "# perform 10-fold cross validation\n",
    "for k in neighbors:\n",
    "    knn = KNeighborsClassifier(n_neighbors=k,algorithm='kd_tree')\n",
    "    scores = cross_val_score(knn, X_train, y_train, cv=10, scoring='accuracy')\n",
    "    cv_scores.append(scores.mean())\n",
    "    \n",
    "  \n",
    "# changing to misclassification error\n",
    "MSE = [1 - x for x in cv_scores]\n",
    "\n",
    "# determining best k\n",
    "optimal_k = neighbors[MSE.index(min(MSE))]\n",
    "print('\\nThe optimal number of neighbors and misclassification error usinf kd-tree is',optimal_k,MSE.index(min(MSE)))\n",
    "\n",
    "\n",
    "# ============================== KNN with k = optimal_k ===============================================\n",
    "# instantiate learning model k = optimal_k\n",
    "knn_optimal = KNeighborsClassifier(n_neighbors=optimal_k,algorithm='kd_tree')\n",
    "\n",
    "# fitting the model\n",
    "knn_optimal.fit(X_train, y_train)\n",
    "\n",
    "# predict the response\n",
    "pred = knn_optimal.predict(X_test)\n",
    "\n",
    "# evaluate accuracy\n",
    "acc = accuracy_score(y_test, pred) * 100\n",
    "print('\\nThe accuracy of the knn classifier using kd-tree for k = %d is %f%%' % (optimal_k, acc))\n",
    "\n",
    "\n",
    "# Use brute\n",
    "# Create 10 fold cross validation\n",
    "myList = list(range(0,10))\n",
    "neighbors = list(filter(lambda x: x % 2 != 0, myList))\n",
    "cv_scores = []\n",
    "for k in neighbors:\n",
    "    knn = KNeighborsClassifier(n_neighbors=k,algorithm='brute')\n",
    "    scores = cross_val_score(knn, X_train, y_train, cv=10, scoring='accuracy')\n",
    "    cv_scores.append(scores.mean())\n",
    "    \n",
    "# changing to misclassification error\n",
    "MSE = [1 - x for x in cv_scores]\n",
    "# determining best k\n",
    "optimal_k = neighbors[MSE.index(min(MSE))]\n",
    "print('\\nThe optimal number of neighbors and misclassification error using brute  is',optimal_k,MSE.index(min(MSE)))  \n",
    "\n",
    "# instantiate learning model k = optimal_k\n",
    "knn_optimal = KNeighborsClassifier(n_neighbors=optimal_k,algorithm='brute')\n",
    "\n",
    "# fitting the model\n",
    "knn_optimal.fit(X_train, y_train)\n",
    "\n",
    "# predict the response\n",
    "pred = knn_optimal.predict(X_test)\n",
    "\n",
    "# evaluate accuracy\n",
    "acc = accuracy_score(y_test, pred) * 100\n",
    "print('\\nThe accuracy of the knn classifier using brute for k = %d is %f%%' % (optimal_k, acc))\n",
    "  "
   ]
  },
  {
   "cell_type": "markdown",
   "metadata": {
    "collapsed": true
   },
   "source": [
    "#plot accuracy with k value"
   ]
  },
  {
   "cell_type": "code",
   "execution_count": 63,
   "metadata": {},
   "outputs": [
    {
     "data": {
      "image/png": "[encoded data removed]",
      "text/plain": [
       "<matplotlib.figure.Figure at 0x1cade1dfc50>"
      ]
     },
     "metadata": {},
     "output_type": "display_data"
    }
   ],
   "source": [
    "import warnings\n",
    "warnings.filterwarnings('ignore')\n",
    "from sklearn.model_selection import validation_curve\n",
    "#create plot for training and test validation\n",
    "# We cannot put 0 in parameter it will give error while validation_curve\n",
    "n_neighbors=[1,2,3,4,5,6,7,8,9,10,11,12,13,14,15,16,17,18,19,20]\n",
    "param_range=[1,2,3,4,5,6,7,8,9,10,11,12,13,14,15,16,17,18,19,20]\n",
    "\n",
    "train_scores, test_scores = validation_curve(KNeighborsClassifier(), X_train, y_train, param_name=\"n_neighbors\",param_range=n_neighbors,cv=5)\n",
    "#print(train_scores,test_scores)\n",
    "train_scores_mean = np.mean(train_scores, axis=1)\n",
    "train_scores_std = np.std(train_scores, axis=1)\n",
    "test_scores_mean = np.mean(test_scores, axis=1)\n",
    "test_scores_std = np.std(test_scores, axis=1)\n",
    "\n",
    "plt.plot(param_range, train_scores_mean, label=\"Training score\", color=\"black\")\n",
    "plt.plot(param_range, test_scores_mean, label=\"Cross-validation score\", color=\"red\")\n",
    "plt.fill_between(param_range, train_scores_mean - train_scores_std, train_scores_mean + train_scores_std, color=\"gray\")\n",
    "plt.fill_between(param_range, test_scores_mean - test_scores_std, test_scores_mean + test_scores_std, color=\"green\")\n",
    "plt.title(\"Validation Curve for naive bayes for different alpha value\")\n",
    "plt.xlabel(\"alpha value\")\n",
    "plt.ylabel(\"Accuracy Score\")\n",
    "plt.xlim(0,20)\n",
    "plt.tight_layout()\n",
    "plt.legend(loc=\"best\")\n",
    "plt.show()\n"
   ]
  },
  {
   "cell_type": "markdown",
   "metadata": {},
   "source": [
    "# Build model using avg tfidf w2v"
   ]
  },
  {
   "cell_type": "code",
   "execution_count": 64,
   "metadata": {},
   "outputs": [
    {
     "name": "stdout",
     "output_type": "stream",
     "text": [
      "X y train test  7000 3000 (7000,) (3000,)\n",
      "\n",
      "The optimal number of neighbors and misclassification error using kd-tree is 9 4\n",
      "\n",
      "The accuracy of the knn classifier using kd-tree for k = 9 is 68.266667%\n",
      "\n",
      "The optimal number of neighbors and misclassification error using brute  is 9 4\n",
      "\n",
      "The accuracy of the knn classifier using brute for k = 9 is 68.266667%\n"
     ]
    }
   ],
   "source": [
    "#ignore warning\n",
    "import warnings\n",
    "warnings.filterwarnings('ignore')\n",
    "\n",
    "\n",
    "# TF-IDF weighted Word2Vec\n",
    "tf_idf_vect = TfidfVectorizer()\n",
    "final_tf_idf=tf_idf_vect.fit_transform(clean_data['CleanedText'].values)\n",
    "tfidf_feat = tf_idf_vect.get_feature_names() # tfidf words/col-names\n",
    "# final_tf_idf is the sparse matrix with row= sentence, col=word and cell_val = tfidf\n",
    "\n",
    "tfidf_sent_vectors = []; # the tfidf-w2v for each sentence/review is stored in this list\n",
    "row=0;\n",
    "#calculate avg tfidf score for each sentences \n",
    "for sent in list_of_sent: # for each review/sentence\n",
    "    sent_vec = np.zeros(50) # as word vectors are of zero length\n",
    "    weight_sum =0; # num of words with a valid vector in the sentence/review\n",
    "    for word in sent: # for each word in a review/sentence\n",
    "        try:\n",
    "            vec = w2v_model.wv[word]#calculate w2v for each word\n",
    "            # obtain the tf_idfidf of a word in a sentence/review\n",
    "            tf_idf = final_tf_idf[row, tfidf_feat.index(word)]#get tfidf score of each word \n",
    "            sent_vec += (vec * tf_idf) # multiply vec with tfidf of each word and cumulative add of words in each sentence\n",
    "            weight_sum += tf_idf # also add tfidf sums in each sentence\n",
    "        except:\n",
    "            pass\n",
    "    sent_vec /= weight_sum\n",
    "    tfidf_sent_vectors.append(sent_vec)\n",
    "    row += 1\n",
    "#tfidf_sent_vectors.\n",
    "\n",
    "\n",
    "x=tfidf_sent_vectors\n",
    "y = clean_data['Score']\n",
    "#time=time.reset_index(drop=True)\n",
    "n=len(x)\n",
    "n1=int(n*.3)\n",
    "X_test = x[0:n1]\n",
    "X_train= x[n1:n+1]\n",
    "y_test=y[0:n1]\n",
    "y_train=y[n1:n+1]\n",
    "print('X y train test ',len(X_train),len(X_test),y_train.shape,y_test.shape)\n",
    "\n",
    "\n",
    "\n",
    "\n",
    "# Create 10 fold cross validation\n",
    "myList = list(range(0,10))\n",
    "neighbors = list(filter(lambda x: x % 2 != 0, myList))\n",
    "\n",
    "# empty list that will hold cv scores\n",
    "cv_scores = []\n",
    "\n",
    "# perform 10-fold cross validation\n",
    "for k in neighbors:\n",
    "    knn = KNeighborsClassifier(n_neighbors=k,algorithm='kd_tree')\n",
    "    scores = cross_val_score(knn, X_train, y_train, cv=10, scoring='accuracy')\n",
    "    cv_scores.append(scores.mean())\n",
    "    \n",
    "  \n",
    "# changing to misclassification error\n",
    "MSE = [1 - x for x in cv_scores]\n",
    "\n",
    "# determining best k\n",
    "optimal_k = neighbors[MSE.index(min(MSE))]\n",
    "print('\\nThe optimal number of neighbors and misclassification error using kd-tree is',optimal_k,MSE.index(min(MSE)))\n",
    "\n",
    "\n",
    "# ============================== KNN with k = optimal_k ===============================================\n",
    "# instantiate learning model k = optimal_k\n",
    "knn_optimal = KNeighborsClassifier(n_neighbors=optimal_k,algorithm='kd_tree')\n",
    "\n",
    "# fitting the model\n",
    "knn_optimal.fit(X_train, y_train)\n",
    "\n",
    "# predict the response\n",
    "pred = knn_optimal.predict(X_test)\n",
    "\n",
    "# evaluate accuracy\n",
    "acc = accuracy_score(y_test, pred) * 100\n",
    "print('\\nThe accuracy of the knn classifier using kd-tree for k = %d is %f%%' % (optimal_k, acc))\n",
    "\n",
    "# Use brute\n",
    "# Create 10 fold cross validation\n",
    "myList = list(range(0,10))\n",
    "neighbors = list(filter(lambda x: x % 2 != 0, myList))\n",
    "cv_scores = []\n",
    "for k in neighbors:\n",
    "    knn = KNeighborsClassifier(n_neighbors=k,algorithm='brute')\n",
    "    scores = cross_val_score(knn, X_train, y_train, cv=10, scoring='accuracy')\n",
    "    cv_scores.append(scores.mean())\n",
    "    \n",
    "# changing to misclassification error\n",
    "MSE = [1 - x for x in cv_scores]\n",
    "# determining best k\n",
    "optimal_k = neighbors[MSE.index(min(MSE))]\n",
    "print('\\nThe optimal number of neighbors and misclassification error using brute  is',optimal_k,MSE.index(min(MSE)))  \n",
    "\n",
    "# instantiate learning model k = optimal_k\n",
    "knn_optimal = KNeighborsClassifier(n_neighbors=optimal_k,algorithm='brute')\n",
    "\n",
    "# fitting the model\n",
    "knn_optimal.fit(X_train, y_train)\n",
    "\n",
    "# predict the response\n",
    "pred = knn_optimal.predict(X_test)\n",
    "\n",
    "# evaluate accuracy\n",
    "acc = accuracy_score(y_test, pred) * 100\n",
    "print('\\nThe accuracy of the knn classifier using brute for k = %d is %f%%' % (optimal_k, acc))\n",
    "  "
   ]
  },
  {
   "cell_type": "code",
   "execution_count": 65,
   "metadata": {},
   "outputs": [
    {
     "data": {
      "image/png": "[encoded data removed]",
      "text/plain": [
       "<matplotlib.figure.Figure at 0x1ca97906208>"
      ]
     },
     "metadata": {},
     "output_type": "display_data"
    }
   ],
   "source": [
    "import warnings\n",
    "warnings.filterwarnings('ignore')\n",
    "from sklearn.model_selection import validation_curve\n",
    "#create plot for training and test validation\n",
    "# We cannot put 0 in parameter it will give error while validation_curve\n",
    "n_neighbors=[1,2,3,4,5,6,7,8,9,10,11,12,13,14,15,16,17,18,19,20]\n",
    "param_range=[1,2,3,4,5,6,7,8,9,10,11,12,13,14,15,16,17,18,19,20]\n",
    "\n",
    "train_scores, test_scores = validation_curve(KNeighborsClassifier(), X_train, y_train, param_name=\"n_neighbors\",param_range=n_neighbors,cv=5)\n",
    "#print(train_scores,test_scores)\n",
    "train_scores_mean = np.mean(train_scores, axis=1)\n",
    "train_scores_std = np.std(train_scores, axis=1)\n",
    "test_scores_mean = np.mean(test_scores, axis=1)\n",
    "test_scores_std = np.std(test_scores, axis=1)\n",
    "\n",
    "plt.plot(param_range, train_scores_mean, label=\"Training score\", color=\"black\")\n",
    "plt.plot(param_range, test_scores_mean, label=\"Cross-validation score\", color=\"red\")\n",
    "plt.fill_between(param_range, train_scores_mean - train_scores_std, train_scores_mean + train_scores_std, color=\"gray\")\n",
    "plt.fill_between(param_range, test_scores_mean - test_scores_std, test_scores_mean + test_scores_std, color=\"green\")\n",
    "plt.title(\"Validation Curve for naive bayes for different alpha value\")\n",
    "plt.xlabel(\"alpha value\")\n",
    "plt.ylabel(\"Accuracy Score\")\n",
    "plt.xlim(0,20)\n",
    "plt.tight_layout()\n",
    "plt.legend(loc=\"best\")\n",
    "plt.show()\n"
   ]
  },
  {
   "cell_type": "markdown",
   "metadata": {
    "collapsed": true
   },
   "source": [
    "# Here is the performance accuracy\n",
    "The knn is very slow compare to other model\n",
    "\n",
    "For BOW brute/kd-tree k=9 69\n",
    "\n",
    "TFIDF kd-tree/brute with k=9 and 68\n",
    "\n",
    "sentence avg W2V kd-tree/brute k=9 71\n",
    "\n",
    "sentence avg tfidf kd-tree/brute w2v k=9 68\n",
    "\n",
    "So best is with W2V avg sentence with accuracy 71% and k=9"
   ]
  },
  {
   "cell_type": "code",
   "execution_count": null,
   "metadata": {
    "collapsed": true
   },
   "outputs": [],
   "source": []
  },
  {
   "cell_type": "code",
   "execution_count": null,
   "metadata": {
    "collapsed": true
   },
   "outputs": [],
   "source": []
  },
  {
   "cell_type": "code",
   "execution_count": null,
   "metadata": {
    "collapsed": true
   },
   "outputs": [],
   "source": []
  },
  {
   "cell_type": "code",
   "execution_count": null,
   "metadata": {
    "collapsed": true
   },
   "outputs": [],
   "source": []
  },
  {
   "cell_type": "code",
   "execution_count": null,
   "metadata": {
    "collapsed": true
   },
   "outputs": [],
   "source": []
  },
  {
   "cell_type": "code",
   "execution_count": null,
   "metadata": {
    "collapsed": true
   },
   "outputs": [],
   "source": []
  },
  {
   "cell_type": "code",
   "execution_count": null,
   "metadata": {
    "collapsed": true
   },
   "outputs": [],
   "source": []
  },
  {
   "cell_type": "code",
   "execution_count": null,
   "metadata": {
    "collapsed": true
   },
   "outputs": [],
   "source": []
  }
 ],
 "metadata": {
  "kernelspec": {
   "display_name": "Python 3",
   "language": "python",
   "name": "python3"
  },
  "language_info": {
   "codemirror_mode": {
    "name": "ipython",
    "version": 3
   },
   "file_extension": ".py",
   "mimetype": "text/x-python",
   "name": "python",
   "nbconvert_exporter": "python",
   "pygments_lexer": "ipython3",
   "version": "3.6.1"
  }
 },
 "nbformat": 4,
 "nbformat_minor": 2
}
