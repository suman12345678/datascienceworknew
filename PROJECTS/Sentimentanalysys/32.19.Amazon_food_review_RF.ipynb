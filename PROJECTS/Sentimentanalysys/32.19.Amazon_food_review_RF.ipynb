{
 "cells": [
  {
   "cell_type": "markdown",
   "metadata": {},
   "source": [
    "# Amazon food review dataset apply RF to predict polarity review\n",
    "\n",
    "Data set from https://www.kaggle.com/snap/amazon-fine-food-reviews\n",
    "\n",
    "# Objective\n",
    "Here try BOW,TFIDF,avg W2V, avg TFIDFW2V and different hyperparameter RF(no of base learner) \n",
    "# Import data and libraries\n",
    " \n",
    " "
   ]
  },
  {
   "cell_type": "code",
   "execution_count": 25,
   "metadata": {
    "collapsed": true
   },
   "outputs": [],
   "source": [
    "import sqlite3\n",
    "import pandas as pd\n",
    "import numpy as np\n",
    "import nltk\n",
    "import string\n",
    "import matplotlib.pyplot as plt\n",
    "import seaborn as sns\n",
    "from sklearn.feature_extraction.text import TfidfTransformer\n",
    "from sklearn.feature_extraction.text import TfidfVectorizer\n",
    "from sklearn.feature_extraction.text import CountVectorizer\n",
    "from sklearn.metrics import confusion_matrix\n",
    "from sklearn import metrics\n",
    "from sklearn.metrics import roc_curve, auc\n",
    "from nltk.stem.porter import PorterStemmer\n",
    "con = sqlite3.connect('database.sqlite') \n",
    "#get only +ve and -ve review \n",
    "raw_data = pd.read_sql_query(\"\"\"SELECT * FROM Reviews WHERE Score != 3\"\"\", con) "
   ]
  },
  {
   "cell_type": "markdown",
   "metadata": {},
   "source": [
    "# Data preprocessing"
   ]
  },
  {
   "cell_type": "code",
   "execution_count": 26,
   "metadata": {
    "collapsed": true
   },
   "outputs": [],
   "source": [
    "filtered_data=raw_data\n",
    "# Score>3 a positive rating, and score<3 a negative rating.\n",
    "def partition(x):\n",
    "    if x < 3:\n",
    "        return 'negative'\n",
    "    return 'positive'\n",
    "\n",
    "#changing reviews with score less than 3 to be positive and vice-versa\n",
    "actualScore = filtered_data['Score']\n",
    "positiveNegative = actualScore.map(partition) \n",
    "filtered_data['Score'] = positiveNegative\n",
    "#filtered_data.sample(5)\n",
    "filtered_data['Score'].value_counts()\n",
    "#Sorting data according to ProductId in ascending order\n",
    "sorted_data=filtered_data.sort_values('ProductId', axis=0, ascending=True, inplace=False, kind='quicksort', na_position='last')\n",
    "#Deduplication of entries for same profilename,userid, time, text and take first element \n",
    "sorted_data=sorted_data.drop_duplicates(subset={\"UserId\",\"ProfileName\",\"Time\",\"Text\"}, keep='first', inplace=False)"
   ]
  },
  {
   "cell_type": "code",
   "execution_count": 27,
   "metadata": {},
   "outputs": [
    {
     "data": {
      "text/plain": [
       "positive    33727\n",
       "negative     6273\n",
       "Name: Score, dtype: int64"
      ]
     },
     "execution_count": 27,
     "metadata": {},
     "output_type": "execute_result"
    }
   ],
   "source": [
    "#take only 2500 + 2500 data\n",
    "from sklearn.cross_validation import train_test_split,KFold\n",
    "_ , clean_data = train_test_split(sorted_data, test_size = 40000, random_state=0,stratify = sorted_data['Score'] )\n",
    "clean_data['Score'].value_counts()"
   ]
  },
  {
   "cell_type": "code",
   "execution_count": 28,
   "metadata": {},
   "outputs": [
    {
     "data": {
      "text/html": [
       "<div>\n",
       "<style>\n",
       "    .dataframe thead tr:only-child th {\n",
       "        text-align: right;\n",
       "    }\n",
       "\n",
       "    .dataframe thead th {\n",
       "        text-align: left;\n",
       "    }\n",
       "\n",
       "    .dataframe tbody tr th {\n",
       "        vertical-align: top;\n",
       "    }\n",
       "</style>\n",
       "<table border=\"1\" class=\"dataframe\">\n",
       "  <thead>\n",
       "    <tr style=\"text-align: right;\">\n",
       "      <th></th>\n",
       "      <th>Id</th>\n",
       "      <th>ProductId</th>\n",
       "      <th>UserId</th>\n",
       "      <th>ProfileName</th>\n",
       "      <th>HelpfulnessNumerator</th>\n",
       "      <th>HelpfulnessDenominator</th>\n",
       "      <th>Score</th>\n",
       "      <th>Time</th>\n",
       "      <th>Summary</th>\n",
       "      <th>Text</th>\n",
       "      <th>CleanedText</th>\n",
       "    </tr>\n",
       "  </thead>\n",
       "  <tbody>\n",
       "    <tr>\n",
       "      <th>242151</th>\n",
       "      <td>262623</td>\n",
       "      <td>B003UGZOC0</td>\n",
       "      <td>A1I4M2EYH36A5V</td>\n",
       "      <td>Shannon Joyce</td>\n",
       "      <td>3</td>\n",
       "      <td>3</td>\n",
       "      <td>positive</td>\n",
       "      <td>1322352000</td>\n",
       "      <td>High Quality from Hill's</td>\n",
       "      <td>We live in Santiago, Chile and the pickings we...</td>\n",
       "      <td>b'live santiago chile pick slim far qualiti co...</td>\n",
       "    </tr>\n",
       "    <tr>\n",
       "      <th>320453</th>\n",
       "      <td>346891</td>\n",
       "      <td>B003CZG0SG</td>\n",
       "      <td>A1BEHDHARZDIMR</td>\n",
       "      <td>Tammie Sokoloff \"Nashira\"</td>\n",
       "      <td>2</td>\n",
       "      <td>2</td>\n",
       "      <td>positive</td>\n",
       "      <td>1295222400</td>\n",
       "      <td>THE BEST!!!</td>\n",
       "      <td>This stuff is great, tastes just like sugar an...</td>\n",
       "      <td>b'stuff great tast like sugar measur like suga...</td>\n",
       "    </tr>\n",
       "  </tbody>\n",
       "</table>\n",
       "</div>"
      ],
      "text/plain": [
       "            Id   ProductId          UserId                ProfileName  \\\n",
       "242151  262623  B003UGZOC0  A1I4M2EYH36A5V              Shannon Joyce   \n",
       "320453  346891  B003CZG0SG  A1BEHDHARZDIMR  Tammie Sokoloff \"Nashira\"   \n",
       "\n",
       "        HelpfulnessNumerator  HelpfulnessDenominator     Score        Time  \\\n",
       "242151                     3                       3  positive  1322352000   \n",
       "320453                     2                       2  positive  1295222400   \n",
       "\n",
       "                         Summary  \\\n",
       "242151  High Quality from Hill's   \n",
       "320453               THE BEST!!!   \n",
       "\n",
       "                                                     Text  \\\n",
       "242151  We live in Santiago, Chile and the pickings we...   \n",
       "320453  This stuff is great, tastes just like sugar an...   \n",
       "\n",
       "                                              CleanedText  \n",
       "242151  b'live santiago chile pick slim far qualiti co...  \n",
       "320453  b'stuff great tast like sugar measur like suga...  "
      ]
     },
     "execution_count": 28,
     "metadata": {},
     "output_type": "execute_result"
    }
   ],
   "source": [
    "# Clean html tag and punctuation\n",
    "import re\n",
    "import string\n",
    "from nltk.corpus import stopwords\n",
    "from nltk.stem import PorterStemmer\n",
    "from nltk.stem.wordnet import WordNetLemmatizer\n",
    "\n",
    "stop = set(stopwords.words('english')) #set of stopwords\n",
    "sno = nltk.stem.SnowballStemmer('english') #initialising the snowball stemmer\n",
    "#substitute html tag and punctuation\n",
    "def cleanhtml(sentence): #function to clean the word of any html-tags\n",
    "    cleanr = re.compile('<.*?>')\n",
    "    cleantext = re.sub(cleanr, ' ', sentence)\n",
    "    return cleantext\n",
    "def cleanpunc(sentence): #function to clean the word of any punctuation or special characters\n",
    "    cleaned = re.sub(r'[?|!|\\'|\"|#]',r'',sentence)\n",
    "    cleaned = re.sub(r'[.|,|)|(|\\|/]',r' ',cleaned)\n",
    "    return  cleaned\n",
    "#print(sno.stem('tasty'))\n",
    "\n",
    "i=0\n",
    "str1=' '\n",
    "final_string=[]\n",
    "all_positive_words=[] # store words from +ve reviews here\n",
    "all_negative_words=[] # store words from -ve reviews here.\n",
    "s=''\n",
    "#Create new catagory as Cleanedtext after removing htmltag and punctuation and uppercase and word length >2\n",
    "for sent in clean_data['Text'].values:\n",
    "    filtered_sentence=[]\n",
    "    #print(sent);\n",
    "    sent=cleanhtml(sent) # remove HTMl tags\n",
    "    for w in sent.split():\n",
    "        for cleaned_words in cleanpunc(w).split():\n",
    "            if((cleaned_words.isalpha()) & (len(cleaned_words)>2)):    \n",
    "                if(cleaned_words.lower() not in stop):\n",
    "                    s=(sno.stem(cleaned_words.lower())).encode('utf8')\n",
    "                    filtered_sentence.append(s)\n",
    "                    if (clean_data['Score'].values)[i] == 'positive': \n",
    "                        all_positive_words.append(s) #list of all words used to describe positive reviews\n",
    "                    if(clean_data['Score'].values)[i] == 'negative':\n",
    "                        all_negative_words.append(s) #list of all words used to describe negative reviews reviews\n",
    "                else:\n",
    "                    continue\n",
    "            else:\n",
    "                continue \n",
    "    str1 = b\" \".join(filtered_sentence) #final string of cleaned words\n",
    "    \n",
    "    final_string.append(str1)\n",
    "    i+=1  \n",
    "    \n",
    "clean_data['CleanedText']=final_string\n",
    "clean_data.shape\n",
    "#Sort data on timestamp\n",
    "clean_data=clean_data.sort_values(by=['Time'],ascending=False)\n",
    "clean_data.sample(2)\n",
    "\n"
   ]
  },
  {
   "cell_type": "markdown",
   "metadata": {
    "collapsed": true
   },
   "source": [
    "# Split train and test data"
   ]
  },
  {
   "cell_type": "code",
   "execution_count": 29,
   "metadata": {},
   "outputs": [
    {
     "name": "stdout",
     "output_type": "stream",
     "text": [
      "size of X_train, X_test, y_train , y_test  (28000,) (12000,) (28000,) (12000,)\n",
      "positive and negative review in train and test\n",
      " positive    23774\n",
      "negative     4226\n",
      "Name: Score, dtype: int64 \n",
      " positive    9953\n",
      "negative    2047\n",
      "Name: Score, dtype: int64\n"
     ]
    }
   ],
   "source": [
    "x=clean_data['CleanedText'].values\n",
    "y = clean_data['Score']\n",
    "n=x.shape[0]\n",
    "n1=int(n*.3)\n",
    "X_test_raw = x[0:n1]\n",
    "X_train_raw= x[n1:n+1]\n",
    "y_test=y[0:n1]\n",
    "y_train=y[n1:n+1]\n",
    "print('size of X_train, X_test, y_train , y_test ',X_train_raw.shape, X_test_raw.shape,y_train.shape,y_test.shape)\n",
    "print(\"positive and negative review in train and test\\n\",y_train.value_counts(),\"\\n\",y_test.value_counts())"
   ]
  },
  {
   "cell_type": "markdown",
   "metadata": {},
   "source": []
  },
  {
   "cell_type": "code",
   "execution_count": null,
   "metadata": {},
   "outputs": [],
   "source": []
  },
  {
   "cell_type": "code",
   "execution_count": null,
   "metadata": {
    "collapsed": true
   },
   "outputs": [],
   "source": []
  },
  {
   "cell_type": "code",
   "execution_count": null,
   "metadata": {
    "collapsed": true
   },
   "outputs": [],
   "source": []
  },
  {
   "cell_type": "markdown",
   "metadata": {},
   "source": []
  },
  {
   "cell_type": "markdown",
   "metadata": {},
   "source": []
  },
  {
   "cell_type": "markdown",
   "metadata": {},
   "source": []
  },
  {
   "cell_type": "code",
   "execution_count": null,
   "metadata": {},
   "outputs": [],
   "source": []
  },
  {
   "cell_type": "markdown",
   "metadata": {
    "collapsed": true
   },
   "source": []
  },
  {
   "cell_type": "code",
   "execution_count": null,
   "metadata": {},
   "outputs": [],
   "source": []
  },
  {
   "cell_type": "markdown",
   "metadata": {
    "collapsed": true
   },
   "source": []
  },
  {
   "cell_type": "code",
   "execution_count": null,
   "metadata": {
    "collapsed": true
   },
   "outputs": [],
   "source": []
  },
  {
   "cell_type": "markdown",
   "metadata": {},
   "source": [
    "\n"
   ]
  },
  {
   "cell_type": "code",
   "execution_count": null,
   "metadata": {
    "collapsed": true
   },
   "outputs": [],
   "source": []
  },
  {
   "cell_type": "code",
   "execution_count": null,
   "metadata": {
    "collapsed": true
   },
   "outputs": [],
   "source": []
  },
  {
   "cell_type": "code",
   "execution_count": null,
   "metadata": {
    "collapsed": true
   },
   "outputs": [],
   "source": []
  },
  {
   "cell_type": "code",
   "execution_count": null,
   "metadata": {
    "collapsed": true
   },
   "outputs": [],
   "source": []
  },
  {
   "cell_type": "markdown",
   "metadata": {},
   "source": []
  },
  {
   "cell_type": "code",
   "execution_count": null,
   "metadata": {
    "collapsed": true
   },
   "outputs": [],
   "source": []
  },
  {
   "cell_type": "markdown",
   "metadata": {},
   "source": []
  },
  {
   "cell_type": "code",
   "execution_count": null,
   "metadata": {
    "collapsed": true
   },
   "outputs": [],
   "source": []
  },
  {
   "cell_type": "code",
   "execution_count": null,
   "metadata": {
    "collapsed": true
   },
   "outputs": [],
   "source": []
  },
  {
   "cell_type": "markdown",
   "metadata": {},
   "source": [
    "# Build Random Forest\n",
    "# BOW"
   ]
  },
  {
   "cell_type": "markdown",
   "metadata": {
    "collapsed": true
   },
   "source": [
    "#plot accuracy with k value"
   ]
  },
  {
   "cell_type": "code",
   "execution_count": 19,
   "metadata": {},
   "outputs": [
    {
     "name": "stdout",
     "output_type": "stream",
     "text": [
      "(28000, 20761) (12000, 20761)\n",
      "Best parameters \n",
      " RandomForestClassifier(bootstrap=True, class_weight=None, criterion='gini',\n",
      "            max_depth=None, max_features='auto', max_leaf_nodes=None,\n",
      "            min_impurity_decrease=0.0, min_impurity_split=None,\n",
      "            min_samples_leaf=1, min_samples_split=2,\n",
      "            min_weight_fraction_leaf=0.0, n_estimators=50, n_jobs=1,\n",
      "            oob_score=False, random_state=None, verbose=0,\n",
      "            warm_start=False)\n",
      "Predicted  negative  positive    All\n",
      "Actual                              \n",
      "negative       4225         1   4226\n",
      "positive          0     23774  23774\n",
      "All            4225     23775  28000\n"
     ]
    }
   ],
   "source": [
    "#now convert CleanedText to TDM\n",
    "count_vect = CountVectorizer() #in scikit-learn\n",
    "X_train = count_vect.fit_transform(X_train_raw)\n",
    "\n",
    "#use the same vectors to convert test data\n",
    "X_test=count_vect.transform(X_test_raw)\n",
    "print(X_train.get_shape(),X_test.get_shape())\n",
    "\n",
    "#print(final_counts[0,:])# this is stored like dict format only non zero values. sparse matrix\n",
    "#x = pd.DataFrame(final_counts.toarray())#this is stored like dataframe format all 0 and non zero values. dense matrix\n",
    "# sparse matrix in csr format works faster compare to dense format\n",
    "#print(x.shape,x.loc[0])# sparse matrix in csr format works faster compare to dense format\n",
    "#print(x.shape,x.loc[0])\n",
    "\n",
    "# Use RF\n",
    "from sklearn.tree import DecisionTreeClassifier\n",
    "from sklearn.ensemble import GradientBoostingClassifier,RandomForestClassifier\n",
    "#RandomForestClassifier(n_estimators=10)\n",
    "from sklearn.grid_search import GridSearchCV\n",
    "\n",
    "#GradientBoostingClassifier(learning_rate=0.1, n_estimators=100, max_depth=3, random_state=0)\n",
    "\n",
    "n_estimators=[10,50,100]\n",
    "\n",
    "tuned_parameters=dict(n_estimators=n_estimators)\n",
    "\n",
    "#Using GridSearchCV\n",
    "model = GridSearchCV(RandomForestClassifier(), tuned_parameters, cv=5)\n",
    "model.fit(X_train, y_train)\n",
    "\n",
    "\n",
    "print('Best parameters \\n',model.best_estimator_)\n",
    "#print('Model test score', model.score(X_test, y_test))\n",
    "\n",
    "optimumn_estimators=model.best_estimator_.n_estimators\n",
    "\n",
    "#build model with optimum parameter\n",
    "model = RandomForestClassifier(n_estimators=optimumn_estimators)\n",
    "model.fit(X_train, y_train)\n",
    "\n",
    "#Store scores\n",
    "pred=model.predict(X_test)\n",
    "mat=pd.crosstab(y_test, pred, rownames=['Actual'], colnames=['Predicted'], margins=True) \n",
    "tp=mat.iloc[1,1] ;tn=mat.iloc[0,0] ;fp=mat.iloc[0,1];fn=mat.iloc[1,0];precision=tp/(tp+fp) \n",
    "recall=tp/(tp+fn);fscoretest=2*precision*recall/(precision+recall)\n",
    "\n",
    "pred=model.predict(X_train)\n",
    "mat=pd.crosstab(y_train, pred, rownames=['Actual'], colnames=['Predicted'], margins=True) \n",
    "print(mat);tp=mat.iloc[1,1] ;tn=mat.iloc[0,0];fp=mat.iloc[0,1] ;fn=mat.iloc[1,0] ;precision=tp/(tp+fp);\n",
    "recall=tp/(tp+fn);fscoretrain=2*precision*recall/(precision+recall)\n",
    "\n",
    "\n",
    "aa=pd.DataFrame({'type':['BOW RF'],'depth':['na'],'estimator':[optimumn_estimators], \\\n",
    "                  'learningrate':['na'],'accuracy_train':[model.score(X_train,y_train)], \\\n",
    "                 'fscore_train':[fscoretrain],'accuracy_test':[model.score(X_test,y_test)],'fscore_test':[fscoretest]})"
   ]
  },
  {
   "cell_type": "markdown",
   "metadata": {},
   "source": [
    "# TFIDF"
   ]
  },
  {
   "cell_type": "code",
   "execution_count": 20,
   "metadata": {},
   "outputs": [
    {
     "name": "stdout",
     "output_type": "stream",
     "text": [
      "(28000, 20761) (12000, 20761)\n",
      "size of X_train, X_test, y_train , y_test  (28000, 20761) (12000, 20761) (28000,) (12000,)\n",
      "Best parameters \n",
      " RandomForestClassifier(bootstrap=True, class_weight=None, criterion='gini',\n",
      "            max_depth=None, max_features='auto', max_leaf_nodes=None,\n",
      "            min_impurity_decrease=0.0, min_impurity_split=None,\n",
      "            min_samples_leaf=1, min_samples_split=2,\n",
      "            min_weight_fraction_leaf=0.0, n_estimators=50, n_jobs=1,\n",
      "            oob_score=False, random_state=None, verbose=0,\n",
      "            warm_start=False)\n",
      "Predicted  negative  positive    All\n",
      "Actual                              \n",
      "negative       4222         4   4226\n",
      "positive          0     23774  23774\n",
      "All            4222     23778  28000\n"
     ]
    }
   ],
   "source": [
    "tf_idf_vect = TfidfVectorizer()\n",
    "final_counts = tf_idf_vect.fit_transform(X_train_raw)\n",
    "#use the same vectors to convert test data\n",
    "X_test=count_vect.transform(X_test_raw)\n",
    "\n",
    "print(X_train.get_shape(),X_test.get_shape())\n",
    "#Use scale of train and apply to test\n",
    "from sklearn.preprocessing import StandardScaler\n",
    "scaler = StandardScaler(with_mean=False).fit(X_train)\n",
    "#X_train = scaler.transform(X_train)\n",
    "#X_test  = scaler.transform(X_test)\n",
    "print('size of X_train, X_test, y_train , y_test ',X_train.shape, X_test.shape,y_train.shape,y_test.shape)\n",
    "\n",
    "\n",
    "# Use RF\n",
    "from sklearn.tree import DecisionTreeClassifier\n",
    "from sklearn.ensemble import GradientBoostingClassifier,RandomForestClassifier\n",
    "#RandomForestClassifier(n_estimators=10)\n",
    "from sklearn.grid_search import GridSearchCV\n",
    "\n",
    "#GradientBoostingClassifier(learning_rate=0.1, n_estimators=100, max_depth=3, random_state=0)\n",
    "\n",
    "n_estimators=[10,50,100]\n",
    "\n",
    "tuned_parameters=dict(n_estimators=n_estimators)\n",
    "\n",
    "#Using GridSearchCV\n",
    "model = GridSearchCV(RandomForestClassifier(), tuned_parameters, cv=5)\n",
    "model.fit(X_train, y_train)\n",
    "\n",
    "\n",
    "print('Best parameters \\n',model.best_estimator_)\n",
    "#print('Model test score', model.score(X_test, y_test))\n",
    "\n",
    "optimumn_estimators=model.best_estimator_.n_estimators\n",
    "\n",
    "#build model with optimum parameter\n",
    "model = RandomForestClassifier(n_estimators=optimumn_estimators)\n",
    "model.fit(X_train, y_train)\n",
    "\n",
    "#Store scores\n",
    "pred=model.predict(X_test)\n",
    "mat=pd.crosstab(y_test, pred, rownames=['Actual'], colnames=['Predicted'], margins=True) \n",
    "tp=mat.iloc[1,1] ;tn=mat.iloc[0,0] ;fp=mat.iloc[0,1];fn=mat.iloc[1,0];precision=tp/(tp+fp) \n",
    "recall=tp/(tp+fn);fscoretest=2*precision*recall/(precision+recall)\n",
    "\n",
    "pred=model.predict(X_train)\n",
    "mat=pd.crosstab(y_train, pred, rownames=['Actual'], colnames=['Predicted'], margins=True) \n",
    "print(mat);tp=mat.iloc[1,1] ;tn=mat.iloc[0,0];fp=mat.iloc[0,1] ;fn=mat.iloc[1,0] ;precision=tp/(tp+fp);\n",
    "recall=tp/(tp+fn);fscoretrain=2*precision*recall/(precision+recall)\n",
    "\n",
    "\n",
    "bb=pd.DataFrame({'type':['TFIDF RF'],'depth':['na'],'estimator':[optimumn_estimators], \\\n",
    "                  'learningrate':['na'],'accuracy_train':[model.score(X_train,y_train)], \\\n",
    "                 'fscore_train':[fscoretrain],'accuracy_test':[model.score(X_test,y_test)],'fscore_test':[fscoretest]})\n",
    "aa=aa.append(bb)\n",
    "\n",
    "\n",
    "\n"
   ]
  },
  {
   "cell_type": "markdown",
   "metadata": {},
   "source": []
  },
  {
   "cell_type": "code",
   "execution_count": null,
   "metadata": {
    "collapsed": true
   },
   "outputs": [],
   "source": []
  },
  {
   "cell_type": "markdown",
   "metadata": {
    "collapsed": true
   },
   "source": []
  },
  {
   "cell_type": "code",
   "execution_count": null,
   "metadata": {
    "collapsed": true
   },
   "outputs": [],
   "source": []
  },
  {
   "cell_type": "markdown",
   "metadata": {
    "collapsed": true
   },
   "source": [
    "# AVG W2V"
   ]
  },
  {
   "cell_type": "code",
   "execution_count": 36,
   "metadata": {},
   "outputs": [
    {
     "name": "stdout",
     "output_type": "stream",
     "text": [
      "size of X_train, X_test, y_train , y_test  (28000, 50) (12000, 50) (28000,) (12000,)\n",
      "Checkinf for NaN and Inf\n",
      "np.inf= (array([], dtype=int64), array([], dtype=int64))\n",
      "is.inf= (array([], dtype=int64), array([], dtype=int64))\n",
      "Best parameters \n",
      " RandomForestClassifier(bootstrap=True, class_weight=None, criterion='gini',\n",
      "            max_depth=None, max_features='auto', max_leaf_nodes=None,\n",
      "            min_impurity_decrease=0.0, min_impurity_split=None,\n",
      "            min_samples_leaf=1, min_samples_split=2,\n",
      "            min_weight_fraction_leaf=0.0, n_estimators=100, n_jobs=1,\n",
      "            oob_score=False, random_state=None, verbose=0,\n",
      "            warm_start=False)\n",
      "Predicted  negative  positive    All\n",
      "Actual                              \n",
      "negative       4226         0   4226\n",
      "positive          0     23774  23774\n",
      "All            4226     23774  28000\n"
     ]
    }
   ],
   "source": [
    "#ignore warning\n",
    "import warnings\n",
    "warnings.filterwarnings('ignore')\n",
    "from gensim.models import Word2Vec\n",
    "from gensim.models import KeyedVectors\n",
    "import pickle\n",
    "model = KeyedVectors.load_word2vec_format('GoogleNews-vectors-negative300.bin.gz', binary=True)\n",
    "import gensim\n",
    "i=0\n",
    "#create a list of list to be used in W2V \n",
    "list_of_sent_train=[]\n",
    "for sent in X_train_raw:  #clean_data['CleanedText'].values:\n",
    "    filtered_sentence=[]\n",
    "    #sent=cleanhtml(sent)\n",
    "    for w in sent.split():\n",
    "        #for cleaned_words in cleanpunc(w).split():\n",
    "         for cleaned_words in w.split():\n",
    "            if(cleaned_words.isalpha()):    \n",
    "                filtered_sentence.append(cleaned_words.lower().decode('utf8'))\n",
    "            else:\n",
    "                continue \n",
    "    list_of_sent_train.append(filtered_sentence)\n",
    "#convert each sentence's words to a vector of 50 dimension. Dont construct vec if word doesnot occur 5 times. And for each word construct 50 dimension vector\n",
    "#and 4 core processor\n",
    "w2v_model=gensim.models.Word2Vec(list_of_sent_train,min_count=5,size=50, workers=4)   \n",
    "\n",
    "# average Word2Vec\n",
    "# for each sentence make average of vectors by (vectors of each words)/(total no of words)\n",
    "# compute average word2vec for each review.\n",
    "sent_vectors_train = []; # the avg-w2v for each sentence/review is stored in this list\n",
    "for sent in list_of_sent_train: # for each review/sentence\n",
    "    sent_vec = np.zeros(50) # as word vectors are of zero length\n",
    "    cnt_words =0; # num of words with a valid vector in the sentence/review\n",
    "    for word in sent: # for each word in a review/sentence\n",
    "        try:\n",
    "            vec = w2v_model.wv[word]\n",
    "            sent_vec += vec\n",
    "            cnt_words += 1\n",
    "        except:\n",
    "            pass\n",
    "    sent_vec /= cnt_words\n",
    "    sent_vectors_train.append(sent_vec)  \n",
    "\n",
    "    \n",
    "#convert W2V test data\n",
    "i=0\n",
    "#create a list of list to be used in W2V \n",
    "list_of_sent_test=[]\n",
    "for sent in X_test_raw:  #clean_data['CleanedText'].values:\n",
    "    filtered_sentence=[]\n",
    "    #sent=cleanhtml(sent)\n",
    "    for w in sent.split():\n",
    "        #for cleaned_words in cleanpunc(w).split():\n",
    "         for cleaned_words in w.split():\n",
    "            if(cleaned_words.isalpha()):    \n",
    "                filtered_sentence.append(cleaned_words.lower().decode('utf8'))\n",
    "            else:\n",
    "                continue \n",
    "    list_of_sent_test.append(filtered_sentence)\n",
    "#convert each sentence's words to a vector of 50 dimension. Dont construct vec if word doesnot occur 5 times. And for each word construct 50 dimension vector\n",
    "#and 4 core processor\n",
    "w2v_model=gensim.models.Word2Vec(list_of_sent_test,min_count=5,size=50, workers=4)   \n",
    "\n",
    "# average Word2Vec\n",
    "# for each sentence make average of vectors by (vectors of each words)/(total no of words)\n",
    "# compute average word2vec for each review.\n",
    "sent_vectors_test = []; # the avg-w2v for each sentence/review is stored in this list\n",
    "for sent in list_of_sent_test: # for each review/sentence\n",
    "    sent_vec = np.zeros(50) # as word vectors are of zero length\n",
    "    cnt_words =0; # num of words with a valid vector in the sentence/review\n",
    "    for word in sent: # for each word in a review/sentence\n",
    "        try:\n",
    "            vec = w2v_model.wv[word]\n",
    "            sent_vec += vec\n",
    "            cnt_words += 1\n",
    "        except:\n",
    "            pass\n",
    "    sent_vec /= cnt_words\n",
    "    sent_vectors_test.append(sent_vec)  \n",
    "\n",
    "# try\n",
    "X_train = pd.DataFrame(sent_vectors_train)\n",
    "X_test = pd.DataFrame(sent_vectors_test)\n",
    "\n",
    "#X_train = sent_vectors_train\n",
    "#X_test = sent_vectors_test\n",
    "\n",
    "#X_train_w2v=X_train\n",
    "#X_test_w2v=X_test\n",
    "print('size of X_train, X_test, y_train , y_test ',X_train.shape, X_test.shape,y_train.shape,y_test.shape)\n",
    "#to avoid \"ValueError: Input contains NaN, infinity or a value too large for dtype('float32').\"\n",
    "X_test.fillna(X_test.mean())\n",
    "X_train.fillna(X_train.mean())\n",
    "\n",
    "X_train=np.nan_to_num(X_train) # replace nan with zero and inf with finite numbers\n",
    "X_test=np.nan_to_num(X_test) # replace nan with zero and inf with finite numbers\n",
    "\n",
    "#np.nan_to_num(X_train)\n",
    "#np.nan_to_num(X_test)\n",
    "\n",
    "\n",
    "print(\"Checkinf for NaN and Inf\")\n",
    "print(\"np.inf=\", np.where(np.isnan(X_train)))\n",
    "print(\"is.inf=\", np.where(np.isinf(X_train)))\n",
    "\n",
    "n_estimators=[10,50,100]\n",
    "tuned_parameters=dict(n_estimators=n_estimators)\n",
    "model = GridSearchCV(RandomForestClassifier(), tuned_parameters, cv=5)\n",
    "model.fit(X_train, y_train)\n",
    "print('Best parameters \\n',model.best_estimator_)\n",
    "optimumn_estimators=model.best_estimator_.n_estimators\n",
    "#build model with optimum parameter\n",
    "model = RandomForestClassifier(n_estimators=optimumn_estimators)\n",
    "model.fit(X_train, y_train)\n",
    "#Store scores\n",
    "pred=model.predict(X_test)\n",
    "mat=pd.crosstab(y_test, pred, rownames=['Actual'], colnames=['Predicted'], margins=True) \n",
    "tp=mat.iloc[1,1] ;tn=mat.iloc[0,0] ;fp=mat.iloc[0,1];fn=mat.iloc[1,0];precision=tp/(tp+fp) \n",
    "recall=tp/(tp+fn);fscoretest=2*precision*recall/(precision+recall)\n",
    "\n",
    "pred=model.predict(X_train)\n",
    "mat=pd.crosstab(y_train, pred, rownames=['Actual'], colnames=['Predicted'], margins=True) \n",
    "print(mat);tp=mat.iloc[1,1] ;tn=mat.iloc[0,0];fp=mat.iloc[0,1] ;fn=mat.iloc[1,0] ;precision=tp/(tp+fp);\n",
    "recall=tp/(tp+fn);fscoretrain=2*precision*recall/(precision+recall)\n",
    "\n",
    "bb=pd.DataFrame({'type':['AVG W2V RF'],'depth':['na'],'estimator':[optimumn_estimators], \\\n",
    "                  'learningrate':['na'],'accuracy_train':[model.score(X_train,y_train)], \\\n",
    "                 'fscore_train':[fscoretrain],'accuracy_test':[model.score(X_test,y_test)],'fscore_test':[fscoretest]})\n",
    "aa=aa.append(bb)"
   ]
  },
  {
   "cell_type": "markdown",
   "metadata": {},
   "source": [
    "# AVG TFIDF"
   ]
  },
  {
   "cell_type": "code",
   "execution_count": 37,
   "metadata": {},
   "outputs": [
    {
     "name": "stdout",
     "output_type": "stream",
     "text": [
      "Best parameters \n",
      " RandomForestClassifier(bootstrap=True, class_weight=None, criterion='gini',\n",
      "            max_depth=None, max_features='auto', max_leaf_nodes=None,\n",
      "            min_impurity_decrease=0.0, min_impurity_split=None,\n",
      "            min_samples_leaf=1, min_samples_split=2,\n",
      "            min_weight_fraction_leaf=0.0, n_estimators=100, n_jobs=1,\n",
      "            oob_score=False, random_state=None, verbose=0,\n",
      "            warm_start=False)\n",
      "Predicted  negative  positive    All\n",
      "Actual                              \n",
      "negative       4226         0   4226\n",
      "positive          0     23774  23774\n",
      "All            4226     23774  28000\n"
     ]
    }
   ],
   "source": [
    "#ignore warning\n",
    "import warnings\n",
    "warnings.filterwarnings('ignore')\n",
    "\n",
    "from gensim.models import Word2Vec\n",
    "from gensim.models import KeyedVectors\n",
    "import pickle\n",
    "model = KeyedVectors.load_word2vec_format('GoogleNews-vectors-negative300.bin.gz', binary=True)\n",
    "import gensim\n",
    "\n",
    "tf_idf_vect = TfidfVectorizer()\n",
    "final_tf_idf=tf_idf_vect.fit_transform(X_train_raw)\n",
    "tfidf_feat = tf_idf_vect.get_feature_names() # tfidf words/col-names\n",
    "# final_tf_idf is the sparse matrix with row= sentence, col=word and cell_val = tfidf\n",
    "\n",
    "tfidf_sent_vectors_train = []; # the tfidf-w2v for each sentence/review is stored in this list\n",
    "row=0;\n",
    "#calculate avg tfidf score for each sentences \n",
    "for sent in list_of_sent_train: # for each review/sentence\n",
    "    sent_vec = np.zeros(50) # as word vectors are of zero length\n",
    "    weight_sum =0; # num of words with a valid vector in the sentence/review\n",
    "    for word in sent: # for each word in a review/sentence\n",
    "        try:\n",
    "            vec = w2v_model.wv[word]#calculate w2v for each word\n",
    "            # obtain the tf_idfidf of a word in a sentence/review\n",
    "            tf_idf = final_tf_idf[row, tfidf_feat.index(word)]#get tfidf score of each word \n",
    "            sent_vec += (vec * tf_idf) # multiply vec with tfidf of each word and cumulative add of words in each sentence\n",
    "            weight_sum += tf_idf # also add tfidf sums in each sentence\n",
    "        except:\n",
    "            pass\n",
    "    sent_vec /= weight_sum\n",
    "    tfidf_sent_vectors_train.append(sent_vec)\n",
    "    row += 1\n",
    "#tfidf_sent_vectors.\n",
    "\n",
    "# do for test\n",
    "final_tf_idf=tf_idf_vect.transform(X_test_raw)\n",
    "tfidf_sent_vectors_test = []; # the tfidf-w2v for each sentence/review is stored in this list\n",
    "row=0;\n",
    "#calculate avg tfidf score for each sentences \n",
    "for sent in list_of_sent_test: # for each review/sentence\n",
    "    sent_vec = np.zeros(50) # as word vectors are of zero length\n",
    "    weight_sum =0; # num of words with a valid vector in the sentence/review\n",
    "    for word in sent: # for each word in a review/sentence\n",
    "        try:\n",
    "            vec = w2v_model.wv[word]#calculate w2v for each word\n",
    "            # obtain the tf_idfidf of a word in a sentence/review\n",
    "            tf_idf = final_tf_idf[row, tfidf_feat.index(word)]#get tfidf score of each word \n",
    "            sent_vec += (vec * tf_idf) # multiply vec with tfidf of each word and cumulative add of words in each sentence\n",
    "            weight_sum += tf_idf # also add tfidf sums in each sentence\n",
    "        except:\n",
    "            pass\n",
    "    sent_vec /= weight_sum\n",
    "    tfidf_sent_vectors_test.append(sent_vec)\n",
    "    row += 1\n",
    "\n",
    "#X_train = pd.DataFrame(tfidf_sent_vectors_train)\n",
    "#X_test = pd.DataFrame(tfidf_sent_vectors_test)\n",
    "\n",
    "X_train = tfidf_sent_vectors_train\n",
    "X_test = tfidf_sent_vectors_test\n",
    "\n",
    "#print('size of X_train, X_test, y_train , y_test ',X_train.shape, X_test.shape,y_train.shape,y_test.shape)\n",
    "\n",
    "#to avoid \"ValueError: Input contains NaN, infinity or a value too large for dtype('float32').\"\n",
    "#X_test.fillna(X_test.mean())\n",
    "#X_train.fillna(X_train.mean())\n",
    "X_train=np.nan_to_num(X_train) # replace nan with zero and inf with finite numbers\n",
    "X_test=np.nan_to_num(X_test) # replace nan with zero and inf with finite numbers\n",
    "\n",
    "#X_train=np.nan_to_num(X_train) # replace nan with zero and inf with finite numbers\n",
    "\n",
    "\n",
    "n_estimators=[10,50,100]\n",
    "tuned_parameters=dict(n_estimators=n_estimators)\n",
    "model = GridSearchCV(RandomForestClassifier(), tuned_parameters, cv=5)\n",
    "model.fit(X_train, y_train)\n",
    "print('Best parameters \\n',model.best_estimator_)\n",
    "optimumn_estimators=model.best_estimator_.n_estimators\n",
    "#build model with optimum parameter\n",
    "model = RandomForestClassifier(n_estimators=optimumn_estimators)\n",
    "model.fit(X_train, y_train)\n",
    "#Store scores\n",
    "pred=model.predict(X_test)\n",
    "mat=pd.crosstab(y_test, pred, rownames=['Actual'], colnames=['Predicted'], margins=True) \n",
    "tp=mat.iloc[1,1] ;tn=mat.iloc[0,0] ;fp=mat.iloc[0,1];fn=mat.iloc[1,0];precision=tp/(tp+fp) \n",
    "recall=tp/(tp+fn);fscoretest=2*precision*recall/(precision+recall)\n",
    "\n",
    "pred=model.predict(X_train)\n",
    "mat=pd.crosstab(y_train, pred, rownames=['Actual'], colnames=['Predicted'], margins=True) \n",
    "print(mat);tp=mat.iloc[1,1] ;tn=mat.iloc[0,0];fp=mat.iloc[0,1] ;fn=mat.iloc[1,0] ;precision=tp/(tp+fp);\n",
    "recall=tp/(tp+fn);fscoretrain=2*precision*recall/(precision+recall)\n",
    "\n",
    "bb=pd.DataFrame({'type':['AVG W2V RF'],'depth':['na'],'estimator':[optimumn_estimators], \\\n",
    "                  'learningrate':['na'],'accuracy_train':[model.score(X_train,y_train)], \\\n",
    "                 'fscore_train':[fscoretrain],'accuracy_test':[model.score(X_test,y_test)],'fscore_test':[fscoretest]})\n",
    "aa=aa.append(bb)"
   ]
  },
  {
   "cell_type": "markdown",
   "metadata": {
    "collapsed": true
   },
   "source": [
    "# Plot accuracy with n_extimator"
   ]
  },
  {
   "cell_type": "code",
   "execution_count": 38,
   "metadata": {},
   "outputs": [
    {
     "data": {
      "image/png": "[encoded data removed]",
      "text/plain": [
       "<matplotlib.figure.Figure at 0x266485e7710>"
      ]
     },
     "metadata": {},
     "output_type": "display_data"
    }
   ],
   "source": [
    "import warnings\n",
    "warnings.filterwarnings('ignore')\n",
    "from sklearn.model_selection import validation_curve\n",
    "#create plot for training and test validation\n",
    "# We cannot put 0 in parameter it will give error while validation_curve\n",
    "n_estimators=[10,50,100]\n",
    "param_range=[10,50,100]\n",
    "\n",
    "train_scores, test_scores = validation_curve(RandomForestClassifier(), X_train, y_train, param_name=\"n_estimators\", \\\n",
    "                                             param_range=n_estimators,cv=5)\n",
    "#print(train_scores,test_scores)\n",
    "train_scores_mean = np.mean(train_scores, axis=1)\n",
    "train_scores_std = np.std(train_scores, axis=1)\n",
    "test_scores_mean = np.mean(test_scores, axis=1)\n",
    "test_scores_std = np.std(test_scores, axis=1)\n",
    "\n",
    "plt.plot(param_range, train_scores_mean, label=\"Training score\", color=\"black\")\n",
    "plt.plot(param_range, test_scores_mean, label=\"Cross-validation score\", color=\"red\")\n",
    "plt.fill_between(param_range, train_scores_mean - train_scores_std, train_scores_mean + train_scores_std, color=\"gray\")\n",
    "plt.fill_between(param_range, test_scores_mean - test_scores_std, test_scores_mean + test_scores_std, color=\"green\")\n",
    "plt.title(\"Validation Curve for RF for different n estimator\")\n",
    "plt.xlabel(\"n estimator\")\n",
    "plt.ylabel(\"Accuracy Score\")\n",
    "plt.xlim(10,100)\n",
    "plt.tight_layout()\n",
    "plt.legend(loc=\"best\")\n",
    "plt.show()\n"
   ]
  },
  {
   "cell_type": "code",
   "execution_count": null,
   "metadata": {
    "collapsed": true
   },
   "outputs": [],
   "source": []
  },
  {
   "cell_type": "markdown",
   "metadata": {
    "collapsed": true
   },
   "source": [
    "# Steps followed\n",
    "Only !=3 reviews are taken Mark >3 as positive and <3 as negative. Sort data as per product id in ascending order Deduplication of entries for same profilename,userid, time, text and take first element Get stratified sampling of 50k data Clean html and punctuation Convert to uppercase and word<3 are rejected data sorted on time Split the data in train and test to 70:30\n",
    "\n",
    "BOW\n",
    "BOW BOW vec created using train data test data is converted using above on train and same applied to test \n",
    "do grid search for different value of n_estimator best model is established with best hyperparameter. model metric is stored in dataframe and crosstable is printed.\n",
    "\n",
    "TFIDF\n",
    "TFIDF form tfidf vec using train same is used in test to convert rest are same\n",
    "\n",
    "\n",
    "AVG W2V \n",
    "gensim is used to convert train and test text to W2V AVG seperately rest are same\n",
    "\n",
    "AVG TFIDF \n",
    "form tfidf vec using train same is used in test to convert gensim and above tfidf is used to convert train and test text to W2V AVG seperately\n",
    "\n",
    "plot cv error with n_estimator\n",
    "\n",
    "Below is metric"
   ]
  },
  {
   "cell_type": "code",
   "execution_count": 40,
   "metadata": {},
   "outputs": [
    {
     "data": {
      "text/html": [
       "<div>\n",
       "<style>\n",
       "    .dataframe thead tr:only-child th {\n",
       "        text-align: right;\n",
       "    }\n",
       "\n",
       "    .dataframe thead th {\n",
       "        text-align: left;\n",
       "    }\n",
       "\n",
       "    .dataframe tbody tr th {\n",
       "        vertical-align: top;\n",
       "    }\n",
       "</style>\n",
       "<table border=\"1\" class=\"dataframe\">\n",
       "  <thead>\n",
       "    <tr style=\"text-align: right;\">\n",
       "      <th></th>\n",
       "      <th>accuracy_test</th>\n",
       "      <th>accuracy_train</th>\n",
       "      <th>depth</th>\n",
       "      <th>estimator</th>\n",
       "      <th>fscore_test</th>\n",
       "      <th>fscore_train</th>\n",
       "      <th>learningrate</th>\n",
       "      <th>type</th>\n",
       "    </tr>\n",
       "  </thead>\n",
       "  <tbody>\n",
       "    <tr>\n",
       "      <th>0</th>\n",
       "      <td>0.858583</td>\n",
       "      <td>0.999964</td>\n",
       "      <td>na</td>\n",
       "      <td>50</td>\n",
       "      <td>0.921191</td>\n",
       "      <td>0.999979</td>\n",
       "      <td>na</td>\n",
       "      <td>BOW RF</td>\n",
       "    </tr>\n",
       "    <tr>\n",
       "      <th>0</th>\n",
       "      <td>0.859167</td>\n",
       "      <td>0.999857</td>\n",
       "      <td>na</td>\n",
       "      <td>50</td>\n",
       "      <td>0.921534</td>\n",
       "      <td>0.999916</td>\n",
       "      <td>na</td>\n",
       "      <td>TFIDF RF</td>\n",
       "    </tr>\n",
       "    <tr>\n",
       "      <th>0</th>\n",
       "      <td>0.828667</td>\n",
       "      <td>1.000000</td>\n",
       "      <td>na</td>\n",
       "      <td>100</td>\n",
       "      <td>0.905558</td>\n",
       "      <td>1.000000</td>\n",
       "      <td>na</td>\n",
       "      <td>AVG W2V RF</td>\n",
       "    </tr>\n",
       "    <tr>\n",
       "      <th>0</th>\n",
       "      <td>0.849500</td>\n",
       "      <td>1.000000</td>\n",
       "      <td>na</td>\n",
       "      <td>100</td>\n",
       "      <td>0.915536</td>\n",
       "      <td>1.000000</td>\n",
       "      <td>na</td>\n",
       "      <td>AVG W2V RF</td>\n",
       "    </tr>\n",
       "  </tbody>\n",
       "</table>\n",
       "</div>"
      ],
      "text/plain": [
       "   accuracy_test  accuracy_train depth  estimator  fscore_test  fscore_train  \\\n",
       "0       0.858583        0.999964    na         50     0.921191      0.999979   \n",
       "0       0.859167        0.999857    na         50     0.921534      0.999916   \n",
       "0       0.828667        1.000000    na        100     0.905558      1.000000   \n",
       "0       0.849500        1.000000    na        100     0.915536      1.000000   \n",
       "\n",
       "  learningrate        type  \n",
       "0           na      BOW RF  \n",
       "0           na    TFIDF RF  \n",
       "0           na  AVG W2V RF  \n",
       "0           na  AVG W2V RF  "
      ]
     },
     "execution_count": 40,
     "metadata": {},
     "output_type": "execute_result"
    }
   ],
   "source": [
    "aa"
   ]
  },
  {
   "cell_type": "code",
   "execution_count": null,
   "metadata": {
    "collapsed": true
   },
   "outputs": [],
   "source": []
  },
  {
   "cell_type": "code",
   "execution_count": null,
   "metadata": {
    "collapsed": true
   },
   "outputs": [],
   "source": []
  },
  {
   "cell_type": "code",
   "execution_count": null,
   "metadata": {
    "collapsed": true
   },
   "outputs": [],
   "source": []
  },
  {
   "cell_type": "code",
   "execution_count": null,
   "metadata": {
    "collapsed": true
   },
   "outputs": [],
   "source": []
  },
  {
   "cell_type": "code",
   "execution_count": null,
   "metadata": {
    "collapsed": true
   },
   "outputs": [],
   "source": []
  },
  {
   "cell_type": "code",
   "execution_count": null,
   "metadata": {
    "collapsed": true
   },
   "outputs": [],
   "source": []
  },
  {
   "cell_type": "code",
   "execution_count": null,
   "metadata": {
    "collapsed": true
   },
   "outputs": [],
   "source": []
  },
  {
   "cell_type": "code",
   "execution_count": null,
   "metadata": {
    "collapsed": true
   },
   "outputs": [],
   "source": []
  },
  {
   "cell_type": "code",
   "execution_count": null,
   "metadata": {
    "collapsed": true
   },
   "outputs": [],
   "source": []
  },
  {
   "cell_type": "code",
   "execution_count": null,
   "metadata": {
    "collapsed": true
   },
   "outputs": [],
   "source": []
  },
  {
   "cell_type": "code",
   "execution_count": null,
   "metadata": {
    "collapsed": true
   },
   "outputs": [],
   "source": []
  },
  {
   "cell_type": "code",
   "execution_count": null,
   "metadata": {
    "collapsed": true
   },
   "outputs": [],
   "source": []
  },
  {
   "cell_type": "code",
   "execution_count": null,
   "metadata": {
    "collapsed": true
   },
   "outputs": [],
   "source": []
  },
  {
   "cell_type": "code",
   "execution_count": null,
   "metadata": {
    "collapsed": true
   },
   "outputs": [],
   "source": []
  }
 ],
 "metadata": {
  "kernelspec": {
   "display_name": "Python 3",
   "language": "python",
   "name": "python3"
  },
  "language_info": {
   "codemirror_mode": {
    "name": "ipython",
    "version": 3
   },
   "file_extension": ".py",
   "mimetype": "text/x-python",
   "name": "python",
   "nbconvert_exporter": "python",
   "pygments_lexer": "ipython3",
   "version": "3.6.1"
  }
 },
 "nbformat": 4,
 "nbformat_minor": 2
}
