{
 "cells": [
  {
   "cell_type": "markdown",
   "metadata": {},
   "source": [
    "# Amazon food review dataset apply Logistic regression\n",
    "\n",
    "Data set from https://www.kaggle.com/snap/amazon-fine-food-reviews\n",
    "\n",
    "\n",
    "# Objective\n",
    "1. Try predicting review using SVM grid and random search gamma and c\n",
    "2. Get lambda 1 2(L1 and L2) using grid search and random search CV \n",
    "3. For L1 regularization try increasing lambda and see error. Get non zero element in w\n",
    "4. Get features importance check for multicolinearity by adding small value\n",
    "5. Plot accuracy and hyperparameter\n",
    "\n",
    "# Import data and libraries\n",
    " "
   ]
  },
  {
   "cell_type": "code",
   "execution_count": 12,
   "metadata": {},
   "outputs": [],
   "source": [
    "from sklearn.manifold import TSNE\n",
    "import sqlite3\n",
    "import pandas as pd\n",
    "import numpy as np\n",
    "import nltk\n",
    "import string\n",
    "import matplotlib.pyplot as plt\n",
    "import seaborn as sns\n",
    "from sklearn.feature_extraction.text import TfidfTransformer\n",
    "from sklearn.feature_extraction.text import TfidfVectorizer\n",
    "from sklearn.feature_extraction.text import CountVectorizer\n",
    "from sklearn.metrics import confusion_matrix\n",
    "from sklearn import metrics\n",
    "from sklearn.metrics import roc_curve, auc\n",
    "from nltk.stem.porter import PorterStemmer\n",
    "from sklearn.cross_validation import train_test_split,KFold\n",
    "from sklearn.neighbors import KNeighborsClassifier\n",
    "from sklearn.metrics import accuracy_score\n",
    "from sklearn.cross_validation import cross_val_score\n",
    "from collections import Counter\n",
    "from sklearn.metrics import accuracy_score\n",
    "from sklearn import cross_validation\n",
    "from sklearn.grid_search import GridSearchCV\n",
    "from sklearn.linear_model import LogisticRegression\n",
    "\n",
    "con = sqlite3.connect('database.sqlite') \n",
    "\n",
    "#get only +ve and -ve review \n",
    "raw_data = pd.read_sql_query(\"\"\"SELECT * FROM Reviews WHERE Score != 3\"\"\", con) "
   ]
  },
  {
   "cell_type": "markdown",
   "metadata": {},
   "source": [
    "# Data preprocessing"
   ]
  },
  {
   "cell_type": "code",
   "execution_count": 13,
   "metadata": {
    "collapsed": true
   },
   "outputs": [],
   "source": [
    "filtered_data=raw_data\n",
    "# Score>3 a positive rating, and score<3 a negative rating.\n",
    "def partition(x):\n",
    "    if x < 3:\n",
    "        return 'negative'\n",
    "    return 'positive'\n",
    "\n",
    "#changing reviews with score less than 3 to be positive and vice-versa\n",
    "actualScore = filtered_data['Score']\n",
    "positiveNegative = actualScore.map(partition) \n",
    "filtered_data['Score'] = positiveNegative\n",
    "\n",
    "filtered_data.sample(5)\n",
    "filtered_data['Score'].value_counts()\n",
    "\n",
    "#Sorting data according to ProductId in ascending order\n",
    "sorted_data=filtered_data.sort_values('ProductId', axis=0, ascending=True, inplace=False, kind='quicksort', na_position='last')\n",
    "\n",
    "#Deduplication of entries for same profilename,userid, time, text and take first element \n",
    "sorted_data=sorted_data.drop_duplicates(subset={\"UserId\",\"ProfileName\",\"Time\",\"Text\"}, keep='first', inplace=False)\n"
   ]
  },
  {
   "cell_type": "code",
   "execution_count": 14,
   "metadata": {},
   "outputs": [
    {
     "name": "stdout",
     "output_type": "stream",
     "text": [
      "total data \n",
      " positive    307063\n",
      "negative     57110\n",
      "Name: Score, dtype: int64\n"
     ]
    },
    {
     "data": {
      "text/plain": [
       "positive    25295\n",
       "negative     4705\n",
       "Name: Score, dtype: int64"
      ]
     },
     "execution_count": 14,
     "metadata": {},
     "output_type": "execute_result"
    }
   ],
   "source": [
    "#take only 50000 data\n",
    "print('total data \\n',sorted_data['Score'].value_counts())\n",
    "#clean_data=sorted_data.sample(frac=1).groupby('Score').head(10000)\n",
    "#take stratified sampling i.e. positive and negative reviews are proportionate to raw data\n",
    "_ , clean_data = train_test_split(sorted_data, test_size = 30000, random_state=0,stratify = sorted_data['Score'] )\n",
    "clean_data['Score'].value_counts()"
   ]
  },
  {
   "cell_type": "code",
   "execution_count": 15,
   "metadata": {},
   "outputs": [
    {
     "name": "stdout",
     "output_type": "stream",
     "text": [
      "(30000, 11)\n"
     ]
    },
    {
     "data": {
      "text/plain": [
       "167691    b'realli happi tea ran tea purchas europ felt ...\n",
       "239691    b'love bake mix famili love thank pamela muell...\n",
       "Name: CleanedText, dtype: object"
      ]
     },
     "execution_count": 15,
     "metadata": {},
     "output_type": "execute_result"
    }
   ],
   "source": [
    "# Clean html tag and punctuation\n",
    "import re\n",
    "import string\n",
    "from nltk.corpus import stopwords\n",
    "from nltk.stem import PorterStemmer\n",
    "from nltk.stem.wordnet import WordNetLemmatizer\n",
    "\n",
    "stop = set(stopwords.words('english')) #set of stopwords\n",
    "sno = nltk.stem.SnowballStemmer('english') #initialising the snowball stemmer\n",
    "\n",
    "#substitute html tag and punctuation\n",
    "def cleanhtml(sentence): #function to clean the word of any html-tags\n",
    "    cleanr = re.compile('<.*?>')\n",
    "    cleantext = re.sub(cleanr, ' ', sentence)\n",
    "    return cleantext\n",
    "def cleanpunc(sentence): #function to clean the word of any punctuation or special characters\n",
    "    cleaned = re.sub(r'[?|!|\\'|\"|#]',r'',sentence)\n",
    "    cleaned = re.sub(r'[.|,|)|(|\\|/]',r' ',cleaned)\n",
    "    return  cleaned\n",
    "#print(sno.stem('tasty'))\n",
    "\n",
    "i=0\n",
    "str1=' '\n",
    "mystop={'of','four','one','would'}\n",
    "final_string=[]\n",
    "all_positive_words=[] # store words from +ve reviews here\n",
    "all_negative_words=[] # store words from -ve reviews here.\n",
    "s=''\n",
    "#Create new catagory as Cleanedtext after removing htmltag and punctuation and uppercase and word length >2\n",
    "for sent in clean_data['Text'].values:\n",
    "    #change later\n",
    "    #sent=sent[:20]\n",
    "    filtered_sentence=[]\n",
    "    #print(sent);\n",
    "    sent=cleanhtml(sent) # remove HTMl tags\n",
    "    for w in sent.split():\n",
    "        for cleaned_words in cleanpunc(w).split():\n",
    "            if((cleaned_words.isalpha()) & (len(cleaned_words)>2)):    \n",
    "                if((cleaned_words.lower() not in stop) & (cleaned_words.lower() not in mystop)):\n",
    "                    s=(sno.stem(cleaned_words.lower())).encode('utf8')\n",
    "                    filtered_sentence.append(s)\n",
    "                    if (clean_data['Score'].values)[i] == 'positive': \n",
    "                        all_positive_words.append(s) #list of all words used to describe positive reviews\n",
    "                    if(clean_data['Score'].values)[i] == 'negative':\n",
    "                        all_negative_words.append(s) #list of all words used to describe negative reviews reviews\n",
    "                else:\n",
    "                    continue\n",
    "            else:\n",
    "                continue \n",
    "    str1 = b\" \".join(filtered_sentence) #final string of cleaned words\n",
    "    \n",
    "    final_string.append(str1)\n",
    "    i+=1\n",
    "    \n",
    "clean_data['CleanedText']=final_string\n",
    "print(clean_data.shape)\n",
    "#Sort data on timestamp\n",
    "clean_data=clean_data.sort_values(by=['Time'],ascending=False)\n",
    "#clean_data\n",
    "clean_data['CleanedText'].sample(2)\n",
    "\n"
   ]
  },
  {
   "cell_type": "markdown",
   "metadata": {
    "collapsed": true
   },
   "source": [
    "# Split train and test"
   ]
  },
  {
   "cell_type": "code",
   "execution_count": 16,
   "metadata": {},
   "outputs": [
    {
     "name": "stdout",
     "output_type": "stream",
     "text": [
      "size of X_train, X_test, y_train , y_test  (21000,) (9000,) (21000,) (9000,)\n",
      "positive and negative review in train and test\n",
      " positive    17832\n",
      "negative     3168\n",
      "Name: Score, dtype: int64 \n",
      " positive    7463\n",
      "negative    1537\n",
      "Name: Score, dtype: int64\n"
     ]
    }
   ],
   "source": [
    "x=clean_data['CleanedText'].values\n",
    "y = clean_data['Score']\n",
    "n=x.shape[0]\n",
    "n1=int(n*.3)\n",
    "X_test_raw = x[0:n1]\n",
    "X_train_raw= x[n1:n+1]\n",
    "y_test=y[0:n1]\n",
    "y_train=y[n1:n+1]\n",
    "print('size of X_train, X_test, y_train , y_test ',X_train_raw.shape, X_test_raw.shape,y_train.shape,y_test.shape)\n",
    "print(\"positive and negative review in train and test\\n\",y_train.value_counts(),\"\\n\",y_test.value_counts())"
   ]
  },
  {
   "cell_type": "markdown",
   "metadata": {},
   "source": [
    "# Create BOW and try grid search for logistic regreession with penalty l1 and l2"
   ]
  },
  {
   "cell_type": "code",
   "execution_count": 17,
   "metadata": {},
   "outputs": [
    {
     "name": "stdout",
     "output_type": "stream",
     "text": [
      "(21000, 18278) (9000, 18278)\n"
     ]
    }
   ],
   "source": [
    "#now convert CleanedText to TDM\n",
    "count_vect = CountVectorizer() #in scikit-learn\n",
    "X_train = count_vect.fit_transform(X_train_raw)\n",
    "\n",
    "#use the same vectors to convert test data\n",
    "X_test=count_vect.transform(X_test_raw)\n",
    "print(X_train.get_shape(),X_test.get_shape())"
   ]
  },
  {
   "cell_type": "code",
   "execution_count": 18,
   "metadata": {},
   "outputs": [
    {
     "name": "stdout",
     "output_type": "stream",
     "text": [
      "size of X_train, X_test, y_train , y_test  (21000, 18278) (9000, 18278) (21000,) (9000,)\n"
     ]
    }
   ],
   "source": [
    "from sklearn.preprocessing import StandardScaler\n",
    "\n",
    "#Use scale of train and apply to test\n",
    "from sklearn.preprocessing import StandardScaler\n",
    "scaler = StandardScaler(with_mean=False).fit(X_train)\n",
    "X_train = scaler.transform(X_train)\n",
    "X_test  = scaler.transform(X_test)\n",
    "\n",
    "from sklearn.preprocessing import label_binarize\n",
    "\n",
    "encoded_column_vector = label_binarize(y_train, classes=['negative','positive']) # negative will be 0 and positive will be 1\n",
    "encoded_labels = np.ravel(encoded_column_vector) # Reshape array\n",
    "y_train=encoded_labels\n",
    "\n",
    "encoded_column_vector = label_binarize(y_test, classes=['negative','positive']) # negative will be 0 and positive will be 1\n",
    "encoded_labels = np.ravel(encoded_column_vector) # Reshape array\n",
    "y_test=encoded_labels\n",
    "\n",
    "\n",
    "print('size of X_train, X_test, y_train , y_test ',X_train.shape, X_test.shape,y_train.shape,y_test.shape)\n",
    "#print(\"positive and negative review in train and test\\n\",y_train.value_counts(),\"\\n\",y_test.value_counts())"
   ]
  },
  {
   "cell_type": "code",
   "execution_count": 19,
   "metadata": {},
   "outputs": [
    {
     "name": "stdout",
     "output_type": "stream",
     "text": [
      "Best parameters \n",
      " LogisticRegression(C=0.001, class_weight=None, dual=False, fit_intercept=True,\n",
      "          intercept_scaling=1, max_iter=100, multi_class='ovr', n_jobs=1,\n",
      "          penalty='l2', random_state=None, solver='liblinear', tol=0.0001,\n",
      "          verbose=0, warm_start=False)\n",
      "<class 'scipy.sparse.csr.csr_matrix'> <class 'numpy.ndarray'>\n"
     ]
    }
   ],
   "source": [
    "import warnings\n",
    "warnings.filterwarnings('ignore')\n",
    "from sklearn.model_selection import validation_curve\n",
    "\n",
    "# Use grid search for L2\n",
    "C=[10**-3, 10**-2, 10**-1, 1,10]\n",
    "\n",
    "#param_range=C;\n",
    "\n",
    "#c1=np.arrange(1, 250, 20)\n",
    "penalty=['l1', 'l2']\n",
    "\n",
    "tuned_parameters=dict(penalty=penalty,C=C)\n",
    "\n",
    "#Using GridSearchCV\n",
    "model = GridSearchCV(LogisticRegression(), tuned_parameters, scoring = 'f1', cv=5)\n",
    "model.fit(X_train, y_train)\n",
    "print('Best parameters \\n',model.best_estimator_)\n",
    "#print('Model test score', model.score(X_test, y_test))\n",
    "\n",
    "optimumc=model.best_estimator_.C\n",
    "optimumpenalty=model.best_estimator_.penalty\n",
    "print(type(X_train),type(y_train))\n"
   ]
  },
  {
   "cell_type": "markdown",
   "metadata": {},
   "source": []
  },
  {
   "cell_type": "code",
   "execution_count": 20,
   "metadata": {},
   "outputs": [
    {
     "name": "stdout",
     "output_type": "stream",
     "text": [
      "confusion matrix\n",
      " Predicted    0     1   All\n",
      "Actual                    \n",
      "0          747   790  1537\n",
      "1          179  7284  7463\n",
      "All        926  8074  9000\n",
      "Count of non zero element in coefficient 18278\n",
      "Model train and test score C and penalty 0.974571428571 0.892333333333 0.001 l2\n"
     ]
    }
   ],
   "source": [
    "#build model with best parameter\n",
    "model = LogisticRegression(C=optimumc,penalty=optimumpenalty)\n",
    "model.fit(X_train, y_train)\n",
    "#confusion matrix\n",
    "pred2 = model.predict(X_test)\n",
    "mat=pd.crosstab(y_test, pred2, rownames=['Actual'], colnames=['Predicted'], margins=True) \n",
    "print('confusion matrix\\n',mat)\n",
    "aa=pd.DataFrame({'type':['Grid search BOW'],'train_score':[model.score(X_train,y_train)],'test_score':[model.score(X_test,y_test)],'C':[model.C],'penalty':[model.penalty]})\n",
    "#print(aa)\n",
    "\n",
    "# Print coefficients\n",
    "# check no of parameter\n",
    "w = model.coef_\n",
    "print('Count of non zero element in coefficient',np.count_nonzero(w))\n",
    "print('Model train and test score C and penalty',model.score(X_train,y_train),model.score(X_test,y_test),model.C,model.penalty)\n",
    "#print(model.coef_[0],model.coef_[8])\n",
    "#print(model.coef_)\n",
    "#print(model.C,model.penalty)"
   ]
  },
  {
   "cell_type": "markdown",
   "metadata": {
    "collapsed": true
   },
   "source": [
    "try random search"
   ]
  },
  {
   "cell_type": "markdown",
   "metadata": {},
   "source": [
    "# Apply Random search"
   ]
  },
  {
   "cell_type": "code",
   "execution_count": 21,
   "metadata": {},
   "outputs": [
    {
     "name": "stdout",
     "output_type": "stream",
     "text": [
      "Count of non zero element in coefficient 18278\n",
      "Model train and test score C and penalty 0.990857142857 0.885777777778 0.01 l2\n",
      "confusion matrix\n",
      " Predicted     0     1   All\n",
      "Actual                     \n",
      "0           875   662  1537\n",
      "1           366  7097  7463\n",
      "All        1241  7759  9000\n",
      "       C penalty  test_score  train_score               type\n",
      "0  0.001      l2    0.892333     0.974571    Grid search BOW\n",
      "0  0.010      l2    0.885778     0.990857  Random search BOW\n"
     ]
    }
   ],
   "source": [
    "# Random search \n",
    "from sklearn.model_selection import RandomizedSearchCV\n",
    "C=[10**-4, 10**-2, 10**0, 10**2, 10**4]\n",
    "penalty=['l1', 'l2']\n",
    "tuned_parameters=dict(C=C, penalty=penalty)\n",
    "#Using random search\n",
    "model = RandomizedSearchCV(LogisticRegression(), tuned_parameters, random_state=1, scoring = 'f1', cv=5)\n",
    "model.fit(X_train, y_train)\n",
    "#print('Model best extimator \\n',model.best_estimator_)\n",
    "#print(model.score(X_test, y_test))\n",
    "optimumc=model.best_estimator_.C\n",
    "optimumpenalty=model.best_estimator_.penalty\n",
    "# create model with the best parameter from random search\n",
    "model = LogisticRegression(C=optimumc,penalty=optimumpenalty)\n",
    "model.fit(X_train, y_train)\n",
    "w = model.coef_\n",
    "print('Count of non zero element in coefficient',np.count_nonzero(w))\n",
    "#print('Model test score',model.score(X_test,y_test))\n",
    "print('Model train and test score C and penalty',model.score(X_train,y_train),model.score(X_test,y_test),model.C,model.penalty)\n",
    "bb=pd.DataFrame({'type':['Random search BOW'],'train_score':[model.score(X_train,y_train)],'test_score':[model.score(X_test,y_test)],'C':[model.C],'penalty':[model.penalty]})\n",
    "aa=aa.append(bb)\n",
    "#confusion matrix\n",
    "pred2 = model.predict(X_test)\n",
    "mat=pd.crosstab(y_test, pred2, rownames=['Actual'], colnames=['Predicted'], margins=True) \n",
    "print('confusion matrix\\n',mat)\n",
    "print(aa)"
   ]
  },
  {
   "cell_type": "markdown",
   "metadata": {
    "collapsed": true
   },
   "source": [
    "# Try increasing lambda for L1 and see error and sparcity(non 0 element of w)"
   ]
  },
  {
   "cell_type": "code",
   "execution_count": 22,
   "metadata": {},
   "outputs": [
    {
     "name": "stdout",
     "output_type": "stream",
     "text": [
      "Count of non zero, total element (l1), coefficient ( C or 1/lambda),train accuracy and test accuracy\n",
      " 0.001 4 (1, 18278) 0.849142857143 0.829222222222\n",
      "Count of non zero, total element (l1), coefficient ( C or 1/lambda),train accuracy and test accuracy\n",
      " 0.01 888 (1, 18278) 0.909 0.886555555556\n",
      "Count of non zero, total element (l1), coefficient ( C or 1/lambda),train accuracy and test accuracy\n",
      " 0.1 4178 (1, 18278) 0.984714285714 0.895777777778\n",
      "Count of non zero, total element (l1), coefficient ( C or 1/lambda),train accuracy and test accuracy\n",
      " 1 5115 (1, 18278) 0.998714285714 0.873222222222\n",
      "Count of non zero, total element (l1), coefficient ( C or 1/lambda),train accuracy and test accuracy\n",
      " 10 5145 (1, 18278) 1.0 0.859111111111\n",
      "Count of non zero, total element (l1), coefficient ( C or 1/lambda),train accuracy and test accuracy\n",
      " 100 5674 (1, 18278) 1.0 0.852666666667\n",
      "Count of non zero, total element (l1), coefficient ( C or 1/lambda),train accuracy and test accuracy\n",
      " 1000 8359 (1, 18278) 1.0 0.833222222222\n",
      "Count of non zero, total element (l1), coefficient ( C or 1/lambda),train accuracy and test accuracy\n",
      " 10000 10494 (1, 18278) 1.0 0.821\n"
     ]
    }
   ],
   "source": [
    "for i in [.001,.01,.1,1,10,100,1000,10000]:\n",
    "  model = LogisticRegression(C=i,penalty='l1')\n",
    "  model.fit(X_train, y_train)\n",
    "  w = model.coef_\n",
    "\n",
    "  print('Count of non zero, total element (l1), coefficient ( C or 1/lambda),train accuracy and test accuracy\\n',i,np.count_nonzero(w),np.shape(w),model.score(X_train, y_train),model.score(X_test, y_test))\n",
    "  #print('model score',model.score(X_test,y_test))\n",
    "\n",
    "#print(w)\n"
   ]
  },
  {
   "cell_type": "markdown",
   "metadata": {
    "collapsed": true
   },
   "source": [
    "So We can see as C decreases i.e. lambda increases more coefficients are getting 0 and  test accuracy increases when C too low accuracy decreases again if C is too low\n",
    "# See top features using the weights"
   ]
  },
  {
   "cell_type": "markdown",
   "metadata": {},
   "source": [
    "\n"
   ]
  },
  {
   "cell_type": "code",
   "execution_count": 23,
   "metadata": {
    "collapsed": true
   },
   "outputs": [],
   "source": [
    "#print(model.coef_[1])\n",
    "coefs = np.abs(model.coef_[0])\n",
    "indices = np.argsort(coefs)[::-1]\n",
    "#print(indices)\n",
    "#print(count_vect.get_feature_names())"
   ]
  },
  {
   "cell_type": "code",
   "execution_count": 24,
   "metadata": {},
   "outputs": [
    {
     "name": "stdout",
     "output_type": "stream",
     "text": [
      "Top 10 words for both review 0 negative 1 positive with weights\n",
      "\n",
      "0 -0.298581527223 disappoint\n",
      "0 -0.272111698062 worst\n",
      "0 -0.224411686657 return\n",
      "0 -0.203266486941 threw\n",
      "0 -0.201739922058 aw\n",
      "0 -0.192431243904 terribl\n",
      "0 -0.18740445635 unfortun\n",
      "0 -0.183026389691 wast\n",
      "0 -0.175135513463 bland\n",
      "0 -0.167223006745 didnt\n",
      "\n",
      "\n",
      "1 0.555265011304 love\n",
      "1 0.552539174726 great\n",
      "1 0.476073414311 best\n",
      "1 0.380479651656 delici\n",
      "1 0.343530048721 good\n",
      "1 0.306126878833 excel\n",
      "1 0.294409265085 perfect\n",
      "1 0.282933263072 favorit\n",
      "1 0.249492790648 nice\n",
      "1 0.213313608528 find\n"
     ]
    }
   ],
   "source": [
    "#create optimum model\n",
    "model = LogisticRegression(C=optimumc,penalty=optimumpenalty)\n",
    "model.fit(X_train, y_train)\n",
    "\n",
    "\n",
    "def most_informative_feature_for_binary_classification(vectorizer, classifier, n=10):\n",
    "    class_labels = classifier.classes_\n",
    "    feature_names = vectorizer.get_feature_names()\n",
    "    topn_class1 = sorted(zip(classifier.coef_[0], feature_names))[:n]\n",
    "    #negative words are sorted with -ve\n",
    "    topn_class2 = sorted(zip(classifier.coef_[0], feature_names))[-n:]\n",
    "    \n",
    "    top_pos_fet=[]\n",
    "    top_neg_fet=[]\n",
    "    for coef, feat in topn_class1:\n",
    "        print (class_labels[0], coef, feat)\n",
    "        top_pos_fet.append(feat)\n",
    "\n",
    "    print(\"\\n\")\n",
    "\n",
    "    for coef, feat in reversed(topn_class2):\n",
    "        print (class_labels[1], coef, feat)\n",
    "        top_neg_fet.append(feat)\n",
    "        \n",
    "    return top_pos_fet,top_neg_fet \n",
    "\n",
    "print(\"Top 10 words for both review 0 negative 1 positive with weights\\n\")\n",
    "top_pos_fet,top_neg_fet=most_informative_feature_for_binary_classification(count_vect, model)"
   ]
  },
  {
   "cell_type": "markdown",
   "metadata": {
    "collapsed": true
   },
   "source": [
    "# Check multicolinearity with perbutation test by adding small noise to sparse matrix\n",
    "The noise is with mean 0 and sd=.0001"
   ]
  },
  {
   "cell_type": "code",
   "execution_count": 25,
   "metadata": {
    "collapsed": true
   },
   "outputs": [],
   "source": [
    "# Check VIF score of the above selected variables\n",
    "#vif = pd.DataFrame()\n",
    "#print(x.toarray().shape,x.shape[1])\n",
    "#vif[\"VIF Factor\"] = [variance_inflation_factor(x.toarray(), i) for i in range(x.shape[1])]\n",
    "#vif[\"features\"] = count_vect.get_feature_names()\n",
    "#print(vif)\n",
    "#for i in top_pos_fet:\n",
    "#  print(vif[(vif[[\"features\"]]==i).values])\n",
    "\n",
    "#for i in top_neg_fet:\n",
    "#  print(vif[(vif[[\"features\"]]==i).values])\n",
    "\n",
    "# creating VIF is giving a lot of inf"
   ]
  },
  {
   "cell_type": "code",
   "execution_count": 26,
   "metadata": {
    "collapsed": true
   },
   "outputs": [],
   "source": [
    "#refer https://medium.com/@dhwajraj/learning-python-regression-analysis-part-9-tests-and-validity-for-regression-models-78dcd5cde3a1\n",
    "# to find colinearity by eigen value\n",
    "#corr=np.corrcoef(x,rowvar=0)\n",
    "#W,V=np.linalg.eig(corr)\n",
    "#If at least one of the eigen values of the correlation matrix is close to zero then we can say that multicollinearity exists in the dataset\n",
    "\n",
    "#The eigen values at index 3,4 and 5 are close to zero. There corresponding eigen vectors are:\n",
    "\n",
    "#in the output produced above, column index 2 and 3 have near zero values in all three eigen vectors so we can say that columns 0,1,4 and 5 are strongly correlated with each other so any one of them would be sufficient to capture the essence of the other three columns.\n",
    "\n",
    "\n"
   ]
  },
  {
   "cell_type": "code",
   "execution_count": 27,
   "metadata": {},
   "outputs": [
    {
     "name": "stdout",
     "output_type": "stream",
     "text": [
      "Top 10 words for both review 0 negative 1 positive with weights\n",
      "\n",
      "0 -0.298578263487 disappoint\n",
      "0 -0.272111605877 worst\n",
      "0 -0.22441091346 return\n",
      "0 -0.203269639429 threw\n",
      "0 -0.201738894913 aw\n",
      "0 -0.192427443842 terribl\n",
      "0 -0.187401989428 unfortun\n",
      "0 -0.18302463223 wast\n",
      "0 -0.175133105309 bland\n",
      "0 -0.167222053226 didnt\n",
      "\n",
      "\n",
      "1 0.555272463126 love\n",
      "1 0.552549898008 great\n",
      "1 0.476072518536 best\n",
      "1 0.380481253714 delici\n",
      "1 0.343537267526 good\n",
      "1 0.306128981766 excel\n",
      "1 0.29440825798 perfect\n",
      "1 0.282933667135 favorit\n",
      "1 0.24949603434 nice\n",
      "1 0.21331462335 find\n"
     ]
    }
   ],
   "source": [
    "from scipy import *\n",
    "import random\n",
    "from scipy.sparse import *\n",
    "    \n",
    "#print(X_train)\n",
    "#print(X_train.data.shape[0])\n",
    "#X_train.todense()\n",
    "#print(\"hi\")\n",
    "#X_train.data+=X_train\n",
    "#X_train.todense()\n",
    "X_train.data += np.random.normal(0,.0001,X_train.data.shape[0])\n",
    "#print(X_train)\n",
    "\n",
    "# Create model after adding some noise and check weights\n",
    "model = LogisticRegression(C=optimumc,penalty=optimumpenalty)\n",
    "model.fit(X_train, y_train)\n",
    "\n",
    "print(\"Top 10 words for both review 0 negative 1 positive with weights\\n\")\n",
    "top_pos_fet,top_neg_fet=most_informative_feature_for_binary_classification(count_vect, model)"
   ]
  },
  {
   "cell_type": "markdown",
   "metadata": {},
   "source": [
    "So we can see after adding noise the weights of top 20 words are almost same as earlier, so multicolinearity doesnot exist"
   ]
  },
  {
   "cell_type": "markdown",
   "metadata": {
    "collapsed": true
   },
   "source": []
  },
  {
   "cell_type": "code",
   "execution_count": null,
   "metadata": {
    "collapsed": true
   },
   "outputs": [],
   "source": [
    "\n"
   ]
  },
  {
   "cell_type": "markdown",
   "metadata": {
    "collapsed": true
   },
   "source": [
    "# Plot traing and CV error with C and l1 penalty"
   ]
  },
  {
   "cell_type": "code",
   "execution_count": 28,
   "metadata": {},
   "outputs": [
    {
     "data": {
      "image/png": "[encoded data removed]",
      "text/plain": [
       "<matplotlib.figure.Figure at 0x22f2cd92208>"
      ]
     },
     "metadata": {},
     "output_type": "display_data"
    }
   ],
   "source": [
    "#create plot for training and test validation\n",
    "# Calculate accuracy on training and test set using range of parameter values\n",
    "C=[10**-2, 10**-1, 1,5,8,10]\n",
    "param_range=[10**-2, 10**-1, 1,5,8,10]\n",
    "\n",
    "\n",
    "train_scores, test_scores = validation_curve(LogisticRegression(penalty='l1'), X_train, y_train, param_name=\"C\",param_range=C,cv=5)\n",
    "\n",
    "train_scores_mean = np.mean(train_scores, axis=1)\n",
    "train_scores_std = np.std(train_scores, axis=1)\n",
    "test_scores_mean = np.mean(test_scores, axis=1)\n",
    "test_scores_std = np.std(test_scores, axis=1)\n",
    "\n",
    "plt.plot(param_range, train_scores_mean, label=\"Training score\", color=\"black\")\n",
    "plt.plot(param_range, test_scores_mean, label=\"Cross-validation score\", color=\"red\")\n",
    "\n",
    "#Plot accurancy bands for training and test sets\n",
    "plt.fill_between(param_range, train_scores_mean - train_scores_std, train_scores_mean + train_scores_std, color=\"gray\")\n",
    "plt.fill_between(param_range, test_scores_mean - test_scores_std, test_scores_mean + test_scores_std, color=\"green\")\n",
    "\n",
    "plt.title(\"Validation Curve With logistic regression for different C value\")\n",
    "plt.xlabel(\"C value\")\n",
    "plt.ylabel(\"Accuracy Score\")\n",
    "plt.xlim(.0001,10)\n",
    "plt.tight_layout()\n",
    "plt.legend(loc=\"best\")\n",
    "plt.show()\n"
   ]
  },
  {
   "cell_type": "markdown",
   "metadata": {
    "collapsed": true
   },
   "source": [
    "# Plot traing and CV error with C and l2 penalty"
   ]
  },
  {
   "cell_type": "markdown",
   "metadata": {},
   "source": []
  },
  {
   "cell_type": "code",
   "execution_count": 29,
   "metadata": {},
   "outputs": [
    {
     "data": {
      "image/png": "[encoded data removed]",
      "text/plain": [
       "<matplotlib.figure.Figure at 0x22f2e4d8860>"
      ]
     },
     "metadata": {},
     "output_type": "display_data"
    }
   ],
   "source": [
    "#create plot for training and test validation\n",
    "# Calculate accuracy on training and test set using range of parameter values\n",
    "C=[10**-2, 10**-1, 1,5,8,10]\n",
    "param_range=[10**-2, 10**-1, 1,5,8,10]\n",
    "\n",
    "\n",
    "train_scores, test_scores = validation_curve(LogisticRegression(penalty='l2'), X_train, y_train, param_name=\"C\",param_range=C,cv=5)\n",
    "\n",
    "train_scores_mean = np.mean(train_scores, axis=1)\n",
    "train_scores_std = np.std(train_scores, axis=1)\n",
    "test_scores_mean = np.mean(test_scores, axis=1)\n",
    "test_scores_std = np.std(test_scores, axis=1)\n",
    "\n",
    "plt.plot(param_range, train_scores_mean, label=\"Training score\", color=\"black\")\n",
    "plt.plot(param_range, test_scores_mean, label=\"Cross-validation score\", color=\"red\")\n",
    "\n",
    "#Plot accurancy bands for training and test sets\n",
    "plt.fill_between(param_range, train_scores_mean - train_scores_std, train_scores_mean + train_scores_std, color=\"gray\")\n",
    "plt.fill_between(param_range, test_scores_mean - test_scores_std, test_scores_mean + test_scores_std, color=\"green\")\n",
    "\n",
    "plt.title(\"Validation Curve With logistic regression for different C value\")\n",
    "plt.xlabel(\"C value\")\n",
    "plt.ylabel(\"Accuracy Score\")\n",
    "plt.xlim(.0001,10)\n",
    "plt.tight_layout()\n",
    "plt.legend(loc=\"best\")\n",
    "plt.show()\n"
   ]
  },
  {
   "cell_type": "code",
   "execution_count": null,
   "metadata": {
    "collapsed": true
   },
   "outputs": [],
   "source": []
  },
  {
   "cell_type": "markdown",
   "metadata": {
    "collapsed": true
   },
   "source": []
  },
  {
   "cell_type": "code",
   "execution_count": null,
   "metadata": {
    "collapsed": true
   },
   "outputs": [],
   "source": []
  },
  {
   "cell_type": "code",
   "execution_count": null,
   "metadata": {
    "collapsed": true
   },
   "outputs": [],
   "source": []
  },
  {
   "cell_type": "markdown",
   "metadata": {
    "collapsed": true
   },
   "source": []
  },
  {
   "cell_type": "code",
   "execution_count": null,
   "metadata": {
    "collapsed": true
   },
   "outputs": [],
   "source": []
  },
  {
   "cell_type": "markdown",
   "metadata": {
    "collapsed": true
   },
   "source": [
    "# TFIDF"
   ]
  },
  {
   "cell_type": "code",
   "execution_count": 30,
   "metadata": {},
   "outputs": [
    {
     "name": "stdout",
     "output_type": "stream",
     "text": [
      "(21000, 18278) (9000, 18278)\n",
      "Best parameters \n",
      " LogisticRegression(C=0.001, class_weight=None, dual=False, fit_intercept=True,\n",
      "          intercept_scaling=1, max_iter=100, multi_class='ovr', n_jobs=1,\n",
      "          penalty='l2', random_state=None, solver='liblinear', tol=0.0001,\n",
      "          verbose=0, warm_start=False)\n",
      "confusion matrix\n",
      " Predicted   0     1   All\n",
      "Actual                   \n",
      "0          14  1523  1537\n",
      "1           0  7463  7463\n",
      "All        14  8986  9000\n",
      "Count of non zero element in coefficient 18278\n",
      "Model train and test score C and penalty 0.974571428571 0.830777777778 0.001 l2\n",
      "Model best extimator \n",
      " LogisticRegression(C=0.01, class_weight=None, dual=False, fit_intercept=True,\n",
      "          intercept_scaling=1, max_iter=100, multi_class='ovr', n_jobs=1,\n",
      "          penalty='l2', random_state=None, solver='liblinear', tol=0.0001,\n",
      "          verbose=0, warm_start=False)\n",
      "Count of non zero element in coefficient 18278\n",
      "Model train and test score C and penalty 0.990857142857 0.838333333333 0.01 l2\n",
      "       C penalty  test_score  train_score                 type\n",
      "0  0.001      l2    0.892333     0.974571      Grid search BOW\n",
      "0  0.010      l2    0.885778     0.990857    Random search BOW\n",
      "0  0.001      l2    0.830778     0.974571    Grid search TFIDF\n",
      "0  0.010      l2    0.838333     0.990857  Random search TFIDF\n",
      "Predicted  0.8383333333333334   All\n",
      "Actual                             \n",
      "0                        1537  1537\n",
      "1                        7463  7463\n",
      "All                      9000  9000\n",
      "Count of non zero, total element (l1), coefficient ( C or 1/lambda),train accuracy and test accuracy\n",
      " 0.001 4 (1, 18278) 0.849142857143 0.829222222222\n",
      "Count of non zero, total element (l1), coefficient ( C or 1/lambda),train accuracy and test accuracy\n",
      " 0.01 906 (1, 18278) 0.908952380952 0.829555555556\n",
      "Count of non zero, total element (l1), coefficient ( C or 1/lambda),train accuracy and test accuracy\n",
      " 0.1 4165 (1, 18278) 0.984714285714 0.838666666667\n",
      "Count of non zero, total element (l1), coefficient ( C or 1/lambda),train accuracy and test accuracy\n",
      " 1 5150 (1, 18278) 0.998714285714 0.856\n",
      "Count of non zero, total element (l1), coefficient ( C or 1/lambda),train accuracy and test accuracy\n",
      " 10 5101 (1, 18278) 1.0 0.859444444444\n",
      "Count of non zero, total element (l1), coefficient ( C or 1/lambda),train accuracy and test accuracy\n",
      " 100 5813 (1, 18278) 1.0 0.858333333333\n",
      "Count of non zero, total element (l1), coefficient ( C or 1/lambda),train accuracy and test accuracy\n",
      " 1000 8490 (1, 18278) 1.0 0.857222222222\n",
      "Count of non zero, total element (l1), coefficient ( C or 1/lambda),train accuracy and test accuracy\n",
      " 10000 11652 (1, 18278) 1.0 0.857888888889\n",
      "Top 10 words for both review 0 negative 1 positive with weights\n",
      "\n",
      "0 -0.298582615786 disappoint\n",
      "0 -0.272109835239 worst\n",
      "0 -0.224408772377 return\n",
      "0 -0.203264362104 threw\n",
      "0 -0.201742293535 aw\n",
      "0 -0.192434543906 terribl\n",
      "0 -0.187394363819 unfortun\n",
      "0 -0.183021312381 wast\n",
      "0 -0.17513417848 bland\n",
      "0 -0.16722807824 didnt\n",
      "\n",
      "\n",
      "1 0.555255387998 love\n",
      "1 0.552541056562 great\n",
      "1 0.476079226796 best\n",
      "1 0.380471058226 delici\n",
      "1 0.343522971193 good\n",
      "1 0.306128580322 excel\n",
      "1 0.294412869739 perfect\n",
      "1 0.282932829763 favorit\n",
      "1 0.249495263914 nice\n",
      "1 0.213322131514 find\n",
      "Top 10 words for both review 0 negative 1 positive with weights\n",
      "\n",
      "0 -0.298579747097 disappoint\n",
      "0 -0.272109370239 worst\n",
      "0 -0.224412000299 return\n",
      "0 -0.203266375619 threw\n",
      "0 -0.201742968298 aw\n",
      "0 -0.192429914179 terribl\n",
      "0 -0.18740646361 unfortun\n",
      "0 -0.183026822063 wast\n",
      "0 -0.175136268515 bland\n",
      "0 -0.167226921201 didnt\n",
      "\n",
      "\n",
      "1 0.555267941325 love\n",
      "1 0.55254199632 great\n",
      "1 0.47607515665 best\n",
      "1 0.38047992972 delici\n",
      "1 0.343533581962 good\n",
      "1 0.306128200565 excel\n",
      "1 0.29440679309 perfect\n",
      "1 0.282936121058 favorit\n",
      "1 0.249492257381 nice\n",
      "1 0.213308701372 find\n"
     ]
    },
    {
     "data": {
      "image/png": "[encoded data removed]",
      "text/plain": [
       "<matplotlib.figure.Figure at 0x22f118fe9e8>"
      ]
     },
     "metadata": {},
     "output_type": "display_data"
    },
    {
     "data": {
      "image/png": "[encoded data removed]",
      "text/plain": [
       "<matplotlib.figure.Figure at 0x22f33c23048>"
      ]
     },
     "metadata": {},
     "output_type": "display_data"
    }
   ],
   "source": [
    "# Create BOW and try grid search for logistic regreession with penalty l1 and l2\n",
    "tf_idf_vect = TfidfVectorizer()\n",
    "final_counts = tf_idf_vect.fit_transform(X_train_raw)\n",
    "#use the same vectors to convert test data\n",
    "X_test=count_vect.transform(X_test_raw)\n",
    "print(X_train.get_shape(),X_test.get_shape())\n",
    "#Use scale of train and apply to test\n",
    "from sklearn.preprocessing import StandardScaler\n",
    "scaler = StandardScaler(with_mean=False).fit(X_train)\n",
    "X_train = scaler.transform(X_train)\n",
    "X_test  = scaler.transform(X_test)\n",
    "#below already done\n",
    "#encoded_column_vector = label_binarize(y_train, classes=['negative','positive']) # negative will be 0 and positive will be 1\n",
    "#encoded_labels = np.ravel(encoded_column_vector) # Reshape array\n",
    "#y_train=encoded_labels\n",
    "#encoded_column_vector = label_binarize(y_test, classes=['negative','positive']) # negative will be 0 and positive will be 1\n",
    "#encoded_labels = np.ravel(encoded_column_vector) # Reshape array\n",
    "#y_test=encoded_labels\n",
    "\n",
    "import warnings\n",
    "warnings.filterwarnings('ignore')\n",
    "from sklearn.model_selection import validation_curve\n",
    "C=[10**-3, 10**-2, 10**-1, 1,10]\n",
    "penalty=['l1', 'l2']\n",
    "tuned_parameters=dict(penalty=penalty,C=C)\n",
    "model = GridSearchCV(LogisticRegression(), tuned_parameters, scoring = 'f1', cv=5)\n",
    "model.fit(X_train, y_train)\n",
    "print('Best parameters \\n',model.best_estimator_)\n",
    "optimumc=model.best_estimator_.C\n",
    "optimumpenalty=model.best_estimator_.penalty\n",
    "#build model with best parameter\n",
    "model = LogisticRegression(C=optimumc,penalty=optimumpenalty)\n",
    "model.fit(X_train, y_train)\n",
    "bb=pd.DataFrame({'type':['Grid search TFIDF'],'train_score':[model.score(X_train,y_train)],'test_score':[model.score(X_test,y_test)],'C':[model.C],'penalty':[model.penalty]})\n",
    "aa=aa.append(bb)\n",
    "#confusion matrix\n",
    "pred2 = model.predict(X_test)\n",
    "mat=pd.crosstab(y_test, pred2, rownames=['Actual'], colnames=['Predicted'], margins=True) \n",
    "print('confusion matrix\\n',mat)\n",
    "\n",
    "w = model.coef_\n",
    "print('Count of non zero element in coefficient',np.count_nonzero(w))\n",
    "print('Model train and test score C and penalty',model.score(X_train,y_train),model.score(X_test,y_test),model.C,model.penalty)\n",
    "# Random search \n",
    "from sklearn.model_selection import RandomizedSearchCV\n",
    "C=[10**-4, 10**-2, 10**0, 10**2, 10**4]\n",
    "penalty=['l1', 'l2']\n",
    "tuned_parameters=dict(C=C, penalty=penalty)\n",
    "model = RandomizedSearchCV(LogisticRegression(), tuned_parameters, random_state=1, scoring = 'f1', cv=5)\n",
    "model.fit(X_train, y_train)\n",
    "print('Model best extimator \\n',model.best_estimator_)\n",
    "optimumc=model.best_estimator_.C\n",
    "optimumpenalty=model.best_estimator_.penalty\n",
    "model = LogisticRegression(C=optimumc,penalty=optimumpenalty)\n",
    "model.fit(X_train, y_train)\n",
    "w = model.coef_\n",
    "print('Count of non zero element in coefficient',np.count_nonzero(w))\n",
    "print('Model train and test score C and penalty',model.score(X_train,y_train),model.score(X_test,y_test),model.C,model.penalty)\n",
    "bb=pd.DataFrame({'type':['Random search TFIDF'],'train_score':[model.score(X_train,y_train)],'test_score':[model.score(X_test,y_test)],'C':[model.C],'penalty':[model.penalty]})\n",
    "aa=aa.append(bb)\n",
    "print(aa)\n",
    "#confusion matrix\n",
    "mat=pd.crosstab(y_test, model.score(X_test,y_test), rownames=['Actual'], colnames=['Predicted'], margins=True) \n",
    "print(mat)\n",
    "\n",
    "#try increasing lambda\n",
    "for i in [.001,.01,.1,1,10,100,1000,10000]:\n",
    "  model = LogisticRegression(C=i,penalty='l1')\n",
    "  model.fit(X_train, y_train)\n",
    "  w = model.coef_\n",
    "  print('Count of non zero, total element (l1), coefficient ( C or 1/lambda),train accuracy and test accuracy\\n',i,np.count_nonzero(w),np.shape(w),model.score(X_train, y_train),model.score(X_test, y_test))\n",
    "#See top features\n",
    "coefs = np.abs(model.coef_[0])\n",
    "indices = np.argsort(coefs)[::-1]\n",
    "model = LogisticRegression(C=optimumc,penalty=optimumpenalty)\n",
    "model.fit(X_train, y_train)\n",
    "print(\"Top 10 words for both review 0 negative 1 positive with weights\\n\")\n",
    "top_pos_fet,top_neg_fet=most_informative_feature_for_binary_classification(tf_idf_vect , model)\n",
    "#Check multicolinearity\n",
    "from scipy import *\n",
    "import random\n",
    "from scipy.sparse import *\n",
    "X_train.data += np.random.normal(0,.0001,X_train.data.shape[0])\n",
    "model = LogisticRegression(C=optimumc,penalty=optimumpenalty)\n",
    "model.fit(X_train, y_train)\n",
    "print(\"Top 10 words for both review 0 negative 1 positive with weights\\n\")\n",
    "top_pos_fet,top_neg_fet=most_informative_feature_for_binary_classification(tf_idf_vect, model)\n",
    "#plot training and cv error with c and l1\n",
    "C=[10**-2, 10**-1, 1,5,8,10]\n",
    "param_range=[10**-2, 10**-1, 1,5,8,10]\n",
    "train_scores, test_scores = validation_curve(LogisticRegression(penalty='l1'), X_train, y_train, param_name=\"C\",param_range=C,cv=5)\n",
    "train_scores_mean = np.mean(train_scores, axis=1)\n",
    "train_scores_std = np.std(train_scores, axis=1)\n",
    "test_scores_mean = np.mean(test_scores, axis=1)\n",
    "test_scores_std = np.std(test_scores, axis=1)\n",
    "plt.plot(param_range, train_scores_mean, label=\"Training score\", color=\"black\")\n",
    "plt.plot(param_range, test_scores_mean, label=\"Cross-validation score\", color=\"red\")\n",
    "plt.fill_between(param_range, train_scores_mean - train_scores_std, train_scores_mean + train_scores_std, color=\"gray\")\n",
    "plt.fill_between(param_range, test_scores_mean - test_scores_std, test_scores_mean + test_scores_std, color=\"green\")\n",
    "plt.title(\"Validation Curve With logistic regression for different C value\")\n",
    "plt.xlabel(\"C value\")\n",
    "plt.ylabel(\"Accuracy Score\")\n",
    "plt.xlim(.0001,10)\n",
    "plt.tight_layout()\n",
    "plt.legend(loc=\"best\")\n",
    "plt.show()\n",
    "#plot training and cv with c and l2\n",
    "C=[10**-2, 10**-1, 1,5,8,10]\n",
    "param_range=[10**-2, 10**-1, 1,5,8,10]\n",
    "train_scores, test_scores = validation_curve(LogisticRegression(penalty='l2'), X_train, y_train, param_name=\"C\",param_range=C,cv=5)\n",
    "train_scores_mean = np.mean(train_scores, axis=1)\n",
    "train_scores_std = np.std(train_scores, axis=1)\n",
    "test_scores_mean = np.mean(test_scores, axis=1)\n",
    "test_scores_std = np.std(test_scores, axis=1)\n",
    "plt.plot(param_range, train_scores_mean, label=\"Training score\", color=\"black\")\n",
    "plt.plot(param_range, test_scores_mean, label=\"Cross-validation score\", color=\"red\")\n",
    "#Plot accurancy bands for training and test sets\n",
    "plt.fill_between(param_range, train_scores_mean - train_scores_std, train_scores_mean + train_scores_std, color=\"gray\")\n",
    "plt.fill_between(param_range, test_scores_mean - test_scores_std, test_scores_mean + test_scores_std, color=\"green\")\n",
    "plt.title(\"Validation Curve With logistic regression for different C value\")\n",
    "plt.xlabel(\"C value\")\n",
    "plt.ylabel(\"Accuracy Score\")\n",
    "plt.xlim(.0001,10)\n",
    "plt.tight_layout()\n",
    "plt.legend(loc=\"best\")\n",
    "plt.show()\n"
   ]
  },
  {
   "cell_type": "code",
   "execution_count": null,
   "metadata": {
    "collapsed": true
   },
   "outputs": [],
   "source": []
  },
  {
   "cell_type": "markdown",
   "metadata": {},
   "source": [
    "# AVG W2V"
   ]
  },
  {
   "cell_type": "code",
   "execution_count": 31,
   "metadata": {},
   "outputs": [
    {
     "name": "stdout",
     "output_type": "stream",
     "text": [
      "size of X_train, X_test, y_train , y_test  (21000, 50) (9000, 50) (21000,) (9000,)\n",
      "Best parameters \n",
      " LogisticRegression(C=10, class_weight=None, dual=False, fit_intercept=True,\n",
      "          intercept_scaling=1, max_iter=100, multi_class='ovr', n_jobs=1,\n",
      "          penalty='l1', random_state=None, solver='liblinear', tol=0.0001,\n",
      "          verbose=0, warm_start=False)\n",
      "Count of non zero element in coefficient 47\n",
      "Model train and test score C and penalty 0.881714285714 0.829111111111 10 l1\n",
      "Model best extimator \n",
      " LogisticRegression(C=100, class_weight=None, dual=False, fit_intercept=True,\n",
      "          intercept_scaling=1, max_iter=100, multi_class='ovr', n_jobs=1,\n",
      "          penalty='l2', random_state=None, solver='liblinear', tol=0.0001,\n",
      "          verbose=0, warm_start=False)\n",
      "Count of non zero element in coefficient 50\n",
      "Model train and test score C and penalty 0.881714285714 0.829111111111 100 l2\n",
      "         C penalty  test_score  train_score                  type\n",
      "0    0.001      l2    0.892333     0.974571       Grid search BOW\n",
      "0    0.010      l2    0.885778     0.990857     Random search BOW\n",
      "0    0.001      l2    0.830778     0.974571     Grid search TFIDF\n",
      "0    0.010      l2    0.838333     0.990857   Random search TFIDF\n",
      "0   10.000      l1    0.829111     0.881714    Grid search AVGW2V\n",
      "0  100.000      l2    0.829111     0.881714  Random search AVGW2V\n",
      "confusion matrix\n",
      " Predicted  0     1   All\n",
      "Actual                  \n",
      "0          0  1537  1537\n",
      "1          1  7462  7463\n",
      "All        1  8999  9000\n",
      "Count of non zero, total element (l1), coefficient ( C or 1/lambda),train accuracy and test accuracy\n",
      " 0.001 0 (1, 50) 0.849142857143 0.829222222222\n",
      "Count of non zero, total element (l1), coefficient ( C or 1/lambda),train accuracy and test accuracy\n",
      " 0.01 14 (1, 50) 0.863428571429 0.829333333333\n",
      "Count of non zero, total element (l1), coefficient ( C or 1/lambda),train accuracy and test accuracy\n",
      " 0.1 33 (1, 50) 0.876761904762 0.829333333333\n",
      "Count of non zero, total element (l1), coefficient ( C or 1/lambda),train accuracy and test accuracy\n",
      " 1 47 (1, 50) 0.881095238095 0.829222222222\n",
      "Count of non zero, total element (l1), coefficient ( C or 1/lambda),train accuracy and test accuracy\n",
      " 10 47 (1, 50) 0.881714285714 0.829111111111\n",
      "Count of non zero, total element (l1), coefficient ( C or 1/lambda),train accuracy and test accuracy\n",
      " 100 50 (1, 50) 0.881714285714 0.829111111111\n",
      "Count of non zero, total element (l1), coefficient ( C or 1/lambda),train accuracy and test accuracy\n",
      " 1000 50 (1, 50) 0.881714285714 0.829111111111\n",
      "Count of non zero, total element (l1), coefficient ( C or 1/lambda),train accuracy and test accuracy\n",
      " 10000 50 (1, 50) 0.881714285714 0.829111111111\n"
     ]
    },
    {
     "data": {
      "image/png": "[encoded data removed]",
      "text/plain": [
       "<matplotlib.figure.Figure at 0x22f22c79eb8>"
      ]
     },
     "metadata": {},
     "output_type": "display_data"
    },
    {
     "data": {
      "image/png": "[encoded data removed]",
      "text/plain": [
       "<matplotlib.figure.Figure at 0x22f33cc9eb8>"
      ]
     },
     "metadata": {},
     "output_type": "display_data"
    }
   ],
   "source": [
    "#ignore warning\n",
    "import warnings\n",
    "warnings.filterwarnings('ignore')\n",
    "\n",
    "\n",
    "from gensim.models import Word2Vec\n",
    "from gensim.models import KeyedVectors\n",
    "import pickle\n",
    "model = KeyedVectors.load_word2vec_format('GoogleNews-vectors-negative300.bin.gz', binary=True)\n",
    "import gensim\n",
    "#convert W2V train data\n",
    "i=0\n",
    "#create a list of list to be used in W2V \n",
    "list_of_sent_train=[]\n",
    "for sent in X_train_raw:  #clean_data['CleanedText'].values:\n",
    "    filtered_sentence=[]\n",
    "    #sent=cleanhtml(sent)\n",
    "    for w in sent.split():\n",
    "        #for cleaned_words in cleanpunc(w).split():\n",
    "         for cleaned_words in w.split():\n",
    "            if(cleaned_words.isalpha()):    \n",
    "                filtered_sentence.append(cleaned_words.lower().decode('utf8'))\n",
    "            else:\n",
    "                continue \n",
    "    list_of_sent_train.append(filtered_sentence)\n",
    "#convert each sentence's words to a vector of 50 dimension. Dont construct vec if word doesnot occur 5 times. And for each word construct 50 dimension vector\n",
    "#and 4 core processor\n",
    "w2v_model=gensim.models.Word2Vec(list_of_sent_train,min_count=5,size=50, workers=4)   \n",
    "\n",
    "# average Word2Vec\n",
    "# for each sentence make average of vectors by (vectors of each words)/(total no of words)\n",
    "# compute average word2vec for each review.\n",
    "sent_vectors_train = []; # the avg-w2v for each sentence/review is stored in this list\n",
    "for sent in list_of_sent_train: # for each review/sentence\n",
    "    sent_vec = np.zeros(50) # as word vectors are of zero length\n",
    "    cnt_words =0; # num of words with a valid vector in the sentence/review\n",
    "    for word in sent: # for each word in a review/sentence\n",
    "        try:\n",
    "            vec = w2v_model.wv[word]\n",
    "            sent_vec += vec\n",
    "            cnt_words += 1\n",
    "        except:\n",
    "            pass\n",
    "    sent_vec /= cnt_words\n",
    "    sent_vectors_train.append(sent_vec)  \n",
    "\n",
    "    \n",
    "#convert W2V test data\n",
    "i=0\n",
    "#create a list of list to be used in W2V \n",
    "list_of_sent_test=[]\n",
    "for sent in X_test_raw:  #clean_data['CleanedText'].values:\n",
    "    filtered_sentence=[]\n",
    "    #sent=cleanhtml(sent)\n",
    "    for w in sent.split():\n",
    "        #for cleaned_words in cleanpunc(w).split():\n",
    "         for cleaned_words in w.split():\n",
    "            if(cleaned_words.isalpha()):    \n",
    "                filtered_sentence.append(cleaned_words.lower().decode('utf8'))\n",
    "            else:\n",
    "                continue \n",
    "    list_of_sent_test.append(filtered_sentence)\n",
    "#convert each sentence's words to a vector of 50 dimension. Dont construct vec if word doesnot occur 5 times. And for each word construct 50 dimension vector\n",
    "#and 4 core processor\n",
    "w2v_model=gensim.models.Word2Vec(list_of_sent_test,min_count=5,size=50, workers=4)   \n",
    "\n",
    "# average Word2Vec\n",
    "# for each sentence make average of vectors by (vectors of each words)/(total no of words)\n",
    "# compute average word2vec for each review.\n",
    "sent_vectors_test = []; # the avg-w2v for each sentence/review is stored in this list\n",
    "for sent in list_of_sent_test: # for each review/sentence\n",
    "    sent_vec = np.zeros(50) # as word vectors are of zero length\n",
    "    cnt_words =0; # num of words with a valid vector in the sentence/review\n",
    "    for word in sent: # for each word in a review/sentence\n",
    "        try:\n",
    "            vec = w2v_model.wv[word]\n",
    "            sent_vec += vec\n",
    "            cnt_words += 1\n",
    "        except:\n",
    "            pass\n",
    "    sent_vec /= cnt_words\n",
    "    sent_vectors_test.append(sent_vec)  \n",
    "\n",
    "# try\n",
    "X_train = pd.DataFrame(sent_vectors_train)\n",
    "X_test = pd.DataFrame(sent_vectors_test)\n",
    "\n",
    "print('size of X_train, X_test, y_train , y_test ',X_train.shape, X_test.shape,y_train.shape,y_test.shape)\n",
    "import warnings\n",
    "warnings.filterwarnings('ignore')\n",
    "from sklearn.model_selection import validation_curve\n",
    "C=[10**-3, 10**-2, 10**-1, 1,10]\n",
    "penalty=['l1', 'l2']\n",
    "tuned_parameters=dict(penalty=penalty,C=C)\n",
    "model = GridSearchCV(LogisticRegression(), tuned_parameters, scoring = 'f1', cv=5)\n",
    "model.fit(X_train, y_train)\n",
    "print('Best parameters \\n',model.best_estimator_)\n",
    "optimumc=model.best_estimator_.C\n",
    "optimumpenalty=model.best_estimator_.penalty\n",
    "#build model with best parameter\n",
    "model = LogisticRegression(C=optimumc,penalty=optimumpenalty)\n",
    "model.fit(X_train, y_train)\n",
    "bb=pd.DataFrame({'type':['Grid search AVGW2V'],'train_score':[model.score(X_train,y_train)],'test_score':[model.score(X_test,y_test)],'C':[model.C],'penalty':[model.penalty]})\n",
    "aa=aa.append(bb)\n",
    "w = model.coef_\n",
    "print('Count of non zero element in coefficient',np.count_nonzero(w))\n",
    "print('Model train and test score C and penalty',model.score(X_train,y_train),model.score(X_test,y_test),model.C,model.penalty)\n",
    "# Random search \n",
    "from sklearn.model_selection import RandomizedSearchCV\n",
    "C=[10**-4, 10**-2, 10**0, 10**2, 10**4]\n",
    "penalty=['l1', 'l2']\n",
    "tuned_parameters=dict(C=C, penalty=penalty)\n",
    "model = RandomizedSearchCV(LogisticRegression(), tuned_parameters, random_state=1, scoring = 'f1', cv=5)\n",
    "model.fit(X_train, y_train)\n",
    "print('Model best extimator \\n',model.best_estimator_)\n",
    "optimumc=model.best_estimator_.C\n",
    "optimumpenalty=model.best_estimator_.penalty\n",
    "model = LogisticRegression(C=optimumc,penalty=optimumpenalty)\n",
    "model.fit(X_train, y_train)\n",
    "w = model.coef_\n",
    "print('Count of non zero element in coefficient',np.count_nonzero(w))\n",
    "print('Model train and test score C and penalty',model.score(X_train,y_train),model.score(X_test,y_test),model.C,model.penalty)\n",
    "bb=pd.DataFrame({'type':['Random search AVGW2V'],'train_score':[model.score(X_train,y_train)],'test_score':[model.score(X_test,y_test)],'C':[model.C],'penalty':[model.penalty]})\n",
    "aa=aa.append(bb)\n",
    "print(aa)\n",
    "#confusion matrix\n",
    "pred2 = model.predict(X_test)\n",
    "mat=pd.crosstab(y_test, pred2, rownames=['Actual'], colnames=['Predicted'], margins=True) \n",
    "print('confusion matrix\\n',mat)\n",
    "\n",
    "#try increasing lambda\n",
    "for i in [.001,.01,.1,1,10,100,1000,10000]:\n",
    "  model = LogisticRegression(C=i,penalty='l1')\n",
    "  model.fit(X_train, y_train)\n",
    "  w = model.coef_\n",
    "  print('Count of non zero, total element (l1), coefficient ( C or 1/lambda),train accuracy and test accuracy\\n',i,np.count_nonzero(w),np.shape(w),model.score(X_train, y_train),model.score(X_test, y_test))\n",
    "#See top features\n",
    "coefs = np.abs(model.coef_[0])\n",
    "indices = np.argsort(coefs)[::-1]\n",
    "model = LogisticRegression(C=optimumc,penalty=optimumpenalty)\n",
    "model.fit(X_train, y_train)\n",
    "#print(\"Top 10 words for both review 0 negative 1 positive with weights\\n\")\n",
    "#top_pos_fet,top_neg_fet=most_informative_feature_for_binary_classification(sent_vectors.toarray() , model)\n",
    "#Check multicolinearity\n",
    "from scipy import *\n",
    "import random\n",
    "from scipy.sparse import *\n",
    "#X_train.data += np.random.normal(0,.0001,X_train.data.shape[0])\n",
    "#model = LogisticRegression(C=optimumc,penalty=optimumpenalty)\n",
    "#model.fit(X_train, y_train)\n",
    "#print(\"Top 10 words for both review 0 negative 1 positive with weights\\n\")\n",
    "#top_pos_fet,top_neg_fet=most_informative_feature_for_binary_classification(sent_vectors.toarray(), model)\n",
    "#plot training and cv error with c and l1\n",
    "C=[10**-2, 10**-1, 1,5,8,10]\n",
    "param_range=[10**-2, 10**-1, 1,5,8,10]\n",
    "train_scores, test_scores = validation_curve(LogisticRegression(penalty='l1'), X_train, y_train, param_name=\"C\",param_range=C,cv=5)\n",
    "train_scores_mean = np.mean(train_scores, axis=1)\n",
    "train_scores_std = np.std(train_scores, axis=1)\n",
    "test_scores_mean = np.mean(test_scores, axis=1)\n",
    "test_scores_std = np.std(test_scores, axis=1)\n",
    "plt.plot(param_range, train_scores_mean, label=\"Training score\", color=\"black\")\n",
    "plt.plot(param_range, test_scores_mean, label=\"Cross-validation score\", color=\"red\")\n",
    "plt.fill_between(param_range, train_scores_mean - train_scores_std, train_scores_mean + train_scores_std, color=\"gray\")\n",
    "plt.fill_between(param_range, test_scores_mean - test_scores_std, test_scores_mean + test_scores_std, color=\"green\")\n",
    "plt.title(\"Validation Curve With logistic regression for different C value\")\n",
    "plt.xlabel(\"C value\")\n",
    "plt.ylabel(\"Accuracy Score\")\n",
    "plt.xlim(.0001,10)\n",
    "plt.tight_layout()\n",
    "plt.legend(loc=\"best\")\n",
    "plt.show()\n",
    "#plot training and cv with c and l2\n",
    "C=[10**-2, 10**-1, 1,5,8,10]\n",
    "param_range=[10**-2, 10**-1, 1,5,8,10]\n",
    "train_scores, test_scores = validation_curve(LogisticRegression(penalty='l2'), X_train, y_train, param_name=\"C\",param_range=C,cv=5)\n",
    "train_scores_mean = np.mean(train_scores, axis=1)\n",
    "train_scores_std = np.std(train_scores, axis=1)\n",
    "test_scores_mean = np.mean(test_scores, axis=1)\n",
    "test_scores_std = np.std(test_scores, axis=1)\n",
    "plt.plot(param_range, train_scores_mean, label=\"Training score\", color=\"black\")\n",
    "plt.plot(param_range, test_scores_mean, label=\"Cross-validation score\", color=\"red\")\n",
    "#Plot accurancy bands for training and test sets\n",
    "plt.fill_between(param_range, train_scores_mean - train_scores_std, train_scores_mean + train_scores_std, color=\"gray\")\n",
    "plt.fill_between(param_range, test_scores_mean - test_scores_std, test_scores_mean + test_scores_std, color=\"green\")\n",
    "plt.title(\"Validation Curve With logistic regression for different C value\")\n",
    "plt.xlabel(\"C value\")\n",
    "plt.ylabel(\"Accuracy Score\")\n",
    "plt.xlim(.0001,10)\n",
    "plt.tight_layout()\n",
    "plt.legend(loc=\"best\")\n",
    "plt.show()\n"
   ]
  },
  {
   "cell_type": "code",
   "execution_count": null,
   "metadata": {
    "collapsed": true
   },
   "outputs": [],
   "source": []
  },
  {
   "cell_type": "code",
   "execution_count": null,
   "metadata": {
    "collapsed": true
   },
   "outputs": [],
   "source": []
  },
  {
   "cell_type": "markdown",
   "metadata": {},
   "source": [
    "# TFIDF AVGW2V"
   ]
  },
  {
   "cell_type": "code",
   "execution_count": 32,
   "metadata": {},
   "outputs": [
    {
     "name": "stdout",
     "output_type": "stream",
     "text": [
      "size of X_train, X_test, y_train , y_test  (21000, 50) (9000, 50) (21000,) (9000,)\n",
      "Best parameters \n",
      " LogisticRegression(C=10, class_weight=None, dual=False, fit_intercept=True,\n",
      "          intercept_scaling=1, max_iter=100, multi_class='ovr', n_jobs=1,\n",
      "          penalty='l1', random_state=None, solver='liblinear', tol=0.0001,\n",
      "          verbose=0, warm_start=False)\n",
      "confusion matrix\n",
      " Predicted    0     1   All\n",
      "Actual                    \n",
      "0          387  1150  1537\n",
      "1          196  7267  7463\n",
      "All        583  8417  9000\n",
      "Count of non zero element in coefficient 46\n",
      "Model train and test score C and penalty 0.865523809524 0.850444444444 10 l1\n",
      "Model best extimator \n",
      " LogisticRegression(C=10000, class_weight=None, dual=False, fit_intercept=True,\n",
      "          intercept_scaling=1, max_iter=100, multi_class='ovr', n_jobs=1,\n",
      "          penalty='l2', random_state=None, solver='liblinear', tol=0.0001,\n",
      "          verbose=0, warm_start=False)\n",
      "Count of non zero element in coefficient 50\n",
      "Model train and test score C and penalty 0.86619047619 0.850333333333 10000 l2\n",
      "           C penalty  test_score  train_score                       type\n",
      "0      0.001      l2    0.892333     0.974571            Grid search BOW\n",
      "0      0.010      l2    0.885778     0.990857          Random search BOW\n",
      "0      0.001      l2    0.830778     0.974571          Grid search TFIDF\n",
      "0      0.010      l2    0.838333     0.990857        Random search TFIDF\n",
      "0     10.000      l1    0.829111     0.881714         Grid search AVGW2V\n",
      "0    100.000      l2    0.829111     0.881714       Random search AVGW2V\n",
      "0     10.000      l1    0.850444     0.865524    Grid search AVGW2VTFIDF\n",
      "0  10000.000      l2    0.850333     0.866190  Random search AVGW2VTFIDF\n",
      "Count of non zero, total element (l1), coefficient ( C or 1/lambda),train accuracy and test accuracy\n",
      " 0.001 0 (1, 50) 0.849142857143 0.829222222222\n",
      "Count of non zero, total element (l1), coefficient ( C or 1/lambda),train accuracy and test accuracy\n",
      " 0.01 5 (1, 50) 0.849142857143 0.829222222222\n",
      "Count of non zero, total element (l1), coefficient ( C or 1/lambda),train accuracy and test accuracy\n",
      " 0.1 20 (1, 50) 0.857523809524 0.834888888889\n",
      "Count of non zero, total element (l1), coefficient ( C or 1/lambda),train accuracy and test accuracy\n",
      " 1 30 (1, 50) 0.862142857143 0.847222222222\n",
      "Count of non zero, total element (l1), coefficient ( C or 1/lambda),train accuracy and test accuracy\n",
      " 10 46 (1, 50) 0.865238095238 0.850333333333\n",
      "Count of non zero, total element (l1), coefficient ( C or 1/lambda),train accuracy and test accuracy\n",
      " 100 50 (1, 50) 0.866333333333 0.85\n",
      "Count of non zero, total element (l1), coefficient ( C or 1/lambda),train accuracy and test accuracy\n",
      " 1000 50 (1, 50) 0.866428571429 0.849888888889\n",
      "Count of non zero, total element (l1), coefficient ( C or 1/lambda),train accuracy and test accuracy\n",
      " 10000 50 (1, 50) 0.866523809524 0.85\n",
      "Top 10 words for both review 0 negative 1 positive with weights\n",
      "\n",
      "0 -24.8624174466 abnorm\n",
      "0 -21.9495858481 abraham\n",
      "0 -14.581004651 aberr\n",
      "0 -12.8762018263 abiiiti\n",
      "0 -11.6580628856 abett\n",
      "0 -11.5960367598 absolutelli\n",
      "0 -9.21736170044 absenc\n",
      "0 -8.08649601681 abililti\n",
      "0 -8.06268461972 absolut\n",
      "0 -7.7369448004 abl\n",
      "\n",
      "\n",
      "1 20.3647201227 abras\n",
      "1 18.4357928796 absent\n",
      "1 17.1738724428 abita\n",
      "1 15.7728820151 aafco\n",
      "1 14.788445502 aborio\n",
      "1 13.3250782965 abiet\n",
      "1 12.8564773183 absolutament\n",
      "1 12.5631417672 aaaah\n",
      "1 8.01473583945 abil\n",
      "1 7.55987075871 aah\n"
     ]
    },
    {
     "data": {
      "image/png": "[encoded data removed]",
      "text/plain": [
       "<matplotlib.figure.Figure at 0x22f2ff36c50>"
      ]
     },
     "metadata": {},
     "output_type": "display_data"
    },
    {
     "data": {
      "image/png": "[encoded data removed]",
      "text/plain": [
       "<matplotlib.figure.Figure at 0x22f33cc4eb8>"
      ]
     },
     "metadata": {},
     "output_type": "display_data"
    }
   ],
   "source": [
    "tf_idf_vect = TfidfVectorizer()\n",
    "final_tf_idf=tf_idf_vect.fit_transform(X_train_raw)\n",
    "tfidf_feat = tf_idf_vect.get_feature_names() # tfidf words/col-names\n",
    "# final_tf_idf is the sparse matrix with row= sentence, col=word and cell_val = tfidf\n",
    "\n",
    "tfidf_sent_vectors_train = []; # the tfidf-w2v for each sentence/review is stored in this list\n",
    "row=0;\n",
    "#calculate avg tfidf score for each sentences \n",
    "for sent in list_of_sent_train: # for each review/sentence\n",
    "    sent_vec = np.zeros(50) # as word vectors are of zero length\n",
    "    weight_sum =0; # num of words with a valid vector in the sentence/review\n",
    "    for word in sent: # for each word in a review/sentence\n",
    "        try:\n",
    "            vec = w2v_model.wv[word]#calculate w2v for each word\n",
    "            # obtain the tf_idfidf of a word in a sentence/review\n",
    "            tf_idf = final_tf_idf[row, tfidf_feat.index(word)]#get tfidf score of each word \n",
    "            sent_vec += (vec * tf_idf) # multiply vec with tfidf of each word and cumulative add of words in each sentence\n",
    "            weight_sum += tf_idf # also add tfidf sums in each sentence\n",
    "        except:\n",
    "            pass\n",
    "    sent_vec /= weight_sum\n",
    "    tfidf_sent_vectors_train.append(sent_vec)\n",
    "    row += 1\n",
    "#tfidf_sent_vectors.\n",
    "\n",
    "# do for test\n",
    "final_tf_idf=tf_idf_vect.transform(X_test_raw)\n",
    "tfidf_sent_vectors_test = []; # the tfidf-w2v for each sentence/review is stored in this list\n",
    "row=0;\n",
    "#calculate avg tfidf score for each sentences \n",
    "for sent in list_of_sent_test: # for each review/sentence\n",
    "    sent_vec = np.zeros(50) # as word vectors are of zero length\n",
    "    weight_sum =0; # num of words with a valid vector in the sentence/review\n",
    "    for word in sent: # for each word in a review/sentence\n",
    "        try:\n",
    "            vec = w2v_model.wv[word]#calculate w2v for each word\n",
    "            # obtain the tf_idfidf of a word in a sentence/review\n",
    "            tf_idf = final_tf_idf[row, tfidf_feat.index(word)]#get tfidf score of each word \n",
    "            sent_vec += (vec * tf_idf) # multiply vec with tfidf of each word and cumulative add of words in each sentence\n",
    "            weight_sum += tf_idf # also add tfidf sums in each sentence\n",
    "        except:\n",
    "            pass\n",
    "    sent_vec /= weight_sum\n",
    "    tfidf_sent_vectors_test.append(sent_vec)\n",
    "    row += 1\n",
    "\n",
    "\n",
    "\n",
    "#x=tfidf_sent_vectors\n",
    "#y = clean_data['Score']\n",
    "#n=len(x)\n",
    "#n1=int(n*.3)\n",
    "#X_test = x[0:n1]\n",
    "#X_train= x[n1:n+1]\n",
    "#y_test=y[0:n1]\n",
    "#y_train=y[n1:n+1]\n",
    "#print('X y train test ',len(X_train),len(X_test),y_train.shape,y_test.shape)\n",
    "X_train = pd.DataFrame(tfidf_sent_vectors_train)\n",
    "X_test = pd.DataFrame(tfidf_sent_vectors_test)\n",
    "print('size of X_train, X_test, y_train , y_test ',X_train.shape, X_test.shape,y_train.shape,y_test.shape)\n",
    "\n",
    "import warnings\n",
    "warnings.filterwarnings('ignore')\n",
    "from sklearn.model_selection import validation_curve\n",
    "C=[10**-3, 10**-2, 10**-1, 1,10]\n",
    "penalty=['l1', 'l2']\n",
    "tuned_parameters=dict(penalty=penalty,C=C)\n",
    "model = GridSearchCV(LogisticRegression(), tuned_parameters, scoring = 'f1', cv=5)\n",
    "model.fit(X_train, y_train)\n",
    "print('Best parameters \\n',model.best_estimator_)\n",
    "optimumc=model.best_estimator_.C\n",
    "optimumpenalty=model.best_estimator_.penalty\n",
    "#build model with best parameter\n",
    "model = LogisticRegression(C=optimumc,penalty=optimumpenalty)\n",
    "model.fit(X_train, y_train)\n",
    "bb=pd.DataFrame({'type':['Grid search AVGW2VTFIDF'],'train_score':[model.score(X_train,y_train)],'test_score':[model.score(X_test,y_test)],'C':[model.C],'penalty':[model.penalty]})\n",
    "aa=aa.append(bb)\n",
    "#confusion matrix\n",
    "pred2 = model.predict(X_test)\n",
    "mat=pd.crosstab(y_test, pred2, rownames=['Actual'], colnames=['Predicted'], margins=True) \n",
    "print('confusion matrix\\n',mat)\n",
    "\n",
    "w = model.coef_\n",
    "print('Count of non zero element in coefficient',np.count_nonzero(w))\n",
    "print('Model train and test score C and penalty',model.score(X_train,y_train),model.score(X_test,y_test),model.C,model.penalty)\n",
    "# Random search \n",
    "from sklearn.model_selection import RandomizedSearchCV\n",
    "C=[10**-4, 10**-2, 10**0, 10**2, 10**4]\n",
    "penalty=['l1', 'l2']\n",
    "tuned_parameters=dict(C=C, penalty=penalty)\n",
    "model = RandomizedSearchCV(LogisticRegression(), tuned_parameters, random_state=1, scoring = 'f1', cv=5)\n",
    "model.fit(X_train, y_train)\n",
    "print('Model best extimator \\n',model.best_estimator_)\n",
    "optimumc=model.best_estimator_.C\n",
    "optimumpenalty=model.best_estimator_.penalty\n",
    "model = LogisticRegression(C=optimumc,penalty=optimumpenalty)\n",
    "model.fit(X_train, y_train)\n",
    "w = model.coef_\n",
    "print('Count of non zero element in coefficient',np.count_nonzero(w))\n",
    "print('Model train and test score C and penalty',model.score(X_train,y_train),model.score(X_test,y_test),model.C,model.penalty)\n",
    "bb=pd.DataFrame({'type':['Random search AVGW2VTFIDF'],'train_score':[model.score(X_train,y_train)],'test_score':[model.score(X_test,y_test)],'C':[model.C],'penalty':[model.penalty]})\n",
    "aa=aa.append(bb)\n",
    "print(aa)\n",
    "#try increasing lambda\n",
    "for i in [.001,.01,.1,1,10,100,1000,10000]:\n",
    "  model = LogisticRegression(C=i,penalty='l1')\n",
    "  model.fit(X_train, y_train)\n",
    "  w = model.coef_\n",
    "  print('Count of non zero, total element (l1), coefficient ( C or 1/lambda),train accuracy and test accuracy\\n',i,np.count_nonzero(w),np.shape(w),model.score(X_train, y_train),model.score(X_test, y_test))\n",
    "#See top features\n",
    "coefs = np.abs(model.coef_[0])\n",
    "indices = np.argsort(coefs)[::-1]\n",
    "model = LogisticRegression(C=optimumc,penalty=optimumpenalty)\n",
    "model.fit(X_train, y_train)\n",
    "print(\"Top 10 words for both review 0 negative 1 positive with weights\\n\")\n",
    "top_pos_fet,top_neg_fet=most_informative_feature_for_binary_classification(tf_idf_vect , model)\n",
    "#Check multicolinearity\n",
    "from scipy import *\n",
    "import random\n",
    "from scipy.sparse import *\n",
    "#X_train.data += np.random.normal(0,.0001,X_train.data.shape[0])\n",
    "#model = LogisticRegression(C=optimumc,penalty=optimumpenalty)\n",
    "#model.fit(X_train, y_train)\n",
    "#print(\"Top 10 words for both review 0 negative 1 positive with weights\\n\")\n",
    "#top_pos_fet,top_neg_fet=most_informative_feature_for_binary_classification(tf_idf_vect, model)\n",
    "#plot training and cv error with c and l1\n",
    "C=[10**-2, 10**-1, 1,5,8,10]\n",
    "param_range=[10**-2, 10**-1, 1,5,8,10]\n",
    "train_scores, test_scores = validation_curve(LogisticRegression(penalty='l1'), X_train, y_train, param_name=\"C\",param_range=C,cv=5)\n",
    "train_scores_mean = np.mean(train_scores, axis=1)\n",
    "train_scores_std = np.std(train_scores, axis=1)\n",
    "test_scores_mean = np.mean(test_scores, axis=1)\n",
    "test_scores_std = np.std(test_scores, axis=1)\n",
    "plt.plot(param_range, train_scores_mean, label=\"Training score\", color=\"black\")\n",
    "plt.plot(param_range, test_scores_mean, label=\"Cross-validation score\", color=\"red\")\n",
    "plt.fill_between(param_range, train_scores_mean - train_scores_std, train_scores_mean + train_scores_std, color=\"gray\")\n",
    "plt.fill_between(param_range, test_scores_mean - test_scores_std, test_scores_mean + test_scores_std, color=\"green\")\n",
    "plt.title(\"Validation Curve With logistic regression for different C value\")\n",
    "plt.xlabel(\"C value\")\n",
    "plt.ylabel(\"Accuracy Score\")\n",
    "plt.xlim(.0001,10)\n",
    "plt.tight_layout()\n",
    "plt.legend(loc=\"best\")\n",
    "plt.show()\n",
    "#plot training and cv with c and l2\n",
    "C=[10**-2, 10**-1, 1,5,8,10]\n",
    "param_range=[10**-2, 10**-1, 1,5,8,10]\n",
    "train_scores, test_scores = validation_curve(LogisticRegression(penalty='l2'), X_train, y_train, param_name=\"C\",param_range=C,cv=5)\n",
    "train_scores_mean = np.mean(train_scores, axis=1)\n",
    "train_scores_std = np.std(train_scores, axis=1)\n",
    "test_scores_mean = np.mean(test_scores, axis=1)\n",
    "test_scores_std = np.std(test_scores, axis=1)\n",
    "plt.plot(param_range, train_scores_mean, label=\"Training score\", color=\"black\")\n",
    "plt.plot(param_range, test_scores_mean, label=\"Cross-validation score\", color=\"red\")\n",
    "#Plot accurancy bands for training and test sets\n",
    "plt.fill_between(param_range, train_scores_mean - train_scores_std, train_scores_mean + train_scores_std, color=\"gray\")\n",
    "plt.fill_between(param_range, test_scores_mean - test_scores_std, test_scores_mean + test_scores_std, color=\"green\")\n",
    "plt.title(\"Validation Curve With logistic regression for different C value\")\n",
    "plt.xlabel(\"C value\")\n",
    "plt.ylabel(\"Accuracy Score\")\n",
    "plt.xlim(.0001,10)\n",
    "plt.tight_layout()\n",
    "plt.legend(loc=\"best\")\n",
    "plt.show()\n"
   ]
  },
  {
   "cell_type": "markdown",
   "metadata": {
    "collapsed": true
   },
   "source": [
    "Ignore the above 2 plots those plots are plotted below again"
   ]
  },
  {
   "cell_type": "code",
   "execution_count": 34,
   "metadata": {},
   "outputs": [
    {
     "data": {
      "image/png": "[encoded data removed]",
      "text/plain": [
       "<matplotlib.figure.Figure at 0x22f2cd92cc0>"
      ]
     },
     "metadata": {},
     "output_type": "display_data"
    },
    {
     "data": {
      "image/png": "[encoded data removed]",
      "text/plain": [
       "<matplotlib.figure.Figure at 0x22f2720b710>"
      ]
     },
     "metadata": {},
     "output_type": "display_data"
    }
   ],
   "source": [
    "C=[10**-2, 10**-1, 1,5,8,10]\n",
    "param_range=[10**-2, 10**-1, 1,5,8,10]\n",
    "train_scores, test_scores = validation_curve(LogisticRegression(penalty='l1'), X_train, y_train, param_name=\"C\",param_range=C,cv=5)\n",
    "train_scores_mean = np.mean(train_scores, axis=1)\n",
    "train_scores_std = np.std(train_scores, axis=1)\n",
    "test_scores_mean = np.mean(test_scores, axis=1)\n",
    "test_scores_std = np.std(test_scores, axis=1)\n",
    "plt.plot(param_range, train_scores_mean, label=\"Training score\", color=\"black\")\n",
    "plt.plot(param_range, test_scores_mean, label=\"Cross-validation score\", color=\"red\")\n",
    "plt.fill_between(param_range, train_scores_mean - train_scores_std, train_scores_mean + train_scores_std, color=\"gray\")\n",
    "plt.fill_between(param_range, test_scores_mean - test_scores_std, test_scores_mean + test_scores_std, color=\"green\")\n",
    "plt.title(\"Validation Curve With logistic regression for different C value\")\n",
    "plt.xlabel(\"C value\")\n",
    "plt.ylabel(\"Accuracy Score\")\n",
    "plt.xlim(.0001,10)\n",
    "plt.tight_layout()\n",
    "plt.legend(loc=\"best\")\n",
    "plt.show()\n",
    "#plot training and cv with c and l2\n",
    "C=[10**-2, 10**-1, 1,5,8,10]\n",
    "param_range=[10**-2, 10**-1, 1,5,8,10]\n",
    "train_scores, test_scores = validation_curve(LogisticRegression(penalty='l2'), X_train, y_train, param_name=\"C\",param_range=C,cv=5)\n",
    "train_scores_mean = np.mean(train_scores, axis=1)\n",
    "train_scores_std = np.std(train_scores, axis=1)\n",
    "test_scores_mean = np.mean(test_scores, axis=1)\n",
    "test_scores_std = np.std(test_scores, axis=1)\n",
    "plt.plot(param_range, train_scores_mean, label=\"Training score\", color=\"black\")\n",
    "plt.plot(param_range, test_scores_mean, label=\"Cross-validation score\", color=\"red\")\n",
    "#Plot accurancy bands for training and test sets\n",
    "plt.fill_between(param_range, train_scores_mean - train_scores_std, train_scores_mean + train_scores_std, color=\"gray\")\n",
    "plt.fill_between(param_range, test_scores_mean - test_scores_std, test_scores_mean + test_scores_std, color=\"green\")\n",
    "plt.title(\"Validation Curve With logistic regression for different C value\")\n",
    "plt.xlabel(\"C value\")\n",
    "plt.ylabel(\"Accuracy Score\")\n",
    "plt.xlim(.0001,10)\n",
    "plt.tight_layout()\n",
    "plt.legend(loc=\"best\")\n",
    "plt.show()\n"
   ]
  },
  {
   "cell_type": "code",
   "execution_count": null,
   "metadata": {
    "collapsed": true
   },
   "outputs": [],
   "source": []
  },
  {
   "cell_type": "code",
   "execution_count": null,
   "metadata": {
    "collapsed": true
   },
   "outputs": [],
   "source": []
  },
  {
   "cell_type": "code",
   "execution_count": null,
   "metadata": {
    "collapsed": true
   },
   "outputs": [],
   "source": []
  },
  {
   "cell_type": "code",
   "execution_count": null,
   "metadata": {
    "collapsed": true
   },
   "outputs": [],
   "source": []
  },
  {
   "cell_type": "markdown",
   "metadata": {},
   "source": [
    "# Conclusion\n",
    "\n",
    "1. Increasing C\n",
    "We can see as C decreases i.e. lambda increases more coefficients are getting 0 and test accuracy increases when C too low accuracy decreases again\n",
    "\n",
    "3. Multicolinearity\n",
    "After adding some noise on data the weights are almost same so multicolinearity doesnot exist\n",
    "\n",
    "4. The most important words for positive and negatives are making sense\n",
    "Accuracy scores are below\n"
   ]
  },
  {
   "cell_type": "code",
   "execution_count": 33,
   "metadata": {},
   "outputs": [
    {
     "data": {
      "text/html": [
       "<div>\n",
       "<style>\n",
       "    .dataframe thead tr:only-child th {\n",
       "        text-align: right;\n",
       "    }\n",
       "\n",
       "    .dataframe thead th {\n",
       "        text-align: left;\n",
       "    }\n",
       "\n",
       "    .dataframe tbody tr th {\n",
       "        vertical-align: top;\n",
       "    }\n",
       "</style>\n",
       "<table border=\"1\" class=\"dataframe\">\n",
       "  <thead>\n",
       "    <tr style=\"text-align: right;\">\n",
       "      <th></th>\n",
       "      <th>C</th>\n",
       "      <th>penalty</th>\n",
       "      <th>test_score</th>\n",
       "      <th>train_score</th>\n",
       "      <th>type</th>\n",
       "    </tr>\n",
       "  </thead>\n",
       "  <tbody>\n",
       "    <tr>\n",
       "      <th>0</th>\n",
       "      <td>0.001</td>\n",
       "      <td>l2</td>\n",
       "      <td>0.892333</td>\n",
       "      <td>0.974571</td>\n",
       "      <td>Grid search BOW</td>\n",
       "    </tr>\n",
       "    <tr>\n",
       "      <th>0</th>\n",
       "      <td>0.010</td>\n",
       "      <td>l2</td>\n",
       "      <td>0.885778</td>\n",
       "      <td>0.990857</td>\n",
       "      <td>Random search BOW</td>\n",
       "    </tr>\n",
       "    <tr>\n",
       "      <th>0</th>\n",
       "      <td>0.001</td>\n",
       "      <td>l2</td>\n",
       "      <td>0.830778</td>\n",
       "      <td>0.974571</td>\n",
       "      <td>Grid search TFIDF</td>\n",
       "    </tr>\n",
       "    <tr>\n",
       "      <th>0</th>\n",
       "      <td>0.010</td>\n",
       "      <td>l2</td>\n",
       "      <td>0.838333</td>\n",
       "      <td>0.990857</td>\n",
       "      <td>Random search TFIDF</td>\n",
       "    </tr>\n",
       "    <tr>\n",
       "      <th>0</th>\n",
       "      <td>10.000</td>\n",
       "      <td>l1</td>\n",
       "      <td>0.829111</td>\n",
       "      <td>0.881714</td>\n",
       "      <td>Grid search AVGW2V</td>\n",
       "    </tr>\n",
       "    <tr>\n",
       "      <th>0</th>\n",
       "      <td>100.000</td>\n",
       "      <td>l2</td>\n",
       "      <td>0.829111</td>\n",
       "      <td>0.881714</td>\n",
       "      <td>Random search AVGW2V</td>\n",
       "    </tr>\n",
       "    <tr>\n",
       "      <th>0</th>\n",
       "      <td>10.000</td>\n",
       "      <td>l1</td>\n",
       "      <td>0.850444</td>\n",
       "      <td>0.865524</td>\n",
       "      <td>Grid search AVGW2VTFIDF</td>\n",
       "    </tr>\n",
       "    <tr>\n",
       "      <th>0</th>\n",
       "      <td>10000.000</td>\n",
       "      <td>l2</td>\n",
       "      <td>0.850333</td>\n",
       "      <td>0.866190</td>\n",
       "      <td>Random search AVGW2VTFIDF</td>\n",
       "    </tr>\n",
       "  </tbody>\n",
       "</table>\n",
       "</div>"
      ],
      "text/plain": [
       "           C penalty  test_score  train_score                       type\n",
       "0      0.001      l2    0.892333     0.974571            Grid search BOW\n",
       "0      0.010      l2    0.885778     0.990857          Random search BOW\n",
       "0      0.001      l2    0.830778     0.974571          Grid search TFIDF\n",
       "0      0.010      l2    0.838333     0.990857        Random search TFIDF\n",
       "0     10.000      l1    0.829111     0.881714         Grid search AVGW2V\n",
       "0    100.000      l2    0.829111     0.881714       Random search AVGW2V\n",
       "0     10.000      l1    0.850444     0.865524    Grid search AVGW2VTFIDF\n",
       "0  10000.000      l2    0.850333     0.866190  Random search AVGW2VTFIDF"
      ]
     },
     "execution_count": 33,
     "metadata": {},
     "output_type": "execute_result"
    }
   ],
   "source": [
    "aa"
   ]
  },
  {
   "cell_type": "markdown",
   "metadata": {
    "collapsed": true
   },
   "source": [
    "# Steps followed"
   ]
  },
  {
   "cell_type": "markdown",
   "metadata": {
    "collapsed": true
   },
   "source": [
    "Only !=3 reviews are taken Mark >3 as positive and <3 as negative. \n",
    "Sort data as per product id in ascending order Deduplication of entries for same profilename,userid, time, text \n",
    "  and take first element Get stratified sampling of 50k data Clean html and punctuation Convert to uppercase \n",
    "and word<3 are rejected data sorted on time Split the data in train and test to 70:30\n",
    "\n",
    "BOW    \n",
    "BOW BOW vec created using train data test data is converted using above \n",
    "X is standarize on train and same applied to test\n",
    "y is converted to 1 and 0 from positive and negative\n",
    "do grid search and random search for different value of c and penalty\n",
    "best model is established with best hyperparameter. model metric is stored in dataframe and crosstable is printed\n",
    "print the non zero element of weights\n",
    "try increasing lambda and see sparsity difference\n",
    "see top +ve and -ve features using weights sorted in descendng order\n",
    "Check if multicolinearity exist using pertubation test\n",
    "plot cv error with C and penalty\n",
    "\n",
    "TFIDF\n",
    "form tfidf vec using train same is used in test to convert\n",
    "rest are same\n",
    "\n",
    "AVG W2V\n",
    "gensim is used to convert train and test text to W2V AVG seperately\n",
    "rest are same\n",
    "\n",
    "AVG TFIDF\n",
    "form tfidf vec using train same is used in test to convert\n",
    "gensim and above tfidf is used to convert train and test text to W2V AVG seperately\n"
   ]
  },
  {
   "cell_type": "code",
   "execution_count": null,
   "metadata": {
    "collapsed": true
   },
   "outputs": [],
   "source": []
  },
  {
   "cell_type": "code",
   "execution_count": null,
   "metadata": {
    "collapsed": true
   },
   "outputs": [],
   "source": []
  },
  {
   "cell_type": "code",
   "execution_count": null,
   "metadata": {
    "collapsed": true
   },
   "outputs": [],
   "source": []
  },
  {
   "cell_type": "code",
   "execution_count": null,
   "metadata": {
    "collapsed": true
   },
   "outputs": [],
   "source": []
  },
  {
   "cell_type": "code",
   "execution_count": null,
   "metadata": {
    "collapsed": true
   },
   "outputs": [],
   "source": []
  },
  {
   "cell_type": "code",
   "execution_count": null,
   "metadata": {
    "collapsed": true
   },
   "outputs": [],
   "source": []
  },
  {
   "cell_type": "code",
   "execution_count": null,
   "metadata": {
    "collapsed": true
   },
   "outputs": [],
   "source": []
  },
  {
   "cell_type": "code",
   "execution_count": null,
   "metadata": {
    "collapsed": true
   },
   "outputs": [],
   "source": []
  },
  {
   "cell_type": "code",
   "execution_count": null,
   "metadata": {
    "collapsed": true
   },
   "outputs": [],
   "source": []
  },
  {
   "cell_type": "code",
   "execution_count": null,
   "metadata": {
    "collapsed": true
   },
   "outputs": [],
   "source": []
  },
  {
   "cell_type": "code",
   "execution_count": null,
   "metadata": {
    "collapsed": true
   },
   "outputs": [],
   "source": []
  },
  {
   "cell_type": "code",
   "execution_count": null,
   "metadata": {
    "collapsed": true
   },
   "outputs": [],
   "source": []
  },
  {
   "cell_type": "code",
   "execution_count": null,
   "metadata": {
    "collapsed": true
   },
   "outputs": [],
   "source": []
  },
  {
   "cell_type": "code",
   "execution_count": null,
   "metadata": {
    "collapsed": true
   },
   "outputs": [],
   "source": []
  },
  {
   "cell_type": "code",
   "execution_count": null,
   "metadata": {
    "collapsed": true
   },
   "outputs": [],
   "source": []
  },
  {
   "cell_type": "code",
   "execution_count": null,
   "metadata": {
    "collapsed": true
   },
   "outputs": [],
   "source": []
  },
  {
   "cell_type": "code",
   "execution_count": null,
   "metadata": {
    "collapsed": true
   },
   "outputs": [],
   "source": []
  }
 ],
 "metadata": {
  "kernelspec": {
   "display_name": "Python 3",
   "language": "python",
   "name": "python3"
  }
 },
 "nbformat": 4,
 "nbformat_minor": 2
}
