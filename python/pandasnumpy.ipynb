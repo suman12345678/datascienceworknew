{
 "cells": [
  {
   "cell_type": "code",
   "execution_count": 4,
   "metadata": {},
   "outputs": [
    {
     "name": "stdout",
     "output_type": "stream",
     "text": [
      "[ 10.  10.  10.  10.]\n",
      "30\n",
      "[30 40]\n"
     ]
    }
   ],
   "source": [
    "import numpy as np\n",
    "a=np.array([1,2,3,4])\n",
    "b=np.array([10,20,30,40])\n",
    "c=b/a\n",
    "print(c)\n",
    "#numpy works as vector and calculations are as elementwise calculation\n",
    "#it contains only one type\n",
    "#access element\n",
    "print(b[2])\n",
    "#access using boolean\n",
    "print(b[b>20])"
   ]
  },
  {
   "cell_type": "code",
   "execution_count": 8,
   "metadata": {},
   "outputs": [
    {
     "name": "stdout",
     "output_type": "stream",
     "text": [
      "(2, 4)\n"
     ]
    }
   ],
   "source": [
    "#numpy 2darray from list of lists\n",
    "a=np.array([[1,2,3,4],[10,20,30,40]])\n",
    "print(a.shape)"
   ]
  },
  {
   "cell_type": "code",
   "execution_count": 11,
   "metadata": {},
   "outputs": [
    {
     "name": "stdout",
     "output_type": "stream",
     "text": [
      "40\n",
      "40\n",
      "[10 20 30 40]\n"
     ]
    }
   ],
   "source": [
    "#access 2d array\n",
    "print(a[1][3])\n",
    "print(a[1,3])\n",
    "print(a[1,:])"
   ]
  },
  {
   "cell_type": "code",
   "execution_count": 12,
   "metadata": {},
   "outputs": [
    {
     "name": "stdout",
     "output_type": "stream",
     "text": [
      "11.0\n"
     ]
    }
   ],
   "source": [
    "#statistics\n",
    "print(np.mean(a[:,1]))\n"
   ]
  },
  {
   "cell_type": "code",
   "execution_count": 15,
   "metadata": {},
   "outputs": [
    {
     "name": "stdout",
     "output_type": "stream",
     "text": [
      "0    tiger\n",
      "1      cat\n",
      "2      dog\n",
      "3      cow\n",
      "dtype: object\n"
     ]
    }
   ],
   "source": [
    "#pandas series\n",
    "import pandas as pd\n",
    "animals=['tiger','cat','dog','cow']\n",
    "a=pd.Series(animals)\n",
    "print(a)\n",
    "#in series automatically index is stored"
   ]
  },
  {
   "cell_type": "code",
   "execution_count": null,
   "metadata": {
    "collapsed": true
   },
   "outputs": [],
   "source": [
    "#create dataframe its like creating many series(1 series corresponding to one row)\n"
   ]
  }
 ],
 "metadata": {
  "kernelspec": {
   "display_name": "Python 3",
   "language": "python",
   "name": "python3"
  },
  "language_info": {
   "codemirror_mode": {
    "name": "ipython",
    "version": 3
   },
   "file_extension": ".py",
   "mimetype": "text/x-python",
   "name": "python",
   "nbconvert_exporter": "python",
   "pygments_lexer": "ipython3",
   "version": "3.6.1"
  }
 },
 "nbformat": 4,
 "nbformat_minor": 2
}
